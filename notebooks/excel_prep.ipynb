{
 "cells": [
  {
   "cell_type": "code",
   "execution_count": 1,
   "metadata": {},
   "outputs": [],
   "source": [
    "from pathlib import Path\n",
    "import pandas as pd\n",
    "import numpy as np\n",
    "\n",
    "PATH = Path.cwd().parent.joinpath('data')"
   ]
  },
  {
   "cell_type": "code",
   "execution_count": 31,
   "metadata": {},
   "outputs": [],
   "source": [
    "vessels = pd.read_csv(PATH.joinpath('processed', 'kse_shadowfleet.csv'))\n"
   ]
  },
  {
   "cell_type": "code",
   "execution_count": 32,
   "metadata": {},
   "outputs": [
    {
     "data": {
      "text/plain": [
       "637"
      ]
     },
     "execution_count": 32,
     "metadata": {},
     "output_type": "execute_result"
    }
   ],
   "source": [
    "cols = [x for x in vessels.columns if '-202' in x]\n",
    "\n",
    "crude = vessels[vessels.commodity == 'crude'].copy()\n",
    "crude['crude_total'] = crude[cols].sum(axis=1)\n",
    "crude['months_uninsured'] = crude[cols].isna().sum(axis=1)\n",
    "\n",
    "products = vessels[vessels.commodity == 'oil products'].copy()\n",
    "products['products_total'] = products[cols].sum(axis=1)\n",
    "products['months_uninsured'] = products[cols].isna().sum(axis=1)\n",
    "\n",
    "crude = crude[['imo', 'vessel_name', 'tanker_size', 'buildyear', 'crude_total', 'months_uninsured']].copy()\n",
    "products = products[['imo', 'vessel_name', 'tanker_size', 'buildyear', 'products_total', 'months_uninsured']].copy()\n",
    "\n",
    "vessels = pd.merge(crude, \n",
    "                   products, \n",
    "                   on=['imo', 'vessel_name', 'tanker_size', 'buildyear'], how='outer')\n",
    "\n",
    "vessels.months_uninsured_x = vessels.months_uninsured_x.fillna(vessels.months_uninsured_y)\n",
    "vessels.drop('months_uninsured_y', axis=1, inplace=True)\n",
    "vessels.rename(columns={'months_uninsured_x': 'months_uninsured'}, inplace=True)\n",
    "vessels.months_uninsured = vessels.months_uninsured.astype(int)\n",
    "vessels = pd.merge(vessels,\n",
    "                   pd.read_csv(PATH.joinpath('processed', 'uninsured.csv')),\n",
    "                   on='imo', how='left')\n",
    "\n",
    "vessels.sort_values(by='earliest_sanction_date', inplace=True)\n",
    "vessels.drop_duplicates(subset='imo', keep='first', inplace=True)\n",
    "len(vessels)\n"
   ]
  },
  {
   "cell_type": "code",
   "execution_count": 33,
   "metadata": {},
   "outputs": [
    {
     "data": {
      "text/plain": [
       "3171"
      ]
     },
     "execution_count": 33,
     "metadata": {},
     "output_type": "execute_result"
    }
   ],
   "source": [
    "owners = pd.read_csv(PATH.joinpath('processed', 'ownership_changes_end_after_2022.csv'))\n",
    "len(owners)"
   ]
  },
  {
   "cell_type": "code",
   "execution_count": 37,
   "metadata": {},
   "outputs": [
    {
     "data": {
      "text/plain": [
       "637"
      ]
     },
     "execution_count": 37,
     "metadata": {},
     "output_type": "execute_result"
    }
   ],
   "source": [
    "roles = ['Registered owner', 'Ship manager / Commercial manager', 'ISM Manager']\n",
    "col_names = ['ownership', 'shipmanager', 'ism_manager']\n",
    "\n",
    "for r, n in zip(roles, col_names):\n",
    "\n",
    "    temp_owners = owners[owners.role==r].groupby('imo').size().reset_index()\n",
    "    temp_owners.columns = ['imo', f'{n}_changes_after_2022']\n",
    "    vessels = pd.merge(vessels,\n",
    "                       temp_owners,\n",
    "                       on='imo', \n",
    "                       how='left')\n",
    "len(vessels)"
   ]
  },
  {
   "cell_type": "code",
   "execution_count": null,
   "metadata": {},
   "outputs": [],
   "source": []
  }
 ],
 "metadata": {
  "kernelspec": {
   "display_name": "geo",
   "language": "python",
   "name": "geo"
  },
  "language_info": {
   "codemirror_mode": {
    "name": "ipython",
    "version": 3
   },
   "file_extension": ".py",
   "mimetype": "text/x-python",
   "name": "python",
   "nbconvert_exporter": "python",
   "pygments_lexer": "ipython3",
   "version": "3.9.18"
  }
 },
 "nbformat": 4,
 "nbformat_minor": 2
}

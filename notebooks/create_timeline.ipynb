{
 "cells": [
  {
   "cell_type": "code",
   "execution_count": 1,
   "metadata": {},
   "outputs": [],
   "source": [
    "import pandas as pd\n",
    "from pathlib import Path\n",
    "import geopandas as gpd\n",
    "from zipfile import ZipFile\n",
    "\n",
    "PATH = Path.cwd().parent.joinpath('data')"
   ]
  },
  {
   "cell_type": "markdown",
   "metadata": {},
   "source": [
    "# Goal\n",
    "\n",
    "Create dataframe of a timeline with the following columns:\n",
    "0. Date\n",
    "1. IMO\n",
    "2. Event, which could be:\n",
    "    - name change\n",
    "    - flag change\n",
    "    - owner/manager change\n",
    "    - port visit\n",
    "    - loitering event\n",
    "    - ais gap\n",
    "    - sts area\n",
    "    - inspection\n",
    "3. Description: changed name from .. to .., changed flag from .. to .., changed owner from .. to .., visited port .., turned AIS off, turned AIS on, visited sts area, left sts area, inspected at, found x defeciencies and was/was not held in detention\n",
    "4. Type: flag_change, name_change, owner_change, ssvid_change, port_arrival, port_departure, loitering_start, loitering_stop, ais_off_switching, ais_on_switching, inspection. \n",
    "5. latitude\n",
    "6. longitude\n",
    "\n",
    "From 2022 onwards\n"
   ]
  },
  {
   "cell_type": "markdown",
   "metadata": {},
   "source": [
    "### Name changes"
   ]
  },
  {
   "cell_type": "code",
   "execution_count": 2,
   "metadata": {},
   "outputs": [
    {
     "data": {
      "text/html": [
       "<div>\n",
       "<style scoped>\n",
       "    .dataframe tbody tr th:only-of-type {\n",
       "        vertical-align: middle;\n",
       "    }\n",
       "\n",
       "    .dataframe tbody tr th {\n",
       "        vertical-align: top;\n",
       "    }\n",
       "\n",
       "    .dataframe thead th {\n",
       "        text-align: right;\n",
       "    }\n",
       "</style>\n",
       "<table border=\"1\" class=\"dataframe\">\n",
       "  <thead>\n",
       "    <tr style=\"text-align: right;\">\n",
       "      <th></th>\n",
       "      <th>date</th>\n",
       "      <th>imo</th>\n",
       "      <th>description</th>\n",
       "      <th>type</th>\n",
       "    </tr>\n",
       "  </thead>\n",
       "  <tbody>\n",
       "    <tr>\n",
       "      <th>0</th>\n",
       "      <td>2024-09-01</td>\n",
       "      <td>9577082</td>\n",
       "      <td>Vessel name changed from SCF PRIME to PREMIER</td>\n",
       "      <td>vessel_name_change</td>\n",
       "    </tr>\n",
       "    <tr>\n",
       "      <th>1</th>\n",
       "      <td>2024-09-01</td>\n",
       "      <td>9286657</td>\n",
       "      <td>Vessel name changed from DYNAMIK TRADER to LOK...</td>\n",
       "      <td>vessel_name_change</td>\n",
       "    </tr>\n",
       "    <tr>\n",
       "      <th>2</th>\n",
       "      <td>2024-09-01</td>\n",
       "      <td>9206671</td>\n",
       "      <td>Vessel name changed from ELBRUS to RANGLER</td>\n",
       "      <td>vessel_name_change</td>\n",
       "    </tr>\n",
       "    <tr>\n",
       "      <th>3</th>\n",
       "      <td>2024-09-01</td>\n",
       "      <td>9413561</td>\n",
       "      <td>Vessel name changed from NS ASIA to ALLIANCE</td>\n",
       "      <td>vessel_name_change</td>\n",
       "    </tr>\n",
       "    <tr>\n",
       "      <th>4</th>\n",
       "      <td>2024-09-01</td>\n",
       "      <td>9332614</td>\n",
       "      <td>Vessel name changed from SRINI to BELLARIS</td>\n",
       "      <td>vessel_name_change</td>\n",
       "    </tr>\n",
       "  </tbody>\n",
       "</table>\n",
       "</div>"
      ],
      "text/plain": [
       "        date      imo                                        description  \\\n",
       "0 2024-09-01  9577082      Vessel name changed from SCF PRIME to PREMIER   \n",
       "1 2024-09-01  9286657  Vessel name changed from DYNAMIK TRADER to LOK...   \n",
       "2 2024-09-01  9206671         Vessel name changed from ELBRUS to RANGLER   \n",
       "3 2024-09-01  9413561       Vessel name changed from NS ASIA to ALLIANCE   \n",
       "4 2024-09-01  9332614         Vessel name changed from SRINI to BELLARIS   \n",
       "\n",
       "                 type  \n",
       "0  vessel_name_change  \n",
       "1  vessel_name_change  \n",
       "2  vessel_name_change  \n",
       "3  vessel_name_change  \n",
       "4  vessel_name_change  "
      ]
     },
     "execution_count": 2,
     "metadata": {},
     "output_type": "execute_result"
    }
   ],
   "source": [
    "names = pd.read_csv(PATH.joinpath('processed', 'owners_names.csv'))\n",
    "names = names[['start_date', 'imo', 'vessel_name']].copy()\n",
    "names.rename(columns={'start_date': 'date'}, inplace=True)\n",
    "names['date'] = pd.to_datetime(names['date'])\n",
    "names.sort_values(by='date', ascending=False, inplace=True)\n",
    "names.reset_index(drop=True, inplace=True)\n",
    "names['previous_name'] = names.groupby('imo').vessel_name.shift(-1).fillna('UNKNOWN')\n",
    "names.query('date >= \"2022-01-01\"', inplace=True)\n",
    "names['description'] = names.apply(lambda row: f'Vessel name changed from {row.previous_name.upper()} to {row.vessel_name}', axis=1)\n",
    "names.drop(columns='previous_name', inplace=True)\n",
    "names['type'] = 'vessel_name_change'\n",
    "names.drop('vessel_name', axis=1, inplace=True)\n",
    "names.head()"
   ]
  },
  {
   "cell_type": "markdown",
   "metadata": {},
   "source": [
    "### Flag changes"
   ]
  },
  {
   "cell_type": "code",
   "execution_count": 3,
   "metadata": {},
   "outputs": [
    {
     "data": {
      "text/html": [
       "<div>\n",
       "<style scoped>\n",
       "    .dataframe tbody tr th:only-of-type {\n",
       "        vertical-align: middle;\n",
       "    }\n",
       "\n",
       "    .dataframe tbody tr th {\n",
       "        vertical-align: top;\n",
       "    }\n",
       "\n",
       "    .dataframe thead th {\n",
       "        text-align: right;\n",
       "    }\n",
       "</style>\n",
       "<table border=\"1\" class=\"dataframe\">\n",
       "  <thead>\n",
       "    <tr style=\"text-align: right;\">\n",
       "      <th></th>\n",
       "      <th>date</th>\n",
       "      <th>imo</th>\n",
       "      <th>flag</th>\n",
       "      <th>description</th>\n",
       "      <th>type</th>\n",
       "    </tr>\n",
       "  </thead>\n",
       "  <tbody>\n",
       "    <tr>\n",
       "      <th>0</th>\n",
       "      <td>2024-09-01</td>\n",
       "      <td>9194983</td>\n",
       "      <td>UNKNOWN</td>\n",
       "      <td>Vessel flag changed from PANAMA to UNKNOWN</td>\n",
       "      <td>vessel_flag_change</td>\n",
       "    </tr>\n",
       "    <tr>\n",
       "      <th>1</th>\n",
       "      <td>2024-09-01</td>\n",
       "      <td>9286657</td>\n",
       "      <td>BARBADOS</td>\n",
       "      <td>Vessel flag changed from COOK ISLANDS to BARBADOS</td>\n",
       "      <td>vessel_flag_change</td>\n",
       "    </tr>\n",
       "    <tr>\n",
       "      <th>2</th>\n",
       "      <td>2024-09-01</td>\n",
       "      <td>9288708</td>\n",
       "      <td>HONDURAS</td>\n",
       "      <td>Vessel flag changed from COOK ISLANDS to HONDURAS</td>\n",
       "      <td>vessel_flag_change</td>\n",
       "    </tr>\n",
       "    <tr>\n",
       "      <th>3</th>\n",
       "      <td>2024-09-01</td>\n",
       "      <td>9382798</td>\n",
       "      <td>BARBADOS</td>\n",
       "      <td>Vessel flag changed from GABON to BARBADOS</td>\n",
       "      <td>vessel_flag_change</td>\n",
       "    </tr>\n",
       "    <tr>\n",
       "      <th>4</th>\n",
       "      <td>2024-09-01</td>\n",
       "      <td>9272931</td>\n",
       "      <td>GABON</td>\n",
       "      <td>Vessel flag changed from COOK ISLANDS to GABON</td>\n",
       "      <td>vessel_flag_change</td>\n",
       "    </tr>\n",
       "  </tbody>\n",
       "</table>\n",
       "</div>"
      ],
      "text/plain": [
       "        date      imo      flag  \\\n",
       "0 2024-09-01  9194983   UNKNOWN   \n",
       "1 2024-09-01  9286657  BARBADOS   \n",
       "2 2024-09-01  9288708  HONDURAS   \n",
       "3 2024-09-01  9382798  BARBADOS   \n",
       "4 2024-09-01  9272931     GABON   \n",
       "\n",
       "                                         description                type  \n",
       "0         Vessel flag changed from PANAMA to UNKNOWN  vessel_flag_change  \n",
       "1  Vessel flag changed from COOK ISLANDS to BARBADOS  vessel_flag_change  \n",
       "2  Vessel flag changed from COOK ISLANDS to HONDURAS  vessel_flag_change  \n",
       "3         Vessel flag changed from GABON to BARBADOS  vessel_flag_change  \n",
       "4     Vessel flag changed from COOK ISLANDS to GABON  vessel_flag_change  "
      ]
     },
     "execution_count": 3,
     "metadata": {},
     "output_type": "execute_result"
    }
   ],
   "source": [
    "flags = pd.read_csv(PATH.joinpath('processed', 'owners_flags.csv'))\n",
    "flags.start_date = pd.to_datetime(flags.start_date)\n",
    "flags.sort_values(by='start_date', ascending=False, inplace=True)\n",
    "flags.reset_index(drop=True, inplace=True)\n",
    "flags.flag = flags.flag.str.replace('Not Known', 'UNKNOWN').str.upper()\n",
    "flags['previous_flag'] = flags.groupby('imo').flag.shift(-1).fillna('UNKNOWN')\n",
    "flags['description'] = flags.apply(lambda row: f'Vessel flag changed from {row.previous_flag.upper()} to {row.flag}', axis=1)\n",
    "flags = flags[['start_date', 'imo', 'flag', 'description']].copy()\n",
    "flags.rename(columns={'start_date': 'date'}, inplace=True)\n",
    "flags.query('date >= \"2022-01-01\"', inplace=True)\n",
    "flags['type'] = 'vessel_flag_change'\n",
    "flags.head()"
   ]
  },
  {
   "cell_type": "markdown",
   "metadata": {},
   "source": [
    "### Ownership changes"
   ]
  },
  {
   "cell_type": "code",
   "execution_count": 4,
   "metadata": {},
   "outputs": [
    {
     "data": {
      "text/html": [
       "<div>\n",
       "<style scoped>\n",
       "    .dataframe tbody tr th:only-of-type {\n",
       "        vertical-align: middle;\n",
       "    }\n",
       "\n",
       "    .dataframe tbody tr th {\n",
       "        vertical-align: top;\n",
       "    }\n",
       "\n",
       "    .dataframe thead th {\n",
       "        text-align: right;\n",
       "    }\n",
       "</style>\n",
       "<table border=\"1\" class=\"dataframe\">\n",
       "  <thead>\n",
       "    <tr style=\"text-align: right;\">\n",
       "      <th></th>\n",
       "      <th>date</th>\n",
       "      <th>imo</th>\n",
       "      <th>company</th>\n",
       "      <th>description</th>\n",
       "      <th>type</th>\n",
       "    </tr>\n",
       "  </thead>\n",
       "  <tbody>\n",
       "    <tr>\n",
       "      <th>0</th>\n",
       "      <td>2024-09-27</td>\n",
       "      <td>9316127</td>\n",
       "      <td>RPTD SOLD UNDISCLOSED INTEREST</td>\n",
       "      <td>Vessel REGISTERED OWNER changed from ANGELIC S...</td>\n",
       "      <td>vessel_owner_change</td>\n",
       "    </tr>\n",
       "    <tr>\n",
       "      <th>1</th>\n",
       "      <td>2024-09-27</td>\n",
       "      <td>9316127</td>\n",
       "      <td>UNKNOWN</td>\n",
       "      <td>Vessel ISM MANAGER changed from STREAM SHIP MA...</td>\n",
       "      <td>vessel_owner_change</td>\n",
       "    </tr>\n",
       "    <tr>\n",
       "      <th>2</th>\n",
       "      <td>2024-09-27</td>\n",
       "      <td>9316127</td>\n",
       "      <td>RPTD SOLD UNDISCLOSED INTEREST</td>\n",
       "      <td>Vessel SHIP MANAGER / COMMERCIAL MANAGER chang...</td>\n",
       "      <td>vessel_owner_change</td>\n",
       "    </tr>\n",
       "    <tr>\n",
       "      <th>3</th>\n",
       "      <td>2024-09-25</td>\n",
       "      <td>9493377</td>\n",
       "      <td>AKBASOGLU FOREIGN TRADE &amp; SHIP</td>\n",
       "      <td>Vessel REGISTERED OWNER changed from THRACIA S...</td>\n",
       "      <td>vessel_owner_change</td>\n",
       "    </tr>\n",
       "    <tr>\n",
       "      <th>4</th>\n",
       "      <td>2024-09-23</td>\n",
       "      <td>9327372</td>\n",
       "      <td>UNKNOWN</td>\n",
       "      <td>Vessel ISM MANAGER changed from ARK SEAKONNECT...</td>\n",
       "      <td>vessel_owner_change</td>\n",
       "    </tr>\n",
       "  </tbody>\n",
       "</table>\n",
       "</div>"
      ],
      "text/plain": [
       "        date      imo                         company  \\\n",
       "0 2024-09-27  9316127  RPTD SOLD UNDISCLOSED INTEREST   \n",
       "1 2024-09-27  9316127                         UNKNOWN   \n",
       "2 2024-09-27  9316127  RPTD SOLD UNDISCLOSED INTEREST   \n",
       "3 2024-09-25  9493377  AKBASOGLU FOREIGN TRADE & SHIP   \n",
       "4 2024-09-23  9327372                         UNKNOWN   \n",
       "\n",
       "                                         description                 type  \n",
       "0  Vessel REGISTERED OWNER changed from ANGELIC S...  vessel_owner_change  \n",
       "1  Vessel ISM MANAGER changed from STREAM SHIP MA...  vessel_owner_change  \n",
       "2  Vessel SHIP MANAGER / COMMERCIAL MANAGER chang...  vessel_owner_change  \n",
       "3  Vessel REGISTERED OWNER changed from THRACIA S...  vessel_owner_change  \n",
       "4  Vessel ISM MANAGER changed from ARK SEAKONNECT...  vessel_owner_change  "
      ]
     },
     "execution_count": 4,
     "metadata": {},
     "output_type": "execute_result"
    }
   ],
   "source": [
    "owners = pd.read_csv(PATH.joinpath('processed', 'owners_companies.csv'))\n",
    "owners.start_date = pd.to_datetime(owners.start_date)\n",
    "owners.sort_values(by='start_date', ascending=False, inplace=True)\n",
    "owners.reset_index(drop=True, inplace=True)\n",
    "owners['previous_owner'] = owners.groupby(['imo', 'role']).company.shift(-1).fillna('UNKNOWN')\n",
    "owners['description'] = owners.apply(lambda row: f'Vessel {row.role.upper()} changed from {row.previous_owner.upper()} to {row.company}', axis=1)\n",
    "owners = owners[['start_date', 'imo', 'company', 'description']].copy()\n",
    "owners.rename(columns={'start_date': 'date'}, inplace=True)\n",
    "owners.query('date >= \"2022-01-01\"', inplace=True)\n",
    "owners['type']= 'vessel_owner_change'\n",
    "owners.head()"
   ]
  },
  {
   "cell_type": "markdown",
   "metadata": {},
   "source": [
    "### Inspections"
   ]
  },
  {
   "cell_type": "code",
   "execution_count": 60,
   "metadata": {},
   "outputs": [
    {
     "data": {
      "text/html": [
       "<div>\n",
       "<style scoped>\n",
       "    .dataframe tbody tr th:only-of-type {\n",
       "        vertical-align: middle;\n",
       "    }\n",
       "\n",
       "    .dataframe tbody tr th {\n",
       "        vertical-align: top;\n",
       "    }\n",
       "\n",
       "    .dataframe thead th {\n",
       "        text-align: right;\n",
       "    }\n",
       "</style>\n",
       "<table border=\"1\" class=\"dataframe\">\n",
       "  <thead>\n",
       "    <tr style=\"text-align: right;\">\n",
       "      <th></th>\n",
       "      <th>date</th>\n",
       "      <th>imo</th>\n",
       "      <th>description</th>\n",
       "      <th>type</th>\n",
       "    </tr>\n",
       "  </thead>\n",
       "  <tbody>\n",
       "    <tr>\n",
       "      <th>0</th>\n",
       "      <td>2024-09-23</td>\n",
       "      <td>9208124</td>\n",
       "      <td>Vessel inspected in EL DEKHEILA in EGYPT and M...</td>\n",
       "      <td>vessel_inspection</td>\n",
       "    </tr>\n",
       "    <tr>\n",
       "      <th>1</th>\n",
       "      <td>2024-09-19</td>\n",
       "      <td>9275763</td>\n",
       "      <td>Vessel inspected in GDYNIA in POLAND and Expan...</td>\n",
       "      <td>vessel_inspection</td>\n",
       "    </tr>\n",
       "    <tr>\n",
       "      <th>2</th>\n",
       "      <td>2024-09-11</td>\n",
       "      <td>9291250</td>\n",
       "      <td>Vessel inspected in MANGLORE in INDIA and Init...</td>\n",
       "      <td>vessel_inspection</td>\n",
       "    </tr>\n",
       "    <tr>\n",
       "      <th>3</th>\n",
       "      <td>2024-09-10</td>\n",
       "      <td>9273442</td>\n",
       "      <td>Vessel inspected in KOCAELI in TURKEY and More...</td>\n",
       "      <td>vessel_inspection</td>\n",
       "    </tr>\n",
       "    <tr>\n",
       "      <th>4</th>\n",
       "      <td>2024-09-10</td>\n",
       "      <td>9749154</td>\n",
       "      <td>Vessel inspected in MERSIN in TURKEY and Initi...</td>\n",
       "      <td>vessel_inspection</td>\n",
       "    </tr>\n",
       "  </tbody>\n",
       "</table>\n",
       "</div>"
      ],
      "text/plain": [
       "        date      imo                                        description  \\\n",
       "0 2024-09-23  9208124  Vessel inspected in EL DEKHEILA in EGYPT and M...   \n",
       "1 2024-09-19  9275763  Vessel inspected in GDYNIA in POLAND and Expan...   \n",
       "2 2024-09-11  9291250  Vessel inspected in MANGLORE in INDIA and Init...   \n",
       "3 2024-09-10  9273442  Vessel inspected in KOCAELI in TURKEY and More...   \n",
       "4 2024-09-10  9749154  Vessel inspected in MERSIN in TURKEY and Initi...   \n",
       "\n",
       "                type  \n",
       "0  vessel_inspection  \n",
       "1  vessel_inspection  \n",
       "2  vessel_inspection  \n",
       "3  vessel_inspection  \n",
       "4  vessel_inspection  "
      ]
     },
     "execution_count": 60,
     "metadata": {},
     "output_type": "execute_result"
    }
   ],
   "source": [
    "inspections = pd.read_csv(PATH.joinpath('processed', 'owners_inspections.csv'))\n",
    "inspections.date = pd.to_datetime(inspections.date)\n",
    "inspections.sort_values(by='date', ascending=False, inplace=True)\n",
    "inspections.reset_index(drop=True, inplace=True)\n",
    "inspections[['authority', 'port']] = inspections[['authority', 'port']].fillna('UNKNOWN')\n",
    "inspections['description'] = inspections.apply(lambda row: f'Vessel inspected in {row.port.upper()} in {row.authority.upper()} and {row.inspection_type} found {row.number_of_deficiencies} deficiencies. Detention={row.detention}', axis=1)\n",
    "inspections = inspections[['date', 'imo', 'description']].copy()\n",
    "inspections['type'] = 'vessel_inspection'\n",
    "inspections.query('date >= \"2022-01-01\"', inplace=True)\n",
    "inspections.head()"
   ]
  },
  {
   "cell_type": "code",
   "execution_count": 11,
   "metadata": {},
   "outputs": [
    {
     "name": "stdout",
     "output_type": "stream",
     "text": [
      "<class 'pandas.core.frame.DataFrame'>\n",
      "Index: 24439882 entries, 30649 to 34131\n",
      "Data columns (total 7 columns):\n",
      " #   Column     Dtype              \n",
      "---  ------     -----              \n",
      " 0   lon        float64            \n",
      " 1   lat        float64            \n",
      " 2   course     float64            \n",
      " 3   timestamp  datetime64[ns, UTC]\n",
      " 4   speed      float64            \n",
      " 5   imo        int64              \n",
      " 6   shipname   object             \n",
      "dtypes: datetime64[ns, UTC](1), float64(4), int64(1), object(1)\n",
      "memory usage: 1.5+ GB\n"
     ]
    }
   ],
   "source": [
    "location_data = pd.read_parquet(PATH.joinpath('processed', 'tracks.parquet'))\n",
    "location_data.info()"
   ]
  },
  {
   "cell_type": "code",
   "execution_count": 36,
   "metadata": {},
   "outputs": [],
   "source": [
    "#### Add location data to dataframes\n",
    "\n",
    "def get_middle_timestamp(group):\n",
    "    sorted_group = group.sort_values(by='timestamp').reset_index(drop=True)\n",
    "    middle_index = len(sorted_group) // 2\n",
    "    return sorted_group.loc[middle_index]\n",
    "\n",
    "def process_location_data(tracks, imo):\n",
    "    filtered_location_date = tracks.query(f'imo == {imo}').copy()\n",
    "    filtered_location_date['date'] = pd.to_datetime(filtered_location_date['timestamp']).dt.date\n",
    "    middle_timestamps = filtered_location_date.groupby(['imo', 'date']).apply(get_middle_timestamp, include_groups=False)\n",
    "\n",
    "    return middle_timestamps\n",
    "\n",
    "unique_imos = names.imo.unique()\n",
    "location_date_processed = pd.concat([process_location_data(location_data, imo) for imo in unique_imos])\n",
    "location_date_processed.reset_index(inplace=True)\n",
    "location_date_processed.date = pd.to_datetime(location_date_processed.date)\n",
    "\n"
   ]
  },
  {
   "cell_type": "code",
   "execution_count": 63,
   "metadata": {},
   "outputs": [
    {
     "data": {
      "text/plain": [
       "3204"
      ]
     },
     "execution_count": 63,
     "metadata": {},
     "output_type": "execute_result"
    }
   ],
   "source": [
    "events = owners\n",
    "\n",
    "merged_df = pd.merge(events, location_date_processed[['timestamp', 'imo', 'lat', 'lon', 'date']], on=['imo', 'date'], how='left')\n",
    "len(merged_df)"
   ]
  },
  {
   "cell_type": "code",
   "execution_count": 64,
   "metadata": {},
   "outputs": [
    {
     "data": {
      "text/plain": [
       "401"
      ]
     },
     "execution_count": 64,
     "metadata": {},
     "output_type": "execute_result"
    }
   ],
   "source": [
    "merged_df[merged_df.timestamp.isna()].imo.nunique()"
   ]
  },
  {
   "cell_type": "code",
   "execution_count": 65,
   "metadata": {},
   "outputs": [
    {
     "data": {
      "text/html": [
       "<div>\n",
       "<style scoped>\n",
       "    .dataframe tbody tr th:only-of-type {\n",
       "        vertical-align: middle;\n",
       "    }\n",
       "\n",
       "    .dataframe tbody tr th {\n",
       "        vertical-align: top;\n",
       "    }\n",
       "\n",
       "    .dataframe thead th {\n",
       "        text-align: right;\n",
       "    }\n",
       "</style>\n",
       "<table border=\"1\" class=\"dataframe\">\n",
       "  <thead>\n",
       "    <tr style=\"text-align: right;\">\n",
       "      <th></th>\n",
       "      <th>date</th>\n",
       "      <th>imo</th>\n",
       "      <th>company</th>\n",
       "      <th>description</th>\n",
       "      <th>type</th>\n",
       "      <th>timestamp</th>\n",
       "      <th>lat</th>\n",
       "      <th>lon</th>\n",
       "    </tr>\n",
       "  </thead>\n",
       "  <tbody>\n",
       "    <tr>\n",
       "      <th>0</th>\n",
       "      <td>2024-09-27</td>\n",
       "      <td>9316127</td>\n",
       "      <td>RPTD SOLD UNDISCLOSED INTEREST</td>\n",
       "      <td>Vessel REGISTERED OWNER changed from ANGELIC S...</td>\n",
       "      <td>vessel_owner_change</td>\n",
       "      <td>NaT</td>\n",
       "      <td>NaN</td>\n",
       "      <td>NaN</td>\n",
       "    </tr>\n",
       "    <tr>\n",
       "      <th>1</th>\n",
       "      <td>2024-09-27</td>\n",
       "      <td>9316127</td>\n",
       "      <td>UNKNOWN</td>\n",
       "      <td>Vessel ISM MANAGER changed from STREAM SHIP MA...</td>\n",
       "      <td>vessel_owner_change</td>\n",
       "      <td>NaT</td>\n",
       "      <td>NaN</td>\n",
       "      <td>NaN</td>\n",
       "    </tr>\n",
       "    <tr>\n",
       "      <th>2</th>\n",
       "      <td>2024-09-27</td>\n",
       "      <td>9316127</td>\n",
       "      <td>RPTD SOLD UNDISCLOSED INTEREST</td>\n",
       "      <td>Vessel SHIP MANAGER / COMMERCIAL MANAGER chang...</td>\n",
       "      <td>vessel_owner_change</td>\n",
       "      <td>NaT</td>\n",
       "      <td>NaN</td>\n",
       "      <td>NaN</td>\n",
       "    </tr>\n",
       "    <tr>\n",
       "      <th>3</th>\n",
       "      <td>2024-09-25</td>\n",
       "      <td>9493377</td>\n",
       "      <td>AKBASOGLU FOREIGN TRADE &amp; SHIP</td>\n",
       "      <td>Vessel REGISTERED OWNER changed from THRACIA S...</td>\n",
       "      <td>vessel_owner_change</td>\n",
       "      <td>2024-09-25 12:02:09+00:00</td>\n",
       "      <td>40.959997</td>\n",
       "      <td>28.747153</td>\n",
       "    </tr>\n",
       "    <tr>\n",
       "      <th>4</th>\n",
       "      <td>2024-09-23</td>\n",
       "      <td>9327372</td>\n",
       "      <td>UNKNOWN</td>\n",
       "      <td>Vessel ISM MANAGER changed from ARK SEAKONNECT...</td>\n",
       "      <td>vessel_owner_change</td>\n",
       "      <td>NaT</td>\n",
       "      <td>NaN</td>\n",
       "      <td>NaN</td>\n",
       "    </tr>\n",
       "  </tbody>\n",
       "</table>\n",
       "</div>"
      ],
      "text/plain": [
       "        date      imo                         company  \\\n",
       "0 2024-09-27  9316127  RPTD SOLD UNDISCLOSED INTEREST   \n",
       "1 2024-09-27  9316127                         UNKNOWN   \n",
       "2 2024-09-27  9316127  RPTD SOLD UNDISCLOSED INTEREST   \n",
       "3 2024-09-25  9493377  AKBASOGLU FOREIGN TRADE & SHIP   \n",
       "4 2024-09-23  9327372                         UNKNOWN   \n",
       "\n",
       "                                         description                 type  \\\n",
       "0  Vessel REGISTERED OWNER changed from ANGELIC S...  vessel_owner_change   \n",
       "1  Vessel ISM MANAGER changed from STREAM SHIP MA...  vessel_owner_change   \n",
       "2  Vessel SHIP MANAGER / COMMERCIAL MANAGER chang...  vessel_owner_change   \n",
       "3  Vessel REGISTERED OWNER changed from THRACIA S...  vessel_owner_change   \n",
       "4  Vessel ISM MANAGER changed from ARK SEAKONNECT...  vessel_owner_change   \n",
       "\n",
       "                  timestamp        lat        lon  \n",
       "0                       NaT        NaN        NaN  \n",
       "1                       NaT        NaN        NaN  \n",
       "2                       NaT        NaN        NaN  \n",
       "3 2024-09-25 12:02:09+00:00  40.959997  28.747153  \n",
       "4                       NaT        NaN        NaN  "
      ]
     },
     "execution_count": 65,
     "metadata": {},
     "output_type": "execute_result"
    }
   ],
   "source": [
    "merged_df.head()"
   ]
  },
  {
   "cell_type": "code",
   "execution_count": 49,
   "metadata": {},
   "outputs": [
    {
     "data": {
      "text/plain": [
       "Timestamp('2023-11-29 13:19:15+0000', tz='UTC')"
      ]
     },
     "execution_count": 49,
     "metadata": {},
     "output_type": "execute_result"
    }
   ],
   "source": [
    "location_data.query('imo == 9315745').timestamp.min()"
   ]
  },
  {
   "cell_type": "markdown",
   "metadata": {},
   "source": [
    "### Port visits"
   ]
  },
  {
   "cell_type": "code",
   "execution_count": null,
   "metadata": {},
   "outputs": [],
   "source": [
    "ports = pd.read_parquet(PATH.joinpath('processed', 'ports.parquet'))\n",
    "ports_start = ports[['imo', 'start', 'lat', 'lon', 'port_visit_startAnchorage_id']].copy()\n",
    "ports_end = ports[['imo', 'end', 'lat', 'lon', 'port_visit_startAnchorage_id']].copy()\n",
    "ports_start.rename(columns={'start': 'date', 'port_visit_startAnchorage_id': 'port'}, inplace=True)\n",
    "ports_end.rename(columns={'end': 'date', 'port_visit_startAnchorage_id': 'port'}, inplace=True)\n",
    "ports_start['type'] = 'port_arrival'\n",
    "ports_end['type'] = 'port_departure'\n",
    "ports = pd.concat([ports_start, ports_end]).reset_index(drop=True)\n",
    "ports.query('date >= \"2022-01-01\"', inplace=True)\n",
    "ports['date'] = pd.to_datetime(ports.date).dt.date\n",
    "ports['description'] = ports.apply(lambda row: f'Vessel arrived to {row.port.upper()}' if row.type == 'port_arrival' else f'Vessel departed from {row.port.upper()}', axis=1)\n",
    "ports.drop(columns='port', inplace=True)\n",
    "ports.head()"
   ]
  },
  {
   "cell_type": "markdown",
   "metadata": {},
   "source": [
    "### Loitering"
   ]
  },
  {
   "cell_type": "code",
   "execution_count": null,
   "metadata": {},
   "outputs": [],
   "source": [
    "loitering = pd.read_parquet(PATH.joinpath('processed', 'loitering.parquet'))\n",
    "loitering_start = loitering[['imo', 'start', 'lat', 'lon']].copy()\n",
    "loitering_end = loitering[['imo', 'end', 'lat', 'lon']].copy()\n",
    "loitering_start.rename(columns={'start': 'date'}, inplace=True)\n",
    "loitering_end.rename(columns={'end': 'date'}, inplace=True)\n",
    "loitering_start['type'] = 'loitering_start'\n",
    "loitering_end['type'] = 'loitering_end'\n",
    "loitering = pd.concat([loitering_start, loitering_end]).reset_index(drop=True)\n",
    "loitering.query('date >= \"2022-01-01\"', inplace=True)\n",
    "loitering['date'] = pd.to_datetime(loitering.date).dt.date\n",
    "loitering['description'] = loitering.apply(lambda row: 'Vessel started loitering' if row.type == 'loitering_start' else 'Vessel stopped loitering', axis=1)\n",
    "loitering['type'] = 'loitering'\n",
    "loitering.sample(4)"
   ]
  },
  {
   "cell_type": "markdown",
   "metadata": {},
   "source": [
    "### AIS gaps"
   ]
  },
  {
   "cell_type": "code",
   "execution_count": null,
   "metadata": {},
   "outputs": [],
   "source": [
    "ais = pd.read_parquet(PATH.joinpath('processed', 'ais.parquet'))\n",
    "ais_start = ais[['imo', 'start', 'lat', 'lon']].copy()\n",
    "ais_end = ais[['imo', 'end', 'lat', 'lon']].copy()\n",
    "ais_start.rename(columns={'start': 'date'}, inplace=True)\n",
    "ais_end.rename(columns={'end': 'date'}, inplace=True)\n",
    "ais_start['type'] = 'possible_ais_off_switching'\n",
    "ais_end['type'] = 'possible_ais_on_switching'\n",
    "ais = pd.concat([ais_start, ais_end]).reset_index(drop=True)\n",
    "ais.query('date >= \"2022-01-01\"', inplace=True)\n",
    "ais['date'] = pd.to_datetime(ais.date).dt.date\n",
    "ais['description'] = ais.apply(lambda row: 'Vessel started broadcasting AIS' if row.type == 'ais_start' else 'Vessel stopped broadcasting AIS', axis=1)\n",
    "ais.head()"
   ]
  },
  {
   "cell_type": "markdown",
   "metadata": {},
   "source": [
    "### ship to ship transfers"
   ]
  },
  {
   "cell_type": "code",
   "execution_count": 2,
   "metadata": {},
   "outputs": [],
   "source": [
    "sts = pd.read_parquet(PATH.joinpath('processed', 'sts_tracks.parquet'))\n",
    "sts = gpd.GeoDataFrame(sts, geometry=gpd.points_from_xy(sts.lon, sts.lat), crs='EPSG:4326')\n",
    "sts_locations = gpd.read_file(PATH.joinpath('geo', 'sts_locations.geojson'), crs='EPSG:4326')\n",
    "sts = gpd.sjoin(sts, sts_locations, how='left', predicate='within')\n",
    "sts.drop(['index_right', 'geometry'], axis=1, inplace=True)\n",
    "sts.rename(columns={'Name': 'sts_area'}, inplace=True)\n",
    "sts.name = sts.name.str.upper().str.replace(' ', '').str.strip()\n",
    "\n",
    "sts['time_diff_days'] = sts.groupby(['name', 'sts_area']).timestamp.diff().dt.total_seconds() / (60*60*24)\n",
    "sts['group'] = (sts.time_diff_days > 7).cumsum()\n",
    "sts['group'] = sts.groupby(['name', 'sts_area', 'group']).group.ffill().fillna(0).astype(int)\n",
    "sts.sort_values(by=['group', 'timestamp'], inplace=True)\n",
    "\n"
   ]
  },
  {
   "cell_type": "code",
   "execution_count": 3,
   "metadata": {},
   "outputs": [],
   "source": [
    "time_range = sts.groupby(['group', 'name']).agg(min_timestamp=('timestamp', 'min'), max_timestamp=('timestamp', 'max'))\n",
    "time_range = (time_range['max_timestamp'] - time_range['min_timestamp']).dt.total_seconds() / (60*60*24)\n",
    "sts = pd.merge(sts, time_range.reset_index(), on=['group', 'name'], how='left')\n",
    "sts.rename(columns={sts.columns[-1]: 'time_range'}, inplace=True)\n"
   ]
  },
  {
   "cell_type": "code",
   "execution_count": 4,
   "metadata": {},
   "outputs": [],
   "source": [
    "sts_start = sts.drop_duplicates(subset='group', keep='first').copy()\n",
    "sts_end = sts.drop_duplicates(subset='group', keep='last').copy()\n",
    "sts_start['type'] = 'possible_sts_start'\n",
    "sts_end['type'] = 'possible_sts_end'\n",
    "\n",
    "sts = pd.concat([sts_start, sts_end]).reset_index(drop=True)\n",
    "\n",
    "sts.sort_values(by=['group', 'timestamp'], inplace=True)\n",
    "sts.query('timestamp >= \"2022-01-01\" & time_range > 1', inplace=True)"
   ]
  },
  {
   "cell_type": "code",
   "execution_count": 5,
   "metadata": {},
   "outputs": [],
   "source": [
    "sts = sts[['timestamp', 'lat', 'lon', 'sts_area', 'name', 'type', 'group']].copy()\n",
    "sts.rename(columns={'timestamp': 'date'}, inplace=True)"
   ]
  },
  {
   "cell_type": "code",
   "execution_count": 6,
   "metadata": {},
   "outputs": [
    {
     "data": {
      "text/html": [
       "<div>\n",
       "<style scoped>\n",
       "    .dataframe tbody tr th:only-of-type {\n",
       "        vertical-align: middle;\n",
       "    }\n",
       "\n",
       "    .dataframe tbody tr th {\n",
       "        vertical-align: top;\n",
       "    }\n",
       "\n",
       "    .dataframe thead th {\n",
       "        text-align: right;\n",
       "    }\n",
       "</style>\n",
       "<table border=\"1\" class=\"dataframe\">\n",
       "  <thead>\n",
       "    <tr style=\"text-align: right;\">\n",
       "      <th></th>\n",
       "      <th>date</th>\n",
       "      <th>lat</th>\n",
       "      <th>lon</th>\n",
       "      <th>sts_area</th>\n",
       "      <th>name</th>\n",
       "      <th>type</th>\n",
       "      <th>group</th>\n",
       "    </tr>\n",
       "  </thead>\n",
       "  <tbody>\n",
       "    <tr>\n",
       "      <th>128880</th>\n",
       "      <td>2023-12-31 14:45:17</td>\n",
       "      <td>35.823432</td>\n",
       "      <td>15.076980</td>\n",
       "      <td>Malta</td>\n",
       "      <td>HAMSI</td>\n",
       "      <td>possible_sts_end</td>\n",
       "      <td>49</td>\n",
       "    </tr>\n",
       "    <tr>\n",
       "      <th>128881</th>\n",
       "      <td>2023-12-31 15:07:47</td>\n",
       "      <td>35.851062</td>\n",
       "      <td>15.029367</td>\n",
       "      <td>Malta</td>\n",
       "      <td>HAMSI</td>\n",
       "      <td>possible_sts_end</td>\n",
       "      <td>50</td>\n",
       "    </tr>\n",
       "    <tr>\n",
       "      <th>128882</th>\n",
       "      <td>2023-12-31 15:31:16</td>\n",
       "      <td>35.881632</td>\n",
       "      <td>14.983393</td>\n",
       "      <td>Malta</td>\n",
       "      <td>HAMSI</td>\n",
       "      <td>possible_sts_end</td>\n",
       "      <td>51</td>\n",
       "    </tr>\n",
       "    <tr>\n",
       "      <th>128883</th>\n",
       "      <td>2023-12-31 15:56:26</td>\n",
       "      <td>35.908867</td>\n",
       "      <td>14.935710</td>\n",
       "      <td>Malta</td>\n",
       "      <td>HAMSI</td>\n",
       "      <td>possible_sts_end</td>\n",
       "      <td>52</td>\n",
       "    </tr>\n",
       "    <tr>\n",
       "      <th>128884</th>\n",
       "      <td>2024-01-03 01:27:27</td>\n",
       "      <td>35.914423</td>\n",
       "      <td>14.917985</td>\n",
       "      <td>Malta</td>\n",
       "      <td>HAMSI</td>\n",
       "      <td>possible_sts_end</td>\n",
       "      <td>53</td>\n",
       "    </tr>\n",
       "  </tbody>\n",
       "</table>\n",
       "</div>"
      ],
      "text/plain": [
       "                      date        lat        lon sts_area   name  \\\n",
       "128880 2023-12-31 14:45:17  35.823432  15.076980    Malta  HAMSI   \n",
       "128881 2023-12-31 15:07:47  35.851062  15.029367    Malta  HAMSI   \n",
       "128882 2023-12-31 15:31:16  35.881632  14.983393    Malta  HAMSI   \n",
       "128883 2023-12-31 15:56:26  35.908867  14.935710    Malta  HAMSI   \n",
       "128884 2024-01-03 01:27:27  35.914423  14.917985    Malta  HAMSI   \n",
       "\n",
       "                    type  group  \n",
       "128880  possible_sts_end     49  \n",
       "128881  possible_sts_end     50  \n",
       "128882  possible_sts_end     51  \n",
       "128883  possible_sts_end     52  \n",
       "128884  possible_sts_end     53  "
      ]
     },
     "execution_count": 6,
     "metadata": {},
     "output_type": "execute_result"
    }
   ],
   "source": [
    "sts.head()"
   ]
  },
  {
   "cell_type": "code",
   "execution_count": 7,
   "metadata": {},
   "outputs": [],
   "source": [
    "\n",
    "sts.date = pd.to_datetime(sts.date).dt.date\n",
    "sts['description'] = sts.apply(lambda row: f'Vessel {row[\"name\"]} entered {row.sts_area.upper()}' if row['type'] == 'sts_start' else f'Vessel {row[\"name\"]} exited {row.sts_area.upper()}', axis=1)"
   ]
  },
  {
   "cell_type": "code",
   "execution_count": 8,
   "metadata": {},
   "outputs": [],
   "source": [
    "sts.sort_values(by=['group', 'date'], inplace=True)\n",
    "sts.drop_duplicates(subset=['date', 'name', 'sts_area', 'type'], inplace=True)\n",
    "sts = sts[sts.groupby('group').group.transform('count') > 1].reset_index(drop=True)"
   ]
  },
  {
   "cell_type": "code",
   "execution_count": 9,
   "metadata": {},
   "outputs": [],
   "source": [
    "n = pd.read_csv(PATH.joinpath('processed', 'owners_names.csv'))\n",
    "n.vessel_name = n.vessel_name.str.upper().str.replace(' ', '').str.strip()\n",
    "\n"
   ]
  },
  {
   "cell_type": "code",
   "execution_count": 10,
   "metadata": {},
   "outputs": [],
   "source": [
    "sts = pd.merge(sts, \n",
    "                n[['vessel_name', 'imo']],\n",
    "                left_on='name',\n",
    "                right_on='vessel_name',\n",
    "                how='left')\n",
    "\n",
    "sts.dropna(subset='vessel_name', inplace=True)\n"
   ]
  },
  {
   "cell_type": "code",
   "execution_count": 11,
   "metadata": {},
   "outputs": [
    {
     "data": {
      "text/html": [
       "<div>\n",
       "<style scoped>\n",
       "    .dataframe tbody tr th:only-of-type {\n",
       "        vertical-align: middle;\n",
       "    }\n",
       "\n",
       "    .dataframe tbody tr th {\n",
       "        vertical-align: top;\n",
       "    }\n",
       "\n",
       "    .dataframe thead th {\n",
       "        text-align: right;\n",
       "    }\n",
       "</style>\n",
       "<table border=\"1\" class=\"dataframe\">\n",
       "  <thead>\n",
       "    <tr style=\"text-align: right;\">\n",
       "      <th></th>\n",
       "      <th>date</th>\n",
       "      <th>lat</th>\n",
       "      <th>lon</th>\n",
       "      <th>sts_area</th>\n",
       "      <th>name</th>\n",
       "      <th>type</th>\n",
       "      <th>group</th>\n",
       "      <th>description</th>\n",
       "      <th>vessel_name</th>\n",
       "      <th>imo</th>\n",
       "    </tr>\n",
       "  </thead>\n",
       "  <tbody>\n",
       "    <tr>\n",
       "      <th>0</th>\n",
       "      <td>2022-02-23</td>\n",
       "      <td>1.514650</td>\n",
       "      <td>104.688117</td>\n",
       "      <td>Johor</td>\n",
       "      <td>HAMSI</td>\n",
       "      <td>possible_sts_start</td>\n",
       "      <td>80</td>\n",
       "      <td>Vessel HAMSI exited JOHOR</td>\n",
       "      <td>HAMSI</td>\n",
       "      <td>9171735.0</td>\n",
       "    </tr>\n",
       "    <tr>\n",
       "      <th>1</th>\n",
       "      <td>2022-06-27</td>\n",
       "      <td>1.513432</td>\n",
       "      <td>104.546955</td>\n",
       "      <td>Johor</td>\n",
       "      <td>HAMSI</td>\n",
       "      <td>possible_sts_end</td>\n",
       "      <td>80</td>\n",
       "      <td>Vessel HAMSI exited JOHOR</td>\n",
       "      <td>HAMSI</td>\n",
       "      <td>9171735.0</td>\n",
       "    </tr>\n",
       "    <tr>\n",
       "      <th>2</th>\n",
       "      <td>2023-02-18</td>\n",
       "      <td>35.919600</td>\n",
       "      <td>14.820367</td>\n",
       "      <td>Malta</td>\n",
       "      <td>ANHONA</td>\n",
       "      <td>possible_sts_start</td>\n",
       "      <td>109</td>\n",
       "      <td>Vessel ANHONA exited MALTA</td>\n",
       "      <td>ANHONA</td>\n",
       "      <td>9354521.0</td>\n",
       "    </tr>\n",
       "    <tr>\n",
       "      <th>3</th>\n",
       "      <td>2024-06-23</td>\n",
       "      <td>35.913442</td>\n",
       "      <td>14.886683</td>\n",
       "      <td>Malta</td>\n",
       "      <td>ANHONA</td>\n",
       "      <td>possible_sts_end</td>\n",
       "      <td>109</td>\n",
       "      <td>Vessel ANHONA exited MALTA</td>\n",
       "      <td>ANHONA</td>\n",
       "      <td>9354521.0</td>\n",
       "    </tr>\n",
       "    <tr>\n",
       "      <th>4</th>\n",
       "      <td>2023-02-17</td>\n",
       "      <td>35.870750</td>\n",
       "      <td>15.080817</td>\n",
       "      <td>Malta</td>\n",
       "      <td>ANHONA</td>\n",
       "      <td>possible_sts_start</td>\n",
       "      <td>111</td>\n",
       "      <td>Vessel ANHONA exited MALTA</td>\n",
       "      <td>ANHONA</td>\n",
       "      <td>9354521.0</td>\n",
       "    </tr>\n",
       "  </tbody>\n",
       "</table>\n",
       "</div>"
      ],
      "text/plain": [
       "         date        lat         lon sts_area    name                type  \\\n",
       "0  2022-02-23   1.514650  104.688117    Johor   HAMSI  possible_sts_start   \n",
       "1  2022-06-27   1.513432  104.546955    Johor   HAMSI    possible_sts_end   \n",
       "2  2023-02-18  35.919600   14.820367    Malta  ANHONA  possible_sts_start   \n",
       "3  2024-06-23  35.913442   14.886683    Malta  ANHONA    possible_sts_end   \n",
       "4  2023-02-17  35.870750   15.080817    Malta  ANHONA  possible_sts_start   \n",
       "\n",
       "   group                 description vessel_name        imo  \n",
       "0     80   Vessel HAMSI exited JOHOR       HAMSI  9171735.0  \n",
       "1     80   Vessel HAMSI exited JOHOR       HAMSI  9171735.0  \n",
       "2    109  Vessel ANHONA exited MALTA      ANHONA  9354521.0  \n",
       "3    109  Vessel ANHONA exited MALTA      ANHONA  9354521.0  \n",
       "4    111  Vessel ANHONA exited MALTA      ANHONA  9354521.0  "
      ]
     },
     "execution_count": 11,
     "metadata": {},
     "output_type": "execute_result"
    }
   ],
   "source": [
    "sts.head()"
   ]
  },
  {
   "cell_type": "markdown",
   "metadata": {},
   "source": [
    "### Bring it all together"
   ]
  },
  {
   "cell_type": "code",
   "execution_count": 327,
   "metadata": {},
   "outputs": [],
   "source": [
    "timeline = pd.concat([ais, loitering, ports, sts]).reset_index(drop=True).sort_values(by='date')\n",
    "timeline.imo.value_counts().nlargest(10)"
   ]
  },
  {
   "cell_type": "code",
   "execution_count": null,
   "metadata": {},
   "outputs": [],
   "source": []
  },
  {
   "cell_type": "code",
   "execution_count": null,
   "metadata": {},
   "outputs": [],
   "source": []
  }
 ],
 "metadata": {
  "kernelspec": {
   "display_name": "geo",
   "language": "python",
   "name": "geo"
  },
  "language_info": {
   "codemirror_mode": {
    "name": "ipython",
    "version": 3
   },
   "file_extension": ".py",
   "mimetype": "text/x-python",
   "name": "python",
   "nbconvert_exporter": "python",
   "pygments_lexer": "ipython3",
   "version": "3.9.18"
  }
 },
 "nbformat": 4,
 "nbformat_minor": 2
}

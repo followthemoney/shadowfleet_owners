{
 "cells": [
  {
   "cell_type": "code",
   "execution_count": 2,
   "metadata": {},
   "outputs": [],
   "source": [
    "import pandas as pd\n",
    "from pathlib import Path\n",
    "import plotly.express as px\n",
    "import os\n",
    "import geopandas as gpd\n",
    "from shapely.geometry import LineString\n",
    "\n",
    "from neo4j import GraphDatabase\n",
    "\n",
    "PATH = Path.cwd().parent.joinpath('data')"
   ]
  },
  {
   "cell_type": "markdown",
   "metadata": {},
   "source": [
    "## Goal\n",
    "\n",
    "The goal of this notebook is to perform exploratory data analysis on the shadowfleet data and create a model for a graph database. "
   ]
  },
  {
   "cell_type": "markdown",
   "metadata": {},
   "source": [
    "### Data description\n",
    "\n",
    "First we need to know if we have all necessary data and if not, what data we are missing. Our starting point is the shadowfleet data provided by the Kiev School of Economics Institute."
   ]
  },
  {
   "cell_type": "markdown",
   "metadata": {},
   "source": [
    "#### KSE"
   ]
  },
  {
   "cell_type": "code",
   "execution_count": 3,
   "metadata": {},
   "outputs": [
    {
     "name": "stdout",
     "output_type": "stream",
     "text": [
      "The KSE dataset contains 637 unique vessels\n",
      "of which 71 are sanctioned.\n"
     ]
    }
   ],
   "source": [
    "kse = pd.read_csv(PATH.joinpath('processed', 'kse_shadowfleet.csv'),\n",
    "                  parse_dates=['earliest_sanction_date'],\n",
    "                  date_format=lambda x: pd.to_datetime(x, \n",
    "                                                       errors='coerce', \n",
    "                                                       format='%d-%m-%Y', \n",
    "                                                       dayfirst=True))\n",
    "\n",
    "# create a set of imos\n",
    "imos = set(kse.imo)\n",
    "\n",
    "# Some vessels have multiple entries in the dataseet (because they carry multiple products)\n",
    "# We will drop the duplicates\n",
    "\n",
    "kse_dedup = kse.drop_duplicates(subset='imo')\n",
    "\n",
    "print(f'''The KSE dataset contains {len(imos)} unique vessels\n",
    "of which {kse[kse.earliest_sanction_date.notna()].imo.nunique()} are sanctioned.''')"
   ]
  },
  {
   "cell_type": "code",
   "execution_count": 4,
   "metadata": {},
   "outputs": [
    {
     "data": {
      "application/vnd.plotly.v1+json": {
       "config": {
        "plotlyServerURL": "https://plot.ly"
       },
       "data": [
        {
         "alignmentgroup": "True",
         "hovertemplate": "variable=imo<br>Sanction Date=%{x}<br>value=%{y}<extra></extra>",
         "legendgroup": "imo",
         "marker": {
          "color": "#636efa",
          "pattern": {
           "shape": ""
          }
         },
         "name": "imo",
         "offsetgroup": "imo",
         "orientation": "v",
         "showlegend": true,
         "textposition": "auto",
         "type": "bar",
         "x": [
          "2023-12-01T00:00:00",
          "2024-01-16T00:00:00",
          "2024-01-18T00:00:00",
          "2024-02-08T00:00:00",
          "2024-02-23T00:00:00",
          "2024-04-04T00:00:00",
          "2024-06-13T00:00:00",
          "2024-06-24T00:00:00",
          "2024-07-18T00:00:00",
          "2024-09-11T00:00:00"
         ],
         "xaxis": "x",
         "y": [
          2,
          3,
          17,
          1,
          14,
          1,
          4,
          9,
          9,
          10
         ],
         "yaxis": "y"
        }
       ],
       "layout": {
        "barmode": "relative",
        "legend": {
         "title": {
          "text": "variable"
         },
         "tracegroupgap": 0
        },
        "template": {
         "data": {
          "bar": [
           {
            "error_x": {
             "color": "#2a3f5f"
            },
            "error_y": {
             "color": "#2a3f5f"
            },
            "marker": {
             "line": {
              "color": "#E5ECF6",
              "width": 0.5
             },
             "pattern": {
              "fillmode": "overlay",
              "size": 10,
              "solidity": 0.2
             }
            },
            "type": "bar"
           }
          ],
          "barpolar": [
           {
            "marker": {
             "line": {
              "color": "#E5ECF6",
              "width": 0.5
             },
             "pattern": {
              "fillmode": "overlay",
              "size": 10,
              "solidity": 0.2
             }
            },
            "type": "barpolar"
           }
          ],
          "carpet": [
           {
            "aaxis": {
             "endlinecolor": "#2a3f5f",
             "gridcolor": "white",
             "linecolor": "white",
             "minorgridcolor": "white",
             "startlinecolor": "#2a3f5f"
            },
            "baxis": {
             "endlinecolor": "#2a3f5f",
             "gridcolor": "white",
             "linecolor": "white",
             "minorgridcolor": "white",
             "startlinecolor": "#2a3f5f"
            },
            "type": "carpet"
           }
          ],
          "choropleth": [
           {
            "colorbar": {
             "outlinewidth": 0,
             "ticks": ""
            },
            "type": "choropleth"
           }
          ],
          "contour": [
           {
            "colorbar": {
             "outlinewidth": 0,
             "ticks": ""
            },
            "colorscale": [
             [
              0,
              "#0d0887"
             ],
             [
              0.1111111111111111,
              "#46039f"
             ],
             [
              0.2222222222222222,
              "#7201a8"
             ],
             [
              0.3333333333333333,
              "#9c179e"
             ],
             [
              0.4444444444444444,
              "#bd3786"
             ],
             [
              0.5555555555555556,
              "#d8576b"
             ],
             [
              0.6666666666666666,
              "#ed7953"
             ],
             [
              0.7777777777777778,
              "#fb9f3a"
             ],
             [
              0.8888888888888888,
              "#fdca26"
             ],
             [
              1,
              "#f0f921"
             ]
            ],
            "type": "contour"
           }
          ],
          "contourcarpet": [
           {
            "colorbar": {
             "outlinewidth": 0,
             "ticks": ""
            },
            "type": "contourcarpet"
           }
          ],
          "heatmap": [
           {
            "colorbar": {
             "outlinewidth": 0,
             "ticks": ""
            },
            "colorscale": [
             [
              0,
              "#0d0887"
             ],
             [
              0.1111111111111111,
              "#46039f"
             ],
             [
              0.2222222222222222,
              "#7201a8"
             ],
             [
              0.3333333333333333,
              "#9c179e"
             ],
             [
              0.4444444444444444,
              "#bd3786"
             ],
             [
              0.5555555555555556,
              "#d8576b"
             ],
             [
              0.6666666666666666,
              "#ed7953"
             ],
             [
              0.7777777777777778,
              "#fb9f3a"
             ],
             [
              0.8888888888888888,
              "#fdca26"
             ],
             [
              1,
              "#f0f921"
             ]
            ],
            "type": "heatmap"
           }
          ],
          "heatmapgl": [
           {
            "colorbar": {
             "outlinewidth": 0,
             "ticks": ""
            },
            "colorscale": [
             [
              0,
              "#0d0887"
             ],
             [
              0.1111111111111111,
              "#46039f"
             ],
             [
              0.2222222222222222,
              "#7201a8"
             ],
             [
              0.3333333333333333,
              "#9c179e"
             ],
             [
              0.4444444444444444,
              "#bd3786"
             ],
             [
              0.5555555555555556,
              "#d8576b"
             ],
             [
              0.6666666666666666,
              "#ed7953"
             ],
             [
              0.7777777777777778,
              "#fb9f3a"
             ],
             [
              0.8888888888888888,
              "#fdca26"
             ],
             [
              1,
              "#f0f921"
             ]
            ],
            "type": "heatmapgl"
           }
          ],
          "histogram": [
           {
            "marker": {
             "pattern": {
              "fillmode": "overlay",
              "size": 10,
              "solidity": 0.2
             }
            },
            "type": "histogram"
           }
          ],
          "histogram2d": [
           {
            "colorbar": {
             "outlinewidth": 0,
             "ticks": ""
            },
            "colorscale": [
             [
              0,
              "#0d0887"
             ],
             [
              0.1111111111111111,
              "#46039f"
             ],
             [
              0.2222222222222222,
              "#7201a8"
             ],
             [
              0.3333333333333333,
              "#9c179e"
             ],
             [
              0.4444444444444444,
              "#bd3786"
             ],
             [
              0.5555555555555556,
              "#d8576b"
             ],
             [
              0.6666666666666666,
              "#ed7953"
             ],
             [
              0.7777777777777778,
              "#fb9f3a"
             ],
             [
              0.8888888888888888,
              "#fdca26"
             ],
             [
              1,
              "#f0f921"
             ]
            ],
            "type": "histogram2d"
           }
          ],
          "histogram2dcontour": [
           {
            "colorbar": {
             "outlinewidth": 0,
             "ticks": ""
            },
            "colorscale": [
             [
              0,
              "#0d0887"
             ],
             [
              0.1111111111111111,
              "#46039f"
             ],
             [
              0.2222222222222222,
              "#7201a8"
             ],
             [
              0.3333333333333333,
              "#9c179e"
             ],
             [
              0.4444444444444444,
              "#bd3786"
             ],
             [
              0.5555555555555556,
              "#d8576b"
             ],
             [
              0.6666666666666666,
              "#ed7953"
             ],
             [
              0.7777777777777778,
              "#fb9f3a"
             ],
             [
              0.8888888888888888,
              "#fdca26"
             ],
             [
              1,
              "#f0f921"
             ]
            ],
            "type": "histogram2dcontour"
           }
          ],
          "mesh3d": [
           {
            "colorbar": {
             "outlinewidth": 0,
             "ticks": ""
            },
            "type": "mesh3d"
           }
          ],
          "parcoords": [
           {
            "line": {
             "colorbar": {
              "outlinewidth": 0,
              "ticks": ""
             }
            },
            "type": "parcoords"
           }
          ],
          "pie": [
           {
            "automargin": true,
            "type": "pie"
           }
          ],
          "scatter": [
           {
            "fillpattern": {
             "fillmode": "overlay",
             "size": 10,
             "solidity": 0.2
            },
            "type": "scatter"
           }
          ],
          "scatter3d": [
           {
            "line": {
             "colorbar": {
              "outlinewidth": 0,
              "ticks": ""
             }
            },
            "marker": {
             "colorbar": {
              "outlinewidth": 0,
              "ticks": ""
             }
            },
            "type": "scatter3d"
           }
          ],
          "scattercarpet": [
           {
            "marker": {
             "colorbar": {
              "outlinewidth": 0,
              "ticks": ""
             }
            },
            "type": "scattercarpet"
           }
          ],
          "scattergeo": [
           {
            "marker": {
             "colorbar": {
              "outlinewidth": 0,
              "ticks": ""
             }
            },
            "type": "scattergeo"
           }
          ],
          "scattergl": [
           {
            "marker": {
             "colorbar": {
              "outlinewidth": 0,
              "ticks": ""
             }
            },
            "type": "scattergl"
           }
          ],
          "scattermapbox": [
           {
            "marker": {
             "colorbar": {
              "outlinewidth": 0,
              "ticks": ""
             }
            },
            "type": "scattermapbox"
           }
          ],
          "scatterpolar": [
           {
            "marker": {
             "colorbar": {
              "outlinewidth": 0,
              "ticks": ""
             }
            },
            "type": "scatterpolar"
           }
          ],
          "scatterpolargl": [
           {
            "marker": {
             "colorbar": {
              "outlinewidth": 0,
              "ticks": ""
             }
            },
            "type": "scatterpolargl"
           }
          ],
          "scatterternary": [
           {
            "marker": {
             "colorbar": {
              "outlinewidth": 0,
              "ticks": ""
             }
            },
            "type": "scatterternary"
           }
          ],
          "surface": [
           {
            "colorbar": {
             "outlinewidth": 0,
             "ticks": ""
            },
            "colorscale": [
             [
              0,
              "#0d0887"
             ],
             [
              0.1111111111111111,
              "#46039f"
             ],
             [
              0.2222222222222222,
              "#7201a8"
             ],
             [
              0.3333333333333333,
              "#9c179e"
             ],
             [
              0.4444444444444444,
              "#bd3786"
             ],
             [
              0.5555555555555556,
              "#d8576b"
             ],
             [
              0.6666666666666666,
              "#ed7953"
             ],
             [
              0.7777777777777778,
              "#fb9f3a"
             ],
             [
              0.8888888888888888,
              "#fdca26"
             ],
             [
              1,
              "#f0f921"
             ]
            ],
            "type": "surface"
           }
          ],
          "table": [
           {
            "cells": {
             "fill": {
              "color": "#EBF0F8"
             },
             "line": {
              "color": "white"
             }
            },
            "header": {
             "fill": {
              "color": "#C8D4E3"
             },
             "line": {
              "color": "white"
             }
            },
            "type": "table"
           }
          ]
         },
         "layout": {
          "annotationdefaults": {
           "arrowcolor": "#2a3f5f",
           "arrowhead": 0,
           "arrowwidth": 1
          },
          "autotypenumbers": "strict",
          "coloraxis": {
           "colorbar": {
            "outlinewidth": 0,
            "ticks": ""
           }
          },
          "colorscale": {
           "diverging": [
            [
             0,
             "#8e0152"
            ],
            [
             0.1,
             "#c51b7d"
            ],
            [
             0.2,
             "#de77ae"
            ],
            [
             0.3,
             "#f1b6da"
            ],
            [
             0.4,
             "#fde0ef"
            ],
            [
             0.5,
             "#f7f7f7"
            ],
            [
             0.6,
             "#e6f5d0"
            ],
            [
             0.7,
             "#b8e186"
            ],
            [
             0.8,
             "#7fbc41"
            ],
            [
             0.9,
             "#4d9221"
            ],
            [
             1,
             "#276419"
            ]
           ],
           "sequential": [
            [
             0,
             "#0d0887"
            ],
            [
             0.1111111111111111,
             "#46039f"
            ],
            [
             0.2222222222222222,
             "#7201a8"
            ],
            [
             0.3333333333333333,
             "#9c179e"
            ],
            [
             0.4444444444444444,
             "#bd3786"
            ],
            [
             0.5555555555555556,
             "#d8576b"
            ],
            [
             0.6666666666666666,
             "#ed7953"
            ],
            [
             0.7777777777777778,
             "#fb9f3a"
            ],
            [
             0.8888888888888888,
             "#fdca26"
            ],
            [
             1,
             "#f0f921"
            ]
           ],
           "sequentialminus": [
            [
             0,
             "#0d0887"
            ],
            [
             0.1111111111111111,
             "#46039f"
            ],
            [
             0.2222222222222222,
             "#7201a8"
            ],
            [
             0.3333333333333333,
             "#9c179e"
            ],
            [
             0.4444444444444444,
             "#bd3786"
            ],
            [
             0.5555555555555556,
             "#d8576b"
            ],
            [
             0.6666666666666666,
             "#ed7953"
            ],
            [
             0.7777777777777778,
             "#fb9f3a"
            ],
            [
             0.8888888888888888,
             "#fdca26"
            ],
            [
             1,
             "#f0f921"
            ]
           ]
          },
          "colorway": [
           "#636efa",
           "#EF553B",
           "#00cc96",
           "#ab63fa",
           "#FFA15A",
           "#19d3f3",
           "#FF6692",
           "#B6E880",
           "#FF97FF",
           "#FECB52"
          ],
          "font": {
           "color": "#2a3f5f"
          },
          "geo": {
           "bgcolor": "white",
           "lakecolor": "white",
           "landcolor": "#E5ECF6",
           "showlakes": true,
           "showland": true,
           "subunitcolor": "white"
          },
          "hoverlabel": {
           "align": "left"
          },
          "hovermode": "closest",
          "mapbox": {
           "style": "light"
          },
          "paper_bgcolor": "white",
          "plot_bgcolor": "#E5ECF6",
          "polar": {
           "angularaxis": {
            "gridcolor": "white",
            "linecolor": "white",
            "ticks": ""
           },
           "bgcolor": "#E5ECF6",
           "radialaxis": {
            "gridcolor": "white",
            "linecolor": "white",
            "ticks": ""
           }
          },
          "scene": {
           "xaxis": {
            "backgroundcolor": "#E5ECF6",
            "gridcolor": "white",
            "gridwidth": 2,
            "linecolor": "white",
            "showbackground": true,
            "ticks": "",
            "zerolinecolor": "white"
           },
           "yaxis": {
            "backgroundcolor": "#E5ECF6",
            "gridcolor": "white",
            "gridwidth": 2,
            "linecolor": "white",
            "showbackground": true,
            "ticks": "",
            "zerolinecolor": "white"
           },
           "zaxis": {
            "backgroundcolor": "#E5ECF6",
            "gridcolor": "white",
            "gridwidth": 2,
            "linecolor": "white",
            "showbackground": true,
            "ticks": "",
            "zerolinecolor": "white"
           }
          },
          "shapedefaults": {
           "line": {
            "color": "#2a3f5f"
           }
          },
          "ternary": {
           "aaxis": {
            "gridcolor": "white",
            "linecolor": "white",
            "ticks": ""
           },
           "baxis": {
            "gridcolor": "white",
            "linecolor": "white",
            "ticks": ""
           },
           "bgcolor": "#E5ECF6",
           "caxis": {
            "gridcolor": "white",
            "linecolor": "white",
            "ticks": ""
           }
          },
          "title": {
           "x": 0.05
          },
          "xaxis": {
           "automargin": true,
           "gridcolor": "white",
           "linecolor": "white",
           "ticks": "",
           "title": {
            "standoff": 15
           },
           "zerolinecolor": "white",
           "zerolinewidth": 2
          },
          "yaxis": {
           "automargin": true,
           "gridcolor": "white",
           "linecolor": "white",
           "ticks": "",
           "title": {
            "standoff": 15
           },
           "zerolinecolor": "white",
           "zerolinewidth": 2
          }
         }
        },
        "title": {
         "text": "Sanction Dates"
        },
        "xaxis": {
         "anchor": "y",
         "domain": [
          0,
          1
         ],
         "title": {
          "text": "Sanction Date"
         }
        },
        "yaxis": {
         "anchor": "x",
         "domain": [
          0,
          1
         ],
         "title": {
          "text": "value"
         }
        }
       }
      }
     },
     "metadata": {},
     "output_type": "display_data"
    }
   ],
   "source": [
    "# Let's dive into the sanctions: when were they sanctioned?\n",
    "\n",
    "sanctions = kse_dedup.groupby('earliest_sanction_date').imo.count().reset_index()\n",
    "\n",
    "sanctions['earliest_sanction_date'] = pd.to_datetime(sanctions['earliest_sanction_date'], \n",
    "                                                     errors='coerce', \n",
    "                                                     format='%d-%m-%Y', dayfirst=True)\n",
    "\n",
    "sanctions.earliest_sanction_date = pd.to_datetime(sanctions.earliest_sanction_date)\n",
    "sanctions.sort_values('earliest_sanction_date', inplace=True)\n",
    "sanctions.set_index('earliest_sanction_date', inplace=True, drop=True)\n",
    "\n",
    "# Sanction dates\n",
    "\n",
    "px.bar(sanctions,\n",
    "       title='Sanction Dates',\n",
    "       labels={'earliest_sanction_date':'Sanction Date'})"
   ]
  },
  {
   "cell_type": "code",
   "execution_count": 5,
   "metadata": {},
   "outputs": [
    {
     "data": {
      "application/vnd.plotly.v1+json": {
       "config": {
        "plotlyServerURL": "https://plot.ly"
       },
       "data": [
        {
         "alignmentgroup": "True",
         "bingroup": "x",
         "hovertemplate": "Build Year=%{x}<br>count=%{y}<extra></extra>",
         "legendgroup": "",
         "marker": {
          "color": "#636efa",
          "pattern": {
           "shape": ""
          }
         },
         "name": "",
         "offsetgroup": "",
         "orientation": "v",
         "showlegend": false,
         "type": "histogram",
         "x": [
          1987,
          1987,
          1989,
          1971,
          1990,
          1990,
          1992,
          1995,
          1992,
          1997,
          1992,
          1993,
          1995,
          1998,
          1996,
          1996,
          1996,
          1997,
          1997,
          1998,
          1997,
          1999,
          1999,
          1999,
          2000,
          2000,
          1998,
          1999,
          2000,
          1999,
          2000,
          2000,
          1999,
          2000,
          2001,
          2002,
          2000,
          2000,
          1999,
          2000,
          1999,
          2001,
          2001,
          2000,
          2000,
          2000,
          2000,
          1999,
          2000,
          2000,
          2001,
          2001,
          2000,
          2001,
          2001,
          2000,
          2001,
          2000,
          2002,
          2002,
          2002,
          2002,
          2000,
          2002,
          2001,
          2002,
          2002,
          2002,
          2002,
          2003,
          2002,
          2003,
          2000,
          2003,
          2003,
          2002,
          2003,
          2000,
          2003,
          2003,
          2002,
          2003,
          2003,
          2003,
          2001,
          2002,
          2002,
          2004,
          2003,
          2003,
          2002,
          2003,
          2003,
          2003,
          2003,
          2003,
          2004,
          2002,
          2003,
          2003,
          2002,
          2003,
          2003,
          2004,
          2005,
          2004,
          2004,
          2001,
          2001,
          2004,
          2004,
          2003,
          2003,
          2003,
          2003,
          2002,
          2002,
          2003,
          2003,
          2003,
          2003,
          2004,
          2003,
          2002,
          2002,
          2004,
          2003,
          2003,
          2004,
          2004,
          2004,
          2003,
          2003,
          2003,
          2003,
          2003,
          2003,
          2003,
          2003,
          2003,
          2003,
          2003,
          2003,
          2003,
          2003,
          2003,
          2003,
          2002,
          2003,
          2003,
          2004,
          2004,
          2003,
          2004,
          2004,
          2003,
          2004,
          2004,
          2002,
          2004,
          2004,
          2004,
          2003,
          2002,
          2005,
          2004,
          2004,
          2003,
          2004,
          2005,
          2004,
          2003,
          2004,
          2002,
          2003,
          2003,
          2003,
          2004,
          2003,
          2004,
          2004,
          2004,
          2004,
          2003,
          2004,
          2003,
          2004,
          2004,
          2005,
          2004,
          2004,
          2004,
          2004,
          2003,
          2004,
          2004,
          2004,
          2004,
          2004,
          2004,
          2004,
          2004,
          2002,
          2004,
          2004,
          2004,
          2005,
          2003,
          2004,
          2005,
          2005,
          2005,
          2004,
          2004,
          2004,
          2005,
          2005,
          2005,
          2004,
          2004,
          2004,
          2004,
          2005,
          2005,
          2006,
          2004,
          2005,
          2005,
          2004,
          2005,
          2005,
          2005,
          2005,
          2005,
          2004,
          2005,
          2004,
          2003,
          2003,
          2003,
          2005,
          2005,
          2005,
          2005,
          2005,
          2005,
          2004,
          2004,
          2005,
          2005,
          2005,
          2005,
          2005,
          2005,
          2004,
          2005,
          2006,
          2006,
          2005,
          2005,
          2005,
          2005,
          2005,
          2005,
          2005,
          2005,
          2005,
          2005,
          2005,
          2004,
          2006,
          2006,
          2006,
          2006,
          2006,
          2005,
          2005,
          2005,
          2005,
          2004,
          2005,
          2006,
          2006,
          2006,
          2005,
          2005,
          2005,
          2004,
          2005,
          2005,
          2005,
          2005,
          2006,
          2006,
          2006,
          2005,
          2006,
          2005,
          2005,
          2005,
          2005,
          2005,
          2005,
          2005,
          2005,
          2005,
          2006,
          2005,
          2005,
          2007,
          2006,
          2005,
          2006,
          2005,
          2005,
          2007,
          2006,
          2006,
          2005,
          2006,
          2006,
          2006,
          2007,
          2005,
          2005,
          2006,
          2005,
          2005,
          2006,
          2005,
          2005,
          2006,
          2006,
          2007,
          2007,
          2007,
          2006,
          2007,
          2004,
          2005,
          2007,
          2007,
          2004,
          2006,
          2006,
          2006,
          2006,
          2005,
          2005,
          2006,
          2007,
          2007,
          2007,
          2006,
          2006,
          2007,
          2006,
          2006,
          2007,
          2008,
          2008,
          2007,
          2007,
          2007,
          2007,
          2006,
          2006,
          2006,
          2006,
          2006,
          2006,
          2006,
          2006,
          2006,
          2006,
          2006,
          2007,
          2007,
          2007,
          2007,
          2007,
          2007,
          2007,
          2006,
          2008,
          2006,
          2006,
          2006,
          2006,
          2006,
          2006,
          2006,
          2008,
          2008,
          2006,
          2007,
          2006,
          2007,
          2007,
          2008,
          2009,
          2010,
          2006,
          2007,
          2007,
          2007,
          2006,
          2007,
          2007,
          2007,
          2006,
          2007,
          2008,
          2007,
          2006,
          2007,
          2007,
          2006,
          2007,
          2006,
          2007,
          2007,
          2007,
          2007,
          2008,
          2006,
          2006,
          2006,
          2006,
          2005,
          2007,
          2007,
          2008,
          2007,
          2007,
          2007,
          2008,
          2006,
          2006,
          2008,
          2006,
          2007,
          2006,
          2007,
          2008,
          2008,
          2008,
          2008,
          2008,
          2008,
          2005,
          2008,
          2007,
          2010,
          2009,
          2009,
          2007,
          2008,
          2007,
          2007,
          2008,
          2006,
          2008,
          2008,
          2009,
          2009,
          2008,
          2008,
          2008,
          2008,
          2007,
          2008,
          2009,
          2008,
          2009,
          2010,
          2009,
          2009,
          2008,
          2008,
          2008,
          2008,
          2008,
          2008,
          2009,
          2009,
          2008,
          2008,
          2008,
          2008,
          2008,
          2008,
          2008,
          2009,
          2009,
          2008,
          2008,
          2006,
          2009,
          2009,
          2009,
          2008,
          2010,
          2009,
          2008,
          2008,
          2009,
          2009,
          2009,
          2010,
          2011,
          2010,
          2009,
          2009,
          2009,
          2009,
          2009,
          2009,
          2009,
          2009,
          2009,
          2010,
          2009,
          2009,
          2010,
          2009,
          2010,
          2009,
          2010,
          2009,
          2009,
          2009,
          2009,
          2010,
          2008,
          2008,
          2008,
          2008,
          2009,
          2009,
          2009,
          2010,
          2010,
          2008,
          2007,
          2008,
          2010,
          2008,
          2008,
          2010,
          2010,
          2010,
          2011,
          2009,
          2011,
          2011,
          2011,
          2013,
          2010,
          2010,
          2010,
          2010,
          2010,
          2009,
          2009,
          2011,
          2011,
          2011,
          2020,
          2011,
          2011,
          2010,
          2011,
          2011,
          2012,
          2012,
          2012,
          2013,
          2013,
          2012,
          2012,
          2013,
          2012,
          2013,
          2013,
          2016,
          2012,
          2012,
          2012,
          2016,
          2016,
          2012,
          2012,
          2012,
          2012,
          2012,
          2012,
          2013,
          2012,
          2012,
          2012,
          2012,
          2012,
          2013,
          2013,
          2013,
          2013,
          2013,
          2014,
          2014,
          2014,
          2014,
          2017,
          2017,
          2016,
          2018,
          2015,
          2017,
          2018,
          2016,
          2020,
          2021,
          2019,
          2018,
          2018,
          2020,
          2022,
          2023,
          2019,
          2018,
          2022,
          2023,
          2022,
          2022,
          2021,
          2021,
          2023
         ],
         "xaxis": "x",
         "yaxis": "y"
        }
       ],
       "layout": {
        "barmode": "relative",
        "legend": {
         "tracegroupgap": 0
        },
        "template": {
         "data": {
          "bar": [
           {
            "error_x": {
             "color": "#2a3f5f"
            },
            "error_y": {
             "color": "#2a3f5f"
            },
            "marker": {
             "line": {
              "color": "#E5ECF6",
              "width": 0.5
             },
             "pattern": {
              "fillmode": "overlay",
              "size": 10,
              "solidity": 0.2
             }
            },
            "type": "bar"
           }
          ],
          "barpolar": [
           {
            "marker": {
             "line": {
              "color": "#E5ECF6",
              "width": 0.5
             },
             "pattern": {
              "fillmode": "overlay",
              "size": 10,
              "solidity": 0.2
             }
            },
            "type": "barpolar"
           }
          ],
          "carpet": [
           {
            "aaxis": {
             "endlinecolor": "#2a3f5f",
             "gridcolor": "white",
             "linecolor": "white",
             "minorgridcolor": "white",
             "startlinecolor": "#2a3f5f"
            },
            "baxis": {
             "endlinecolor": "#2a3f5f",
             "gridcolor": "white",
             "linecolor": "white",
             "minorgridcolor": "white",
             "startlinecolor": "#2a3f5f"
            },
            "type": "carpet"
           }
          ],
          "choropleth": [
           {
            "colorbar": {
             "outlinewidth": 0,
             "ticks": ""
            },
            "type": "choropleth"
           }
          ],
          "contour": [
           {
            "colorbar": {
             "outlinewidth": 0,
             "ticks": ""
            },
            "colorscale": [
             [
              0,
              "#0d0887"
             ],
             [
              0.1111111111111111,
              "#46039f"
             ],
             [
              0.2222222222222222,
              "#7201a8"
             ],
             [
              0.3333333333333333,
              "#9c179e"
             ],
             [
              0.4444444444444444,
              "#bd3786"
             ],
             [
              0.5555555555555556,
              "#d8576b"
             ],
             [
              0.6666666666666666,
              "#ed7953"
             ],
             [
              0.7777777777777778,
              "#fb9f3a"
             ],
             [
              0.8888888888888888,
              "#fdca26"
             ],
             [
              1,
              "#f0f921"
             ]
            ],
            "type": "contour"
           }
          ],
          "contourcarpet": [
           {
            "colorbar": {
             "outlinewidth": 0,
             "ticks": ""
            },
            "type": "contourcarpet"
           }
          ],
          "heatmap": [
           {
            "colorbar": {
             "outlinewidth": 0,
             "ticks": ""
            },
            "colorscale": [
             [
              0,
              "#0d0887"
             ],
             [
              0.1111111111111111,
              "#46039f"
             ],
             [
              0.2222222222222222,
              "#7201a8"
             ],
             [
              0.3333333333333333,
              "#9c179e"
             ],
             [
              0.4444444444444444,
              "#bd3786"
             ],
             [
              0.5555555555555556,
              "#d8576b"
             ],
             [
              0.6666666666666666,
              "#ed7953"
             ],
             [
              0.7777777777777778,
              "#fb9f3a"
             ],
             [
              0.8888888888888888,
              "#fdca26"
             ],
             [
              1,
              "#f0f921"
             ]
            ],
            "type": "heatmap"
           }
          ],
          "heatmapgl": [
           {
            "colorbar": {
             "outlinewidth": 0,
             "ticks": ""
            },
            "colorscale": [
             [
              0,
              "#0d0887"
             ],
             [
              0.1111111111111111,
              "#46039f"
             ],
             [
              0.2222222222222222,
              "#7201a8"
             ],
             [
              0.3333333333333333,
              "#9c179e"
             ],
             [
              0.4444444444444444,
              "#bd3786"
             ],
             [
              0.5555555555555556,
              "#d8576b"
             ],
             [
              0.6666666666666666,
              "#ed7953"
             ],
             [
              0.7777777777777778,
              "#fb9f3a"
             ],
             [
              0.8888888888888888,
              "#fdca26"
             ],
             [
              1,
              "#f0f921"
             ]
            ],
            "type": "heatmapgl"
           }
          ],
          "histogram": [
           {
            "marker": {
             "pattern": {
              "fillmode": "overlay",
              "size": 10,
              "solidity": 0.2
             }
            },
            "type": "histogram"
           }
          ],
          "histogram2d": [
           {
            "colorbar": {
             "outlinewidth": 0,
             "ticks": ""
            },
            "colorscale": [
             [
              0,
              "#0d0887"
             ],
             [
              0.1111111111111111,
              "#46039f"
             ],
             [
              0.2222222222222222,
              "#7201a8"
             ],
             [
              0.3333333333333333,
              "#9c179e"
             ],
             [
              0.4444444444444444,
              "#bd3786"
             ],
             [
              0.5555555555555556,
              "#d8576b"
             ],
             [
              0.6666666666666666,
              "#ed7953"
             ],
             [
              0.7777777777777778,
              "#fb9f3a"
             ],
             [
              0.8888888888888888,
              "#fdca26"
             ],
             [
              1,
              "#f0f921"
             ]
            ],
            "type": "histogram2d"
           }
          ],
          "histogram2dcontour": [
           {
            "colorbar": {
             "outlinewidth": 0,
             "ticks": ""
            },
            "colorscale": [
             [
              0,
              "#0d0887"
             ],
             [
              0.1111111111111111,
              "#46039f"
             ],
             [
              0.2222222222222222,
              "#7201a8"
             ],
             [
              0.3333333333333333,
              "#9c179e"
             ],
             [
              0.4444444444444444,
              "#bd3786"
             ],
             [
              0.5555555555555556,
              "#d8576b"
             ],
             [
              0.6666666666666666,
              "#ed7953"
             ],
             [
              0.7777777777777778,
              "#fb9f3a"
             ],
             [
              0.8888888888888888,
              "#fdca26"
             ],
             [
              1,
              "#f0f921"
             ]
            ],
            "type": "histogram2dcontour"
           }
          ],
          "mesh3d": [
           {
            "colorbar": {
             "outlinewidth": 0,
             "ticks": ""
            },
            "type": "mesh3d"
           }
          ],
          "parcoords": [
           {
            "line": {
             "colorbar": {
              "outlinewidth": 0,
              "ticks": ""
             }
            },
            "type": "parcoords"
           }
          ],
          "pie": [
           {
            "automargin": true,
            "type": "pie"
           }
          ],
          "scatter": [
           {
            "fillpattern": {
             "fillmode": "overlay",
             "size": 10,
             "solidity": 0.2
            },
            "type": "scatter"
           }
          ],
          "scatter3d": [
           {
            "line": {
             "colorbar": {
              "outlinewidth": 0,
              "ticks": ""
             }
            },
            "marker": {
             "colorbar": {
              "outlinewidth": 0,
              "ticks": ""
             }
            },
            "type": "scatter3d"
           }
          ],
          "scattercarpet": [
           {
            "marker": {
             "colorbar": {
              "outlinewidth": 0,
              "ticks": ""
             }
            },
            "type": "scattercarpet"
           }
          ],
          "scattergeo": [
           {
            "marker": {
             "colorbar": {
              "outlinewidth": 0,
              "ticks": ""
             }
            },
            "type": "scattergeo"
           }
          ],
          "scattergl": [
           {
            "marker": {
             "colorbar": {
              "outlinewidth": 0,
              "ticks": ""
             }
            },
            "type": "scattergl"
           }
          ],
          "scattermapbox": [
           {
            "marker": {
             "colorbar": {
              "outlinewidth": 0,
              "ticks": ""
             }
            },
            "type": "scattermapbox"
           }
          ],
          "scatterpolar": [
           {
            "marker": {
             "colorbar": {
              "outlinewidth": 0,
              "ticks": ""
             }
            },
            "type": "scatterpolar"
           }
          ],
          "scatterpolargl": [
           {
            "marker": {
             "colorbar": {
              "outlinewidth": 0,
              "ticks": ""
             }
            },
            "type": "scatterpolargl"
           }
          ],
          "scatterternary": [
           {
            "marker": {
             "colorbar": {
              "outlinewidth": 0,
              "ticks": ""
             }
            },
            "type": "scatterternary"
           }
          ],
          "surface": [
           {
            "colorbar": {
             "outlinewidth": 0,
             "ticks": ""
            },
            "colorscale": [
             [
              0,
              "#0d0887"
             ],
             [
              0.1111111111111111,
              "#46039f"
             ],
             [
              0.2222222222222222,
              "#7201a8"
             ],
             [
              0.3333333333333333,
              "#9c179e"
             ],
             [
              0.4444444444444444,
              "#bd3786"
             ],
             [
              0.5555555555555556,
              "#d8576b"
             ],
             [
              0.6666666666666666,
              "#ed7953"
             ],
             [
              0.7777777777777778,
              "#fb9f3a"
             ],
             [
              0.8888888888888888,
              "#fdca26"
             ],
             [
              1,
              "#f0f921"
             ]
            ],
            "type": "surface"
           }
          ],
          "table": [
           {
            "cells": {
             "fill": {
              "color": "#EBF0F8"
             },
             "line": {
              "color": "white"
             }
            },
            "header": {
             "fill": {
              "color": "#C8D4E3"
             },
             "line": {
              "color": "white"
             }
            },
            "type": "table"
           }
          ]
         },
         "layout": {
          "annotationdefaults": {
           "arrowcolor": "#2a3f5f",
           "arrowhead": 0,
           "arrowwidth": 1
          },
          "autotypenumbers": "strict",
          "coloraxis": {
           "colorbar": {
            "outlinewidth": 0,
            "ticks": ""
           }
          },
          "colorscale": {
           "diverging": [
            [
             0,
             "#8e0152"
            ],
            [
             0.1,
             "#c51b7d"
            ],
            [
             0.2,
             "#de77ae"
            ],
            [
             0.3,
             "#f1b6da"
            ],
            [
             0.4,
             "#fde0ef"
            ],
            [
             0.5,
             "#f7f7f7"
            ],
            [
             0.6,
             "#e6f5d0"
            ],
            [
             0.7,
             "#b8e186"
            ],
            [
             0.8,
             "#7fbc41"
            ],
            [
             0.9,
             "#4d9221"
            ],
            [
             1,
             "#276419"
            ]
           ],
           "sequential": [
            [
             0,
             "#0d0887"
            ],
            [
             0.1111111111111111,
             "#46039f"
            ],
            [
             0.2222222222222222,
             "#7201a8"
            ],
            [
             0.3333333333333333,
             "#9c179e"
            ],
            [
             0.4444444444444444,
             "#bd3786"
            ],
            [
             0.5555555555555556,
             "#d8576b"
            ],
            [
             0.6666666666666666,
             "#ed7953"
            ],
            [
             0.7777777777777778,
             "#fb9f3a"
            ],
            [
             0.8888888888888888,
             "#fdca26"
            ],
            [
             1,
             "#f0f921"
            ]
           ],
           "sequentialminus": [
            [
             0,
             "#0d0887"
            ],
            [
             0.1111111111111111,
             "#46039f"
            ],
            [
             0.2222222222222222,
             "#7201a8"
            ],
            [
             0.3333333333333333,
             "#9c179e"
            ],
            [
             0.4444444444444444,
             "#bd3786"
            ],
            [
             0.5555555555555556,
             "#d8576b"
            ],
            [
             0.6666666666666666,
             "#ed7953"
            ],
            [
             0.7777777777777778,
             "#fb9f3a"
            ],
            [
             0.8888888888888888,
             "#fdca26"
            ],
            [
             1,
             "#f0f921"
            ]
           ]
          },
          "colorway": [
           "#636efa",
           "#EF553B",
           "#00cc96",
           "#ab63fa",
           "#FFA15A",
           "#19d3f3",
           "#FF6692",
           "#B6E880",
           "#FF97FF",
           "#FECB52"
          ],
          "font": {
           "color": "#2a3f5f"
          },
          "geo": {
           "bgcolor": "white",
           "lakecolor": "white",
           "landcolor": "#E5ECF6",
           "showlakes": true,
           "showland": true,
           "subunitcolor": "white"
          },
          "hoverlabel": {
           "align": "left"
          },
          "hovermode": "closest",
          "mapbox": {
           "style": "light"
          },
          "paper_bgcolor": "white",
          "plot_bgcolor": "#E5ECF6",
          "polar": {
           "angularaxis": {
            "gridcolor": "white",
            "linecolor": "white",
            "ticks": ""
           },
           "bgcolor": "#E5ECF6",
           "radialaxis": {
            "gridcolor": "white",
            "linecolor": "white",
            "ticks": ""
           }
          },
          "scene": {
           "xaxis": {
            "backgroundcolor": "#E5ECF6",
            "gridcolor": "white",
            "gridwidth": 2,
            "linecolor": "white",
            "showbackground": true,
            "ticks": "",
            "zerolinecolor": "white"
           },
           "yaxis": {
            "backgroundcolor": "#E5ECF6",
            "gridcolor": "white",
            "gridwidth": 2,
            "linecolor": "white",
            "showbackground": true,
            "ticks": "",
            "zerolinecolor": "white"
           },
           "zaxis": {
            "backgroundcolor": "#E5ECF6",
            "gridcolor": "white",
            "gridwidth": 2,
            "linecolor": "white",
            "showbackground": true,
            "ticks": "",
            "zerolinecolor": "white"
           }
          },
          "shapedefaults": {
           "line": {
            "color": "#2a3f5f"
           }
          },
          "ternary": {
           "aaxis": {
            "gridcolor": "white",
            "linecolor": "white",
            "ticks": ""
           },
           "baxis": {
            "gridcolor": "white",
            "linecolor": "white",
            "ticks": ""
           },
           "bgcolor": "#E5ECF6",
           "caxis": {
            "gridcolor": "white",
            "linecolor": "white",
            "ticks": ""
           }
          },
          "title": {
           "x": 0.05
          },
          "xaxis": {
           "automargin": true,
           "gridcolor": "white",
           "linecolor": "white",
           "ticks": "",
           "title": {
            "standoff": 15
           },
           "zerolinecolor": "white",
           "zerolinewidth": 2
          },
          "yaxis": {
           "automargin": true,
           "gridcolor": "white",
           "linecolor": "white",
           "ticks": "",
           "title": {
            "standoff": 15
           },
           "zerolinecolor": "white",
           "zerolinewidth": 2
          }
         }
        },
        "title": {
         "text": "Age of the Shadowfleet"
        },
        "xaxis": {
         "anchor": "y",
         "domain": [
          0,
          1
         ],
         "title": {
          "text": "Build Year"
         }
        },
        "yaxis": {
         "anchor": "x",
         "domain": [
          0,
          1
         ],
         "title": {
          "text": "count"
         }
        }
       }
      }
     },
     "metadata": {},
     "output_type": "display_data"
    }
   ],
   "source": [
    "# What is the Age of the shadowfleet?\n",
    "\n",
    "px.histogram(kse_dedup, x='buildyear',\n",
    "             title='Age of the Shadowfleet',\n",
    "             labels={'buildyear':'Build Year'},\n",
    "             )"
   ]
  },
  {
   "cell_type": "code",
   "execution_count": 6,
   "metadata": {},
   "outputs": [
    {
     "data": {
      "application/vnd.plotly.v1+json": {
       "config": {
        "plotlyServerURL": "https://plot.ly"
       },
       "data": [
        {
         "alignmentgroup": "True",
         "hovertemplate": "variable=imo<br>current_flag_06082024=%{x}<br>value=%{y}<extra></extra>",
         "legendgroup": "imo",
         "marker": {
          "color": "#636efa",
          "pattern": {
           "shape": ""
          }
         },
         "name": "imo",
         "offsetgroup": "imo",
         "orientation": "v",
         "showlegend": true,
         "textposition": "auto",
         "type": "bar",
         "x": [
          "Antigua and Barbuda",
          "Azerbaijan",
          "Barbados",
          "Belize",
          "Cameroon",
          "China Peoples's Republic",
          "Comoros",
          "Cook islands",
          "Djibouti",
          "Gabon",
          "GuineaBissau",
          "Hong Kong, China",
          "Indonesia",
          "Liberia",
          "Malaysia",
          "Marshall Islands",
          "Palau",
          "Panama",
          "Russia",
          "San Marino",
          "Sierra leone",
          "Tanzania",
          "Togo",
          "Vietnam"
         ],
         "xaxis": "x",
         "y": [
          14,
          11,
          10,
          3,
          9,
          1,
          4,
          62,
          1,
          116,
          12,
          9,
          2,
          23,
          1,
          8,
          24,
          157,
          125,
          1,
          9,
          2,
          1,
          11
         ],
         "yaxis": "y"
        }
       ],
       "layout": {
        "barmode": "relative",
        "legend": {
         "title": {
          "text": "variable"
         },
         "tracegroupgap": 0
        },
        "margin": {
         "t": 60
        },
        "template": {
         "data": {
          "bar": [
           {
            "error_x": {
             "color": "#2a3f5f"
            },
            "error_y": {
             "color": "#2a3f5f"
            },
            "marker": {
             "line": {
              "color": "#E5ECF6",
              "width": 0.5
             },
             "pattern": {
              "fillmode": "overlay",
              "size": 10,
              "solidity": 0.2
             }
            },
            "type": "bar"
           }
          ],
          "barpolar": [
           {
            "marker": {
             "line": {
              "color": "#E5ECF6",
              "width": 0.5
             },
             "pattern": {
              "fillmode": "overlay",
              "size": 10,
              "solidity": 0.2
             }
            },
            "type": "barpolar"
           }
          ],
          "carpet": [
           {
            "aaxis": {
             "endlinecolor": "#2a3f5f",
             "gridcolor": "white",
             "linecolor": "white",
             "minorgridcolor": "white",
             "startlinecolor": "#2a3f5f"
            },
            "baxis": {
             "endlinecolor": "#2a3f5f",
             "gridcolor": "white",
             "linecolor": "white",
             "minorgridcolor": "white",
             "startlinecolor": "#2a3f5f"
            },
            "type": "carpet"
           }
          ],
          "choropleth": [
           {
            "colorbar": {
             "outlinewidth": 0,
             "ticks": ""
            },
            "type": "choropleth"
           }
          ],
          "contour": [
           {
            "colorbar": {
             "outlinewidth": 0,
             "ticks": ""
            },
            "colorscale": [
             [
              0,
              "#0d0887"
             ],
             [
              0.1111111111111111,
              "#46039f"
             ],
             [
              0.2222222222222222,
              "#7201a8"
             ],
             [
              0.3333333333333333,
              "#9c179e"
             ],
             [
              0.4444444444444444,
              "#bd3786"
             ],
             [
              0.5555555555555556,
              "#d8576b"
             ],
             [
              0.6666666666666666,
              "#ed7953"
             ],
             [
              0.7777777777777778,
              "#fb9f3a"
             ],
             [
              0.8888888888888888,
              "#fdca26"
             ],
             [
              1,
              "#f0f921"
             ]
            ],
            "type": "contour"
           }
          ],
          "contourcarpet": [
           {
            "colorbar": {
             "outlinewidth": 0,
             "ticks": ""
            },
            "type": "contourcarpet"
           }
          ],
          "heatmap": [
           {
            "colorbar": {
             "outlinewidth": 0,
             "ticks": ""
            },
            "colorscale": [
             [
              0,
              "#0d0887"
             ],
             [
              0.1111111111111111,
              "#46039f"
             ],
             [
              0.2222222222222222,
              "#7201a8"
             ],
             [
              0.3333333333333333,
              "#9c179e"
             ],
             [
              0.4444444444444444,
              "#bd3786"
             ],
             [
              0.5555555555555556,
              "#d8576b"
             ],
             [
              0.6666666666666666,
              "#ed7953"
             ],
             [
              0.7777777777777778,
              "#fb9f3a"
             ],
             [
              0.8888888888888888,
              "#fdca26"
             ],
             [
              1,
              "#f0f921"
             ]
            ],
            "type": "heatmap"
           }
          ],
          "heatmapgl": [
           {
            "colorbar": {
             "outlinewidth": 0,
             "ticks": ""
            },
            "colorscale": [
             [
              0,
              "#0d0887"
             ],
             [
              0.1111111111111111,
              "#46039f"
             ],
             [
              0.2222222222222222,
              "#7201a8"
             ],
             [
              0.3333333333333333,
              "#9c179e"
             ],
             [
              0.4444444444444444,
              "#bd3786"
             ],
             [
              0.5555555555555556,
              "#d8576b"
             ],
             [
              0.6666666666666666,
              "#ed7953"
             ],
             [
              0.7777777777777778,
              "#fb9f3a"
             ],
             [
              0.8888888888888888,
              "#fdca26"
             ],
             [
              1,
              "#f0f921"
             ]
            ],
            "type": "heatmapgl"
           }
          ],
          "histogram": [
           {
            "marker": {
             "pattern": {
              "fillmode": "overlay",
              "size": 10,
              "solidity": 0.2
             }
            },
            "type": "histogram"
           }
          ],
          "histogram2d": [
           {
            "colorbar": {
             "outlinewidth": 0,
             "ticks": ""
            },
            "colorscale": [
             [
              0,
              "#0d0887"
             ],
             [
              0.1111111111111111,
              "#46039f"
             ],
             [
              0.2222222222222222,
              "#7201a8"
             ],
             [
              0.3333333333333333,
              "#9c179e"
             ],
             [
              0.4444444444444444,
              "#bd3786"
             ],
             [
              0.5555555555555556,
              "#d8576b"
             ],
             [
              0.6666666666666666,
              "#ed7953"
             ],
             [
              0.7777777777777778,
              "#fb9f3a"
             ],
             [
              0.8888888888888888,
              "#fdca26"
             ],
             [
              1,
              "#f0f921"
             ]
            ],
            "type": "histogram2d"
           }
          ],
          "histogram2dcontour": [
           {
            "colorbar": {
             "outlinewidth": 0,
             "ticks": ""
            },
            "colorscale": [
             [
              0,
              "#0d0887"
             ],
             [
              0.1111111111111111,
              "#46039f"
             ],
             [
              0.2222222222222222,
              "#7201a8"
             ],
             [
              0.3333333333333333,
              "#9c179e"
             ],
             [
              0.4444444444444444,
              "#bd3786"
             ],
             [
              0.5555555555555556,
              "#d8576b"
             ],
             [
              0.6666666666666666,
              "#ed7953"
             ],
             [
              0.7777777777777778,
              "#fb9f3a"
             ],
             [
              0.8888888888888888,
              "#fdca26"
             ],
             [
              1,
              "#f0f921"
             ]
            ],
            "type": "histogram2dcontour"
           }
          ],
          "mesh3d": [
           {
            "colorbar": {
             "outlinewidth": 0,
             "ticks": ""
            },
            "type": "mesh3d"
           }
          ],
          "parcoords": [
           {
            "line": {
             "colorbar": {
              "outlinewidth": 0,
              "ticks": ""
             }
            },
            "type": "parcoords"
           }
          ],
          "pie": [
           {
            "automargin": true,
            "type": "pie"
           }
          ],
          "scatter": [
           {
            "fillpattern": {
             "fillmode": "overlay",
             "size": 10,
             "solidity": 0.2
            },
            "type": "scatter"
           }
          ],
          "scatter3d": [
           {
            "line": {
             "colorbar": {
              "outlinewidth": 0,
              "ticks": ""
             }
            },
            "marker": {
             "colorbar": {
              "outlinewidth": 0,
              "ticks": ""
             }
            },
            "type": "scatter3d"
           }
          ],
          "scattercarpet": [
           {
            "marker": {
             "colorbar": {
              "outlinewidth": 0,
              "ticks": ""
             }
            },
            "type": "scattercarpet"
           }
          ],
          "scattergeo": [
           {
            "marker": {
             "colorbar": {
              "outlinewidth": 0,
              "ticks": ""
             }
            },
            "type": "scattergeo"
           }
          ],
          "scattergl": [
           {
            "marker": {
             "colorbar": {
              "outlinewidth": 0,
              "ticks": ""
             }
            },
            "type": "scattergl"
           }
          ],
          "scattermapbox": [
           {
            "marker": {
             "colorbar": {
              "outlinewidth": 0,
              "ticks": ""
             }
            },
            "type": "scattermapbox"
           }
          ],
          "scatterpolar": [
           {
            "marker": {
             "colorbar": {
              "outlinewidth": 0,
              "ticks": ""
             }
            },
            "type": "scatterpolar"
           }
          ],
          "scatterpolargl": [
           {
            "marker": {
             "colorbar": {
              "outlinewidth": 0,
              "ticks": ""
             }
            },
            "type": "scatterpolargl"
           }
          ],
          "scatterternary": [
           {
            "marker": {
             "colorbar": {
              "outlinewidth": 0,
              "ticks": ""
             }
            },
            "type": "scatterternary"
           }
          ],
          "surface": [
           {
            "colorbar": {
             "outlinewidth": 0,
             "ticks": ""
            },
            "colorscale": [
             [
              0,
              "#0d0887"
             ],
             [
              0.1111111111111111,
              "#46039f"
             ],
             [
              0.2222222222222222,
              "#7201a8"
             ],
             [
              0.3333333333333333,
              "#9c179e"
             ],
             [
              0.4444444444444444,
              "#bd3786"
             ],
             [
              0.5555555555555556,
              "#d8576b"
             ],
             [
              0.6666666666666666,
              "#ed7953"
             ],
             [
              0.7777777777777778,
              "#fb9f3a"
             ],
             [
              0.8888888888888888,
              "#fdca26"
             ],
             [
              1,
              "#f0f921"
             ]
            ],
            "type": "surface"
           }
          ],
          "table": [
           {
            "cells": {
             "fill": {
              "color": "#EBF0F8"
             },
             "line": {
              "color": "white"
             }
            },
            "header": {
             "fill": {
              "color": "#C8D4E3"
             },
             "line": {
              "color": "white"
             }
            },
            "type": "table"
           }
          ]
         },
         "layout": {
          "annotationdefaults": {
           "arrowcolor": "#2a3f5f",
           "arrowhead": 0,
           "arrowwidth": 1
          },
          "autotypenumbers": "strict",
          "coloraxis": {
           "colorbar": {
            "outlinewidth": 0,
            "ticks": ""
           }
          },
          "colorscale": {
           "diverging": [
            [
             0,
             "#8e0152"
            ],
            [
             0.1,
             "#c51b7d"
            ],
            [
             0.2,
             "#de77ae"
            ],
            [
             0.3,
             "#f1b6da"
            ],
            [
             0.4,
             "#fde0ef"
            ],
            [
             0.5,
             "#f7f7f7"
            ],
            [
             0.6,
             "#e6f5d0"
            ],
            [
             0.7,
             "#b8e186"
            ],
            [
             0.8,
             "#7fbc41"
            ],
            [
             0.9,
             "#4d9221"
            ],
            [
             1,
             "#276419"
            ]
           ],
           "sequential": [
            [
             0,
             "#0d0887"
            ],
            [
             0.1111111111111111,
             "#46039f"
            ],
            [
             0.2222222222222222,
             "#7201a8"
            ],
            [
             0.3333333333333333,
             "#9c179e"
            ],
            [
             0.4444444444444444,
             "#bd3786"
            ],
            [
             0.5555555555555556,
             "#d8576b"
            ],
            [
             0.6666666666666666,
             "#ed7953"
            ],
            [
             0.7777777777777778,
             "#fb9f3a"
            ],
            [
             0.8888888888888888,
             "#fdca26"
            ],
            [
             1,
             "#f0f921"
            ]
           ],
           "sequentialminus": [
            [
             0,
             "#0d0887"
            ],
            [
             0.1111111111111111,
             "#46039f"
            ],
            [
             0.2222222222222222,
             "#7201a8"
            ],
            [
             0.3333333333333333,
             "#9c179e"
            ],
            [
             0.4444444444444444,
             "#bd3786"
            ],
            [
             0.5555555555555556,
             "#d8576b"
            ],
            [
             0.6666666666666666,
             "#ed7953"
            ],
            [
             0.7777777777777778,
             "#fb9f3a"
            ],
            [
             0.8888888888888888,
             "#fdca26"
            ],
            [
             1,
             "#f0f921"
            ]
           ]
          },
          "colorway": [
           "#636efa",
           "#EF553B",
           "#00cc96",
           "#ab63fa",
           "#FFA15A",
           "#19d3f3",
           "#FF6692",
           "#B6E880",
           "#FF97FF",
           "#FECB52"
          ],
          "font": {
           "color": "#2a3f5f"
          },
          "geo": {
           "bgcolor": "white",
           "lakecolor": "white",
           "landcolor": "#E5ECF6",
           "showlakes": true,
           "showland": true,
           "subunitcolor": "white"
          },
          "hoverlabel": {
           "align": "left"
          },
          "hovermode": "closest",
          "mapbox": {
           "style": "light"
          },
          "paper_bgcolor": "white",
          "plot_bgcolor": "#E5ECF6",
          "polar": {
           "angularaxis": {
            "gridcolor": "white",
            "linecolor": "white",
            "ticks": ""
           },
           "bgcolor": "#E5ECF6",
           "radialaxis": {
            "gridcolor": "white",
            "linecolor": "white",
            "ticks": ""
           }
          },
          "scene": {
           "xaxis": {
            "backgroundcolor": "#E5ECF6",
            "gridcolor": "white",
            "gridwidth": 2,
            "linecolor": "white",
            "showbackground": true,
            "ticks": "",
            "zerolinecolor": "white"
           },
           "yaxis": {
            "backgroundcolor": "#E5ECF6",
            "gridcolor": "white",
            "gridwidth": 2,
            "linecolor": "white",
            "showbackground": true,
            "ticks": "",
            "zerolinecolor": "white"
           },
           "zaxis": {
            "backgroundcolor": "#E5ECF6",
            "gridcolor": "white",
            "gridwidth": 2,
            "linecolor": "white",
            "showbackground": true,
            "ticks": "",
            "zerolinecolor": "white"
           }
          },
          "shapedefaults": {
           "line": {
            "color": "#2a3f5f"
           }
          },
          "ternary": {
           "aaxis": {
            "gridcolor": "white",
            "linecolor": "white",
            "ticks": ""
           },
           "baxis": {
            "gridcolor": "white",
            "linecolor": "white",
            "ticks": ""
           },
           "bgcolor": "#E5ECF6",
           "caxis": {
            "gridcolor": "white",
            "linecolor": "white",
            "ticks": ""
           }
          },
          "title": {
           "x": 0.05
          },
          "xaxis": {
           "automargin": true,
           "gridcolor": "white",
           "linecolor": "white",
           "ticks": "",
           "title": {
            "standoff": 15
           },
           "zerolinecolor": "white",
           "zerolinewidth": 2
          },
          "yaxis": {
           "automargin": true,
           "gridcolor": "white",
           "linecolor": "white",
           "ticks": "",
           "title": {
            "standoff": 15
           },
           "zerolinecolor": "white",
           "zerolinewidth": 2
          }
         }
        },
        "xaxis": {
         "anchor": "y",
         "categoryorder": "total descending",
         "domain": [
          0,
          1
         ],
         "title": {
          "text": "current_flag_06082024"
         }
        },
        "yaxis": {
         "anchor": "x",
         "domain": [
          0,
          1
         ],
         "title": {
          "text": "value"
         }
        }
       }
      }
     },
     "metadata": {},
     "output_type": "display_data"
    }
   ],
   "source": [
    "# What is the flag distribution? (N.B. the current flag is the flag as of 6th August 2024)\n",
    "\n",
    "px.bar(kse_dedup.groupby('current_flag_06082024').imo.count()).\\\n",
    "       update_xaxes(categoryorder='total descending')"
   ]
  },
  {
   "cell_type": "code",
   "execution_count": 7,
   "metadata": {},
   "outputs": [
    {
     "data": {
      "application/vnd.plotly.v1+json": {
       "config": {
        "plotlyServerURL": "https://plot.ly"
       },
       "data": [
        {
         "alignmentgroup": "True",
         "hovertemplate": "variable=imo<br>Entry Date=%{x}<br>value=%{y}<extra></extra>",
         "legendgroup": "imo",
         "marker": {
          "color": "#636efa",
          "pattern": {
           "shape": ""
          }
         },
         "name": "imo",
         "offsetgroup": "imo",
         "orientation": "v",
         "showlegend": true,
         "textposition": "auto",
         "type": "bar",
         "x": [
          "2023-01-01T00:00:00",
          "2023-02-01T00:00:00",
          "2023-03-01T00:00:00",
          "2023-04-01T00:00:00",
          "2023-05-01T00:00:00",
          "2023-06-01T00:00:00",
          "2023-07-01T00:00:00",
          "2023-08-01T00:00:00",
          "2023-09-01T00:00:00",
          "2023-10-01T00:00:00",
          "2023-11-01T00:00:00",
          "2023-12-01T00:00:00",
          "2024-01-01T00:00:00",
          "2024-02-01T00:00:00",
          "2024-03-01T00:00:00",
          "2024-04-01T00:00:00",
          "2024-05-01T00:00:00",
          "2024-06-01T00:00:00"
         ],
         "xaxis": "x",
         "y": [
          173,
          80,
          67,
          43,
          38,
          17,
          26,
          41,
          28,
          28,
          28,
          22,
          25,
          40,
          24,
          21,
          15,
          23
         ],
         "yaxis": "y"
        }
       ],
       "layout": {
        "barmode": "relative",
        "legend": {
         "title": {
          "text": "variable"
         },
         "tracegroupgap": 0
        },
        "template": {
         "data": {
          "bar": [
           {
            "error_x": {
             "color": "#2a3f5f"
            },
            "error_y": {
             "color": "#2a3f5f"
            },
            "marker": {
             "line": {
              "color": "#E5ECF6",
              "width": 0.5
             },
             "pattern": {
              "fillmode": "overlay",
              "size": 10,
              "solidity": 0.2
             }
            },
            "type": "bar"
           }
          ],
          "barpolar": [
           {
            "marker": {
             "line": {
              "color": "#E5ECF6",
              "width": 0.5
             },
             "pattern": {
              "fillmode": "overlay",
              "size": 10,
              "solidity": 0.2
             }
            },
            "type": "barpolar"
           }
          ],
          "carpet": [
           {
            "aaxis": {
             "endlinecolor": "#2a3f5f",
             "gridcolor": "white",
             "linecolor": "white",
             "minorgridcolor": "white",
             "startlinecolor": "#2a3f5f"
            },
            "baxis": {
             "endlinecolor": "#2a3f5f",
             "gridcolor": "white",
             "linecolor": "white",
             "minorgridcolor": "white",
             "startlinecolor": "#2a3f5f"
            },
            "type": "carpet"
           }
          ],
          "choropleth": [
           {
            "colorbar": {
             "outlinewidth": 0,
             "ticks": ""
            },
            "type": "choropleth"
           }
          ],
          "contour": [
           {
            "colorbar": {
             "outlinewidth": 0,
             "ticks": ""
            },
            "colorscale": [
             [
              0,
              "#0d0887"
             ],
             [
              0.1111111111111111,
              "#46039f"
             ],
             [
              0.2222222222222222,
              "#7201a8"
             ],
             [
              0.3333333333333333,
              "#9c179e"
             ],
             [
              0.4444444444444444,
              "#bd3786"
             ],
             [
              0.5555555555555556,
              "#d8576b"
             ],
             [
              0.6666666666666666,
              "#ed7953"
             ],
             [
              0.7777777777777778,
              "#fb9f3a"
             ],
             [
              0.8888888888888888,
              "#fdca26"
             ],
             [
              1,
              "#f0f921"
             ]
            ],
            "type": "contour"
           }
          ],
          "contourcarpet": [
           {
            "colorbar": {
             "outlinewidth": 0,
             "ticks": ""
            },
            "type": "contourcarpet"
           }
          ],
          "heatmap": [
           {
            "colorbar": {
             "outlinewidth": 0,
             "ticks": ""
            },
            "colorscale": [
             [
              0,
              "#0d0887"
             ],
             [
              0.1111111111111111,
              "#46039f"
             ],
             [
              0.2222222222222222,
              "#7201a8"
             ],
             [
              0.3333333333333333,
              "#9c179e"
             ],
             [
              0.4444444444444444,
              "#bd3786"
             ],
             [
              0.5555555555555556,
              "#d8576b"
             ],
             [
              0.6666666666666666,
              "#ed7953"
             ],
             [
              0.7777777777777778,
              "#fb9f3a"
             ],
             [
              0.8888888888888888,
              "#fdca26"
             ],
             [
              1,
              "#f0f921"
             ]
            ],
            "type": "heatmap"
           }
          ],
          "heatmapgl": [
           {
            "colorbar": {
             "outlinewidth": 0,
             "ticks": ""
            },
            "colorscale": [
             [
              0,
              "#0d0887"
             ],
             [
              0.1111111111111111,
              "#46039f"
             ],
             [
              0.2222222222222222,
              "#7201a8"
             ],
             [
              0.3333333333333333,
              "#9c179e"
             ],
             [
              0.4444444444444444,
              "#bd3786"
             ],
             [
              0.5555555555555556,
              "#d8576b"
             ],
             [
              0.6666666666666666,
              "#ed7953"
             ],
             [
              0.7777777777777778,
              "#fb9f3a"
             ],
             [
              0.8888888888888888,
              "#fdca26"
             ],
             [
              1,
              "#f0f921"
             ]
            ],
            "type": "heatmapgl"
           }
          ],
          "histogram": [
           {
            "marker": {
             "pattern": {
              "fillmode": "overlay",
              "size": 10,
              "solidity": 0.2
             }
            },
            "type": "histogram"
           }
          ],
          "histogram2d": [
           {
            "colorbar": {
             "outlinewidth": 0,
             "ticks": ""
            },
            "colorscale": [
             [
              0,
              "#0d0887"
             ],
             [
              0.1111111111111111,
              "#46039f"
             ],
             [
              0.2222222222222222,
              "#7201a8"
             ],
             [
              0.3333333333333333,
              "#9c179e"
             ],
             [
              0.4444444444444444,
              "#bd3786"
             ],
             [
              0.5555555555555556,
              "#d8576b"
             ],
             [
              0.6666666666666666,
              "#ed7953"
             ],
             [
              0.7777777777777778,
              "#fb9f3a"
             ],
             [
              0.8888888888888888,
              "#fdca26"
             ],
             [
              1,
              "#f0f921"
             ]
            ],
            "type": "histogram2d"
           }
          ],
          "histogram2dcontour": [
           {
            "colorbar": {
             "outlinewidth": 0,
             "ticks": ""
            },
            "colorscale": [
             [
              0,
              "#0d0887"
             ],
             [
              0.1111111111111111,
              "#46039f"
             ],
             [
              0.2222222222222222,
              "#7201a8"
             ],
             [
              0.3333333333333333,
              "#9c179e"
             ],
             [
              0.4444444444444444,
              "#bd3786"
             ],
             [
              0.5555555555555556,
              "#d8576b"
             ],
             [
              0.6666666666666666,
              "#ed7953"
             ],
             [
              0.7777777777777778,
              "#fb9f3a"
             ],
             [
              0.8888888888888888,
              "#fdca26"
             ],
             [
              1,
              "#f0f921"
             ]
            ],
            "type": "histogram2dcontour"
           }
          ],
          "mesh3d": [
           {
            "colorbar": {
             "outlinewidth": 0,
             "ticks": ""
            },
            "type": "mesh3d"
           }
          ],
          "parcoords": [
           {
            "line": {
             "colorbar": {
              "outlinewidth": 0,
              "ticks": ""
             }
            },
            "type": "parcoords"
           }
          ],
          "pie": [
           {
            "automargin": true,
            "type": "pie"
           }
          ],
          "scatter": [
           {
            "fillpattern": {
             "fillmode": "overlay",
             "size": 10,
             "solidity": 0.2
            },
            "type": "scatter"
           }
          ],
          "scatter3d": [
           {
            "line": {
             "colorbar": {
              "outlinewidth": 0,
              "ticks": ""
             }
            },
            "marker": {
             "colorbar": {
              "outlinewidth": 0,
              "ticks": ""
             }
            },
            "type": "scatter3d"
           }
          ],
          "scattercarpet": [
           {
            "marker": {
             "colorbar": {
              "outlinewidth": 0,
              "ticks": ""
             }
            },
            "type": "scattercarpet"
           }
          ],
          "scattergeo": [
           {
            "marker": {
             "colorbar": {
              "outlinewidth": 0,
              "ticks": ""
             }
            },
            "type": "scattergeo"
           }
          ],
          "scattergl": [
           {
            "marker": {
             "colorbar": {
              "outlinewidth": 0,
              "ticks": ""
             }
            },
            "type": "scattergl"
           }
          ],
          "scattermapbox": [
           {
            "marker": {
             "colorbar": {
              "outlinewidth": 0,
              "ticks": ""
             }
            },
            "type": "scattermapbox"
           }
          ],
          "scatterpolar": [
           {
            "marker": {
             "colorbar": {
              "outlinewidth": 0,
              "ticks": ""
             }
            },
            "type": "scatterpolar"
           }
          ],
          "scatterpolargl": [
           {
            "marker": {
             "colorbar": {
              "outlinewidth": 0,
              "ticks": ""
             }
            },
            "type": "scatterpolargl"
           }
          ],
          "scatterternary": [
           {
            "marker": {
             "colorbar": {
              "outlinewidth": 0,
              "ticks": ""
             }
            },
            "type": "scatterternary"
           }
          ],
          "surface": [
           {
            "colorbar": {
             "outlinewidth": 0,
             "ticks": ""
            },
            "colorscale": [
             [
              0,
              "#0d0887"
             ],
             [
              0.1111111111111111,
              "#46039f"
             ],
             [
              0.2222222222222222,
              "#7201a8"
             ],
             [
              0.3333333333333333,
              "#9c179e"
             ],
             [
              0.4444444444444444,
              "#bd3786"
             ],
             [
              0.5555555555555556,
              "#d8576b"
             ],
             [
              0.6666666666666666,
              "#ed7953"
             ],
             [
              0.7777777777777778,
              "#fb9f3a"
             ],
             [
              0.8888888888888888,
              "#fdca26"
             ],
             [
              1,
              "#f0f921"
             ]
            ],
            "type": "surface"
           }
          ],
          "table": [
           {
            "cells": {
             "fill": {
              "color": "#EBF0F8"
             },
             "line": {
              "color": "white"
             }
            },
            "header": {
             "fill": {
              "color": "#C8D4E3"
             },
             "line": {
              "color": "white"
             }
            },
            "type": "table"
           }
          ]
         },
         "layout": {
          "annotationdefaults": {
           "arrowcolor": "#2a3f5f",
           "arrowhead": 0,
           "arrowwidth": 1
          },
          "autotypenumbers": "strict",
          "coloraxis": {
           "colorbar": {
            "outlinewidth": 0,
            "ticks": ""
           }
          },
          "colorscale": {
           "diverging": [
            [
             0,
             "#8e0152"
            ],
            [
             0.1,
             "#c51b7d"
            ],
            [
             0.2,
             "#de77ae"
            ],
            [
             0.3,
             "#f1b6da"
            ],
            [
             0.4,
             "#fde0ef"
            ],
            [
             0.5,
             "#f7f7f7"
            ],
            [
             0.6,
             "#e6f5d0"
            ],
            [
             0.7,
             "#b8e186"
            ],
            [
             0.8,
             "#7fbc41"
            ],
            [
             0.9,
             "#4d9221"
            ],
            [
             1,
             "#276419"
            ]
           ],
           "sequential": [
            [
             0,
             "#0d0887"
            ],
            [
             0.1111111111111111,
             "#46039f"
            ],
            [
             0.2222222222222222,
             "#7201a8"
            ],
            [
             0.3333333333333333,
             "#9c179e"
            ],
            [
             0.4444444444444444,
             "#bd3786"
            ],
            [
             0.5555555555555556,
             "#d8576b"
            ],
            [
             0.6666666666666666,
             "#ed7953"
            ],
            [
             0.7777777777777778,
             "#fb9f3a"
            ],
            [
             0.8888888888888888,
             "#fdca26"
            ],
            [
             1,
             "#f0f921"
            ]
           ],
           "sequentialminus": [
            [
             0,
             "#0d0887"
            ],
            [
             0.1111111111111111,
             "#46039f"
            ],
            [
             0.2222222222222222,
             "#7201a8"
            ],
            [
             0.3333333333333333,
             "#9c179e"
            ],
            [
             0.4444444444444444,
             "#bd3786"
            ],
            [
             0.5555555555555556,
             "#d8576b"
            ],
            [
             0.6666666666666666,
             "#ed7953"
            ],
            [
             0.7777777777777778,
             "#fb9f3a"
            ],
            [
             0.8888888888888888,
             "#fdca26"
            ],
            [
             1,
             "#f0f921"
            ]
           ]
          },
          "colorway": [
           "#636efa",
           "#EF553B",
           "#00cc96",
           "#ab63fa",
           "#FFA15A",
           "#19d3f3",
           "#FF6692",
           "#B6E880",
           "#FF97FF",
           "#FECB52"
          ],
          "font": {
           "color": "#2a3f5f"
          },
          "geo": {
           "bgcolor": "white",
           "lakecolor": "white",
           "landcolor": "#E5ECF6",
           "showlakes": true,
           "showland": true,
           "subunitcolor": "white"
          },
          "hoverlabel": {
           "align": "left"
          },
          "hovermode": "closest",
          "mapbox": {
           "style": "light"
          },
          "paper_bgcolor": "white",
          "plot_bgcolor": "#E5ECF6",
          "polar": {
           "angularaxis": {
            "gridcolor": "white",
            "linecolor": "white",
            "ticks": ""
           },
           "bgcolor": "#E5ECF6",
           "radialaxis": {
            "gridcolor": "white",
            "linecolor": "white",
            "ticks": ""
           }
          },
          "scene": {
           "xaxis": {
            "backgroundcolor": "#E5ECF6",
            "gridcolor": "white",
            "gridwidth": 2,
            "linecolor": "white",
            "showbackground": true,
            "ticks": "",
            "zerolinecolor": "white"
           },
           "yaxis": {
            "backgroundcolor": "#E5ECF6",
            "gridcolor": "white",
            "gridwidth": 2,
            "linecolor": "white",
            "showbackground": true,
            "ticks": "",
            "zerolinecolor": "white"
           },
           "zaxis": {
            "backgroundcolor": "#E5ECF6",
            "gridcolor": "white",
            "gridwidth": 2,
            "linecolor": "white",
            "showbackground": true,
            "ticks": "",
            "zerolinecolor": "white"
           }
          },
          "shapedefaults": {
           "line": {
            "color": "#2a3f5f"
           }
          },
          "ternary": {
           "aaxis": {
            "gridcolor": "white",
            "linecolor": "white",
            "ticks": ""
           },
           "baxis": {
            "gridcolor": "white",
            "linecolor": "white",
            "ticks": ""
           },
           "bgcolor": "#E5ECF6",
           "caxis": {
            "gridcolor": "white",
            "linecolor": "white",
            "ticks": ""
           }
          },
          "title": {
           "x": 0.05
          },
          "xaxis": {
           "automargin": true,
           "gridcolor": "white",
           "linecolor": "white",
           "ticks": "",
           "title": {
            "standoff": 15
           },
           "zerolinecolor": "white",
           "zerolinewidth": 2
          },
          "yaxis": {
           "automargin": true,
           "gridcolor": "white",
           "linecolor": "white",
           "ticks": "",
           "title": {
            "standoff": 15
           },
           "zerolinecolor": "white",
           "zerolinewidth": 2
          }
         }
        },
        "title": {
         "text": "Entry Dates of the Shadowfleet"
        },
        "xaxis": {
         "anchor": "y",
         "domain": [
          0,
          1
         ],
         "title": {
          "text": "Entry Date"
         }
        },
        "yaxis": {
         "anchor": "x",
         "domain": [
          0,
          1
         ],
         "title": {
          "text": "value"
         }
        }
       }
      }
     },
     "metadata": {},
     "output_type": "display_data"
    }
   ],
   "source": [
    "# When dit the vessels enter the shadowfleet? (use our uninsured data)\n",
    "# The first date should be discarded as it is the date of the first entry in the dataset, but the start of measurements\n",
    "\n",
    "uninsured = pd.read_csv(PATH.joinpath('processed', 'uninsured.csv'),\n",
    "                        parse_dates=['start_date', 'end_date', 'earliest_sanction_date'],\n",
    "                        date_format='%Y-%m-%d')\n",
    "\n",
    "px.bar(uninsured.groupby('start_date').imo.count(),\n",
    "       title='Entry Dates of the Shadowfleet',\n",
    "       labels={'start_date':'Entry Date'})"
   ]
  },
  {
   "cell_type": "code",
   "execution_count": 8,
   "metadata": {},
   "outputs": [
    {
     "data": {
      "application/vnd.plotly.v1+json": {
       "config": {
        "plotlyServerURL": "https://plot.ly"
       },
       "data": [
        {
         "alignmentgroup": "True",
         "hovertemplate": "variable=imo<br>end_date=%{x}<br>value=%{y}<extra></extra>",
         "legendgroup": "imo",
         "marker": {
          "color": "#636efa",
          "pattern": {
           "shape": ""
          }
         },
         "name": "imo",
         "offsetgroup": "imo",
         "orientation": "v",
         "showlegend": true,
         "textposition": "auto",
         "type": "bar",
         "x": [
          "2023-01-31T00:00:00",
          "2023-02-28T00:00:00",
          "2023-03-31T00:00:00",
          "2023-04-30T00:00:00",
          "2023-05-31T00:00:00",
          "2023-06-30T00:00:00",
          "2023-07-31T00:00:00",
          "2023-08-31T00:00:00",
          "2023-09-30T00:00:00",
          "2023-10-31T00:00:00",
          "2023-11-30T00:00:00",
          "2023-12-31T00:00:00",
          "2024-01-31T00:00:00",
          "2024-02-29T00:00:00",
          "2024-03-31T00:00:00",
          "2024-04-30T00:00:00",
          "2024-05-31T00:00:00",
          "2024-06-30T00:00:00"
         ],
         "xaxis": "x",
         "y": [
          5,
          1,
          6,
          10,
          11,
          8,
          10,
          17,
          7,
          8,
          19,
          20,
          42,
          43,
          53,
          75,
          158,
          246
         ],
         "yaxis": "y"
        }
       ],
       "layout": {
        "barmode": "relative",
        "legend": {
         "title": {
          "text": "variable"
         },
         "tracegroupgap": 0
        },
        "template": {
         "data": {
          "bar": [
           {
            "error_x": {
             "color": "#2a3f5f"
            },
            "error_y": {
             "color": "#2a3f5f"
            },
            "marker": {
             "line": {
              "color": "#E5ECF6",
              "width": 0.5
             },
             "pattern": {
              "fillmode": "overlay",
              "size": 10,
              "solidity": 0.2
             }
            },
            "type": "bar"
           }
          ],
          "barpolar": [
           {
            "marker": {
             "line": {
              "color": "#E5ECF6",
              "width": 0.5
             },
             "pattern": {
              "fillmode": "overlay",
              "size": 10,
              "solidity": 0.2
             }
            },
            "type": "barpolar"
           }
          ],
          "carpet": [
           {
            "aaxis": {
             "endlinecolor": "#2a3f5f",
             "gridcolor": "white",
             "linecolor": "white",
             "minorgridcolor": "white",
             "startlinecolor": "#2a3f5f"
            },
            "baxis": {
             "endlinecolor": "#2a3f5f",
             "gridcolor": "white",
             "linecolor": "white",
             "minorgridcolor": "white",
             "startlinecolor": "#2a3f5f"
            },
            "type": "carpet"
           }
          ],
          "choropleth": [
           {
            "colorbar": {
             "outlinewidth": 0,
             "ticks": ""
            },
            "type": "choropleth"
           }
          ],
          "contour": [
           {
            "colorbar": {
             "outlinewidth": 0,
             "ticks": ""
            },
            "colorscale": [
             [
              0,
              "#0d0887"
             ],
             [
              0.1111111111111111,
              "#46039f"
             ],
             [
              0.2222222222222222,
              "#7201a8"
             ],
             [
              0.3333333333333333,
              "#9c179e"
             ],
             [
              0.4444444444444444,
              "#bd3786"
             ],
             [
              0.5555555555555556,
              "#d8576b"
             ],
             [
              0.6666666666666666,
              "#ed7953"
             ],
             [
              0.7777777777777778,
              "#fb9f3a"
             ],
             [
              0.8888888888888888,
              "#fdca26"
             ],
             [
              1,
              "#f0f921"
             ]
            ],
            "type": "contour"
           }
          ],
          "contourcarpet": [
           {
            "colorbar": {
             "outlinewidth": 0,
             "ticks": ""
            },
            "type": "contourcarpet"
           }
          ],
          "heatmap": [
           {
            "colorbar": {
             "outlinewidth": 0,
             "ticks": ""
            },
            "colorscale": [
             [
              0,
              "#0d0887"
             ],
             [
              0.1111111111111111,
              "#46039f"
             ],
             [
              0.2222222222222222,
              "#7201a8"
             ],
             [
              0.3333333333333333,
              "#9c179e"
             ],
             [
              0.4444444444444444,
              "#bd3786"
             ],
             [
              0.5555555555555556,
              "#d8576b"
             ],
             [
              0.6666666666666666,
              "#ed7953"
             ],
             [
              0.7777777777777778,
              "#fb9f3a"
             ],
             [
              0.8888888888888888,
              "#fdca26"
             ],
             [
              1,
              "#f0f921"
             ]
            ],
            "type": "heatmap"
           }
          ],
          "heatmapgl": [
           {
            "colorbar": {
             "outlinewidth": 0,
             "ticks": ""
            },
            "colorscale": [
             [
              0,
              "#0d0887"
             ],
             [
              0.1111111111111111,
              "#46039f"
             ],
             [
              0.2222222222222222,
              "#7201a8"
             ],
             [
              0.3333333333333333,
              "#9c179e"
             ],
             [
              0.4444444444444444,
              "#bd3786"
             ],
             [
              0.5555555555555556,
              "#d8576b"
             ],
             [
              0.6666666666666666,
              "#ed7953"
             ],
             [
              0.7777777777777778,
              "#fb9f3a"
             ],
             [
              0.8888888888888888,
              "#fdca26"
             ],
             [
              1,
              "#f0f921"
             ]
            ],
            "type": "heatmapgl"
           }
          ],
          "histogram": [
           {
            "marker": {
             "pattern": {
              "fillmode": "overlay",
              "size": 10,
              "solidity": 0.2
             }
            },
            "type": "histogram"
           }
          ],
          "histogram2d": [
           {
            "colorbar": {
             "outlinewidth": 0,
             "ticks": ""
            },
            "colorscale": [
             [
              0,
              "#0d0887"
             ],
             [
              0.1111111111111111,
              "#46039f"
             ],
             [
              0.2222222222222222,
              "#7201a8"
             ],
             [
              0.3333333333333333,
              "#9c179e"
             ],
             [
              0.4444444444444444,
              "#bd3786"
             ],
             [
              0.5555555555555556,
              "#d8576b"
             ],
             [
              0.6666666666666666,
              "#ed7953"
             ],
             [
              0.7777777777777778,
              "#fb9f3a"
             ],
             [
              0.8888888888888888,
              "#fdca26"
             ],
             [
              1,
              "#f0f921"
             ]
            ],
            "type": "histogram2d"
           }
          ],
          "histogram2dcontour": [
           {
            "colorbar": {
             "outlinewidth": 0,
             "ticks": ""
            },
            "colorscale": [
             [
              0,
              "#0d0887"
             ],
             [
              0.1111111111111111,
              "#46039f"
             ],
             [
              0.2222222222222222,
              "#7201a8"
             ],
             [
              0.3333333333333333,
              "#9c179e"
             ],
             [
              0.4444444444444444,
              "#bd3786"
             ],
             [
              0.5555555555555556,
              "#d8576b"
             ],
             [
              0.6666666666666666,
              "#ed7953"
             ],
             [
              0.7777777777777778,
              "#fb9f3a"
             ],
             [
              0.8888888888888888,
              "#fdca26"
             ],
             [
              1,
              "#f0f921"
             ]
            ],
            "type": "histogram2dcontour"
           }
          ],
          "mesh3d": [
           {
            "colorbar": {
             "outlinewidth": 0,
             "ticks": ""
            },
            "type": "mesh3d"
           }
          ],
          "parcoords": [
           {
            "line": {
             "colorbar": {
              "outlinewidth": 0,
              "ticks": ""
             }
            },
            "type": "parcoords"
           }
          ],
          "pie": [
           {
            "automargin": true,
            "type": "pie"
           }
          ],
          "scatter": [
           {
            "fillpattern": {
             "fillmode": "overlay",
             "size": 10,
             "solidity": 0.2
            },
            "type": "scatter"
           }
          ],
          "scatter3d": [
           {
            "line": {
             "colorbar": {
              "outlinewidth": 0,
              "ticks": ""
             }
            },
            "marker": {
             "colorbar": {
              "outlinewidth": 0,
              "ticks": ""
             }
            },
            "type": "scatter3d"
           }
          ],
          "scattercarpet": [
           {
            "marker": {
             "colorbar": {
              "outlinewidth": 0,
              "ticks": ""
             }
            },
            "type": "scattercarpet"
           }
          ],
          "scattergeo": [
           {
            "marker": {
             "colorbar": {
              "outlinewidth": 0,
              "ticks": ""
             }
            },
            "type": "scattergeo"
           }
          ],
          "scattergl": [
           {
            "marker": {
             "colorbar": {
              "outlinewidth": 0,
              "ticks": ""
             }
            },
            "type": "scattergl"
           }
          ],
          "scattermapbox": [
           {
            "marker": {
             "colorbar": {
              "outlinewidth": 0,
              "ticks": ""
             }
            },
            "type": "scattermapbox"
           }
          ],
          "scatterpolar": [
           {
            "marker": {
             "colorbar": {
              "outlinewidth": 0,
              "ticks": ""
             }
            },
            "type": "scatterpolar"
           }
          ],
          "scatterpolargl": [
           {
            "marker": {
             "colorbar": {
              "outlinewidth": 0,
              "ticks": ""
             }
            },
            "type": "scatterpolargl"
           }
          ],
          "scatterternary": [
           {
            "marker": {
             "colorbar": {
              "outlinewidth": 0,
              "ticks": ""
             }
            },
            "type": "scatterternary"
           }
          ],
          "surface": [
           {
            "colorbar": {
             "outlinewidth": 0,
             "ticks": ""
            },
            "colorscale": [
             [
              0,
              "#0d0887"
             ],
             [
              0.1111111111111111,
              "#46039f"
             ],
             [
              0.2222222222222222,
              "#7201a8"
             ],
             [
              0.3333333333333333,
              "#9c179e"
             ],
             [
              0.4444444444444444,
              "#bd3786"
             ],
             [
              0.5555555555555556,
              "#d8576b"
             ],
             [
              0.6666666666666666,
              "#ed7953"
             ],
             [
              0.7777777777777778,
              "#fb9f3a"
             ],
             [
              0.8888888888888888,
              "#fdca26"
             ],
             [
              1,
              "#f0f921"
             ]
            ],
            "type": "surface"
           }
          ],
          "table": [
           {
            "cells": {
             "fill": {
              "color": "#EBF0F8"
             },
             "line": {
              "color": "white"
             }
            },
            "header": {
             "fill": {
              "color": "#C8D4E3"
             },
             "line": {
              "color": "white"
             }
            },
            "type": "table"
           }
          ]
         },
         "layout": {
          "annotationdefaults": {
           "arrowcolor": "#2a3f5f",
           "arrowhead": 0,
           "arrowwidth": 1
          },
          "autotypenumbers": "strict",
          "coloraxis": {
           "colorbar": {
            "outlinewidth": 0,
            "ticks": ""
           }
          },
          "colorscale": {
           "diverging": [
            [
             0,
             "#8e0152"
            ],
            [
             0.1,
             "#c51b7d"
            ],
            [
             0.2,
             "#de77ae"
            ],
            [
             0.3,
             "#f1b6da"
            ],
            [
             0.4,
             "#fde0ef"
            ],
            [
             0.5,
             "#f7f7f7"
            ],
            [
             0.6,
             "#e6f5d0"
            ],
            [
             0.7,
             "#b8e186"
            ],
            [
             0.8,
             "#7fbc41"
            ],
            [
             0.9,
             "#4d9221"
            ],
            [
             1,
             "#276419"
            ]
           ],
           "sequential": [
            [
             0,
             "#0d0887"
            ],
            [
             0.1111111111111111,
             "#46039f"
            ],
            [
             0.2222222222222222,
             "#7201a8"
            ],
            [
             0.3333333333333333,
             "#9c179e"
            ],
            [
             0.4444444444444444,
             "#bd3786"
            ],
            [
             0.5555555555555556,
             "#d8576b"
            ],
            [
             0.6666666666666666,
             "#ed7953"
            ],
            [
             0.7777777777777778,
             "#fb9f3a"
            ],
            [
             0.8888888888888888,
             "#fdca26"
            ],
            [
             1,
             "#f0f921"
            ]
           ],
           "sequentialminus": [
            [
             0,
             "#0d0887"
            ],
            [
             0.1111111111111111,
             "#46039f"
            ],
            [
             0.2222222222222222,
             "#7201a8"
            ],
            [
             0.3333333333333333,
             "#9c179e"
            ],
            [
             0.4444444444444444,
             "#bd3786"
            ],
            [
             0.5555555555555556,
             "#d8576b"
            ],
            [
             0.6666666666666666,
             "#ed7953"
            ],
            [
             0.7777777777777778,
             "#fb9f3a"
            ],
            [
             0.8888888888888888,
             "#fdca26"
            ],
            [
             1,
             "#f0f921"
            ]
           ]
          },
          "colorway": [
           "#636efa",
           "#EF553B",
           "#00cc96",
           "#ab63fa",
           "#FFA15A",
           "#19d3f3",
           "#FF6692",
           "#B6E880",
           "#FF97FF",
           "#FECB52"
          ],
          "font": {
           "color": "#2a3f5f"
          },
          "geo": {
           "bgcolor": "white",
           "lakecolor": "white",
           "landcolor": "#E5ECF6",
           "showlakes": true,
           "showland": true,
           "subunitcolor": "white"
          },
          "hoverlabel": {
           "align": "left"
          },
          "hovermode": "closest",
          "mapbox": {
           "style": "light"
          },
          "paper_bgcolor": "white",
          "plot_bgcolor": "#E5ECF6",
          "polar": {
           "angularaxis": {
            "gridcolor": "white",
            "linecolor": "white",
            "ticks": ""
           },
           "bgcolor": "#E5ECF6",
           "radialaxis": {
            "gridcolor": "white",
            "linecolor": "white",
            "ticks": ""
           }
          },
          "scene": {
           "xaxis": {
            "backgroundcolor": "#E5ECF6",
            "gridcolor": "white",
            "gridwidth": 2,
            "linecolor": "white",
            "showbackground": true,
            "ticks": "",
            "zerolinecolor": "white"
           },
           "yaxis": {
            "backgroundcolor": "#E5ECF6",
            "gridcolor": "white",
            "gridwidth": 2,
            "linecolor": "white",
            "showbackground": true,
            "ticks": "",
            "zerolinecolor": "white"
           },
           "zaxis": {
            "backgroundcolor": "#E5ECF6",
            "gridcolor": "white",
            "gridwidth": 2,
            "linecolor": "white",
            "showbackground": true,
            "ticks": "",
            "zerolinecolor": "white"
           }
          },
          "shapedefaults": {
           "line": {
            "color": "#2a3f5f"
           }
          },
          "ternary": {
           "aaxis": {
            "gridcolor": "white",
            "linecolor": "white",
            "ticks": ""
           },
           "baxis": {
            "gridcolor": "white",
            "linecolor": "white",
            "ticks": ""
           },
           "bgcolor": "#E5ECF6",
           "caxis": {
            "gridcolor": "white",
            "linecolor": "white",
            "ticks": ""
           }
          },
          "title": {
           "x": 0.05
          },
          "xaxis": {
           "automargin": true,
           "gridcolor": "white",
           "linecolor": "white",
           "ticks": "",
           "title": {
            "standoff": 15
           },
           "zerolinecolor": "white",
           "zerolinewidth": 2
          },
          "yaxis": {
           "automargin": true,
           "gridcolor": "white",
           "linecolor": "white",
           "ticks": "",
           "title": {
            "standoff": 15
           },
           "zerolinecolor": "white",
           "zerolinewidth": 2
          }
         }
        },
        "title": {
         "text": "Exit Dates of the Shadowfleet"
        },
        "xaxis": {
         "anchor": "y",
         "domain": [
          0,
          1
         ],
         "title": {
          "text": "end_date"
         }
        },
        "yaxis": {
         "anchor": "x",
         "domain": [
          0,
          1
         ],
         "title": {
          "text": "value"
         }
        }
       }
      }
     },
     "metadata": {},
     "output_type": "display_data"
    }
   ],
   "source": [
    "# And what are the end dates? The last date (July 2024) should be discarded because it is not a real end date, but the end of measurements.\n",
    "\n",
    "px.bar(uninsured.groupby('end_date').imo.count(),\n",
    "       title='Exit Dates of the Shadowfleet',\n",
    "       labels={'start_date':'Exit Date'})"
   ]
  },
  {
   "cell_type": "markdown",
   "metadata": {},
   "source": [
    "#### Company histories and details\n",
    "\n",
    "The equasis data consists of lists of companies owning or managing a vessel through time. That data is based on the IMO registry and could be very useful in finding relevant changes in vessel ownership. "
   ]
  },
  {
   "cell_type": "code",
   "execution_count": 297,
   "metadata": {},
   "outputs": [
    {
     "data": {
      "text/plain": [
       "7963"
      ]
     },
     "execution_count": 297,
     "metadata": {},
     "output_type": "execute_result"
    }
   ],
   "source": [
    "companies = pd.read_csv(PATH.joinpath('processed', 'owners_companies.csv'))\n",
    "companies[['start_date', 'end_date']] = companies[['start_date', 'end_date']].apply(pd.to_datetime)\n",
    "len(companies)"
   ]
  },
  {
   "cell_type": "code",
   "execution_count": 298,
   "metadata": {},
   "outputs": [
    {
     "data": {
      "text/html": [
       "<div>\n",
       "<style scoped>\n",
       "    .dataframe tbody tr th:only-of-type {\n",
       "        vertical-align: middle;\n",
       "    }\n",
       "\n",
       "    .dataframe tbody tr th {\n",
       "        vertical-align: top;\n",
       "    }\n",
       "\n",
       "    .dataframe thead th {\n",
       "        text-align: right;\n",
       "    }\n",
       "</style>\n",
       "<table border=\"1\" class=\"dataframe\">\n",
       "  <thead>\n",
       "    <tr style=\"text-align: right;\">\n",
       "      <th></th>\n",
       "      <th>company</th>\n",
       "      <th>role</th>\n",
       "      <th>start_date</th>\n",
       "      <th>imo</th>\n",
       "      <th>end_date</th>\n",
       "    </tr>\n",
       "  </thead>\n",
       "  <tbody>\n",
       "    <tr>\n",
       "      <th>0</th>\n",
       "      <td>UNKNOWN</td>\n",
       "      <td>ISM Manager</td>\n",
       "      <td>2000-10-27</td>\n",
       "      <td>8727941</td>\n",
       "      <td>2000-10-27</td>\n",
       "    </tr>\n",
       "    <tr>\n",
       "      <th>1</th>\n",
       "      <td>BURREN ENERGY SHIPPING</td>\n",
       "      <td>ISM Manager</td>\n",
       "      <td>2000-10-27</td>\n",
       "      <td>8727941</td>\n",
       "      <td>2005-10-17</td>\n",
       "    </tr>\n",
       "    <tr>\n",
       "      <th>2</th>\n",
       "      <td>PRIME SHIPPING LLC- RUS</td>\n",
       "      <td>ISM Manager</td>\n",
       "      <td>2005-10-17</td>\n",
       "      <td>8727941</td>\n",
       "      <td>2009-01-04</td>\n",
       "    </tr>\n",
       "    <tr>\n",
       "      <th>3</th>\n",
       "      <td>BURREN ENERGY SHIPPING</td>\n",
       "      <td>ISM Manager</td>\n",
       "      <td>2009-01-04</td>\n",
       "      <td>8727941</td>\n",
       "      <td>2010-06-08</td>\n",
       "    </tr>\n",
       "    <tr>\n",
       "      <th>4</th>\n",
       "      <td>UNKNOWN</td>\n",
       "      <td>ISM Manager</td>\n",
       "      <td>2010-06-08</td>\n",
       "      <td>8727941</td>\n",
       "      <td>2010-08-06</td>\n",
       "    </tr>\n",
       "  </tbody>\n",
       "</table>\n",
       "</div>"
      ],
      "text/plain": [
       "                   company         role start_date      imo   end_date\n",
       "0                  UNKNOWN  ISM Manager 2000-10-27  8727941 2000-10-27\n",
       "1   BURREN ENERGY SHIPPING  ISM Manager 2000-10-27  8727941 2005-10-17\n",
       "2  PRIME SHIPPING LLC- RUS  ISM Manager 2005-10-17  8727941 2009-01-04\n",
       "3   BURREN ENERGY SHIPPING  ISM Manager 2009-01-04  8727941 2010-06-08\n",
       "4                  UNKNOWN  ISM Manager 2010-06-08  8727941 2010-08-06"
      ]
     },
     "execution_count": 298,
     "metadata": {},
     "output_type": "execute_result"
    }
   ],
   "source": [
    "companies.head()"
   ]
  },
  {
   "cell_type": "code",
   "execution_count": 178,
   "metadata": {},
   "outputs": [
    {
     "name": "stdout",
     "output_type": "stream",
     "text": [
      "There is 0 imos not in the other dataset\n"
     ]
    }
   ],
   "source": [
    "# Are there any vessels in the shadowfleet that we don't have company information for?\n",
    "\n",
    "print(f'There is {len(set(kse.imo).difference(set(companies.imo)))} imos not in the other dataset')"
   ]
  },
  {
   "cell_type": "code",
   "execution_count": 179,
   "metadata": {},
   "outputs": [
    {
     "data": {
      "text/plain": [
       "514"
      ]
     },
     "execution_count": 179,
     "metadata": {},
     "output_type": "execute_result"
    }
   ],
   "source": [
    "# How many UNKNOWN companies are in this dataset?\n",
    "\n",
    "companies[companies.company == 'UNKNOWN'].company.count()"
   ]
  },
  {
   "cell_type": "markdown",
   "metadata": {},
   "source": [
    "This seems to be relevant. Let's see these missing values over time. If they are old, than its just an administrative issue. If the missing companies are more recent, then it would be interesting to know why these companies aren't known. The unknown companies are all ISM Managers.  "
   ]
  },
  {
   "cell_type": "code",
   "execution_count": 180,
   "metadata": {},
   "outputs": [
    {
     "data": {
      "application/vnd.plotly.v1+json": {
       "config": {
        "plotlyServerURL": "https://plot.ly"
       },
       "data": [
        {
         "alignmentgroup": "True",
         "bingroup": "x",
         "hovertemplate": "start_date=%{x}<br>count=%{y}<extra></extra>",
         "legendgroup": "",
         "marker": {
          "color": "#636efa",
          "pattern": {
           "shape": ""
          }
         },
         "name": "",
         "offsetgroup": "",
         "orientation": "v",
         "showlegend": false,
         "type": "histogram",
         "x": [
          2000,
          2010,
          2020,
          2022,
          2023,
          2000,
          2010,
          2016,
          2005,
          2009,
          2009,
          2012,
          2021,
          2022,
          2014,
          2009,
          2023,
          2020,
          2010,
          2012,
          2023,
          2009,
          2022,
          2020,
          2003,
          2021,
          2018,
          2020,
          2022,
          2011,
          2020,
          2021,
          2022,
          2003,
          2023,
          2021,
          2024,
          2024,
          2021,
          2024,
          2020,
          2001,
          2021,
          2021,
          2019,
          2004,
          2024,
          2021,
          2008,
          2023,
          2023,
          2015,
          2021,
          2021,
          2020,
          2019,
          2006,
          2022,
          2008,
          2008,
          2013,
          2022,
          2018,
          2022,
          2012,
          2012,
          2018,
          2020,
          2022,
          2015,
          2023,
          2023,
          2024,
          2011,
          2021,
          2022,
          2002,
          2021,
          2015,
          2023,
          2022,
          2021,
          2024,
          2003,
          2021,
          2003,
          2007,
          2020,
          2003,
          2007,
          2021,
          2021,
          2022,
          2004,
          2020,
          2020,
          2019,
          2024,
          2019,
          2021,
          2023,
          2006,
          2020,
          2006,
          2020,
          2003,
          2023,
          2024,
          2021,
          2024,
          2021,
          2023,
          2023,
          2022,
          2024,
          2005,
          2024,
          2024,
          2023,
          2021,
          2021,
          2023,
          2023,
          2024,
          2022,
          2022,
          2023,
          2018,
          2024,
          2023,
          2003,
          2004,
          2021,
          2023,
          2004,
          2022,
          2024,
          2003,
          2022,
          2022,
          2022,
          2023,
          2022,
          2004,
          2021,
          2023,
          2023,
          2021,
          2020,
          2024,
          2024,
          2024,
          2024,
          2023,
          2006,
          2002,
          2010,
          2023,
          2024,
          2022,
          2024,
          2024,
          2022,
          2023,
          2004,
          2019,
          2023,
          2020,
          2021,
          2023,
          2024,
          2024,
          2009,
          2023,
          2013,
          2021,
          2022,
          2024,
          2004,
          2024,
          2024,
          2023,
          2022,
          2022,
          2019,
          2023,
          2023,
          2023,
          2020,
          2006,
          2021,
          2021,
          2012,
          2023,
          2024,
          2022,
          2022,
          2023,
          2023,
          2023,
          2023,
          2008,
          2005,
          2022,
          2024,
          2005,
          2022,
          2023,
          2023,
          2005,
          2005,
          2024,
          2005,
          2022,
          2010,
          2023,
          2006,
          2021,
          2005,
          2023,
          2005,
          2023,
          2024,
          2020,
          2023,
          2023,
          2006,
          2006,
          2022,
          2023,
          2023,
          2024,
          2021,
          2022,
          2023,
          2005,
          2024,
          2021,
          2022,
          2022,
          2024,
          2006,
          2006,
          2024,
          2005,
          2022,
          2005,
          2023,
          2020,
          2023,
          2024,
          2021,
          2022,
          2014,
          2022,
          2023,
          2006,
          2022,
          2023,
          2005,
          2007,
          2021,
          2006,
          2022,
          2006,
          2018,
          2019,
          2006,
          2022,
          2006,
          2021,
          2007,
          2005,
          2005,
          2022,
          2022,
          2023,
          2005,
          2022,
          2007,
          2022,
          2007,
          2009,
          2013,
          2023,
          2024,
          2023,
          2006,
          2024,
          2006,
          2023,
          2006,
          2023,
          2006,
          2005,
          2006,
          2023,
          2006,
          2021,
          2007,
          2024,
          2007,
          2013,
          2023,
          2006,
          2022,
          2007,
          2022,
          2023,
          2024,
          2008,
          2022,
          2007,
          2023,
          2023,
          2007,
          2010,
          2024,
          2007,
          2007,
          2006,
          2022,
          2006,
          2023,
          2006,
          2007,
          2022,
          2024,
          2024,
          2022,
          2013,
          2006,
          2024,
          2007,
          2023,
          2007,
          2024,
          2006,
          2022,
          2024,
          2006,
          2023,
          2024,
          2006,
          2006,
          2007,
          2024,
          2023,
          2007,
          2023,
          2020,
          2022,
          2023,
          2024,
          2007,
          2006,
          2022,
          2007,
          2006,
          2007,
          2023,
          2021,
          2022,
          2023,
          2022,
          2006,
          2022,
          2006,
          2008,
          2023,
          2007,
          2019,
          2023,
          2008,
          2006,
          2006,
          2006,
          2023,
          2024,
          2022,
          2008,
          2017,
          2021,
          2007,
          2024,
          2023,
          2007,
          2021,
          2023,
          2006,
          2019,
          2008,
          2008,
          2022,
          2024,
          2009,
          2022,
          2024,
          2008,
          2007,
          2023,
          2022,
          2010,
          2009,
          2008,
          2008,
          2022,
          2008,
          2023,
          2009,
          2008,
          2019,
          2018,
          2022,
          2022,
          2006,
          2014,
          2023,
          2023,
          2008,
          2024,
          2023,
          2024,
          2008,
          2010,
          2022,
          2024,
          2024,
          2009,
          2022,
          2024,
          2022,
          2024,
          2021,
          2023,
          2009,
          2009,
          2023,
          2009,
          2024,
          2010,
          2022,
          2024,
          2010,
          2021,
          2021,
          2021,
          2008,
          2019,
          2009,
          2009,
          2023,
          2024,
          2010,
          2020,
          2008,
          2022,
          2023,
          2007,
          2008,
          2022,
          2009,
          2022,
          2010,
          2010,
          2010,
          2010,
          2009,
          2024,
          2022,
          2024,
          2011,
          2023,
          2023,
          2011,
          2022,
          2024,
          2022,
          2024,
          2012,
          2013,
          2012,
          2013,
          2021,
          2024,
          2012,
          2016,
          2023,
          2013,
          2023,
          2012,
          2023,
          2012,
          2013,
          2023,
          2013,
          2013,
          2019,
          2019,
          2023,
          2020,
          2024,
          2024,
          2022,
          2023,
          2020,
          2020,
          2021,
          2022,
          2020,
          2022,
          2023,
          2022,
          2023
         ],
         "xaxis": "x",
         "yaxis": "y"
        }
       ],
       "layout": {
        "barmode": "relative",
        "legend": {
         "tracegroupgap": 0
        },
        "margin": {
         "t": 60
        },
        "template": {
         "data": {
          "bar": [
           {
            "error_x": {
             "color": "#2a3f5f"
            },
            "error_y": {
             "color": "#2a3f5f"
            },
            "marker": {
             "line": {
              "color": "#E5ECF6",
              "width": 0.5
             },
             "pattern": {
              "fillmode": "overlay",
              "size": 10,
              "solidity": 0.2
             }
            },
            "type": "bar"
           }
          ],
          "barpolar": [
           {
            "marker": {
             "line": {
              "color": "#E5ECF6",
              "width": 0.5
             },
             "pattern": {
              "fillmode": "overlay",
              "size": 10,
              "solidity": 0.2
             }
            },
            "type": "barpolar"
           }
          ],
          "carpet": [
           {
            "aaxis": {
             "endlinecolor": "#2a3f5f",
             "gridcolor": "white",
             "linecolor": "white",
             "minorgridcolor": "white",
             "startlinecolor": "#2a3f5f"
            },
            "baxis": {
             "endlinecolor": "#2a3f5f",
             "gridcolor": "white",
             "linecolor": "white",
             "minorgridcolor": "white",
             "startlinecolor": "#2a3f5f"
            },
            "type": "carpet"
           }
          ],
          "choropleth": [
           {
            "colorbar": {
             "outlinewidth": 0,
             "ticks": ""
            },
            "type": "choropleth"
           }
          ],
          "contour": [
           {
            "colorbar": {
             "outlinewidth": 0,
             "ticks": ""
            },
            "colorscale": [
             [
              0,
              "#0d0887"
             ],
             [
              0.1111111111111111,
              "#46039f"
             ],
             [
              0.2222222222222222,
              "#7201a8"
             ],
             [
              0.3333333333333333,
              "#9c179e"
             ],
             [
              0.4444444444444444,
              "#bd3786"
             ],
             [
              0.5555555555555556,
              "#d8576b"
             ],
             [
              0.6666666666666666,
              "#ed7953"
             ],
             [
              0.7777777777777778,
              "#fb9f3a"
             ],
             [
              0.8888888888888888,
              "#fdca26"
             ],
             [
              1,
              "#f0f921"
             ]
            ],
            "type": "contour"
           }
          ],
          "contourcarpet": [
           {
            "colorbar": {
             "outlinewidth": 0,
             "ticks": ""
            },
            "type": "contourcarpet"
           }
          ],
          "heatmap": [
           {
            "colorbar": {
             "outlinewidth": 0,
             "ticks": ""
            },
            "colorscale": [
             [
              0,
              "#0d0887"
             ],
             [
              0.1111111111111111,
              "#46039f"
             ],
             [
              0.2222222222222222,
              "#7201a8"
             ],
             [
              0.3333333333333333,
              "#9c179e"
             ],
             [
              0.4444444444444444,
              "#bd3786"
             ],
             [
              0.5555555555555556,
              "#d8576b"
             ],
             [
              0.6666666666666666,
              "#ed7953"
             ],
             [
              0.7777777777777778,
              "#fb9f3a"
             ],
             [
              0.8888888888888888,
              "#fdca26"
             ],
             [
              1,
              "#f0f921"
             ]
            ],
            "type": "heatmap"
           }
          ],
          "heatmapgl": [
           {
            "colorbar": {
             "outlinewidth": 0,
             "ticks": ""
            },
            "colorscale": [
             [
              0,
              "#0d0887"
             ],
             [
              0.1111111111111111,
              "#46039f"
             ],
             [
              0.2222222222222222,
              "#7201a8"
             ],
             [
              0.3333333333333333,
              "#9c179e"
             ],
             [
              0.4444444444444444,
              "#bd3786"
             ],
             [
              0.5555555555555556,
              "#d8576b"
             ],
             [
              0.6666666666666666,
              "#ed7953"
             ],
             [
              0.7777777777777778,
              "#fb9f3a"
             ],
             [
              0.8888888888888888,
              "#fdca26"
             ],
             [
              1,
              "#f0f921"
             ]
            ],
            "type": "heatmapgl"
           }
          ],
          "histogram": [
           {
            "marker": {
             "pattern": {
              "fillmode": "overlay",
              "size": 10,
              "solidity": 0.2
             }
            },
            "type": "histogram"
           }
          ],
          "histogram2d": [
           {
            "colorbar": {
             "outlinewidth": 0,
             "ticks": ""
            },
            "colorscale": [
             [
              0,
              "#0d0887"
             ],
             [
              0.1111111111111111,
              "#46039f"
             ],
             [
              0.2222222222222222,
              "#7201a8"
             ],
             [
              0.3333333333333333,
              "#9c179e"
             ],
             [
              0.4444444444444444,
              "#bd3786"
             ],
             [
              0.5555555555555556,
              "#d8576b"
             ],
             [
              0.6666666666666666,
              "#ed7953"
             ],
             [
              0.7777777777777778,
              "#fb9f3a"
             ],
             [
              0.8888888888888888,
              "#fdca26"
             ],
             [
              1,
              "#f0f921"
             ]
            ],
            "type": "histogram2d"
           }
          ],
          "histogram2dcontour": [
           {
            "colorbar": {
             "outlinewidth": 0,
             "ticks": ""
            },
            "colorscale": [
             [
              0,
              "#0d0887"
             ],
             [
              0.1111111111111111,
              "#46039f"
             ],
             [
              0.2222222222222222,
              "#7201a8"
             ],
             [
              0.3333333333333333,
              "#9c179e"
             ],
             [
              0.4444444444444444,
              "#bd3786"
             ],
             [
              0.5555555555555556,
              "#d8576b"
             ],
             [
              0.6666666666666666,
              "#ed7953"
             ],
             [
              0.7777777777777778,
              "#fb9f3a"
             ],
             [
              0.8888888888888888,
              "#fdca26"
             ],
             [
              1,
              "#f0f921"
             ]
            ],
            "type": "histogram2dcontour"
           }
          ],
          "mesh3d": [
           {
            "colorbar": {
             "outlinewidth": 0,
             "ticks": ""
            },
            "type": "mesh3d"
           }
          ],
          "parcoords": [
           {
            "line": {
             "colorbar": {
              "outlinewidth": 0,
              "ticks": ""
             }
            },
            "type": "parcoords"
           }
          ],
          "pie": [
           {
            "automargin": true,
            "type": "pie"
           }
          ],
          "scatter": [
           {
            "fillpattern": {
             "fillmode": "overlay",
             "size": 10,
             "solidity": 0.2
            },
            "type": "scatter"
           }
          ],
          "scatter3d": [
           {
            "line": {
             "colorbar": {
              "outlinewidth": 0,
              "ticks": ""
             }
            },
            "marker": {
             "colorbar": {
              "outlinewidth": 0,
              "ticks": ""
             }
            },
            "type": "scatter3d"
           }
          ],
          "scattercarpet": [
           {
            "marker": {
             "colorbar": {
              "outlinewidth": 0,
              "ticks": ""
             }
            },
            "type": "scattercarpet"
           }
          ],
          "scattergeo": [
           {
            "marker": {
             "colorbar": {
              "outlinewidth": 0,
              "ticks": ""
             }
            },
            "type": "scattergeo"
           }
          ],
          "scattergl": [
           {
            "marker": {
             "colorbar": {
              "outlinewidth": 0,
              "ticks": ""
             }
            },
            "type": "scattergl"
           }
          ],
          "scattermapbox": [
           {
            "marker": {
             "colorbar": {
              "outlinewidth": 0,
              "ticks": ""
             }
            },
            "type": "scattermapbox"
           }
          ],
          "scatterpolar": [
           {
            "marker": {
             "colorbar": {
              "outlinewidth": 0,
              "ticks": ""
             }
            },
            "type": "scatterpolar"
           }
          ],
          "scatterpolargl": [
           {
            "marker": {
             "colorbar": {
              "outlinewidth": 0,
              "ticks": ""
             }
            },
            "type": "scatterpolargl"
           }
          ],
          "scatterternary": [
           {
            "marker": {
             "colorbar": {
              "outlinewidth": 0,
              "ticks": ""
             }
            },
            "type": "scatterternary"
           }
          ],
          "surface": [
           {
            "colorbar": {
             "outlinewidth": 0,
             "ticks": ""
            },
            "colorscale": [
             [
              0,
              "#0d0887"
             ],
             [
              0.1111111111111111,
              "#46039f"
             ],
             [
              0.2222222222222222,
              "#7201a8"
             ],
             [
              0.3333333333333333,
              "#9c179e"
             ],
             [
              0.4444444444444444,
              "#bd3786"
             ],
             [
              0.5555555555555556,
              "#d8576b"
             ],
             [
              0.6666666666666666,
              "#ed7953"
             ],
             [
              0.7777777777777778,
              "#fb9f3a"
             ],
             [
              0.8888888888888888,
              "#fdca26"
             ],
             [
              1,
              "#f0f921"
             ]
            ],
            "type": "surface"
           }
          ],
          "table": [
           {
            "cells": {
             "fill": {
              "color": "#EBF0F8"
             },
             "line": {
              "color": "white"
             }
            },
            "header": {
             "fill": {
              "color": "#C8D4E3"
             },
             "line": {
              "color": "white"
             }
            },
            "type": "table"
           }
          ]
         },
         "layout": {
          "annotationdefaults": {
           "arrowcolor": "#2a3f5f",
           "arrowhead": 0,
           "arrowwidth": 1
          },
          "autotypenumbers": "strict",
          "coloraxis": {
           "colorbar": {
            "outlinewidth": 0,
            "ticks": ""
           }
          },
          "colorscale": {
           "diverging": [
            [
             0,
             "#8e0152"
            ],
            [
             0.1,
             "#c51b7d"
            ],
            [
             0.2,
             "#de77ae"
            ],
            [
             0.3,
             "#f1b6da"
            ],
            [
             0.4,
             "#fde0ef"
            ],
            [
             0.5,
             "#f7f7f7"
            ],
            [
             0.6,
             "#e6f5d0"
            ],
            [
             0.7,
             "#b8e186"
            ],
            [
             0.8,
             "#7fbc41"
            ],
            [
             0.9,
             "#4d9221"
            ],
            [
             1,
             "#276419"
            ]
           ],
           "sequential": [
            [
             0,
             "#0d0887"
            ],
            [
             0.1111111111111111,
             "#46039f"
            ],
            [
             0.2222222222222222,
             "#7201a8"
            ],
            [
             0.3333333333333333,
             "#9c179e"
            ],
            [
             0.4444444444444444,
             "#bd3786"
            ],
            [
             0.5555555555555556,
             "#d8576b"
            ],
            [
             0.6666666666666666,
             "#ed7953"
            ],
            [
             0.7777777777777778,
             "#fb9f3a"
            ],
            [
             0.8888888888888888,
             "#fdca26"
            ],
            [
             1,
             "#f0f921"
            ]
           ],
           "sequentialminus": [
            [
             0,
             "#0d0887"
            ],
            [
             0.1111111111111111,
             "#46039f"
            ],
            [
             0.2222222222222222,
             "#7201a8"
            ],
            [
             0.3333333333333333,
             "#9c179e"
            ],
            [
             0.4444444444444444,
             "#bd3786"
            ],
            [
             0.5555555555555556,
             "#d8576b"
            ],
            [
             0.6666666666666666,
             "#ed7953"
            ],
            [
             0.7777777777777778,
             "#fb9f3a"
            ],
            [
             0.8888888888888888,
             "#fdca26"
            ],
            [
             1,
             "#f0f921"
            ]
           ]
          },
          "colorway": [
           "#636efa",
           "#EF553B",
           "#00cc96",
           "#ab63fa",
           "#FFA15A",
           "#19d3f3",
           "#FF6692",
           "#B6E880",
           "#FF97FF",
           "#FECB52"
          ],
          "font": {
           "color": "#2a3f5f"
          },
          "geo": {
           "bgcolor": "white",
           "lakecolor": "white",
           "landcolor": "#E5ECF6",
           "showlakes": true,
           "showland": true,
           "subunitcolor": "white"
          },
          "hoverlabel": {
           "align": "left"
          },
          "hovermode": "closest",
          "mapbox": {
           "style": "light"
          },
          "paper_bgcolor": "white",
          "plot_bgcolor": "#E5ECF6",
          "polar": {
           "angularaxis": {
            "gridcolor": "white",
            "linecolor": "white",
            "ticks": ""
           },
           "bgcolor": "#E5ECF6",
           "radialaxis": {
            "gridcolor": "white",
            "linecolor": "white",
            "ticks": ""
           }
          },
          "scene": {
           "xaxis": {
            "backgroundcolor": "#E5ECF6",
            "gridcolor": "white",
            "gridwidth": 2,
            "linecolor": "white",
            "showbackground": true,
            "ticks": "",
            "zerolinecolor": "white"
           },
           "yaxis": {
            "backgroundcolor": "#E5ECF6",
            "gridcolor": "white",
            "gridwidth": 2,
            "linecolor": "white",
            "showbackground": true,
            "ticks": "",
            "zerolinecolor": "white"
           },
           "zaxis": {
            "backgroundcolor": "#E5ECF6",
            "gridcolor": "white",
            "gridwidth": 2,
            "linecolor": "white",
            "showbackground": true,
            "ticks": "",
            "zerolinecolor": "white"
           }
          },
          "shapedefaults": {
           "line": {
            "color": "#2a3f5f"
           }
          },
          "ternary": {
           "aaxis": {
            "gridcolor": "white",
            "linecolor": "white",
            "ticks": ""
           },
           "baxis": {
            "gridcolor": "white",
            "linecolor": "white",
            "ticks": ""
           },
           "bgcolor": "#E5ECF6",
           "caxis": {
            "gridcolor": "white",
            "linecolor": "white",
            "ticks": ""
           }
          },
          "title": {
           "x": 0.05
          },
          "xaxis": {
           "automargin": true,
           "gridcolor": "white",
           "linecolor": "white",
           "ticks": "",
           "title": {
            "standoff": 15
           },
           "zerolinecolor": "white",
           "zerolinewidth": 2
          },
          "yaxis": {
           "automargin": true,
           "gridcolor": "white",
           "linecolor": "white",
           "ticks": "",
           "title": {
            "standoff": 15
           },
           "zerolinecolor": "white",
           "zerolinewidth": 2
          }
         }
        },
        "xaxis": {
         "anchor": "y",
         "domain": [
          0,
          1
         ],
         "title": {
          "text": "start_date"
         }
        },
        "yaxis": {
         "anchor": "x",
         "domain": [
          0,
          1
         ],
         "title": {
          "text": "count"
         }
        }
       }
      }
     },
     "metadata": {},
     "output_type": "display_data"
    }
   ],
   "source": [
    "unknown = companies[companies.company == 'UNKNOWN'].copy()\n",
    "unknown.start_date = pd.to_datetime(unknown.start_date, errors='coerce', format='%Y-%m-%d', dayfirst=True).dt.year\n",
    "px.histogram(unknown, x='start_date')"
   ]
  },
  {
   "cell_type": "code",
   "execution_count": 181,
   "metadata": {},
   "outputs": [
    {
     "data": {
      "text/plain": [
       "role\n",
       "ISM Manager    514\n",
       "Name: count, dtype: int64"
      ]
     },
     "execution_count": 181,
     "metadata": {},
     "output_type": "execute_result"
    }
   ],
   "source": [
    "# What kind of roles are unknown?\n",
    "\n",
    "unknown.role.value_counts()"
   ]
  },
  {
   "cell_type": "code",
   "execution_count": 182,
   "metadata": {},
   "outputs": [
    {
     "data": {
      "text/html": [
       "<div>\n",
       "<style scoped>\n",
       "    .dataframe tbody tr th:only-of-type {\n",
       "        vertical-align: middle;\n",
       "    }\n",
       "\n",
       "    .dataframe tbody tr th {\n",
       "        vertical-align: top;\n",
       "    }\n",
       "\n",
       "    .dataframe thead th {\n",
       "        text-align: right;\n",
       "    }\n",
       "</style>\n",
       "<table border=\"1\" class=\"dataframe\">\n",
       "  <thead>\n",
       "    <tr style=\"text-align: right;\">\n",
       "      <th></th>\n",
       "      <th>ownership_changes</th>\n",
       "    </tr>\n",
       "    <tr>\n",
       "      <th>imo</th>\n",
       "      <th></th>\n",
       "    </tr>\n",
       "  </thead>\n",
       "  <tbody>\n",
       "    <tr>\n",
       "      <th>9302126</th>\n",
       "      <td>4</td>\n",
       "    </tr>\n",
       "    <tr>\n",
       "      <th>9296391</th>\n",
       "      <td>3</td>\n",
       "    </tr>\n",
       "    <tr>\n",
       "      <th>9334557</th>\n",
       "      <td>3</td>\n",
       "    </tr>\n",
       "    <tr>\n",
       "      <th>9257137</th>\n",
       "      <td>3</td>\n",
       "    </tr>\n",
       "    <tr>\n",
       "      <th>9292199</th>\n",
       "      <td>3</td>\n",
       "    </tr>\n",
       "    <tr>\n",
       "      <th>9326885</th>\n",
       "      <td>3</td>\n",
       "    </tr>\n",
       "    <tr>\n",
       "      <th>9388742</th>\n",
       "      <td>3</td>\n",
       "    </tr>\n",
       "    <tr>\n",
       "      <th>9318034</th>\n",
       "      <td>3</td>\n",
       "    </tr>\n",
       "    <tr>\n",
       "      <th>9423736</th>\n",
       "      <td>3</td>\n",
       "    </tr>\n",
       "    <tr>\n",
       "      <th>9378620</th>\n",
       "      <td>3</td>\n",
       "    </tr>\n",
       "    <tr>\n",
       "      <th>9297371</th>\n",
       "      <td>3</td>\n",
       "    </tr>\n",
       "    <tr>\n",
       "      <th>9297357</th>\n",
       "      <td>3</td>\n",
       "    </tr>\n",
       "    <tr>\n",
       "      <th>9237412</th>\n",
       "      <td>3</td>\n",
       "    </tr>\n",
       "    <tr>\n",
       "      <th>9248849</th>\n",
       "      <td>3</td>\n",
       "    </tr>\n",
       "    <tr>\n",
       "      <th>9327372</th>\n",
       "      <td>3</td>\n",
       "    </tr>\n",
       "    <tr>\n",
       "      <th>9269257</th>\n",
       "      <td>3</td>\n",
       "    </tr>\n",
       "    <tr>\n",
       "      <th>9246475</th>\n",
       "      <td>3</td>\n",
       "    </tr>\n",
       "    <tr>\n",
       "      <th>9352195</th>\n",
       "      <td>2</td>\n",
       "    </tr>\n",
       "    <tr>\n",
       "      <th>9350850</th>\n",
       "      <td>2</td>\n",
       "    </tr>\n",
       "    <tr>\n",
       "      <th>9289520</th>\n",
       "      <td>2</td>\n",
       "    </tr>\n",
       "  </tbody>\n",
       "</table>\n",
       "</div>"
      ],
      "text/plain": [
       "         ownership_changes\n",
       "imo                       \n",
       "9302126                  4\n",
       "9296391                  3\n",
       "9334557                  3\n",
       "9257137                  3\n",
       "9292199                  3\n",
       "9326885                  3\n",
       "9388742                  3\n",
       "9318034                  3\n",
       "9423736                  3\n",
       "9378620                  3\n",
       "9297371                  3\n",
       "9297357                  3\n",
       "9237412                  3\n",
       "9248849                  3\n",
       "9327372                  3\n",
       "9269257                  3\n",
       "9246475                  3\n",
       "9352195                  2\n",
       "9350850                  2\n",
       "9289520                  2"
      ]
     },
     "execution_count": 182,
     "metadata": {},
     "output_type": "execute_result"
    }
   ],
   "source": [
    "# What companies had many ownership changes after the start of the Ukraine war?\n",
    "\n",
    "companies.query('role == \"Registered owner\" & start_date > \"01-01-2022\"')\\\n",
    "         .groupby('imo')\\\n",
    "         .agg(ownership_changes=('company', 'nunique'))\\\n",
    "         .sort_values('ownership_changes', ascending=False)[0:20]"
   ]
  },
  {
   "cell_type": "code",
   "execution_count": 183,
   "metadata": {},
   "outputs": [
    {
     "data": {
      "text/html": [
       "<div>\n",
       "<style scoped>\n",
       "    .dataframe tbody tr th:only-of-type {\n",
       "        vertical-align: middle;\n",
       "    }\n",
       "\n",
       "    .dataframe tbody tr th {\n",
       "        vertical-align: top;\n",
       "    }\n",
       "\n",
       "    .dataframe thead th {\n",
       "        text-align: right;\n",
       "    }\n",
       "</style>\n",
       "<table border=\"1\" class=\"dataframe\">\n",
       "  <thead>\n",
       "    <tr style=\"text-align: right;\">\n",
       "      <th></th>\n",
       "      <th>company</th>\n",
       "      <th>role</th>\n",
       "      <th>start_date</th>\n",
       "      <th>imo</th>\n",
       "      <th>end_date</th>\n",
       "      <th>vessel_name</th>\n",
       "    </tr>\n",
       "  </thead>\n",
       "  <tbody>\n",
       "    <tr>\n",
       "      <th>0</th>\n",
       "      <td>TEVERE SHIPPING LLC</td>\n",
       "      <td>Registered owner</td>\n",
       "      <td>2005-07-15</td>\n",
       "      <td>9302126</td>\n",
       "      <td>2008-10-14</td>\n",
       "      <td>Rainbow</td>\n",
       "    </tr>\n",
       "    <tr>\n",
       "      <th>1</th>\n",
       "      <td>TORM A/S</td>\n",
       "      <td>Registered owner</td>\n",
       "      <td>2008-10-14</td>\n",
       "      <td>9302126</td>\n",
       "      <td>2020-06-29</td>\n",
       "      <td>Rainbow</td>\n",
       "    </tr>\n",
       "    <tr>\n",
       "      <th>2</th>\n",
       "      <td>TORM A/S</td>\n",
       "      <td>Registered owner</td>\n",
       "      <td>2020-06-29</td>\n",
       "      <td>9302126</td>\n",
       "      <td>2023-02-01</td>\n",
       "      <td>Rainbow</td>\n",
       "    </tr>\n",
       "    <tr>\n",
       "      <th>3</th>\n",
       "      <td>AIDAN MARITIME 88 DAC</td>\n",
       "      <td>Registered owner</td>\n",
       "      <td>2023-02-01</td>\n",
       "      <td>9302126</td>\n",
       "      <td>2023-02-01</td>\n",
       "      <td>Rainbow</td>\n",
       "    </tr>\n",
       "    <tr>\n",
       "      <th>4</th>\n",
       "      <td>OLYMPIC GLORY SHIPPING SA</td>\n",
       "      <td>Registered owner</td>\n",
       "      <td>2023-02-01</td>\n",
       "      <td>9302126</td>\n",
       "      <td>2024-01-06</td>\n",
       "      <td>Rainbow</td>\n",
       "    </tr>\n",
       "    <tr>\n",
       "      <th>5</th>\n",
       "      <td>JOLLY HOLDING CORP</td>\n",
       "      <td>Registered owner</td>\n",
       "      <td>2024-01-06</td>\n",
       "      <td>9302126</td>\n",
       "      <td>2024-03-01</td>\n",
       "      <td>Rainbow</td>\n",
       "    </tr>\n",
       "    <tr>\n",
       "      <th>6</th>\n",
       "      <td>OCEANICORBIT VENTURES LTD</td>\n",
       "      <td>Registered owner</td>\n",
       "      <td>2024-03-01</td>\n",
       "      <td>9302126</td>\n",
       "      <td>NaT</td>\n",
       "      <td>Rainbow</td>\n",
       "    </tr>\n",
       "  </tbody>\n",
       "</table>\n",
       "</div>"
      ],
      "text/plain": [
       "                     company              role start_date      imo   end_date  \\\n",
       "0        TEVERE SHIPPING LLC  Registered owner 2005-07-15  9302126 2008-10-14   \n",
       "1                   TORM A/S  Registered owner 2008-10-14  9302126 2020-06-29   \n",
       "2                   TORM A/S  Registered owner 2020-06-29  9302126 2023-02-01   \n",
       "3      AIDAN MARITIME 88 DAC  Registered owner 2023-02-01  9302126 2023-02-01   \n",
       "4  OLYMPIC GLORY SHIPPING SA  Registered owner 2023-02-01  9302126 2024-01-06   \n",
       "5         JOLLY HOLDING CORP  Registered owner 2024-01-06  9302126 2024-03-01   \n",
       "6  OCEANICORBIT VENTURES LTD  Registered owner 2024-03-01  9302126        NaT   \n",
       "\n",
       "  vessel_name  \n",
       "0     Rainbow  \n",
       "1     Rainbow  \n",
       "2     Rainbow  \n",
       "3     Rainbow  \n",
       "4     Rainbow  \n",
       "5     Rainbow  \n",
       "6     Rainbow  "
      ]
     },
     "execution_count": 183,
     "metadata": {},
     "output_type": "execute_result"
    }
   ],
   "source": [
    "# Let's look at the vessel with the most ownership changes after the Ukraine war\n",
    "\n",
    "pd.merge(companies.query('imo == 9302126 & role == \"Registered owner\"'),\n",
    "         kse[['imo', 'vessel_name']],\n",
    "         on='imo',\n",
    "         how='left')"
   ]
  },
  {
   "cell_type": "code",
   "execution_count": 184,
   "metadata": {},
   "outputs": [
    {
     "data": {
      "application/vnd.plotly.v1+json": {
       "config": {
        "plotlyServerURL": "https://plot.ly"
       },
       "data": [
        {
         "alignmentgroup": "True",
         "hovertemplate": "role=ISM Manager<br>End Date=%{x}<br>Number of Ownership Changes=%{y}<extra></extra>",
         "legendgroup": "ISM Manager",
         "marker": {
          "color": "#636efa",
          "pattern": {
           "shape": ""
          }
         },
         "name": "ISM Manager",
         "offsetgroup": "ISM Manager",
         "orientation": "v",
         "showlegend": true,
         "textposition": "auto",
         "type": "bar",
         "x": [
          "2014-01-31T00:00:00",
          "2014-02-28T00:00:00",
          "2014-03-31T00:00:00",
          "2014-04-30T00:00:00",
          "2014-05-31T00:00:00",
          "2014-06-30T00:00:00",
          "2014-07-31T00:00:00",
          "2014-08-31T00:00:00",
          "2014-09-30T00:00:00",
          "2014-10-31T00:00:00",
          "2014-11-30T00:00:00",
          "2014-12-31T00:00:00",
          "2015-01-31T00:00:00",
          "2015-02-28T00:00:00",
          "2015-03-31T00:00:00",
          "2015-04-30T00:00:00",
          "2015-05-31T00:00:00",
          "2015-06-30T00:00:00",
          "2015-07-31T00:00:00",
          "2015-08-31T00:00:00",
          "2015-09-30T00:00:00",
          "2015-10-31T00:00:00",
          "2015-11-30T00:00:00",
          "2015-12-31T00:00:00",
          "2016-01-31T00:00:00",
          "2016-02-29T00:00:00",
          "2016-03-31T00:00:00",
          "2016-04-30T00:00:00",
          "2016-05-31T00:00:00",
          "2016-06-30T00:00:00",
          "2016-07-31T00:00:00",
          "2016-08-31T00:00:00",
          "2016-09-30T00:00:00",
          "2016-10-31T00:00:00",
          "2016-11-30T00:00:00",
          "2016-12-31T00:00:00",
          "2017-01-31T00:00:00",
          "2017-02-28T00:00:00",
          "2017-03-31T00:00:00",
          "2017-04-30T00:00:00",
          "2017-05-31T00:00:00",
          "2017-06-30T00:00:00",
          "2017-07-31T00:00:00",
          "2017-08-31T00:00:00",
          "2017-09-30T00:00:00",
          "2017-10-31T00:00:00",
          "2017-11-30T00:00:00",
          "2017-12-31T00:00:00",
          "2018-01-31T00:00:00",
          "2018-02-28T00:00:00",
          "2018-03-31T00:00:00",
          "2018-04-30T00:00:00",
          "2018-05-31T00:00:00",
          "2018-06-30T00:00:00",
          "2018-07-31T00:00:00",
          "2018-08-31T00:00:00",
          "2018-09-30T00:00:00",
          "2018-10-31T00:00:00",
          "2018-11-30T00:00:00",
          "2018-12-31T00:00:00",
          "2019-01-31T00:00:00",
          "2019-02-28T00:00:00",
          "2019-03-31T00:00:00",
          "2019-04-30T00:00:00",
          "2019-05-31T00:00:00",
          "2019-06-30T00:00:00",
          "2019-07-31T00:00:00",
          "2019-08-31T00:00:00",
          "2019-09-30T00:00:00",
          "2019-10-31T00:00:00",
          "2019-11-30T00:00:00",
          "2019-12-31T00:00:00",
          "2020-01-31T00:00:00",
          "2020-02-29T00:00:00",
          "2020-03-31T00:00:00",
          "2020-04-30T00:00:00",
          "2020-05-31T00:00:00",
          "2020-06-30T00:00:00",
          "2020-07-31T00:00:00",
          "2020-08-31T00:00:00",
          "2020-09-30T00:00:00",
          "2020-10-31T00:00:00",
          "2020-11-30T00:00:00",
          "2020-12-31T00:00:00",
          "2021-01-31T00:00:00",
          "2021-02-28T00:00:00",
          "2021-03-31T00:00:00",
          "2021-04-30T00:00:00",
          "2021-05-31T00:00:00",
          "2021-06-30T00:00:00",
          "2021-07-31T00:00:00",
          "2021-08-31T00:00:00",
          "2021-09-30T00:00:00",
          "2021-10-31T00:00:00",
          "2021-11-30T00:00:00",
          "2021-12-31T00:00:00",
          "2022-01-31T00:00:00",
          "2022-02-28T00:00:00",
          "2022-03-31T00:00:00",
          "2022-04-30T00:00:00",
          "2022-05-31T00:00:00",
          "2022-06-30T00:00:00",
          "2022-07-31T00:00:00",
          "2022-08-31T00:00:00",
          "2022-09-30T00:00:00",
          "2022-10-31T00:00:00",
          "2022-11-30T00:00:00",
          "2022-12-31T00:00:00",
          "2023-01-31T00:00:00",
          "2023-02-28T00:00:00",
          "2023-03-31T00:00:00",
          "2023-04-30T00:00:00",
          "2023-05-31T00:00:00",
          "2023-06-30T00:00:00",
          "2023-07-31T00:00:00",
          "2023-08-31T00:00:00",
          "2023-09-30T00:00:00",
          "2023-10-31T00:00:00",
          "2023-11-30T00:00:00",
          "2023-12-31T00:00:00",
          "2024-01-31T00:00:00",
          "2024-02-29T00:00:00",
          "2024-03-31T00:00:00",
          "2024-04-30T00:00:00",
          "2024-05-31T00:00:00",
          "2024-06-30T00:00:00",
          "2024-07-31T00:00:00",
          "2024-08-31T00:00:00",
          "2024-09-30T00:00:00"
         ],
         "xaxis": "x",
         "y": [
          8,
          10,
          9,
          18,
          7,
          8,
          5,
          3,
          6,
          8,
          5,
          11,
          3,
          4,
          6,
          11,
          3,
          9,
          4,
          7,
          3,
          2,
          3,
          1,
          3,
          8,
          18,
          24,
          33,
          15,
          3,
          8,
          6,
          3,
          1,
          6,
          3,
          1,
          9,
          2,
          1,
          4,
          5,
          3,
          4,
          2,
          9,
          5,
          3,
          3,
          1,
          8,
          2,
          4,
          5,
          5,
          4,
          6,
          3,
          16,
          5,
          7,
          1,
          5,
          6,
          3,
          3,
          6,
          5,
          10,
          4,
          13,
          17,
          9,
          4,
          2,
          3,
          7,
          7,
          6,
          12,
          14,
          10,
          12,
          11,
          16,
          9,
          15,
          13,
          22,
          11,
          18,
          6,
          5,
          13,
          18,
          102,
          5,
          8,
          101,
          26,
          19,
          24,
          18,
          17,
          23,
          37,
          35,
          42,
          60,
          47,
          48,
          45,
          35,
          69,
          58,
          30,
          24,
          33,
          49,
          58,
          56,
          100,
          43,
          30,
          21,
          34,
          53,
          21
         ],
         "yaxis": "y"
        },
        {
         "alignmentgroup": "True",
         "hovertemplate": "role=Registered owner<br>End Date=%{x}<br>Number of Ownership Changes=%{y}<extra></extra>",
         "legendgroup": "Registered owner",
         "marker": {
          "color": "#EF553B",
          "pattern": {
           "shape": ""
          }
         },
         "name": "Registered owner",
         "offsetgroup": "Registered owner",
         "orientation": "v",
         "showlegend": true,
         "textposition": "auto",
         "type": "bar",
         "x": [
          "2014-01-31T00:00:00",
          "2014-02-28T00:00:00",
          "2014-03-31T00:00:00",
          "2014-04-30T00:00:00",
          "2014-05-31T00:00:00",
          "2014-06-30T00:00:00",
          "2014-07-31T00:00:00",
          "2014-08-31T00:00:00",
          "2014-09-30T00:00:00",
          "2014-10-31T00:00:00",
          "2014-12-31T00:00:00",
          "2015-01-31T00:00:00",
          "2015-02-28T00:00:00",
          "2015-03-31T00:00:00",
          "2015-04-30T00:00:00",
          "2015-05-31T00:00:00",
          "2015-07-31T00:00:00",
          "2015-09-30T00:00:00",
          "2015-10-31T00:00:00",
          "2015-11-30T00:00:00",
          "2015-12-31T00:00:00",
          "2016-03-31T00:00:00",
          "2016-05-31T00:00:00",
          "2016-06-30T00:00:00",
          "2016-07-31T00:00:00",
          "2016-08-31T00:00:00",
          "2016-09-30T00:00:00",
          "2016-11-30T00:00:00",
          "2016-12-31T00:00:00",
          "2017-01-31T00:00:00",
          "2017-02-28T00:00:00",
          "2017-03-31T00:00:00",
          "2017-04-30T00:00:00",
          "2017-06-30T00:00:00",
          "2017-07-31T00:00:00",
          "2017-08-31T00:00:00",
          "2017-09-30T00:00:00",
          "2017-10-31T00:00:00",
          "2017-11-30T00:00:00",
          "2017-12-31T00:00:00",
          "2018-01-31T00:00:00",
          "2018-02-28T00:00:00",
          "2018-03-31T00:00:00",
          "2018-04-30T00:00:00",
          "2018-05-31T00:00:00",
          "2018-07-31T00:00:00",
          "2018-08-31T00:00:00",
          "2018-09-30T00:00:00",
          "2018-10-31T00:00:00",
          "2018-11-30T00:00:00",
          "2018-12-31T00:00:00",
          "2019-01-31T00:00:00",
          "2019-02-28T00:00:00",
          "2019-03-31T00:00:00",
          "2019-04-30T00:00:00",
          "2019-05-31T00:00:00",
          "2019-06-30T00:00:00",
          "2019-07-31T00:00:00",
          "2019-08-31T00:00:00",
          "2019-09-30T00:00:00",
          "2019-10-31T00:00:00",
          "2019-11-30T00:00:00",
          "2019-12-31T00:00:00",
          "2020-01-31T00:00:00",
          "2020-02-29T00:00:00",
          "2020-03-31T00:00:00",
          "2020-04-30T00:00:00",
          "2020-05-31T00:00:00",
          "2020-06-30T00:00:00",
          "2020-07-31T00:00:00",
          "2020-08-31T00:00:00",
          "2020-09-30T00:00:00",
          "2020-10-31T00:00:00",
          "2020-11-30T00:00:00",
          "2020-12-31T00:00:00",
          "2021-01-31T00:00:00",
          "2021-02-28T00:00:00",
          "2021-03-31T00:00:00",
          "2021-04-30T00:00:00",
          "2021-05-31T00:00:00",
          "2021-06-30T00:00:00",
          "2021-07-31T00:00:00",
          "2021-08-31T00:00:00",
          "2021-09-30T00:00:00",
          "2021-10-31T00:00:00",
          "2021-11-30T00:00:00",
          "2021-12-31T00:00:00",
          "2022-01-31T00:00:00",
          "2022-02-28T00:00:00",
          "2022-03-31T00:00:00",
          "2022-04-30T00:00:00",
          "2022-05-31T00:00:00",
          "2022-06-30T00:00:00",
          "2022-07-31T00:00:00",
          "2022-08-31T00:00:00",
          "2022-09-30T00:00:00",
          "2022-10-31T00:00:00",
          "2022-11-30T00:00:00",
          "2022-12-31T00:00:00",
          "2023-01-31T00:00:00",
          "2023-02-28T00:00:00",
          "2023-03-31T00:00:00",
          "2023-04-30T00:00:00",
          "2023-05-31T00:00:00",
          "2023-06-30T00:00:00",
          "2023-07-31T00:00:00",
          "2023-08-31T00:00:00",
          "2023-09-30T00:00:00",
          "2023-10-31T00:00:00",
          "2023-11-30T00:00:00",
          "2023-12-31T00:00:00",
          "2024-01-31T00:00:00",
          "2024-02-29T00:00:00",
          "2024-03-31T00:00:00",
          "2024-04-30T00:00:00",
          "2024-05-31T00:00:00",
          "2024-06-30T00:00:00",
          "2024-07-31T00:00:00",
          "2024-08-31T00:00:00",
          "2024-09-30T00:00:00"
         ],
         "xaxis": "x",
         "y": [
          2,
          3,
          4,
          1,
          1,
          2,
          2,
          1,
          3,
          3,
          3,
          1,
          3,
          1,
          1,
          3,
          2,
          2,
          4,
          5,
          2,
          2,
          1,
          1,
          1,
          2,
          3,
          1,
          1,
          4,
          1,
          2,
          1,
          1,
          2,
          4,
          1,
          1,
          5,
          5,
          1,
          2,
          3,
          3,
          1,
          6,
          1,
          3,
          3,
          1,
          5,
          5,
          3,
          7,
          6,
          4,
          3,
          3,
          2,
          10,
          8,
          3,
          3,
          7,
          9,
          3,
          1,
          1,
          6,
          6,
          3,
          6,
          6,
          3,
          12,
          9,
          3,
          10,
          3,
          10,
          14,
          6,
          11,
          6,
          6,
          6,
          8,
          18,
          2,
          8,
          4,
          13,
          19,
          10,
          15,
          15,
          17,
          29,
          38,
          28,
          37,
          38,
          14,
          21,
          18,
          21,
          15,
          7,
          7,
          19,
          19,
          25,
          44,
          43,
          27,
          16,
          3,
          17,
          23,
          6
         ],
         "yaxis": "y"
        },
        {
         "alignmentgroup": "True",
         "hovertemplate": "role=Ship manager / Commercial manager<br>End Date=%{x}<br>Number of Ownership Changes=%{y}<extra></extra>",
         "legendgroup": "Ship manager / Commercial manager",
         "marker": {
          "color": "#00cc96",
          "pattern": {
           "shape": ""
          }
         },
         "name": "Ship manager / Commercial manager",
         "offsetgroup": "Ship manager / Commercial manager",
         "orientation": "v",
         "showlegend": true,
         "textposition": "auto",
         "type": "bar",
         "x": [
          "2014-01-31T00:00:00",
          "2014-02-28T00:00:00",
          "2014-03-31T00:00:00",
          "2014-04-30T00:00:00",
          "2014-05-31T00:00:00",
          "2014-06-30T00:00:00",
          "2014-07-31T00:00:00",
          "2014-08-31T00:00:00",
          "2014-09-30T00:00:00",
          "2014-10-31T00:00:00",
          "2014-11-30T00:00:00",
          "2014-12-31T00:00:00",
          "2015-01-31T00:00:00",
          "2015-02-28T00:00:00",
          "2015-03-31T00:00:00",
          "2015-04-30T00:00:00",
          "2015-05-31T00:00:00",
          "2015-06-30T00:00:00",
          "2015-07-31T00:00:00",
          "2015-08-31T00:00:00",
          "2015-09-30T00:00:00",
          "2015-10-31T00:00:00",
          "2015-11-30T00:00:00",
          "2015-12-31T00:00:00",
          "2016-01-31T00:00:00",
          "2016-02-29T00:00:00",
          "2016-03-31T00:00:00",
          "2016-04-30T00:00:00",
          "2016-05-31T00:00:00",
          "2016-06-30T00:00:00",
          "2016-07-31T00:00:00",
          "2016-08-31T00:00:00",
          "2016-09-30T00:00:00",
          "2016-10-31T00:00:00",
          "2016-11-30T00:00:00",
          "2016-12-31T00:00:00",
          "2017-01-31T00:00:00",
          "2017-02-28T00:00:00",
          "2017-03-31T00:00:00",
          "2017-04-30T00:00:00",
          "2017-05-31T00:00:00",
          "2017-06-30T00:00:00",
          "2017-07-31T00:00:00",
          "2017-08-31T00:00:00",
          "2017-09-30T00:00:00",
          "2017-10-31T00:00:00",
          "2017-11-30T00:00:00",
          "2017-12-31T00:00:00",
          "2018-01-31T00:00:00",
          "2018-02-28T00:00:00",
          "2018-03-31T00:00:00",
          "2018-04-30T00:00:00",
          "2018-05-31T00:00:00",
          "2018-06-30T00:00:00",
          "2018-07-31T00:00:00",
          "2018-08-31T00:00:00",
          "2018-09-30T00:00:00",
          "2018-10-31T00:00:00",
          "2018-11-30T00:00:00",
          "2018-12-31T00:00:00",
          "2019-01-31T00:00:00",
          "2019-02-28T00:00:00",
          "2019-03-31T00:00:00",
          "2019-04-30T00:00:00",
          "2019-05-31T00:00:00",
          "2019-06-30T00:00:00",
          "2019-07-31T00:00:00",
          "2019-08-31T00:00:00",
          "2019-09-30T00:00:00",
          "2019-10-31T00:00:00",
          "2019-11-30T00:00:00",
          "2019-12-31T00:00:00",
          "2020-01-31T00:00:00",
          "2020-02-29T00:00:00",
          "2020-03-31T00:00:00",
          "2020-04-30T00:00:00",
          "2020-05-31T00:00:00",
          "2020-06-30T00:00:00",
          "2020-07-31T00:00:00",
          "2020-08-31T00:00:00",
          "2020-09-30T00:00:00",
          "2020-10-31T00:00:00",
          "2020-11-30T00:00:00",
          "2020-12-31T00:00:00",
          "2021-01-31T00:00:00",
          "2021-02-28T00:00:00",
          "2021-03-31T00:00:00",
          "2021-04-30T00:00:00",
          "2021-05-31T00:00:00",
          "2021-06-30T00:00:00",
          "2021-07-31T00:00:00",
          "2021-08-31T00:00:00",
          "2021-09-30T00:00:00",
          "2021-10-31T00:00:00",
          "2021-11-30T00:00:00",
          "2021-12-31T00:00:00",
          "2022-01-31T00:00:00",
          "2022-02-28T00:00:00",
          "2022-03-31T00:00:00",
          "2022-04-30T00:00:00",
          "2022-05-31T00:00:00",
          "2022-06-30T00:00:00",
          "2022-07-31T00:00:00",
          "2022-08-31T00:00:00",
          "2022-09-30T00:00:00",
          "2022-10-31T00:00:00",
          "2022-11-30T00:00:00",
          "2022-12-31T00:00:00",
          "2023-01-31T00:00:00",
          "2023-02-28T00:00:00",
          "2023-03-31T00:00:00",
          "2023-04-30T00:00:00",
          "2023-05-31T00:00:00",
          "2023-06-30T00:00:00",
          "2023-07-31T00:00:00",
          "2023-08-31T00:00:00",
          "2023-09-30T00:00:00",
          "2023-10-31T00:00:00",
          "2023-11-30T00:00:00",
          "2023-12-31T00:00:00",
          "2024-01-31T00:00:00",
          "2024-02-29T00:00:00",
          "2024-03-31T00:00:00",
          "2024-04-30T00:00:00",
          "2024-05-31T00:00:00",
          "2024-06-30T00:00:00",
          "2024-07-31T00:00:00",
          "2024-08-31T00:00:00",
          "2024-09-30T00:00:00"
         ],
         "xaxis": "x",
         "y": [
          6,
          3,
          6,
          10,
          5,
          17,
          4,
          3,
          6,
          8,
          4,
          10,
          7,
          5,
          5,
          6,
          3,
          11,
          2,
          5,
          3,
          4,
          4,
          3,
          1,
          4,
          13,
          17,
          29,
          20,
          2,
          8,
          7,
          5,
          1,
          4,
          6,
          3,
          5,
          5,
          1,
          3,
          2,
          5,
          2,
          3,
          5,
          7,
          3,
          5,
          1,
          4,
          4,
          1,
          10,
          3,
          3,
          5,
          4,
          11,
          7,
          3,
          6,
          8,
          8,
          2,
          1,
          2,
          4,
          11,
          2,
          6,
          13,
          11,
          5,
          2,
          2,
          4,
          10,
          8,
          12,
          14,
          3,
          12,
          14,
          11,
          13,
          9,
          12,
          15,
          8,
          14,
          5,
          9,
          12,
          12,
          95,
          4,
          11,
          89,
          21,
          17,
          21,
          16,
          20,
          20,
          27,
          29,
          36,
          48,
          46,
          31,
          35,
          23,
          61,
          43,
          17,
          17,
          25,
          43,
          61,
          81,
          107,
          33,
          24,
          12,
          23,
          23,
          5
         ],
         "yaxis": "y"
        }
       ],
       "layout": {
        "barmode": "relative",
        "legend": {
         "title": {
          "text": "role"
         },
         "tracegroupgap": 0
        },
        "template": {
         "data": {
          "bar": [
           {
            "error_x": {
             "color": "#2a3f5f"
            },
            "error_y": {
             "color": "#2a3f5f"
            },
            "marker": {
             "line": {
              "color": "#E5ECF6",
              "width": 0.5
             },
             "pattern": {
              "fillmode": "overlay",
              "size": 10,
              "solidity": 0.2
             }
            },
            "type": "bar"
           }
          ],
          "barpolar": [
           {
            "marker": {
             "line": {
              "color": "#E5ECF6",
              "width": 0.5
             },
             "pattern": {
              "fillmode": "overlay",
              "size": 10,
              "solidity": 0.2
             }
            },
            "type": "barpolar"
           }
          ],
          "carpet": [
           {
            "aaxis": {
             "endlinecolor": "#2a3f5f",
             "gridcolor": "white",
             "linecolor": "white",
             "minorgridcolor": "white",
             "startlinecolor": "#2a3f5f"
            },
            "baxis": {
             "endlinecolor": "#2a3f5f",
             "gridcolor": "white",
             "linecolor": "white",
             "minorgridcolor": "white",
             "startlinecolor": "#2a3f5f"
            },
            "type": "carpet"
           }
          ],
          "choropleth": [
           {
            "colorbar": {
             "outlinewidth": 0,
             "ticks": ""
            },
            "type": "choropleth"
           }
          ],
          "contour": [
           {
            "colorbar": {
             "outlinewidth": 0,
             "ticks": ""
            },
            "colorscale": [
             [
              0,
              "#0d0887"
             ],
             [
              0.1111111111111111,
              "#46039f"
             ],
             [
              0.2222222222222222,
              "#7201a8"
             ],
             [
              0.3333333333333333,
              "#9c179e"
             ],
             [
              0.4444444444444444,
              "#bd3786"
             ],
             [
              0.5555555555555556,
              "#d8576b"
             ],
             [
              0.6666666666666666,
              "#ed7953"
             ],
             [
              0.7777777777777778,
              "#fb9f3a"
             ],
             [
              0.8888888888888888,
              "#fdca26"
             ],
             [
              1,
              "#f0f921"
             ]
            ],
            "type": "contour"
           }
          ],
          "contourcarpet": [
           {
            "colorbar": {
             "outlinewidth": 0,
             "ticks": ""
            },
            "type": "contourcarpet"
           }
          ],
          "heatmap": [
           {
            "colorbar": {
             "outlinewidth": 0,
             "ticks": ""
            },
            "colorscale": [
             [
              0,
              "#0d0887"
             ],
             [
              0.1111111111111111,
              "#46039f"
             ],
             [
              0.2222222222222222,
              "#7201a8"
             ],
             [
              0.3333333333333333,
              "#9c179e"
             ],
             [
              0.4444444444444444,
              "#bd3786"
             ],
             [
              0.5555555555555556,
              "#d8576b"
             ],
             [
              0.6666666666666666,
              "#ed7953"
             ],
             [
              0.7777777777777778,
              "#fb9f3a"
             ],
             [
              0.8888888888888888,
              "#fdca26"
             ],
             [
              1,
              "#f0f921"
             ]
            ],
            "type": "heatmap"
           }
          ],
          "heatmapgl": [
           {
            "colorbar": {
             "outlinewidth": 0,
             "ticks": ""
            },
            "colorscale": [
             [
              0,
              "#0d0887"
             ],
             [
              0.1111111111111111,
              "#46039f"
             ],
             [
              0.2222222222222222,
              "#7201a8"
             ],
             [
              0.3333333333333333,
              "#9c179e"
             ],
             [
              0.4444444444444444,
              "#bd3786"
             ],
             [
              0.5555555555555556,
              "#d8576b"
             ],
             [
              0.6666666666666666,
              "#ed7953"
             ],
             [
              0.7777777777777778,
              "#fb9f3a"
             ],
             [
              0.8888888888888888,
              "#fdca26"
             ],
             [
              1,
              "#f0f921"
             ]
            ],
            "type": "heatmapgl"
           }
          ],
          "histogram": [
           {
            "marker": {
             "pattern": {
              "fillmode": "overlay",
              "size": 10,
              "solidity": 0.2
             }
            },
            "type": "histogram"
           }
          ],
          "histogram2d": [
           {
            "colorbar": {
             "outlinewidth": 0,
             "ticks": ""
            },
            "colorscale": [
             [
              0,
              "#0d0887"
             ],
             [
              0.1111111111111111,
              "#46039f"
             ],
             [
              0.2222222222222222,
              "#7201a8"
             ],
             [
              0.3333333333333333,
              "#9c179e"
             ],
             [
              0.4444444444444444,
              "#bd3786"
             ],
             [
              0.5555555555555556,
              "#d8576b"
             ],
             [
              0.6666666666666666,
              "#ed7953"
             ],
             [
              0.7777777777777778,
              "#fb9f3a"
             ],
             [
              0.8888888888888888,
              "#fdca26"
             ],
             [
              1,
              "#f0f921"
             ]
            ],
            "type": "histogram2d"
           }
          ],
          "histogram2dcontour": [
           {
            "colorbar": {
             "outlinewidth": 0,
             "ticks": ""
            },
            "colorscale": [
             [
              0,
              "#0d0887"
             ],
             [
              0.1111111111111111,
              "#46039f"
             ],
             [
              0.2222222222222222,
              "#7201a8"
             ],
             [
              0.3333333333333333,
              "#9c179e"
             ],
             [
              0.4444444444444444,
              "#bd3786"
             ],
             [
              0.5555555555555556,
              "#d8576b"
             ],
             [
              0.6666666666666666,
              "#ed7953"
             ],
             [
              0.7777777777777778,
              "#fb9f3a"
             ],
             [
              0.8888888888888888,
              "#fdca26"
             ],
             [
              1,
              "#f0f921"
             ]
            ],
            "type": "histogram2dcontour"
           }
          ],
          "mesh3d": [
           {
            "colorbar": {
             "outlinewidth": 0,
             "ticks": ""
            },
            "type": "mesh3d"
           }
          ],
          "parcoords": [
           {
            "line": {
             "colorbar": {
              "outlinewidth": 0,
              "ticks": ""
             }
            },
            "type": "parcoords"
           }
          ],
          "pie": [
           {
            "automargin": true,
            "type": "pie"
           }
          ],
          "scatter": [
           {
            "fillpattern": {
             "fillmode": "overlay",
             "size": 10,
             "solidity": 0.2
            },
            "type": "scatter"
           }
          ],
          "scatter3d": [
           {
            "line": {
             "colorbar": {
              "outlinewidth": 0,
              "ticks": ""
             }
            },
            "marker": {
             "colorbar": {
              "outlinewidth": 0,
              "ticks": ""
             }
            },
            "type": "scatter3d"
           }
          ],
          "scattercarpet": [
           {
            "marker": {
             "colorbar": {
              "outlinewidth": 0,
              "ticks": ""
             }
            },
            "type": "scattercarpet"
           }
          ],
          "scattergeo": [
           {
            "marker": {
             "colorbar": {
              "outlinewidth": 0,
              "ticks": ""
             }
            },
            "type": "scattergeo"
           }
          ],
          "scattergl": [
           {
            "marker": {
             "colorbar": {
              "outlinewidth": 0,
              "ticks": ""
             }
            },
            "type": "scattergl"
           }
          ],
          "scattermapbox": [
           {
            "marker": {
             "colorbar": {
              "outlinewidth": 0,
              "ticks": ""
             }
            },
            "type": "scattermapbox"
           }
          ],
          "scatterpolar": [
           {
            "marker": {
             "colorbar": {
              "outlinewidth": 0,
              "ticks": ""
             }
            },
            "type": "scatterpolar"
           }
          ],
          "scatterpolargl": [
           {
            "marker": {
             "colorbar": {
              "outlinewidth": 0,
              "ticks": ""
             }
            },
            "type": "scatterpolargl"
           }
          ],
          "scatterternary": [
           {
            "marker": {
             "colorbar": {
              "outlinewidth": 0,
              "ticks": ""
             }
            },
            "type": "scatterternary"
           }
          ],
          "surface": [
           {
            "colorbar": {
             "outlinewidth": 0,
             "ticks": ""
            },
            "colorscale": [
             [
              0,
              "#0d0887"
             ],
             [
              0.1111111111111111,
              "#46039f"
             ],
             [
              0.2222222222222222,
              "#7201a8"
             ],
             [
              0.3333333333333333,
              "#9c179e"
             ],
             [
              0.4444444444444444,
              "#bd3786"
             ],
             [
              0.5555555555555556,
              "#d8576b"
             ],
             [
              0.6666666666666666,
              "#ed7953"
             ],
             [
              0.7777777777777778,
              "#fb9f3a"
             ],
             [
              0.8888888888888888,
              "#fdca26"
             ],
             [
              1,
              "#f0f921"
             ]
            ],
            "type": "surface"
           }
          ],
          "table": [
           {
            "cells": {
             "fill": {
              "color": "#EBF0F8"
             },
             "line": {
              "color": "white"
             }
            },
            "header": {
             "fill": {
              "color": "#C8D4E3"
             },
             "line": {
              "color": "white"
             }
            },
            "type": "table"
           }
          ]
         },
         "layout": {
          "annotationdefaults": {
           "arrowcolor": "#2a3f5f",
           "arrowhead": 0,
           "arrowwidth": 1
          },
          "autotypenumbers": "strict",
          "coloraxis": {
           "colorbar": {
            "outlinewidth": 0,
            "ticks": ""
           }
          },
          "colorscale": {
           "diverging": [
            [
             0,
             "#8e0152"
            ],
            [
             0.1,
             "#c51b7d"
            ],
            [
             0.2,
             "#de77ae"
            ],
            [
             0.3,
             "#f1b6da"
            ],
            [
             0.4,
             "#fde0ef"
            ],
            [
             0.5,
             "#f7f7f7"
            ],
            [
             0.6,
             "#e6f5d0"
            ],
            [
             0.7,
             "#b8e186"
            ],
            [
             0.8,
             "#7fbc41"
            ],
            [
             0.9,
             "#4d9221"
            ],
            [
             1,
             "#276419"
            ]
           ],
           "sequential": [
            [
             0,
             "#0d0887"
            ],
            [
             0.1111111111111111,
             "#46039f"
            ],
            [
             0.2222222222222222,
             "#7201a8"
            ],
            [
             0.3333333333333333,
             "#9c179e"
            ],
            [
             0.4444444444444444,
             "#bd3786"
            ],
            [
             0.5555555555555556,
             "#d8576b"
            ],
            [
             0.6666666666666666,
             "#ed7953"
            ],
            [
             0.7777777777777778,
             "#fb9f3a"
            ],
            [
             0.8888888888888888,
             "#fdca26"
            ],
            [
             1,
             "#f0f921"
            ]
           ],
           "sequentialminus": [
            [
             0,
             "#0d0887"
            ],
            [
             0.1111111111111111,
             "#46039f"
            ],
            [
             0.2222222222222222,
             "#7201a8"
            ],
            [
             0.3333333333333333,
             "#9c179e"
            ],
            [
             0.4444444444444444,
             "#bd3786"
            ],
            [
             0.5555555555555556,
             "#d8576b"
            ],
            [
             0.6666666666666666,
             "#ed7953"
            ],
            [
             0.7777777777777778,
             "#fb9f3a"
            ],
            [
             0.8888888888888888,
             "#fdca26"
            ],
            [
             1,
             "#f0f921"
            ]
           ]
          },
          "colorway": [
           "#636efa",
           "#EF553B",
           "#00cc96",
           "#ab63fa",
           "#FFA15A",
           "#19d3f3",
           "#FF6692",
           "#B6E880",
           "#FF97FF",
           "#FECB52"
          ],
          "font": {
           "color": "#2a3f5f"
          },
          "geo": {
           "bgcolor": "white",
           "lakecolor": "white",
           "landcolor": "#E5ECF6",
           "showlakes": true,
           "showland": true,
           "subunitcolor": "white"
          },
          "hoverlabel": {
           "align": "left"
          },
          "hovermode": "closest",
          "mapbox": {
           "style": "light"
          },
          "paper_bgcolor": "white",
          "plot_bgcolor": "#E5ECF6",
          "polar": {
           "angularaxis": {
            "gridcolor": "white",
            "linecolor": "white",
            "ticks": ""
           },
           "bgcolor": "#E5ECF6",
           "radialaxis": {
            "gridcolor": "white",
            "linecolor": "white",
            "ticks": ""
           }
          },
          "scene": {
           "xaxis": {
            "backgroundcolor": "#E5ECF6",
            "gridcolor": "white",
            "gridwidth": 2,
            "linecolor": "white",
            "showbackground": true,
            "ticks": "",
            "zerolinecolor": "white"
           },
           "yaxis": {
            "backgroundcolor": "#E5ECF6",
            "gridcolor": "white",
            "gridwidth": 2,
            "linecolor": "white",
            "showbackground": true,
            "ticks": "",
            "zerolinecolor": "white"
           },
           "zaxis": {
            "backgroundcolor": "#E5ECF6",
            "gridcolor": "white",
            "gridwidth": 2,
            "linecolor": "white",
            "showbackground": true,
            "ticks": "",
            "zerolinecolor": "white"
           }
          },
          "shapedefaults": {
           "line": {
            "color": "#2a3f5f"
           }
          },
          "ternary": {
           "aaxis": {
            "gridcolor": "white",
            "linecolor": "white",
            "ticks": ""
           },
           "baxis": {
            "gridcolor": "white",
            "linecolor": "white",
            "ticks": ""
           },
           "bgcolor": "#E5ECF6",
           "caxis": {
            "gridcolor": "white",
            "linecolor": "white",
            "ticks": ""
           }
          },
          "title": {
           "x": 0.05
          },
          "xaxis": {
           "automargin": true,
           "gridcolor": "white",
           "linecolor": "white",
           "ticks": "",
           "title": {
            "standoff": 15
           },
           "zerolinecolor": "white",
           "zerolinewidth": 2
          },
          "yaxis": {
           "automargin": true,
           "gridcolor": "white",
           "linecolor": "white",
           "ticks": "",
           "title": {
            "standoff": 15
           },
           "zerolinecolor": "white",
           "zerolinewidth": 2
          }
         }
        },
        "title": {
         "text": "Ownership Changes Over Time"
        },
        "xaxis": {
         "anchor": "y",
         "domain": [
          0,
          1
         ],
         "title": {
          "text": "End Date"
         }
        },
        "yaxis": {
         "anchor": "x",
         "domain": [
          0,
          1
         ],
         "title": {
          "text": "Number of Ownership Changes"
         }
        }
       }
      }
     },
     "metadata": {},
     "output_type": "display_data"
    }
   ],
   "source": [
    "# When did ownership change?\n",
    "\n",
    "px.bar(companies.groupby([pd.Grouper(key='end_date', freq='ME'), 'role'])\\\n",
    "                .agg(count=('role', 'count'))\\\n",
    "                .reset_index()\\\n",
    "                .set_index('end_date', drop=True).query('index > \"01-01-2014\"'),\n",
    "       color='role',\n",
    "       title='Ownership Changes Over Time',\n",
    "       labels={'end_date':'End Date',\n",
    "               'value': 'Number of Ownership Changes'})"
   ]
  },
  {
   "cell_type": "code",
   "execution_count": 185,
   "metadata": {},
   "outputs": [
    {
     "data": {
      "text/html": [
       "<div>\n",
       "<style scoped>\n",
       "    .dataframe tbody tr th:only-of-type {\n",
       "        vertical-align: middle;\n",
       "    }\n",
       "\n",
       "    .dataframe tbody tr th {\n",
       "        vertical-align: top;\n",
       "    }\n",
       "\n",
       "    .dataframe thead th {\n",
       "        text-align: right;\n",
       "    }\n",
       "</style>\n",
       "<table border=\"1\" class=\"dataframe\">\n",
       "  <thead>\n",
       "    <tr style=\"text-align: right;\">\n",
       "      <th></th>\n",
       "      <th>imo</th>\n",
       "      <th>ship</th>\n",
       "      <th>gross_tonnage</th>\n",
       "      <th>ship_type</th>\n",
       "      <th>year_of_build</th>\n",
       "      <th>current_flag</th>\n",
       "      <th>current_class</th>\n",
       "      <th>detention_in_last_3_years_for_this_company</th>\n",
       "      <th>detention_in_last_3_years_for_all_company</th>\n",
       "      <th>company_imo</th>\n",
       "      <th>name</th>\n",
       "      <th>address</th>\n",
       "      <th>last_update</th>\n",
       "      <th>since</th>\n",
       "      <th>role</th>\n",
       "    </tr>\n",
       "  </thead>\n",
       "  <tbody>\n",
       "    <tr>\n",
       "      <th>0</th>\n",
       "      <td>9327449</td>\n",
       "      <td>FAIR WONDER</td>\n",
       "      <td>27916</td>\n",
       "      <td>Chemical/ Oil Products Tanker</td>\n",
       "      <td>2006</td>\n",
       "      <td>Liberia</td>\n",
       "      <td>RINA LRS</td>\n",
       "      <td>NaN</td>\n",
       "      <td>NaN</td>\n",
       "      <td>6477523</td>\n",
       "      <td>ONN DENIZCILIK VE DANISMANLIK</td>\n",
       "      <td>IC Kapi 76, Palladium Tower 2, Kardelen Sokak\\...</td>\n",
       "      <td>2024-10-01</td>\n",
       "      <td>2024-02-29</td>\n",
       "      <td>Ship manager/ Commercial manager</td>\n",
       "    </tr>\n",
       "    <tr>\n",
       "      <th>1</th>\n",
       "      <td>9396672</td>\n",
       "      <td>FAIR STAR</td>\n",
       "      <td>42010</td>\n",
       "      <td>Crude Oil Tanker</td>\n",
       "      <td>2008</td>\n",
       "      <td>Liberia</td>\n",
       "      <td>IRS</td>\n",
       "      <td>NaN</td>\n",
       "      <td>NaN</td>\n",
       "      <td>6477523</td>\n",
       "      <td>ONN DENIZCILIK VE DANISMANLIK</td>\n",
       "      <td>IC Kapi 76, Palladium Tower 2, Kardelen Sokak\\...</td>\n",
       "      <td>2024-10-01</td>\n",
       "      <td>2024-02-29</td>\n",
       "      <td>Ship manager/ Commercial manager</td>\n",
       "    </tr>\n",
       "    <tr>\n",
       "      <th>2</th>\n",
       "      <td>9396775</td>\n",
       "      <td>ELEGANT GRACE</td>\n",
       "      <td>30056</td>\n",
       "      <td>Chemical/ Oil Products Tanker</td>\n",
       "      <td>2009</td>\n",
       "      <td>Marshall Islands</td>\n",
       "      <td>RINA</td>\n",
       "      <td>NaN</td>\n",
       "      <td>NaN</td>\n",
       "      <td>6477523</td>\n",
       "      <td>ONN DENIZCILIK VE DANISMANLIK</td>\n",
       "      <td>IC Kapi 76, Palladium Tower 2, Kardelen Sokak\\...</td>\n",
       "      <td>2024-10-01</td>\n",
       "      <td>2024-02-29</td>\n",
       "      <td>Ship manager/ Commercial manager</td>\n",
       "    </tr>\n",
       "    <tr>\n",
       "      <th>3</th>\n",
       "      <td>9408530</td>\n",
       "      <td>SOUTHPORT</td>\n",
       "      <td>62856</td>\n",
       "      <td>Crude Oil Tanker</td>\n",
       "      <td>2008</td>\n",
       "      <td>Marshall Islands</td>\n",
       "      <td>RINA ABS</td>\n",
       "      <td>NaN</td>\n",
       "      <td>NaN</td>\n",
       "      <td>6477523</td>\n",
       "      <td>ONN DENIZCILIK VE DANISMANLIK</td>\n",
       "      <td>IC Kapi 76, Palladium Tower 2, Kardelen Sokak\\...</td>\n",
       "      <td>2024-10-01</td>\n",
       "      <td>2024-02-29</td>\n",
       "      <td>Ship manager/ Commercial manager</td>\n",
       "    </tr>\n",
       "    <tr>\n",
       "      <th>4</th>\n",
       "      <td>9408554</td>\n",
       "      <td>PACIFIC SKY</td>\n",
       "      <td>62856</td>\n",
       "      <td>Crude Oil Tanker</td>\n",
       "      <td>2009</td>\n",
       "      <td>Malta</td>\n",
       "      <td>RINA</td>\n",
       "      <td>NaN</td>\n",
       "      <td>NaN</td>\n",
       "      <td>6477523</td>\n",
       "      <td>ONN DENIZCILIK VE DANISMANLIK</td>\n",
       "      <td>IC Kapi 76, Palladium Tower 2, Kardelen Sokak\\...</td>\n",
       "      <td>2024-10-01</td>\n",
       "      <td>2024-02-29</td>\n",
       "      <td>Ship manager/ Commercial manager</td>\n",
       "    </tr>\n",
       "  </tbody>\n",
       "</table>\n",
       "</div>"
      ],
      "text/plain": [
       "       imo           ship gross_tonnage                      ship_type  \\\n",
       "0  9327449    FAIR WONDER         27916  Chemical/ Oil Products Tanker   \n",
       "1  9396672      FAIR STAR         42010               Crude Oil Tanker   \n",
       "2  9396775  ELEGANT GRACE         30056  Chemical/ Oil Products Tanker   \n",
       "3  9408530      SOUTHPORT         62856               Crude Oil Tanker   \n",
       "4  9408554    PACIFIC SKY         62856               Crude Oil Tanker   \n",
       "\n",
       "   year_of_build      current_flag current_class  \\\n",
       "0           2006           Liberia      RINA LRS   \n",
       "1           2008           Liberia           IRS   \n",
       "2           2009  Marshall Islands          RINA   \n",
       "3           2008  Marshall Islands      RINA ABS   \n",
       "4           2009             Malta          RINA   \n",
       "\n",
       "   detention_in_last_3_years_for_this_company  \\\n",
       "0                                         NaN   \n",
       "1                                         NaN   \n",
       "2                                         NaN   \n",
       "3                                         NaN   \n",
       "4                                         NaN   \n",
       "\n",
       "   detention_in_last_3_years_for_all_company  company_imo  \\\n",
       "0                                        NaN      6477523   \n",
       "1                                        NaN      6477523   \n",
       "2                                        NaN      6477523   \n",
       "3                                        NaN      6477523   \n",
       "4                                        NaN      6477523   \n",
       "\n",
       "                            name  \\\n",
       "0  ONN DENIZCILIK VE DANISMANLIK   \n",
       "1  ONN DENIZCILIK VE DANISMANLIK   \n",
       "2  ONN DENIZCILIK VE DANISMANLIK   \n",
       "3  ONN DENIZCILIK VE DANISMANLIK   \n",
       "4  ONN DENIZCILIK VE DANISMANLIK   \n",
       "\n",
       "                                             address last_update      since  \\\n",
       "0  IC Kapi 76, Palladium Tower 2, Kardelen Sokak\\...  2024-10-01 2024-02-29   \n",
       "1  IC Kapi 76, Palladium Tower 2, Kardelen Sokak\\...  2024-10-01 2024-02-29   \n",
       "2  IC Kapi 76, Palladium Tower 2, Kardelen Sokak\\...  2024-10-01 2024-02-29   \n",
       "3  IC Kapi 76, Palladium Tower 2, Kardelen Sokak\\...  2024-10-01 2024-02-29   \n",
       "4  IC Kapi 76, Palladium Tower 2, Kardelen Sokak\\...  2024-10-01 2024-02-29   \n",
       "\n",
       "                               role  \n",
       "0  Ship manager/ Commercial manager  \n",
       "1  Ship manager/ Commercial manager  \n",
       "2  Ship manager/ Commercial manager  \n",
       "3  Ship manager/ Commercial manager  \n",
       "4  Ship manager/ Commercial manager  "
      ]
     },
     "execution_count": 290,
     "metadata": {},
     "output_type": "execute_result"
    }
   ],
   "source": [
    "com_details = pd.read_csv(PATH.joinpath('processed', 'owners_companies_details.csv'))\n",
    "com_details[['last_update', 'since']] = com_details[['last_update', 'since']].apply(pd.to_datetime)\n",
    "com_details[['imo', 'company_imo', 'year_of_build']] = com_details[['imo', 'company_imo', 'year_of_build']].astype(int)\n",
    "com_details.head()"
   ]
  },
  {
   "cell_type": "markdown",
   "metadata": {},
   "source": [
    "### Events\n",
    "\n",
    "Analyse port visits, loitering, AIS gaps and activity in known ship-to-ship transfer zones"
   ]
  },
  {
   "cell_type": "code",
   "execution_count": 268,
   "metadata": {},
   "outputs": [],
   "source": [
    "ports = pd.read_parquet(PATH.joinpath('processed', 'ports.parquet'))\n",
    "loitering = pd.read_parquet(PATH.joinpath('processed', 'loitering.parquet'))\n",
    "ais = pd.read_parquet(PATH.joinpath('processed', 'ais.parquet'))\n",
    "sts = pd.read_parquet(PATH.joinpath('processed', 'sts_tracks.parquet'))"
   ]
  },
  {
   "cell_type": "markdown",
   "metadata": {},
   "source": [
    "#### Port visits"
   ]
  },
  {
   "cell_type": "code",
   "execution_count": 241,
   "metadata": {},
   "outputs": [
    {
     "data": {
      "text/plain": [
       "port_visit_startAnchorage_name\n",
       "ISTANBUL        4769\n",
       "CANAKKALE       3031\n",
       "YALOVA TOWN     1620\n",
       "RUMELIFENERI    1061\n",
       "AMBARLI          848\n",
       "ALIAGA           783\n",
       "DARDANELLES      652\n",
       "ICDAS            650\n",
       "MERSIN           625\n",
       "TUZLA            547\n",
       "Name: count, dtype: int64"
      ]
     },
     "execution_count": 241,
     "metadata": {},
     "output_type": "execute_result"
    }
   ],
   "source": [
    "# Clean ports\n",
    "\n",
    "ports[['start', 'end']] = ports[['start', 'end']].apply(lambda x: pd.to_datetime(x).dt.date)\n",
    "\n",
    "# See port visits over time\n",
    "\n",
    "ports[ports.port_visit_startAnchorage_id.str.contains('tur-')].port_visit_startAnchorage_name.value_counts().nlargest(10)"
   ]
  },
  {
   "cell_type": "code",
   "execution_count": 252,
   "metadata": {},
   "outputs": [],
   "source": [
    "ports['port_name'] = ports.groupby(['port_visit_startAnchorage_id'])['port_visit_startAnchorage_name'].ffill()"
   ]
  },
  {
   "cell_type": "code",
   "execution_count": 253,
   "metadata": {},
   "outputs": [
    {
     "data": {
      "text/plain": [
       "52008"
      ]
     },
     "execution_count": 253,
     "metadata": {},
     "output_type": "execute_result"
    }
   ],
   "source": []
  },
  {
   "cell_type": "code",
   "execution_count": 255,
   "metadata": {},
   "outputs": [],
   "source": [
    "ports[ports.start > pd.to_datetime('2022-01-01').date()].to_csv(PATH.joinpath('processed', 'port_visits_2022.csv'), index=False)"
   ]
  },
  {
   "cell_type": "code",
   "execution_count": null,
   "metadata": {},
   "outputs": [],
   "source": [
    "# Enter 3 iso country code and port name\n",
    "\n",
    "COUNTRY = 'tur'\n",
    "PORT = 'AMBARLI'\n",
    "\n",
    "px.bar(ports[(ports.port_visit_startAnchorage_id.str.contains(f'{COUNTRY}-')) \\\n",
    "             & (ports.port_visit_startAnchorage_name==PORT)].groupby(pd.Grouper(key='start', freq='ME')).agg(visits=('ssvid', 'count')),\n",
    "             title=f'Port visits from shadowfleet vessels to {PORT} by month',\n",
    "             labels={'visits': 'Number of visits',\n",
    "                     'start': 'Time'},)"
   ]
  },
  {
   "cell_type": "markdown",
   "metadata": {},
   "source": [
    "#### Loitering"
   ]
  },
  {
   "cell_type": "code",
   "execution_count": 272,
   "metadata": {},
   "outputs": [
    {
     "data": {
      "text/plain": [
       "39084"
      ]
     },
     "execution_count": 272,
     "metadata": {},
     "output_type": "execute_result"
    }
   ],
   "source": [
    "loitering[['start', 'end']] = loitering[['start', 'end']].apply(pd.to_datetime)\n",
    "loitering = loitering[loitering.start >= '2022-01-01'].copy()\n",
    "loitering[['start', 'end']] = loitering[['start', 'end']].apply(lambda x: x.dt.date)\n",
    "len(loitering)"
   ]
  },
  {
   "cell_type": "code",
   "execution_count": 273,
   "metadata": {},
   "outputs": [],
   "source": [
    "loitering.to_csv(PATH.joinpath('processed', 'loitering_2022.csv'), index=False)"
   ]
  },
  {
   "cell_type": "code",
   "execution_count": 274,
   "metadata": {},
   "outputs": [
    {
     "data": {
      "text/html": [
       "<div>\n",
       "<style scoped>\n",
       "    .dataframe tbody tr th:only-of-type {\n",
       "        vertical-align: middle;\n",
       "    }\n",
       "\n",
       "    .dataframe tbody tr th {\n",
       "        vertical-align: top;\n",
       "    }\n",
       "\n",
       "    .dataframe thead th {\n",
       "        text-align: right;\n",
       "    }\n",
       "</style>\n",
       "<table border=\"1\" class=\"dataframe\">\n",
       "  <thead>\n",
       "    <tr style=\"text-align: right;\">\n",
       "      <th></th>\n",
       "      <th>start</th>\n",
       "      <th>end</th>\n",
       "      <th>boundingBox</th>\n",
       "      <th>lat</th>\n",
       "      <th>lon</th>\n",
       "      <th>id</th>\n",
       "      <th>name</th>\n",
       "      <th>ssvid</th>\n",
       "      <th>flag</th>\n",
       "      <th>type</th>\n",
       "      <th>loitering_totalTimeHours</th>\n",
       "      <th>loitering_totalDistanceKm</th>\n",
       "      <th>loitering_averageSpeedKnots</th>\n",
       "      <th>loitering_averageDistanceFromShoreKm</th>\n",
       "      <th>imo</th>\n",
       "    </tr>\n",
       "  </thead>\n",
       "  <tbody>\n",
       "    <tr>\n",
       "      <th>10</th>\n",
       "      <td>2024-03-04</td>\n",
       "      <td>2024-03-04</td>\n",
       "      <td>[33.109425, 42.88973333333333, 33.099005, 42.8...</td>\n",
       "      <td>42.8896</td>\n",
       "      <td>33.1042</td>\n",
       "      <td>bfc29a460-00d9-7f81-0413-f3e009df4050</td>\n",
       "      <td>KAPITAN PSHENITSIN</td>\n",
       "      <td>273344600</td>\n",
       "      <td>RUS</td>\n",
       "      <td>other</td>\n",
       "      <td>0.782500</td>\n",
       "      <td>0.984241</td>\n",
       "      <td>0.679167</td>\n",
       "      <td>97.000000</td>\n",
       "      <td>8727941</td>\n",
       "    </tr>\n",
       "    <tr>\n",
       "      <th>11</th>\n",
       "      <td>2024-05-20</td>\n",
       "      <td>2024-05-20</td>\n",
       "      <td>[35.18595, 43.470715, 35.17800833333333, 43.47...</td>\n",
       "      <td>43.4712</td>\n",
       "      <td>35.1820</td>\n",
       "      <td>bfc29a460-00d9-7f81-0413-f3e009df4050</td>\n",
       "      <td>KAPITAN PSHENITSIN</td>\n",
       "      <td>273344600</td>\n",
       "      <td>RUS</td>\n",
       "      <td>other</td>\n",
       "      <td>0.971944</td>\n",
       "      <td>0.992296</td>\n",
       "      <td>0.551263</td>\n",
       "      <td>136.022079</td>\n",
       "      <td>8727941</td>\n",
       "    </tr>\n",
       "    <tr>\n",
       "      <th>12</th>\n",
       "      <td>2024-07-05</td>\n",
       "      <td>2024-07-05</td>\n",
       "      <td>[36.681198333333334, 45.81865166666667, 36.682...</td>\n",
       "      <td>45.8184</td>\n",
       "      <td>36.6817</td>\n",
       "      <td>bfc29a460-00d9-7f81-0413-f3e009df4050</td>\n",
       "      <td>KAPITAN PSHENITSIN</td>\n",
       "      <td>273344600</td>\n",
       "      <td>RUS</td>\n",
       "      <td>other</td>\n",
       "      <td>0.434167</td>\n",
       "      <td>0.100534</td>\n",
       "      <td>0.125031</td>\n",
       "      <td>42.000000</td>\n",
       "      <td>8727941</td>\n",
       "    </tr>\n",
       "    <tr>\n",
       "      <th>13</th>\n",
       "      <td>2024-08-20</td>\n",
       "      <td>2024-08-20</td>\n",
       "      <td>[36.682048333333334, 45.817965, 36.686875, 45....</td>\n",
       "      <td>45.8184</td>\n",
       "      <td>36.6845</td>\n",
       "      <td>bfc29a460-00d9-7f81-0413-f3e009df4050</td>\n",
       "      <td>KAPITAN PSHENITSIN</td>\n",
       "      <td>273344600</td>\n",
       "      <td>RUS</td>\n",
       "      <td>other</td>\n",
       "      <td>4.979444</td>\n",
       "      <td>6.403149</td>\n",
       "      <td>0.694339</td>\n",
       "      <td>41.957897</td>\n",
       "      <td>8727941</td>\n",
       "    </tr>\n",
       "    <tr>\n",
       "      <th>17</th>\n",
       "      <td>2022-03-28</td>\n",
       "      <td>2022-03-28</td>\n",
       "      <td>[36.58213333333333, 43.301098333333336, 36.764...</td>\n",
       "      <td>43.2911</td>\n",
       "      <td>36.6734</td>\n",
       "      <td>e4c0e77b0-06af-933b-10ee-6c9b0613c1aa</td>\n",
       "      <td>KAPITAN PERMYAKOV</td>\n",
       "      <td>273343600</td>\n",
       "      <td>RUS</td>\n",
       "      <td>other</td>\n",
       "      <td>14.390967</td>\n",
       "      <td>15.458626</td>\n",
       "      <td>0.580016</td>\n",
       "      <td>169.858462</td>\n",
       "      <td>8727953</td>\n",
       "    </tr>\n",
       "  </tbody>\n",
       "</table>\n",
       "</div>"
      ],
      "text/plain": [
       "         start         end                                        boundingBox  \\\n",
       "10  2024-03-04  2024-03-04  [33.109425, 42.88973333333333, 33.099005, 42.8...   \n",
       "11  2024-05-20  2024-05-20  [35.18595, 43.470715, 35.17800833333333, 43.47...   \n",
       "12  2024-07-05  2024-07-05  [36.681198333333334, 45.81865166666667, 36.682...   \n",
       "13  2024-08-20  2024-08-20  [36.682048333333334, 45.817965, 36.686875, 45....   \n",
       "17  2022-03-28  2022-03-28  [36.58213333333333, 43.301098333333336, 36.764...   \n",
       "\n",
       "        lat      lon                                     id  \\\n",
       "10  42.8896  33.1042  bfc29a460-00d9-7f81-0413-f3e009df4050   \n",
       "11  43.4712  35.1820  bfc29a460-00d9-7f81-0413-f3e009df4050   \n",
       "12  45.8184  36.6817  bfc29a460-00d9-7f81-0413-f3e009df4050   \n",
       "13  45.8184  36.6845  bfc29a460-00d9-7f81-0413-f3e009df4050   \n",
       "17  43.2911  36.6734  e4c0e77b0-06af-933b-10ee-6c9b0613c1aa   \n",
       "\n",
       "                  name      ssvid flag   type  loitering_totalTimeHours  \\\n",
       "10  KAPITAN PSHENITSIN  273344600  RUS  other                  0.782500   \n",
       "11  KAPITAN PSHENITSIN  273344600  RUS  other                  0.971944   \n",
       "12  KAPITAN PSHENITSIN  273344600  RUS  other                  0.434167   \n",
       "13  KAPITAN PSHENITSIN  273344600  RUS  other                  4.979444   \n",
       "17   KAPITAN PERMYAKOV  273343600  RUS  other                 14.390967   \n",
       "\n",
       "    loitering_totalDistanceKm  loitering_averageSpeedKnots  \\\n",
       "10                   0.984241                     0.679167   \n",
       "11                   0.992296                     0.551263   \n",
       "12                   0.100534                     0.125031   \n",
       "13                   6.403149                     0.694339   \n",
       "17                  15.458626                     0.580016   \n",
       "\n",
       "    loitering_averageDistanceFromShoreKm      imo  \n",
       "10                             97.000000  8727941  \n",
       "11                            136.022079  8727941  \n",
       "12                             42.000000  8727941  \n",
       "13                             41.957897  8727941  \n",
       "17                            169.858462  8727953  "
      ]
     },
     "execution_count": 274,
     "metadata": {},
     "output_type": "execute_result"
    }
   ],
   "source": [
    "loitering.head()"
   ]
  },
  {
   "cell_type": "markdown",
   "metadata": {},
   "source": [
    "#### AIS"
   ]
  },
  {
   "cell_type": "code",
   "execution_count": null,
   "metadata": {},
   "outputs": [],
   "source": [
    "\n",
    "ais['geometry'] = ais.apply(lambda x: LineString([(x['gap_offposition_lon'], x['gap_offposition_lat']) , (x['gap_onposition_lon'], x['gap_onposition_lat'])]), axis = 1)\n",
    "ais = gpd.GeoDataFrame(ais, geometry='geometry', crs='EPSG:4326')"
   ]
  },
  {
   "cell_type": "code",
   "execution_count": null,
   "metadata": {},
   "outputs": [],
   "source": [
    "ais[['geometry', 'name']].explore()"
   ]
  },
  {
   "cell_type": "markdown",
   "metadata": {},
   "source": [
    "#### Ship-to-ship transfers"
   ]
  },
  {
   "cell_type": "code",
   "execution_count": 152,
   "metadata": {},
   "outputs": [],
   "source": [
    "# Clean STS\n",
    "\n",
    "sts.drop('seg_id', axis=1, inplace=True)\n",
    "sts.timestamp = pd.to_datetime(sts.timestamp)\n",
    "sts.query('timestamp > \"2022-01-01\"', inplace=True)\n",
    "sts.sort_values('timestamp', inplace=True)\n",
    "\n"
   ]
  },
  {
   "cell_type": "code",
   "execution_count": 153,
   "metadata": {},
   "outputs": [],
   "source": [
    "sts['week'] = sts.timestamp.dt.to_period('W').apply(lambda x: x.start_time)"
   ]
  },
  {
   "cell_type": "code",
   "execution_count": 154,
   "metadata": {},
   "outputs": [
    {
     "data": {
      "text/plain": [
       "name\n",
       "MOREA                 14\n",
       "AIDA                  14\n",
       "SAINTGEORGE           14\n",
       "FAIR STAR             14\n",
       "NARCISSUS             14\n",
       "RIDGEBURYNICHOLASA    14\n",
       "ELISE                 14\n",
       "YANGTZE               13\n",
       "PRINCE1               13\n",
       "SCFSAYAN              13\n",
       "Name: count, dtype: int64"
      ]
     },
     "execution_count": 154,
     "metadata": {},
     "output_type": "execute_result"
    }
   ],
   "source": [
    "sts.groupby(['name', 'week']).agg(count=('name', 'count')).reset_index().sort_values('count', ascending=False).name.value_counts()[140:150]"
   ]
  },
  {
   "cell_type": "code",
   "execution_count": 155,
   "metadata": {},
   "outputs": [
    {
     "data": {
      "text/plain": [
       "Index(['lon', 'lat', 'course', 'timestamp', 'speed', 'name', 'week'], dtype='object')"
      ]
     },
     "execution_count": 155,
     "metadata": {},
     "output_type": "execute_result"
    }
   ],
   "source": [
    "sts.columns"
   ]
  },
  {
   "cell_type": "code",
   "execution_count": 156,
   "metadata": {},
   "outputs": [],
   "source": [
    "sts = gpd.GeoDataFrame(sts, geometry=gpd.points_from_xy(x=sts.lon, y=sts.lat), crs='EPSG:4326')\n",
    "sts.week = sts.week.astype(str)\n",
    "\n"
   ]
  },
  {
   "cell_type": "code",
   "execution_count": 157,
   "metadata": {},
   "outputs": [],
   "source": [
    "sts_locations = gpd.read_file(PATH.joinpath('geo', 'sts_locations.geojson'))\n",
    "sts_locations.set_geometry('geometry', crs='EPSG:4326', inplace=True)\n",
    "sts = gpd.sjoin(sts, sts_locations, how='left', predicate='within')"
   ]
  },
  {
   "cell_type": "code",
   "execution_count": 159,
   "metadata": {},
   "outputs": [],
   "source": [
    "sts.drop('index_right', axis=1, inplace=True)\n",
    "sts.rename(columns={'Name':'sts_location'}, inplace=True)"
   ]
  },
  {
   "cell_type": "code",
   "execution_count": 161,
   "metadata": {},
   "outputs": [
    {
     "data": {
      "text/html": [
       "<div>\n",
       "<style scoped>\n",
       "    .dataframe tbody tr th:only-of-type {\n",
       "        vertical-align: middle;\n",
       "    }\n",
       "\n",
       "    .dataframe tbody tr th {\n",
       "        vertical-align: top;\n",
       "    }\n",
       "\n",
       "    .dataframe thead th {\n",
       "        text-align: right;\n",
       "    }\n",
       "</style>\n",
       "<table border=\"1\" class=\"dataframe\">\n",
       "  <thead>\n",
       "    <tr style=\"text-align: right;\">\n",
       "      <th></th>\n",
       "      <th>count</th>\n",
       "    </tr>\n",
       "    <tr>\n",
       "      <th>name</th>\n",
       "      <th></th>\n",
       "    </tr>\n",
       "  </thead>\n",
       "  <tbody>\n",
       "    <tr>\n",
       "      <th>HAMPSTEAD</th>\n",
       "      <td>5</td>\n",
       "    </tr>\n",
       "    <tr>\n",
       "      <th>SCFPECHORA</th>\n",
       "      <td>5</td>\n",
       "    </tr>\n",
       "    <tr>\n",
       "      <th>TREX</th>\n",
       "      <td>5</td>\n",
       "    </tr>\n",
       "    <tr>\n",
       "      <th>AIDA</th>\n",
       "      <td>5</td>\n",
       "    </tr>\n",
       "    <tr>\n",
       "      <th>RICCA</th>\n",
       "      <td>5</td>\n",
       "    </tr>\n",
       "    <tr>\n",
       "      <th>SEASCOUT</th>\n",
       "      <td>4</td>\n",
       "    </tr>\n",
       "    <tr>\n",
       "      <th>SCFBALTICA</th>\n",
       "      <td>4</td>\n",
       "    </tr>\n",
       "    <tr>\n",
       "      <th>ELISE</th>\n",
       "      <td>4</td>\n",
       "    </tr>\n",
       "    <tr>\n",
       "      <th>HS LEGEND</th>\n",
       "      <td>4</td>\n",
       "    </tr>\n",
       "    <tr>\n",
       "      <th>PHONIX WAY</th>\n",
       "      <td>4</td>\n",
       "    </tr>\n",
       "  </tbody>\n",
       "</table>\n",
       "</div>"
      ],
      "text/plain": [
       "            count\n",
       "name             \n",
       "HAMPSTEAD       5\n",
       "SCFPECHORA      5\n",
       "TREX            5\n",
       "AIDA            5\n",
       "RICCA           5\n",
       "SEASCOUT        4\n",
       "SCFBALTICA      4\n",
       "ELISE           4\n",
       "HS LEGEND       4\n",
       "PHONIX WAY      4"
      ]
     },
     "execution_count": 161,
     "metadata": {},
     "output_type": "execute_result"
    }
   ],
   "source": [
    "sts.groupby('name').agg(count=('sts_location', 'nunique')).sort_values('count', ascending=False).head(10)"
   ]
  },
  {
   "cell_type": "code",
   "execution_count": 162,
   "metadata": {},
   "outputs": [
    {
     "data": {
      "text/html": [
       "<div style=\"width:100%;\"><div style=\"position:relative;width:100%;height:0;padding-bottom:60%;\"><span style=\"color:#565656\">Make this Notebook Trusted to load map: File -> Trust Notebook</span><iframe srcdoc=\"&lt;!DOCTYPE html&gt;\n",
       "&lt;html&gt;\n",
       "&lt;head&gt;\n",
       "    \n",
       "    &lt;meta http-equiv=&quot;content-type&quot; content=&quot;text/html; charset=UTF-8&quot; /&gt;\n",
       "    \n",
       "        &lt;script&gt;\n",
       "            L_NO_TOUCH = false;\n",
       "            L_DISABLE_3D = false;\n",
       "        &lt;/script&gt;\n",
       "    \n",
       "    &lt;style&gt;html, body {width: 100%;height: 100%;margin: 0;padding: 0;}&lt;/style&gt;\n",
       "    &lt;style&gt;#map {position:absolute;top:0;bottom:0;right:0;left:0;}&lt;/style&gt;\n",
       "    &lt;script src=&quot;https://cdn.jsdelivr.net/npm/leaflet@1.9.3/dist/leaflet.js&quot;&gt;&lt;/script&gt;\n",
       "    &lt;script src=&quot;https://code.jquery.com/jquery-1.12.4.min.js&quot;&gt;&lt;/script&gt;\n",
       "    &lt;script src=&quot;https://cdn.jsdelivr.net/npm/bootstrap@5.2.2/dist/js/bootstrap.bundle.min.js&quot;&gt;&lt;/script&gt;\n",
       "    &lt;script src=&quot;https://cdnjs.cloudflare.com/ajax/libs/Leaflet.awesome-markers/2.0.2/leaflet.awesome-markers.js&quot;&gt;&lt;/script&gt;\n",
       "    &lt;link rel=&quot;stylesheet&quot; href=&quot;https://cdn.jsdelivr.net/npm/leaflet@1.9.3/dist/leaflet.css&quot;/&gt;\n",
       "    &lt;link rel=&quot;stylesheet&quot; href=&quot;https://cdn.jsdelivr.net/npm/bootstrap@5.2.2/dist/css/bootstrap.min.css&quot;/&gt;\n",
       "    &lt;link rel=&quot;stylesheet&quot; href=&quot;https://netdna.bootstrapcdn.com/bootstrap/3.0.0/css/bootstrap.min.css&quot;/&gt;\n",
       "    &lt;link rel=&quot;stylesheet&quot; href=&quot;https://cdn.jsdelivr.net/npm/@fortawesome/fontawesome-free@6.2.0/css/all.min.css&quot;/&gt;\n",
       "    &lt;link rel=&quot;stylesheet&quot; href=&quot;https://cdnjs.cloudflare.com/ajax/libs/Leaflet.awesome-markers/2.0.2/leaflet.awesome-markers.css&quot;/&gt;\n",
       "    &lt;link rel=&quot;stylesheet&quot; href=&quot;https://cdn.jsdelivr.net/gh/python-visualization/folium/folium/templates/leaflet.awesome.rotate.min.css&quot;/&gt;\n",
       "    \n",
       "            &lt;meta name=&quot;viewport&quot; content=&quot;width=device-width,\n",
       "                initial-scale=1.0, maximum-scale=1.0, user-scalable=no&quot; /&gt;\n",
       "            &lt;style&gt;\n",
       "                #map_30b3a7be0c3d5bd1f07f99f345276626 {\n",
       "                    position: relative;\n",
       "                    width: 100.0%;\n",
       "                    height: 100.0%;\n",
       "                    left: 0.0%;\n",
       "                    top: 0.0%;\n",
       "                }\n",
       "                .leaflet-container { font-size: 1rem; }\n",
       "            &lt;/style&gt;\n",
       "        \n",
       "    \n",
       "                    &lt;style&gt;\n",
       "                        .foliumtooltip {\n",
       "                            \n",
       "                        }\n",
       "                       .foliumtooltip table{\n",
       "                            margin: auto;\n",
       "                        }\n",
       "                        .foliumtooltip tr{\n",
       "                            text-align: left;\n",
       "                        }\n",
       "                        .foliumtooltip th{\n",
       "                            padding: 2px; padding-right: 8px;\n",
       "                        }\n",
       "                    &lt;/style&gt;\n",
       "            \n",
       "    \n",
       "    &lt;script src=&quot;https://code.jquery.com/ui/1.12.1/jquery-ui.js&quot;&gt;&lt;/script&gt;\n",
       "    &lt;script&gt;$( function() {\n",
       "        $( &quot;.maplegend&quot; ).draggable({\n",
       "            start: function (event, ui) {\n",
       "                $(this).css({\n",
       "                    right: &quot;auto&quot;,\n",
       "                    top: &quot;auto&quot;,\n",
       "                    bottom: &quot;auto&quot;\n",
       "                });\n",
       "            }\n",
       "        });\n",
       "    });\n",
       "    &lt;/script&gt;\n",
       "    &lt;style type=&#x27;text/css&#x27;&gt;\n",
       "      .maplegend {\n",
       "        position: absolute;\n",
       "        z-index:9999;\n",
       "        background-color: rgba(255, 255, 255, .8);\n",
       "        border-radius: 5px;\n",
       "        box-shadow: 0 0 15px rgba(0,0,0,0.2);\n",
       "        padding: 10px;\n",
       "        font: 12px/14px Arial, Helvetica, sans-serif;\n",
       "        right: 10px;\n",
       "        bottom: 20px;\n",
       "      }\n",
       "      .maplegend .legend-title {\n",
       "        text-align: left;\n",
       "        margin-bottom: 5px;\n",
       "        font-weight: bold;\n",
       "        }\n",
       "      .maplegend .legend-scale ul {\n",
       "        margin: 0;\n",
       "        margin-bottom: 0px;\n",
       "        padding: 0;\n",
       "        float: left;\n",
       "        list-style: none;\n",
       "        }\n",
       "      .maplegend .legend-scale ul li {\n",
       "        list-style: none;\n",
       "        margin-left: 0;\n",
       "        line-height: 16px;\n",
       "        margin-bottom: 2px;\n",
       "        }\n",
       "      .maplegend ul.legend-labels li span {\n",
       "        display: block;\n",
       "        float: left;\n",
       "        height: 14px;\n",
       "        width: 14px;\n",
       "        margin-right: 5px;\n",
       "        margin-left: 0;\n",
       "        border: 0px solid #ccc;\n",
       "        }\n",
       "      .maplegend .legend-source {\n",
       "        color: #777;\n",
       "        clear: both;\n",
       "        }\n",
       "      .maplegend a {\n",
       "        color: #777;\n",
       "        }\n",
       "    &lt;/style&gt;\n",
       "    \n",
       "&lt;/head&gt;\n",
       "&lt;body&gt;\n",
       "    \n",
       "    \n",
       "    &lt;div id=&#x27;maplegend week&#x27; class=&#x27;maplegend&#x27;&gt;\n",
       "        &lt;div class=&#x27;legend-title&#x27;&gt;week&lt;/div&gt;\n",
       "        &lt;div class=&#x27;legend-scale&#x27;&gt;\n",
       "            &lt;ul class=&#x27;legend-labels&#x27;&gt;\n",
       "                &lt;li&gt;&lt;span style=&#x27;background:#1f77b4&#x27;&gt;&lt;/span&gt;2022-01-10&lt;/li&gt;\n",
       "                &lt;li&gt;&lt;span style=&#x27;background:#aec7e8&#x27;&gt;&lt;/span&gt;2022-01-17&lt;/li&gt;\n",
       "                &lt;li&gt;&lt;span style=&#x27;background:#ffbb78&#x27;&gt;&lt;/span&gt;2022-04-04&lt;/li&gt;\n",
       "                &lt;li&gt;&lt;span style=&#x27;background:#2ca02c&#x27;&gt;&lt;/span&gt;2022-04-11&lt;/li&gt;\n",
       "                &lt;li&gt;&lt;span style=&#x27;background:#d62728&#x27;&gt;&lt;/span&gt;2022-05-09&lt;/li&gt;\n",
       "                &lt;li&gt;&lt;span style=&#x27;background:#ff9896&#x27;&gt;&lt;/span&gt;2022-05-16&lt;/li&gt;\n",
       "                &lt;li&gt;&lt;span style=&#x27;background:#c5b0d5&#x27;&gt;&lt;/span&gt;2022-05-23&lt;/li&gt;\n",
       "                &lt;li&gt;&lt;span style=&#x27;background:#8c564b&#x27;&gt;&lt;/span&gt;2022-06-13&lt;/li&gt;\n",
       "                &lt;li&gt;&lt;span style=&#x27;background:#e377c2&#x27;&gt;&lt;/span&gt;2022-06-27&lt;/li&gt;\n",
       "                &lt;li&gt;&lt;span style=&#x27;background:#f7b6d2&#x27;&gt;&lt;/span&gt;2022-07-04&lt;/li&gt;\n",
       "                &lt;li&gt;&lt;span style=&#x27;background:#c7c7c7&#x27;&gt;&lt;/span&gt;2022-07-11&lt;/li&gt;\n",
       "                &lt;li&gt;&lt;span style=&#x27;background:#bcbd22&#x27;&gt;&lt;/span&gt;2022-08-15&lt;/li&gt;\n",
       "                &lt;li&gt;&lt;span style=&#x27;background:#17becf&#x27;&gt;&lt;/span&gt;2022-11-28&lt;/li&gt;\n",
       "                &lt;li&gt;&lt;span style=&#x27;background:#9edae5&#x27;&gt;&lt;/span&gt;2022-12-05&lt;/li&gt;\n",
       "            &lt;/ul&gt;\n",
       "        &lt;/div&gt;\n",
       "    &lt;/div&gt;\n",
       "    \n",
       "    \n",
       "            &lt;div class=&quot;folium-map&quot; id=&quot;map_30b3a7be0c3d5bd1f07f99f345276626&quot; &gt;&lt;/div&gt;\n",
       "        \n",
       "&lt;/body&gt;\n",
       "&lt;script&gt;\n",
       "    \n",
       "    \n",
       "            var map_30b3a7be0c3d5bd1f07f99f345276626 = L.map(\n",
       "                &quot;map_30b3a7be0c3d5bd1f07f99f345276626&quot;,\n",
       "                {\n",
       "                    center: [21.111838333333335, 2.7632624999999997],\n",
       "                    crs: L.CRS.EPSG3857,\n",
       "                    zoom: 10,\n",
       "                    zoomControl: true,\n",
       "                    preferCanvas: false,\n",
       "                }\n",
       "            );\n",
       "            L.control.scale().addTo(map_30b3a7be0c3d5bd1f07f99f345276626);\n",
       "\n",
       "            \n",
       "\n",
       "        \n",
       "    \n",
       "            var tile_layer_f7a2be3a773fa5596b90fc856f08ddb2 = L.tileLayer(\n",
       "                &quot;https://{s}.tile.openstreetmap.org/{z}/{x}/{y}.png&quot;,\n",
       "                {&quot;attribution&quot;: &quot;Data by \\u0026copy; \\u003ca target=\\&quot;_blank\\&quot; href=\\&quot;http://openstreetmap.org\\&quot;\\u003eOpenStreetMap\\u003c/a\\u003e, under \\u003ca target=\\&quot;_blank\\&quot; href=\\&quot;http://www.openstreetmap.org/copyright\\&quot;\\u003eODbL\\u003c/a\\u003e.&quot;, &quot;detectRetina&quot;: false, &quot;maxNativeZoom&quot;: 18, &quot;maxZoom&quot;: 18, &quot;minZoom&quot;: 0, &quot;noWrap&quot;: false, &quot;opacity&quot;: 1, &quot;subdomains&quot;: &quot;abc&quot;, &quot;tms&quot;: false}\n",
       "            ).addTo(map_30b3a7be0c3d5bd1f07f99f345276626);\n",
       "        \n",
       "    \n",
       "            map_30b3a7be0c3d5bd1f07f99f345276626.fitBounds(\n",
       "                [[4.99315, -17.62987], [37.23052666666667, 23.156395]],\n",
       "                {}\n",
       "            );\n",
       "        \n",
       "    \n",
       "        function geo_json_97ce47e4249a784d48421a0cc6055aec_styler(feature) {\n",
       "            switch(feature.id) {\n",
       "                case &quot;0&quot;: case &quot;1&quot;: case &quot;2&quot;: case &quot;3&quot;: case &quot;4&quot;: case &quot;5&quot;: case &quot;6&quot;: case &quot;7&quot;: case &quot;8&quot;: case &quot;9&quot;: case &quot;10&quot;: case &quot;11&quot;: case &quot;12&quot;: case &quot;13&quot;: case &quot;14&quot;: case &quot;15&quot;: case &quot;16&quot;: case &quot;17&quot;: case &quot;18&quot;: case &quot;19&quot;: case &quot;20&quot;: case &quot;21&quot;: case &quot;22&quot;: case &quot;23&quot;: case &quot;24&quot;: case &quot;25&quot;: case &quot;26&quot;: case &quot;27&quot;: case &quot;28&quot;: case &quot;29&quot;: case &quot;30&quot;: case &quot;31&quot;: case &quot;32&quot;: case &quot;33&quot;: case &quot;34&quot;: case &quot;35&quot;: case &quot;36&quot;: case &quot;37&quot;: case &quot;38&quot;: case &quot;39&quot;: \n",
       "                    return {&quot;color&quot;: &quot;#1f77b4&quot;, &quot;fillColor&quot;: &quot;#1f77b4&quot;, &quot;fillOpacity&quot;: 0.5, &quot;weight&quot;: 2};\n",
       "                case &quot;40&quot;: case &quot;41&quot;: case &quot;42&quot;: case &quot;43&quot;: case &quot;44&quot;: case &quot;45&quot;: case &quot;46&quot;: case &quot;47&quot;: case &quot;48&quot;: case &quot;49&quot;: case &quot;50&quot;: case &quot;51&quot;: case &quot;52&quot;: case &quot;53&quot;: case &quot;54&quot;: case &quot;55&quot;: case &quot;56&quot;: case &quot;57&quot;: case &quot;58&quot;: case &quot;59&quot;: case &quot;60&quot;: case &quot;61&quot;: case &quot;62&quot;: case &quot;63&quot;: case &quot;64&quot;: case &quot;65&quot;: case &quot;66&quot;: case &quot;67&quot;: case &quot;68&quot;: case &quot;69&quot;: case &quot;70&quot;: case &quot;71&quot;: case &quot;72&quot;: case &quot;73&quot;: case &quot;74&quot;: case &quot;75&quot;: case &quot;76&quot;: case &quot;77&quot;: case &quot;78&quot;: \n",
       "                    return {&quot;color&quot;: &quot;#aec7e8&quot;, &quot;fillColor&quot;: &quot;#aec7e8&quot;, &quot;fillOpacity&quot;: 0.5, &quot;weight&quot;: 2};\n",
       "                case &quot;79&quot;: case &quot;80&quot;: case &quot;81&quot;: case &quot;82&quot;: case &quot;83&quot;: case &quot;84&quot;: case &quot;85&quot;: case &quot;86&quot;: case &quot;87&quot;: case &quot;88&quot;: case &quot;89&quot;: case &quot;90&quot;: case &quot;91&quot;: case &quot;92&quot;: case &quot;93&quot;: case &quot;94&quot;: case &quot;95&quot;: case &quot;96&quot;: case &quot;97&quot;: case &quot;98&quot;: case &quot;99&quot;: case &quot;100&quot;: case &quot;101&quot;: case &quot;102&quot;: case &quot;103&quot;: case &quot;104&quot;: case &quot;105&quot;: case &quot;106&quot;: case &quot;107&quot;: case &quot;108&quot;: case &quot;109&quot;: case &quot;110&quot;: case &quot;111&quot;: case &quot;112&quot;: case &quot;113&quot;: case &quot;114&quot;: case &quot;115&quot;: case &quot;116&quot;: case &quot;117&quot;: case &quot;118&quot;: case &quot;119&quot;: case &quot;120&quot;: case &quot;121&quot;: case &quot;122&quot;: case &quot;123&quot;: case &quot;124&quot;: case &quot;125&quot;: case &quot;126&quot;: case &quot;127&quot;: case &quot;128&quot;: case &quot;129&quot;: case &quot;130&quot;: case &quot;131&quot;: case &quot;132&quot;: case &quot;133&quot;: case &quot;134&quot;: case &quot;135&quot;: case &quot;136&quot;: case &quot;137&quot;: case &quot;138&quot;: case &quot;139&quot;: case &quot;140&quot;: case &quot;141&quot;: case &quot;142&quot;: case &quot;143&quot;: case &quot;144&quot;: case &quot;145&quot;: case &quot;146&quot;: case &quot;147&quot;: case &quot;148&quot;: case &quot;149&quot;: case &quot;150&quot;: case &quot;151&quot;: case &quot;152&quot;: case &quot;153&quot;: case &quot;154&quot;: case &quot;155&quot;: case &quot;156&quot;: case &quot;157&quot;: case &quot;158&quot;: case &quot;159&quot;: case &quot;160&quot;: case &quot;161&quot;: case &quot;162&quot;: case &quot;163&quot;: case &quot;164&quot;: case &quot;165&quot;: case &quot;166&quot;: case &quot;167&quot;: case &quot;168&quot;: case &quot;169&quot;: case &quot;170&quot;: case &quot;171&quot;: case &quot;172&quot;: case &quot;173&quot;: case &quot;174&quot;: case &quot;175&quot;: case &quot;176&quot;: case &quot;177&quot;: case &quot;178&quot;: case &quot;179&quot;: case &quot;180&quot;: case &quot;181&quot;: case &quot;182&quot;: case &quot;183&quot;: case &quot;184&quot;: case &quot;185&quot;: case &quot;186&quot;: case &quot;187&quot;: case &quot;188&quot;: case &quot;189&quot;: case &quot;190&quot;: case &quot;191&quot;: case &quot;192&quot;: case &quot;193&quot;: case &quot;194&quot;: case &quot;195&quot;: case &quot;196&quot;: case &quot;197&quot;: case &quot;198&quot;: case &quot;199&quot;: case &quot;200&quot;: case &quot;201&quot;: case &quot;202&quot;: case &quot;203&quot;: case &quot;204&quot;: case &quot;205&quot;: case &quot;206&quot;: case &quot;207&quot;: case &quot;208&quot;: case &quot;209&quot;: case &quot;210&quot;: case &quot;211&quot;: case &quot;212&quot;: case &quot;213&quot;: case &quot;214&quot;: case &quot;215&quot;: case &quot;216&quot;: case &quot;217&quot;: case &quot;218&quot;: case &quot;219&quot;: case &quot;220&quot;: case &quot;221&quot;: case &quot;222&quot;: case &quot;223&quot;: case &quot;224&quot;: case &quot;225&quot;: case &quot;226&quot;: case &quot;227&quot;: case &quot;228&quot;: case &quot;229&quot;: case &quot;230&quot;: case &quot;231&quot;: case &quot;232&quot;: case &quot;233&quot;: case &quot;234&quot;: case &quot;235&quot;: case &quot;236&quot;: case &quot;237&quot;: case &quot;238&quot;: case &quot;239&quot;: case &quot;240&quot;: case &quot;241&quot;: case &quot;242&quot;: case &quot;243&quot;: case &quot;244&quot;: case &quot;245&quot;: case &quot;246&quot;: case &quot;247&quot;: case &quot;248&quot;: case &quot;249&quot;: case &quot;250&quot;: case &quot;251&quot;: case &quot;252&quot;: case &quot;253&quot;: case &quot;254&quot;: case &quot;255&quot;: case &quot;256&quot;: case &quot;257&quot;: case &quot;258&quot;: case &quot;259&quot;: case &quot;260&quot;: case &quot;261&quot;: case &quot;262&quot;: case &quot;263&quot;: case &quot;264&quot;: case &quot;265&quot;: case &quot;266&quot;: case &quot;267&quot;: case &quot;268&quot;: case &quot;269&quot;: case &quot;270&quot;: case &quot;271&quot;: case &quot;272&quot;: case &quot;273&quot;: case &quot;274&quot;: case &quot;275&quot;: case &quot;276&quot;: case &quot;277&quot;: case &quot;278&quot;: case &quot;279&quot;: case &quot;280&quot;: case &quot;281&quot;: case &quot;282&quot;: case &quot;283&quot;: case &quot;284&quot;: case &quot;285&quot;: case &quot;286&quot;: case &quot;287&quot;: case &quot;288&quot;: case &quot;289&quot;: case &quot;290&quot;: case &quot;291&quot;: case &quot;292&quot;: case &quot;293&quot;: \n",
       "                    return {&quot;color&quot;: &quot;#ffbb78&quot;, &quot;fillColor&quot;: &quot;#ffbb78&quot;, &quot;fillOpacity&quot;: 0.5, &quot;weight&quot;: 2};\n",
       "                case &quot;294&quot;: case &quot;295&quot;: case &quot;296&quot;: case &quot;297&quot;: case &quot;298&quot;: case &quot;299&quot;: case &quot;300&quot;: case &quot;301&quot;: case &quot;302&quot;: case &quot;303&quot;: case &quot;304&quot;: case &quot;305&quot;: case &quot;306&quot;: case &quot;307&quot;: case &quot;308&quot;: case &quot;309&quot;: case &quot;310&quot;: case &quot;311&quot;: case &quot;312&quot;: case &quot;313&quot;: case &quot;314&quot;: case &quot;315&quot;: case &quot;316&quot;: case &quot;317&quot;: case &quot;318&quot;: case &quot;319&quot;: case &quot;320&quot;: case &quot;321&quot;: case &quot;322&quot;: case &quot;323&quot;: case &quot;324&quot;: case &quot;325&quot;: case &quot;326&quot;: case &quot;327&quot;: case &quot;328&quot;: case &quot;329&quot;: case &quot;330&quot;: case &quot;331&quot;: case &quot;332&quot;: case &quot;333&quot;: case &quot;334&quot;: case &quot;335&quot;: case &quot;336&quot;: case &quot;337&quot;: case &quot;338&quot;: case &quot;339&quot;: case &quot;340&quot;: case &quot;341&quot;: case &quot;342&quot;: case &quot;343&quot;: case &quot;344&quot;: case &quot;345&quot;: case &quot;346&quot;: case &quot;347&quot;: case &quot;348&quot;: case &quot;349&quot;: case &quot;350&quot;: case &quot;351&quot;: case &quot;352&quot;: case &quot;353&quot;: case &quot;354&quot;: case &quot;355&quot;: case &quot;356&quot;: case &quot;357&quot;: case &quot;358&quot;: case &quot;359&quot;: case &quot;360&quot;: case &quot;361&quot;: case &quot;362&quot;: case &quot;363&quot;: case &quot;364&quot;: case &quot;365&quot;: case &quot;366&quot;: case &quot;367&quot;: case &quot;368&quot;: case &quot;369&quot;: case &quot;370&quot;: case &quot;371&quot;: case &quot;372&quot;: case &quot;373&quot;: case &quot;374&quot;: case &quot;375&quot;: case &quot;376&quot;: case &quot;377&quot;: case &quot;378&quot;: \n",
       "                    return {&quot;color&quot;: &quot;#2ca02c&quot;, &quot;fillColor&quot;: &quot;#2ca02c&quot;, &quot;fillOpacity&quot;: 0.5, &quot;weight&quot;: 2};\n",
       "                case &quot;379&quot;: case &quot;380&quot;: case &quot;381&quot;: case &quot;382&quot;: case &quot;383&quot;: case &quot;384&quot;: case &quot;385&quot;: case &quot;386&quot;: case &quot;387&quot;: case &quot;388&quot;: case &quot;389&quot;: case &quot;390&quot;: case &quot;391&quot;: case &quot;392&quot;: case &quot;393&quot;: case &quot;394&quot;: case &quot;395&quot;: case &quot;396&quot;: case &quot;397&quot;: case &quot;398&quot;: case &quot;399&quot;: case &quot;400&quot;: case &quot;401&quot;: case &quot;402&quot;: case &quot;403&quot;: case &quot;404&quot;: case &quot;405&quot;: case &quot;406&quot;: case &quot;407&quot;: case &quot;408&quot;: case &quot;409&quot;: case &quot;410&quot;: case &quot;411&quot;: case &quot;412&quot;: case &quot;413&quot;: case &quot;414&quot;: case &quot;415&quot;: case &quot;416&quot;: case &quot;417&quot;: case &quot;418&quot;: \n",
       "                    return {&quot;color&quot;: &quot;#d62728&quot;, &quot;fillColor&quot;: &quot;#d62728&quot;, &quot;fillOpacity&quot;: 0.5, &quot;weight&quot;: 2};\n",
       "                case &quot;653&quot;: case &quot;654&quot;: case &quot;655&quot;: case &quot;656&quot;: case &quot;657&quot;: case &quot;658&quot;: case &quot;659&quot;: case &quot;660&quot;: case &quot;661&quot;: case &quot;662&quot;: case &quot;663&quot;: case &quot;664&quot;: case &quot;665&quot;: case &quot;666&quot;: case &quot;667&quot;: case &quot;668&quot;: case &quot;669&quot;: case &quot;670&quot;: case &quot;671&quot;: case &quot;672&quot;: case &quot;673&quot;: case &quot;674&quot;: case &quot;675&quot;: case &quot;676&quot;: case &quot;677&quot;: case &quot;678&quot;: case &quot;679&quot;: case &quot;680&quot;: case &quot;681&quot;: case &quot;682&quot;: case &quot;683&quot;: case &quot;684&quot;: case &quot;685&quot;: case &quot;686&quot;: case &quot;687&quot;: case &quot;688&quot;: case &quot;689&quot;: case &quot;690&quot;: case &quot;691&quot;: case &quot;692&quot;: case &quot;693&quot;: case &quot;694&quot;: case &quot;695&quot;: case &quot;696&quot;: case &quot;697&quot;: case &quot;698&quot;: case &quot;699&quot;: case &quot;700&quot;: case &quot;701&quot;: case &quot;702&quot;: case &quot;703&quot;: case &quot;704&quot;: case &quot;705&quot;: case &quot;706&quot;: case &quot;707&quot;: case &quot;708&quot;: case &quot;709&quot;: case &quot;710&quot;: case &quot;711&quot;: case &quot;712&quot;: case &quot;713&quot;: case &quot;714&quot;: case &quot;715&quot;: case &quot;716&quot;: case &quot;717&quot;: case &quot;718&quot;: case &quot;719&quot;: case &quot;720&quot;: case &quot;721&quot;: case &quot;722&quot;: case &quot;723&quot;: case &quot;724&quot;: case &quot;725&quot;: case &quot;726&quot;: case &quot;727&quot;: case &quot;728&quot;: case &quot;729&quot;: case &quot;730&quot;: case &quot;731&quot;: case &quot;732&quot;: case &quot;733&quot;: case &quot;734&quot;: case &quot;735&quot;: case &quot;736&quot;: case &quot;737&quot;: case &quot;738&quot;: case &quot;739&quot;: case &quot;740&quot;: case &quot;741&quot;: case &quot;742&quot;: case &quot;743&quot;: case &quot;744&quot;: case &quot;745&quot;: case &quot;746&quot;: case &quot;747&quot;: case &quot;748&quot;: case &quot;749&quot;: case &quot;750&quot;: case &quot;751&quot;: case &quot;752&quot;: case &quot;753&quot;: case &quot;754&quot;: case &quot;755&quot;: case &quot;756&quot;: case &quot;757&quot;: case &quot;758&quot;: case &quot;759&quot;: case &quot;760&quot;: case &quot;761&quot;: case &quot;762&quot;: case &quot;763&quot;: case &quot;764&quot;: case &quot;765&quot;: case &quot;766&quot;: case &quot;767&quot;: case &quot;768&quot;: case &quot;769&quot;: case &quot;770&quot;: case &quot;771&quot;: case &quot;772&quot;: case &quot;773&quot;: case &quot;774&quot;: case &quot;775&quot;: case &quot;776&quot;: case &quot;777&quot;: case &quot;778&quot;: case &quot;779&quot;: case &quot;780&quot;: case &quot;781&quot;: case &quot;782&quot;: case &quot;783&quot;: case &quot;784&quot;: case &quot;785&quot;: case &quot;786&quot;: case &quot;787&quot;: case &quot;788&quot;: case &quot;789&quot;: case &quot;790&quot;: case &quot;791&quot;: case &quot;792&quot;: case &quot;793&quot;: case &quot;794&quot;: case &quot;795&quot;: case &quot;796&quot;: case &quot;797&quot;: case &quot;798&quot;: \n",
       "                    return {&quot;color&quot;: &quot;#c5b0d5&quot;, &quot;fillColor&quot;: &quot;#c5b0d5&quot;, &quot;fillOpacity&quot;: 0.5, &quot;weight&quot;: 2};\n",
       "                case &quot;799&quot;: case &quot;800&quot;: case &quot;801&quot;: case &quot;802&quot;: case &quot;803&quot;: case &quot;804&quot;: case &quot;805&quot;: case &quot;806&quot;: case &quot;807&quot;: case &quot;808&quot;: case &quot;809&quot;: case &quot;810&quot;: case &quot;811&quot;: case &quot;812&quot;: case &quot;813&quot;: case &quot;814&quot;: case &quot;815&quot;: case &quot;816&quot;: case &quot;817&quot;: case &quot;818&quot;: case &quot;819&quot;: case &quot;820&quot;: case &quot;821&quot;: case &quot;822&quot;: case &quot;823&quot;: case &quot;824&quot;: case &quot;825&quot;: case &quot;826&quot;: case &quot;827&quot;: case &quot;828&quot;: case &quot;829&quot;: case &quot;830&quot;: case &quot;831&quot;: case &quot;832&quot;: case &quot;833&quot;: case &quot;834&quot;: case &quot;835&quot;: case &quot;836&quot;: case &quot;837&quot;: case &quot;838&quot;: case &quot;839&quot;: case &quot;840&quot;: case &quot;841&quot;: case &quot;842&quot;: case &quot;843&quot;: case &quot;844&quot;: case &quot;845&quot;: case &quot;846&quot;: case &quot;847&quot;: case &quot;848&quot;: case &quot;849&quot;: case &quot;850&quot;: case &quot;851&quot;: case &quot;852&quot;: case &quot;853&quot;: case &quot;854&quot;: case &quot;855&quot;: case &quot;856&quot;: case &quot;857&quot;: case &quot;858&quot;: case &quot;859&quot;: case &quot;860&quot;: case &quot;861&quot;: case &quot;862&quot;: case &quot;863&quot;: case &quot;864&quot;: case &quot;865&quot;: case &quot;866&quot;: case &quot;867&quot;: case &quot;868&quot;: case &quot;869&quot;: case &quot;870&quot;: case &quot;871&quot;: case &quot;872&quot;: case &quot;873&quot;: case &quot;874&quot;: case &quot;875&quot;: case &quot;876&quot;: case &quot;877&quot;: case &quot;878&quot;: case &quot;879&quot;: case &quot;880&quot;: case &quot;881&quot;: case &quot;882&quot;: case &quot;883&quot;: case &quot;884&quot;: case &quot;885&quot;: case &quot;886&quot;: case &quot;887&quot;: case &quot;888&quot;: case &quot;889&quot;: case &quot;890&quot;: case &quot;891&quot;: case &quot;892&quot;: case &quot;893&quot;: case &quot;894&quot;: case &quot;895&quot;: case &quot;896&quot;: case &quot;897&quot;: case &quot;898&quot;: case &quot;899&quot;: case &quot;900&quot;: case &quot;901&quot;: case &quot;902&quot;: case &quot;903&quot;: case &quot;904&quot;: case &quot;905&quot;: case &quot;906&quot;: case &quot;907&quot;: case &quot;908&quot;: case &quot;909&quot;: case &quot;910&quot;: case &quot;911&quot;: case &quot;912&quot;: case &quot;913&quot;: case &quot;914&quot;: case &quot;915&quot;: case &quot;916&quot;: case &quot;917&quot;: case &quot;918&quot;: case &quot;919&quot;: case &quot;920&quot;: case &quot;921&quot;: case &quot;922&quot;: case &quot;923&quot;: case &quot;924&quot;: case &quot;925&quot;: case &quot;926&quot;: case &quot;927&quot;: case &quot;928&quot;: case &quot;929&quot;: case &quot;930&quot;: case &quot;931&quot;: case &quot;932&quot;: case &quot;933&quot;: case &quot;934&quot;: case &quot;935&quot;: case &quot;936&quot;: case &quot;937&quot;: case &quot;938&quot;: case &quot;939&quot;: case &quot;940&quot;: case &quot;941&quot;: case &quot;942&quot;: case &quot;943&quot;: case &quot;944&quot;: case &quot;945&quot;: case &quot;946&quot;: case &quot;947&quot;: case &quot;948&quot;: case &quot;949&quot;: case &quot;950&quot;: case &quot;951&quot;: case &quot;952&quot;: case &quot;953&quot;: case &quot;954&quot;: case &quot;955&quot;: case &quot;956&quot;: case &quot;957&quot;: case &quot;958&quot;: case &quot;959&quot;: \n",
       "                    return {&quot;color&quot;: &quot;#8c564b&quot;, &quot;fillColor&quot;: &quot;#8c564b&quot;, &quot;fillOpacity&quot;: 0.5, &quot;weight&quot;: 2};\n",
       "                case &quot;960&quot;: case &quot;961&quot;: case &quot;962&quot;: case &quot;963&quot;: case &quot;964&quot;: case &quot;965&quot;: case &quot;966&quot;: case &quot;967&quot;: case &quot;968&quot;: case &quot;969&quot;: case &quot;970&quot;: case &quot;971&quot;: case &quot;972&quot;: case &quot;973&quot;: case &quot;974&quot;: case &quot;975&quot;: case &quot;976&quot;: case &quot;977&quot;: case &quot;978&quot;: case &quot;979&quot;: case &quot;980&quot;: case &quot;981&quot;: case &quot;982&quot;: case &quot;983&quot;: case &quot;984&quot;: case &quot;985&quot;: case &quot;986&quot;: case &quot;987&quot;: case &quot;988&quot;: case &quot;989&quot;: case &quot;990&quot;: case &quot;991&quot;: case &quot;992&quot;: case &quot;993&quot;: case &quot;994&quot;: case &quot;995&quot;: case &quot;996&quot;: case &quot;997&quot;: case &quot;998&quot;: case &quot;999&quot;: case &quot;1000&quot;: case &quot;1001&quot;: case &quot;1002&quot;: case &quot;1003&quot;: case &quot;1004&quot;: case &quot;1005&quot;: case &quot;1006&quot;: case &quot;1007&quot;: case &quot;1008&quot;: case &quot;1009&quot;: case &quot;1010&quot;: case &quot;1011&quot;: case &quot;1012&quot;: case &quot;1013&quot;: case &quot;1014&quot;: case &quot;1015&quot;: case &quot;1016&quot;: case &quot;1017&quot;: case &quot;1018&quot;: case &quot;1019&quot;: case &quot;1020&quot;: case &quot;1021&quot;: case &quot;1022&quot;: case &quot;1023&quot;: case &quot;1024&quot;: case &quot;1025&quot;: case &quot;1026&quot;: case &quot;1027&quot;: case &quot;1028&quot;: case &quot;1029&quot;: case &quot;1030&quot;: \n",
       "                    return {&quot;color&quot;: &quot;#e377c2&quot;, &quot;fillColor&quot;: &quot;#e377c2&quot;, &quot;fillOpacity&quot;: 0.5, &quot;weight&quot;: 2};\n",
       "                case &quot;1031&quot;: case &quot;1032&quot;: case &quot;1033&quot;: case &quot;1034&quot;: case &quot;1035&quot;: case &quot;1036&quot;: case &quot;1037&quot;: case &quot;1038&quot;: case &quot;1039&quot;: case &quot;1040&quot;: case &quot;1041&quot;: case &quot;1042&quot;: case &quot;1043&quot;: case &quot;1044&quot;: case &quot;1045&quot;: case &quot;1046&quot;: case &quot;1047&quot;: case &quot;1048&quot;: case &quot;1049&quot;: case &quot;1050&quot;: case &quot;1051&quot;: case &quot;1052&quot;: case &quot;1053&quot;: case &quot;1054&quot;: case &quot;1055&quot;: case &quot;1056&quot;: case &quot;1057&quot;: case &quot;1058&quot;: case &quot;1059&quot;: case &quot;1060&quot;: case &quot;1061&quot;: case &quot;1062&quot;: case &quot;1063&quot;: case &quot;1064&quot;: case &quot;1065&quot;: case &quot;1066&quot;: case &quot;1067&quot;: case &quot;1068&quot;: case &quot;1069&quot;: case &quot;1070&quot;: case &quot;1071&quot;: case &quot;1072&quot;: case &quot;1073&quot;: case &quot;1074&quot;: case &quot;1075&quot;: case &quot;1076&quot;: case &quot;1077&quot;: case &quot;1078&quot;: case &quot;1079&quot;: case &quot;1080&quot;: case &quot;1081&quot;: case &quot;1082&quot;: case &quot;1083&quot;: case &quot;1084&quot;: case &quot;1085&quot;: case &quot;1086&quot;: case &quot;1087&quot;: case &quot;1088&quot;: case &quot;1089&quot;: case &quot;1090&quot;: case &quot;1091&quot;: case &quot;1092&quot;: case &quot;1093&quot;: case &quot;1094&quot;: \n",
       "                    return {&quot;color&quot;: &quot;#f7b6d2&quot;, &quot;fillColor&quot;: &quot;#f7b6d2&quot;, &quot;fillOpacity&quot;: 0.5, &quot;weight&quot;: 2};\n",
       "                case &quot;1095&quot;: case &quot;1096&quot;: case &quot;1097&quot;: case &quot;1098&quot;: case &quot;1099&quot;: case &quot;1100&quot;: case &quot;1101&quot;: case &quot;1102&quot;: case &quot;1103&quot;: case &quot;1104&quot;: case &quot;1105&quot;: case &quot;1106&quot;: case &quot;1107&quot;: case &quot;1108&quot;: case &quot;1109&quot;: case &quot;1110&quot;: case &quot;1111&quot;: case &quot;1112&quot;: case &quot;1113&quot;: case &quot;1114&quot;: case &quot;1115&quot;: case &quot;1116&quot;: case &quot;1117&quot;: case &quot;1118&quot;: case &quot;1119&quot;: case &quot;1120&quot;: case &quot;1121&quot;: case &quot;1122&quot;: case &quot;1123&quot;: case &quot;1124&quot;: case &quot;1125&quot;: \n",
       "                    return {&quot;color&quot;: &quot;#c7c7c7&quot;, &quot;fillColor&quot;: &quot;#c7c7c7&quot;, &quot;fillOpacity&quot;: 0.5, &quot;weight&quot;: 2};\n",
       "                case &quot;1126&quot;: case &quot;1127&quot;: case &quot;1128&quot;: case &quot;1129&quot;: case &quot;1130&quot;: case &quot;1131&quot;: case &quot;1132&quot;: case &quot;1133&quot;: case &quot;1134&quot;: case &quot;1135&quot;: case &quot;1136&quot;: case &quot;1137&quot;: case &quot;1138&quot;: case &quot;1139&quot;: case &quot;1140&quot;: case &quot;1141&quot;: case &quot;1142&quot;: case &quot;1143&quot;: case &quot;1144&quot;: case &quot;1145&quot;: case &quot;1146&quot;: case &quot;1147&quot;: case &quot;1148&quot;: case &quot;1149&quot;: case &quot;1150&quot;: case &quot;1151&quot;: case &quot;1152&quot;: case &quot;1153&quot;: case &quot;1154&quot;: case &quot;1155&quot;: case &quot;1156&quot;: case &quot;1157&quot;: case &quot;1158&quot;: case &quot;1159&quot;: case &quot;1160&quot;: case &quot;1161&quot;: case &quot;1162&quot;: case &quot;1163&quot;: case &quot;1164&quot;: case &quot;1165&quot;: case &quot;1166&quot;: case &quot;1167&quot;: case &quot;1168&quot;: case &quot;1169&quot;: case &quot;1170&quot;: case &quot;1171&quot;: case &quot;1172&quot;: case &quot;1173&quot;: case &quot;1174&quot;: case &quot;1175&quot;: case &quot;1176&quot;: case &quot;1177&quot;: case &quot;1178&quot;: case &quot;1179&quot;: case &quot;1180&quot;: case &quot;1181&quot;: case &quot;1182&quot;: case &quot;1183&quot;: case &quot;1184&quot;: case &quot;1185&quot;: case &quot;1186&quot;: case &quot;1187&quot;: case &quot;1188&quot;: case &quot;1189&quot;: case &quot;1190&quot;: case &quot;1191&quot;: case &quot;1192&quot;: case &quot;1193&quot;: case &quot;1194&quot;: case &quot;1195&quot;: case &quot;1196&quot;: case &quot;1197&quot;: case &quot;1198&quot;: case &quot;1199&quot;: case &quot;1200&quot;: case &quot;1201&quot;: case &quot;1202&quot;: case &quot;1203&quot;: case &quot;1204&quot;: case &quot;1205&quot;: case &quot;1206&quot;: case &quot;1207&quot;: case &quot;1208&quot;: case &quot;1209&quot;: case &quot;1210&quot;: case &quot;1211&quot;: case &quot;1212&quot;: case &quot;1213&quot;: case &quot;1214&quot;: case &quot;1215&quot;: case &quot;1216&quot;: case &quot;1217&quot;: case &quot;1218&quot;: case &quot;1219&quot;: case &quot;1220&quot;: case &quot;1221&quot;: case &quot;1222&quot;: case &quot;1223&quot;: case &quot;1224&quot;: case &quot;1225&quot;: case &quot;1226&quot;: case &quot;1227&quot;: case &quot;1228&quot;: case &quot;1229&quot;: case &quot;1230&quot;: case &quot;1231&quot;: case &quot;1232&quot;: case &quot;1233&quot;: case &quot;1234&quot;: case &quot;1235&quot;: case &quot;1236&quot;: case &quot;1237&quot;: case &quot;1238&quot;: case &quot;1239&quot;: case &quot;1240&quot;: case &quot;1241&quot;: case &quot;1242&quot;: case &quot;1243&quot;: case &quot;1244&quot;: case &quot;1245&quot;: case &quot;1246&quot;: case &quot;1247&quot;: case &quot;1248&quot;: case &quot;1249&quot;: case &quot;1250&quot;: case &quot;1251&quot;: case &quot;1252&quot;: case &quot;1253&quot;: case &quot;1254&quot;: case &quot;1255&quot;: case &quot;1256&quot;: case &quot;1257&quot;: case &quot;1258&quot;: case &quot;1259&quot;: case &quot;1260&quot;: case &quot;1261&quot;: case &quot;1262&quot;: case &quot;1263&quot;: case &quot;1264&quot;: case &quot;1265&quot;: case &quot;1266&quot;: case &quot;1267&quot;: case &quot;1268&quot;: case &quot;1269&quot;: case &quot;1270&quot;: case &quot;1271&quot;: case &quot;1272&quot;: case &quot;1273&quot;: case &quot;1274&quot;: case &quot;1275&quot;: case &quot;1276&quot;: case &quot;1277&quot;: case &quot;1278&quot;: case &quot;1279&quot;: case &quot;1280&quot;: case &quot;1281&quot;: case &quot;1282&quot;: case &quot;1283&quot;: case &quot;1284&quot;: case &quot;1285&quot;: case &quot;1286&quot;: case &quot;1287&quot;: case &quot;1288&quot;: case &quot;1289&quot;: case &quot;1290&quot;: case &quot;1291&quot;: case &quot;1292&quot;: case &quot;1293&quot;: case &quot;1294&quot;: case &quot;1295&quot;: case &quot;1296&quot;: case &quot;1297&quot;: case &quot;1298&quot;: case &quot;1299&quot;: case &quot;1300&quot;: case &quot;1301&quot;: case &quot;1302&quot;: case &quot;1303&quot;: case &quot;1304&quot;: case &quot;1305&quot;: case &quot;1306&quot;: case &quot;1307&quot;: case &quot;1308&quot;: case &quot;1309&quot;: case &quot;1310&quot;: case &quot;1311&quot;: case &quot;1312&quot;: case &quot;1313&quot;: case &quot;1314&quot;: case &quot;1315&quot;: case &quot;1316&quot;: case &quot;1317&quot;: case &quot;1318&quot;: case &quot;1319&quot;: case &quot;1320&quot;: \n",
       "                    return {&quot;color&quot;: &quot;#bcbd22&quot;, &quot;fillColor&quot;: &quot;#bcbd22&quot;, &quot;fillOpacity&quot;: 0.5, &quot;weight&quot;: 2};\n",
       "                case &quot;1321&quot;: case &quot;1322&quot;: case &quot;1323&quot;: case &quot;1324&quot;: case &quot;1325&quot;: case &quot;1326&quot;: case &quot;1327&quot;: case &quot;1328&quot;: case &quot;1329&quot;: case &quot;1330&quot;: case &quot;1331&quot;: case &quot;1332&quot;: case &quot;1333&quot;: case &quot;1334&quot;: case &quot;1335&quot;: case &quot;1336&quot;: case &quot;1337&quot;: case &quot;1338&quot;: case &quot;1339&quot;: case &quot;1340&quot;: case &quot;1341&quot;: case &quot;1342&quot;: case &quot;1343&quot;: case &quot;1344&quot;: case &quot;1345&quot;: case &quot;1346&quot;: case &quot;1347&quot;: case &quot;1348&quot;: case &quot;1349&quot;: case &quot;1350&quot;: case &quot;1351&quot;: case &quot;1352&quot;: case &quot;1353&quot;: case &quot;1354&quot;: case &quot;1355&quot;: case &quot;1356&quot;: case &quot;1357&quot;: case &quot;1358&quot;: case &quot;1359&quot;: case &quot;1360&quot;: case &quot;1361&quot;: case &quot;1362&quot;: case &quot;1363&quot;: case &quot;1364&quot;: case &quot;1365&quot;: case &quot;1366&quot;: case &quot;1367&quot;: case &quot;1368&quot;: case &quot;1369&quot;: case &quot;1370&quot;: case &quot;1371&quot;: case &quot;1372&quot;: case &quot;1373&quot;: case &quot;1374&quot;: case &quot;1375&quot;: case &quot;1376&quot;: case &quot;1377&quot;: case &quot;1378&quot;: case &quot;1379&quot;: case &quot;1380&quot;: case &quot;1381&quot;: case &quot;1382&quot;: case &quot;1383&quot;: case &quot;1384&quot;: case &quot;1385&quot;: case &quot;1386&quot;: case &quot;1387&quot;: case &quot;1388&quot;: case &quot;1389&quot;: case &quot;1390&quot;: case &quot;1391&quot;: case &quot;1392&quot;: case &quot;1393&quot;: case &quot;1394&quot;: case &quot;1395&quot;: case &quot;1396&quot;: case &quot;1397&quot;: case &quot;1398&quot;: case &quot;1399&quot;: case &quot;1400&quot;: case &quot;1401&quot;: case &quot;1402&quot;: case &quot;1403&quot;: case &quot;1404&quot;: case &quot;1405&quot;: case &quot;1406&quot;: case &quot;1407&quot;: case &quot;1408&quot;: case &quot;1409&quot;: case &quot;1410&quot;: case &quot;1411&quot;: case &quot;1412&quot;: case &quot;1413&quot;: case &quot;1414&quot;: case &quot;1415&quot;: case &quot;1416&quot;: case &quot;1417&quot;: case &quot;1418&quot;: case &quot;1419&quot;: case &quot;1420&quot;: case &quot;1421&quot;: case &quot;1422&quot;: case &quot;1423&quot;: case &quot;1424&quot;: case &quot;1425&quot;: case &quot;1426&quot;: case &quot;1427&quot;: case &quot;1428&quot;: case &quot;1429&quot;: case &quot;1430&quot;: case &quot;1431&quot;: case &quot;1432&quot;: case &quot;1433&quot;: case &quot;1434&quot;: case &quot;1435&quot;: case &quot;1436&quot;: case &quot;1437&quot;: case &quot;1438&quot;: case &quot;1439&quot;: case &quot;1440&quot;: case &quot;1441&quot;: case &quot;1442&quot;: case &quot;1443&quot;: case &quot;1444&quot;: case &quot;1445&quot;: case &quot;1446&quot;: case &quot;1447&quot;: case &quot;1448&quot;: case &quot;1449&quot;: case &quot;1450&quot;: case &quot;1451&quot;: case &quot;1452&quot;: case &quot;1453&quot;: case &quot;1454&quot;: case &quot;1455&quot;: case &quot;1456&quot;: case &quot;1457&quot;: case &quot;1458&quot;: case &quot;1459&quot;: case &quot;1460&quot;: case &quot;1461&quot;: case &quot;1462&quot;: case &quot;1463&quot;: case &quot;1464&quot;: case &quot;1465&quot;: case &quot;1466&quot;: case &quot;1467&quot;: case &quot;1468&quot;: case &quot;1469&quot;: case &quot;1470&quot;: case &quot;1471&quot;: case &quot;1472&quot;: case &quot;1473&quot;: case &quot;1474&quot;: case &quot;1475&quot;: case &quot;1476&quot;: \n",
       "                    return {&quot;color&quot;: &quot;#17becf&quot;, &quot;fillColor&quot;: &quot;#17becf&quot;, &quot;fillOpacity&quot;: 0.5, &quot;weight&quot;: 2};\n",
       "                case &quot;1477&quot;: case &quot;1478&quot;: case &quot;1479&quot;: case &quot;1480&quot;: case &quot;1481&quot;: case &quot;1482&quot;: case &quot;1483&quot;: case &quot;1484&quot;: case &quot;1485&quot;: case &quot;1486&quot;: case &quot;1487&quot;: case &quot;1488&quot;: case &quot;1489&quot;: case &quot;1490&quot;: case &quot;1491&quot;: case &quot;1492&quot;: case &quot;1493&quot;: case &quot;1494&quot;: case &quot;1495&quot;: case &quot;1496&quot;: case &quot;1497&quot;: case &quot;1498&quot;: case &quot;1499&quot;: case &quot;1500&quot;: case &quot;1501&quot;: case &quot;1502&quot;: case &quot;1503&quot;: case &quot;1504&quot;: case &quot;1505&quot;: case &quot;1506&quot;: case &quot;1507&quot;: case &quot;1508&quot;: case &quot;1509&quot;: case &quot;1510&quot;: case &quot;1511&quot;: case &quot;1512&quot;: case &quot;1513&quot;: case &quot;1514&quot;: case &quot;1515&quot;: case &quot;1516&quot;: case &quot;1517&quot;: case &quot;1518&quot;: case &quot;1519&quot;: case &quot;1520&quot;: case &quot;1521&quot;: case &quot;1522&quot;: case &quot;1523&quot;: case &quot;1524&quot;: case &quot;1525&quot;: case &quot;1526&quot;: case &quot;1527&quot;: case &quot;1528&quot;: case &quot;1529&quot;: case &quot;1530&quot;: case &quot;1531&quot;: case &quot;1532&quot;: case &quot;1533&quot;: case &quot;1534&quot;: case &quot;1535&quot;: case &quot;1536&quot;: case &quot;1537&quot;: case &quot;1538&quot;: case &quot;1539&quot;: case &quot;1540&quot;: case &quot;1541&quot;: case &quot;1542&quot;: case &quot;1543&quot;: \n",
       "                    return {&quot;color&quot;: &quot;#9edae5&quot;, &quot;fillColor&quot;: &quot;#9edae5&quot;, &quot;fillOpacity&quot;: 0.5, &quot;weight&quot;: 2};\n",
       "                default:\n",
       "                    return {&quot;color&quot;: &quot;#ff9896&quot;, &quot;fillColor&quot;: &quot;#ff9896&quot;, &quot;fillOpacity&quot;: 0.5, &quot;weight&quot;: 2};\n",
       "            }\n",
       "        }\n",
       "        function geo_json_97ce47e4249a784d48421a0cc6055aec_highlighter(feature) {\n",
       "            switch(feature.id) {\n",
       "                default:\n",
       "                    return {&quot;fillOpacity&quot;: 0.75};\n",
       "            }\n",
       "        }\n",
       "        function geo_json_97ce47e4249a784d48421a0cc6055aec_pointToLayer(feature, latlng) {\n",
       "            var opts = {&quot;bubblingMouseEvents&quot;: true, &quot;color&quot;: &quot;#3388ff&quot;, &quot;dashArray&quot;: null, &quot;dashOffset&quot;: null, &quot;fill&quot;: true, &quot;fillColor&quot;: &quot;#3388ff&quot;, &quot;fillOpacity&quot;: 0.2, &quot;fillRule&quot;: &quot;evenodd&quot;, &quot;lineCap&quot;: &quot;round&quot;, &quot;lineJoin&quot;: &quot;round&quot;, &quot;opacity&quot;: 1.0, &quot;radius&quot;: 2, &quot;stroke&quot;: true, &quot;weight&quot;: 3};\n",
       "            \n",
       "            let style = geo_json_97ce47e4249a784d48421a0cc6055aec_styler(feature)\n",
       "            Object.assign(opts, style)\n",
       "            \n",
       "            return new L.CircleMarker(latlng, opts)\n",
       "        }\n",
       "\n",
       "        function geo_json_97ce47e4249a784d48421a0cc6055aec_onEachFeature(feature, layer) {\n",
       "            layer.on({\n",
       "                mouseout: function(e) {\n",
       "                    if(typeof e.target.setStyle === &quot;function&quot;){\n",
       "                        geo_json_97ce47e4249a784d48421a0cc6055aec.resetStyle(e.target);\n",
       "                    }\n",
       "                },\n",
       "                mouseover: function(e) {\n",
       "                    if(typeof e.target.setStyle === &quot;function&quot;){\n",
       "                        const highlightStyle = geo_json_97ce47e4249a784d48421a0cc6055aec_highlighter(e.target.feature)\n",
       "                        e.target.setStyle(highlightStyle);\n",
       "                    }\n",
       "                },\n",
       "            });\n",
       "        };\n",
       "        var geo_json_97ce47e4249a784d48421a0cc6055aec = L.geoJson(null, {\n",
       "                onEachFeature: geo_json_97ce47e4249a784d48421a0cc6055aec_onEachFeature,\n",
       "            \n",
       "                style: geo_json_97ce47e4249a784d48421a0cc6055aec_styler,\n",
       "                pointToLayer: geo_json_97ce47e4249a784d48421a0cc6055aec_pointToLayer\n",
       "        });\n",
       "\n",
       "        function geo_json_97ce47e4249a784d48421a0cc6055aec_add (data) {\n",
       "            geo_json_97ce47e4249a784d48421a0cc6055aec\n",
       "                .addData(data)\n",
       "                .addTo(map_30b3a7be0c3d5bd1f07f99f345276626);\n",
       "        }\n",
       "            geo_json_97ce47e4249a784d48421a0cc6055aec_add({&quot;bbox&quot;: [-17.62987, 4.99315, 23.156395, 37.23052666666667], &quot;features&quot;: [{&quot;bbox&quot;: [15.0657466667, 35.9406933333, 15.0657466667, 35.9406933333], &quot;geometry&quot;: {&quot;coordinates&quot;: [15.0657466667, 35.9406933333], &quot;type&quot;: &quot;Point&quot;}, &quot;id&quot;: &quot;0&quot;, &quot;properties&quot;: {&quot;__folium_color&quot;: &quot;#1f77b4&quot;, &quot;index&quot;: 628, &quot;week&quot;: &quot;2022-01-10&quot;}, &quot;type&quot;: &quot;Feature&quot;}, {&quot;bbox&quot;: [14.974413333333333, 35.95139666666667, 14.974413333333333, 35.95139666666667], &quot;geometry&quot;: {&quot;coordinates&quot;: [14.974413333333333, 35.95139666666667], &quot;type&quot;: &quot;Point&quot;}, &quot;id&quot;: &quot;1&quot;, &quot;properties&quot;: {&quot;__folium_color&quot;: &quot;#1f77b4&quot;, &quot;index&quot;: 629, &quot;week&quot;: &quot;2022-01-10&quot;}, &quot;type&quot;: &quot;Feature&quot;}, {&quot;bbox&quot;: [14.958586666666667, 35.957275, 14.958586666666667, 35.957275], &quot;geometry&quot;: {&quot;coordinates&quot;: [14.958586666666667, 35.957275], &quot;type&quot;: &quot;Point&quot;}, &quot;id&quot;: &quot;2&quot;, &quot;properties&quot;: {&quot;__folium_color&quot;: &quot;#1f77b4&quot;, &quot;index&quot;: 630, &quot;week&quot;: &quot;2022-01-10&quot;}, &quot;type&quot;: &quot;Feature&quot;}, {&quot;bbox&quot;: [14.933418333333334, 35.970185, 14.933418333333334, 35.970185], &quot;geometry&quot;: {&quot;coordinates&quot;: [14.933418333333334, 35.970185], &quot;type&quot;: &quot;Point&quot;}, &quot;id&quot;: &quot;3&quot;, &quot;properties&quot;: {&quot;__folium_color&quot;: &quot;#1f77b4&quot;, &quot;index&quot;: 631, &quot;week&quot;: &quot;2022-01-10&quot;}, &quot;type&quot;: &quot;Feature&quot;}, {&quot;bbox&quot;: [14.887746666666668, 36.00045333333333, 14.887746666666668, 36.00045333333333], &quot;geometry&quot;: {&quot;coordinates&quot;: [14.887746666666668, 36.00045333333333], &quot;type&quot;: &quot;Point&quot;}, &quot;id&quot;: &quot;4&quot;, &quot;properties&quot;: {&quot;__folium_color&quot;: &quot;#1f77b4&quot;, &quot;index&quot;: 632, &quot;week&quot;: &quot;2022-01-10&quot;}, &quot;type&quot;: &quot;Feature&quot;}, {&quot;bbox&quot;: [14.885176666666666, 36.00488166666667, 14.885176666666666, 36.00488166666667], &quot;geometry&quot;: {&quot;coordinates&quot;: [14.885176666666666, 36.00488166666667], &quot;type&quot;: &quot;Point&quot;}, &quot;id&quot;: &quot;5&quot;, &quot;properties&quot;: {&quot;__folium_color&quot;: &quot;#1f77b4&quot;, &quot;index&quot;: 633, &quot;week&quot;: &quot;2022-01-10&quot;}, &quot;type&quot;: &quot;Feature&quot;}, {&quot;bbox&quot;: [14.884936666666666, 36.004725, 14.884936666666666, 36.004725], &quot;geometry&quot;: {&quot;coordinates&quot;: [14.884936666666666, 36.004725], &quot;type&quot;: &quot;Point&quot;}, &quot;id&quot;: &quot;6&quot;, &quot;properties&quot;: {&quot;__folium_color&quot;: &quot;#1f77b4&quot;, &quot;index&quot;: 634, &quot;week&quot;: &quot;2022-01-10&quot;}, &quot;type&quot;: &quot;Feature&quot;}, {&quot;bbox&quot;: [14.884708333333334, 36.004615, 14.884708333333334, 36.004615], &quot;geometry&quot;: {&quot;coordinates&quot;: [14.884708333333334, 36.004615], &quot;type&quot;: &quot;Point&quot;}, &quot;id&quot;: &quot;7&quot;, &quot;properties&quot;: {&quot;__folium_color&quot;: &quot;#1f77b4&quot;, &quot;index&quot;: 635, &quot;week&quot;: &quot;2022-01-10&quot;}, &quot;type&quot;: &quot;Feature&quot;}, {&quot;bbox&quot;: [14.884353333333332, 36.004695, 14.884353333333332, 36.004695], &quot;geometry&quot;: {&quot;coordinates&quot;: [14.884353333333332, 36.004695], &quot;type&quot;: &quot;Point&quot;}, &quot;id&quot;: &quot;8&quot;, &quot;properties&quot;: {&quot;__folium_color&quot;: &quot;#1f77b4&quot;, &quot;index&quot;: 636, &quot;week&quot;: &quot;2022-01-10&quot;}, &quot;type&quot;: &quot;Feature&quot;}, {&quot;bbox&quot;: [14.884766666666666, 36.00478666666667, 14.884766666666666, 36.00478666666667], &quot;geometry&quot;: {&quot;coordinates&quot;: [14.884766666666666, 36.00478666666667], &quot;type&quot;: &quot;Point&quot;}, &quot;id&quot;: &quot;9&quot;, &quot;properties&quot;: {&quot;__folium_color&quot;: &quot;#1f77b4&quot;, &quot;index&quot;: 637, &quot;week&quot;: &quot;2022-01-10&quot;}, &quot;type&quot;: &quot;Feature&quot;}, {&quot;bbox&quot;: [14.88467, 36.00472, 14.88467, 36.00472], &quot;geometry&quot;: {&quot;coordinates&quot;: [14.88467, 36.00472], &quot;type&quot;: &quot;Point&quot;}, &quot;id&quot;: &quot;10&quot;, &quot;properties&quot;: {&quot;__folium_color&quot;: &quot;#1f77b4&quot;, &quot;index&quot;: 638, &quot;week&quot;: &quot;2022-01-10&quot;}, &quot;type&quot;: &quot;Feature&quot;}, {&quot;bbox&quot;: [14.884573333333334, 36.00474166666667, 14.884573333333334, 36.00474166666667], &quot;geometry&quot;: {&quot;coordinates&quot;: [14.884573333333334, 36.00474166666667], &quot;type&quot;: &quot;Point&quot;}, &quot;id&quot;: &quot;11&quot;, &quot;properties&quot;: {&quot;__folium_color&quot;: &quot;#1f77b4&quot;, &quot;index&quot;: 639, &quot;week&quot;: &quot;2022-01-10&quot;}, &quot;type&quot;: &quot;Feature&quot;}, {&quot;bbox&quot;: [14.884586666666667, 36.00470833333333, 14.884586666666667, 36.00470833333333], &quot;geometry&quot;: {&quot;coordinates&quot;: [14.884586666666667, 36.00470833333333], &quot;type&quot;: &quot;Point&quot;}, &quot;id&quot;: &quot;12&quot;, &quot;properties&quot;: {&quot;__folium_color&quot;: &quot;#1f77b4&quot;, &quot;index&quot;: 640, &quot;week&quot;: &quot;2022-01-10&quot;}, &quot;type&quot;: &quot;Feature&quot;}, {&quot;bbox&quot;: [14.884683333333331, 36.004725, 14.884683333333331, 36.004725], &quot;geometry&quot;: {&quot;coordinates&quot;: [14.884683333333331, 36.004725], &quot;type&quot;: &quot;Point&quot;}, &quot;id&quot;: &quot;13&quot;, &quot;properties&quot;: {&quot;__folium_color&quot;: &quot;#1f77b4&quot;, &quot;index&quot;: 641, &quot;week&quot;: &quot;2022-01-10&quot;}, &quot;type&quot;: &quot;Feature&quot;}, {&quot;bbox&quot;: [14.884468333333333, 36.004745, 14.884468333333333, 36.004745], &quot;geometry&quot;: {&quot;coordinates&quot;: [14.884468333333333, 36.004745], &quot;type&quot;: &quot;Point&quot;}, &quot;id&quot;: &quot;14&quot;, &quot;properties&quot;: {&quot;__folium_color&quot;: &quot;#1f77b4&quot;, &quot;index&quot;: 642, &quot;week&quot;: &quot;2022-01-10&quot;}, &quot;type&quot;: &quot;Feature&quot;}, {&quot;bbox&quot;: [14.884408333333331, 36.00472833333333, 14.884408333333331, 36.00472833333333], &quot;geometry&quot;: {&quot;coordinates&quot;: [14.884408333333331, 36.00472833333333], &quot;type&quot;: &quot;Point&quot;}, &quot;id&quot;: &quot;15&quot;, &quot;properties&quot;: {&quot;__folium_color&quot;: &quot;#1f77b4&quot;, &quot;index&quot;: 643, &quot;week&quot;: &quot;2022-01-10&quot;}, &quot;type&quot;: &quot;Feature&quot;}, {&quot;bbox&quot;: [14.884813333333334, 36.004801666666665, 14.884813333333334, 36.004801666666665], &quot;geometry&quot;: {&quot;coordinates&quot;: [14.884813333333334, 36.004801666666665], &quot;type&quot;: &quot;Point&quot;}, &quot;id&quot;: &quot;16&quot;, &quot;properties&quot;: {&quot;__folium_color&quot;: &quot;#1f77b4&quot;, &quot;index&quot;: 644, &quot;week&quot;: &quot;2022-01-10&quot;}, &quot;type&quot;: &quot;Feature&quot;}, {&quot;bbox&quot;: [14.8849716667, 36.0047383333, 14.8849716667, 36.0047383333], &quot;geometry&quot;: {&quot;coordinates&quot;: [14.8849716667, 36.0047383333], &quot;type&quot;: &quot;Point&quot;}, &quot;id&quot;: &quot;17&quot;, &quot;properties&quot;: {&quot;__folium_color&quot;: &quot;#1f77b4&quot;, &quot;index&quot;: 645, &quot;week&quot;: &quot;2022-01-10&quot;}, &quot;type&quot;: &quot;Feature&quot;}, {&quot;bbox&quot;: [14.884736666666669, 36.00469, 14.884736666666669, 36.00469], &quot;geometry&quot;: {&quot;coordinates&quot;: [14.884736666666669, 36.00469], &quot;type&quot;: &quot;Point&quot;}, &quot;id&quot;: &quot;18&quot;, &quot;properties&quot;: {&quot;__folium_color&quot;: &quot;#1f77b4&quot;, &quot;index&quot;: 646, &quot;week&quot;: &quot;2022-01-10&quot;}, &quot;type&quot;: &quot;Feature&quot;}, {&quot;bbox&quot;: [14.884543333333331, 36.004635, 14.884543333333331, 36.004635], &quot;geometry&quot;: {&quot;coordinates&quot;: [14.884543333333331, 36.004635], &quot;type&quot;: &quot;Point&quot;}, &quot;id&quot;: &quot;19&quot;, &quot;properties&quot;: {&quot;__folium_color&quot;: &quot;#1f77b4&quot;, &quot;index&quot;: 647, &quot;week&quot;: &quot;2022-01-10&quot;}, &quot;type&quot;: &quot;Feature&quot;}, {&quot;bbox&quot;: [14.884778333333331, 36.00474166666667, 14.884778333333331, 36.00474166666667], &quot;geometry&quot;: {&quot;coordinates&quot;: [14.884778333333331, 36.00474166666667], &quot;type&quot;: &quot;Point&quot;}, &quot;id&quot;: &quot;20&quot;, &quot;properties&quot;: {&quot;__folium_color&quot;: &quot;#1f77b4&quot;, &quot;index&quot;: 648, &quot;week&quot;: &quot;2022-01-10&quot;}, &quot;type&quot;: &quot;Feature&quot;}, {&quot;bbox&quot;: [14.884956666666668, 36.00476333333334, 14.884956666666668, 36.00476333333334], &quot;geometry&quot;: {&quot;coordinates&quot;: [14.884956666666668, 36.00476333333334], &quot;type&quot;: &quot;Point&quot;}, &quot;id&quot;: &quot;21&quot;, &quot;properties&quot;: {&quot;__folium_color&quot;: &quot;#1f77b4&quot;, &quot;index&quot;: 649, &quot;week&quot;: &quot;2022-01-10&quot;}, &quot;type&quot;: &quot;Feature&quot;}, {&quot;bbox&quot;: [14.884898333333334, 36.00456666666667, 14.884898333333334, 36.00456666666667], &quot;geometry&quot;: {&quot;coordinates&quot;: [14.884898333333334, 36.00456666666667], &quot;type&quot;: &quot;Point&quot;}, &quot;id&quot;: &quot;22&quot;, &quot;properties&quot;: {&quot;__folium_color&quot;: &quot;#1f77b4&quot;, &quot;index&quot;: 650, &quot;week&quot;: &quot;2022-01-10&quot;}, &quot;type&quot;: &quot;Feature&quot;}, {&quot;bbox&quot;: [14.885216666666668, 36.00510666666667, 14.885216666666668, 36.00510666666667], &quot;geometry&quot;: {&quot;coordinates&quot;: [14.885216666666668, 36.00510666666667], &quot;type&quot;: &quot;Point&quot;}, &quot;id&quot;: &quot;23&quot;, &quot;properties&quot;: {&quot;__folium_color&quot;: &quot;#1f77b4&quot;, &quot;index&quot;: 651, &quot;week&quot;: &quot;2022-01-10&quot;}, &quot;type&quot;: &quot;Feature&quot;}, {&quot;bbox&quot;: [14.88962, 36.00657, 14.88962, 36.00657], &quot;geometry&quot;: {&quot;coordinates&quot;: [14.88962, 36.00657], &quot;type&quot;: &quot;Point&quot;}, &quot;id&quot;: &quot;24&quot;, &quot;properties&quot;: {&quot;__folium_color&quot;: &quot;#1f77b4&quot;, &quot;index&quot;: 652, &quot;week&quot;: &quot;2022-01-10&quot;}, &quot;type&quot;: &quot;Feature&quot;}, {&quot;bbox&quot;: [14.890055, 36.0055166667, 14.890055, 36.0055166667], &quot;geometry&quot;: {&quot;coordinates&quot;: [14.890055, 36.0055166667], &quot;type&quot;: &quot;Point&quot;}, &quot;id&quot;: &quot;25&quot;, &quot;properties&quot;: {&quot;__folium_color&quot;: &quot;#1f77b4&quot;, &quot;index&quot;: 653, &quot;week&quot;: &quot;2022-01-10&quot;}, &quot;type&quot;: &quot;Feature&quot;}, {&quot;bbox&quot;: [14.892896666666667, 35.98817, 14.892896666666667, 35.98817], &quot;geometry&quot;: {&quot;coordinates&quot;: [14.892896666666667, 35.98817], &quot;type&quot;: &quot;Point&quot;}, &quot;id&quot;: &quot;26&quot;, &quot;properties&quot;: {&quot;__folium_color&quot;: &quot;#1f77b4&quot;, &quot;index&quot;: 654, &quot;week&quot;: &quot;2022-01-10&quot;}, &quot;type&quot;: &quot;Feature&quot;}, {&quot;bbox&quot;: [14.888226666666666, 35.978785, 14.888226666666666, 35.978785], &quot;geometry&quot;: {&quot;coordinates&quot;: [14.888226666666666, 35.978785], &quot;type&quot;: &quot;Point&quot;}, &quot;id&quot;: &quot;27&quot;, &quot;properties&quot;: {&quot;__folium_color&quot;: &quot;#1f77b4&quot;, &quot;index&quot;: 655, &quot;week&quot;: &quot;2022-01-10&quot;}, &quot;type&quot;: &quot;Feature&quot;}, {&quot;bbox&quot;: [14.897906666666668, 35.985115, 14.897906666666668, 35.985115], &quot;geometry&quot;: {&quot;coordinates&quot;: [14.897906666666668, 35.985115], &quot;type&quot;: &quot;Point&quot;}, &quot;id&quot;: &quot;28&quot;, &quot;properties&quot;: {&quot;__folium_color&quot;: &quot;#1f77b4&quot;, &quot;index&quot;: 656, &quot;week&quot;: &quot;2022-01-10&quot;}, &quot;type&quot;: &quot;Feature&quot;}, {&quot;bbox&quot;: [14.904076666666668, 35.994335, 14.904076666666668, 35.994335], &quot;geometry&quot;: {&quot;coordinates&quot;: [14.904076666666668, 35.994335], &quot;type&quot;: &quot;Point&quot;}, &quot;id&quot;: &quot;29&quot;, &quot;properties&quot;: {&quot;__folium_color&quot;: &quot;#1f77b4&quot;, &quot;index&quot;: 657, &quot;week&quot;: &quot;2022-01-10&quot;}, &quot;type&quot;: &quot;Feature&quot;}, {&quot;bbox&quot;: [14.906691666666667, 36.00102166666667, 14.906691666666667, 36.00102166666667], &quot;geometry&quot;: {&quot;coordinates&quot;: [14.906691666666667, 36.00102166666667], &quot;type&quot;: &quot;Point&quot;}, &quot;id&quot;: &quot;30&quot;, &quot;properties&quot;: {&quot;__folium_color&quot;: &quot;#1f77b4&quot;, &quot;index&quot;: 658, &quot;week&quot;: &quot;2022-01-10&quot;}, &quot;type&quot;: &quot;Feature&quot;}, {&quot;bbox&quot;: [14.906833333333331, 36.00118666666667, 14.906833333333331, 36.00118666666667], &quot;geometry&quot;: {&quot;coordinates&quot;: [14.906833333333331, 36.00118666666667], &quot;type&quot;: &quot;Point&quot;}, &quot;id&quot;: &quot;31&quot;, &quot;properties&quot;: {&quot;__folium_color&quot;: &quot;#1f77b4&quot;, &quot;index&quot;: 659, &quot;week&quot;: &quot;2022-01-10&quot;}, &quot;type&quot;: &quot;Feature&quot;}, {&quot;bbox&quot;: [14.907086666666666, 36.00122, 14.907086666666666, 36.00122], &quot;geometry&quot;: {&quot;coordinates&quot;: [14.907086666666666, 36.00122], &quot;type&quot;: &quot;Point&quot;}, &quot;id&quot;: &quot;32&quot;, &quot;properties&quot;: {&quot;__folium_color&quot;: &quot;#1f77b4&quot;, &quot;index&quot;: 660, &quot;week&quot;: &quot;2022-01-10&quot;}, &quot;type&quot;: &quot;Feature&quot;}, {&quot;bbox&quot;: [14.907155, 36.00121, 14.907155, 36.00121], &quot;geometry&quot;: {&quot;coordinates&quot;: [14.907155, 36.00121], &quot;type&quot;: &quot;Point&quot;}, &quot;id&quot;: &quot;33&quot;, &quot;properties&quot;: {&quot;__folium_color&quot;: &quot;#1f77b4&quot;, &quot;index&quot;: 661, &quot;week&quot;: &quot;2022-01-10&quot;}, &quot;type&quot;: &quot;Feature&quot;}, {&quot;bbox&quot;: [14.907651666666666, 36.001295, 14.907651666666666, 36.001295], &quot;geometry&quot;: {&quot;coordinates&quot;: [14.907651666666666, 36.001295], &quot;type&quot;: &quot;Point&quot;}, &quot;id&quot;: &quot;34&quot;, &quot;properties&quot;: {&quot;__folium_color&quot;: &quot;#1f77b4&quot;, &quot;index&quot;: 662, &quot;week&quot;: &quot;2022-01-10&quot;}, &quot;type&quot;: &quot;Feature&quot;}, {&quot;bbox&quot;: [14.907745, 36.00127833333333, 14.907745, 36.00127833333333], &quot;geometry&quot;: {&quot;coordinates&quot;: [14.907745, 36.00127833333333], &quot;type&quot;: &quot;Point&quot;}, &quot;id&quot;: &quot;35&quot;, &quot;properties&quot;: {&quot;__folium_color&quot;: &quot;#1f77b4&quot;, &quot;index&quot;: 663, &quot;week&quot;: &quot;2022-01-10&quot;}, &quot;type&quot;: &quot;Feature&quot;}, {&quot;bbox&quot;: [14.90843, 36.0014816667, 14.90843, 36.0014816667], &quot;geometry&quot;: {&quot;coordinates&quot;: [14.90843, 36.0014816667], &quot;type&quot;: &quot;Point&quot;}, &quot;id&quot;: &quot;36&quot;, &quot;properties&quot;: {&quot;__folium_color&quot;: &quot;#1f77b4&quot;, &quot;index&quot;: 664, &quot;week&quot;: &quot;2022-01-10&quot;}, &quot;type&quot;: &quot;Feature&quot;}, {&quot;bbox&quot;: [14.908235, 36.0015016667, 14.908235, 36.0015016667], &quot;geometry&quot;: {&quot;coordinates&quot;: [14.908235, 36.0015016667], &quot;type&quot;: &quot;Point&quot;}, &quot;id&quot;: &quot;37&quot;, &quot;properties&quot;: {&quot;__folium_color&quot;: &quot;#1f77b4&quot;, &quot;index&quot;: 665, &quot;week&quot;: &quot;2022-01-10&quot;}, &quot;type&quot;: &quot;Feature&quot;}, {&quot;bbox&quot;: [14.90816, 36.00138, 14.90816, 36.00138], &quot;geometry&quot;: {&quot;coordinates&quot;: [14.90816, 36.00138], &quot;type&quot;: &quot;Point&quot;}, &quot;id&quot;: &quot;38&quot;, &quot;properties&quot;: {&quot;__folium_color&quot;: &quot;#1f77b4&quot;, &quot;index&quot;: 666, &quot;week&quot;: &quot;2022-01-10&quot;}, &quot;type&quot;: &quot;Feature&quot;}, {&quot;bbox&quot;: [14.908235, 36.001485, 14.908235, 36.001485], &quot;geometry&quot;: {&quot;coordinates&quot;: [14.908235, 36.001485], &quot;type&quot;: &quot;Point&quot;}, &quot;id&quot;: &quot;39&quot;, &quot;properties&quot;: {&quot;__folium_color&quot;: &quot;#1f77b4&quot;, &quot;index&quot;: 667, &quot;week&quot;: &quot;2022-01-10&quot;}, &quot;type&quot;: &quot;Feature&quot;}, {&quot;bbox&quot;: [14.908751666666667, 36.00170333333333, 14.908751666666667, 36.00170333333333], &quot;geometry&quot;: {&quot;coordinates&quot;: [14.908751666666667, 36.00170333333333], &quot;type&quot;: &quot;Point&quot;}, &quot;id&quot;: &quot;40&quot;, &quot;properties&quot;: {&quot;__folium_color&quot;: &quot;#aec7e8&quot;, &quot;index&quot;: 668, &quot;week&quot;: &quot;2022-01-17&quot;}, &quot;type&quot;: &quot;Feature&quot;}, {&quot;bbox&quot;: [14.908821666666666, 36.00160666666667, 14.908821666666666, 36.00160666666667], &quot;geometry&quot;: {&quot;coordinates&quot;: [14.908821666666666, 36.00160666666667], &quot;type&quot;: &quot;Point&quot;}, &quot;id&quot;: &quot;41&quot;, &quot;properties&quot;: {&quot;__folium_color&quot;: &quot;#aec7e8&quot;, &quot;index&quot;: 669, &quot;week&quot;: &quot;2022-01-17&quot;}, &quot;type&quot;: &quot;Feature&quot;}, {&quot;bbox&quot;: [14.908875, 36.00177, 14.908875, 36.00177], &quot;geometry&quot;: {&quot;coordinates&quot;: [14.908875, 36.00177], &quot;type&quot;: &quot;Point&quot;}, &quot;id&quot;: &quot;42&quot;, &quot;properties&quot;: {&quot;__folium_color&quot;: &quot;#aec7e8&quot;, &quot;index&quot;: 670, &quot;week&quot;: &quot;2022-01-17&quot;}, &quot;type&quot;: &quot;Feature&quot;}, {&quot;bbox&quot;: [14.9091, 36.00165333333333, 14.9091, 36.00165333333333], &quot;geometry&quot;: {&quot;coordinates&quot;: [14.9091, 36.00165333333333], &quot;type&quot;: &quot;Point&quot;}, &quot;id&quot;: &quot;43&quot;, &quot;properties&quot;: {&quot;__folium_color&quot;: &quot;#aec7e8&quot;, &quot;index&quot;: 671, &quot;week&quot;: &quot;2022-01-17&quot;}, &quot;type&quot;: &quot;Feature&quot;}, {&quot;bbox&quot;: [14.909171666666667, 36.001821666666665, 14.909171666666667, 36.001821666666665], &quot;geometry&quot;: {&quot;coordinates&quot;: [14.909171666666667, 36.001821666666665], &quot;type&quot;: &quot;Point&quot;}, &quot;id&quot;: &quot;44&quot;, &quot;properties&quot;: {&quot;__folium_color&quot;: &quot;#aec7e8&quot;, &quot;index&quot;: 672, &quot;week&quot;: &quot;2022-01-17&quot;}, &quot;type&quot;: &quot;Feature&quot;}, {&quot;bbox&quot;: [14.9092433333, 36.0019566667, 14.9092433333, 36.0019566667], &quot;geometry&quot;: {&quot;coordinates&quot;: [14.9092433333, 36.0019566667], &quot;type&quot;: &quot;Point&quot;}, &quot;id&quot;: &quot;45&quot;, &quot;properties&quot;: {&quot;__folium_color&quot;: &quot;#aec7e8&quot;, &quot;index&quot;: 673, &quot;week&quot;: &quot;2022-01-17&quot;}, &quot;type&quot;: &quot;Feature&quot;}, {&quot;bbox&quot;: [14.90962, 36.002175, 14.90962, 36.002175], &quot;geometry&quot;: {&quot;coordinates&quot;: [14.90962, 36.002175], &quot;type&quot;: &quot;Point&quot;}, &quot;id&quot;: &quot;46&quot;, &quot;properties&quot;: {&quot;__folium_color&quot;: &quot;#aec7e8&quot;, &quot;index&quot;: 674, &quot;week&quot;: &quot;2022-01-17&quot;}, &quot;type&quot;: &quot;Feature&quot;}, {&quot;bbox&quot;: [14.9098466667, 36.0023783333, 14.9098466667, 36.0023783333], &quot;geometry&quot;: {&quot;coordinates&quot;: [14.9098466667, 36.0023783333], &quot;type&quot;: &quot;Point&quot;}, &quot;id&quot;: &quot;47&quot;, &quot;properties&quot;: {&quot;__folium_color&quot;: &quot;#aec7e8&quot;, &quot;index&quot;: 675, &quot;week&quot;: &quot;2022-01-17&quot;}, &quot;type&quot;: &quot;Feature&quot;}, {&quot;bbox&quot;: [14.909536666666666, 36.001981666666666, 14.909536666666666, 36.001981666666666], &quot;geometry&quot;: {&quot;coordinates&quot;: [14.909536666666666, 36.001981666666666], &quot;type&quot;: &quot;Point&quot;}, &quot;id&quot;: &quot;48&quot;, &quot;properties&quot;: {&quot;__folium_color&quot;: &quot;#aec7e8&quot;, &quot;index&quot;: 676, &quot;week&quot;: &quot;2022-01-17&quot;}, &quot;type&quot;: &quot;Feature&quot;}, {&quot;bbox&quot;: [14.909741666666667, 36.00205666666667, 14.909741666666667, 36.00205666666667], &quot;geometry&quot;: {&quot;coordinates&quot;: [14.909741666666667, 36.00205666666667], &quot;type&quot;: &quot;Point&quot;}, &quot;id&quot;: &quot;49&quot;, &quot;properties&quot;: {&quot;__folium_color&quot;: &quot;#aec7e8&quot;, &quot;index&quot;: 677, &quot;week&quot;: &quot;2022-01-17&quot;}, &quot;type&quot;: &quot;Feature&quot;}, {&quot;bbox&quot;: [14.909758333333333, 36.002175, 14.909758333333333, 36.002175], &quot;geometry&quot;: {&quot;coordinates&quot;: [14.909758333333333, 36.002175], &quot;type&quot;: &quot;Point&quot;}, &quot;id&quot;: &quot;50&quot;, &quot;properties&quot;: {&quot;__folium_color&quot;: &quot;#aec7e8&quot;, &quot;index&quot;: 678, &quot;week&quot;: &quot;2022-01-17&quot;}, &quot;type&quot;: &quot;Feature&quot;}, {&quot;bbox&quot;: [14.90972, 36.00205666666667, 14.90972, 36.00205666666667], &quot;geometry&quot;: {&quot;coordinates&quot;: [14.90972, 36.00205666666667], &quot;type&quot;: &quot;Point&quot;}, &quot;id&quot;: &quot;51&quot;, &quot;properties&quot;: {&quot;__folium_color&quot;: &quot;#aec7e8&quot;, &quot;index&quot;: 679, &quot;week&quot;: &quot;2022-01-17&quot;}, &quot;type&quot;: &quot;Feature&quot;}, {&quot;bbox&quot;: [14.909751666666669, 36.00192, 14.909751666666669, 36.00192], &quot;geometry&quot;: {&quot;coordinates&quot;: [14.909751666666669, 36.00192], &quot;type&quot;: &quot;Point&quot;}, &quot;id&quot;: &quot;52&quot;, &quot;properties&quot;: {&quot;__folium_color&quot;: &quot;#aec7e8&quot;, &quot;index&quot;: 680, &quot;week&quot;: &quot;2022-01-17&quot;}, &quot;type&quot;: &quot;Feature&quot;}, {&quot;bbox&quot;: [14.9099, 36.00204, 14.9099, 36.00204], &quot;geometry&quot;: {&quot;coordinates&quot;: [14.9099, 36.00204], &quot;type&quot;: &quot;Point&quot;}, &quot;id&quot;: &quot;53&quot;, &quot;properties&quot;: {&quot;__folium_color&quot;: &quot;#aec7e8&quot;, &quot;index&quot;: 681, &quot;week&quot;: &quot;2022-01-17&quot;}, &quot;type&quot;: &quot;Feature&quot;}, {&quot;bbox&quot;: [14.909811666666666, 36.00205666666667, 14.909811666666666, 36.00205666666667], &quot;geometry&quot;: {&quot;coordinates&quot;: [14.909811666666666, 36.00205666666667], &quot;type&quot;: &quot;Point&quot;}, &quot;id&quot;: &quot;54&quot;, &quot;properties&quot;: {&quot;__folium_color&quot;: &quot;#aec7e8&quot;, &quot;index&quot;: 682, &quot;week&quot;: &quot;2022-01-17&quot;}, &quot;type&quot;: &quot;Feature&quot;}, {&quot;bbox&quot;: [14.909855, 36.002105, 14.909855, 36.002105], &quot;geometry&quot;: {&quot;coordinates&quot;: [14.909855, 36.002105], &quot;type&quot;: &quot;Point&quot;}, &quot;id&quot;: &quot;55&quot;, &quot;properties&quot;: {&quot;__folium_color&quot;: &quot;#aec7e8&quot;, &quot;index&quot;: 683, &quot;week&quot;: &quot;2022-01-17&quot;}, &quot;type&quot;: &quot;Feature&quot;}, {&quot;bbox&quot;: [14.909756666666668, 36.002025, 14.909756666666668, 36.002025], &quot;geometry&quot;: {&quot;coordinates&quot;: [14.909756666666668, 36.002025], &quot;type&quot;: &quot;Point&quot;}, &quot;id&quot;: &quot;56&quot;, &quot;properties&quot;: {&quot;__folium_color&quot;: &quot;#aec7e8&quot;, &quot;index&quot;: 684, &quot;week&quot;: &quot;2022-01-17&quot;}, &quot;type&quot;: &quot;Feature&quot;}, {&quot;bbox&quot;: [14.909811666666666, 36.00212666666667, 14.909811666666666, 36.00212666666667], &quot;geometry&quot;: {&quot;coordinates&quot;: [14.909811666666666, 36.00212666666667], &quot;type&quot;: &quot;Point&quot;}, &quot;id&quot;: &quot;57&quot;, &quot;properties&quot;: {&quot;__folium_color&quot;: &quot;#aec7e8&quot;, &quot;index&quot;: 685, &quot;week&quot;: &quot;2022-01-17&quot;}, &quot;type&quot;: &quot;Feature&quot;}, {&quot;bbox&quot;: [14.9101, 36.002365, 14.9101, 36.002365], &quot;geometry&quot;: {&quot;coordinates&quot;: [14.9101, 36.002365], &quot;type&quot;: &quot;Point&quot;}, &quot;id&quot;: &quot;58&quot;, &quot;properties&quot;: {&quot;__folium_color&quot;: &quot;#aec7e8&quot;, &quot;index&quot;: 686, &quot;week&quot;: &quot;2022-01-17&quot;}, &quot;type&quot;: &quot;Feature&quot;}, {&quot;bbox&quot;: [14.9102183333, 36.0023116667, 14.9102183333, 36.0023116667], &quot;geometry&quot;: {&quot;coordinates&quot;: [14.9102183333, 36.0023116667], &quot;type&quot;: &quot;Point&quot;}, &quot;id&quot;: &quot;59&quot;, &quot;properties&quot;: {&quot;__folium_color&quot;: &quot;#aec7e8&quot;, &quot;index&quot;: 687, &quot;week&quot;: &quot;2022-01-17&quot;}, &quot;type&quot;: &quot;Feature&quot;}, {&quot;bbox&quot;: [14.910173333333333, 36.002195, 14.910173333333333, 36.002195], &quot;geometry&quot;: {&quot;coordinates&quot;: [14.910173333333333, 36.002195], &quot;type&quot;: &quot;Point&quot;}, &quot;id&quot;: &quot;60&quot;, &quot;properties&quot;: {&quot;__folium_color&quot;: &quot;#aec7e8&quot;, &quot;index&quot;: 688, &quot;week&quot;: &quot;2022-01-17&quot;}, &quot;type&quot;: &quot;Feature&quot;}, {&quot;bbox&quot;: [14.910071666666669, 36.00207, 14.910071666666669, 36.00207], &quot;geometry&quot;: {&quot;coordinates&quot;: [14.910071666666669, 36.00207], &quot;type&quot;: &quot;Point&quot;}, &quot;id&quot;: &quot;61&quot;, &quot;properties&quot;: {&quot;__folium_color&quot;: &quot;#aec7e8&quot;, &quot;index&quot;: 689, &quot;week&quot;: &quot;2022-01-17&quot;}, &quot;type&quot;: &quot;Feature&quot;}, {&quot;bbox&quot;: [14.910018333333332, 36.00198, 14.910018333333332, 36.00198], &quot;geometry&quot;: {&quot;coordinates&quot;: [14.910018333333332, 36.00198], &quot;type&quot;: &quot;Point&quot;}, &quot;id&quot;: &quot;62&quot;, &quot;properties&quot;: {&quot;__folium_color&quot;: &quot;#aec7e8&quot;, &quot;index&quot;: 690, &quot;week&quot;: &quot;2022-01-17&quot;}, &quot;type&quot;: &quot;Feature&quot;}, {&quot;bbox&quot;: [14.909975, 36.001978333333334, 14.909975, 36.001978333333334], &quot;geometry&quot;: {&quot;coordinates&quot;: [14.909975, 36.001978333333334], &quot;type&quot;: &quot;Point&quot;}, &quot;id&quot;: &quot;63&quot;, &quot;properties&quot;: {&quot;__folium_color&quot;: &quot;#aec7e8&quot;, &quot;index&quot;: 691, &quot;week&quot;: &quot;2022-01-17&quot;}, &quot;type&quot;: &quot;Feature&quot;}, {&quot;bbox&quot;: [14.909948333333332, 36.002005, 14.909948333333332, 36.002005], &quot;geometry&quot;: {&quot;coordinates&quot;: [14.909948333333332, 36.002005], &quot;type&quot;: &quot;Point&quot;}, &quot;id&quot;: &quot;64&quot;, &quot;properties&quot;: {&quot;__folium_color&quot;: &quot;#aec7e8&quot;, &quot;index&quot;: 692, &quot;week&quot;: &quot;2022-01-17&quot;}, &quot;type&quot;: &quot;Feature&quot;}, {&quot;bbox&quot;: [14.910035, 36.002048333333335, 14.910035, 36.002048333333335], &quot;geometry&quot;: {&quot;coordinates&quot;: [14.910035, 36.002048333333335], &quot;type&quot;: &quot;Point&quot;}, &quot;id&quot;: &quot;65&quot;, &quot;properties&quot;: {&quot;__folium_color&quot;: &quot;#aec7e8&quot;, &quot;index&quot;: 693, &quot;week&quot;: &quot;2022-01-17&quot;}, &quot;type&quot;: &quot;Feature&quot;}, {&quot;bbox&quot;: [14.909935, 36.00186166666667, 14.909935, 36.00186166666667], &quot;geometry&quot;: {&quot;coordinates&quot;: [14.909935, 36.00186166666667], &quot;type&quot;: &quot;Point&quot;}, &quot;id&quot;: &quot;66&quot;, &quot;properties&quot;: {&quot;__folium_color&quot;: &quot;#aec7e8&quot;, &quot;index&quot;: 694, &quot;week&quot;: &quot;2022-01-17&quot;}, &quot;type&quot;: &quot;Feature&quot;}, {&quot;bbox&quot;: [14.909813333333334, 36.001975, 14.909813333333334, 36.001975], &quot;geometry&quot;: {&quot;coordinates&quot;: [14.909813333333334, 36.001975], &quot;type&quot;: &quot;Point&quot;}, &quot;id&quot;: &quot;67&quot;, &quot;properties&quot;: {&quot;__folium_color&quot;: &quot;#aec7e8&quot;, &quot;index&quot;: 695, &quot;week&quot;: &quot;2022-01-17&quot;}, &quot;type&quot;: &quot;Feature&quot;}, {&quot;bbox&quot;: [14.9103366667, 36.00292, 14.9103366667, 36.00292], &quot;geometry&quot;: {&quot;coordinates&quot;: [14.9103366667, 36.00292], &quot;type&quot;: &quot;Point&quot;}, &quot;id&quot;: &quot;68&quot;, &quot;properties&quot;: {&quot;__folium_color&quot;: &quot;#aec7e8&quot;, &quot;index&quot;: 696, &quot;week&quot;: &quot;2022-01-17&quot;}, &quot;type&quot;: &quot;Feature&quot;}, {&quot;bbox&quot;: [14.9203383333, 36.0069133333, 14.9203383333, 36.0069133333], &quot;geometry&quot;: {&quot;coordinates&quot;: [14.9203383333, 36.0069133333], &quot;type&quot;: &quot;Point&quot;}, &quot;id&quot;: &quot;69&quot;, &quot;properties&quot;: {&quot;__folium_color&quot;: &quot;#aec7e8&quot;, &quot;index&quot;: 697, &quot;week&quot;: &quot;2022-01-17&quot;}, &quot;type&quot;: &quot;Feature&quot;}, {&quot;bbox&quot;: [14.930908333333331, 36.00398166666667, 14.930908333333331, 36.00398166666667], &quot;geometry&quot;: {&quot;coordinates&quot;: [14.930908333333331, 36.00398166666667], &quot;type&quot;: &quot;Point&quot;}, &quot;id&quot;: &quot;70&quot;, &quot;properties&quot;: {&quot;__folium_color&quot;: &quot;#aec7e8&quot;, &quot;index&quot;: 698, &quot;week&quot;: &quot;2022-01-17&quot;}, &quot;type&quot;: &quot;Feature&quot;}, {&quot;bbox&quot;: [14.94096, 35.99992833333334, 14.94096, 35.99992833333334], &quot;geometry&quot;: {&quot;coordinates&quot;: [14.94096, 35.99992833333334], &quot;type&quot;: &quot;Point&quot;}, &quot;id&quot;: &quot;71&quot;, &quot;properties&quot;: {&quot;__folium_color&quot;: &quot;#aec7e8&quot;, &quot;index&quot;: 699, &quot;week&quot;: &quot;2022-01-17&quot;}, &quot;type&quot;: &quot;Feature&quot;}, {&quot;bbox&quot;: [14.953581666666668, 35.99733, 14.953581666666668, 35.99733], &quot;geometry&quot;: {&quot;coordinates&quot;: [14.953581666666668, 35.99733], &quot;type&quot;: &quot;Point&quot;}, &quot;id&quot;: &quot;72&quot;, &quot;properties&quot;: {&quot;__folium_color&quot;: &quot;#aec7e8&quot;, &quot;index&quot;: 700, &quot;week&quot;: &quot;2022-01-17&quot;}, &quot;type&quot;: &quot;Feature&quot;}, {&quot;bbox&quot;: [14.949698333333334, 35.98655333333333, 14.949698333333334, 35.98655333333333], &quot;geometry&quot;: {&quot;coordinates&quot;: [14.949698333333334, 35.98655333333333], &quot;type&quot;: &quot;Point&quot;}, &quot;id&quot;: &quot;73&quot;, &quot;properties&quot;: {&quot;__folium_color&quot;: &quot;#aec7e8&quot;, &quot;index&quot;: 701, &quot;week&quot;: &quot;2022-01-17&quot;}, &quot;type&quot;: &quot;Feature&quot;}, {&quot;bbox&quot;: [14.955588333333331, 35.978233333333336, 14.955588333333331, 35.978233333333336], &quot;geometry&quot;: {&quot;coordinates&quot;: [14.955588333333331, 35.978233333333336], &quot;type&quot;: &quot;Point&quot;}, &quot;id&quot;: &quot;74&quot;, &quot;properties&quot;: {&quot;__folium_color&quot;: &quot;#aec7e8&quot;, &quot;index&quot;: 702, &quot;week&quot;: &quot;2022-01-17&quot;}, &quot;type&quot;: &quot;Feature&quot;}, {&quot;bbox&quot;: [14.96162, 35.97743333333333, 14.96162, 35.97743333333333], &quot;geometry&quot;: {&quot;coordinates&quot;: [14.96162, 35.97743333333333], &quot;type&quot;: &quot;Point&quot;}, &quot;id&quot;: &quot;75&quot;, &quot;properties&quot;: {&quot;__folium_color&quot;: &quot;#aec7e8&quot;, &quot;index&quot;: 703, &quot;week&quot;: &quot;2022-01-17&quot;}, &quot;type&quot;: &quot;Feature&quot;}, {&quot;bbox&quot;: [14.971211666666669, 35.97466, 14.971211666666669, 35.97466], &quot;geometry&quot;: {&quot;coordinates&quot;: [14.971211666666669, 35.97466], &quot;type&quot;: &quot;Point&quot;}, &quot;id&quot;: &quot;76&quot;, &quot;properties&quot;: {&quot;__folium_color&quot;: &quot;#aec7e8&quot;, &quot;index&quot;: 704, &quot;week&quot;: &quot;2022-01-17&quot;}, &quot;type&quot;: &quot;Feature&quot;}, {&quot;bbox&quot;: [14.982501666666666, 35.972343333333335, 14.982501666666666, 35.972343333333335], &quot;geometry&quot;: {&quot;coordinates&quot;: [14.982501666666666, 35.972343333333335], &quot;type&quot;: &quot;Point&quot;}, &quot;id&quot;: &quot;77&quot;, &quot;properties&quot;: {&quot;__folium_color&quot;: &quot;#aec7e8&quot;, &quot;index&quot;: 705, &quot;week&quot;: &quot;2022-01-17&quot;}, &quot;type&quot;: &quot;Feature&quot;}, {&quot;bbox&quot;: [15.030165, 35.968516666666666, 15.030165, 35.968516666666666], &quot;geometry&quot;: {&quot;coordinates&quot;: [15.030165, 35.968516666666666], &quot;type&quot;: &quot;Point&quot;}, &quot;id&quot;: &quot;78&quot;, &quot;properties&quot;: {&quot;__folium_color&quot;: &quot;#aec7e8&quot;, &quot;index&quot;: 706, &quot;week&quot;: &quot;2022-01-17&quot;}, &quot;type&quot;: &quot;Feature&quot;}, {&quot;bbox&quot;: [1.125005, 4.99315, 1.125005, 4.99315], &quot;geometry&quot;: {&quot;coordinates&quot;: [1.125005, 4.99315], &quot;type&quot;: &quot;Point&quot;}, &quot;id&quot;: &quot;79&quot;, &quot;properties&quot;: {&quot;__folium_color&quot;: &quot;#ffbb78&quot;, &quot;index&quot;: 2252, &quot;week&quot;: &quot;2022-04-04&quot;}, &quot;type&quot;: &quot;Feature&quot;}, {&quot;bbox&quot;: [1.1496466666666667, 5.03866, 1.1496466666666667, 5.03866], &quot;geometry&quot;: {&quot;coordinates&quot;: [1.1496466666666667, 5.03866], &quot;type&quot;: &quot;Point&quot;}, &quot;id&quot;: &quot;80&quot;, &quot;properties&quot;: {&quot;__folium_color&quot;: &quot;#ffbb78&quot;, &quot;index&quot;: 2253, &quot;week&quot;: &quot;2022-04-04&quot;}, &quot;type&quot;: &quot;Feature&quot;}, {&quot;bbox&quot;: [1.2048116666666666, 5.165496666666667, 1.2048116666666666, 5.165496666666667], &quot;geometry&quot;: {&quot;coordinates&quot;: [1.2048116666666666, 5.165496666666667], &quot;type&quot;: &quot;Point&quot;}, &quot;id&quot;: &quot;81&quot;, &quot;properties&quot;: {&quot;__folium_color&quot;: &quot;#ffbb78&quot;, &quot;index&quot;: 2254, &quot;week&quot;: &quot;2022-04-04&quot;}, &quot;type&quot;: &quot;Feature&quot;}, {&quot;bbox&quot;: [1.2849483333333334, 5.392903333333333, 1.2849483333333334, 5.392903333333333], &quot;geometry&quot;: {&quot;coordinates&quot;: [1.2849483333333334, 5.392903333333333], &quot;type&quot;: &quot;Point&quot;}, &quot;id&quot;: &quot;82&quot;, &quot;properties&quot;: {&quot;__folium_color&quot;: &quot;#ffbb78&quot;, &quot;index&quot;: 2255, &quot;week&quot;: &quot;2022-04-04&quot;}, &quot;type&quot;: &quot;Feature&quot;}, {&quot;bbox&quot;: [1.3723066666666666, 5.646123333333334, 1.3723066666666666, 5.646123333333334], &quot;geometry&quot;: {&quot;coordinates&quot;: [1.3723066666666666, 5.646123333333334], &quot;type&quot;: &quot;Point&quot;}, &quot;id&quot;: &quot;83&quot;, &quot;properties&quot;: {&quot;__folium_color&quot;: &quot;#ffbb78&quot;, &quot;index&quot;: 2256, &quot;week&quot;: &quot;2022-04-04&quot;}, &quot;type&quot;: &quot;Feature&quot;}, {&quot;bbox&quot;: [1.3965716666666668, 5.707856666666666, 1.3965716666666668, 5.707856666666666], &quot;geometry&quot;: {&quot;coordinates&quot;: [1.3965716666666668, 5.707856666666666], &quot;type&quot;: &quot;Point&quot;}, &quot;id&quot;: &quot;84&quot;, &quot;properties&quot;: {&quot;__folium_color&quot;: &quot;#ffbb78&quot;, &quot;index&quot;: 2257, &quot;week&quot;: &quot;2022-04-04&quot;}, &quot;type&quot;: &quot;Feature&quot;}, {&quot;bbox&quot;: [1.414046666666667, 5.763798333333333, 1.414046666666667, 5.763798333333333], &quot;geometry&quot;: {&quot;coordinates&quot;: [1.414046666666667, 5.763798333333333], &quot;type&quot;: &quot;Point&quot;}, &quot;id&quot;: &quot;85&quot;, &quot;properties&quot;: {&quot;__folium_color&quot;: &quot;#ffbb78&quot;, &quot;index&quot;: 2258, &quot;week&quot;: &quot;2022-04-04&quot;}, &quot;type&quot;: &quot;Feature&quot;}, {&quot;bbox&quot;: [1.4100033333333333, 5.93192, 1.4100033333333333, 5.93192], &quot;geometry&quot;: {&quot;coordinates&quot;: [1.4100033333333333, 5.93192], &quot;type&quot;: &quot;Point&quot;}, &quot;id&quot;: &quot;86&quot;, &quot;properties&quot;: {&quot;__folium_color&quot;: &quot;#ffbb78&quot;, &quot;index&quot;: 2259, &quot;week&quot;: &quot;2022-04-04&quot;}, &quot;type&quot;: &quot;Feature&quot;}, {&quot;bbox&quot;: [1.40653, 5.94346, 1.40653, 5.94346], &quot;geometry&quot;: {&quot;coordinates&quot;: [1.40653, 5.94346], &quot;type&quot;: &quot;Point&quot;}, &quot;id&quot;: &quot;87&quot;, &quot;properties&quot;: {&quot;__folium_color&quot;: &quot;#ffbb78&quot;, &quot;index&quot;: 2260, &quot;week&quot;: &quot;2022-04-04&quot;}, &quot;type&quot;: &quot;Feature&quot;}, {&quot;bbox&quot;: [1.4015933333333332, 5.954733333333333, 1.4015933333333332, 5.954733333333333], &quot;geometry&quot;: {&quot;coordinates&quot;: [1.4015933333333332, 5.954733333333333], &quot;type&quot;: &quot;Point&quot;}, &quot;id&quot;: &quot;88&quot;, &quot;properties&quot;: {&quot;__folium_color&quot;: &quot;#ffbb78&quot;, &quot;index&quot;: 2261, &quot;week&quot;: &quot;2022-04-04&quot;}, &quot;type&quot;: &quot;Feature&quot;}, {&quot;bbox&quot;: [1.3912416666666667, 5.975241666666666, 1.3912416666666667, 5.975241666666666], &quot;geometry&quot;: {&quot;coordinates&quot;: [1.3912416666666667, 5.975241666666666], &quot;type&quot;: &quot;Point&quot;}, &quot;id&quot;: &quot;89&quot;, &quot;properties&quot;: {&quot;__folium_color&quot;: &quot;#ffbb78&quot;, &quot;index&quot;: 2262, &quot;week&quot;: &quot;2022-04-04&quot;}, &quot;type&quot;: &quot;Feature&quot;}, {&quot;bbox&quot;: [1.3810866666666666, 6.001483333333334, 1.3810866666666666, 6.001483333333334], &quot;geometry&quot;: {&quot;coordinates&quot;: [1.3810866666666666, 6.001483333333334], &quot;type&quot;: &quot;Point&quot;}, &quot;id&quot;: &quot;90&quot;, &quot;properties&quot;: {&quot;__folium_color&quot;: &quot;#ffbb78&quot;, &quot;index&quot;: 2263, &quot;week&quot;: &quot;2022-04-04&quot;}, &quot;type&quot;: &quot;Feature&quot;}, {&quot;bbox&quot;: [1.347245, 6.070358333333333, 1.347245, 6.070358333333333], &quot;geometry&quot;: {&quot;coordinates&quot;: [1.347245, 6.070358333333333], &quot;type&quot;: &quot;Point&quot;}, &quot;id&quot;: &quot;91&quot;, &quot;properties&quot;: {&quot;__folium_color&quot;: &quot;#ffbb78&quot;, &quot;index&quot;: 2264, &quot;week&quot;: &quot;2022-04-04&quot;}, &quot;type&quot;: &quot;Feature&quot;}, {&quot;bbox&quot;: [1.345045, 6.081288333333333, 1.345045, 6.081288333333333], &quot;geometry&quot;: {&quot;coordinates&quot;: [1.345045, 6.081288333333333], &quot;type&quot;: &quot;Point&quot;}, &quot;id&quot;: &quot;92&quot;, &quot;properties&quot;: {&quot;__folium_color&quot;: &quot;#ffbb78&quot;, &quot;index&quot;: 2265, &quot;week&quot;: &quot;2022-04-04&quot;}, &quot;type&quot;: &quot;Feature&quot;}, {&quot;bbox&quot;: [1.341065, 6.090413333333333, 1.341065, 6.090413333333333], &quot;geometry&quot;: {&quot;coordinates&quot;: [1.341065, 6.090413333333333], &quot;type&quot;: &quot;Point&quot;}, &quot;id&quot;: &quot;93&quot;, &quot;properties&quot;: {&quot;__folium_color&quot;: &quot;#ffbb78&quot;, &quot;index&quot;: 2266, &quot;week&quot;: &quot;2022-04-04&quot;}, &quot;type&quot;: &quot;Feature&quot;}, {&quot;bbox&quot;: [1.3385533333333333, 6.10193, 1.3385533333333333, 6.10193], &quot;geometry&quot;: {&quot;coordinates&quot;: [1.3385533333333333, 6.10193], &quot;type&quot;: &quot;Point&quot;}, &quot;id&quot;: &quot;94&quot;, &quot;properties&quot;: {&quot;__folium_color&quot;: &quot;#ffbb78&quot;, &quot;index&quot;: 2267, &quot;week&quot;: &quot;2022-04-04&quot;}, &quot;type&quot;: &quot;Feature&quot;}, {&quot;bbox&quot;: [1.3358066666666666, 6.092891666666667, 1.3358066666666666, 6.092891666666667], &quot;geometry&quot;: {&quot;coordinates&quot;: [1.3358066666666666, 6.092891666666667], &quot;type&quot;: &quot;Point&quot;}, &quot;id&quot;: &quot;95&quot;, &quot;properties&quot;: {&quot;__folium_color&quot;: &quot;#ffbb78&quot;, &quot;index&quot;: 2268, &quot;week&quot;: &quot;2022-04-04&quot;}, &quot;type&quot;: &quot;Feature&quot;}, {&quot;bbox&quot;: [1.3436016666666666, 6.084121666666666, 1.3436016666666666, 6.084121666666666], &quot;geometry&quot;: {&quot;coordinates&quot;: [1.3436016666666666, 6.084121666666666], &quot;type&quot;: &quot;Point&quot;}, &quot;id&quot;: &quot;96&quot;, &quot;properties&quot;: {&quot;__folium_color&quot;: &quot;#ffbb78&quot;, &quot;index&quot;: 2269, &quot;week&quot;: &quot;2022-04-04&quot;}, &quot;type&quot;: &quot;Feature&quot;}, {&quot;bbox&quot;: [1.333585, 6.075965, 1.333585, 6.075965], &quot;geometry&quot;: {&quot;coordinates&quot;: [1.333585, 6.075965], &quot;type&quot;: &quot;Point&quot;}, &quot;id&quot;: &quot;97&quot;, &quot;properties&quot;: {&quot;__folium_color&quot;: &quot;#ffbb78&quot;, &quot;index&quot;: 2270, &quot;week&quot;: &quot;2022-04-04&quot;}, &quot;type&quot;: &quot;Feature&quot;}, {&quot;bbox&quot;: [1.3341166666666666, 6.066168333333334, 1.3341166666666666, 6.066168333333334], &quot;geometry&quot;: {&quot;coordinates&quot;: [1.3341166666666666, 6.066168333333334], &quot;type&quot;: &quot;Point&quot;}, &quot;id&quot;: &quot;98&quot;, &quot;properties&quot;: {&quot;__folium_color&quot;: &quot;#ffbb78&quot;, &quot;index&quot;: 2271, &quot;week&quot;: &quot;2022-04-04&quot;}, &quot;type&quot;: &quot;Feature&quot;}, {&quot;bbox&quot;: [1.3566166666666666, 6.046778333333333, 1.3566166666666666, 6.046778333333333], &quot;geometry&quot;: {&quot;coordinates&quot;: [1.3566166666666666, 6.046778333333333], &quot;type&quot;: &quot;Point&quot;}, &quot;id&quot;: &quot;99&quot;, &quot;properties&quot;: {&quot;__folium_color&quot;: &quot;#ffbb78&quot;, &quot;index&quot;: 2272, &quot;week&quot;: &quot;2022-04-04&quot;}, &quot;type&quot;: &quot;Feature&quot;}, {&quot;bbox&quot;: [1.3618, 6.037908333333333, 1.3618, 6.037908333333333], &quot;geometry&quot;: {&quot;coordinates&quot;: [1.3618, 6.037908333333333], &quot;type&quot;: &quot;Point&quot;}, &quot;id&quot;: &quot;100&quot;, &quot;properties&quot;: {&quot;__folium_color&quot;: &quot;#ffbb78&quot;, &quot;index&quot;: 2273, &quot;week&quot;: &quot;2022-04-04&quot;}, &quot;type&quot;: &quot;Feature&quot;}, {&quot;bbox&quot;: [1.3650583333333333, 6.019088333333333, 1.3650583333333333, 6.019088333333333], &quot;geometry&quot;: {&quot;coordinates&quot;: [1.3650583333333333, 6.019088333333333], &quot;type&quot;: &quot;Point&quot;}, &quot;id&quot;: &quot;101&quot;, &quot;properties&quot;: {&quot;__folium_color&quot;: &quot;#ffbb78&quot;, &quot;index&quot;: 2274, &quot;week&quot;: &quot;2022-04-04&quot;}, &quot;type&quot;: &quot;Feature&quot;}, {&quot;bbox&quot;: [1.36443, 6.00998, 1.36443, 6.00998], &quot;geometry&quot;: {&quot;coordinates&quot;: [1.36443, 6.00998], &quot;type&quot;: &quot;Point&quot;}, &quot;id&quot;: &quot;102&quot;, &quot;properties&quot;: {&quot;__folium_color&quot;: &quot;#ffbb78&quot;, &quot;index&quot;: 2275, &quot;week&quot;: &quot;2022-04-04&quot;}, &quot;type&quot;: &quot;Feature&quot;}, {&quot;bbox&quot;: [1.36319, 5.987988333333333, 1.36319, 5.987988333333333], &quot;geometry&quot;: {&quot;coordinates&quot;: [1.36319, 5.987988333333333], &quot;type&quot;: &quot;Point&quot;}, &quot;id&quot;: &quot;103&quot;, &quot;properties&quot;: {&quot;__folium_color&quot;: &quot;#ffbb78&quot;, &quot;index&quot;: 2276, &quot;week&quot;: &quot;2022-04-04&quot;}, &quot;type&quot;: &quot;Feature&quot;}, {&quot;bbox&quot;: [1.360715, 5.977206666666667, 1.360715, 5.977206666666667], &quot;geometry&quot;: {&quot;coordinates&quot;: [1.360715, 5.977206666666667], &quot;type&quot;: &quot;Point&quot;}, &quot;id&quot;: &quot;104&quot;, &quot;properties&quot;: {&quot;__folium_color&quot;: &quot;#ffbb78&quot;, &quot;index&quot;: 2277, &quot;week&quot;: &quot;2022-04-04&quot;}, &quot;type&quot;: &quot;Feature&quot;}, {&quot;bbox&quot;: [1.3544516666666666, 5.970228333333333, 1.3544516666666666, 5.970228333333333], &quot;geometry&quot;: {&quot;coordinates&quot;: [1.3544516666666666, 5.970228333333333], &quot;type&quot;: &quot;Point&quot;}, &quot;id&quot;: &quot;105&quot;, &quot;properties&quot;: {&quot;__folium_color&quot;: &quot;#ffbb78&quot;, &quot;index&quot;: 2278, &quot;week&quot;: &quot;2022-04-04&quot;}, &quot;type&quot;: &quot;Feature&quot;}, {&quot;bbox&quot;: [1.3354233333333334, 5.955701666666666, 1.3354233333333334, 5.955701666666666], &quot;geometry&quot;: {&quot;coordinates&quot;: [1.3354233333333334, 5.955701666666666], &quot;type&quot;: &quot;Point&quot;}, &quot;id&quot;: &quot;106&quot;, &quot;properties&quot;: {&quot;__folium_color&quot;: &quot;#ffbb78&quot;, &quot;index&quot;: 2279, &quot;week&quot;: &quot;2022-04-04&quot;}, &quot;type&quot;: &quot;Feature&quot;}, {&quot;bbox&quot;: [1.30397, 5.938526666666666, 1.30397, 5.938526666666666], &quot;geometry&quot;: {&quot;coordinates&quot;: [1.30397, 5.938526666666666], &quot;type&quot;: &quot;Point&quot;}, &quot;id&quot;: &quot;107&quot;, &quot;properties&quot;: {&quot;__folium_color&quot;: &quot;#ffbb78&quot;, &quot;index&quot;: 2280, &quot;week&quot;: &quot;2022-04-04&quot;}, &quot;type&quot;: &quot;Feature&quot;}, {&quot;bbox&quot;: [1.2690183333333334, 5.926236666666667, 1.2690183333333334, 5.926236666666667], &quot;geometry&quot;: {&quot;coordinates&quot;: [1.2690183333333334, 5.926236666666667], &quot;type&quot;: &quot;Point&quot;}, &quot;id&quot;: &quot;108&quot;, &quot;properties&quot;: {&quot;__folium_color&quot;: &quot;#ffbb78&quot;, &quot;index&quot;: 2281, &quot;week&quot;: &quot;2022-04-04&quot;}, &quot;type&quot;: &quot;Feature&quot;}, {&quot;bbox&quot;: [1.2584166666666667, 5.9251016666666665, 1.2584166666666667, 5.9251016666666665], &quot;geometry&quot;: {&quot;coordinates&quot;: [1.2584166666666667, 5.9251016666666665], &quot;type&quot;: &quot;Point&quot;}, &quot;id&quot;: &quot;109&quot;, &quot;properties&quot;: {&quot;__folium_color&quot;: &quot;#ffbb78&quot;, &quot;index&quot;: 2282, &quot;week&quot;: &quot;2022-04-04&quot;}, &quot;type&quot;: &quot;Feature&quot;}, {&quot;bbox&quot;: [1.22723, 5.924721666666667, 1.22723, 5.924721666666667], &quot;geometry&quot;: {&quot;coordinates&quot;: [1.22723, 5.924721666666667], &quot;type&quot;: &quot;Point&quot;}, &quot;id&quot;: &quot;110&quot;, &quot;properties&quot;: {&quot;__folium_color&quot;: &quot;#ffbb78&quot;, &quot;index&quot;: 2283, &quot;week&quot;: &quot;2022-04-04&quot;}, &quot;type&quot;: &quot;Feature&quot;}, {&quot;bbox&quot;: [1.21834, 5.927185, 1.21834, 5.927185], &quot;geometry&quot;: {&quot;coordinates&quot;: [1.21834, 5.927185], &quot;type&quot;: &quot;Point&quot;}, &quot;id&quot;: &quot;111&quot;, &quot;properties&quot;: {&quot;__folium_color&quot;: &quot;#ffbb78&quot;, &quot;index&quot;: 2284, &quot;week&quot;: &quot;2022-04-04&quot;}, &quot;type&quot;: &quot;Feature&quot;}, {&quot;bbox&quot;: [1.2046583333333334, 5.945345, 1.2046583333333334, 5.945345], &quot;geometry&quot;: {&quot;coordinates&quot;: [1.2046583333333334, 5.945345], &quot;type&quot;: &quot;Point&quot;}, &quot;id&quot;: &quot;112&quot;, &quot;properties&quot;: {&quot;__folium_color&quot;: &quot;#ffbb78&quot;, &quot;index&quot;: 2285, &quot;week&quot;: &quot;2022-04-04&quot;}, &quot;type&quot;: &quot;Feature&quot;}, {&quot;bbox&quot;: [1.202695, 5.958465, 1.202695, 5.958465], &quot;geometry&quot;: {&quot;coordinates&quot;: [1.202695, 5.958465], &quot;type&quot;: &quot;Point&quot;}, &quot;id&quot;: &quot;113&quot;, &quot;properties&quot;: {&quot;__folium_color&quot;: &quot;#ffbb78&quot;, &quot;index&quot;: 2286, &quot;week&quot;: &quot;2022-04-04&quot;}, &quot;type&quot;: &quot;Feature&quot;}, {&quot;bbox&quot;: [1.203135, 5.974668333333334, 1.203135, 5.974668333333334], &quot;geometry&quot;: {&quot;coordinates&quot;: [1.203135, 5.974668333333334], &quot;type&quot;: &quot;Point&quot;}, &quot;id&quot;: &quot;114&quot;, &quot;properties&quot;: {&quot;__folium_color&quot;: &quot;#ffbb78&quot;, &quot;index&quot;: 2287, &quot;week&quot;: &quot;2022-04-04&quot;}, &quot;type&quot;: &quot;Feature&quot;}, {&quot;bbox&quot;: [1.2087266666666667, 5.983238333333333, 1.2087266666666667, 5.983238333333333], &quot;geometry&quot;: {&quot;coordinates&quot;: [1.2087266666666667, 5.983238333333333], &quot;type&quot;: &quot;Point&quot;}, &quot;id&quot;: &quot;115&quot;, &quot;properties&quot;: {&quot;__folium_color&quot;: &quot;#ffbb78&quot;, &quot;index&quot;: 2288, &quot;week&quot;: &quot;2022-04-04&quot;}, &quot;type&quot;: &quot;Feature&quot;}, {&quot;bbox&quot;: [1.2196383333333334, 5.98968, 1.2196383333333334, 5.98968], &quot;geometry&quot;: {&quot;coordinates&quot;: [1.2196383333333334, 5.98968], &quot;type&quot;: &quot;Point&quot;}, &quot;id&quot;: &quot;116&quot;, &quot;properties&quot;: {&quot;__folium_color&quot;: &quot;#ffbb78&quot;, &quot;index&quot;: 2289, &quot;week&quot;: &quot;2022-04-04&quot;}, &quot;type&quot;: &quot;Feature&quot;}, {&quot;bbox&quot;: [1.235405, 5.998913333333333, 1.235405, 5.998913333333333], &quot;geometry&quot;: {&quot;coordinates&quot;: [1.235405, 5.998913333333333], &quot;type&quot;: &quot;Point&quot;}, &quot;id&quot;: &quot;117&quot;, &quot;properties&quot;: {&quot;__folium_color&quot;: &quot;#ffbb78&quot;, &quot;index&quot;: 2290, &quot;week&quot;: &quot;2022-04-04&quot;}, &quot;type&quot;: &quot;Feature&quot;}, {&quot;bbox&quot;: [1.2358866666666666, 6.001751666666666, 1.2358866666666666, 6.001751666666666], &quot;geometry&quot;: {&quot;coordinates&quot;: [1.2358866666666666, 6.001751666666666], &quot;type&quot;: &quot;Point&quot;}, &quot;id&quot;: &quot;118&quot;, &quot;properties&quot;: {&quot;__folium_color&quot;: &quot;#ffbb78&quot;, &quot;index&quot;: 2291, &quot;week&quot;: &quot;2022-04-04&quot;}, &quot;type&quot;: &quot;Feature&quot;}, {&quot;bbox&quot;: [1.2356866666666666, 6.001406666666667, 1.2356866666666666, 6.001406666666667], &quot;geometry&quot;: {&quot;coordinates&quot;: [1.2356866666666666, 6.001406666666667], &quot;type&quot;: &quot;Point&quot;}, &quot;id&quot;: &quot;119&quot;, &quot;properties&quot;: {&quot;__folium_color&quot;: &quot;#ffbb78&quot;, &quot;index&quot;: 2292, &quot;week&quot;: &quot;2022-04-04&quot;}, &quot;type&quot;: &quot;Feature&quot;}, {&quot;bbox&quot;: [1.235635, 6.0015366666666665, 1.235635, 6.0015366666666665], &quot;geometry&quot;: {&quot;coordinates&quot;: [1.235635, 6.0015366666666665], &quot;type&quot;: &quot;Point&quot;}, &quot;id&quot;: &quot;120&quot;, &quot;properties&quot;: {&quot;__folium_color&quot;: &quot;#ffbb78&quot;, &quot;index&quot;: 2293, &quot;week&quot;: &quot;2022-04-04&quot;}, &quot;type&quot;: &quot;Feature&quot;}, {&quot;bbox&quot;: [1.2356183333333333, 6.001378333333333, 1.2356183333333333, 6.001378333333333], &quot;geometry&quot;: {&quot;coordinates&quot;: [1.2356183333333333, 6.001378333333333], &quot;type&quot;: &quot;Point&quot;}, &quot;id&quot;: &quot;121&quot;, &quot;properties&quot;: {&quot;__folium_color&quot;: &quot;#ffbb78&quot;, &quot;index&quot;: 2294, &quot;week&quot;: &quot;2022-04-04&quot;}, &quot;type&quot;: &quot;Feature&quot;}, {&quot;bbox&quot;: [1.235493333333333, 6.001156666666667, 1.235493333333333, 6.001156666666667], &quot;geometry&quot;: {&quot;coordinates&quot;: [1.235493333333333, 6.001156666666667], &quot;type&quot;: &quot;Point&quot;}, &quot;id&quot;: &quot;122&quot;, &quot;properties&quot;: {&quot;__folium_color&quot;: &quot;#ffbb78&quot;, &quot;index&quot;: 2295, &quot;week&quot;: &quot;2022-04-04&quot;}, &quot;type&quot;: &quot;Feature&quot;}, {&quot;bbox&quot;: [1.2355066666666668, 6.001131666666667, 1.2355066666666668, 6.001131666666667], &quot;geometry&quot;: {&quot;coordinates&quot;: [1.2355066666666668, 6.001131666666667], &quot;type&quot;: &quot;Point&quot;}, &quot;id&quot;: &quot;123&quot;, &quot;properties&quot;: {&quot;__folium_color&quot;: &quot;#ffbb78&quot;, &quot;index&quot;: 2296, &quot;week&quot;: &quot;2022-04-04&quot;}, &quot;type&quot;: &quot;Feature&quot;}, {&quot;bbox&quot;: [1.23541, 6.001128333333333, 1.23541, 6.001128333333333], &quot;geometry&quot;: {&quot;coordinates&quot;: [1.23541, 6.001128333333333], &quot;type&quot;: &quot;Point&quot;}, &quot;id&quot;: &quot;124&quot;, &quot;properties&quot;: {&quot;__folium_color&quot;: &quot;#ffbb78&quot;, &quot;index&quot;: 2297, &quot;week&quot;: &quot;2022-04-04&quot;}, &quot;type&quot;: &quot;Feature&quot;}, {&quot;bbox&quot;: [1.235425, 6.001155, 1.235425, 6.001155], &quot;geometry&quot;: {&quot;coordinates&quot;: [1.235425, 6.001155], &quot;type&quot;: &quot;Point&quot;}, &quot;id&quot;: &quot;125&quot;, &quot;properties&quot;: {&quot;__folium_color&quot;: &quot;#ffbb78&quot;, &quot;index&quot;: 2298, &quot;week&quot;: &quot;2022-04-04&quot;}, &quot;type&quot;: &quot;Feature&quot;}, {&quot;bbox&quot;: [1.2355466666666666, 6.001358333333333, 1.2355466666666666, 6.001358333333333], &quot;geometry&quot;: {&quot;coordinates&quot;: [1.2355466666666666, 6.001358333333333], &quot;type&quot;: &quot;Point&quot;}, &quot;id&quot;: &quot;126&quot;, &quot;properties&quot;: {&quot;__folium_color&quot;: &quot;#ffbb78&quot;, &quot;index&quot;: 2299, &quot;week&quot;: &quot;2022-04-04&quot;}, &quot;type&quot;: &quot;Feature&quot;}, {&quot;bbox&quot;: [1.2354466666666666, 6.001143333333333, 1.2354466666666666, 6.001143333333333], &quot;geometry&quot;: {&quot;coordinates&quot;: [1.2354466666666666, 6.001143333333333], &quot;type&quot;: &quot;Point&quot;}, &quot;id&quot;: &quot;127&quot;, &quot;properties&quot;: {&quot;__folium_color&quot;: &quot;#ffbb78&quot;, &quot;index&quot;: 2300, &quot;week&quot;: &quot;2022-04-04&quot;}, &quot;type&quot;: &quot;Feature&quot;}, {&quot;bbox&quot;: [1.235461666666667, 6.001106666666667, 1.235461666666667, 6.001106666666667], &quot;geometry&quot;: {&quot;coordinates&quot;: [1.235461666666667, 6.001106666666667], &quot;type&quot;: &quot;Point&quot;}, &quot;id&quot;: &quot;128&quot;, &quot;properties&quot;: {&quot;__folium_color&quot;: &quot;#ffbb78&quot;, &quot;index&quot;: 2301, &quot;week&quot;: &quot;2022-04-04&quot;}, &quot;type&quot;: &quot;Feature&quot;}, {&quot;bbox&quot;: [1.2355716666666667, 6.000775, 1.2355716666666667, 6.000775], &quot;geometry&quot;: {&quot;coordinates&quot;: [1.2355716666666667, 6.000775], &quot;type&quot;: &quot;Point&quot;}, &quot;id&quot;: &quot;129&quot;, &quot;properties&quot;: {&quot;__folium_color&quot;: &quot;#ffbb78&quot;, &quot;index&quot;: 2302, &quot;week&quot;: &quot;2022-04-04&quot;}, &quot;type&quot;: &quot;Feature&quot;}, {&quot;bbox&quot;: [1.2355033333333334, 6.00107, 1.2355033333333334, 6.00107], &quot;geometry&quot;: {&quot;coordinates&quot;: [1.2355033333333334, 6.00107], &quot;type&quot;: &quot;Point&quot;}, &quot;id&quot;: &quot;130&quot;, &quot;properties&quot;: {&quot;__folium_color&quot;: &quot;#ffbb78&quot;, &quot;index&quot;: 2303, &quot;week&quot;: &quot;2022-04-04&quot;}, &quot;type&quot;: &quot;Feature&quot;}, {&quot;bbox&quot;: [1.23552, 6.001225, 1.23552, 6.001225], &quot;geometry&quot;: {&quot;coordinates&quot;: [1.23552, 6.001225], &quot;type&quot;: &quot;Point&quot;}, &quot;id&quot;: &quot;131&quot;, &quot;properties&quot;: {&quot;__folium_color&quot;: &quot;#ffbb78&quot;, &quot;index&quot;: 2304, &quot;week&quot;: &quot;2022-04-04&quot;}, &quot;type&quot;: &quot;Feature&quot;}, {&quot;bbox&quot;: [1.235365, 6.0011833333333335, 1.235365, 6.0011833333333335], &quot;geometry&quot;: {&quot;coordinates&quot;: [1.235365, 6.0011833333333335], &quot;type&quot;: &quot;Point&quot;}, &quot;id&quot;: &quot;132&quot;, &quot;properties&quot;: {&quot;__folium_color&quot;: &quot;#ffbb78&quot;, &quot;index&quot;: 2305, &quot;week&quot;: &quot;2022-04-04&quot;}, &quot;type&quot;: &quot;Feature&quot;}, {&quot;bbox&quot;: [1.2353383333333334, 6.001116666666666, 1.2353383333333334, 6.001116666666666], &quot;geometry&quot;: {&quot;coordinates&quot;: [1.2353383333333334, 6.001116666666666], &quot;type&quot;: &quot;Point&quot;}, &quot;id&quot;: &quot;133&quot;, &quot;properties&quot;: {&quot;__folium_color&quot;: &quot;#ffbb78&quot;, &quot;index&quot;: 2306, &quot;week&quot;: &quot;2022-04-04&quot;}, &quot;type&quot;: &quot;Feature&quot;}, {&quot;bbox&quot;: [1.2352933333333334, 6.0006916666666665, 1.2352933333333334, 6.0006916666666665], &quot;geometry&quot;: {&quot;coordinates&quot;: [1.2352933333333334, 6.0006916666666665], &quot;type&quot;: &quot;Point&quot;}, &quot;id&quot;: &quot;134&quot;, &quot;properties&quot;: {&quot;__folium_color&quot;: &quot;#ffbb78&quot;, &quot;index&quot;: 2307, &quot;week&quot;: &quot;2022-04-04&quot;}, &quot;type&quot;: &quot;Feature&quot;}, {&quot;bbox&quot;: [1.235326666666667, 6.00079, 1.235326666666667, 6.00079], &quot;geometry&quot;: {&quot;coordinates&quot;: [1.235326666666667, 6.00079], &quot;type&quot;: &quot;Point&quot;}, &quot;id&quot;: &quot;135&quot;, &quot;properties&quot;: {&quot;__folium_color&quot;: &quot;#ffbb78&quot;, &quot;index&quot;: 2308, &quot;week&quot;: &quot;2022-04-04&quot;}, &quot;type&quot;: &quot;Feature&quot;}, {&quot;bbox&quot;: [1.2353433333333332, 6.000825, 1.2353433333333332, 6.000825], &quot;geometry&quot;: {&quot;coordinates&quot;: [1.2353433333333332, 6.000825], &quot;type&quot;: &quot;Point&quot;}, &quot;id&quot;: &quot;136&quot;, &quot;properties&quot;: {&quot;__folium_color&quot;: &quot;#ffbb78&quot;, &quot;index&quot;: 2309, &quot;week&quot;: &quot;2022-04-04&quot;}, &quot;type&quot;: &quot;Feature&quot;}, {&quot;bbox&quot;: [1.2353116666666666, 6.0008566666666665, 1.2353116666666666, 6.0008566666666665], &quot;geometry&quot;: {&quot;coordinates&quot;: [1.2353116666666666, 6.0008566666666665], &quot;type&quot;: &quot;Point&quot;}, &quot;id&quot;: &quot;137&quot;, &quot;properties&quot;: {&quot;__folium_color&quot;: &quot;#ffbb78&quot;, &quot;index&quot;: 2310, &quot;week&quot;: &quot;2022-04-04&quot;}, &quot;type&quot;: &quot;Feature&quot;}, {&quot;bbox&quot;: [1.2352733333333332, 6.00093, 1.2352733333333332, 6.00093], &quot;geometry&quot;: {&quot;coordinates&quot;: [1.2352733333333332, 6.00093], &quot;type&quot;: &quot;Point&quot;}, &quot;id&quot;: &quot;138&quot;, &quot;properties&quot;: {&quot;__folium_color&quot;: &quot;#ffbb78&quot;, &quot;index&quot;: 2311, &quot;week&quot;: &quot;2022-04-04&quot;}, &quot;type&quot;: &quot;Feature&quot;}, {&quot;bbox&quot;: [1.235291666666667, 6.000806666666667, 1.235291666666667, 6.000806666666667], &quot;geometry&quot;: {&quot;coordinates&quot;: [1.235291666666667, 6.000806666666667], &quot;type&quot;: &quot;Point&quot;}, &quot;id&quot;: &quot;139&quot;, &quot;properties&quot;: {&quot;__folium_color&quot;: &quot;#ffbb78&quot;, &quot;index&quot;: 2312, &quot;week&quot;: &quot;2022-04-04&quot;}, &quot;type&quot;: &quot;Feature&quot;}, {&quot;bbox&quot;: [1.2353883333333333, 6.0006, 1.2353883333333333, 6.0006], &quot;geometry&quot;: {&quot;coordinates&quot;: [1.2353883333333333, 6.0006], &quot;type&quot;: &quot;Point&quot;}, &quot;id&quot;: &quot;140&quot;, &quot;properties&quot;: {&quot;__folium_color&quot;: &quot;#ffbb78&quot;, &quot;index&quot;: 2313, &quot;week&quot;: &quot;2022-04-04&quot;}, &quot;type&quot;: &quot;Feature&quot;}, {&quot;bbox&quot;: [1.235425, 6.000571666666667, 1.235425, 6.000571666666667], &quot;geometry&quot;: {&quot;coordinates&quot;: [1.235425, 6.000571666666667], &quot;type&quot;: &quot;Point&quot;}, &quot;id&quot;: &quot;141&quot;, &quot;properties&quot;: {&quot;__folium_color&quot;: &quot;#ffbb78&quot;, &quot;index&quot;: 2314, &quot;week&quot;: &quot;2022-04-04&quot;}, &quot;type&quot;: &quot;Feature&quot;}, {&quot;bbox&quot;: [1.2354466666666666, 6.000558333333333, 1.2354466666666666, 6.000558333333333], &quot;geometry&quot;: {&quot;coordinates&quot;: [1.2354466666666666, 6.000558333333333], &quot;type&quot;: &quot;Point&quot;}, &quot;id&quot;: &quot;142&quot;, &quot;properties&quot;: {&quot;__folium_color&quot;: &quot;#ffbb78&quot;, &quot;index&quot;: 2315, &quot;week&quot;: &quot;2022-04-04&quot;}, &quot;type&quot;: &quot;Feature&quot;}, {&quot;bbox&quot;: [1.2353316666666667, 6.000806666666667, 1.2353316666666667, 6.000806666666667], &quot;geometry&quot;: {&quot;coordinates&quot;: [1.2353316666666667, 6.000806666666667], &quot;type&quot;: &quot;Point&quot;}, &quot;id&quot;: &quot;143&quot;, &quot;properties&quot;: {&quot;__folium_color&quot;: &quot;#ffbb78&quot;, &quot;index&quot;: 2316, &quot;week&quot;: &quot;2022-04-04&quot;}, &quot;type&quot;: &quot;Feature&quot;}, {&quot;bbox&quot;: [1.2353533333333333, 6.000943333333334, 1.2353533333333333, 6.000943333333334], &quot;geometry&quot;: {&quot;coordinates&quot;: [1.2353533333333333, 6.000943333333334], &quot;type&quot;: &quot;Point&quot;}, &quot;id&quot;: &quot;144&quot;, &quot;properties&quot;: {&quot;__folium_color&quot;: &quot;#ffbb78&quot;, &quot;index&quot;: 2317, &quot;week&quot;: &quot;2022-04-04&quot;}, &quot;type&quot;: &quot;Feature&quot;}, {&quot;bbox&quot;: [1.235558333333333, 6.00128, 1.235558333333333, 6.00128], &quot;geometry&quot;: {&quot;coordinates&quot;: [1.235558333333333, 6.00128], &quot;type&quot;: &quot;Point&quot;}, &quot;id&quot;: &quot;145&quot;, &quot;properties&quot;: {&quot;__folium_color&quot;: &quot;#ffbb78&quot;, &quot;index&quot;: 2318, &quot;week&quot;: &quot;2022-04-04&quot;}, &quot;type&quot;: &quot;Feature&quot;}, {&quot;bbox&quot;: [1.235665, 6.001325, 1.235665, 6.001325], &quot;geometry&quot;: {&quot;coordinates&quot;: [1.235665, 6.001325], &quot;type&quot;: &quot;Point&quot;}, &quot;id&quot;: &quot;146&quot;, &quot;properties&quot;: {&quot;__folium_color&quot;: &quot;#ffbb78&quot;, &quot;index&quot;: 2319, &quot;week&quot;: &quot;2022-04-04&quot;}, &quot;type&quot;: &quot;Feature&quot;}, {&quot;bbox&quot;: [1.235645, 6.001255, 1.235645, 6.001255], &quot;geometry&quot;: {&quot;coordinates&quot;: [1.235645, 6.001255], &quot;type&quot;: &quot;Point&quot;}, &quot;id&quot;: &quot;147&quot;, &quot;properties&quot;: {&quot;__folium_color&quot;: &quot;#ffbb78&quot;, &quot;index&quot;: 2320, &quot;week&quot;: &quot;2022-04-04&quot;}, &quot;type&quot;: &quot;Feature&quot;}, {&quot;bbox&quot;: [1.236033333333333, 6.0017, 1.236033333333333, 6.0017], &quot;geometry&quot;: {&quot;coordinates&quot;: [1.236033333333333, 6.0017], &quot;type&quot;: &quot;Point&quot;}, &quot;id&quot;: &quot;148&quot;, &quot;properties&quot;: {&quot;__folium_color&quot;: &quot;#ffbb78&quot;, &quot;index&quot;: 2321, &quot;week&quot;: &quot;2022-04-04&quot;}, &quot;type&quot;: &quot;Feature&quot;}, {&quot;bbox&quot;: [1.2360266666666666, 6.001721666666667, 1.2360266666666666, 6.001721666666667], &quot;geometry&quot;: {&quot;coordinates&quot;: [1.2360266666666666, 6.001721666666667], &quot;type&quot;: &quot;Point&quot;}, &quot;id&quot;: &quot;149&quot;, &quot;properties&quot;: {&quot;__folium_color&quot;: &quot;#ffbb78&quot;, &quot;index&quot;: 2322, &quot;week&quot;: &quot;2022-04-04&quot;}, &quot;type&quot;: &quot;Feature&quot;}, {&quot;bbox&quot;: [1.2360216666666666, 6.001661666666666, 1.2360216666666666, 6.001661666666666], &quot;geometry&quot;: {&quot;coordinates&quot;: [1.2360216666666666, 6.001661666666666], &quot;type&quot;: &quot;Point&quot;}, &quot;id&quot;: &quot;150&quot;, &quot;properties&quot;: {&quot;__folium_color&quot;: &quot;#ffbb78&quot;, &quot;index&quot;: 2323, &quot;week&quot;: &quot;2022-04-04&quot;}, &quot;type&quot;: &quot;Feature&quot;}, {&quot;bbox&quot;: [1.2360433333333334, 6.001705, 1.2360433333333334, 6.001705], &quot;geometry&quot;: {&quot;coordinates&quot;: [1.2360433333333334, 6.001705], &quot;type&quot;: &quot;Point&quot;}, &quot;id&quot;: &quot;151&quot;, &quot;properties&quot;: {&quot;__folium_color&quot;: &quot;#ffbb78&quot;, &quot;index&quot;: 2324, &quot;week&quot;: &quot;2022-04-04&quot;}, &quot;type&quot;: &quot;Feature&quot;}, {&quot;bbox&quot;: [1.2360083333333334, 6.001668333333333, 1.2360083333333334, 6.001668333333333], &quot;geometry&quot;: {&quot;coordinates&quot;: [1.2360083333333334, 6.001668333333333], &quot;type&quot;: &quot;Point&quot;}, &quot;id&quot;: &quot;152&quot;, &quot;properties&quot;: {&quot;__folium_color&quot;: &quot;#ffbb78&quot;, &quot;index&quot;: 2325, &quot;week&quot;: &quot;2022-04-04&quot;}, &quot;type&quot;: &quot;Feature&quot;}, {&quot;bbox&quot;: [1.2360783333333334, 6.001641666666667, 1.2360783333333334, 6.001641666666667], &quot;geometry&quot;: {&quot;coordinates&quot;: [1.2360783333333334, 6.001641666666667], &quot;type&quot;: &quot;Point&quot;}, &quot;id&quot;: &quot;153&quot;, &quot;properties&quot;: {&quot;__folium_color&quot;: &quot;#ffbb78&quot;, &quot;index&quot;: 2326, &quot;week&quot;: &quot;2022-04-04&quot;}, &quot;type&quot;: &quot;Feature&quot;}, {&quot;bbox&quot;: [1.2362733333333331, 6.001786666666667, 1.2362733333333331, 6.001786666666667], &quot;geometry&quot;: {&quot;coordinates&quot;: [1.2362733333333331, 6.001786666666667], &quot;type&quot;: &quot;Point&quot;}, &quot;id&quot;: &quot;154&quot;, &quot;properties&quot;: {&quot;__folium_color&quot;: &quot;#ffbb78&quot;, &quot;index&quot;: 2327, &quot;week&quot;: &quot;2022-04-04&quot;}, &quot;type&quot;: &quot;Feature&quot;}, {&quot;bbox&quot;: [1.2365966666666666, 6.00191, 1.2365966666666666, 6.00191], &quot;geometry&quot;: {&quot;coordinates&quot;: [1.2365966666666666, 6.00191], &quot;type&quot;: &quot;Point&quot;}, &quot;id&quot;: &quot;155&quot;, &quot;properties&quot;: {&quot;__folium_color&quot;: &quot;#ffbb78&quot;, &quot;index&quot;: 2328, &quot;week&quot;: &quot;2022-04-04&quot;}, &quot;type&quot;: &quot;Feature&quot;}, {&quot;bbox&quot;: [1.2367433333333333, 6.001921666666667, 1.2367433333333333, 6.001921666666667], &quot;geometry&quot;: {&quot;coordinates&quot;: [1.2367433333333333, 6.001921666666667], &quot;type&quot;: &quot;Point&quot;}, &quot;id&quot;: &quot;156&quot;, &quot;properties&quot;: {&quot;__folium_color&quot;: &quot;#ffbb78&quot;, &quot;index&quot;: 2329, &quot;week&quot;: &quot;2022-04-04&quot;}, &quot;type&quot;: &quot;Feature&quot;}, {&quot;bbox&quot;: [1.2368883333333334, 6.001865, 1.2368883333333334, 6.001865], &quot;geometry&quot;: {&quot;coordinates&quot;: [1.2368883333333334, 6.001865], &quot;type&quot;: &quot;Point&quot;}, &quot;id&quot;: &quot;157&quot;, &quot;properties&quot;: {&quot;__folium_color&quot;: &quot;#ffbb78&quot;, &quot;index&quot;: 2330, &quot;week&quot;: &quot;2022-04-04&quot;}, &quot;type&quot;: &quot;Feature&quot;}, {&quot;bbox&quot;: [1.2369433333333333, 6.001868333333333, 1.2369433333333333, 6.001868333333333], &quot;geometry&quot;: {&quot;coordinates&quot;: [1.2369433333333333, 6.001868333333333], &quot;type&quot;: &quot;Point&quot;}, &quot;id&quot;: &quot;158&quot;, &quot;properties&quot;: {&quot;__folium_color&quot;: &quot;#ffbb78&quot;, &quot;index&quot;: 2331, &quot;week&quot;: &quot;2022-04-04&quot;}, &quot;type&quot;: &quot;Feature&quot;}, {&quot;bbox&quot;: [1.236511666666667, 6.00192, 1.236511666666667, 6.00192], &quot;geometry&quot;: {&quot;coordinates&quot;: [1.236511666666667, 6.00192], &quot;type&quot;: &quot;Point&quot;}, &quot;id&quot;: &quot;159&quot;, &quot;properties&quot;: {&quot;__folium_color&quot;: &quot;#ffbb78&quot;, &quot;index&quot;: 2332, &quot;week&quot;: &quot;2022-04-04&quot;}, &quot;type&quot;: &quot;Feature&quot;}, {&quot;bbox&quot;: [1.23671, 6.001923333333333, 1.23671, 6.001923333333333], &quot;geometry&quot;: {&quot;coordinates&quot;: [1.23671, 6.001923333333333], &quot;type&quot;: &quot;Point&quot;}, &quot;id&quot;: &quot;160&quot;, &quot;properties&quot;: {&quot;__folium_color&quot;: &quot;#ffbb78&quot;, &quot;index&quot;: 2333, &quot;week&quot;: &quot;2022-04-04&quot;}, &quot;type&quot;: &quot;Feature&quot;}, {&quot;bbox&quot;: [1.236655, 6.002056666666666, 1.236655, 6.002056666666666], &quot;geometry&quot;: {&quot;coordinates&quot;: [1.236655, 6.002056666666666], &quot;type&quot;: &quot;Point&quot;}, &quot;id&quot;: &quot;161&quot;, &quot;properties&quot;: {&quot;__folium_color&quot;: &quot;#ffbb78&quot;, &quot;index&quot;: 2334, &quot;week&quot;: &quot;2022-04-04&quot;}, &quot;type&quot;: &quot;Feature&quot;}, {&quot;bbox&quot;: [1.2369066666666666, 6.002063333333333, 1.2369066666666666, 6.002063333333333], &quot;geometry&quot;: {&quot;coordinates&quot;: [1.2369066666666666, 6.002063333333333], &quot;type&quot;: &quot;Point&quot;}, &quot;id&quot;: &quot;162&quot;, &quot;properties&quot;: {&quot;__folium_color&quot;: &quot;#ffbb78&quot;, &quot;index&quot;: 2335, &quot;week&quot;: &quot;2022-04-04&quot;}, &quot;type&quot;: &quot;Feature&quot;}, {&quot;bbox&quot;: [1.23696, 6.002096666666667, 1.23696, 6.002096666666667], &quot;geometry&quot;: {&quot;coordinates&quot;: [1.23696, 6.002096666666667], &quot;type&quot;: &quot;Point&quot;}, &quot;id&quot;: &quot;163&quot;, &quot;properties&quot;: {&quot;__folium_color&quot;: &quot;#ffbb78&quot;, &quot;index&quot;: 2336, &quot;week&quot;: &quot;2022-04-04&quot;}, &quot;type&quot;: &quot;Feature&quot;}, {&quot;bbox&quot;: [1.23704, 6.002085, 1.23704, 6.002085], &quot;geometry&quot;: {&quot;coordinates&quot;: [1.23704, 6.002085], &quot;type&quot;: &quot;Point&quot;}, &quot;id&quot;: &quot;164&quot;, &quot;properties&quot;: {&quot;__folium_color&quot;: &quot;#ffbb78&quot;, &quot;index&quot;: 2337, &quot;week&quot;: &quot;2022-04-04&quot;}, &quot;type&quot;: &quot;Feature&quot;}, {&quot;bbox&quot;: [1.23726, 6.00205, 1.23726, 6.00205], &quot;geometry&quot;: {&quot;coordinates&quot;: [1.23726, 6.00205], &quot;type&quot;: &quot;Point&quot;}, &quot;id&quot;: &quot;165&quot;, &quot;properties&quot;: {&quot;__folium_color&quot;: &quot;#ffbb78&quot;, &quot;index&quot;: 2338, &quot;week&quot;: &quot;2022-04-04&quot;}, &quot;type&quot;: &quot;Feature&quot;}, {&quot;bbox&quot;: [1.2372716666666668, 6.002066666666667, 1.2372716666666668, 6.002066666666667], &quot;geometry&quot;: {&quot;coordinates&quot;: [1.2372716666666668, 6.002066666666667], &quot;type&quot;: &quot;Point&quot;}, &quot;id&quot;: &quot;166&quot;, &quot;properties&quot;: {&quot;__folium_color&quot;: &quot;#ffbb78&quot;, &quot;index&quot;: 2339, &quot;week&quot;: &quot;2022-04-04&quot;}, &quot;type&quot;: &quot;Feature&quot;}, {&quot;bbox&quot;: [1.237018333333333, 6.002071666666667, 1.237018333333333, 6.002071666666667], &quot;geometry&quot;: {&quot;coordinates&quot;: [1.237018333333333, 6.002071666666667], &quot;type&quot;: &quot;Point&quot;}, &quot;id&quot;: &quot;167&quot;, &quot;properties&quot;: {&quot;__folium_color&quot;: &quot;#ffbb78&quot;, &quot;index&quot;: 2340, &quot;week&quot;: &quot;2022-04-04&quot;}, &quot;type&quot;: &quot;Feature&quot;}, {&quot;bbox&quot;: [1.2370066666666666, 6.002035, 1.2370066666666666, 6.002035], &quot;geometry&quot;: {&quot;coordinates&quot;: [1.2370066666666666, 6.002035], &quot;type&quot;: &quot;Point&quot;}, &quot;id&quot;: &quot;168&quot;, &quot;properties&quot;: {&quot;__folium_color&quot;: &quot;#ffbb78&quot;, &quot;index&quot;: 2341, &quot;week&quot;: &quot;2022-04-04&quot;}, &quot;type&quot;: &quot;Feature&quot;}, {&quot;bbox&quot;: [1.2372033333333334, 6.002065, 1.2372033333333334, 6.002065], &quot;geometry&quot;: {&quot;coordinates&quot;: [1.2372033333333334, 6.002065], &quot;type&quot;: &quot;Point&quot;}, &quot;id&quot;: &quot;169&quot;, &quot;properties&quot;: {&quot;__folium_color&quot;: &quot;#ffbb78&quot;, &quot;index&quot;: 2342, &quot;week&quot;: &quot;2022-04-04&quot;}, &quot;type&quot;: &quot;Feature&quot;}, {&quot;bbox&quot;: [1.237255, 6.00207, 1.237255, 6.00207], &quot;geometry&quot;: {&quot;coordinates&quot;: [1.237255, 6.00207], &quot;type&quot;: &quot;Point&quot;}, &quot;id&quot;: &quot;170&quot;, &quot;properties&quot;: {&quot;__folium_color&quot;: &quot;#ffbb78&quot;, &quot;index&quot;: 2343, &quot;week&quot;: &quot;2022-04-04&quot;}, &quot;type&quot;: &quot;Feature&quot;}, {&quot;bbox&quot;: [1.23728, 6.0020533333333335, 1.23728, 6.0020533333333335], &quot;geometry&quot;: {&quot;coordinates&quot;: [1.23728, 6.0020533333333335], &quot;type&quot;: &quot;Point&quot;}, &quot;id&quot;: &quot;171&quot;, &quot;properties&quot;: {&quot;__folium_color&quot;: &quot;#ffbb78&quot;, &quot;index&quot;: 2344, &quot;week&quot;: &quot;2022-04-04&quot;}, &quot;type&quot;: &quot;Feature&quot;}, {&quot;bbox&quot;: [1.2374333333333334, 6.002045, 1.2374333333333334, 6.002045], &quot;geometry&quot;: {&quot;coordinates&quot;: [1.2374333333333334, 6.002045], &quot;type&quot;: &quot;Point&quot;}, &quot;id&quot;: &quot;172&quot;, &quot;properties&quot;: {&quot;__folium_color&quot;: &quot;#ffbb78&quot;, &quot;index&quot;: 2345, &quot;week&quot;: &quot;2022-04-04&quot;}, &quot;type&quot;: &quot;Feature&quot;}, {&quot;bbox&quot;: [1.2374766666666666, 6.002078333333333, 1.2374766666666666, 6.002078333333333], &quot;geometry&quot;: {&quot;coordinates&quot;: [1.2374766666666666, 6.002078333333333], &quot;type&quot;: &quot;Point&quot;}, &quot;id&quot;: &quot;173&quot;, &quot;properties&quot;: {&quot;__folium_color&quot;: &quot;#ffbb78&quot;, &quot;index&quot;: 2346, &quot;week&quot;: &quot;2022-04-04&quot;}, &quot;type&quot;: &quot;Feature&quot;}, {&quot;bbox&quot;: [1.2375116666666666, 6.0021, 1.2375116666666666, 6.0021], &quot;geometry&quot;: {&quot;coordinates&quot;: [1.2375116666666666, 6.0021], &quot;type&quot;: &quot;Point&quot;}, &quot;id&quot;: &quot;174&quot;, &quot;properties&quot;: {&quot;__folium_color&quot;: &quot;#ffbb78&quot;, &quot;index&quot;: 2347, &quot;week&quot;: &quot;2022-04-04&quot;}, &quot;type&quot;: &quot;Feature&quot;}, {&quot;bbox&quot;: [1.23748, 6.002105, 1.23748, 6.002105], &quot;geometry&quot;: {&quot;coordinates&quot;: [1.23748, 6.002105], &quot;type&quot;: &quot;Point&quot;}, &quot;id&quot;: &quot;175&quot;, &quot;properties&quot;: {&quot;__folium_color&quot;: &quot;#ffbb78&quot;, &quot;index&quot;: 2348, &quot;week&quot;: &quot;2022-04-04&quot;}, &quot;type&quot;: &quot;Feature&quot;}, {&quot;bbox&quot;: [1.237475, 6.00211, 1.237475, 6.00211], &quot;geometry&quot;: {&quot;coordinates&quot;: [1.237475, 6.00211], &quot;type&quot;: &quot;Point&quot;}, &quot;id&quot;: &quot;176&quot;, &quot;properties&quot;: {&quot;__folium_color&quot;: &quot;#ffbb78&quot;, &quot;index&quot;: 2349, &quot;week&quot;: &quot;2022-04-04&quot;}, &quot;type&quot;: &quot;Feature&quot;}, {&quot;bbox&quot;: [1.2374466666666666, 6.002108333333333, 1.2374466666666666, 6.002108333333333], &quot;geometry&quot;: {&quot;coordinates&quot;: [1.2374466666666666, 6.002108333333333], &quot;type&quot;: &quot;Point&quot;}, &quot;id&quot;: &quot;177&quot;, &quot;properties&quot;: {&quot;__folium_color&quot;: &quot;#ffbb78&quot;, &quot;index&quot;: 2350, &quot;week&quot;: &quot;2022-04-04&quot;}, &quot;type&quot;: &quot;Feature&quot;}, {&quot;bbox&quot;: [1.237495, 6.0020766666666665, 1.237495, 6.0020766666666665], &quot;geometry&quot;: {&quot;coordinates&quot;: [1.237495, 6.0020766666666665], &quot;type&quot;: &quot;Point&quot;}, &quot;id&quot;: &quot;178&quot;, &quot;properties&quot;: {&quot;__folium_color&quot;: &quot;#ffbb78&quot;, &quot;index&quot;: 2351, &quot;week&quot;: &quot;2022-04-04&quot;}, &quot;type&quot;: &quot;Feature&quot;}, {&quot;bbox&quot;: [1.2377716666666667, 6.001985, 1.2377716666666667, 6.001985], &quot;geometry&quot;: {&quot;coordinates&quot;: [1.2377716666666667, 6.001985], &quot;type&quot;: &quot;Point&quot;}, &quot;id&quot;: &quot;179&quot;, &quot;properties&quot;: {&quot;__folium_color&quot;: &quot;#ffbb78&quot;, &quot;index&quot;: 2352, &quot;week&quot;: &quot;2022-04-04&quot;}, &quot;type&quot;: &quot;Feature&quot;}, {&quot;bbox&quot;: [1.2378166666666666, 6.001946666666667, 1.2378166666666666, 6.001946666666667], &quot;geometry&quot;: {&quot;coordinates&quot;: [1.2378166666666666, 6.001946666666667], &quot;type&quot;: &quot;Point&quot;}, &quot;id&quot;: &quot;180&quot;, &quot;properties&quot;: {&quot;__folium_color&quot;: &quot;#ffbb78&quot;, &quot;index&quot;: 2353, &quot;week&quot;: &quot;2022-04-04&quot;}, &quot;type&quot;: &quot;Feature&quot;}, {&quot;bbox&quot;: [1.237815, 6.001965, 1.237815, 6.001965], &quot;geometry&quot;: {&quot;coordinates&quot;: [1.237815, 6.001965], &quot;type&quot;: &quot;Point&quot;}, &quot;id&quot;: &quot;181&quot;, &quot;properties&quot;: {&quot;__folium_color&quot;: &quot;#ffbb78&quot;, &quot;index&quot;: 2354, &quot;week&quot;: &quot;2022-04-04&quot;}, &quot;type&quot;: &quot;Feature&quot;}, {&quot;bbox&quot;: [1.23798, 6.001861666666667, 1.23798, 6.001861666666667], &quot;geometry&quot;: {&quot;coordinates&quot;: [1.23798, 6.001861666666667], &quot;type&quot;: &quot;Point&quot;}, &quot;id&quot;: &quot;182&quot;, &quot;properties&quot;: {&quot;__folium_color&quot;: &quot;#ffbb78&quot;, &quot;index&quot;: 2355, &quot;week&quot;: &quot;2022-04-04&quot;}, &quot;type&quot;: &quot;Feature&quot;}, {&quot;bbox&quot;: [1.238095, 6.00184, 1.238095, 6.00184], &quot;geometry&quot;: {&quot;coordinates&quot;: [1.238095, 6.00184], &quot;type&quot;: &quot;Point&quot;}, &quot;id&quot;: &quot;183&quot;, &quot;properties&quot;: {&quot;__folium_color&quot;: &quot;#ffbb78&quot;, &quot;index&quot;: 2356, &quot;week&quot;: &quot;2022-04-04&quot;}, &quot;type&quot;: &quot;Feature&quot;}, {&quot;bbox&quot;: [1.238175, 6.001733333333333, 1.238175, 6.001733333333333], &quot;geometry&quot;: {&quot;coordinates&quot;: [1.238175, 6.001733333333333], &quot;type&quot;: &quot;Point&quot;}, &quot;id&quot;: &quot;184&quot;, &quot;properties&quot;: {&quot;__folium_color&quot;: &quot;#ffbb78&quot;, &quot;index&quot;: 2357, &quot;week&quot;: &quot;2022-04-04&quot;}, &quot;type&quot;: &quot;Feature&quot;}, {&quot;bbox&quot;: [1.238303333333333, 6.001691666666667, 1.238303333333333, 6.001691666666667], &quot;geometry&quot;: {&quot;coordinates&quot;: [1.238303333333333, 6.001691666666667], &quot;type&quot;: &quot;Point&quot;}, &quot;id&quot;: &quot;185&quot;, &quot;properties&quot;: {&quot;__folium_color&quot;: &quot;#ffbb78&quot;, &quot;index&quot;: 2358, &quot;week&quot;: &quot;2022-04-04&quot;}, &quot;type&quot;: &quot;Feature&quot;}, {&quot;bbox&quot;: [1.2386416666666666, 6.001451666666667, 1.2386416666666666, 6.001451666666667], &quot;geometry&quot;: {&quot;coordinates&quot;: [1.2386416666666666, 6.001451666666667], &quot;type&quot;: &quot;Point&quot;}, &quot;id&quot;: &quot;186&quot;, &quot;properties&quot;: {&quot;__folium_color&quot;: &quot;#ffbb78&quot;, &quot;index&quot;: 2359, &quot;week&quot;: &quot;2022-04-04&quot;}, &quot;type&quot;: &quot;Feature&quot;}, {&quot;bbox&quot;: [1.2384533333333334, 6.001548333333333, 1.2384533333333334, 6.001548333333333], &quot;geometry&quot;: {&quot;coordinates&quot;: [1.2384533333333334, 6.001548333333333], &quot;type&quot;: &quot;Point&quot;}, &quot;id&quot;: &quot;187&quot;, &quot;properties&quot;: {&quot;__folium_color&quot;: &quot;#ffbb78&quot;, &quot;index&quot;: 2360, &quot;week&quot;: &quot;2022-04-04&quot;}, &quot;type&quot;: &quot;Feature&quot;}, {&quot;bbox&quot;: [1.238508333333333, 6.00122, 1.238508333333333, 6.00122], &quot;geometry&quot;: {&quot;coordinates&quot;: [1.238508333333333, 6.00122], &quot;type&quot;: &quot;Point&quot;}, &quot;id&quot;: &quot;188&quot;, &quot;properties&quot;: {&quot;__folium_color&quot;: &quot;#ffbb78&quot;, &quot;index&quot;: 2361, &quot;week&quot;: &quot;2022-04-04&quot;}, &quot;type&quot;: &quot;Feature&quot;}, {&quot;bbox&quot;: [1.23763, 6.001511666666667, 1.23763, 6.001511666666667], &quot;geometry&quot;: {&quot;coordinates&quot;: [1.23763, 6.001511666666667], &quot;type&quot;: &quot;Point&quot;}, &quot;id&quot;: &quot;189&quot;, &quot;properties&quot;: {&quot;__folium_color&quot;: &quot;#ffbb78&quot;, &quot;index&quot;: 2362, &quot;week&quot;: &quot;2022-04-04&quot;}, &quot;type&quot;: &quot;Feature&quot;}, {&quot;bbox&quot;: [1.2361616666666666, 6.00151, 1.2361616666666666, 6.00151], &quot;geometry&quot;: {&quot;coordinates&quot;: [1.2361616666666666, 6.00151], &quot;type&quot;: &quot;Point&quot;}, &quot;id&quot;: &quot;190&quot;, &quot;properties&quot;: {&quot;__folium_color&quot;: &quot;#ffbb78&quot;, &quot;index&quot;: 2363, &quot;week&quot;: &quot;2022-04-04&quot;}, &quot;type&quot;: &quot;Feature&quot;}, {&quot;bbox&quot;: [1.2375433333333334, 6.001768333333334, 1.2375433333333334, 6.001768333333334], &quot;geometry&quot;: {&quot;coordinates&quot;: [1.2375433333333334, 6.001768333333334], &quot;type&quot;: &quot;Point&quot;}, &quot;id&quot;: &quot;191&quot;, &quot;properties&quot;: {&quot;__folium_color&quot;: &quot;#ffbb78&quot;, &quot;index&quot;: 2364, &quot;week&quot;: &quot;2022-04-04&quot;}, &quot;type&quot;: &quot;Feature&quot;}, {&quot;bbox&quot;: [1.2373783333333332, 6.001641666666667, 1.2373783333333332, 6.001641666666667], &quot;geometry&quot;: {&quot;coordinates&quot;: [1.2373783333333332, 6.001641666666667], &quot;type&quot;: &quot;Point&quot;}, &quot;id&quot;: &quot;192&quot;, &quot;properties&quot;: {&quot;__folium_color&quot;: &quot;#ffbb78&quot;, &quot;index&quot;: 2365, &quot;week&quot;: &quot;2022-04-04&quot;}, &quot;type&quot;: &quot;Feature&quot;}, {&quot;bbox&quot;: [1.23752, 6.001516666666666, 1.23752, 6.001516666666666], &quot;geometry&quot;: {&quot;coordinates&quot;: [1.23752, 6.001516666666666], &quot;type&quot;: &quot;Point&quot;}, &quot;id&quot;: &quot;193&quot;, &quot;properties&quot;: {&quot;__folium_color&quot;: &quot;#ffbb78&quot;, &quot;index&quot;: 2366, &quot;week&quot;: &quot;2022-04-04&quot;}, &quot;type&quot;: &quot;Feature&quot;}, {&quot;bbox&quot;: [1.239045, 6.0005283333333335, 1.239045, 6.0005283333333335], &quot;geometry&quot;: {&quot;coordinates&quot;: [1.239045, 6.0005283333333335], &quot;type&quot;: &quot;Point&quot;}, &quot;id&quot;: &quot;194&quot;, &quot;properties&quot;: {&quot;__folium_color&quot;: &quot;#ffbb78&quot;, &quot;index&quot;: 2367, &quot;week&quot;: &quot;2022-04-04&quot;}, &quot;type&quot;: &quot;Feature&quot;}, {&quot;bbox&quot;: [1.2390633333333334, 6.000678333333333, 1.2390633333333334, 6.000678333333333], &quot;geometry&quot;: {&quot;coordinates&quot;: [1.2390633333333334, 6.000678333333333], &quot;type&quot;: &quot;Point&quot;}, &quot;id&quot;: &quot;195&quot;, &quot;properties&quot;: {&quot;__folium_color&quot;: &quot;#ffbb78&quot;, &quot;index&quot;: 2368, &quot;week&quot;: &quot;2022-04-04&quot;}, &quot;type&quot;: &quot;Feature&quot;}, {&quot;bbox&quot;: [1.2389733333333333, 6.0008333333333335, 1.2389733333333333, 6.0008333333333335], &quot;geometry&quot;: {&quot;coordinates&quot;: [1.2389733333333333, 6.0008333333333335], &quot;type&quot;: &quot;Point&quot;}, &quot;id&quot;: &quot;196&quot;, &quot;properties&quot;: {&quot;__folium_color&quot;: &quot;#ffbb78&quot;, &quot;index&quot;: 2369, &quot;week&quot;: &quot;2022-04-04&quot;}, &quot;type&quot;: &quot;Feature&quot;}, {&quot;bbox&quot;: [1.2387466666666669, 6.001388333333334, 1.2387466666666669, 6.001388333333334], &quot;geometry&quot;: {&quot;coordinates&quot;: [1.2387466666666669, 6.001388333333334], &quot;type&quot;: &quot;Point&quot;}, &quot;id&quot;: &quot;197&quot;, &quot;properties&quot;: {&quot;__folium_color&quot;: &quot;#ffbb78&quot;, &quot;index&quot;: 2370, &quot;week&quot;: &quot;2022-04-04&quot;}, &quot;type&quot;: &quot;Feature&quot;}, {&quot;bbox&quot;: [1.2386566666666667, 6.001425, 1.2386566666666667, 6.001425], &quot;geometry&quot;: {&quot;coordinates&quot;: [1.2386566666666667, 6.001425], &quot;type&quot;: &quot;Point&quot;}, &quot;id&quot;: &quot;198&quot;, &quot;properties&quot;: {&quot;__folium_color&quot;: &quot;#ffbb78&quot;, &quot;index&quot;: 2371, &quot;week&quot;: &quot;2022-04-04&quot;}, &quot;type&quot;: &quot;Feature&quot;}, {&quot;bbox&quot;: [1.2386483333333334, 6.00152, 1.2386483333333334, 6.00152], &quot;geometry&quot;: {&quot;coordinates&quot;: [1.2386483333333334, 6.00152], &quot;type&quot;: &quot;Point&quot;}, &quot;id&quot;: &quot;199&quot;, &quot;properties&quot;: {&quot;__folium_color&quot;: &quot;#ffbb78&quot;, &quot;index&quot;: 2372, &quot;week&quot;: &quot;2022-04-04&quot;}, &quot;type&quot;: &quot;Feature&quot;}, {&quot;bbox&quot;: [1.238475, 6.0016783333333334, 1.238475, 6.0016783333333334], &quot;geometry&quot;: {&quot;coordinates&quot;: [1.238475, 6.0016783333333334], &quot;type&quot;: &quot;Point&quot;}, &quot;id&quot;: &quot;200&quot;, &quot;properties&quot;: {&quot;__folium_color&quot;: &quot;#ffbb78&quot;, &quot;index&quot;: 2373, &quot;week&quot;: &quot;2022-04-04&quot;}, &quot;type&quot;: &quot;Feature&quot;}, {&quot;bbox&quot;: [1.2384633333333332, 6.001691666666667, 1.2384633333333332, 6.001691666666667], &quot;geometry&quot;: {&quot;coordinates&quot;: [1.2384633333333332, 6.001691666666667], &quot;type&quot;: &quot;Point&quot;}, &quot;id&quot;: &quot;201&quot;, &quot;properties&quot;: {&quot;__folium_color&quot;: &quot;#ffbb78&quot;, &quot;index&quot;: 2374, &quot;week&quot;: &quot;2022-04-04&quot;}, &quot;type&quot;: &quot;Feature&quot;}, {&quot;bbox&quot;: [1.238625, 6.001495, 1.238625, 6.001495], &quot;geometry&quot;: {&quot;coordinates&quot;: [1.238625, 6.001495], &quot;type&quot;: &quot;Point&quot;}, &quot;id&quot;: &quot;202&quot;, &quot;properties&quot;: {&quot;__folium_color&quot;: &quot;#ffbb78&quot;, &quot;index&quot;: 2375, &quot;week&quot;: &quot;2022-04-04&quot;}, &quot;type&quot;: &quot;Feature&quot;}, {&quot;bbox&quot;: [1.2387083333333333, 6.00143, 1.2387083333333333, 6.00143], &quot;geometry&quot;: {&quot;coordinates&quot;: [1.2387083333333333, 6.00143], &quot;type&quot;: &quot;Point&quot;}, &quot;id&quot;: &quot;203&quot;, &quot;properties&quot;: {&quot;__folium_color&quot;: &quot;#ffbb78&quot;, &quot;index&quot;: 2376, &quot;week&quot;: &quot;2022-04-04&quot;}, &quot;type&quot;: &quot;Feature&quot;}, {&quot;bbox&quot;: [1.2388266666666667, 6.001131666666667, 1.2388266666666667, 6.001131666666667], &quot;geometry&quot;: {&quot;coordinates&quot;: [1.2388266666666667, 6.001131666666667], &quot;type&quot;: &quot;Point&quot;}, &quot;id&quot;: &quot;204&quot;, &quot;properties&quot;: {&quot;__folium_color&quot;: &quot;#ffbb78&quot;, &quot;index&quot;: 2377, &quot;week&quot;: &quot;2022-04-04&quot;}, &quot;type&quot;: &quot;Feature&quot;}, {&quot;bbox&quot;: [1.23907, 6.00069, 1.23907, 6.00069], &quot;geometry&quot;: {&quot;coordinates&quot;: [1.23907, 6.00069], &quot;type&quot;: &quot;Point&quot;}, &quot;id&quot;: &quot;205&quot;, &quot;properties&quot;: {&quot;__folium_color&quot;: &quot;#ffbb78&quot;, &quot;index&quot;: 2378, &quot;week&quot;: &quot;2022-04-04&quot;}, &quot;type&quot;: &quot;Feature&quot;}, {&quot;bbox&quot;: [1.2390566666666667, 6.000756666666667, 1.2390566666666667, 6.000756666666667], &quot;geometry&quot;: {&quot;coordinates&quot;: [1.2390566666666667, 6.000756666666667], &quot;type&quot;: &quot;Point&quot;}, &quot;id&quot;: &quot;206&quot;, &quot;properties&quot;: {&quot;__folium_color&quot;: &quot;#ffbb78&quot;, &quot;index&quot;: 2379, &quot;week&quot;: &quot;2022-04-04&quot;}, &quot;type&quot;: &quot;Feature&quot;}, {&quot;bbox&quot;: [1.2390366666666666, 6.0008783333333335, 1.2390366666666666, 6.0008783333333335], &quot;geometry&quot;: {&quot;coordinates&quot;: [1.2390366666666666, 6.0008783333333335], &quot;type&quot;: &quot;Point&quot;}, &quot;id&quot;: &quot;207&quot;, &quot;properties&quot;: {&quot;__folium_color&quot;: &quot;#ffbb78&quot;, &quot;index&quot;: 2380, &quot;week&quot;: &quot;2022-04-04&quot;}, &quot;type&quot;: &quot;Feature&quot;}, {&quot;bbox&quot;: [1.238885, 6.001248333333334, 1.238885, 6.001248333333334], &quot;geometry&quot;: {&quot;coordinates&quot;: [1.238885, 6.001248333333334], &quot;type&quot;: &quot;Point&quot;}, &quot;id&quot;: &quot;208&quot;, &quot;properties&quot;: {&quot;__folium_color&quot;: &quot;#ffbb78&quot;, &quot;index&quot;: 2381, &quot;week&quot;: &quot;2022-04-04&quot;}, &quot;type&quot;: &quot;Feature&quot;}, {&quot;bbox&quot;: [1.2389, 6.001306666666666, 1.2389, 6.001306666666666], &quot;geometry&quot;: {&quot;coordinates&quot;: [1.2389, 6.001306666666666], &quot;type&quot;: &quot;Point&quot;}, &quot;id&quot;: &quot;209&quot;, &quot;properties&quot;: {&quot;__folium_color&quot;: &quot;#ffbb78&quot;, &quot;index&quot;: 2382, &quot;week&quot;: &quot;2022-04-04&quot;}, &quot;type&quot;: &quot;Feature&quot;}, {&quot;bbox&quot;: [1.2389183333333331, 6.0011833333333335, 1.2389183333333331, 6.0011833333333335], &quot;geometry&quot;: {&quot;coordinates&quot;: [1.2389183333333331, 6.0011833333333335], &quot;type&quot;: &quot;Point&quot;}, &quot;id&quot;: &quot;210&quot;, &quot;properties&quot;: {&quot;__folium_color&quot;: &quot;#ffbb78&quot;, &quot;index&quot;: 2383, &quot;week&quot;: &quot;2022-04-04&quot;}, &quot;type&quot;: &quot;Feature&quot;}, {&quot;bbox&quot;: [1.2388933333333334, 6.001193333333333, 1.2388933333333334, 6.001193333333333], &quot;geometry&quot;: {&quot;coordinates&quot;: [1.2388933333333334, 6.001193333333333], &quot;type&quot;: &quot;Point&quot;}, &quot;id&quot;: &quot;211&quot;, &quot;properties&quot;: {&quot;__folium_color&quot;: &quot;#ffbb78&quot;, &quot;index&quot;: 2384, &quot;week&quot;: &quot;2022-04-04&quot;}, &quot;type&quot;: &quot;Feature&quot;}, {&quot;bbox&quot;: [1.2390816666666666, 6.00091, 1.2390816666666666, 6.00091], &quot;geometry&quot;: {&quot;coordinates&quot;: [1.2390816666666666, 6.00091], &quot;type&quot;: &quot;Point&quot;}, &quot;id&quot;: &quot;212&quot;, &quot;properties&quot;: {&quot;__folium_color&quot;: &quot;#ffbb78&quot;, &quot;index&quot;: 2385, &quot;week&quot;: &quot;2022-04-04&quot;}, &quot;type&quot;: &quot;Feature&quot;}, {&quot;bbox&quot;: [1.2390566666666667, 6.000883333333333, 1.2390566666666667, 6.000883333333333], &quot;geometry&quot;: {&quot;coordinates&quot;: [1.2390566666666667, 6.000883333333333], &quot;type&quot;: &quot;Point&quot;}, &quot;id&quot;: &quot;213&quot;, &quot;properties&quot;: {&quot;__folium_color&quot;: &quot;#ffbb78&quot;, &quot;index&quot;: 2386, &quot;week&quot;: &quot;2022-04-04&quot;}, &quot;type&quot;: &quot;Feature&quot;}, {&quot;bbox&quot;: [1.2390416666666666, 6.0009266666666665, 1.2390416666666666, 6.0009266666666665], &quot;geometry&quot;: {&quot;coordinates&quot;: [1.2390416666666666, 6.0009266666666665], &quot;type&quot;: &quot;Point&quot;}, &quot;id&quot;: &quot;214&quot;, &quot;properties&quot;: {&quot;__folium_color&quot;: &quot;#ffbb78&quot;, &quot;index&quot;: 2387, &quot;week&quot;: &quot;2022-04-04&quot;}, &quot;type&quot;: &quot;Feature&quot;}, {&quot;bbox&quot;: [1.238945, 6.001053333333333, 1.238945, 6.001053333333333], &quot;geometry&quot;: {&quot;coordinates&quot;: [1.238945, 6.001053333333333], &quot;type&quot;: &quot;Point&quot;}, &quot;id&quot;: &quot;215&quot;, &quot;properties&quot;: {&quot;__folium_color&quot;: &quot;#ffbb78&quot;, &quot;index&quot;: 2388, &quot;week&quot;: &quot;2022-04-04&quot;}, &quot;type&quot;: &quot;Feature&quot;}, {&quot;bbox&quot;: [1.2389, 6.001118333333333, 1.2389, 6.001118333333333], &quot;geometry&quot;: {&quot;coordinates&quot;: [1.2389, 6.001118333333333], &quot;type&quot;: &quot;Point&quot;}, &quot;id&quot;: &quot;216&quot;, &quot;properties&quot;: {&quot;__folium_color&quot;: &quot;#ffbb78&quot;, &quot;index&quot;: 2389, &quot;week&quot;: &quot;2022-04-04&quot;}, &quot;type&quot;: &quot;Feature&quot;}, {&quot;bbox&quot;: [1.23891, 6.0012316666666665, 1.23891, 6.0012316666666665], &quot;geometry&quot;: {&quot;coordinates&quot;: [1.23891, 6.0012316666666665], &quot;type&quot;: &quot;Point&quot;}, &quot;id&quot;: &quot;217&quot;, &quot;properties&quot;: {&quot;__folium_color&quot;: &quot;#ffbb78&quot;, &quot;index&quot;: 2390, &quot;week&quot;: &quot;2022-04-04&quot;}, &quot;type&quot;: &quot;Feature&quot;}, {&quot;bbox&quot;: [1.238895, 6.00117, 1.238895, 6.00117], &quot;geometry&quot;: {&quot;coordinates&quot;: [1.238895, 6.00117], &quot;type&quot;: &quot;Point&quot;}, &quot;id&quot;: &quot;218&quot;, &quot;properties&quot;: {&quot;__folium_color&quot;: &quot;#ffbb78&quot;, &quot;index&quot;: 2391, &quot;week&quot;: &quot;2022-04-04&quot;}, &quot;type&quot;: &quot;Feature&quot;}, {&quot;bbox&quot;: [1.23887, 6.001258333333333, 1.23887, 6.001258333333333], &quot;geometry&quot;: {&quot;coordinates&quot;: [1.23887, 6.001258333333333], &quot;type&quot;: &quot;Point&quot;}, &quot;id&quot;: &quot;219&quot;, &quot;properties&quot;: {&quot;__folium_color&quot;: &quot;#ffbb78&quot;, &quot;index&quot;: 2392, &quot;week&quot;: &quot;2022-04-04&quot;}, &quot;type&quot;: &quot;Feature&quot;}, {&quot;bbox&quot;: [1.2385916666666668, 6.00158, 1.2385916666666668, 6.00158], &quot;geometry&quot;: {&quot;coordinates&quot;: [1.2385916666666668, 6.00158], &quot;type&quot;: &quot;Point&quot;}, &quot;id&quot;: &quot;220&quot;, &quot;properties&quot;: {&quot;__folium_color&quot;: &quot;#ffbb78&quot;, &quot;index&quot;: 2393, &quot;week&quot;: &quot;2022-04-04&quot;}, &quot;type&quot;: &quot;Feature&quot;}, {&quot;bbox&quot;: [1.2386366666666666, 6.001475, 1.2386366666666666, 6.001475], &quot;geometry&quot;: {&quot;coordinates&quot;: [1.2386366666666666, 6.001475], &quot;type&quot;: &quot;Point&quot;}, &quot;id&quot;: &quot;221&quot;, &quot;properties&quot;: {&quot;__folium_color&quot;: &quot;#ffbb78&quot;, &quot;index&quot;: 2394, &quot;week&quot;: &quot;2022-04-04&quot;}, &quot;type&quot;: &quot;Feature&quot;}, {&quot;bbox&quot;: [1.2381816666666667, 6.0017716666666665, 1.2381816666666667, 6.0017716666666665], &quot;geometry&quot;: {&quot;coordinates&quot;: [1.2381816666666667, 6.0017716666666665], &quot;type&quot;: &quot;Point&quot;}, &quot;id&quot;: &quot;222&quot;, &quot;properties&quot;: {&quot;__folium_color&quot;: &quot;#ffbb78&quot;, &quot;index&quot;: 2395, &quot;week&quot;: &quot;2022-04-04&quot;}, &quot;type&quot;: &quot;Feature&quot;}, {&quot;bbox&quot;: [1.2382183333333334, 6.00179, 1.2382183333333334, 6.00179], &quot;geometry&quot;: {&quot;coordinates&quot;: [1.2382183333333334, 6.00179], &quot;type&quot;: &quot;Point&quot;}, &quot;id&quot;: &quot;223&quot;, &quot;properties&quot;: {&quot;__folium_color&quot;: &quot;#ffbb78&quot;, &quot;index&quot;: 2396, &quot;week&quot;: &quot;2022-04-04&quot;}, &quot;type&quot;: &quot;Feature&quot;}, {&quot;bbox&quot;: [1.238325, 6.001811666666667, 1.238325, 6.001811666666667], &quot;geometry&quot;: {&quot;coordinates&quot;: [1.238325, 6.001811666666667], &quot;type&quot;: &quot;Point&quot;}, &quot;id&quot;: &quot;224&quot;, &quot;properties&quot;: {&quot;__folium_color&quot;: &quot;#ffbb78&quot;, &quot;index&quot;: 2397, &quot;week&quot;: &quot;2022-04-04&quot;}, &quot;type&quot;: &quot;Feature&quot;}, {&quot;bbox&quot;: [1.2384216666666668, 6.001726666666666, 1.2384216666666668, 6.001726666666666], &quot;geometry&quot;: {&quot;coordinates&quot;: [1.2384216666666668, 6.001726666666666], &quot;type&quot;: &quot;Point&quot;}, &quot;id&quot;: &quot;225&quot;, &quot;properties&quot;: {&quot;__folium_color&quot;: &quot;#ffbb78&quot;, &quot;index&quot;: 2398, &quot;week&quot;: &quot;2022-04-04&quot;}, &quot;type&quot;: &quot;Feature&quot;}, {&quot;bbox&quot;: [1.2385583333333334, 6.001503333333333, 1.2385583333333334, 6.001503333333333], &quot;geometry&quot;: {&quot;coordinates&quot;: [1.2385583333333334, 6.001503333333333], &quot;type&quot;: &quot;Point&quot;}, &quot;id&quot;: &quot;226&quot;, &quot;properties&quot;: {&quot;__folium_color&quot;: &quot;#ffbb78&quot;, &quot;index&quot;: 2399, &quot;week&quot;: &quot;2022-04-04&quot;}, &quot;type&quot;: &quot;Feature&quot;}, {&quot;bbox&quot;: [1.2386283333333334, 6.001411666666667, 1.2386283333333334, 6.001411666666667], &quot;geometry&quot;: {&quot;coordinates&quot;: [1.2386283333333334, 6.001411666666667], &quot;type&quot;: &quot;Point&quot;}, &quot;id&quot;: &quot;227&quot;, &quot;properties&quot;: {&quot;__folium_color&quot;: &quot;#ffbb78&quot;, &quot;index&quot;: 2400, &quot;week&quot;: &quot;2022-04-04&quot;}, &quot;type&quot;: &quot;Feature&quot;}, {&quot;bbox&quot;: [1.2385716666666666, 6.0015366666666665, 1.2385716666666666, 6.0015366666666665], &quot;geometry&quot;: {&quot;coordinates&quot;: [1.2385716666666666, 6.0015366666666665], &quot;type&quot;: &quot;Point&quot;}, &quot;id&quot;: &quot;228&quot;, &quot;properties&quot;: {&quot;__folium_color&quot;: &quot;#ffbb78&quot;, &quot;index&quot;: 2401, &quot;week&quot;: &quot;2022-04-04&quot;}, &quot;type&quot;: &quot;Feature&quot;}, {&quot;bbox&quot;: [1.2385383333333333, 6.001525, 1.2385383333333333, 6.001525], &quot;geometry&quot;: {&quot;coordinates&quot;: [1.2385383333333333, 6.001525], &quot;type&quot;: &quot;Point&quot;}, &quot;id&quot;: &quot;229&quot;, &quot;properties&quot;: {&quot;__folium_color&quot;: &quot;#ffbb78&quot;, &quot;index&quot;: 2402, &quot;week&quot;: &quot;2022-04-04&quot;}, &quot;type&quot;: &quot;Feature&quot;}, {&quot;bbox&quot;: [1.23843, 6.001515, 1.23843, 6.001515], &quot;geometry&quot;: {&quot;coordinates&quot;: [1.23843, 6.001515], &quot;type&quot;: &quot;Point&quot;}, &quot;id&quot;: &quot;230&quot;, &quot;properties&quot;: {&quot;__folium_color&quot;: &quot;#ffbb78&quot;, &quot;index&quot;: 2403, &quot;week&quot;: &quot;2022-04-04&quot;}, &quot;type&quot;: &quot;Feature&quot;}, {&quot;bbox&quot;: [1.23769, 6.001938333333333, 1.23769, 6.001938333333333], &quot;geometry&quot;: {&quot;coordinates&quot;: [1.23769, 6.001938333333333], &quot;type&quot;: &quot;Point&quot;}, &quot;id&quot;: &quot;231&quot;, &quot;properties&quot;: {&quot;__folium_color&quot;: &quot;#ffbb78&quot;, &quot;index&quot;: 2404, &quot;week&quot;: &quot;2022-04-04&quot;}, &quot;type&quot;: &quot;Feature&quot;}, {&quot;bbox&quot;: [1.2374683333333334, 6.001908333333334, 1.2374683333333334, 6.001908333333334], &quot;geometry&quot;: {&quot;coordinates&quot;: [1.2374683333333334, 6.001908333333334], &quot;type&quot;: &quot;Point&quot;}, &quot;id&quot;: &quot;232&quot;, &quot;properties&quot;: {&quot;__folium_color&quot;: &quot;#ffbb78&quot;, &quot;index&quot;: 2405, &quot;week&quot;: &quot;2022-04-04&quot;}, &quot;type&quot;: &quot;Feature&quot;}, {&quot;bbox&quot;: [1.2360266666666666, 6.001711666666667, 1.2360266666666666, 6.001711666666667], &quot;geometry&quot;: {&quot;coordinates&quot;: [1.2360266666666666, 6.001711666666667], &quot;type&quot;: &quot;Point&quot;}, &quot;id&quot;: &quot;233&quot;, &quot;properties&quot;: {&quot;__folium_color&quot;: &quot;#ffbb78&quot;, &quot;index&quot;: 2406, &quot;week&quot;: &quot;2022-04-04&quot;}, &quot;type&quot;: &quot;Feature&quot;}, {&quot;bbox&quot;: [1.235575, 6.0015366666666665, 1.235575, 6.0015366666666665], &quot;geometry&quot;: {&quot;coordinates&quot;: [1.235575, 6.0015366666666665], &quot;type&quot;: &quot;Point&quot;}, &quot;id&quot;: &quot;234&quot;, &quot;properties&quot;: {&quot;__folium_color&quot;: &quot;#ffbb78&quot;, &quot;index&quot;: 2407, &quot;week&quot;: &quot;2022-04-04&quot;}, &quot;type&quot;: &quot;Feature&quot;}, {&quot;bbox&quot;: [1.2354516666666666, 6.001273333333334, 1.2354516666666666, 6.001273333333334], &quot;geometry&quot;: {&quot;coordinates&quot;: [1.2354516666666666, 6.001273333333334], &quot;type&quot;: &quot;Point&quot;}, &quot;id&quot;: &quot;235&quot;, &quot;properties&quot;: {&quot;__folium_color&quot;: &quot;#ffbb78&quot;, &quot;index&quot;: 2408, &quot;week&quot;: &quot;2022-04-04&quot;}, &quot;type&quot;: &quot;Feature&quot;}, {&quot;bbox&quot;: [1.2355283333333331, 6.001351666666666, 1.2355283333333331, 6.001351666666666], &quot;geometry&quot;: {&quot;coordinates&quot;: [1.2355283333333331, 6.001351666666666], &quot;type&quot;: &quot;Point&quot;}, &quot;id&quot;: &quot;236&quot;, &quot;properties&quot;: {&quot;__folium_color&quot;: &quot;#ffbb78&quot;, &quot;index&quot;: 2409, &quot;week&quot;: &quot;2022-04-04&quot;}, &quot;type&quot;: &quot;Feature&quot;}, {&quot;bbox&quot;: [1.2356333333333334, 6.0015366666666665, 1.2356333333333334, 6.0015366666666665], &quot;geometry&quot;: {&quot;coordinates&quot;: [1.2356333333333334, 6.0015366666666665], &quot;type&quot;: &quot;Point&quot;}, &quot;id&quot;: &quot;237&quot;, &quot;properties&quot;: {&quot;__folium_color&quot;: &quot;#ffbb78&quot;, &quot;index&quot;: 2410, &quot;week&quot;: &quot;2022-04-04&quot;}, &quot;type&quot;: &quot;Feature&quot;}, {&quot;bbox&quot;: [1.2356083333333334, 6.001525, 1.2356083333333334, 6.001525], &quot;geometry&quot;: {&quot;coordinates&quot;: [1.2356083333333334, 6.001525], &quot;type&quot;: &quot;Point&quot;}, &quot;id&quot;: &quot;238&quot;, &quot;properties&quot;: {&quot;__folium_color&quot;: &quot;#ffbb78&quot;, &quot;index&quot;: 2411, &quot;week&quot;: &quot;2022-04-04&quot;}, &quot;type&quot;: &quot;Feature&quot;}, {&quot;bbox&quot;: [1.235645, 6.001468333333333, 1.235645, 6.001468333333333], &quot;geometry&quot;: {&quot;coordinates&quot;: [1.235645, 6.001468333333333], &quot;type&quot;: &quot;Point&quot;}, &quot;id&quot;: &quot;239&quot;, &quot;properties&quot;: {&quot;__folium_color&quot;: &quot;#ffbb78&quot;, &quot;index&quot;: 2412, &quot;week&quot;: &quot;2022-04-04&quot;}, &quot;type&quot;: &quot;Feature&quot;}, {&quot;bbox&quot;: [1.23578, 6.00159, 1.23578, 6.00159], &quot;geometry&quot;: {&quot;coordinates&quot;: [1.23578, 6.00159], &quot;type&quot;: &quot;Point&quot;}, &quot;id&quot;: &quot;240&quot;, &quot;properties&quot;: {&quot;__folium_color&quot;: &quot;#ffbb78&quot;, &quot;index&quot;: 2413, &quot;week&quot;: &quot;2022-04-04&quot;}, &quot;type&quot;: &quot;Feature&quot;}, {&quot;bbox&quot;: [1.235845, 6.00172, 1.235845, 6.00172], &quot;geometry&quot;: {&quot;coordinates&quot;: [1.235845, 6.00172], &quot;type&quot;: &quot;Point&quot;}, &quot;id&quot;: &quot;241&quot;, &quot;properties&quot;: {&quot;__folium_color&quot;: &quot;#ffbb78&quot;, &quot;index&quot;: 2414, &quot;week&quot;: &quot;2022-04-04&quot;}, &quot;type&quot;: &quot;Feature&quot;}, {&quot;bbox&quot;: [1.23584, 6.0016316666666665, 1.23584, 6.0016316666666665], &quot;geometry&quot;: {&quot;coordinates&quot;: [1.23584, 6.0016316666666665], &quot;type&quot;: &quot;Point&quot;}, &quot;id&quot;: &quot;242&quot;, &quot;properties&quot;: {&quot;__folium_color&quot;: &quot;#ffbb78&quot;, &quot;index&quot;: 2415, &quot;week&quot;: &quot;2022-04-04&quot;}, &quot;type&quot;: &quot;Feature&quot;}, {&quot;bbox&quot;: [1.2357916666666666, 6.0016766666666665, 1.2357916666666666, 6.0016766666666665], &quot;geometry&quot;: {&quot;coordinates&quot;: [1.2357916666666666, 6.0016766666666665], &quot;type&quot;: &quot;Point&quot;}, &quot;id&quot;: &quot;243&quot;, &quot;properties&quot;: {&quot;__folium_color&quot;: &quot;#ffbb78&quot;, &quot;index&quot;: 2416, &quot;week&quot;: &quot;2022-04-04&quot;}, &quot;type&quot;: &quot;Feature&quot;}, {&quot;bbox&quot;: [1.2358183333333332, 6.001728333333333, 1.2358183333333332, 6.001728333333333], &quot;geometry&quot;: {&quot;coordinates&quot;: [1.2358183333333332, 6.001728333333333], &quot;type&quot;: &quot;Point&quot;}, &quot;id&quot;: &quot;244&quot;, &quot;properties&quot;: {&quot;__folium_color&quot;: &quot;#ffbb78&quot;, &quot;index&quot;: 2417, &quot;week&quot;: &quot;2022-04-04&quot;}, &quot;type&quot;: &quot;Feature&quot;}, {&quot;bbox&quot;: [1.235763333333333, 6.0015616666666665, 1.235763333333333, 6.0015616666666665], &quot;geometry&quot;: {&quot;coordinates&quot;: [1.235763333333333, 6.0015616666666665], &quot;type&quot;: &quot;Point&quot;}, &quot;id&quot;: &quot;245&quot;, &quot;properties&quot;: {&quot;__folium_color&quot;: &quot;#ffbb78&quot;, &quot;index&quot;: 2418, &quot;week&quot;: &quot;2022-04-04&quot;}, &quot;type&quot;: &quot;Feature&quot;}, {&quot;bbox&quot;: [1.2356933333333333, 6.001566666666666, 1.2356933333333333, 6.001566666666666], &quot;geometry&quot;: {&quot;coordinates&quot;: [1.2356933333333333, 6.001566666666666], &quot;type&quot;: &quot;Point&quot;}, &quot;id&quot;: &quot;246&quot;, &quot;properties&quot;: {&quot;__folium_color&quot;: &quot;#ffbb78&quot;, &quot;index&quot;: 2419, &quot;week&quot;: &quot;2022-04-04&quot;}, &quot;type&quot;: &quot;Feature&quot;}, {&quot;bbox&quot;: [1.23566, 6.001351666666666, 1.23566, 6.001351666666666], &quot;geometry&quot;: {&quot;coordinates&quot;: [1.23566, 6.001351666666666], &quot;type&quot;: &quot;Point&quot;}, &quot;id&quot;: &quot;247&quot;, &quot;properties&quot;: {&quot;__folium_color&quot;: &quot;#ffbb78&quot;, &quot;index&quot;: 2420, &quot;week&quot;: &quot;2022-04-04&quot;}, &quot;type&quot;: &quot;Feature&quot;}, {&quot;bbox&quot;: [1.2362133333333334, 6.0006916666666665, 1.2362133333333334, 6.0006916666666665], &quot;geometry&quot;: {&quot;coordinates&quot;: [1.2362133333333334, 6.0006916666666665], &quot;type&quot;: &quot;Point&quot;}, &quot;id&quot;: &quot;248&quot;, &quot;properties&quot;: {&quot;__folium_color&quot;: &quot;#ffbb78&quot;, &quot;index&quot;: 2421, &quot;week&quot;: &quot;2022-04-04&quot;}, &quot;type&quot;: &quot;Feature&quot;}, {&quot;bbox&quot;: [1.2368766666666666, 5.999638333333333, 1.2368766666666666, 5.999638333333333], &quot;geometry&quot;: {&quot;coordinates&quot;: [1.2368766666666666, 5.999638333333333], &quot;type&quot;: &quot;Point&quot;}, &quot;id&quot;: &quot;249&quot;, &quot;properties&quot;: {&quot;__folium_color&quot;: &quot;#ffbb78&quot;, &quot;index&quot;: 2422, &quot;week&quot;: &quot;2022-04-04&quot;}, &quot;type&quot;: &quot;Feature&quot;}, {&quot;bbox&quot;: [1.2379633333333333, 5.998531666666667, 1.2379633333333333, 5.998531666666667], &quot;geometry&quot;: {&quot;coordinates&quot;: [1.2379633333333333, 5.998531666666667], &quot;type&quot;: &quot;Point&quot;}, &quot;id&quot;: &quot;250&quot;, &quot;properties&quot;: {&quot;__folium_color&quot;: &quot;#ffbb78&quot;, &quot;index&quot;: 2423, &quot;week&quot;: &quot;2022-04-04&quot;}, &quot;type&quot;: &quot;Feature&quot;}, {&quot;bbox&quot;: [1.2383566666666668, 5.99724, 1.2383566666666668, 5.99724], &quot;geometry&quot;: {&quot;coordinates&quot;: [1.2383566666666668, 5.99724], &quot;type&quot;: &quot;Point&quot;}, &quot;id&quot;: &quot;251&quot;, &quot;properties&quot;: {&quot;__folium_color&quot;: &quot;#ffbb78&quot;, &quot;index&quot;: 2424, &quot;week&quot;: &quot;2022-04-04&quot;}, &quot;type&quot;: &quot;Feature&quot;}, {&quot;bbox&quot;: [1.2247316666666668, 5.987896666666667, 1.2247316666666668, 5.987896666666667], &quot;geometry&quot;: {&quot;coordinates&quot;: [1.2247316666666668, 5.987896666666667], &quot;type&quot;: &quot;Point&quot;}, &quot;id&quot;: &quot;252&quot;, &quot;properties&quot;: {&quot;__folium_color&quot;: &quot;#ffbb78&quot;, &quot;index&quot;: 2425, &quot;week&quot;: &quot;2022-04-04&quot;}, &quot;type&quot;: &quot;Feature&quot;}, {&quot;bbox&quot;: [1.217795, 5.960806666666667, 1.217795, 5.960806666666667], &quot;geometry&quot;: {&quot;coordinates&quot;: [1.217795, 5.960806666666667], &quot;type&quot;: &quot;Point&quot;}, &quot;id&quot;: &quot;253&quot;, &quot;properties&quot;: {&quot;__folium_color&quot;: &quot;#ffbb78&quot;, &quot;index&quot;: 2426, &quot;week&quot;: &quot;2022-04-04&quot;}, &quot;type&quot;: &quot;Feature&quot;}, {&quot;bbox&quot;: [1.2150316666666667, 5.950555, 1.2150316666666667, 5.950555], &quot;geometry&quot;: {&quot;coordinates&quot;: [1.2150316666666667, 5.950555], &quot;type&quot;: &quot;Point&quot;}, &quot;id&quot;: &quot;254&quot;, &quot;properties&quot;: {&quot;__folium_color&quot;: &quot;#ffbb78&quot;, &quot;index&quot;: 2427, &quot;week&quot;: &quot;2022-04-04&quot;}, &quot;type&quot;: &quot;Feature&quot;}, {&quot;bbox&quot;: [1.2112916666666669, 5.942026666666667, 1.2112916666666669, 5.942026666666667], &quot;geometry&quot;: {&quot;coordinates&quot;: [1.2112916666666669, 5.942026666666667], &quot;type&quot;: &quot;Point&quot;}, &quot;id&quot;: &quot;255&quot;, &quot;properties&quot;: {&quot;__folium_color&quot;: &quot;#ffbb78&quot;, &quot;index&quot;: 2428, &quot;week&quot;: &quot;2022-04-04&quot;}, &quot;type&quot;: &quot;Feature&quot;}, {&quot;bbox&quot;: [1.1996833333333334, 5.93873, 1.1996833333333334, 5.93873], &quot;geometry&quot;: {&quot;coordinates&quot;: [1.1996833333333334, 5.93873], &quot;type&quot;: &quot;Point&quot;}, &quot;id&quot;: &quot;256&quot;, &quot;properties&quot;: {&quot;__folium_color&quot;: &quot;#ffbb78&quot;, &quot;index&quot;: 2429, &quot;week&quot;: &quot;2022-04-04&quot;}, &quot;type&quot;: &quot;Feature&quot;}, {&quot;bbox&quot;: [1.206945, 5.932985, 1.206945, 5.932985], &quot;geometry&quot;: {&quot;coordinates&quot;: [1.206945, 5.932985], &quot;type&quot;: &quot;Point&quot;}, &quot;id&quot;: &quot;257&quot;, &quot;properties&quot;: {&quot;__folium_color&quot;: &quot;#ffbb78&quot;, &quot;index&quot;: 2430, &quot;week&quot;: &quot;2022-04-04&quot;}, &quot;type&quot;: &quot;Feature&quot;}, {&quot;bbox&quot;: [1.2152666666666667, 5.938391666666667, 1.2152666666666667, 5.938391666666667], &quot;geometry&quot;: {&quot;coordinates&quot;: [1.2152666666666667, 5.938391666666667], &quot;type&quot;: &quot;Point&quot;}, &quot;id&quot;: &quot;258&quot;, &quot;properties&quot;: {&quot;__folium_color&quot;: &quot;#ffbb78&quot;, &quot;index&quot;: 2431, &quot;week&quot;: &quot;2022-04-04&quot;}, &quot;type&quot;: &quot;Feature&quot;}, {&quot;bbox&quot;: [1.2227466666666666, 5.942118333333333, 1.2227466666666666, 5.942118333333333], &quot;geometry&quot;: {&quot;coordinates&quot;: [1.2227466666666666, 5.942118333333333], &quot;type&quot;: &quot;Point&quot;}, &quot;id&quot;: &quot;259&quot;, &quot;properties&quot;: {&quot;__folium_color&quot;: &quot;#ffbb78&quot;, &quot;index&quot;: 2432, &quot;week&quot;: &quot;2022-04-04&quot;}, &quot;type&quot;: &quot;Feature&quot;}, {&quot;bbox&quot;: [1.2226916666666667, 5.942076666666667, 1.2226916666666667, 5.942076666666667], &quot;geometry&quot;: {&quot;coordinates&quot;: [1.2226916666666667, 5.942076666666667], &quot;type&quot;: &quot;Point&quot;}, &quot;id&quot;: &quot;260&quot;, &quot;properties&quot;: {&quot;__folium_color&quot;: &quot;#ffbb78&quot;, &quot;index&quot;: 2433, &quot;week&quot;: &quot;2022-04-04&quot;}, &quot;type&quot;: &quot;Feature&quot;}, {&quot;bbox&quot;: [1.222665, 5.942098333333333, 1.222665, 5.942098333333333], &quot;geometry&quot;: {&quot;coordinates&quot;: [1.222665, 5.942098333333333], &quot;type&quot;: &quot;Point&quot;}, &quot;id&quot;: &quot;261&quot;, &quot;properties&quot;: {&quot;__folium_color&quot;: &quot;#ffbb78&quot;, &quot;index&quot;: 2434, &quot;week&quot;: &quot;2022-04-04&quot;}, &quot;type&quot;: &quot;Feature&quot;}, {&quot;bbox&quot;: [1.2228916666666667, 5.942398333333333, 1.2228916666666667, 5.942398333333333], &quot;geometry&quot;: {&quot;coordinates&quot;: [1.2228916666666667, 5.942398333333333], &quot;type&quot;: &quot;Point&quot;}, &quot;id&quot;: &quot;262&quot;, &quot;properties&quot;: {&quot;__folium_color&quot;: &quot;#ffbb78&quot;, &quot;index&quot;: 2435, &quot;week&quot;: &quot;2022-04-04&quot;}, &quot;type&quot;: &quot;Feature&quot;}, {&quot;bbox&quot;: [1.2228883333333334, 5.942241666666667, 1.2228883333333334, 5.942241666666667], &quot;geometry&quot;: {&quot;coordinates&quot;: [1.2228883333333334, 5.942241666666667], &quot;type&quot;: &quot;Point&quot;}, &quot;id&quot;: &quot;263&quot;, &quot;properties&quot;: {&quot;__folium_color&quot;: &quot;#ffbb78&quot;, &quot;index&quot;: 2436, &quot;week&quot;: &quot;2022-04-04&quot;}, &quot;type&quot;: &quot;Feature&quot;}, {&quot;bbox&quot;: [1.2228466666666666, 5.942141666666667, 1.2228466666666666, 5.942141666666667], &quot;geometry&quot;: {&quot;coordinates&quot;: [1.2228466666666666, 5.942141666666667], &quot;type&quot;: &quot;Point&quot;}, &quot;id&quot;: &quot;264&quot;, &quot;properties&quot;: {&quot;__folium_color&quot;: &quot;#ffbb78&quot;, &quot;index&quot;: 2437, &quot;week&quot;: &quot;2022-04-04&quot;}, &quot;type&quot;: &quot;Feature&quot;}, {&quot;bbox&quot;: [1.22279, 5.9420866666666665, 1.22279, 5.9420866666666665], &quot;geometry&quot;: {&quot;coordinates&quot;: [1.22279, 5.9420866666666665], &quot;type&quot;: &quot;Point&quot;}, &quot;id&quot;: &quot;265&quot;, &quot;properties&quot;: {&quot;__folium_color&quot;: &quot;#ffbb78&quot;, &quot;index&quot;: 2438, &quot;week&quot;: &quot;2022-04-04&quot;}, &quot;type&quot;: &quot;Feature&quot;}, {&quot;bbox&quot;: [1.2227083333333333, 5.942058333333334, 1.2227083333333333, 5.942058333333334], &quot;geometry&quot;: {&quot;coordinates&quot;: [1.2227083333333333, 5.942058333333334], &quot;type&quot;: &quot;Point&quot;}, &quot;id&quot;: &quot;266&quot;, &quot;properties&quot;: {&quot;__folium_color&quot;: &quot;#ffbb78&quot;, &quot;index&quot;: 2439, &quot;week&quot;: &quot;2022-04-04&quot;}, &quot;type&quot;: &quot;Feature&quot;}, {&quot;bbox&quot;: [1.222751666666667, 5.942056666666667, 1.222751666666667, 5.942056666666667], &quot;geometry&quot;: {&quot;coordinates&quot;: [1.222751666666667, 5.942056666666667], &quot;type&quot;: &quot;Point&quot;}, &quot;id&quot;: &quot;267&quot;, &quot;properties&quot;: {&quot;__folium_color&quot;: &quot;#ffbb78&quot;, &quot;index&quot;: 2440, &quot;week&quot;: &quot;2022-04-04&quot;}, &quot;type&quot;: &quot;Feature&quot;}, {&quot;bbox&quot;: [1.2226933333333334, 5.9419, 1.2226933333333334, 5.9419], &quot;geometry&quot;: {&quot;coordinates&quot;: [1.2226933333333334, 5.9419], &quot;type&quot;: &quot;Point&quot;}, &quot;id&quot;: &quot;268&quot;, &quot;properties&quot;: {&quot;__folium_color&quot;: &quot;#ffbb78&quot;, &quot;index&quot;: 2441, &quot;week&quot;: &quot;2022-04-04&quot;}, &quot;type&quot;: &quot;Feature&quot;}, {&quot;bbox&quot;: [1.2225866666666667, 5.94191, 1.2225866666666667, 5.94191], &quot;geometry&quot;: {&quot;coordinates&quot;: [1.2225866666666667, 5.94191], &quot;type&quot;: &quot;Point&quot;}, &quot;id&quot;: &quot;269&quot;, &quot;properties&quot;: {&quot;__folium_color&quot;: &quot;#ffbb78&quot;, &quot;index&quot;: 2442, &quot;week&quot;: &quot;2022-04-04&quot;}, &quot;type&quot;: &quot;Feature&quot;}, {&quot;bbox&quot;: [1.2227, 5.941378333333334, 1.2227, 5.941378333333334], &quot;geometry&quot;: {&quot;coordinates&quot;: [1.2227, 5.941378333333334], &quot;type&quot;: &quot;Point&quot;}, &quot;id&quot;: &quot;270&quot;, &quot;properties&quot;: {&quot;__folium_color&quot;: &quot;#ffbb78&quot;, &quot;index&quot;: 2443, &quot;week&quot;: &quot;2022-04-04&quot;}, &quot;type&quot;: &quot;Feature&quot;}, {&quot;bbox&quot;: [1.2227533333333334, 5.940828333333333, 1.2227533333333334, 5.940828333333333], &quot;geometry&quot;: {&quot;coordinates&quot;: [1.2227533333333334, 5.940828333333333], &quot;type&quot;: &quot;Point&quot;}, &quot;id&quot;: &quot;271&quot;, &quot;properties&quot;: {&quot;__folium_color&quot;: &quot;#ffbb78&quot;, &quot;index&quot;: 2444, &quot;week&quot;: &quot;2022-04-04&quot;}, &quot;type&quot;: &quot;Feature&quot;}, {&quot;bbox&quot;: [1.2227666666666666, 5.941551666666666, 1.2227666666666666, 5.941551666666666], &quot;geometry&quot;: {&quot;coordinates&quot;: [1.2227666666666666, 5.941551666666666], &quot;type&quot;: &quot;Point&quot;}, &quot;id&quot;: &quot;272&quot;, &quot;properties&quot;: {&quot;__folium_color&quot;: &quot;#ffbb78&quot;, &quot;index&quot;: 2445, &quot;week&quot;: &quot;2022-04-04&quot;}, &quot;type&quot;: &quot;Feature&quot;}, {&quot;bbox&quot;: [1.2229, 5.942421666666666, 1.2229, 5.942421666666666], &quot;geometry&quot;: {&quot;coordinates&quot;: [1.2229, 5.942421666666666], &quot;type&quot;: &quot;Point&quot;}, &quot;id&quot;: &quot;273&quot;, &quot;properties&quot;: {&quot;__folium_color&quot;: &quot;#ffbb78&quot;, &quot;index&quot;: 2446, &quot;week&quot;: &quot;2022-04-04&quot;}, &quot;type&quot;: &quot;Feature&quot;}, {&quot;bbox&quot;: [1.22263, 5.94194, 1.22263, 5.94194], &quot;geometry&quot;: {&quot;coordinates&quot;: [1.22263, 5.94194], &quot;type&quot;: &quot;Point&quot;}, &quot;id&quot;: &quot;274&quot;, &quot;properties&quot;: {&quot;__folium_color&quot;: &quot;#ffbb78&quot;, &quot;index&quot;: 2447, &quot;week&quot;: &quot;2022-04-04&quot;}, &quot;type&quot;: &quot;Feature&quot;}, {&quot;bbox&quot;: [1.2226533333333334, 5.942095, 1.2226533333333334, 5.942095], &quot;geometry&quot;: {&quot;coordinates&quot;: [1.2226533333333334, 5.942095], &quot;type&quot;: &quot;Point&quot;}, &quot;id&quot;: &quot;275&quot;, &quot;properties&quot;: {&quot;__folium_color&quot;: &quot;#ffbb78&quot;, &quot;index&quot;: 2448, &quot;week&quot;: &quot;2022-04-04&quot;}, &quot;type&quot;: &quot;Feature&quot;}, {&quot;bbox&quot;: [1.22271, 5.942318333333334, 1.22271, 5.942318333333334], &quot;geometry&quot;: {&quot;coordinates&quot;: [1.22271, 5.942318333333334], &quot;type&quot;: &quot;Point&quot;}, &quot;id&quot;: &quot;276&quot;, &quot;properties&quot;: {&quot;__folium_color&quot;: &quot;#ffbb78&quot;, &quot;index&quot;: 2449, &quot;week&quot;: &quot;2022-04-04&quot;}, &quot;type&quot;: &quot;Feature&quot;}, {&quot;bbox&quot;: [1.224085, 5.941116666666667, 1.224085, 5.941116666666667], &quot;geometry&quot;: {&quot;coordinates&quot;: [1.224085, 5.941116666666667], &quot;type&quot;: &quot;Point&quot;}, &quot;id&quot;: &quot;277&quot;, &quot;properties&quot;: {&quot;__folium_color&quot;: &quot;#ffbb78&quot;, &quot;index&quot;: 2450, &quot;week&quot;: &quot;2022-04-04&quot;}, &quot;type&quot;: &quot;Feature&quot;}, {&quot;bbox&quot;: [1.22559, 5.939776666666667, 1.22559, 5.939776666666667], &quot;geometry&quot;: {&quot;coordinates&quot;: [1.22559, 5.939776666666667], &quot;type&quot;: &quot;Point&quot;}, &quot;id&quot;: &quot;278&quot;, &quot;properties&quot;: {&quot;__folium_color&quot;: &quot;#ffbb78&quot;, &quot;index&quot;: 2451, &quot;week&quot;: &quot;2022-04-04&quot;}, &quot;type&quot;: &quot;Feature&quot;}, {&quot;bbox&quot;: [1.2151766666666666, 5.94274, 1.2151766666666666, 5.94274], &quot;geometry&quot;: {&quot;coordinates&quot;: [1.2151766666666666, 5.94274], &quot;type&quot;: &quot;Point&quot;}, &quot;id&quot;: &quot;279&quot;, &quot;properties&quot;: {&quot;__folium_color&quot;: &quot;#ffbb78&quot;, &quot;index&quot;: 2452, &quot;week&quot;: &quot;2022-04-04&quot;}, &quot;type&quot;: &quot;Feature&quot;}, {&quot;bbox&quot;: [1.21283, 5.955308333333333, 1.21283, 5.955308333333333], &quot;geometry&quot;: {&quot;coordinates&quot;: [1.21283, 5.955308333333333], &quot;type&quot;: &quot;Point&quot;}, &quot;id&quot;: &quot;280&quot;, &quot;properties&quot;: {&quot;__folium_color&quot;: &quot;#ffbb78&quot;, &quot;index&quot;: 2453, &quot;week&quot;: &quot;2022-04-04&quot;}, &quot;type&quot;: &quot;Feature&quot;}, {&quot;bbox&quot;: [1.2149883333333331, 5.964108333333333, 1.2149883333333331, 5.964108333333333], &quot;geometry&quot;: {&quot;coordinates&quot;: [1.2149883333333331, 5.964108333333333], &quot;type&quot;: &quot;Point&quot;}, &quot;id&quot;: &quot;281&quot;, &quot;properties&quot;: {&quot;__folium_color&quot;: &quot;#ffbb78&quot;, &quot;index&quot;: 2454, &quot;week&quot;: &quot;2022-04-04&quot;}, &quot;type&quot;: &quot;Feature&quot;}, {&quot;bbox&quot;: [1.219225, 5.972823333333333, 1.219225, 5.972823333333333], &quot;geometry&quot;: {&quot;coordinates&quot;: [1.219225, 5.972823333333333], &quot;type&quot;: &quot;Point&quot;}, &quot;id&quot;: &quot;282&quot;, &quot;properties&quot;: {&quot;__folium_color&quot;: &quot;#ffbb78&quot;, &quot;index&quot;: 2455, &quot;week&quot;: &quot;2022-04-04&quot;}, &quot;type&quot;: &quot;Feature&quot;}, {&quot;bbox&quot;: [1.226565, 5.985686666666667, 1.226565, 5.985686666666667], &quot;geometry&quot;: {&quot;coordinates&quot;: [1.226565, 5.985686666666667], &quot;type&quot;: &quot;Point&quot;}, &quot;id&quot;: &quot;283&quot;, &quot;properties&quot;: {&quot;__folium_color&quot;: &quot;#ffbb78&quot;, &quot;index&quot;: 2456, &quot;week&quot;: &quot;2022-04-04&quot;}, &quot;type&quot;: &quot;Feature&quot;}, {&quot;bbox&quot;: [1.2335183333333333, 5.993881666666667, 1.2335183333333333, 5.993881666666667], &quot;geometry&quot;: {&quot;coordinates&quot;: [1.2335183333333333, 5.993881666666667], &quot;type&quot;: &quot;Point&quot;}, &quot;id&quot;: &quot;284&quot;, &quot;properties&quot;: {&quot;__folium_color&quot;: &quot;#ffbb78&quot;, &quot;index&quot;: 2457, &quot;week&quot;: &quot;2022-04-04&quot;}, &quot;type&quot;: &quot;Feature&quot;}, {&quot;bbox&quot;: [1.23794, 5.998423333333333, 1.23794, 5.998423333333333], &quot;geometry&quot;: {&quot;coordinates&quot;: [1.23794, 5.998423333333333], &quot;type&quot;: &quot;Point&quot;}, &quot;id&quot;: &quot;285&quot;, &quot;properties&quot;: {&quot;__folium_color&quot;: &quot;#ffbb78&quot;, &quot;index&quot;: 2458, &quot;week&quot;: &quot;2022-04-04&quot;}, &quot;type&quot;: &quot;Feature&quot;}, {&quot;bbox&quot;: [1.2381366666666669, 5.998453333333333, 1.2381366666666669, 5.998453333333333], &quot;geometry&quot;: {&quot;coordinates&quot;: [1.2381366666666669, 5.998453333333333], &quot;type&quot;: &quot;Point&quot;}, &quot;id&quot;: &quot;286&quot;, &quot;properties&quot;: {&quot;__folium_color&quot;: &quot;#ffbb78&quot;, &quot;index&quot;: 2459, &quot;week&quot;: &quot;2022-04-04&quot;}, &quot;type&quot;: &quot;Feature&quot;}, {&quot;bbox&quot;: [1.2383816666666667, 5.998465, 1.2383816666666667, 5.998465], &quot;geometry&quot;: {&quot;coordinates&quot;: [1.2383816666666667, 5.998465], &quot;type&quot;: &quot;Point&quot;}, &quot;id&quot;: &quot;287&quot;, &quot;properties&quot;: {&quot;__folium_color&quot;: &quot;#ffbb78&quot;, &quot;index&quot;: 2460, &quot;week&quot;: &quot;2022-04-04&quot;}, &quot;type&quot;: &quot;Feature&quot;}, {&quot;bbox&quot;: [1.2384866666666667, 5.998398333333333, 1.2384866666666667, 5.998398333333333], &quot;geometry&quot;: {&quot;coordinates&quot;: [1.2384866666666667, 5.998398333333333], &quot;type&quot;: &quot;Point&quot;}, &quot;id&quot;: &quot;288&quot;, &quot;properties&quot;: {&quot;__folium_color&quot;: &quot;#ffbb78&quot;, &quot;index&quot;: 2461, &quot;week&quot;: &quot;2022-04-04&quot;}, &quot;type&quot;: &quot;Feature&quot;}, {&quot;bbox&quot;: [1.2381183333333334, 5.998398333333333, 1.2381183333333334, 5.998398333333333], &quot;geometry&quot;: {&quot;coordinates&quot;: [1.2381183333333334, 5.998398333333333], &quot;type&quot;: &quot;Point&quot;}, &quot;id&quot;: &quot;289&quot;, &quot;properties&quot;: {&quot;__folium_color&quot;: &quot;#ffbb78&quot;, &quot;index&quot;: 2462, &quot;week&quot;: &quot;2022-04-04&quot;}, &quot;type&quot;: &quot;Feature&quot;}, {&quot;bbox&quot;: [1.23861, 5.99833, 1.23861, 5.99833], &quot;geometry&quot;: {&quot;coordinates&quot;: [1.23861, 5.99833], &quot;type&quot;: &quot;Point&quot;}, &quot;id&quot;: &quot;290&quot;, &quot;properties&quot;: {&quot;__folium_color&quot;: &quot;#ffbb78&quot;, &quot;index&quot;: 2463, &quot;week&quot;: &quot;2022-04-04&quot;}, &quot;type&quot;: &quot;Feature&quot;}, {&quot;bbox&quot;: [1.2389016666666666, 5.998328333333333, 1.2389016666666666, 5.998328333333333], &quot;geometry&quot;: {&quot;coordinates&quot;: [1.2389016666666666, 5.998328333333333], &quot;type&quot;: &quot;Point&quot;}, &quot;id&quot;: &quot;291&quot;, &quot;properties&quot;: {&quot;__folium_color&quot;: &quot;#ffbb78&quot;, &quot;index&quot;: 2464, &quot;week&quot;: &quot;2022-04-04&quot;}, &quot;type&quot;: &quot;Feature&quot;}, {&quot;bbox&quot;: [1.2387583333333334, 5.998331666666667, 1.2387583333333334, 5.998331666666667], &quot;geometry&quot;: {&quot;coordinates&quot;: [1.2387583333333334, 5.998331666666667], &quot;type&quot;: &quot;Point&quot;}, &quot;id&quot;: &quot;292&quot;, &quot;properties&quot;: {&quot;__folium_color&quot;: &quot;#ffbb78&quot;, &quot;index&quot;: 2465, &quot;week&quot;: &quot;2022-04-04&quot;}, &quot;type&quot;: &quot;Feature&quot;}, {&quot;bbox&quot;: [1.239175, 5.998168333333333, 1.239175, 5.998168333333333], &quot;geometry&quot;: {&quot;coordinates&quot;: [1.239175, 5.998168333333333], &quot;type&quot;: &quot;Point&quot;}, &quot;id&quot;: &quot;293&quot;, &quot;properties&quot;: {&quot;__folium_color&quot;: &quot;#ffbb78&quot;, &quot;index&quot;: 2466, &quot;week&quot;: &quot;2022-04-04&quot;}, &quot;type&quot;: &quot;Feature&quot;}, {&quot;bbox&quot;: [1.239015, 5.998366666666667, 1.239015, 5.998366666666667], &quot;geometry&quot;: {&quot;coordinates&quot;: [1.239015, 5.998366666666667], &quot;type&quot;: &quot;Point&quot;}, &quot;id&quot;: &quot;294&quot;, &quot;properties&quot;: {&quot;__folium_color&quot;: &quot;#2ca02c&quot;, &quot;index&quot;: 2467, &quot;week&quot;: &quot;2022-04-11&quot;}, &quot;type&quot;: &quot;Feature&quot;}, {&quot;bbox&quot;: [1.2391, 5.998241666666667, 1.2391, 5.998241666666667], &quot;geometry&quot;: {&quot;coordinates&quot;: [1.2391, 5.998241666666667], &quot;type&quot;: &quot;Point&quot;}, &quot;id&quot;: &quot;295&quot;, &quot;properties&quot;: {&quot;__folium_color&quot;: &quot;#2ca02c&quot;, &quot;index&quot;: 2468, &quot;week&quot;: &quot;2022-04-11&quot;}, &quot;type&quot;: &quot;Feature&quot;}, {&quot;bbox&quot;: [1.2390616666666667, 5.998245, 1.2390616666666667, 5.998245], &quot;geometry&quot;: {&quot;coordinates&quot;: [1.2390616666666667, 5.998245], &quot;type&quot;: &quot;Point&quot;}, &quot;id&quot;: &quot;296&quot;, &quot;properties&quot;: {&quot;__folium_color&quot;: &quot;#2ca02c&quot;, &quot;index&quot;: 2469, &quot;week&quot;: &quot;2022-04-11&quot;}, &quot;type&quot;: &quot;Feature&quot;}, {&quot;bbox&quot;: [1.238995, 5.998243333333333, 1.238995, 5.998243333333333], &quot;geometry&quot;: {&quot;coordinates&quot;: [1.238995, 5.998243333333333], &quot;type&quot;: &quot;Point&quot;}, &quot;id&quot;: &quot;297&quot;, &quot;properties&quot;: {&quot;__folium_color&quot;: &quot;#2ca02c&quot;, &quot;index&quot;: 2470, &quot;week&quot;: &quot;2022-04-11&quot;}, &quot;type&quot;: &quot;Feature&quot;}, {&quot;bbox&quot;: [1.2389716666666666, 5.998303333333333, 1.2389716666666666, 5.998303333333333], &quot;geometry&quot;: {&quot;coordinates&quot;: [1.2389716666666666, 5.998303333333333], &quot;type&quot;: &quot;Point&quot;}, &quot;id&quot;: &quot;298&quot;, &quot;properties&quot;: {&quot;__folium_color&quot;: &quot;#2ca02c&quot;, &quot;index&quot;: 2471, &quot;week&quot;: &quot;2022-04-11&quot;}, &quot;type&quot;: &quot;Feature&quot;}, {&quot;bbox&quot;: [1.2390783333333333, 5.998223333333334, 1.2390783333333333, 5.998223333333334], &quot;geometry&quot;: {&quot;coordinates&quot;: [1.2390783333333333, 5.998223333333334], &quot;type&quot;: &quot;Point&quot;}, &quot;id&quot;: &quot;299&quot;, &quot;properties&quot;: {&quot;__folium_color&quot;: &quot;#2ca02c&quot;, &quot;index&quot;: 2472, &quot;week&quot;: &quot;2022-04-11&quot;}, &quot;type&quot;: &quot;Feature&quot;}, {&quot;bbox&quot;: [1.2390616666666667, 5.99823, 1.2390616666666667, 5.99823], &quot;geometry&quot;: {&quot;coordinates&quot;: [1.2390616666666667, 5.99823], &quot;type&quot;: &quot;Point&quot;}, &quot;id&quot;: &quot;300&quot;, &quot;properties&quot;: {&quot;__folium_color&quot;: &quot;#2ca02c&quot;, &quot;index&quot;: 2473, &quot;week&quot;: &quot;2022-04-11&quot;}, &quot;type&quot;: &quot;Feature&quot;}, {&quot;bbox&quot;: [1.2394083333333332, 5.997996666666666, 1.2394083333333332, 5.997996666666666], &quot;geometry&quot;: {&quot;coordinates&quot;: [1.2394083333333332, 5.997996666666666], &quot;type&quot;: &quot;Point&quot;}, &quot;id&quot;: &quot;301&quot;, &quot;properties&quot;: {&quot;__folium_color&quot;: &quot;#2ca02c&quot;, &quot;index&quot;: 2474, &quot;week&quot;: &quot;2022-04-11&quot;}, &quot;type&quot;: &quot;Feature&quot;}, {&quot;bbox&quot;: [1.2393, 5.99797, 1.2393, 5.99797], &quot;geometry&quot;: {&quot;coordinates&quot;: [1.2393, 5.99797], &quot;type&quot;: &quot;Point&quot;}, &quot;id&quot;: &quot;302&quot;, &quot;properties&quot;: {&quot;__folium_color&quot;: &quot;#2ca02c&quot;, &quot;index&quot;: 2475, &quot;week&quot;: &quot;2022-04-11&quot;}, &quot;type&quot;: &quot;Feature&quot;}, {&quot;bbox&quot;: [1.238855, 5.998218333333333, 1.238855, 5.998218333333333], &quot;geometry&quot;: {&quot;coordinates&quot;: [1.238855, 5.998218333333333], &quot;type&quot;: &quot;Point&quot;}, &quot;id&quot;: &quot;303&quot;, &quot;properties&quot;: {&quot;__folium_color&quot;: &quot;#2ca02c&quot;, &quot;index&quot;: 2476, &quot;week&quot;: &quot;2022-04-11&quot;}, &quot;type&quot;: &quot;Feature&quot;}, {&quot;bbox&quot;: [1.2394166666666666, 5.997965, 1.2394166666666666, 5.997965], &quot;geometry&quot;: {&quot;coordinates&quot;: [1.2394166666666666, 5.997965], &quot;type&quot;: &quot;Point&quot;}, &quot;id&quot;: &quot;304&quot;, &quot;properties&quot;: {&quot;__folium_color&quot;: &quot;#2ca02c&quot;, &quot;index&quot;: 2477, &quot;week&quot;: &quot;2022-04-11&quot;}, &quot;type&quot;: &quot;Feature&quot;}, {&quot;bbox&quot;: [1.2395733333333334, 5.99781, 1.2395733333333334, 5.99781], &quot;geometry&quot;: {&quot;coordinates&quot;: [1.2395733333333334, 5.99781], &quot;type&quot;: &quot;Point&quot;}, &quot;id&quot;: &quot;305&quot;, &quot;properties&quot;: {&quot;__folium_color&quot;: &quot;#2ca02c&quot;, &quot;index&quot;: 2478, &quot;week&quot;: &quot;2022-04-11&quot;}, &quot;type&quot;: &quot;Feature&quot;}, {&quot;bbox&quot;: [1.2395683333333334, 5.997823333333334, 1.2395683333333334, 5.997823333333334], &quot;geometry&quot;: {&quot;coordinates&quot;: [1.2395683333333334, 5.997823333333334], &quot;type&quot;: &quot;Point&quot;}, &quot;id&quot;: &quot;306&quot;, &quot;properties&quot;: {&quot;__folium_color&quot;: &quot;#2ca02c&quot;, &quot;index&quot;: 2479, &quot;week&quot;: &quot;2022-04-11&quot;}, &quot;type&quot;: &quot;Feature&quot;}, {&quot;bbox&quot;: [1.2394833333333333, 5.998061666666667, 1.2394833333333333, 5.998061666666667], &quot;geometry&quot;: {&quot;coordinates&quot;: [1.2394833333333333, 5.998061666666667], &quot;type&quot;: &quot;Point&quot;}, &quot;id&quot;: &quot;307&quot;, &quot;properties&quot;: {&quot;__folium_color&quot;: &quot;#2ca02c&quot;, &quot;index&quot;: 2480, &quot;week&quot;: &quot;2022-04-11&quot;}, &quot;type&quot;: &quot;Feature&quot;}, {&quot;bbox&quot;: [1.239458333333333, 5.998036666666667, 1.239458333333333, 5.998036666666667], &quot;geometry&quot;: {&quot;coordinates&quot;: [1.239458333333333, 5.998036666666667], &quot;type&quot;: &quot;Point&quot;}, &quot;id&quot;: &quot;308&quot;, &quot;properties&quot;: {&quot;__folium_color&quot;: &quot;#2ca02c&quot;, &quot;index&quot;: 2481, &quot;week&quot;: &quot;2022-04-11&quot;}, &quot;type&quot;: &quot;Feature&quot;}, {&quot;bbox&quot;: [1.2394933333333331, 5.998083333333334, 1.2394933333333331, 5.998083333333334], &quot;geometry&quot;: {&quot;coordinates&quot;: [1.2394933333333331, 5.998083333333334], &quot;type&quot;: &quot;Point&quot;}, &quot;id&quot;: &quot;309&quot;, &quot;properties&quot;: {&quot;__folium_color&quot;: &quot;#2ca02c&quot;, &quot;index&quot;: 2482, &quot;week&quot;: &quot;2022-04-11&quot;}, &quot;type&quot;: &quot;Feature&quot;}, {&quot;bbox&quot;: [1.239435, 5.998033333333334, 1.239435, 5.998033333333334], &quot;geometry&quot;: {&quot;coordinates&quot;: [1.239435, 5.998033333333334], &quot;type&quot;: &quot;Point&quot;}, &quot;id&quot;: &quot;310&quot;, &quot;properties&quot;: {&quot;__folium_color&quot;: &quot;#2ca02c&quot;, &quot;index&quot;: 2483, &quot;week&quot;: &quot;2022-04-11&quot;}, &quot;type&quot;: &quot;Feature&quot;}, {&quot;bbox&quot;: [1.2396033333333334, 5.997881666666666, 1.2396033333333334, 5.997881666666666], &quot;geometry&quot;: {&quot;coordinates&quot;: [1.2396033333333334, 5.997881666666666], &quot;type&quot;: &quot;Point&quot;}, &quot;id&quot;: &quot;311&quot;, &quot;properties&quot;: {&quot;__folium_color&quot;: &quot;#2ca02c&quot;, &quot;index&quot;: 2484, &quot;week&quot;: &quot;2022-04-11&quot;}, &quot;type&quot;: &quot;Feature&quot;}, {&quot;bbox&quot;: [1.239585, 5.997866666666667, 1.239585, 5.997866666666667], &quot;geometry&quot;: {&quot;coordinates&quot;: [1.239585, 5.997866666666667], &quot;type&quot;: &quot;Point&quot;}, &quot;id&quot;: &quot;312&quot;, &quot;properties&quot;: {&quot;__folium_color&quot;: &quot;#2ca02c&quot;, &quot;index&quot;: 2485, &quot;week&quot;: &quot;2022-04-11&quot;}, &quot;type&quot;: &quot;Feature&quot;}, {&quot;bbox&quot;: [1.2395983333333334, 5.997865, 1.2395983333333334, 5.997865], &quot;geometry&quot;: {&quot;coordinates&quot;: [1.2395983333333334, 5.997865], &quot;type&quot;: &quot;Point&quot;}, &quot;id&quot;: &quot;313&quot;, &quot;properties&quot;: {&quot;__folium_color&quot;: &quot;#2ca02c&quot;, &quot;index&quot;: 2486, &quot;week&quot;: &quot;2022-04-11&quot;}, &quot;type&quot;: &quot;Feature&quot;}, {&quot;bbox&quot;: [1.2394066666666668, 5.998008333333333, 1.2394066666666668, 5.998008333333333], &quot;geometry&quot;: {&quot;coordinates&quot;: [1.2394066666666668, 5.998008333333333], &quot;type&quot;: &quot;Point&quot;}, &quot;id&quot;: &quot;314&quot;, &quot;properties&quot;: {&quot;__folium_color&quot;: &quot;#2ca02c&quot;, &quot;index&quot;: 2487, &quot;week&quot;: &quot;2022-04-11&quot;}, &quot;type&quot;: &quot;Feature&quot;}, {&quot;bbox&quot;: [1.23948, 5.998001666666666, 1.23948, 5.998001666666666], &quot;geometry&quot;: {&quot;coordinates&quot;: [1.23948, 5.998001666666666], &quot;type&quot;: &quot;Point&quot;}, &quot;id&quot;: &quot;315&quot;, &quot;properties&quot;: {&quot;__folium_color&quot;: &quot;#2ca02c&quot;, &quot;index&quot;: 2488, &quot;week&quot;: &quot;2022-04-11&quot;}, &quot;type&quot;: &quot;Feature&quot;}, {&quot;bbox&quot;: [1.2393966666666667, 5.998028333333333, 1.2393966666666667, 5.998028333333333], &quot;geometry&quot;: {&quot;coordinates&quot;: [1.2393966666666667, 5.998028333333333], &quot;type&quot;: &quot;Point&quot;}, &quot;id&quot;: &quot;316&quot;, &quot;properties&quot;: {&quot;__folium_color&quot;: &quot;#2ca02c&quot;, &quot;index&quot;: 2489, &quot;week&quot;: &quot;2022-04-11&quot;}, &quot;type&quot;: &quot;Feature&quot;}, {&quot;bbox&quot;: [1.239385, 5.998028333333333, 1.239385, 5.998028333333333], &quot;geometry&quot;: {&quot;coordinates&quot;: [1.239385, 5.998028333333333], &quot;type&quot;: &quot;Point&quot;}, &quot;id&quot;: &quot;317&quot;, &quot;properties&quot;: {&quot;__folium_color&quot;: &quot;#2ca02c&quot;, &quot;index&quot;: 2490, &quot;week&quot;: &quot;2022-04-11&quot;}, &quot;type&quot;: &quot;Feature&quot;}, {&quot;bbox&quot;: [1.2396216666666666, 5.997868333333333, 1.2396216666666666, 5.997868333333333], &quot;geometry&quot;: {&quot;coordinates&quot;: [1.2396216666666666, 5.997868333333333], &quot;type&quot;: &quot;Point&quot;}, &quot;id&quot;: &quot;318&quot;, &quot;properties&quot;: {&quot;__folium_color&quot;: &quot;#2ca02c&quot;, &quot;index&quot;: 2491, &quot;week&quot;: &quot;2022-04-11&quot;}, &quot;type&quot;: &quot;Feature&quot;}, {&quot;bbox&quot;: [1.239655, 5.997823333333334, 1.239655, 5.997823333333334], &quot;geometry&quot;: {&quot;coordinates&quot;: [1.239655, 5.997823333333334], &quot;type&quot;: &quot;Point&quot;}, &quot;id&quot;: &quot;319&quot;, &quot;properties&quot;: {&quot;__folium_color&quot;: &quot;#2ca02c&quot;, &quot;index&quot;: 2492, &quot;week&quot;: &quot;2022-04-11&quot;}, &quot;type&quot;: &quot;Feature&quot;}, {&quot;bbox&quot;: [1.239388333333333, 5.998086666666667, 1.239388333333333, 5.998086666666667], &quot;geometry&quot;: {&quot;coordinates&quot;: [1.239388333333333, 5.998086666666667], &quot;type&quot;: &quot;Point&quot;}, &quot;id&quot;: &quot;320&quot;, &quot;properties&quot;: {&quot;__folium_color&quot;: &quot;#2ca02c&quot;, &quot;index&quot;: 2493, &quot;week&quot;: &quot;2022-04-11&quot;}, &quot;type&quot;: &quot;Feature&quot;}, {&quot;bbox&quot;: [1.2392866666666666, 5.998183333333333, 1.2392866666666666, 5.998183333333333], &quot;geometry&quot;: {&quot;coordinates&quot;: [1.2392866666666666, 5.998183333333333], &quot;type&quot;: &quot;Point&quot;}, &quot;id&quot;: &quot;321&quot;, &quot;properties&quot;: {&quot;__folium_color&quot;: &quot;#2ca02c&quot;, &quot;index&quot;: 2494, &quot;week&quot;: &quot;2022-04-11&quot;}, &quot;type&quot;: &quot;Feature&quot;}, {&quot;bbox&quot;: [1.2391733333333332, 5.998286666666667, 1.2391733333333332, 5.998286666666667], &quot;geometry&quot;: {&quot;coordinates&quot;: [1.2391733333333332, 5.998286666666667], &quot;type&quot;: &quot;Point&quot;}, &quot;id&quot;: &quot;322&quot;, &quot;properties&quot;: {&quot;__folium_color&quot;: &quot;#2ca02c&quot;, &quot;index&quot;: 2495, &quot;week&quot;: &quot;2022-04-11&quot;}, &quot;type&quot;: &quot;Feature&quot;}, {&quot;bbox&quot;: [1.2389116666666666, 5.998386666666667, 1.2389116666666666, 5.998386666666667], &quot;geometry&quot;: {&quot;coordinates&quot;: [1.2389116666666666, 5.998386666666667], &quot;type&quot;: &quot;Point&quot;}, &quot;id&quot;: &quot;323&quot;, &quot;properties&quot;: {&quot;__folium_color&quot;: &quot;#2ca02c&quot;, &quot;index&quot;: 2496, &quot;week&quot;: &quot;2022-04-11&quot;}, &quot;type&quot;: &quot;Feature&quot;}, {&quot;bbox&quot;: [1.239185, 5.9982, 1.239185, 5.9982], &quot;geometry&quot;: {&quot;coordinates&quot;: [1.239185, 5.9982], &quot;type&quot;: &quot;Point&quot;}, &quot;id&quot;: &quot;324&quot;, &quot;properties&quot;: {&quot;__folium_color&quot;: &quot;#2ca02c&quot;, &quot;index&quot;: 2497, &quot;week&quot;: &quot;2022-04-11&quot;}, &quot;type&quot;: &quot;Feature&quot;}, {&quot;bbox&quot;: [1.239075, 5.998275, 1.239075, 5.998275], &quot;geometry&quot;: {&quot;coordinates&quot;: [1.239075, 5.998275], &quot;type&quot;: &quot;Point&quot;}, &quot;id&quot;: &quot;325&quot;, &quot;properties&quot;: {&quot;__folium_color&quot;: &quot;#2ca02c&quot;, &quot;index&quot;: 2498, &quot;week&quot;: &quot;2022-04-11&quot;}, &quot;type&quot;: &quot;Feature&quot;}, {&quot;bbox&quot;: [1.2390466666666666, 5.998238333333333, 1.2390466666666666, 5.998238333333333], &quot;geometry&quot;: {&quot;coordinates&quot;: [1.2390466666666666, 5.998238333333333], &quot;type&quot;: &quot;Point&quot;}, &quot;id&quot;: &quot;326&quot;, &quot;properties&quot;: {&quot;__folium_color&quot;: &quot;#2ca02c&quot;, &quot;index&quot;: 2499, &quot;week&quot;: &quot;2022-04-11&quot;}, &quot;type&quot;: &quot;Feature&quot;}, {&quot;bbox&quot;: [1.23921, 5.998131666666667, 1.23921, 5.998131666666667], &quot;geometry&quot;: {&quot;coordinates&quot;: [1.23921, 5.998131666666667], &quot;type&quot;: &quot;Point&quot;}, &quot;id&quot;: &quot;327&quot;, &quot;properties&quot;: {&quot;__folium_color&quot;: &quot;#2ca02c&quot;, &quot;index&quot;: 2500, &quot;week&quot;: &quot;2022-04-11&quot;}, &quot;type&quot;: &quot;Feature&quot;}, {&quot;bbox&quot;: [1.2391483333333333, 5.99824, 1.2391483333333333, 5.99824], &quot;geometry&quot;: {&quot;coordinates&quot;: [1.2391483333333333, 5.99824], &quot;type&quot;: &quot;Point&quot;}, &quot;id&quot;: &quot;328&quot;, &quot;properties&quot;: {&quot;__folium_color&quot;: &quot;#2ca02c&quot;, &quot;index&quot;: 2501, &quot;week&quot;: &quot;2022-04-11&quot;}, &quot;type&quot;: &quot;Feature&quot;}, {&quot;bbox&quot;: [1.2392183333333333, 5.998115, 1.2392183333333333, 5.998115], &quot;geometry&quot;: {&quot;coordinates&quot;: [1.2392183333333333, 5.998115], &quot;type&quot;: &quot;Point&quot;}, &quot;id&quot;: &quot;329&quot;, &quot;properties&quot;: {&quot;__folium_color&quot;: &quot;#2ca02c&quot;, &quot;index&quot;: 2502, &quot;week&quot;: &quot;2022-04-11&quot;}, &quot;type&quot;: &quot;Feature&quot;}, {&quot;bbox&quot;: [1.23967, 5.997775, 1.23967, 5.997775], &quot;geometry&quot;: {&quot;coordinates&quot;: [1.23967, 5.997775], &quot;type&quot;: &quot;Point&quot;}, &quot;id&quot;: &quot;330&quot;, &quot;properties&quot;: {&quot;__folium_color&quot;: &quot;#2ca02c&quot;, &quot;index&quot;: 2503, &quot;week&quot;: &quot;2022-04-11&quot;}, &quot;type&quot;: &quot;Feature&quot;}, {&quot;bbox&quot;: [1.2399633333333333, 5.997248333333333, 1.2399633333333333, 5.997248333333333], &quot;geometry&quot;: {&quot;coordinates&quot;: [1.2399633333333333, 5.997248333333333], &quot;type&quot;: &quot;Point&quot;}, &quot;id&quot;: &quot;331&quot;, &quot;properties&quot;: {&quot;__folium_color&quot;: &quot;#2ca02c&quot;, &quot;index&quot;: 2504, &quot;week&quot;: &quot;2022-04-11&quot;}, &quot;type&quot;: &quot;Feature&quot;}, {&quot;bbox&quot;: [1.2400116666666667, 5.997198333333333, 1.2400116666666667, 5.997198333333333], &quot;geometry&quot;: {&quot;coordinates&quot;: [1.2400116666666667, 5.997198333333333], &quot;type&quot;: &quot;Point&quot;}, &quot;id&quot;: &quot;332&quot;, &quot;properties&quot;: {&quot;__folium_color&quot;: &quot;#2ca02c&quot;, &quot;index&quot;: 2505, &quot;week&quot;: &quot;2022-04-11&quot;}, &quot;type&quot;: &quot;Feature&quot;}, {&quot;bbox&quot;: [1.2402266666666666, 5.996768333333334, 1.2402266666666666, 5.996768333333334], &quot;geometry&quot;: {&quot;coordinates&quot;: [1.2402266666666666, 5.996768333333334], &quot;type&quot;: &quot;Point&quot;}, &quot;id&quot;: &quot;333&quot;, &quot;properties&quot;: {&quot;__folium_color&quot;: &quot;#2ca02c&quot;, &quot;index&quot;: 2506, &quot;week&quot;: &quot;2022-04-11&quot;}, &quot;type&quot;: &quot;Feature&quot;}, {&quot;bbox&quot;: [1.2401783333333334, 5.997106666666666, 1.2401783333333334, 5.997106666666666], &quot;geometry&quot;: {&quot;coordinates&quot;: [1.2401783333333334, 5.997106666666666], &quot;type&quot;: &quot;Point&quot;}, &quot;id&quot;: &quot;334&quot;, &quot;properties&quot;: {&quot;__folium_color&quot;: &quot;#2ca02c&quot;, &quot;index&quot;: 2507, &quot;week&quot;: &quot;2022-04-11&quot;}, &quot;type&quot;: &quot;Feature&quot;}, {&quot;bbox&quot;: [1.240275, 5.996971666666667, 1.240275, 5.996971666666667], &quot;geometry&quot;: {&quot;coordinates&quot;: [1.240275, 5.996971666666667], &quot;type&quot;: &quot;Point&quot;}, &quot;id&quot;: &quot;335&quot;, &quot;properties&quot;: {&quot;__folium_color&quot;: &quot;#2ca02c&quot;, &quot;index&quot;: 2508, &quot;week&quot;: &quot;2022-04-11&quot;}, &quot;type&quot;: &quot;Feature&quot;}, {&quot;bbox&quot;: [1.2403633333333333, 5.996506666666667, 1.2403633333333333, 5.996506666666667], &quot;geometry&quot;: {&quot;coordinates&quot;: [1.2403633333333333, 5.996506666666667], &quot;type&quot;: &quot;Point&quot;}, &quot;id&quot;: &quot;336&quot;, &quot;properties&quot;: {&quot;__folium_color&quot;: &quot;#2ca02c&quot;, &quot;index&quot;: 2509, &quot;week&quot;: &quot;2022-04-11&quot;}, &quot;type&quot;: &quot;Feature&quot;}, {&quot;bbox&quot;: [1.2394116666666666, 5.996461666666667, 1.2394116666666666, 5.996461666666667], &quot;geometry&quot;: {&quot;coordinates&quot;: [1.2394116666666666, 5.996461666666667], &quot;type&quot;: &quot;Point&quot;}, &quot;id&quot;: &quot;337&quot;, &quot;properties&quot;: {&quot;__folium_color&quot;: &quot;#2ca02c&quot;, &quot;index&quot;: 2510, &quot;week&quot;: &quot;2022-04-11&quot;}, &quot;type&quot;: &quot;Feature&quot;}, {&quot;bbox&quot;: [1.2391333333333334, 5.99614, 1.2391333333333334, 5.99614], &quot;geometry&quot;: {&quot;coordinates&quot;: [1.2391333333333334, 5.99614], &quot;type&quot;: &quot;Point&quot;}, &quot;id&quot;: &quot;338&quot;, &quot;properties&quot;: {&quot;__folium_color&quot;: &quot;#2ca02c&quot;, &quot;index&quot;: 2511, &quot;week&quot;: &quot;2022-04-11&quot;}, &quot;type&quot;: &quot;Feature&quot;}, {&quot;bbox&quot;: [1.2392283333333334, 5.995818333333333, 1.2392283333333334, 5.995818333333333], &quot;geometry&quot;: {&quot;coordinates&quot;: [1.2392283333333334, 5.995818333333333], &quot;type&quot;: &quot;Point&quot;}, &quot;id&quot;: &quot;339&quot;, &quot;properties&quot;: {&quot;__folium_color&quot;: &quot;#2ca02c&quot;, &quot;index&quot;: 2512, &quot;week&quot;: &quot;2022-04-11&quot;}, &quot;type&quot;: &quot;Feature&quot;}, {&quot;bbox&quot;: [1.2392166666666666, 5.995411666666667, 1.2392166666666666, 5.995411666666667], &quot;geometry&quot;: {&quot;coordinates&quot;: [1.2392166666666666, 5.995411666666667], &quot;type&quot;: &quot;Point&quot;}, &quot;id&quot;: &quot;340&quot;, &quot;properties&quot;: {&quot;__folium_color&quot;: &quot;#2ca02c&quot;, &quot;index&quot;: 2513, &quot;week&quot;: &quot;2022-04-11&quot;}, &quot;type&quot;: &quot;Feature&quot;}, {&quot;bbox&quot;: [1.2295216666666666, 5.992726666666667, 1.2295216666666666, 5.992726666666667], &quot;geometry&quot;: {&quot;coordinates&quot;: [1.2295216666666666, 5.992726666666667], &quot;type&quot;: &quot;Point&quot;}, &quot;id&quot;: &quot;341&quot;, &quot;properties&quot;: {&quot;__folium_color&quot;: &quot;#2ca02c&quot;, &quot;index&quot;: 2514, &quot;week&quot;: &quot;2022-04-11&quot;}, &quot;type&quot;: &quot;Feature&quot;}, {&quot;bbox&quot;: [1.220411666666667, 5.984993333333334, 1.220411666666667, 5.984993333333334], &quot;geometry&quot;: {&quot;coordinates&quot;: [1.220411666666667, 5.984993333333334], &quot;type&quot;: &quot;Point&quot;}, &quot;id&quot;: &quot;342&quot;, &quot;properties&quot;: {&quot;__folium_color&quot;: &quot;#2ca02c&quot;, &quot;index&quot;: 2515, &quot;week&quot;: &quot;2022-04-11&quot;}, &quot;type&quot;: &quot;Feature&quot;}, {&quot;bbox&quot;: [1.212125, 5.966888333333333, 1.212125, 5.966888333333333], &quot;geometry&quot;: {&quot;coordinates&quot;: [1.212125, 5.966888333333333], &quot;type&quot;: &quot;Point&quot;}, &quot;id&quot;: &quot;343&quot;, &quot;properties&quot;: {&quot;__folium_color&quot;: &quot;#2ca02c&quot;, &quot;index&quot;: 2516, &quot;week&quot;: &quot;2022-04-11&quot;}, &quot;type&quot;: &quot;Feature&quot;}, {&quot;bbox&quot;: [1.2107116666666666, 5.9563733333333335, 1.2107116666666666, 5.9563733333333335], &quot;geometry&quot;: {&quot;coordinates&quot;: [1.2107116666666666, 5.9563733333333335], &quot;type&quot;: &quot;Point&quot;}, &quot;id&quot;: &quot;344&quot;, &quot;properties&quot;: {&quot;__folium_color&quot;: &quot;#2ca02c&quot;, &quot;index&quot;: 2517, &quot;week&quot;: &quot;2022-04-11&quot;}, &quot;type&quot;: &quot;Feature&quot;}, {&quot;bbox&quot;: [1.21239, 5.943278333333334, 1.21239, 5.943278333333334], &quot;geometry&quot;: {&quot;coordinates&quot;: [1.21239, 5.943278333333334], &quot;type&quot;: &quot;Point&quot;}, &quot;id&quot;: &quot;345&quot;, &quot;properties&quot;: {&quot;__folium_color&quot;: &quot;#2ca02c&quot;, &quot;index&quot;: 2518, &quot;week&quot;: &quot;2022-04-11&quot;}, &quot;type&quot;: &quot;Feature&quot;}, {&quot;bbox&quot;: [1.2167533333333334, 5.9353, 1.2167533333333334, 5.9353], &quot;geometry&quot;: {&quot;coordinates&quot;: [1.2167533333333334, 5.9353], &quot;type&quot;: &quot;Point&quot;}, &quot;id&quot;: &quot;346&quot;, &quot;properties&quot;: {&quot;__folium_color&quot;: &quot;#2ca02c&quot;, &quot;index&quot;: 2519, &quot;week&quot;: &quot;2022-04-11&quot;}, &quot;type&quot;: &quot;Feature&quot;}, {&quot;bbox&quot;: [1.224308333333333, 5.929901666666667, 1.224308333333333, 5.929901666666667], &quot;geometry&quot;: {&quot;coordinates&quot;: [1.224308333333333, 5.929901666666667], &quot;type&quot;: &quot;Point&quot;}, &quot;id&quot;: &quot;347&quot;, &quot;properties&quot;: {&quot;__folium_color&quot;: &quot;#2ca02c&quot;, &quot;index&quot;: 2520, &quot;week&quot;: &quot;2022-04-11&quot;}, &quot;type&quot;: &quot;Feature&quot;}, {&quot;bbox&quot;: [1.2334533333333333, 5.92827, 1.2334533333333333, 5.92827], &quot;geometry&quot;: {&quot;coordinates&quot;: [1.2334533333333333, 5.92827], &quot;type&quot;: &quot;Point&quot;}, &quot;id&quot;: &quot;348&quot;, &quot;properties&quot;: {&quot;__folium_color&quot;: &quot;#2ca02c&quot;, &quot;index&quot;: 2521, &quot;week&quot;: &quot;2022-04-11&quot;}, &quot;type&quot;: &quot;Feature&quot;}, {&quot;bbox&quot;: [1.2450933333333334, 5.932905, 1.2450933333333334, 5.932905], &quot;geometry&quot;: {&quot;coordinates&quot;: [1.2450933333333334, 5.932905], &quot;type&quot;: &quot;Point&quot;}, &quot;id&quot;: &quot;349&quot;, &quot;properties&quot;: {&quot;__folium_color&quot;: &quot;#2ca02c&quot;, &quot;index&quot;: 2522, &quot;week&quot;: &quot;2022-04-11&quot;}, &quot;type&quot;: &quot;Feature&quot;}, {&quot;bbox&quot;: [1.331935, 6.004401666666666, 1.331935, 6.004401666666666], &quot;geometry&quot;: {&quot;coordinates&quot;: [1.331935, 6.004401666666666], &quot;type&quot;: &quot;Point&quot;}, &quot;id&quot;: &quot;350&quot;, &quot;properties&quot;: {&quot;__folium_color&quot;: &quot;#2ca02c&quot;, &quot;index&quot;: 2523, &quot;week&quot;: &quot;2022-04-11&quot;}, &quot;type&quot;: &quot;Feature&quot;}, {&quot;bbox&quot;: [1.3457966666666668, 6.020151666666667, 1.3457966666666668, 6.020151666666667], &quot;geometry&quot;: {&quot;coordinates&quot;: [1.3457966666666668, 6.020151666666667], &quot;type&quot;: &quot;Point&quot;}, &quot;id&quot;: &quot;351&quot;, &quot;properties&quot;: {&quot;__folium_color&quot;: &quot;#2ca02c&quot;, &quot;index&quot;: 2524, &quot;week&quot;: &quot;2022-04-11&quot;}, &quot;type&quot;: &quot;Feature&quot;}, {&quot;bbox&quot;: [1.35112, 6.030375, 1.35112, 6.030375], &quot;geometry&quot;: {&quot;coordinates&quot;: [1.35112, 6.030375], &quot;type&quot;: &quot;Point&quot;}, &quot;id&quot;: &quot;352&quot;, &quot;properties&quot;: {&quot;__folium_color&quot;: &quot;#2ca02c&quot;, &quot;index&quot;: 2525, &quot;week&quot;: &quot;2022-04-11&quot;}, &quot;type&quot;: &quot;Feature&quot;}, {&quot;bbox&quot;: [1.3574233333333334, 6.05176, 1.3574233333333334, 6.05176], &quot;geometry&quot;: {&quot;coordinates&quot;: [1.3574233333333334, 6.05176], &quot;type&quot;: &quot;Point&quot;}, &quot;id&quot;: &quot;353&quot;, &quot;properties&quot;: {&quot;__folium_color&quot;: &quot;#2ca02c&quot;, &quot;index&quot;: 2526, &quot;week&quot;: &quot;2022-04-11&quot;}, &quot;type&quot;: &quot;Feature&quot;}, {&quot;bbox&quot;: [1.357885, 6.060771666666667, 1.357885, 6.060771666666667], &quot;geometry&quot;: {&quot;coordinates&quot;: [1.357885, 6.060771666666667], &quot;type&quot;: &quot;Point&quot;}, &quot;id&quot;: &quot;354&quot;, &quot;properties&quot;: {&quot;__folium_color&quot;: &quot;#2ca02c&quot;, &quot;index&quot;: 2527, &quot;week&quot;: &quot;2022-04-11&quot;}, &quot;type&quot;: &quot;Feature&quot;}, {&quot;bbox&quot;: [1.352175, 6.075695, 1.352175, 6.075695], &quot;geometry&quot;: {&quot;coordinates&quot;: [1.352175, 6.075695], &quot;type&quot;: &quot;Point&quot;}, &quot;id&quot;: &quot;355&quot;, &quot;properties&quot;: {&quot;__folium_color&quot;: &quot;#2ca02c&quot;, &quot;index&quot;: 2528, &quot;week&quot;: &quot;2022-04-11&quot;}, &quot;type&quot;: &quot;Feature&quot;}, {&quot;bbox&quot;: [1.3449183333333334, 6.08689, 1.3449183333333334, 6.08689], &quot;geometry&quot;: {&quot;coordinates&quot;: [1.3449183333333334, 6.08689], &quot;type&quot;: &quot;Point&quot;}, &quot;id&quot;: &quot;356&quot;, &quot;properties&quot;: {&quot;__folium_color&quot;: &quot;#2ca02c&quot;, &quot;index&quot;: 2529, &quot;week&quot;: &quot;2022-04-11&quot;}, &quot;type&quot;: &quot;Feature&quot;}, {&quot;bbox&quot;: [1.335435, 6.100688333333333, 1.335435, 6.100688333333333], &quot;geometry&quot;: {&quot;coordinates&quot;: [1.335435, 6.100688333333333], &quot;type&quot;: &quot;Point&quot;}, &quot;id&quot;: &quot;357&quot;, &quot;properties&quot;: {&quot;__folium_color&quot;: &quot;#2ca02c&quot;, &quot;index&quot;: 2530, &quot;week&quot;: &quot;2022-04-11&quot;}, &quot;type&quot;: &quot;Feature&quot;}, {&quot;bbox&quot;: [1.347985, 6.101636666666667, 1.347985, 6.101636666666667], &quot;geometry&quot;: {&quot;coordinates&quot;: [1.347985, 6.101636666666667], &quot;type&quot;: &quot;Point&quot;}, &quot;id&quot;: &quot;358&quot;, &quot;properties&quot;: {&quot;__folium_color&quot;: &quot;#2ca02c&quot;, &quot;index&quot;: 2531, &quot;week&quot;: &quot;2022-04-11&quot;}, &quot;type&quot;: &quot;Feature&quot;}, {&quot;bbox&quot;: [1.3413166666666667, 6.108465, 1.3413166666666667, 6.108465], &quot;geometry&quot;: {&quot;coordinates&quot;: [1.3413166666666667, 6.108465], &quot;type&quot;: &quot;Point&quot;}, &quot;id&quot;: &quot;359&quot;, &quot;properties&quot;: {&quot;__folium_color&quot;: &quot;#2ca02c&quot;, &quot;index&quot;: 2532, &quot;week&quot;: &quot;2022-04-11&quot;}, &quot;type&quot;: &quot;Feature&quot;}, {&quot;bbox&quot;: [1.331605, 6.108431666666666, 1.331605, 6.108431666666666], &quot;geometry&quot;: {&quot;coordinates&quot;: [1.331605, 6.108431666666666], &quot;type&quot;: &quot;Point&quot;}, &quot;id&quot;: &quot;360&quot;, &quot;properties&quot;: {&quot;__folium_color&quot;: &quot;#2ca02c&quot;, &quot;index&quot;: 2533, &quot;week&quot;: &quot;2022-04-11&quot;}, &quot;type&quot;: &quot;Feature&quot;}, {&quot;bbox&quot;: [1.3247266666666666, 6.106163333333333, 1.3247266666666666, 6.106163333333333], &quot;geometry&quot;: {&quot;coordinates&quot;: [1.3247266666666666, 6.106163333333333], &quot;type&quot;: &quot;Point&quot;}, &quot;id&quot;: &quot;361&quot;, &quot;properties&quot;: {&quot;__folium_color&quot;: &quot;#2ca02c&quot;, &quot;index&quot;: 2534, &quot;week&quot;: &quot;2022-04-11&quot;}, &quot;type&quot;: &quot;Feature&quot;}, {&quot;bbox&quot;: [1.3245116666666668, 6.104961666666667, 1.3245116666666668, 6.104961666666667], &quot;geometry&quot;: {&quot;coordinates&quot;: [1.3245116666666668, 6.104961666666667], &quot;type&quot;: &quot;Point&quot;}, &quot;id&quot;: &quot;362&quot;, &quot;properties&quot;: {&quot;__folium_color&quot;: &quot;#2ca02c&quot;, &quot;index&quot;: 2535, &quot;week&quot;: &quot;2022-04-11&quot;}, &quot;type&quot;: &quot;Feature&quot;}, {&quot;bbox&quot;: [1.3249433333333334, 6.095576666666667, 1.3249433333333334, 6.095576666666667], &quot;geometry&quot;: {&quot;coordinates&quot;: [1.3249433333333334, 6.095576666666667], &quot;type&quot;: &quot;Point&quot;}, &quot;id&quot;: &quot;363&quot;, &quot;properties&quot;: {&quot;__folium_color&quot;: &quot;#2ca02c&quot;, &quot;index&quot;: 2536, &quot;week&quot;: &quot;2022-04-11&quot;}, &quot;type&quot;: &quot;Feature&quot;}, {&quot;bbox&quot;: [1.3298266666666667, 6.083568333333333, 1.3298266666666667, 6.083568333333333], &quot;geometry&quot;: {&quot;coordinates&quot;: [1.3298266666666667, 6.083568333333333], &quot;type&quot;: &quot;Point&quot;}, &quot;id&quot;: &quot;364&quot;, &quot;properties&quot;: {&quot;__folium_color&quot;: &quot;#2ca02c&quot;, &quot;index&quot;: 2537, &quot;week&quot;: &quot;2022-04-11&quot;}, &quot;type&quot;: &quot;Feature&quot;}, {&quot;bbox&quot;: [1.3625466666666666, 6.029525, 1.3625466666666666, 6.029525], &quot;geometry&quot;: {&quot;coordinates&quot;: [1.3625466666666666, 6.029525], &quot;type&quot;: &quot;Point&quot;}, &quot;id&quot;: &quot;365&quot;, &quot;properties&quot;: {&quot;__folium_color&quot;: &quot;#2ca02c&quot;, &quot;index&quot;: 2538, &quot;week&quot;: &quot;2022-04-11&quot;}, &quot;type&quot;: &quot;Feature&quot;}, {&quot;bbox&quot;: [1.37054, 6.003263333333333, 1.37054, 6.003263333333333], &quot;geometry&quot;: {&quot;coordinates&quot;: [1.37054, 6.003263333333333], &quot;type&quot;: &quot;Point&quot;}, &quot;id&quot;: &quot;366&quot;, &quot;properties&quot;: {&quot;__folium_color&quot;: &quot;#2ca02c&quot;, &quot;index&quot;: 2539, &quot;week&quot;: &quot;2022-04-11&quot;}, &quot;type&quot;: &quot;Feature&quot;}, {&quot;bbox&quot;: [1.3820966666666668, 5.9551, 1.3820966666666668, 5.9551], &quot;geometry&quot;: {&quot;coordinates&quot;: [1.3820966666666668, 5.9551], &quot;type&quot;: &quot;Point&quot;}, &quot;id&quot;: &quot;367&quot;, &quot;properties&quot;: {&quot;__folium_color&quot;: &quot;#2ca02c&quot;, &quot;index&quot;: 2540, &quot;week&quot;: &quot;2022-04-11&quot;}, &quot;type&quot;: &quot;Feature&quot;}, {&quot;bbox&quot;: [1.385655, 5.944931666666666, 1.385655, 5.944931666666666], &quot;geometry&quot;: {&quot;coordinates&quot;: [1.385655, 5.944931666666666], &quot;type&quot;: &quot;Point&quot;}, &quot;id&quot;: &quot;368&quot;, &quot;properties&quot;: {&quot;__folium_color&quot;: &quot;#2ca02c&quot;, &quot;index&quot;: 2541, &quot;week&quot;: &quot;2022-04-11&quot;}, &quot;type&quot;: &quot;Feature&quot;}, {&quot;bbox&quot;: [1.404335, 5.9051366666666665, 1.404335, 5.9051366666666665], &quot;geometry&quot;: {&quot;coordinates&quot;: [1.404335, 5.9051366666666665], &quot;type&quot;: &quot;Point&quot;}, &quot;id&quot;: &quot;369&quot;, &quot;properties&quot;: {&quot;__folium_color&quot;: &quot;#2ca02c&quot;, &quot;index&quot;: 2542, &quot;week&quot;: &quot;2022-04-11&quot;}, &quot;type&quot;: &quot;Feature&quot;}, {&quot;bbox&quot;: [1.407605, 5.894845, 1.407605, 5.894845], &quot;geometry&quot;: {&quot;coordinates&quot;: [1.407605, 5.894845], &quot;type&quot;: &quot;Point&quot;}, &quot;id&quot;: &quot;370&quot;, &quot;properties&quot;: {&quot;__folium_color&quot;: &quot;#2ca02c&quot;, &quot;index&quot;: 2543, &quot;week&quot;: &quot;2022-04-11&quot;}, &quot;type&quot;: &quot;Feature&quot;}, {&quot;bbox&quot;: [1.4095116666666667, 5.8843966666666665, 1.4095116666666667, 5.8843966666666665], &quot;geometry&quot;: {&quot;coordinates&quot;: [1.4095116666666667, 5.8843966666666665], &quot;type&quot;: &quot;Point&quot;}, &quot;id&quot;: &quot;371&quot;, &quot;properties&quot;: {&quot;__folium_color&quot;: &quot;#2ca02c&quot;, &quot;index&quot;: 2544, &quot;week&quot;: &quot;2022-04-11&quot;}, &quot;type&quot;: &quot;Feature&quot;}, {&quot;bbox&quot;: [1.4112, 5.862565, 1.4112, 5.862565], &quot;geometry&quot;: {&quot;coordinates&quot;: [1.4112, 5.862565], &quot;type&quot;: &quot;Point&quot;}, &quot;id&quot;: &quot;372&quot;, &quot;properties&quot;: {&quot;__folium_color&quot;: &quot;#2ca02c&quot;, &quot;index&quot;: 2545, &quot;week&quot;: &quot;2022-04-11&quot;}, &quot;type&quot;: &quot;Feature&quot;}, {&quot;bbox&quot;: [1.41477, 5.7513716666666665, 1.41477, 5.7513716666666665], &quot;geometry&quot;: {&quot;coordinates&quot;: [1.41477, 5.7513716666666665], &quot;type&quot;: &quot;Point&quot;}, &quot;id&quot;: &quot;373&quot;, &quot;properties&quot;: {&quot;__folium_color&quot;: &quot;#2ca02c&quot;, &quot;index&quot;: 2546, &quot;week&quot;: &quot;2022-04-11&quot;}, &quot;type&quot;: &quot;Feature&quot;}, {&quot;bbox&quot;: [1.4119766666666669, 5.741775, 1.4119766666666669, 5.741775], &quot;geometry&quot;: {&quot;coordinates&quot;: [1.4119766666666669, 5.741775], &quot;type&quot;: &quot;Point&quot;}, &quot;id&quot;: &quot;374&quot;, &quot;properties&quot;: {&quot;__folium_color&quot;: &quot;#2ca02c&quot;, &quot;index&quot;: 2547, &quot;week&quot;: &quot;2022-04-11&quot;}, &quot;type&quot;: &quot;Feature&quot;}, {&quot;bbox&quot;: [1.3921633333333334, 5.69481, 1.3921633333333334, 5.69481], &quot;geometry&quot;: {&quot;coordinates&quot;: [1.3921633333333334, 5.69481], &quot;type&quot;: &quot;Point&quot;}, &quot;id&quot;: &quot;375&quot;, &quot;properties&quot;: {&quot;__folium_color&quot;: &quot;#2ca02c&quot;, &quot;index&quot;: 2548, &quot;week&quot;: &quot;2022-04-11&quot;}, &quot;type&quot;: &quot;Feature&quot;}, {&quot;bbox&quot;: [1.2964866666666666, 5.482783333333333, 1.2964866666666666, 5.482783333333333], &quot;geometry&quot;: {&quot;coordinates&quot;: [1.2964866666666666, 5.482783333333333], &quot;type&quot;: &quot;Point&quot;}, &quot;id&quot;: &quot;376&quot;, &quot;properties&quot;: {&quot;__folium_color&quot;: &quot;#2ca02c&quot;, &quot;index&quot;: 2549, &quot;week&quot;: &quot;2022-04-11&quot;}, &quot;type&quot;: &quot;Feature&quot;}, {&quot;bbox&quot;: [1.1854083333333334, 5.22603, 1.1854083333333334, 5.22603], &quot;geometry&quot;: {&quot;coordinates&quot;: [1.1854083333333334, 5.22603], &quot;type&quot;: &quot;Point&quot;}, &quot;id&quot;: &quot;377&quot;, &quot;properties&quot;: {&quot;__folium_color&quot;: &quot;#2ca02c&quot;, &quot;index&quot;: 2550, &quot;week&quot;: &quot;2022-04-11&quot;}, &quot;type&quot;: &quot;Feature&quot;}, {&quot;bbox&quot;: [1.0870016666666666, 5.016701666666667, 1.0870016666666666, 5.016701666666667], &quot;geometry&quot;: {&quot;coordinates&quot;: [1.0870016666666666, 5.016701666666667], &quot;type&quot;: &quot;Point&quot;}, &quot;id&quot;: &quot;378&quot;, &quot;properties&quot;: {&quot;__folium_color&quot;: &quot;#2ca02c&quot;, &quot;index&quot;: 2551, &quot;week&quot;: &quot;2022-04-11&quot;}, &quot;type&quot;: &quot;Feature&quot;}, {&quot;bbox&quot;: [23.150938333333333, 36.39239, 23.150938333333333, 36.39239], &quot;geometry&quot;: {&quot;coordinates&quot;: [23.150938333333333, 36.39239], &quot;type&quot;: &quot;Point&quot;}, &quot;id&quot;: &quot;379&quot;, &quot;properties&quot;: {&quot;__folium_color&quot;: &quot;#d62728&quot;, &quot;index&quot;: 3434, &quot;week&quot;: &quot;2022-05-09&quot;}, &quot;type&quot;: &quot;Feature&quot;}, {&quot;bbox&quot;: [22.928631666666668, 36.436205, 22.928631666666668, 36.436205], &quot;geometry&quot;: {&quot;coordinates&quot;: [22.928631666666668, 36.436205], &quot;type&quot;: &quot;Point&quot;}, &quot;id&quot;: &quot;380&quot;, &quot;properties&quot;: {&quot;__folium_color&quot;: &quot;#d62728&quot;, &quot;index&quot;: 3435, &quot;week&quot;: &quot;2022-05-09&quot;}, &quot;type&quot;: &quot;Feature&quot;}, {&quot;bbox&quot;: [22.866821666666667, 36.44240666666666, 22.866821666666667, 36.44240666666666], &quot;geometry&quot;: {&quot;coordinates&quot;: [22.866821666666667, 36.44240666666666], &quot;type&quot;: &quot;Point&quot;}, &quot;id&quot;: &quot;381&quot;, &quot;properties&quot;: {&quot;__folium_color&quot;: &quot;#d62728&quot;, &quot;index&quot;: 3436, &quot;week&quot;: &quot;2022-05-09&quot;}, &quot;type&quot;: &quot;Feature&quot;}, {&quot;bbox&quot;: [22.72725, 36.48559, 22.72725, 36.48559], &quot;geometry&quot;: {&quot;coordinates&quot;: [22.72725, 36.48559], &quot;type&quot;: &quot;Point&quot;}, &quot;id&quot;: &quot;382&quot;, &quot;properties&quot;: {&quot;__folium_color&quot;: &quot;#d62728&quot;, &quot;index&quot;: 3437, &quot;week&quot;: &quot;2022-05-09&quot;}, &quot;type&quot;: &quot;Feature&quot;}, {&quot;bbox&quot;: [22.713018333333338, 36.503526666666666, 22.713018333333338, 36.503526666666666], &quot;geometry&quot;: {&quot;coordinates&quot;: [22.713018333333338, 36.503526666666666], &quot;type&quot;: &quot;Point&quot;}, &quot;id&quot;: &quot;383&quot;, &quot;properties&quot;: {&quot;__folium_color&quot;: &quot;#d62728&quot;, &quot;index&quot;: 3438, &quot;week&quot;: &quot;2022-05-09&quot;}, &quot;type&quot;: &quot;Feature&quot;}, {&quot;bbox&quot;: [22.738976666666662, 36.506661666666666, 22.738976666666662, 36.506661666666666], &quot;geometry&quot;: {&quot;coordinates&quot;: [22.738976666666662, 36.506661666666666], &quot;type&quot;: &quot;Point&quot;}, &quot;id&quot;: &quot;384&quot;, &quot;properties&quot;: {&quot;__folium_color&quot;: &quot;#d62728&quot;, &quot;index&quot;: 3439, &quot;week&quot;: &quot;2022-05-09&quot;}, &quot;type&quot;: &quot;Feature&quot;}, {&quot;bbox&quot;: [22.75287, 36.499085, 22.75287, 36.499085], &quot;geometry&quot;: {&quot;coordinates&quot;: [22.75287, 36.499085], &quot;type&quot;: &quot;Point&quot;}, &quot;id&quot;: &quot;385&quot;, &quot;properties&quot;: {&quot;__folium_color&quot;: &quot;#d62728&quot;, &quot;index&quot;: 3440, &quot;week&quot;: &quot;2022-05-09&quot;}, &quot;type&quot;: &quot;Feature&quot;}, {&quot;bbox&quot;: [22.744595, 36.47246333333333, 22.744595, 36.47246333333333], &quot;geometry&quot;: {&quot;coordinates&quot;: [22.744595, 36.47246333333333], &quot;type&quot;: &quot;Point&quot;}, &quot;id&quot;: &quot;386&quot;, &quot;properties&quot;: {&quot;__folium_color&quot;: &quot;#d62728&quot;, &quot;index&quot;: 3441, &quot;week&quot;: &quot;2022-05-09&quot;}, &quot;type&quot;: &quot;Feature&quot;}, {&quot;bbox&quot;: [22.733468333333334, 36.464081666666665, 22.733468333333334, 36.464081666666665], &quot;geometry&quot;: {&quot;coordinates&quot;: [22.733468333333334, 36.464081666666665], &quot;type&quot;: &quot;Point&quot;}, &quot;id&quot;: &quot;387&quot;, &quot;properties&quot;: {&quot;__folium_color&quot;: &quot;#d62728&quot;, &quot;index&quot;: 3442, &quot;week&quot;: &quot;2022-05-09&quot;}, &quot;type&quot;: &quot;Feature&quot;}, {&quot;bbox&quot;: [22.72731, 36.467578333333336, 22.72731, 36.467578333333336], &quot;geometry&quot;: {&quot;coordinates&quot;: [22.72731, 36.467578333333336], &quot;type&quot;: &quot;Point&quot;}, &quot;id&quot;: &quot;388&quot;, &quot;properties&quot;: {&quot;__folium_color&quot;: &quot;#d62728&quot;, &quot;index&quot;: 3443, &quot;week&quot;: &quot;2022-05-09&quot;}, &quot;type&quot;: &quot;Feature&quot;}, {&quot;bbox&quot;: [22.728746666666662, 36.467005, 22.728746666666662, 36.467005], &quot;geometry&quot;: {&quot;coordinates&quot;: [22.728746666666662, 36.467005], &quot;type&quot;: &quot;Point&quot;}, &quot;id&quot;: &quot;389&quot;, &quot;properties&quot;: {&quot;__folium_color&quot;: &quot;#d62728&quot;, &quot;index&quot;: 3444, &quot;week&quot;: &quot;2022-05-09&quot;}, &quot;type&quot;: &quot;Feature&quot;}, {&quot;bbox&quot;: [22.729328333333335, 36.46554666666667, 22.729328333333335, 36.46554666666667], &quot;geometry&quot;: {&quot;coordinates&quot;: [22.729328333333335, 36.46554666666667], &quot;type&quot;: &quot;Point&quot;}, &quot;id&quot;: &quot;390&quot;, &quot;properties&quot;: {&quot;__folium_color&quot;: &quot;#d62728&quot;, &quot;index&quot;: 3445, &quot;week&quot;: &quot;2022-05-09&quot;}, &quot;type&quot;: &quot;Feature&quot;}, {&quot;bbox&quot;: [22.727561666666663, 36.46561833333333, 22.727561666666663, 36.46561833333333], &quot;geometry&quot;: {&quot;coordinates&quot;: [22.727561666666663, 36.46561833333333], &quot;type&quot;: &quot;Point&quot;}, &quot;id&quot;: &quot;391&quot;, &quot;properties&quot;: {&quot;__folium_color&quot;: &quot;#d62728&quot;, &quot;index&quot;: 3446, &quot;week&quot;: &quot;2022-05-09&quot;}, &quot;type&quot;: &quot;Feature&quot;}, {&quot;bbox&quot;: [22.726703333333333, 36.465698333333336, 22.726703333333333, 36.465698333333336], &quot;geometry&quot;: {&quot;coordinates&quot;: [22.726703333333333, 36.465698333333336], &quot;type&quot;: &quot;Point&quot;}, &quot;id&quot;: &quot;392&quot;, &quot;properties&quot;: {&quot;__folium_color&quot;: &quot;#d62728&quot;, &quot;index&quot;: 3447, &quot;week&quot;: &quot;2022-05-09&quot;}, &quot;type&quot;: &quot;Feature&quot;}, {&quot;bbox&quot;: [22.726543333333332, 36.46578, 22.726543333333332, 36.46578], &quot;geometry&quot;: {&quot;coordinates&quot;: [22.726543333333332, 36.46578], &quot;type&quot;: &quot;Point&quot;}, &quot;id&quot;: &quot;393&quot;, &quot;properties&quot;: {&quot;__folium_color&quot;: &quot;#d62728&quot;, &quot;index&quot;: 3448, &quot;week&quot;: &quot;2022-05-09&quot;}, &quot;type&quot;: &quot;Feature&quot;}, {&quot;bbox&quot;: [22.717915, 36.46942833333333, 22.717915, 36.46942833333333], &quot;geometry&quot;: {&quot;coordinates&quot;: [22.717915, 36.46942833333333], &quot;type&quot;: &quot;Point&quot;}, &quot;id&quot;: &quot;394&quot;, &quot;properties&quot;: {&quot;__folium_color&quot;: &quot;#d62728&quot;, &quot;index&quot;: 3449, &quot;week&quot;: &quot;2022-05-09&quot;}, &quot;type&quot;: &quot;Feature&quot;}, {&quot;bbox&quot;: [22.712811666666667, 36.46810166666667, 22.712811666666667, 36.46810166666667], &quot;geometry&quot;: {&quot;coordinates&quot;: [22.712811666666667, 36.46810166666667], &quot;type&quot;: &quot;Point&quot;}, &quot;id&quot;: &quot;395&quot;, &quot;properties&quot;: {&quot;__folium_color&quot;: &quot;#d62728&quot;, &quot;index&quot;: 3450, &quot;week&quot;: &quot;2022-05-09&quot;}, &quot;type&quot;: &quot;Feature&quot;}, {&quot;bbox&quot;: [22.707615, 36.472318333333334, 22.707615, 36.472318333333334], &quot;geometry&quot;: {&quot;coordinates&quot;: [22.707615, 36.472318333333334], &quot;type&quot;: &quot;Point&quot;}, &quot;id&quot;: &quot;396&quot;, &quot;properties&quot;: {&quot;__folium_color&quot;: &quot;#d62728&quot;, &quot;index&quot;: 3451, &quot;week&quot;: &quot;2022-05-09&quot;}, &quot;type&quot;: &quot;Feature&quot;}, {&quot;bbox&quot;: [22.705383333333337, 36.47958166666667, 22.705383333333337, 36.47958166666667], &quot;geometry&quot;: {&quot;coordinates&quot;: [22.705383333333337, 36.47958166666667], &quot;type&quot;: &quot;Point&quot;}, &quot;id&quot;: &quot;397&quot;, &quot;properties&quot;: {&quot;__folium_color&quot;: &quot;#d62728&quot;, &quot;index&quot;: 3452, &quot;week&quot;: &quot;2022-05-09&quot;}, &quot;type&quot;: &quot;Feature&quot;}, {&quot;bbox&quot;: [22.705196666666662, 36.481093333333334, 22.705196666666662, 36.481093333333334], &quot;geometry&quot;: {&quot;coordinates&quot;: [22.705196666666662, 36.481093333333334], &quot;type&quot;: &quot;Point&quot;}, &quot;id&quot;: &quot;398&quot;, &quot;properties&quot;: {&quot;__folium_color&quot;: &quot;#d62728&quot;, &quot;index&quot;: 3453, &quot;week&quot;: &quot;2022-05-09&quot;}, &quot;type&quot;: &quot;Feature&quot;}, {&quot;bbox&quot;: [22.70537, 36.48234333333333, 22.70537, 36.48234333333333], &quot;geometry&quot;: {&quot;coordinates&quot;: [22.70537, 36.48234333333333], &quot;type&quot;: &quot;Point&quot;}, &quot;id&quot;: &quot;399&quot;, &quot;properties&quot;: {&quot;__folium_color&quot;: &quot;#d62728&quot;, &quot;index&quot;: 3454, &quot;week&quot;: &quot;2022-05-09&quot;}, &quot;type&quot;: &quot;Feature&quot;}, {&quot;bbox&quot;: [22.704865, 36.486835, 22.704865, 36.486835], &quot;geometry&quot;: {&quot;coordinates&quot;: [22.704865, 36.486835], &quot;type&quot;: &quot;Point&quot;}, &quot;id&quot;: &quot;400&quot;, &quot;properties&quot;: {&quot;__folium_color&quot;: &quot;#d62728&quot;, &quot;index&quot;: 3455, &quot;week&quot;: &quot;2022-05-09&quot;}, &quot;type&quot;: &quot;Feature&quot;}, {&quot;bbox&quot;: [22.712846666666668, 36.488816666666665, 22.712846666666668, 36.488816666666665], &quot;geometry&quot;: {&quot;coordinates&quot;: [22.712846666666668, 36.488816666666665], &quot;type&quot;: &quot;Point&quot;}, &quot;id&quot;: &quot;401&quot;, &quot;properties&quot;: {&quot;__folium_color&quot;: &quot;#d62728&quot;, &quot;index&quot;: 3456, &quot;week&quot;: &quot;2022-05-09&quot;}, &quot;type&quot;: &quot;Feature&quot;}, {&quot;bbox&quot;: [22.714341666666662, 36.484366666666666, 22.714341666666662, 36.484366666666666], &quot;geometry&quot;: {&quot;coordinates&quot;: [22.714341666666662, 36.484366666666666], &quot;type&quot;: &quot;Point&quot;}, &quot;id&quot;: &quot;402&quot;, &quot;properties&quot;: {&quot;__folium_color&quot;: &quot;#d62728&quot;, &quot;index&quot;: 3457, &quot;week&quot;: &quot;2022-05-09&quot;}, &quot;type&quot;: &quot;Feature&quot;}, {&quot;bbox&quot;: [22.709718333333335, 36.47479166666667, 22.709718333333335, 36.47479166666667], &quot;geometry&quot;: {&quot;coordinates&quot;: [22.709718333333335, 36.47479166666667], &quot;type&quot;: &quot;Point&quot;}, &quot;id&quot;: &quot;403&quot;, &quot;properties&quot;: {&quot;__folium_color&quot;: &quot;#d62728&quot;, &quot;index&quot;: 3458, &quot;week&quot;: &quot;2022-05-09&quot;}, &quot;type&quot;: &quot;Feature&quot;}, {&quot;bbox&quot;: [22.71064, 36.47099, 22.71064, 36.47099], &quot;geometry&quot;: {&quot;coordinates&quot;: [22.71064, 36.47099], &quot;type&quot;: &quot;Point&quot;}, &quot;id&quot;: &quot;404&quot;, &quot;properties&quot;: {&quot;__folium_color&quot;: &quot;#d62728&quot;, &quot;index&quot;: 3459, &quot;week&quot;: &quot;2022-05-09&quot;}, &quot;type&quot;: &quot;Feature&quot;}, {&quot;bbox&quot;: [22.709875, 36.47053, 22.709875, 36.47053], &quot;geometry&quot;: {&quot;coordinates&quot;: [22.709875, 36.47053], &quot;type&quot;: &quot;Point&quot;}, &quot;id&quot;: &quot;405&quot;, &quot;properties&quot;: {&quot;__folium_color&quot;: &quot;#d62728&quot;, &quot;index&quot;: 3460, &quot;week&quot;: &quot;2022-05-09&quot;}, &quot;type&quot;: &quot;Feature&quot;}, {&quot;bbox&quot;: [22.708701666666663, 36.468788333333336, 22.708701666666663, 36.468788333333336], &quot;geometry&quot;: {&quot;coordinates&quot;: [22.708701666666663, 36.468788333333336], &quot;type&quot;: &quot;Point&quot;}, &quot;id&quot;: &quot;406&quot;, &quot;properties&quot;: {&quot;__folium_color&quot;: &quot;#d62728&quot;, &quot;index&quot;: 3461, &quot;week&quot;: &quot;2022-05-09&quot;}, &quot;type&quot;: &quot;Feature&quot;}, {&quot;bbox&quot;: [22.714285, 36.47192, 22.714285, 36.47192], &quot;geometry&quot;: {&quot;coordinates&quot;: [22.714285, 36.47192], &quot;type&quot;: &quot;Point&quot;}, &quot;id&quot;: &quot;407&quot;, &quot;properties&quot;: {&quot;__folium_color&quot;: &quot;#d62728&quot;, &quot;index&quot;: 3462, &quot;week&quot;: &quot;2022-05-09&quot;}, &quot;type&quot;: &quot;Feature&quot;}, {&quot;bbox&quot;: [22.721008333333337, 36.479326666666665, 22.721008333333337, 36.479326666666665], &quot;geometry&quot;: {&quot;coordinates&quot;: [22.721008333333337, 36.479326666666665], &quot;type&quot;: &quot;Point&quot;}, &quot;id&quot;: &quot;408&quot;, &quot;properties&quot;: {&quot;__folium_color&quot;: &quot;#d62728&quot;, &quot;index&quot;: 3463, &quot;week&quot;: &quot;2022-05-09&quot;}, &quot;type&quot;: &quot;Feature&quot;}, {&quot;bbox&quot;: [22.730315, 36.48587, 22.730315, 36.48587], &quot;geometry&quot;: {&quot;coordinates&quot;: [22.730315, 36.48587], &quot;type&quot;: &quot;Point&quot;}, &quot;id&quot;: &quot;409&quot;, &quot;properties&quot;: {&quot;__folium_color&quot;: &quot;#d62728&quot;, &quot;index&quot;: 3464, &quot;week&quot;: &quot;2022-05-09&quot;}, &quot;type&quot;: &quot;Feature&quot;}, {&quot;bbox&quot;: [22.733353333333337, 36.495895, 22.733353333333337, 36.495895], &quot;geometry&quot;: {&quot;coordinates&quot;: [22.733353333333337, 36.495895], &quot;type&quot;: &quot;Point&quot;}, &quot;id&quot;: &quot;410&quot;, &quot;properties&quot;: {&quot;__folium_color&quot;: &quot;#d62728&quot;, &quot;index&quot;: 3465, &quot;week&quot;: &quot;2022-05-09&quot;}, &quot;type&quot;: &quot;Feature&quot;}, {&quot;bbox&quot;: [22.738698333333332, 36.504415, 22.738698333333332, 36.504415], &quot;geometry&quot;: {&quot;coordinates&quot;: [22.738698333333332, 36.504415], &quot;type&quot;: &quot;Point&quot;}, &quot;id&quot;: &quot;411&quot;, &quot;properties&quot;: {&quot;__folium_color&quot;: &quot;#d62728&quot;, &quot;index&quot;: 3466, &quot;week&quot;: &quot;2022-05-09&quot;}, &quot;type&quot;: &quot;Feature&quot;}, {&quot;bbox&quot;: [22.741741666666663, 36.510085, 22.741741666666663, 36.510085], &quot;geometry&quot;: {&quot;coordinates&quot;: [22.741741666666663, 36.510085], &quot;type&quot;: &quot;Point&quot;}, &quot;id&quot;: &quot;412&quot;, &quot;properties&quot;: {&quot;__folium_color&quot;: &quot;#d62728&quot;, &quot;index&quot;: 3467, &quot;week&quot;: &quot;2022-05-09&quot;}, &quot;type&quot;: &quot;Feature&quot;}, {&quot;bbox&quot;: [22.750761666666666, 36.51575666666667, 22.750761666666666, 36.51575666666667], &quot;geometry&quot;: {&quot;coordinates&quot;: [22.750761666666666, 36.51575666666667], &quot;type&quot;: &quot;Point&quot;}, &quot;id&quot;: &quot;413&quot;, &quot;properties&quot;: {&quot;__folium_color&quot;: &quot;#d62728&quot;, &quot;index&quot;: 3468, &quot;week&quot;: &quot;2022-05-09&quot;}, &quot;type&quot;: &quot;Feature&quot;}, {&quot;bbox&quot;: [22.763113333333333, 36.515435, 22.763113333333333, 36.515435], &quot;geometry&quot;: {&quot;coordinates&quot;: [22.763113333333333, 36.515435], &quot;type&quot;: &quot;Point&quot;}, &quot;id&quot;: &quot;414&quot;, &quot;properties&quot;: {&quot;__folium_color&quot;: &quot;#d62728&quot;, &quot;index&quot;: 3469, &quot;week&quot;: &quot;2022-05-09&quot;}, &quot;type&quot;: &quot;Feature&quot;}, {&quot;bbox&quot;: [22.772783333333333, 36.51587166666667, 22.772783333333333, 36.51587166666667], &quot;geometry&quot;: {&quot;coordinates&quot;: [22.772783333333333, 36.51587166666667], &quot;type&quot;: &quot;Point&quot;}, &quot;id&quot;: &quot;415&quot;, &quot;properties&quot;: {&quot;__folium_color&quot;: &quot;#d62728&quot;, &quot;index&quot;: 3470, &quot;week&quot;: &quot;2022-05-09&quot;}, &quot;type&quot;: &quot;Feature&quot;}, {&quot;bbox&quot;: [22.773745, 36.51508833333333, 22.773745, 36.51508833333333], &quot;geometry&quot;: {&quot;coordinates&quot;: [22.773745, 36.51508833333333], &quot;type&quot;: &quot;Point&quot;}, &quot;id&quot;: &quot;416&quot;, &quot;properties&quot;: {&quot;__folium_color&quot;: &quot;#d62728&quot;, &quot;index&quot;: 3471, &quot;week&quot;: &quot;2022-05-09&quot;}, &quot;type&quot;: &quot;Feature&quot;}, {&quot;bbox&quot;: [22.772418333333334, 36.51502, 22.772418333333334, 36.51502], &quot;geometry&quot;: {&quot;coordinates&quot;: [22.772418333333334, 36.51502], &quot;type&quot;: &quot;Point&quot;}, &quot;id&quot;: &quot;417&quot;, &quot;properties&quot;: {&quot;__folium_color&quot;: &quot;#d62728&quot;, &quot;index&quot;: 3472, &quot;week&quot;: &quot;2022-05-09&quot;}, &quot;type&quot;: &quot;Feature&quot;}, {&quot;bbox&quot;: [22.763505, 36.517653333333335, 22.763505, 36.517653333333335], &quot;geometry&quot;: {&quot;coordinates&quot;: [22.763505, 36.517653333333335], &quot;type&quot;: &quot;Point&quot;}, &quot;id&quot;: &quot;418&quot;, &quot;properties&quot;: {&quot;__folium_color&quot;: &quot;#d62728&quot;, &quot;index&quot;: 3473, &quot;week&quot;: &quot;2022-05-09&quot;}, &quot;type&quot;: &quot;Feature&quot;}, {&quot;bbox&quot;: [22.75966, 36.518355, 22.75966, 36.518355], &quot;geometry&quot;: {&quot;coordinates&quot;: [22.75966, 36.518355], &quot;type&quot;: &quot;Point&quot;}, &quot;id&quot;: &quot;419&quot;, &quot;properties&quot;: {&quot;__folium_color&quot;: &quot;#ff9896&quot;, &quot;index&quot;: 3474, &quot;week&quot;: &quot;2022-05-16&quot;}, &quot;type&quot;: &quot;Feature&quot;}, {&quot;bbox&quot;: [22.755831666666666, 36.520705, 22.755831666666666, 36.520705], &quot;geometry&quot;: {&quot;coordinates&quot;: [22.755831666666666, 36.520705], &quot;type&quot;: &quot;Point&quot;}, &quot;id&quot;: &quot;420&quot;, &quot;properties&quot;: {&quot;__folium_color&quot;: &quot;#ff9896&quot;, &quot;index&quot;: 3475, &quot;week&quot;: &quot;2022-05-16&quot;}, &quot;type&quot;: &quot;Feature&quot;}, {&quot;bbox&quot;: [22.755613333333333, 36.52456166666666, 22.755613333333333, 36.52456166666666], &quot;geometry&quot;: {&quot;coordinates&quot;: [22.755613333333333, 36.52456166666666], &quot;type&quot;: &quot;Point&quot;}, &quot;id&quot;: &quot;421&quot;, &quot;properties&quot;: {&quot;__folium_color&quot;: &quot;#ff9896&quot;, &quot;index&quot;: 3476, &quot;week&quot;: &quot;2022-05-16&quot;}, &quot;type&quot;: &quot;Feature&quot;}, {&quot;bbox&quot;: [22.754515, 36.525063333333335, 22.754515, 36.525063333333335], &quot;geometry&quot;: {&quot;coordinates&quot;: [22.754515, 36.525063333333335], &quot;type&quot;: &quot;Point&quot;}, &quot;id&quot;: &quot;422&quot;, &quot;properties&quot;: {&quot;__folium_color&quot;: &quot;#ff9896&quot;, &quot;index&quot;: 3477, &quot;week&quot;: &quot;2022-05-16&quot;}, &quot;type&quot;: &quot;Feature&quot;}, {&quot;bbox&quot;: [22.751046666666667, 36.52563, 22.751046666666667, 36.52563], &quot;geometry&quot;: {&quot;coordinates&quot;: [22.751046666666667, 36.52563], &quot;type&quot;: &quot;Point&quot;}, &quot;id&quot;: &quot;423&quot;, &quot;properties&quot;: {&quot;__folium_color&quot;: &quot;#ff9896&quot;, &quot;index&quot;: 3478, &quot;week&quot;: &quot;2022-05-16&quot;}, &quot;type&quot;: &quot;Feature&quot;}, {&quot;bbox&quot;: [22.749323333333333, 36.52616, 22.749323333333333, 36.52616], &quot;geometry&quot;: {&quot;coordinates&quot;: [22.749323333333333, 36.52616], &quot;type&quot;: &quot;Point&quot;}, &quot;id&quot;: &quot;424&quot;, &quot;properties&quot;: {&quot;__folium_color&quot;: &quot;#ff9896&quot;, &quot;index&quot;: 3479, &quot;week&quot;: &quot;2022-05-16&quot;}, &quot;type&quot;: &quot;Feature&quot;}, {&quot;bbox&quot;: [22.739478333333334, 36.53225666666667, 22.739478333333334, 36.53225666666667], &quot;geometry&quot;: {&quot;coordinates&quot;: [22.739478333333334, 36.53225666666667], &quot;type&quot;: &quot;Point&quot;}, &quot;id&quot;: &quot;425&quot;, &quot;properties&quot;: {&quot;__folium_color&quot;: &quot;#ff9896&quot;, &quot;index&quot;: 3480, &quot;week&quot;: &quot;2022-05-16&quot;}, &quot;type&quot;: &quot;Feature&quot;}, {&quot;bbox&quot;: [22.734835, 36.52231666666667, 22.734835, 36.52231666666667], &quot;geometry&quot;: {&quot;coordinates&quot;: [22.734835, 36.52231666666667], &quot;type&quot;: &quot;Point&quot;}, &quot;id&quot;: &quot;426&quot;, &quot;properties&quot;: {&quot;__folium_color&quot;: &quot;#ff9896&quot;, &quot;index&quot;: 3481, &quot;week&quot;: &quot;2022-05-16&quot;}, &quot;type&quot;: &quot;Feature&quot;}, {&quot;bbox&quot;: [22.732021666666668, 36.52384333333333, 22.732021666666668, 36.52384333333333], &quot;geometry&quot;: {&quot;coordinates&quot;: [22.732021666666668, 36.52384333333333], &quot;type&quot;: &quot;Point&quot;}, &quot;id&quot;: &quot;427&quot;, &quot;properties&quot;: {&quot;__folium_color&quot;: &quot;#ff9896&quot;, &quot;index&quot;: 3482, &quot;week&quot;: &quot;2022-05-16&quot;}, &quot;type&quot;: &quot;Feature&quot;}, {&quot;bbox&quot;: [22.731463333333338, 36.52606166666666, 22.731463333333338, 36.52606166666666], &quot;geometry&quot;: {&quot;coordinates&quot;: [22.731463333333338, 36.52606166666666], &quot;type&quot;: &quot;Point&quot;}, &quot;id&quot;: &quot;428&quot;, &quot;properties&quot;: {&quot;__folium_color&quot;: &quot;#ff9896&quot;, &quot;index&quot;: 3483, &quot;week&quot;: &quot;2022-05-16&quot;}, &quot;type&quot;: &quot;Feature&quot;}, {&quot;bbox&quot;: [22.731373333333337, 36.526285, 22.731373333333337, 36.526285], &quot;geometry&quot;: {&quot;coordinates&quot;: [22.731373333333337, 36.526285], &quot;type&quot;: &quot;Point&quot;}, &quot;id&quot;: &quot;429&quot;, &quot;properties&quot;: {&quot;__folium_color&quot;: &quot;#ff9896&quot;, &quot;index&quot;: 3484, &quot;week&quot;: &quot;2022-05-16&quot;}, &quot;type&quot;: &quot;Feature&quot;}, {&quot;bbox&quot;: [22.73474, 36.528785, 22.73474, 36.528785], &quot;geometry&quot;: {&quot;coordinates&quot;: [22.73474, 36.528785], &quot;type&quot;: &quot;Point&quot;}, &quot;id&quot;: &quot;430&quot;, &quot;properties&quot;: {&quot;__folium_color&quot;: &quot;#ff9896&quot;, &quot;index&quot;: 3485, &quot;week&quot;: &quot;2022-05-16&quot;}, &quot;type&quot;: &quot;Feature&quot;}, {&quot;bbox&quot;: [22.738658333333333, 36.53465666666666, 22.738658333333333, 36.53465666666666], &quot;geometry&quot;: {&quot;coordinates&quot;: [22.738658333333333, 36.53465666666666], &quot;type&quot;: &quot;Point&quot;}, &quot;id&quot;: &quot;431&quot;, &quot;properties&quot;: {&quot;__folium_color&quot;: &quot;#ff9896&quot;, &quot;index&quot;: 3486, &quot;week&quot;: &quot;2022-05-16&quot;}, &quot;type&quot;: &quot;Feature&quot;}, {&quot;bbox&quot;: [22.747083333333332, 36.53675833333333, 22.747083333333332, 36.53675833333333], &quot;geometry&quot;: {&quot;coordinates&quot;: [22.747083333333332, 36.53675833333333], &quot;type&quot;: &quot;Point&quot;}, &quot;id&quot;: &quot;432&quot;, &quot;properties&quot;: {&quot;__folium_color&quot;: &quot;#ff9896&quot;, &quot;index&quot;: 3487, &quot;week&quot;: &quot;2022-05-16&quot;}, &quot;type&quot;: &quot;Feature&quot;}, {&quot;bbox&quot;: [22.748973333333332, 36.53682333333333, 22.748973333333332, 36.53682333333333], &quot;geometry&quot;: {&quot;coordinates&quot;: [22.748973333333332, 36.53682333333333], &quot;type&quot;: &quot;Point&quot;}, &quot;id&quot;: &quot;433&quot;, &quot;properties&quot;: {&quot;__folium_color&quot;: &quot;#ff9896&quot;, &quot;index&quot;: 3488, &quot;week&quot;: &quot;2022-05-16&quot;}, &quot;type&quot;: &quot;Feature&quot;}, {&quot;bbox&quot;: [22.750503333333334, 36.53608, 22.750503333333334, 36.53608], &quot;geometry&quot;: {&quot;coordinates&quot;: [22.750503333333334, 36.53608], &quot;type&quot;: &quot;Point&quot;}, &quot;id&quot;: &quot;434&quot;, &quot;properties&quot;: {&quot;__folium_color&quot;: &quot;#ff9896&quot;, &quot;index&quot;: 3489, &quot;week&quot;: &quot;2022-05-16&quot;}, &quot;type&quot;: &quot;Feature&quot;}, {&quot;bbox&quot;: [22.75240833333333, 36.53546166666667, 22.75240833333333, 36.53546166666667], &quot;geometry&quot;: {&quot;coordinates&quot;: [22.75240833333333, 36.53546166666667], &quot;type&quot;: &quot;Point&quot;}, &quot;id&quot;: &quot;435&quot;, &quot;properties&quot;: {&quot;__folium_color&quot;: &quot;#ff9896&quot;, &quot;index&quot;: 3490, &quot;week&quot;: &quot;2022-05-16&quot;}, &quot;type&quot;: &quot;Feature&quot;}, {&quot;bbox&quot;: [22.752155, 36.53520666666667, 22.752155, 36.53520666666667], &quot;geometry&quot;: {&quot;coordinates&quot;: [22.752155, 36.53520666666667], &quot;type&quot;: &quot;Point&quot;}, &quot;id&quot;: &quot;436&quot;, &quot;properties&quot;: {&quot;__folium_color&quot;: &quot;#ff9896&quot;, &quot;index&quot;: 3491, &quot;week&quot;: &quot;2022-05-16&quot;}, &quot;type&quot;: &quot;Feature&quot;}, {&quot;bbox&quot;: [22.740945, 36.55619, 22.740945, 36.55619], &quot;geometry&quot;: {&quot;coordinates&quot;: [22.740945, 36.55619], &quot;type&quot;: &quot;Point&quot;}, &quot;id&quot;: &quot;437&quot;, &quot;properties&quot;: {&quot;__folium_color&quot;: &quot;#ff9896&quot;, &quot;index&quot;: 3492, &quot;week&quot;: &quot;2022-05-16&quot;}, &quot;type&quot;: &quot;Feature&quot;}, {&quot;bbox&quot;: [22.716105, 36.611068333333336, 22.716105, 36.611068333333336], &quot;geometry&quot;: {&quot;coordinates&quot;: [22.716105, 36.611068333333336], &quot;type&quot;: &quot;Point&quot;}, &quot;id&quot;: &quot;438&quot;, &quot;properties&quot;: {&quot;__folium_color&quot;: &quot;#ff9896&quot;, &quot;index&quot;: 3493, &quot;week&quot;: &quot;2022-05-16&quot;}, &quot;type&quot;: &quot;Feature&quot;}, {&quot;bbox&quot;: [22.692825, 36.66112, 22.692825, 36.66112], &quot;geometry&quot;: {&quot;coordinates&quot;: [22.692825, 36.66112], &quot;type&quot;: &quot;Point&quot;}, &quot;id&quot;: &quot;439&quot;, &quot;properties&quot;: {&quot;__folium_color&quot;: &quot;#ff9896&quot;, &quot;index&quot;: 3494, &quot;week&quot;: &quot;2022-05-16&quot;}, &quot;type&quot;: &quot;Feature&quot;}, {&quot;bbox&quot;: [22.680548333333338, 36.677175, 22.680548333333338, 36.677175], &quot;geometry&quot;: {&quot;coordinates&quot;: [22.680548333333338, 36.677175], &quot;type&quot;: &quot;Point&quot;}, &quot;id&quot;: &quot;440&quot;, &quot;properties&quot;: {&quot;__folium_color&quot;: &quot;#ff9896&quot;, &quot;index&quot;: 3495, &quot;week&quot;: &quot;2022-05-16&quot;}, &quot;type&quot;: &quot;Feature&quot;}, {&quot;bbox&quot;: [22.699281666666668, 36.636175, 22.699281666666668, 36.636175], &quot;geometry&quot;: {&quot;coordinates&quot;: [22.699281666666668, 36.636175], &quot;type&quot;: &quot;Point&quot;}, &quot;id&quot;: &quot;441&quot;, &quot;properties&quot;: {&quot;__folium_color&quot;: &quot;#ff9896&quot;, &quot;index&quot;: 3496, &quot;week&quot;: &quot;2022-05-16&quot;}, &quot;type&quot;: &quot;Feature&quot;}, {&quot;bbox&quot;: [22.721921666666667, 36.58107, 22.721921666666667, 36.58107], &quot;geometry&quot;: {&quot;coordinates&quot;: [22.721921666666667, 36.58107], &quot;type&quot;: &quot;Point&quot;}, &quot;id&quot;: &quot;442&quot;, &quot;properties&quot;: {&quot;__folium_color&quot;: &quot;#ff9896&quot;, &quot;index&quot;: 3497, &quot;week&quot;: &quot;2022-05-16&quot;}, &quot;type&quot;: &quot;Feature&quot;}, {&quot;bbox&quot;: [22.717366666666667, 36.524725, 22.717366666666667, 36.524725], &quot;geometry&quot;: {&quot;coordinates&quot;: [22.717366666666667, 36.524725], &quot;type&quot;: &quot;Point&quot;}, &quot;id&quot;: &quot;443&quot;, &quot;properties&quot;: {&quot;__folium_color&quot;: &quot;#ff9896&quot;, &quot;index&quot;: 3498, &quot;week&quot;: &quot;2022-05-16&quot;}, &quot;type&quot;: &quot;Feature&quot;}, {&quot;bbox&quot;: [22.724406666666667, 36.494366666666664, 22.724406666666667, 36.494366666666664], &quot;geometry&quot;: {&quot;coordinates&quot;: [22.724406666666667, 36.494366666666664], &quot;type&quot;: &quot;Point&quot;}, &quot;id&quot;: &quot;444&quot;, &quot;properties&quot;: {&quot;__folium_color&quot;: &quot;#ff9896&quot;, &quot;index&quot;: 3499, &quot;week&quot;: &quot;2022-05-16&quot;}, &quot;type&quot;: &quot;Feature&quot;}, {&quot;bbox&quot;: [22.730328333333333, 36.48177666666667, 22.730328333333333, 36.48177666666667], &quot;geometry&quot;: {&quot;coordinates&quot;: [22.730328333333333, 36.48177666666667], &quot;type&quot;: &quot;Point&quot;}, &quot;id&quot;: &quot;445&quot;, &quot;properties&quot;: {&quot;__folium_color&quot;: &quot;#ff9896&quot;, &quot;index&quot;: 3500, &quot;week&quot;: &quot;2022-05-16&quot;}, &quot;type&quot;: &quot;Feature&quot;}, {&quot;bbox&quot;: [22.7334, 36.47787833333334, 22.7334, 36.47787833333334], &quot;geometry&quot;: {&quot;coordinates&quot;: [22.7334, 36.47787833333334], &quot;type&quot;: &quot;Point&quot;}, &quot;id&quot;: &quot;446&quot;, &quot;properties&quot;: {&quot;__folium_color&quot;: &quot;#ff9896&quot;, &quot;index&quot;: 3501, &quot;week&quot;: &quot;2022-05-16&quot;}, &quot;type&quot;: &quot;Feature&quot;}, {&quot;bbox&quot;: [22.73202, 36.478606666666664, 22.73202, 36.478606666666664], &quot;geometry&quot;: {&quot;coordinates&quot;: [22.73202, 36.478606666666664], &quot;type&quot;: &quot;Point&quot;}, &quot;id&quot;: &quot;447&quot;, &quot;properties&quot;: {&quot;__folium_color&quot;: &quot;#ff9896&quot;, &quot;index&quot;: 3502, &quot;week&quot;: &quot;2022-05-16&quot;}, &quot;type&quot;: &quot;Feature&quot;}, {&quot;bbox&quot;: [22.726551666666666, 36.47853, 22.726551666666666, 36.47853], &quot;geometry&quot;: {&quot;coordinates&quot;: [22.726551666666666, 36.47853], &quot;type&quot;: &quot;Point&quot;}, &quot;id&quot;: &quot;448&quot;, &quot;properties&quot;: {&quot;__folium_color&quot;: &quot;#ff9896&quot;, &quot;index&quot;: 3503, &quot;week&quot;: &quot;2022-05-16&quot;}, &quot;type&quot;: &quot;Feature&quot;}, {&quot;bbox&quot;: [22.71601666666667, 36.48025, 22.71601666666667, 36.48025], &quot;geometry&quot;: {&quot;coordinates&quot;: [22.71601666666667, 36.48025], &quot;type&quot;: &quot;Point&quot;}, &quot;id&quot;: &quot;449&quot;, &quot;properties&quot;: {&quot;__folium_color&quot;: &quot;#ff9896&quot;, &quot;index&quot;: 3504, &quot;week&quot;: &quot;2022-05-16&quot;}, &quot;type&quot;: &quot;Feature&quot;}, {&quot;bbox&quot;: [22.705853333333337, 36.48486666666667, 22.705853333333337, 36.48486666666667], &quot;geometry&quot;: {&quot;coordinates&quot;: [22.705853333333337, 36.48486666666667], &quot;type&quot;: &quot;Point&quot;}, &quot;id&quot;: &quot;450&quot;, &quot;properties&quot;: {&quot;__folium_color&quot;: &quot;#ff9896&quot;, &quot;index&quot;: 3505, &quot;week&quot;: &quot;2022-05-16&quot;}, &quot;type&quot;: &quot;Feature&quot;}, {&quot;bbox&quot;: [22.701928333333335, 36.48988833333333, 22.701928333333335, 36.48988833333333], &quot;geometry&quot;: {&quot;coordinates&quot;: [22.701928333333335, 36.48988833333333], &quot;type&quot;: &quot;Point&quot;}, &quot;id&quot;: &quot;451&quot;, &quot;properties&quot;: {&quot;__folium_color&quot;: &quot;#ff9896&quot;, &quot;index&quot;: 3506, &quot;week&quot;: &quot;2022-05-16&quot;}, &quot;type&quot;: &quot;Feature&quot;}, {&quot;bbox&quot;: [22.700453333333332, 36.49642333333333, 22.700453333333332, 36.49642333333333], &quot;geometry&quot;: {&quot;coordinates&quot;: [22.700453333333332, 36.49642333333333], &quot;type&quot;: &quot;Point&quot;}, &quot;id&quot;: &quot;452&quot;, &quot;properties&quot;: {&quot;__folium_color&quot;: &quot;#ff9896&quot;, &quot;index&quot;: 3507, &quot;week&quot;: &quot;2022-05-16&quot;}, &quot;type&quot;: &quot;Feature&quot;}, {&quot;bbox&quot;: [22.698848333333338, 36.50058333333333, 22.698848333333338, 36.50058333333333], &quot;geometry&quot;: {&quot;coordinates&quot;: [22.698848333333338, 36.50058333333333], &quot;type&quot;: &quot;Point&quot;}, &quot;id&quot;: &quot;453&quot;, &quot;properties&quot;: {&quot;__folium_color&quot;: &quot;#ff9896&quot;, &quot;index&quot;: 3508, &quot;week&quot;: &quot;2022-05-16&quot;}, &quot;type&quot;: &quot;Feature&quot;}, {&quot;bbox&quot;: [22.701821666666667, 36.50466, 22.701821666666667, 36.50466], &quot;geometry&quot;: {&quot;coordinates&quot;: [22.701821666666667, 36.50466], &quot;type&quot;: &quot;Point&quot;}, &quot;id&quot;: &quot;454&quot;, &quot;properties&quot;: {&quot;__folium_color&quot;: &quot;#ff9896&quot;, &quot;index&quot;: 3509, &quot;week&quot;: &quot;2022-05-16&quot;}, &quot;type&quot;: &quot;Feature&quot;}, {&quot;bbox&quot;: [22.704555, 36.505675, 22.704555, 36.505675], &quot;geometry&quot;: {&quot;coordinates&quot;: [22.704555, 36.505675], &quot;type&quot;: &quot;Point&quot;}, &quot;id&quot;: &quot;455&quot;, &quot;properties&quot;: {&quot;__folium_color&quot;: &quot;#ff9896&quot;, &quot;index&quot;: 3510, &quot;week&quot;: &quot;2022-05-16&quot;}, &quot;type&quot;: &quot;Feature&quot;}, {&quot;bbox&quot;: [22.705595, 36.50724833333334, 22.705595, 36.50724833333334], &quot;geometry&quot;: {&quot;coordinates&quot;: [22.705595, 36.50724833333334], &quot;type&quot;: &quot;Point&quot;}, &quot;id&quot;: &quot;456&quot;, &quot;properties&quot;: {&quot;__folium_color&quot;: &quot;#ff9896&quot;, &quot;index&quot;: 3511, &quot;week&quot;: &quot;2022-05-16&quot;}, &quot;type&quot;: &quot;Feature&quot;}, {&quot;bbox&quot;: [22.706403333333338, 36.508235, 22.706403333333338, 36.508235], &quot;geometry&quot;: {&quot;coordinates&quot;: [22.706403333333338, 36.508235], &quot;type&quot;: &quot;Point&quot;}, &quot;id&quot;: &quot;457&quot;, &quot;properties&quot;: {&quot;__folium_color&quot;: &quot;#ff9896&quot;, &quot;index&quot;: 3512, &quot;week&quot;: &quot;2022-05-16&quot;}, &quot;type&quot;: &quot;Feature&quot;}, {&quot;bbox&quot;: [22.703893333333333, 36.50773, 22.703893333333333, 36.50773], &quot;geometry&quot;: {&quot;coordinates&quot;: [22.703893333333333, 36.50773], &quot;type&quot;: &quot;Point&quot;}, &quot;id&quot;: &quot;458&quot;, &quot;properties&quot;: {&quot;__folium_color&quot;: &quot;#ff9896&quot;, &quot;index&quot;: 3513, &quot;week&quot;: &quot;2022-05-16&quot;}, &quot;type&quot;: &quot;Feature&quot;}, {&quot;bbox&quot;: [22.695518333333332, 36.49997333333334, 22.695518333333332, 36.49997333333334], &quot;geometry&quot;: {&quot;coordinates&quot;: [22.695518333333332, 36.49997333333334], &quot;type&quot;: &quot;Point&quot;}, &quot;id&quot;: &quot;459&quot;, &quot;properties&quot;: {&quot;__folium_color&quot;: &quot;#ff9896&quot;, &quot;index&quot;: 3514, &quot;week&quot;: &quot;2022-05-16&quot;}, &quot;type&quot;: &quot;Feature&quot;}, {&quot;bbox&quot;: [22.693901666666665, 36.50063166666666, 22.693901666666665, 36.50063166666666], &quot;geometry&quot;: {&quot;coordinates&quot;: [22.693901666666665, 36.50063166666666], &quot;type&quot;: &quot;Point&quot;}, &quot;id&quot;: &quot;460&quot;, &quot;properties&quot;: {&quot;__folium_color&quot;: &quot;#ff9896&quot;, &quot;index&quot;: 3515, &quot;week&quot;: &quot;2022-05-16&quot;}, &quot;type&quot;: &quot;Feature&quot;}, {&quot;bbox&quot;: [22.695363333333333, 36.51775333333333, 22.695363333333333, 36.51775333333333], &quot;geometry&quot;: {&quot;coordinates&quot;: [22.695363333333333, 36.51775333333333], &quot;type&quot;: &quot;Point&quot;}, &quot;id&quot;: &quot;461&quot;, &quot;properties&quot;: {&quot;__folium_color&quot;: &quot;#ff9896&quot;, &quot;index&quot;: 3516, &quot;week&quot;: &quot;2022-05-16&quot;}, &quot;type&quot;: &quot;Feature&quot;}, {&quot;bbox&quot;: [22.70259, 36.57257833333333, 22.70259, 36.57257833333333], &quot;geometry&quot;: {&quot;coordinates&quot;: [22.70259, 36.57257833333333], &quot;type&quot;: &quot;Point&quot;}, &quot;id&quot;: &quot;462&quot;, &quot;properties&quot;: {&quot;__folium_color&quot;: &quot;#ff9896&quot;, &quot;index&quot;: 3517, &quot;week&quot;: &quot;2022-05-16&quot;}, &quot;type&quot;: &quot;Feature&quot;}, {&quot;bbox&quot;: [22.692738333333335, 36.678255, 22.692738333333335, 36.678255], &quot;geometry&quot;: {&quot;coordinates&quot;: [22.692738333333335, 36.678255], &quot;type&quot;: &quot;Point&quot;}, &quot;id&quot;: &quot;463&quot;, &quot;properties&quot;: {&quot;__folium_color&quot;: &quot;#ff9896&quot;, &quot;index&quot;: 3518, &quot;week&quot;: &quot;2022-05-16&quot;}, &quot;type&quot;: &quot;Feature&quot;}, {&quot;bbox&quot;: [22.68658, 36.670381666666664, 22.68658, 36.670381666666664], &quot;geometry&quot;: {&quot;coordinates&quot;: [22.68658, 36.670381666666664], &quot;type&quot;: &quot;Point&quot;}, &quot;id&quot;: &quot;464&quot;, &quot;properties&quot;: {&quot;__folium_color&quot;: &quot;#ff9896&quot;, &quot;index&quot;: 3519, &quot;week&quot;: &quot;2022-05-16&quot;}, &quot;type&quot;: &quot;Feature&quot;}, {&quot;bbox&quot;: [22.692786666666667, 36.664775, 22.692786666666667, 36.664775], &quot;geometry&quot;: {&quot;coordinates&quot;: [22.692786666666667, 36.664775], &quot;type&quot;: &quot;Point&quot;}, &quot;id&quot;: &quot;465&quot;, &quot;properties&quot;: {&quot;__folium_color&quot;: &quot;#ff9896&quot;, &quot;index&quot;: 3520, &quot;week&quot;: &quot;2022-05-16&quot;}, &quot;type&quot;: &quot;Feature&quot;}, {&quot;bbox&quot;: [22.694548333333337, 36.660445, 22.694548333333337, 36.660445], &quot;geometry&quot;: {&quot;coordinates&quot;: [22.694548333333337, 36.660445], &quot;type&quot;: &quot;Point&quot;}, &quot;id&quot;: &quot;466&quot;, &quot;properties&quot;: {&quot;__folium_color&quot;: &quot;#ff9896&quot;, &quot;index&quot;: 3521, &quot;week&quot;: &quot;2022-05-16&quot;}, &quot;type&quot;: &quot;Feature&quot;}, {&quot;bbox&quot;: [22.694903333333333, 36.661361666666664, 22.694903333333333, 36.661361666666664], &quot;geometry&quot;: {&quot;coordinates&quot;: [22.694903333333333, 36.661361666666664], &quot;type&quot;: &quot;Point&quot;}, &quot;id&quot;: &quot;467&quot;, &quot;properties&quot;: {&quot;__folium_color&quot;: &quot;#ff9896&quot;, &quot;index&quot;: 3522, &quot;week&quot;: &quot;2022-05-16&quot;}, &quot;type&quot;: &quot;Feature&quot;}, {&quot;bbox&quot;: [22.695881666666665, 36.66218833333333, 22.695881666666665, 36.66218833333333], &quot;geometry&quot;: {&quot;coordinates&quot;: [22.695881666666665, 36.66218833333333], &quot;type&quot;: &quot;Point&quot;}, &quot;id&quot;: &quot;468&quot;, &quot;properties&quot;: {&quot;__folium_color&quot;: &quot;#ff9896&quot;, &quot;index&quot;: 3523, &quot;week&quot;: &quot;2022-05-16&quot;}, &quot;type&quot;: &quot;Feature&quot;}, {&quot;bbox&quot;: [22.697405, 36.662438333333334, 22.697405, 36.662438333333334], &quot;geometry&quot;: {&quot;coordinates&quot;: [22.697405, 36.662438333333334], &quot;type&quot;: &quot;Point&quot;}, &quot;id&quot;: &quot;469&quot;, &quot;properties&quot;: {&quot;__folium_color&quot;: &quot;#ff9896&quot;, &quot;index&quot;: 3524, &quot;week&quot;: &quot;2022-05-16&quot;}, &quot;type&quot;: &quot;Feature&quot;}, {&quot;bbox&quot;: [22.697473333333335, 36.66247333333333, 22.697473333333335, 36.66247333333333], &quot;geometry&quot;: {&quot;coordinates&quot;: [22.697473333333335, 36.66247333333333], &quot;type&quot;: &quot;Point&quot;}, &quot;id&quot;: &quot;470&quot;, &quot;properties&quot;: {&quot;__folium_color&quot;: &quot;#ff9896&quot;, &quot;index&quot;: 3525, &quot;week&quot;: &quot;2022-05-16&quot;}, &quot;type&quot;: &quot;Feature&quot;}, {&quot;bbox&quot;: [22.697478333333333, 36.66247833333333, 22.697478333333333, 36.66247833333333], &quot;geometry&quot;: {&quot;coordinates&quot;: [22.697478333333333, 36.66247833333333], &quot;type&quot;: &quot;Point&quot;}, &quot;id&quot;: &quot;471&quot;, &quot;properties&quot;: {&quot;__folium_color&quot;: &quot;#ff9896&quot;, &quot;index&quot;: 3526, &quot;week&quot;: &quot;2022-05-16&quot;}, &quot;type&quot;: &quot;Feature&quot;}, {&quot;bbox&quot;: [22.699276666666663, 36.65989833333333, 22.699276666666663, 36.65989833333333], &quot;geometry&quot;: {&quot;coordinates&quot;: [22.699276666666663, 36.65989833333333], &quot;type&quot;: &quot;Point&quot;}, &quot;id&quot;: &quot;472&quot;, &quot;properties&quot;: {&quot;__folium_color&quot;: &quot;#ff9896&quot;, &quot;index&quot;: 3527, &quot;week&quot;: &quot;2022-05-16&quot;}, &quot;type&quot;: &quot;Feature&quot;}, {&quot;bbox&quot;: [22.700205, 36.657788333333336, 22.700205, 36.657788333333336], &quot;geometry&quot;: {&quot;coordinates&quot;: [22.700205, 36.657788333333336], &quot;type&quot;: &quot;Point&quot;}, &quot;id&quot;: &quot;473&quot;, &quot;properties&quot;: {&quot;__folium_color&quot;: &quot;#ff9896&quot;, &quot;index&quot;: 3528, &quot;week&quot;: &quot;2022-05-16&quot;}, &quot;type&quot;: &quot;Feature&quot;}, {&quot;bbox&quot;: [22.766891666666663, 36.49866, 22.766891666666663, 36.49866], &quot;geometry&quot;: {&quot;coordinates&quot;: [22.766891666666663, 36.49866], &quot;type&quot;: &quot;Point&quot;}, &quot;id&quot;: &quot;474&quot;, &quot;properties&quot;: {&quot;__folium_color&quot;: &quot;#ff9896&quot;, &quot;index&quot;: 3529, &quot;week&quot;: &quot;2022-05-16&quot;}, &quot;type&quot;: &quot;Feature&quot;}, {&quot;bbox&quot;: [22.765986666666667, 36.498846666666665, 22.765986666666667, 36.498846666666665], &quot;geometry&quot;: {&quot;coordinates&quot;: [22.765986666666667, 36.498846666666665], &quot;type&quot;: &quot;Point&quot;}, &quot;id&quot;: &quot;475&quot;, &quot;properties&quot;: {&quot;__folium_color&quot;: &quot;#ff9896&quot;, &quot;index&quot;: 3530, &quot;week&quot;: &quot;2022-05-16&quot;}, &quot;type&quot;: &quot;Feature&quot;}, {&quot;bbox&quot;: [22.763393333333333, 36.498841666666664, 22.763393333333333, 36.498841666666664], &quot;geometry&quot;: {&quot;coordinates&quot;: [22.763393333333333, 36.498841666666664], &quot;type&quot;: &quot;Point&quot;}, &quot;id&quot;: &quot;476&quot;, &quot;properties&quot;: {&quot;__folium_color&quot;: &quot;#ff9896&quot;, &quot;index&quot;: 3531, &quot;week&quot;: &quot;2022-05-16&quot;}, &quot;type&quot;: &quot;Feature&quot;}, {&quot;bbox&quot;: [22.759883333333335, 36.499905, 22.759883333333335, 36.499905], &quot;geometry&quot;: {&quot;coordinates&quot;: [22.759883333333335, 36.499905], &quot;type&quot;: &quot;Point&quot;}, &quot;id&quot;: &quot;477&quot;, &quot;properties&quot;: {&quot;__folium_color&quot;: &quot;#ff9896&quot;, &quot;index&quot;: 3532, &quot;week&quot;: &quot;2022-05-16&quot;}, &quot;type&quot;: &quot;Feature&quot;}, {&quot;bbox&quot;: [22.758635, 36.50111666666667, 22.758635, 36.50111666666667], &quot;geometry&quot;: {&quot;coordinates&quot;: [22.758635, 36.50111666666667], &quot;type&quot;: &quot;Point&quot;}, &quot;id&quot;: &quot;478&quot;, &quot;properties&quot;: {&quot;__folium_color&quot;: &quot;#ff9896&quot;, &quot;index&quot;: 3533, &quot;week&quot;: &quot;2022-05-16&quot;}, &quot;type&quot;: &quot;Feature&quot;}, {&quot;bbox&quot;: [22.756473333333332, 36.50109333333333, 22.756473333333332, 36.50109333333333], &quot;geometry&quot;: {&quot;coordinates&quot;: [22.756473333333332, 36.50109333333333], &quot;type&quot;: &quot;Point&quot;}, &quot;id&quot;: &quot;479&quot;, &quot;properties&quot;: {&quot;__folium_color&quot;: &quot;#ff9896&quot;, &quot;index&quot;: 3534, &quot;week&quot;: &quot;2022-05-16&quot;}, &quot;type&quot;: &quot;Feature&quot;}, {&quot;bbox&quot;: [22.755335, 36.50044833333333, 22.755335, 36.50044833333333], &quot;geometry&quot;: {&quot;coordinates&quot;: [22.755335, 36.50044833333333], &quot;type&quot;: &quot;Point&quot;}, &quot;id&quot;: &quot;480&quot;, &quot;properties&quot;: {&quot;__folium_color&quot;: &quot;#ff9896&quot;, &quot;index&quot;: 3535, &quot;week&quot;: &quot;2022-05-16&quot;}, &quot;type&quot;: &quot;Feature&quot;}, {&quot;bbox&quot;: [22.756221666666665, 36.500365, 22.756221666666665, 36.500365], &quot;geometry&quot;: {&quot;coordinates&quot;: [22.756221666666665, 36.500365], &quot;type&quot;: &quot;Point&quot;}, &quot;id&quot;: &quot;481&quot;, &quot;properties&quot;: {&quot;__folium_color&quot;: &quot;#ff9896&quot;, &quot;index&quot;: 3536, &quot;week&quot;: &quot;2022-05-16&quot;}, &quot;type&quot;: &quot;Feature&quot;}, {&quot;bbox&quot;: [22.756246666666662, 36.501733333333334, 22.756246666666662, 36.501733333333334], &quot;geometry&quot;: {&quot;coordinates&quot;: [22.756246666666662, 36.501733333333334], &quot;type&quot;: &quot;Point&quot;}, &quot;id&quot;: &quot;482&quot;, &quot;properties&quot;: {&quot;__folium_color&quot;: &quot;#ff9896&quot;, &quot;index&quot;: 3537, &quot;week&quot;: &quot;2022-05-16&quot;}, &quot;type&quot;: &quot;Feature&quot;}, {&quot;bbox&quot;: [22.759301666666666, 36.501248333333336, 22.759301666666666, 36.501248333333336], &quot;geometry&quot;: {&quot;coordinates&quot;: [22.759301666666666, 36.501248333333336], &quot;type&quot;: &quot;Point&quot;}, &quot;id&quot;: &quot;483&quot;, &quot;properties&quot;: {&quot;__folium_color&quot;: &quot;#ff9896&quot;, &quot;index&quot;: 3538, &quot;week&quot;: &quot;2022-05-16&quot;}, &quot;type&quot;: &quot;Feature&quot;}, {&quot;bbox&quot;: [22.758933333333335, 36.499298333333336, 22.758933333333335, 36.499298333333336], &quot;geometry&quot;: {&quot;coordinates&quot;: [22.758933333333335, 36.499298333333336], &quot;type&quot;: &quot;Point&quot;}, &quot;id&quot;: &quot;484&quot;, &quot;properties&quot;: {&quot;__folium_color&quot;: &quot;#ff9896&quot;, &quot;index&quot;: 3539, &quot;week&quot;: &quot;2022-05-16&quot;}, &quot;type&quot;: &quot;Feature&quot;}, {&quot;bbox&quot;: [22.759968333333333, 36.501115, 22.759968333333333, 36.501115], &quot;geometry&quot;: {&quot;coordinates&quot;: [22.759968333333333, 36.501115], &quot;type&quot;: &quot;Point&quot;}, &quot;id&quot;: &quot;485&quot;, &quot;properties&quot;: {&quot;__folium_color&quot;: &quot;#ff9896&quot;, &quot;index&quot;: 3540, &quot;week&quot;: &quot;2022-05-16&quot;}, &quot;type&quot;: &quot;Feature&quot;}, {&quot;bbox&quot;: [22.75981833333333, 36.50139166666666, 22.75981833333333, 36.50139166666666], &quot;geometry&quot;: {&quot;coordinates&quot;: [22.75981833333333, 36.50139166666666], &quot;type&quot;: &quot;Point&quot;}, &quot;id&quot;: &quot;486&quot;, &quot;properties&quot;: {&quot;__folium_color&quot;: &quot;#ff9896&quot;, &quot;index&quot;: 3541, &quot;week&quot;: &quot;2022-05-16&quot;}, &quot;type&quot;: &quot;Feature&quot;}, {&quot;bbox&quot;: [22.759461666666667, 36.501913333333334, 22.759461666666667, 36.501913333333334], &quot;geometry&quot;: {&quot;coordinates&quot;: [22.759461666666667, 36.501913333333334], &quot;type&quot;: &quot;Point&quot;}, &quot;id&quot;: &quot;487&quot;, &quot;properties&quot;: {&quot;__folium_color&quot;: &quot;#ff9896&quot;, &quot;index&quot;: 3542, &quot;week&quot;: &quot;2022-05-16&quot;}, &quot;type&quot;: &quot;Feature&quot;}, {&quot;bbox&quot;: [22.76287, 36.50510166666667, 22.76287, 36.50510166666667], &quot;geometry&quot;: {&quot;coordinates&quot;: [22.76287, 36.50510166666667], &quot;type&quot;: &quot;Point&quot;}, &quot;id&quot;: &quot;488&quot;, &quot;properties&quot;: {&quot;__folium_color&quot;: &quot;#ff9896&quot;, &quot;index&quot;: 3543, &quot;week&quot;: &quot;2022-05-16&quot;}, &quot;type&quot;: &quot;Feature&quot;}, {&quot;bbox&quot;: [22.764348333333334, 36.51293833333333, 22.764348333333334, 36.51293833333333], &quot;geometry&quot;: {&quot;coordinates&quot;: [22.764348333333334, 36.51293833333333], &quot;type&quot;: &quot;Point&quot;}, &quot;id&quot;: &quot;489&quot;, &quot;properties&quot;: {&quot;__folium_color&quot;: &quot;#ff9896&quot;, &quot;index&quot;: 3544, &quot;week&quot;: &quot;2022-05-16&quot;}, &quot;type&quot;: &quot;Feature&quot;}, {&quot;bbox&quot;: [22.765261666666667, 36.51955, 22.765261666666667, 36.51955], &quot;geometry&quot;: {&quot;coordinates&quot;: [22.765261666666667, 36.51955], &quot;type&quot;: &quot;Point&quot;}, &quot;id&quot;: &quot;490&quot;, &quot;properties&quot;: {&quot;__folium_color&quot;: &quot;#ff9896&quot;, &quot;index&quot;: 3545, &quot;week&quot;: &quot;2022-05-16&quot;}, &quot;type&quot;: &quot;Feature&quot;}, {&quot;bbox&quot;: [22.773216666666663, 36.52694833333333, 22.773216666666663, 36.52694833333333], &quot;geometry&quot;: {&quot;coordinates&quot;: [22.773216666666663, 36.52694833333333], &quot;type&quot;: &quot;Point&quot;}, &quot;id&quot;: &quot;491&quot;, &quot;properties&quot;: {&quot;__folium_color&quot;: &quot;#ff9896&quot;, &quot;index&quot;: 3546, &quot;week&quot;: &quot;2022-05-16&quot;}, &quot;type&quot;: &quot;Feature&quot;}, {&quot;bbox&quot;: [22.78219, 36.533645, 22.78219, 36.533645], &quot;geometry&quot;: {&quot;coordinates&quot;: [22.78219, 36.533645], &quot;type&quot;: &quot;Point&quot;}, &quot;id&quot;: &quot;492&quot;, &quot;properties&quot;: {&quot;__folium_color&quot;: &quot;#ff9896&quot;, &quot;index&quot;: 3547, &quot;week&quot;: &quot;2022-05-16&quot;}, &quot;type&quot;: &quot;Feature&quot;}, {&quot;bbox&quot;: [22.785723333333333, 36.54248166666667, 22.785723333333333, 36.54248166666667], &quot;geometry&quot;: {&quot;coordinates&quot;: [22.785723333333333, 36.54248166666667], &quot;type&quot;: &quot;Point&quot;}, &quot;id&quot;: &quot;493&quot;, &quot;properties&quot;: {&quot;__folium_color&quot;: &quot;#ff9896&quot;, &quot;index&quot;: 3548, &quot;week&quot;: &quot;2022-05-16&quot;}, &quot;type&quot;: &quot;Feature&quot;}, {&quot;bbox&quot;: [22.793171666666662, 36.553311666666666, 22.793171666666662, 36.553311666666666], &quot;geometry&quot;: {&quot;coordinates&quot;: [22.793171666666662, 36.553311666666666], &quot;type&quot;: &quot;Point&quot;}, &quot;id&quot;: &quot;494&quot;, &quot;properties&quot;: {&quot;__folium_color&quot;: &quot;#ff9896&quot;, &quot;index&quot;: 3549, &quot;week&quot;: &quot;2022-05-16&quot;}, &quot;type&quot;: &quot;Feature&quot;}, {&quot;bbox&quot;: [22.801993333333332, 36.562378333333335, 22.801993333333332, 36.562378333333335], &quot;geometry&quot;: {&quot;coordinates&quot;: [22.801993333333332, 36.562378333333335], &quot;type&quot;: &quot;Point&quot;}, &quot;id&quot;: &quot;495&quot;, &quot;properties&quot;: {&quot;__folium_color&quot;: &quot;#ff9896&quot;, &quot;index&quot;: 3550, &quot;week&quot;: &quot;2022-05-16&quot;}, &quot;type&quot;: &quot;Feature&quot;}, {&quot;bbox&quot;: [22.799036666666662, 36.554676666666666, 22.799036666666662, 36.554676666666666], &quot;geometry&quot;: {&quot;coordinates&quot;: [22.799036666666662, 36.554676666666666], &quot;type&quot;: &quot;Point&quot;}, &quot;id&quot;: &quot;496&quot;, &quot;properties&quot;: {&quot;__folium_color&quot;: &quot;#ff9896&quot;, &quot;index&quot;: 3551, &quot;week&quot;: &quot;2022-05-16&quot;}, &quot;type&quot;: &quot;Feature&quot;}, {&quot;bbox&quot;: [22.79471, 36.55061333333333, 22.79471, 36.55061333333333], &quot;geometry&quot;: {&quot;coordinates&quot;: [22.79471, 36.55061333333333], &quot;type&quot;: &quot;Point&quot;}, &quot;id&quot;: &quot;497&quot;, &quot;properties&quot;: {&quot;__folium_color&quot;: &quot;#ff9896&quot;, &quot;index&quot;: 3552, &quot;week&quot;: &quot;2022-05-16&quot;}, &quot;type&quot;: &quot;Feature&quot;}, {&quot;bbox&quot;: [22.703435, 36.466195, 22.703435, 36.466195], &quot;geometry&quot;: {&quot;coordinates&quot;: [22.703435, 36.466195], &quot;type&quot;: &quot;Point&quot;}, &quot;id&quot;: &quot;498&quot;, &quot;properties&quot;: {&quot;__folium_color&quot;: &quot;#ff9896&quot;, &quot;index&quot;: 3553, &quot;week&quot;: &quot;2022-05-16&quot;}, &quot;type&quot;: &quot;Feature&quot;}, {&quot;bbox&quot;: [22.672535, 36.449801666666666, 22.672535, 36.449801666666666], &quot;geometry&quot;: {&quot;coordinates&quot;: [22.672535, 36.449801666666666], &quot;type&quot;: &quot;Point&quot;}, &quot;id&quot;: &quot;499&quot;, &quot;properties&quot;: {&quot;__folium_color&quot;: &quot;#ff9896&quot;, &quot;index&quot;: 3554, &quot;week&quot;: &quot;2022-05-16&quot;}, &quot;type&quot;: &quot;Feature&quot;}, {&quot;bbox&quot;: [22.653208333333332, 36.445011666666666, 22.653208333333332, 36.445011666666666], &quot;geometry&quot;: {&quot;coordinates&quot;: [22.653208333333332, 36.445011666666666], &quot;type&quot;: &quot;Point&quot;}, &quot;id&quot;: &quot;500&quot;, &quot;properties&quot;: {&quot;__folium_color&quot;: &quot;#ff9896&quot;, &quot;index&quot;: 3555, &quot;week&quot;: &quot;2022-05-16&quot;}, &quot;type&quot;: &quot;Feature&quot;}, {&quot;bbox&quot;: [22.657121666666665, 36.44636333333333, 22.657121666666665, 36.44636333333333], &quot;geometry&quot;: {&quot;coordinates&quot;: [22.657121666666665, 36.44636333333333], &quot;type&quot;: &quot;Point&quot;}, &quot;id&quot;: &quot;501&quot;, &quot;properties&quot;: {&quot;__folium_color&quot;: &quot;#ff9896&quot;, &quot;index&quot;: 3556, &quot;week&quot;: &quot;2022-05-16&quot;}, &quot;type&quot;: &quot;Feature&quot;}, {&quot;bbox&quot;: [22.664983333333332, 36.44751, 22.664983333333332, 36.44751], &quot;geometry&quot;: {&quot;coordinates&quot;: [22.664983333333332, 36.44751], &quot;type&quot;: &quot;Point&quot;}, &quot;id&quot;: &quot;502&quot;, &quot;properties&quot;: {&quot;__folium_color&quot;: &quot;#ff9896&quot;, &quot;index&quot;: 3557, &quot;week&quot;: &quot;2022-05-16&quot;}, &quot;type&quot;: &quot;Feature&quot;}, {&quot;bbox&quot;: [22.667835, 36.44498, 22.667835, 36.44498], &quot;geometry&quot;: {&quot;coordinates&quot;: [22.667835, 36.44498], &quot;type&quot;: &quot;Point&quot;}, &quot;id&quot;: &quot;503&quot;, &quot;properties&quot;: {&quot;__folium_color&quot;: &quot;#ff9896&quot;, &quot;index&quot;: 3558, &quot;week&quot;: &quot;2022-05-16&quot;}, &quot;type&quot;: &quot;Feature&quot;}, {&quot;bbox&quot;: [22.667691666666663, 36.44482166666667, 22.667691666666663, 36.44482166666667], &quot;geometry&quot;: {&quot;coordinates&quot;: [22.667691666666663, 36.44482166666667], &quot;type&quot;: &quot;Point&quot;}, &quot;id&quot;: &quot;504&quot;, &quot;properties&quot;: {&quot;__folium_color&quot;: &quot;#ff9896&quot;, &quot;index&quot;: 3559, &quot;week&quot;: &quot;2022-05-16&quot;}, &quot;type&quot;: &quot;Feature&quot;}, {&quot;bbox&quot;: [22.664001666666667, 36.442505, 22.664001666666667, 36.442505], &quot;geometry&quot;: {&quot;coordinates&quot;: [22.664001666666667, 36.442505], &quot;type&quot;: &quot;Point&quot;}, &quot;id&quot;: &quot;505&quot;, &quot;properties&quot;: {&quot;__folium_color&quot;: &quot;#ff9896&quot;, &quot;index&quot;: 3560, &quot;week&quot;: &quot;2022-05-16&quot;}, &quot;type&quot;: &quot;Feature&quot;}, {&quot;bbox&quot;: [22.650018333333332, 36.438633333333335, 22.650018333333332, 36.438633333333335], &quot;geometry&quot;: {&quot;coordinates&quot;: [22.650018333333332, 36.438633333333335], &quot;type&quot;: &quot;Point&quot;}, &quot;id&quot;: &quot;506&quot;, &quot;properties&quot;: {&quot;__folium_color&quot;: &quot;#ff9896&quot;, &quot;index&quot;: 3561, &quot;week&quot;: &quot;2022-05-16&quot;}, &quot;type&quot;: &quot;Feature&quot;}, {&quot;bbox&quot;: [22.638625, 36.44042666666667, 22.638625, 36.44042666666667], &quot;geometry&quot;: {&quot;coordinates&quot;: [22.638625, 36.44042666666667], &quot;type&quot;: &quot;Point&quot;}, &quot;id&quot;: &quot;507&quot;, &quot;properties&quot;: {&quot;__folium_color&quot;: &quot;#ff9896&quot;, &quot;index&quot;: 3562, &quot;week&quot;: &quot;2022-05-16&quot;}, &quot;type&quot;: &quot;Feature&quot;}, {&quot;bbox&quot;: [22.623346666666663, 36.43884666666667, 22.623346666666663, 36.43884666666667], &quot;geometry&quot;: {&quot;coordinates&quot;: [22.623346666666663, 36.43884666666667], &quot;type&quot;: &quot;Point&quot;}, &quot;id&quot;: &quot;508&quot;, &quot;properties&quot;: {&quot;__folium_color&quot;: &quot;#ff9896&quot;, &quot;index&quot;: 3563, &quot;week&quot;: &quot;2022-05-16&quot;}, &quot;type&quot;: &quot;Feature&quot;}, {&quot;bbox&quot;: [22.610363333333332, 36.43759166666667, 22.610363333333332, 36.43759166666667], &quot;geometry&quot;: {&quot;coordinates&quot;: [22.610363333333332, 36.43759166666667], &quot;type&quot;: &quot;Point&quot;}, &quot;id&quot;: &quot;509&quot;, &quot;properties&quot;: {&quot;__folium_color&quot;: &quot;#ff9896&quot;, &quot;index&quot;: 3564, &quot;week&quot;: &quot;2022-05-16&quot;}, &quot;type&quot;: &quot;Feature&quot;}, {&quot;bbox&quot;: [22.61743, 36.451855, 22.61743, 36.451855], &quot;geometry&quot;: {&quot;coordinates&quot;: [22.61743, 36.451855], &quot;type&quot;: &quot;Point&quot;}, &quot;id&quot;: &quot;510&quot;, &quot;properties&quot;: {&quot;__folium_color&quot;: &quot;#ff9896&quot;, &quot;index&quot;: 3565, &quot;week&quot;: &quot;2022-05-16&quot;}, &quot;type&quot;: &quot;Feature&quot;}, {&quot;bbox&quot;: [22.618515, 36.45254833333333, 22.618515, 36.45254833333333], &quot;geometry&quot;: {&quot;coordinates&quot;: [22.618515, 36.45254833333333], &quot;type&quot;: &quot;Point&quot;}, &quot;id&quot;: &quot;511&quot;, &quot;properties&quot;: {&quot;__folium_color&quot;: &quot;#ff9896&quot;, &quot;index&quot;: 3566, &quot;week&quot;: &quot;2022-05-16&quot;}, &quot;type&quot;: &quot;Feature&quot;}, {&quot;bbox&quot;: [22.629275, 36.457391666666666, 22.629275, 36.457391666666666], &quot;geometry&quot;: {&quot;coordinates&quot;: [22.629275, 36.457391666666666], &quot;type&quot;: &quot;Point&quot;}, &quot;id&quot;: &quot;512&quot;, &quot;properties&quot;: {&quot;__folium_color&quot;: &quot;#ff9896&quot;, &quot;index&quot;: 3567, &quot;week&quot;: &quot;2022-05-16&quot;}, &quot;type&quot;: &quot;Feature&quot;}, {&quot;bbox&quot;: [22.666011666666662, 36.466465, 22.666011666666662, 36.466465], &quot;geometry&quot;: {&quot;coordinates&quot;: [22.666011666666662, 36.466465], &quot;type&quot;: &quot;Point&quot;}, &quot;id&quot;: &quot;513&quot;, &quot;properties&quot;: {&quot;__folium_color&quot;: &quot;#ff9896&quot;, &quot;index&quot;: 3568, &quot;week&quot;: &quot;2022-05-16&quot;}, &quot;type&quot;: &quot;Feature&quot;}, {&quot;bbox&quot;: [22.728658333333332, 36.474758333333334, 22.728658333333332, 36.474758333333334], &quot;geometry&quot;: {&quot;coordinates&quot;: [22.728658333333332, 36.474758333333334], &quot;type&quot;: &quot;Point&quot;}, &quot;id&quot;: &quot;514&quot;, &quot;properties&quot;: {&quot;__folium_color&quot;: &quot;#ff9896&quot;, &quot;index&quot;: 3569, &quot;week&quot;: &quot;2022-05-16&quot;}, &quot;type&quot;: &quot;Feature&quot;}, {&quot;bbox&quot;: [22.747928333333338, 36.47602, 22.747928333333338, 36.47602], &quot;geometry&quot;: {&quot;coordinates&quot;: [22.747928333333338, 36.47602], &quot;type&quot;: &quot;Point&quot;}, &quot;id&quot;: &quot;515&quot;, &quot;properties&quot;: {&quot;__folium_color&quot;: &quot;#ff9896&quot;, &quot;index&quot;: 3570, &quot;week&quot;: &quot;2022-05-16&quot;}, &quot;type&quot;: &quot;Feature&quot;}, {&quot;bbox&quot;: [22.747531666666667, 36.465471666666666, 22.747531666666667, 36.465471666666666], &quot;geometry&quot;: {&quot;coordinates&quot;: [22.747531666666667, 36.465471666666666], &quot;type&quot;: &quot;Point&quot;}, &quot;id&quot;: &quot;516&quot;, &quot;properties&quot;: {&quot;__folium_color&quot;: &quot;#ff9896&quot;, &quot;index&quot;: 3571, &quot;week&quot;: &quot;2022-05-16&quot;}, &quot;type&quot;: &quot;Feature&quot;}, {&quot;bbox&quot;: [22.73869, 36.45153166666667, 22.73869, 36.45153166666667], &quot;geometry&quot;: {&quot;coordinates&quot;: [22.73869, 36.45153166666667], &quot;type&quot;: &quot;Point&quot;}, &quot;id&quot;: &quot;517&quot;, &quot;properties&quot;: {&quot;__folium_color&quot;: &quot;#ff9896&quot;, &quot;index&quot;: 3572, &quot;week&quot;: &quot;2022-05-16&quot;}, &quot;type&quot;: &quot;Feature&quot;}, {&quot;bbox&quot;: [22.725645, 36.430726666666665, 22.725645, 36.430726666666665], &quot;geometry&quot;: {&quot;coordinates&quot;: [22.725645, 36.430726666666665], &quot;type&quot;: &quot;Point&quot;}, &quot;id&quot;: &quot;518&quot;, &quot;properties&quot;: {&quot;__folium_color&quot;: &quot;#ff9896&quot;, &quot;index&quot;: 3573, &quot;week&quot;: &quot;2022-05-16&quot;}, &quot;type&quot;: &quot;Feature&quot;}, {&quot;bbox&quot;: [22.712941666666666, 36.414701666666666, 22.712941666666666, 36.414701666666666], &quot;geometry&quot;: {&quot;coordinates&quot;: [22.712941666666666, 36.414701666666666], &quot;type&quot;: &quot;Point&quot;}, &quot;id&quot;: &quot;519&quot;, &quot;properties&quot;: {&quot;__folium_color&quot;: &quot;#ff9896&quot;, &quot;index&quot;: 3574, &quot;week&quot;: &quot;2022-05-16&quot;}, &quot;type&quot;: &quot;Feature&quot;}, {&quot;bbox&quot;: [22.701928333333335, 36.40347833333333, 22.701928333333335, 36.40347833333333], &quot;geometry&quot;: {&quot;coordinates&quot;: [22.701928333333335, 36.40347833333333], &quot;type&quot;: &quot;Point&quot;}, &quot;id&quot;: &quot;520&quot;, &quot;properties&quot;: {&quot;__folium_color&quot;: &quot;#ff9896&quot;, &quot;index&quot;: 3575, &quot;week&quot;: &quot;2022-05-16&quot;}, &quot;type&quot;: &quot;Feature&quot;}, {&quot;bbox&quot;: [22.691143333333333, 36.38948333333333, 22.691143333333333, 36.38948333333333], &quot;geometry&quot;: {&quot;coordinates&quot;: [22.691143333333333, 36.38948333333333], &quot;type&quot;: &quot;Point&quot;}, &quot;id&quot;: &quot;521&quot;, &quot;properties&quot;: {&quot;__folium_color&quot;: &quot;#ff9896&quot;, &quot;index&quot;: 3576, &quot;week&quot;: &quot;2022-05-16&quot;}, &quot;type&quot;: &quot;Feature&quot;}, {&quot;bbox&quot;: [22.711453333333335, 36.385643333333334, 22.711453333333335, 36.385643333333334], &quot;geometry&quot;: {&quot;coordinates&quot;: [22.711453333333335, 36.385643333333334], &quot;type&quot;: &quot;Point&quot;}, &quot;id&quot;: &quot;522&quot;, &quot;properties&quot;: {&quot;__folium_color&quot;: &quot;#ff9896&quot;, &quot;index&quot;: 3577, &quot;week&quot;: &quot;2022-05-16&quot;}, &quot;type&quot;: &quot;Feature&quot;}, {&quot;bbox&quot;: [22.764635, 36.427525, 22.764635, 36.427525], &quot;geometry&quot;: {&quot;coordinates&quot;: [22.764635, 36.427525], &quot;type&quot;: &quot;Point&quot;}, &quot;id&quot;: &quot;523&quot;, &quot;properties&quot;: {&quot;__folium_color&quot;: &quot;#ff9896&quot;, &quot;index&quot;: 3578, &quot;week&quot;: &quot;2022-05-16&quot;}, &quot;type&quot;: &quot;Feature&quot;}, {&quot;bbox&quot;: [22.762851666666663, 36.44517666666667, 22.762851666666663, 36.44517666666667], &quot;geometry&quot;: {&quot;coordinates&quot;: [22.762851666666663, 36.44517666666667], &quot;type&quot;: &quot;Point&quot;}, &quot;id&quot;: &quot;524&quot;, &quot;properties&quot;: {&quot;__folium_color&quot;: &quot;#ff9896&quot;, &quot;index&quot;: 3579, &quot;week&quot;: &quot;2022-05-16&quot;}, &quot;type&quot;: &quot;Feature&quot;}, {&quot;bbox&quot;: [22.759636666666665, 36.43915833333333, 22.759636666666665, 36.43915833333333], &quot;geometry&quot;: {&quot;coordinates&quot;: [22.759636666666665, 36.43915833333333], &quot;type&quot;: &quot;Point&quot;}, &quot;id&quot;: &quot;525&quot;, &quot;properties&quot;: {&quot;__folium_color&quot;: &quot;#ff9896&quot;, &quot;index&quot;: 3580, &quot;week&quot;: &quot;2022-05-16&quot;}, &quot;type&quot;: &quot;Feature&quot;}, {&quot;bbox&quot;: [22.755778333333332, 36.43290666666667, 22.755778333333332, 36.43290666666667], &quot;geometry&quot;: {&quot;coordinates&quot;: [22.755778333333332, 36.43290666666667], &quot;type&quot;: &quot;Point&quot;}, &quot;id&quot;: &quot;526&quot;, &quot;properties&quot;: {&quot;__folium_color&quot;: &quot;#ff9896&quot;, &quot;index&quot;: 3581, &quot;week&quot;: &quot;2022-05-16&quot;}, &quot;type&quot;: &quot;Feature&quot;}, {&quot;bbox&quot;: [22.74695, 36.419581666666666, 22.74695, 36.419581666666666], &quot;geometry&quot;: {&quot;coordinates&quot;: [22.74695, 36.419581666666666], &quot;type&quot;: &quot;Point&quot;}, &quot;id&quot;: &quot;527&quot;, &quot;properties&quot;: {&quot;__folium_color&quot;: &quot;#ff9896&quot;, &quot;index&quot;: 3582, &quot;week&quot;: &quot;2022-05-16&quot;}, &quot;type&quot;: &quot;Feature&quot;}, {&quot;bbox&quot;: [22.7277, 36.39492833333333, 22.7277, 36.39492833333333], &quot;geometry&quot;: {&quot;coordinates&quot;: [22.7277, 36.39492833333333], &quot;type&quot;: &quot;Point&quot;}, &quot;id&quot;: &quot;528&quot;, &quot;properties&quot;: {&quot;__folium_color&quot;: &quot;#ff9896&quot;, &quot;index&quot;: 3583, &quot;week&quot;: &quot;2022-05-16&quot;}, &quot;type&quot;: &quot;Feature&quot;}, {&quot;bbox&quot;: [22.711785, 36.37801666666667, 22.711785, 36.37801666666667], &quot;geometry&quot;: {&quot;coordinates&quot;: [22.711785, 36.37801666666667], &quot;type&quot;: &quot;Point&quot;}, &quot;id&quot;: &quot;529&quot;, &quot;properties&quot;: {&quot;__folium_color&quot;: &quot;#ff9896&quot;, &quot;index&quot;: 3584, &quot;week&quot;: &quot;2022-05-16&quot;}, &quot;type&quot;: &quot;Feature&quot;}, {&quot;bbox&quot;: [22.70429, 36.369225, 22.70429, 36.369225], &quot;geometry&quot;: {&quot;coordinates&quot;: [22.70429, 36.369225], &quot;type&quot;: &quot;Point&quot;}, &quot;id&quot;: &quot;530&quot;, &quot;properties&quot;: {&quot;__folium_color&quot;: &quot;#ff9896&quot;, &quot;index&quot;: 3585, &quot;week&quot;: &quot;2022-05-16&quot;}, &quot;type&quot;: &quot;Feature&quot;}, {&quot;bbox&quot;: [22.69838, 36.35879666666667, 22.69838, 36.35879666666667], &quot;geometry&quot;: {&quot;coordinates&quot;: [22.69838, 36.35879666666667], &quot;type&quot;: &quot;Point&quot;}, &quot;id&quot;: &quot;531&quot;, &quot;properties&quot;: {&quot;__folium_color&quot;: &quot;#ff9896&quot;, &quot;index&quot;: 3586, &quot;week&quot;: &quot;2022-05-16&quot;}, &quot;type&quot;: &quot;Feature&quot;}, {&quot;bbox&quot;: [22.69593, 36.34720333333333, 22.69593, 36.34720333333333], &quot;geometry&quot;: {&quot;coordinates&quot;: [22.69593, 36.34720333333333], &quot;type&quot;: &quot;Point&quot;}, &quot;id&quot;: &quot;532&quot;, &quot;properties&quot;: {&quot;__folium_color&quot;: &quot;#ff9896&quot;, &quot;index&quot;: 3587, &quot;week&quot;: &quot;2022-05-16&quot;}, &quot;type&quot;: &quot;Feature&quot;}, {&quot;bbox&quot;: [22.691853333333334, 36.328208333333336, 22.691853333333334, 36.328208333333336], &quot;geometry&quot;: {&quot;coordinates&quot;: [22.691853333333334, 36.328208333333336], &quot;type&quot;: &quot;Point&quot;}, &quot;id&quot;: &quot;533&quot;, &quot;properties&quot;: {&quot;__folium_color&quot;: &quot;#ff9896&quot;, &quot;index&quot;: 3588, &quot;week&quot;: &quot;2022-05-16&quot;}, &quot;type&quot;: &quot;Feature&quot;}, {&quot;bbox&quot;: [22.686561666666663, 36.31381833333333, 22.686561666666663, 36.31381833333333], &quot;geometry&quot;: {&quot;coordinates&quot;: [22.686561666666663, 36.31381833333333], &quot;type&quot;: &quot;Point&quot;}, &quot;id&quot;: &quot;534&quot;, &quot;properties&quot;: {&quot;__folium_color&quot;: &quot;#ff9896&quot;, &quot;index&quot;: 3589, &quot;week&quot;: &quot;2022-05-16&quot;}, &quot;type&quot;: &quot;Feature&quot;}, {&quot;bbox&quot;: [22.680613333333337, 36.30552333333333, 22.680613333333337, 36.30552333333333], &quot;geometry&quot;: {&quot;coordinates&quot;: [22.680613333333337, 36.30552333333333], &quot;type&quot;: &quot;Point&quot;}, &quot;id&quot;: &quot;535&quot;, &quot;properties&quot;: {&quot;__folium_color&quot;: &quot;#ff9896&quot;, &quot;index&quot;: 3590, &quot;week&quot;: &quot;2022-05-16&quot;}, &quot;type&quot;: &quot;Feature&quot;}, {&quot;bbox&quot;: [22.674828333333338, 36.29752833333333, 22.674828333333338, 36.29752833333333], &quot;geometry&quot;: {&quot;coordinates&quot;: [22.674828333333338, 36.29752833333333], &quot;type&quot;: &quot;Point&quot;}, &quot;id&quot;: &quot;536&quot;, &quot;properties&quot;: {&quot;__folium_color&quot;: &quot;#ff9896&quot;, &quot;index&quot;: 3591, &quot;week&quot;: &quot;2022-05-16&quot;}, &quot;type&quot;: &quot;Feature&quot;}, {&quot;bbox&quot;: [22.681228333333333, 36.300403333333335, 22.681228333333333, 36.300403333333335], &quot;geometry&quot;: {&quot;coordinates&quot;: [22.681228333333333, 36.300403333333335], &quot;type&quot;: &quot;Point&quot;}, &quot;id&quot;: &quot;537&quot;, &quot;properties&quot;: {&quot;__folium_color&quot;: &quot;#ff9896&quot;, &quot;index&quot;: 3592, &quot;week&quot;: &quot;2022-05-16&quot;}, &quot;type&quot;: &quot;Feature&quot;}, {&quot;bbox&quot;: [22.681965, 36.301631666666665, 22.681965, 36.301631666666665], &quot;geometry&quot;: {&quot;coordinates&quot;: [22.681965, 36.301631666666665], &quot;type&quot;: &quot;Point&quot;}, &quot;id&quot;: &quot;538&quot;, &quot;properties&quot;: {&quot;__folium_color&quot;: &quot;#ff9896&quot;, &quot;index&quot;: 3593, &quot;week&quot;: &quot;2022-05-16&quot;}, &quot;type&quot;: &quot;Feature&quot;}, {&quot;bbox&quot;: [22.70133, 36.33248, 22.70133, 36.33248], &quot;geometry&quot;: {&quot;coordinates&quot;: [22.70133, 36.33248], &quot;type&quot;: &quot;Point&quot;}, &quot;id&quot;: &quot;539&quot;, &quot;properties&quot;: {&quot;__folium_color&quot;: &quot;#ff9896&quot;, &quot;index&quot;: 3594, &quot;week&quot;: &quot;2022-05-16&quot;}, &quot;type&quot;: &quot;Feature&quot;}, {&quot;bbox&quot;: [22.731561666666668, 36.37204, 22.731561666666668, 36.37204], &quot;geometry&quot;: {&quot;coordinates&quot;: [22.731561666666668, 36.37204], &quot;type&quot;: &quot;Point&quot;}, &quot;id&quot;: &quot;540&quot;, &quot;properties&quot;: {&quot;__folium_color&quot;: &quot;#ff9896&quot;, &quot;index&quot;: 3595, &quot;week&quot;: &quot;2022-05-16&quot;}, &quot;type&quot;: &quot;Feature&quot;}, {&quot;bbox&quot;: [22.804765, 36.48001333333333, 22.804765, 36.48001333333333], &quot;geometry&quot;: {&quot;coordinates&quot;: [22.804765, 36.48001333333333], &quot;type&quot;: &quot;Point&quot;}, &quot;id&quot;: &quot;541&quot;, &quot;properties&quot;: {&quot;__folium_color&quot;: &quot;#ff9896&quot;, &quot;index&quot;: 3596, &quot;week&quot;: &quot;2022-05-16&quot;}, &quot;type&quot;: &quot;Feature&quot;}, {&quot;bbox&quot;: [22.815085, 36.495873333333336, 22.815085, 36.495873333333336], &quot;geometry&quot;: {&quot;coordinates&quot;: [22.815085, 36.495873333333336], &quot;type&quot;: &quot;Point&quot;}, &quot;id&quot;: &quot;542&quot;, &quot;properties&quot;: {&quot;__folium_color&quot;: &quot;#ff9896&quot;, &quot;index&quot;: 3597, &quot;week&quot;: &quot;2022-05-16&quot;}, &quot;type&quot;: &quot;Feature&quot;}, {&quot;bbox&quot;: [22.816635, 36.507466666666666, 22.816635, 36.507466666666666], &quot;geometry&quot;: {&quot;coordinates&quot;: [22.816635, 36.507466666666666], &quot;type&quot;: &quot;Point&quot;}, &quot;id&quot;: &quot;543&quot;, &quot;properties&quot;: {&quot;__folium_color&quot;: &quot;#ff9896&quot;, &quot;index&quot;: 3598, &quot;week&quot;: &quot;2022-05-16&quot;}, &quot;type&quot;: &quot;Feature&quot;}, {&quot;bbox&quot;: [22.796743333333332, 36.50839, 22.796743333333332, 36.50839], &quot;geometry&quot;: {&quot;coordinates&quot;: [22.796743333333332, 36.50839], &quot;type&quot;: &quot;Point&quot;}, &quot;id&quot;: &quot;544&quot;, &quot;properties&quot;: {&quot;__folium_color&quot;: &quot;#ff9896&quot;, &quot;index&quot;: 3599, &quot;week&quot;: &quot;2022-05-16&quot;}, &quot;type&quot;: &quot;Feature&quot;}, {&quot;bbox&quot;: [22.786303333333333, 36.50497333333333, 22.786303333333333, 36.50497333333333], &quot;geometry&quot;: {&quot;coordinates&quot;: [22.786303333333333, 36.50497333333333], &quot;type&quot;: &quot;Point&quot;}, &quot;id&quot;: &quot;545&quot;, &quot;properties&quot;: {&quot;__folium_color&quot;: &quot;#ff9896&quot;, &quot;index&quot;: 3600, &quot;week&quot;: &quot;2022-05-16&quot;}, &quot;type&quot;: &quot;Feature&quot;}, {&quot;bbox&quot;: [22.77844, 36.49787666666667, 22.77844, 36.49787666666667], &quot;geometry&quot;: {&quot;coordinates&quot;: [22.77844, 36.49787666666667], &quot;type&quot;: &quot;Point&quot;}, &quot;id&quot;: &quot;546&quot;, &quot;properties&quot;: {&quot;__folium_color&quot;: &quot;#ff9896&quot;, &quot;index&quot;: 3601, &quot;week&quot;: &quot;2022-05-16&quot;}, &quot;type&quot;: &quot;Feature&quot;}, {&quot;bbox&quot;: [22.770838333333337, 36.49091833333333, 22.770838333333337, 36.49091833333333], &quot;geometry&quot;: {&quot;coordinates&quot;: [22.770838333333337, 36.49091833333333], &quot;type&quot;: &quot;Point&quot;}, &quot;id&quot;: &quot;547&quot;, &quot;properties&quot;: {&quot;__folium_color&quot;: &quot;#ff9896&quot;, &quot;index&quot;: 3602, &quot;week&quot;: &quot;2022-05-16&quot;}, &quot;type&quot;: &quot;Feature&quot;}, {&quot;bbox&quot;: [22.75895, 36.48117833333333, 22.75895, 36.48117833333333], &quot;geometry&quot;: {&quot;coordinates&quot;: [22.75895, 36.48117833333333], &quot;type&quot;: &quot;Point&quot;}, &quot;id&quot;: &quot;548&quot;, &quot;properties&quot;: {&quot;__folium_color&quot;: &quot;#ff9896&quot;, &quot;index&quot;: 3603, &quot;week&quot;: &quot;2022-05-16&quot;}, &quot;type&quot;: &quot;Feature&quot;}, {&quot;bbox&quot;: [22.750921666666667, 36.47420833333333, 22.750921666666667, 36.47420833333333], &quot;geometry&quot;: {&quot;coordinates&quot;: [22.750921666666667, 36.47420833333333], &quot;type&quot;: &quot;Point&quot;}, &quot;id&quot;: &quot;549&quot;, &quot;properties&quot;: {&quot;__folium_color&quot;: &quot;#ff9896&quot;, &quot;index&quot;: 3604, &quot;week&quot;: &quot;2022-05-16&quot;}, &quot;type&quot;: &quot;Feature&quot;}, {&quot;bbox&quot;: [22.742083333333333, 36.468665, 22.742083333333333, 36.468665], &quot;geometry&quot;: {&quot;coordinates&quot;: [22.742083333333333, 36.468665], &quot;type&quot;: &quot;Point&quot;}, &quot;id&quot;: &quot;550&quot;, &quot;properties&quot;: {&quot;__folium_color&quot;: &quot;#ff9896&quot;, &quot;index&quot;: 3605, &quot;week&quot;: &quot;2022-05-16&quot;}, &quot;type&quot;: &quot;Feature&quot;}, {&quot;bbox&quot;: [22.72646, 36.45842666666667, 22.72646, 36.45842666666667], &quot;geometry&quot;: {&quot;coordinates&quot;: [22.72646, 36.45842666666667], &quot;type&quot;: &quot;Point&quot;}, &quot;id&quot;: &quot;551&quot;, &quot;properties&quot;: {&quot;__folium_color&quot;: &quot;#ff9896&quot;, &quot;index&quot;: 3606, &quot;week&quot;: &quot;2022-05-16&quot;}, &quot;type&quot;: &quot;Feature&quot;}, {&quot;bbox&quot;: [22.716983333333335, 36.452238333333334, 22.716983333333335, 36.452238333333334], &quot;geometry&quot;: {&quot;coordinates&quot;: [22.716983333333335, 36.452238333333334], &quot;type&quot;: &quot;Point&quot;}, &quot;id&quot;: &quot;552&quot;, &quot;properties&quot;: {&quot;__folium_color&quot;: &quot;#ff9896&quot;, &quot;index&quot;: 3607, &quot;week&quot;: &quot;2022-05-16&quot;}, &quot;type&quot;: &quot;Feature&quot;}, {&quot;bbox&quot;: [22.703921666666663, 36.446353333333334, 22.703921666666663, 36.446353333333334], &quot;geometry&quot;: {&quot;coordinates&quot;: [22.703921666666663, 36.446353333333334], &quot;type&quot;: &quot;Point&quot;}, &quot;id&quot;: &quot;553&quot;, &quot;properties&quot;: {&quot;__folium_color&quot;: &quot;#ff9896&quot;, &quot;index&quot;: 3608, &quot;week&quot;: &quot;2022-05-16&quot;}, &quot;type&quot;: &quot;Feature&quot;}, {&quot;bbox&quot;: [22.693625, 36.441048333333335, 22.693625, 36.441048333333335], &quot;geometry&quot;: {&quot;coordinates&quot;: [22.693625, 36.441048333333335], &quot;type&quot;: &quot;Point&quot;}, &quot;id&quot;: &quot;554&quot;, &quot;properties&quot;: {&quot;__folium_color&quot;: &quot;#ff9896&quot;, &quot;index&quot;: 3609, &quot;week&quot;: &quot;2022-05-16&quot;}, &quot;type&quot;: &quot;Feature&quot;}, {&quot;bbox&quot;: [22.675736666666666, 36.43407333333333, 22.675736666666666, 36.43407333333333], &quot;geometry&quot;: {&quot;coordinates&quot;: [22.675736666666666, 36.43407333333333], &quot;type&quot;: &quot;Point&quot;}, &quot;id&quot;: &quot;555&quot;, &quot;properties&quot;: {&quot;__folium_color&quot;: &quot;#ff9896&quot;, &quot;index&quot;: 3610, &quot;week&quot;: &quot;2022-05-16&quot;}, &quot;type&quot;: &quot;Feature&quot;}, {&quot;bbox&quot;: [22.66035, 36.42729833333333, 22.66035, 36.42729833333333], &quot;geometry&quot;: {&quot;coordinates&quot;: [22.66035, 36.42729833333333], &quot;type&quot;: &quot;Point&quot;}, &quot;id&quot;: &quot;556&quot;, &quot;properties&quot;: {&quot;__folium_color&quot;: &quot;#ff9896&quot;, &quot;index&quot;: 3611, &quot;week&quot;: &quot;2022-05-16&quot;}, &quot;type&quot;: &quot;Feature&quot;}, {&quot;bbox&quot;: [22.670481666666667, 36.43526, 22.670481666666667, 36.43526], &quot;geometry&quot;: {&quot;coordinates&quot;: [22.670481666666667, 36.43526], &quot;type&quot;: &quot;Point&quot;}, &quot;id&quot;: &quot;557&quot;, &quot;properties&quot;: {&quot;__folium_color&quot;: &quot;#ff9896&quot;, &quot;index&quot;: 3612, &quot;week&quot;: &quot;2022-05-16&quot;}, &quot;type&quot;: &quot;Feature&quot;}, {&quot;bbox&quot;: [22.688486666666662, 36.440113333333336, 22.688486666666662, 36.440113333333336], &quot;geometry&quot;: {&quot;coordinates&quot;: [22.688486666666662, 36.440113333333336], &quot;type&quot;: &quot;Point&quot;}, &quot;id&quot;: &quot;558&quot;, &quot;properties&quot;: {&quot;__folium_color&quot;: &quot;#ff9896&quot;, &quot;index&quot;: 3613, &quot;week&quot;: &quot;2022-05-16&quot;}, &quot;type&quot;: &quot;Feature&quot;}, {&quot;bbox&quot;: [22.702035, 36.44625833333333, 22.702035, 36.44625833333333], &quot;geometry&quot;: {&quot;coordinates&quot;: [22.702035, 36.44625833333333], &quot;type&quot;: &quot;Point&quot;}, &quot;id&quot;: &quot;559&quot;, &quot;properties&quot;: {&quot;__folium_color&quot;: &quot;#ff9896&quot;, &quot;index&quot;: 3614, &quot;week&quot;: &quot;2022-05-16&quot;}, &quot;type&quot;: &quot;Feature&quot;}, {&quot;bbox&quot;: [22.69177, 36.45026166666667, 22.69177, 36.45026166666667], &quot;geometry&quot;: {&quot;coordinates&quot;: [22.69177, 36.45026166666667], &quot;type&quot;: &quot;Point&quot;}, &quot;id&quot;: &quot;560&quot;, &quot;properties&quot;: {&quot;__folium_color&quot;: &quot;#ff9896&quot;, &quot;index&quot;: 3615, &quot;week&quot;: &quot;2022-05-16&quot;}, &quot;type&quot;: &quot;Feature&quot;}, {&quot;bbox&quot;: [22.67185, 36.44394, 22.67185, 36.44394], &quot;geometry&quot;: {&quot;coordinates&quot;: [22.67185, 36.44394], &quot;type&quot;: &quot;Point&quot;}, &quot;id&quot;: &quot;561&quot;, &quot;properties&quot;: {&quot;__folium_color&quot;: &quot;#ff9896&quot;, &quot;index&quot;: 3616, &quot;week&quot;: &quot;2022-05-16&quot;}, &quot;type&quot;: &quot;Feature&quot;}, {&quot;bbox&quot;: [22.657461666666663, 36.439685, 22.657461666666663, 36.439685], &quot;geometry&quot;: {&quot;coordinates&quot;: [22.657461666666663, 36.439685], &quot;type&quot;: &quot;Point&quot;}, &quot;id&quot;: &quot;562&quot;, &quot;properties&quot;: {&quot;__folium_color&quot;: &quot;#ff9896&quot;, &quot;index&quot;: 3617, &quot;week&quot;: &quot;2022-05-16&quot;}, &quot;type&quot;: &quot;Feature&quot;}, {&quot;bbox&quot;: [22.64677, 36.435785, 22.64677, 36.435785], &quot;geometry&quot;: {&quot;coordinates&quot;: [22.64677, 36.435785], &quot;type&quot;: &quot;Point&quot;}, &quot;id&quot;: &quot;563&quot;, &quot;properties&quot;: {&quot;__folium_color&quot;: &quot;#ff9896&quot;, &quot;index&quot;: 3618, &quot;week&quot;: &quot;2022-05-16&quot;}, &quot;type&quot;: &quot;Feature&quot;}, {&quot;bbox&quot;: [22.631333333333338, 36.43047, 22.631333333333338, 36.43047], &quot;geometry&quot;: {&quot;coordinates&quot;: [22.631333333333338, 36.43047], &quot;type&quot;: &quot;Point&quot;}, &quot;id&quot;: &quot;564&quot;, &quot;properties&quot;: {&quot;__folium_color&quot;: &quot;#ff9896&quot;, &quot;index&quot;: 3619, &quot;week&quot;: &quot;2022-05-16&quot;}, &quot;type&quot;: &quot;Feature&quot;}, {&quot;bbox&quot;: [22.61910333333333, 36.42851, 22.61910333333333, 36.42851], &quot;geometry&quot;: {&quot;coordinates&quot;: [22.61910333333333, 36.42851], &quot;type&quot;: &quot;Point&quot;}, &quot;id&quot;: &quot;565&quot;, &quot;properties&quot;: {&quot;__folium_color&quot;: &quot;#ff9896&quot;, &quot;index&quot;: 3620, &quot;week&quot;: &quot;2022-05-16&quot;}, &quot;type&quot;: &quot;Feature&quot;}, {&quot;bbox&quot;: [22.607191666666665, 36.429228333333334, 22.607191666666665, 36.429228333333334], &quot;geometry&quot;: {&quot;coordinates&quot;: [22.607191666666665, 36.429228333333334], &quot;type&quot;: &quot;Point&quot;}, &quot;id&quot;: &quot;566&quot;, &quot;properties&quot;: {&quot;__folium_color&quot;: &quot;#ff9896&quot;, &quot;index&quot;: 3621, &quot;week&quot;: &quot;2022-05-16&quot;}, &quot;type&quot;: &quot;Feature&quot;}, {&quot;bbox&quot;: [22.628363333333333, 36.436695, 22.628363333333333, 36.436695], &quot;geometry&quot;: {&quot;coordinates&quot;: [22.628363333333333, 36.436695], &quot;type&quot;: &quot;Point&quot;}, &quot;id&quot;: &quot;567&quot;, &quot;properties&quot;: {&quot;__folium_color&quot;: &quot;#ff9896&quot;, &quot;index&quot;: 3622, &quot;week&quot;: &quot;2022-05-16&quot;}, &quot;type&quot;: &quot;Feature&quot;}, {&quot;bbox&quot;: [22.724396666666667, 36.45990666666667, 22.724396666666667, 36.45990666666667], &quot;geometry&quot;: {&quot;coordinates&quot;: [22.724396666666667, 36.45990666666667], &quot;type&quot;: &quot;Point&quot;}, &quot;id&quot;: &quot;568&quot;, &quot;properties&quot;: {&quot;__folium_color&quot;: &quot;#ff9896&quot;, &quot;index&quot;: 3623, &quot;week&quot;: &quot;2022-05-16&quot;}, &quot;type&quot;: &quot;Feature&quot;}, {&quot;bbox&quot;: [22.731885, 36.46741, 22.731885, 36.46741], &quot;geometry&quot;: {&quot;coordinates&quot;: [22.731885, 36.46741], &quot;type&quot;: &quot;Point&quot;}, &quot;id&quot;: &quot;569&quot;, &quot;properties&quot;: {&quot;__folium_color&quot;: &quot;#ff9896&quot;, &quot;index&quot;: 3624, &quot;week&quot;: &quot;2022-05-16&quot;}, &quot;type&quot;: &quot;Feature&quot;}, {&quot;bbox&quot;: [22.719808333333333, 36.47244333333333, 22.719808333333333, 36.47244333333333], &quot;geometry&quot;: {&quot;coordinates&quot;: [22.719808333333333, 36.47244333333333], &quot;type&quot;: &quot;Point&quot;}, &quot;id&quot;: &quot;570&quot;, &quot;properties&quot;: {&quot;__folium_color&quot;: &quot;#ff9896&quot;, &quot;index&quot;: 3625, &quot;week&quot;: &quot;2022-05-16&quot;}, &quot;type&quot;: &quot;Feature&quot;}, {&quot;bbox&quot;: [22.703963333333338, 36.469521666666665, 22.703963333333338, 36.469521666666665], &quot;geometry&quot;: {&quot;coordinates&quot;: [22.703963333333338, 36.469521666666665], &quot;type&quot;: &quot;Point&quot;}, &quot;id&quot;: &quot;571&quot;, &quot;properties&quot;: {&quot;__folium_color&quot;: &quot;#ff9896&quot;, &quot;index&quot;: 3626, &quot;week&quot;: &quot;2022-05-16&quot;}, &quot;type&quot;: &quot;Feature&quot;}, {&quot;bbox&quot;: [22.691003333333335, 36.46973, 22.691003333333335, 36.46973], &quot;geometry&quot;: {&quot;coordinates&quot;: [22.691003333333335, 36.46973], &quot;type&quot;: &quot;Point&quot;}, &quot;id&quot;: &quot;572&quot;, &quot;properties&quot;: {&quot;__folium_color&quot;: &quot;#ff9896&quot;, &quot;index&quot;: 3627, &quot;week&quot;: &quot;2022-05-16&quot;}, &quot;type&quot;: &quot;Feature&quot;}, {&quot;bbox&quot;: [22.680811666666667, 36.475195, 22.680811666666667, 36.475195], &quot;geometry&quot;: {&quot;coordinates&quot;: [22.680811666666667, 36.475195], &quot;type&quot;: &quot;Point&quot;}, &quot;id&quot;: &quot;573&quot;, &quot;properties&quot;: {&quot;__folium_color&quot;: &quot;#ff9896&quot;, &quot;index&quot;: 3628, &quot;week&quot;: &quot;2022-05-16&quot;}, &quot;type&quot;: &quot;Feature&quot;}, {&quot;bbox&quot;: [22.681755, 36.48787, 22.681755, 36.48787], &quot;geometry&quot;: {&quot;coordinates&quot;: [22.681755, 36.48787], &quot;type&quot;: &quot;Point&quot;}, &quot;id&quot;: &quot;574&quot;, &quot;properties&quot;: {&quot;__folium_color&quot;: &quot;#ff9896&quot;, &quot;index&quot;: 3629, &quot;week&quot;: &quot;2022-05-16&quot;}, &quot;type&quot;: &quot;Feature&quot;}, {&quot;bbox&quot;: [22.681326666666667, 36.496871666666664, 22.681326666666667, 36.496871666666664], &quot;geometry&quot;: {&quot;coordinates&quot;: [22.681326666666667, 36.496871666666664], &quot;type&quot;: &quot;Point&quot;}, &quot;id&quot;: &quot;575&quot;, &quot;properties&quot;: {&quot;__folium_color&quot;: &quot;#ff9896&quot;, &quot;index&quot;: 3630, &quot;week&quot;: &quot;2022-05-16&quot;}, &quot;type&quot;: &quot;Feature&quot;}, {&quot;bbox&quot;: [22.68268, 36.508085, 22.68268, 36.508085], &quot;geometry&quot;: {&quot;coordinates&quot;: [22.68268, 36.508085], &quot;type&quot;: &quot;Point&quot;}, &quot;id&quot;: &quot;576&quot;, &quot;properties&quot;: {&quot;__folium_color&quot;: &quot;#ff9896&quot;, &quot;index&quot;: 3631, &quot;week&quot;: &quot;2022-05-16&quot;}, &quot;type&quot;: &quot;Feature&quot;}, {&quot;bbox&quot;: [22.676178333333333, 36.50241666666667, 22.676178333333333, 36.50241666666667], &quot;geometry&quot;: {&quot;coordinates&quot;: [22.676178333333333, 36.50241666666667], &quot;type&quot;: &quot;Point&quot;}, &quot;id&quot;: &quot;577&quot;, &quot;properties&quot;: {&quot;__folium_color&quot;: &quot;#ff9896&quot;, &quot;index&quot;: 3632, &quot;week&quot;: &quot;2022-05-16&quot;}, &quot;type&quot;: &quot;Feature&quot;}, {&quot;bbox&quot;: [22.67343333333333, 36.489293333333336, 22.67343333333333, 36.489293333333336], &quot;geometry&quot;: {&quot;coordinates&quot;: [22.67343333333333, 36.489293333333336], &quot;type&quot;: &quot;Point&quot;}, &quot;id&quot;: &quot;578&quot;, &quot;properties&quot;: {&quot;__folium_color&quot;: &quot;#ff9896&quot;, &quot;index&quot;: 3633, &quot;week&quot;: &quot;2022-05-16&quot;}, &quot;type&quot;: &quot;Feature&quot;}, {&quot;bbox&quot;: [22.668713333333333, 36.45830333333333, 22.668713333333333, 36.45830333333333], &quot;geometry&quot;: {&quot;coordinates&quot;: [22.668713333333333, 36.45830333333333], &quot;type&quot;: &quot;Point&quot;}, &quot;id&quot;: &quot;579&quot;, &quot;properties&quot;: {&quot;__folium_color&quot;: &quot;#ff9896&quot;, &quot;index&quot;: 3634, &quot;week&quot;: &quot;2022-05-16&quot;}, &quot;type&quot;: &quot;Feature&quot;}, {&quot;bbox&quot;: [22.67244, 36.44931833333333, 22.67244, 36.44931833333333], &quot;geometry&quot;: {&quot;coordinates&quot;: [22.67244, 36.44931833333333], &quot;type&quot;: &quot;Point&quot;}, &quot;id&quot;: &quot;580&quot;, &quot;properties&quot;: {&quot;__folium_color&quot;: &quot;#ff9896&quot;, &quot;index&quot;: 3635, &quot;week&quot;: &quot;2022-05-16&quot;}, &quot;type&quot;: &quot;Feature&quot;}, {&quot;bbox&quot;: [22.682081666666665, 36.436855, 22.682081666666665, 36.436855], &quot;geometry&quot;: {&quot;coordinates&quot;: [22.682081666666665, 36.436855], &quot;type&quot;: &quot;Point&quot;}, &quot;id&quot;: &quot;581&quot;, &quot;properties&quot;: {&quot;__folium_color&quot;: &quot;#ff9896&quot;, &quot;index&quot;: 3636, &quot;week&quot;: &quot;2022-05-16&quot;}, &quot;type&quot;: &quot;Feature&quot;}, {&quot;bbox&quot;: [22.704336666666663, 36.43218666666667, 22.704336666666663, 36.43218666666667], &quot;geometry&quot;: {&quot;coordinates&quot;: [22.704336666666663, 36.43218666666667], &quot;type&quot;: &quot;Point&quot;}, &quot;id&quot;: &quot;582&quot;, &quot;properties&quot;: {&quot;__folium_color&quot;: &quot;#ff9896&quot;, &quot;index&quot;: 3637, &quot;week&quot;: &quot;2022-05-16&quot;}, &quot;type&quot;: &quot;Feature&quot;}, {&quot;bbox&quot;: [22.706931666666662, 36.439373333333336, 22.706931666666662, 36.439373333333336], &quot;geometry&quot;: {&quot;coordinates&quot;: [22.706931666666662, 36.439373333333336], &quot;type&quot;: &quot;Point&quot;}, &quot;id&quot;: &quot;583&quot;, &quot;properties&quot;: {&quot;__folium_color&quot;: &quot;#ff9896&quot;, &quot;index&quot;: 3638, &quot;week&quot;: &quot;2022-05-16&quot;}, &quot;type&quot;: &quot;Feature&quot;}, {&quot;bbox&quot;: [22.696885, 36.44445, 22.696885, 36.44445], &quot;geometry&quot;: {&quot;coordinates&quot;: [22.696885, 36.44445], &quot;type&quot;: &quot;Point&quot;}, &quot;id&quot;: &quot;584&quot;, &quot;properties&quot;: {&quot;__folium_color&quot;: &quot;#ff9896&quot;, &quot;index&quot;: 3639, &quot;week&quot;: &quot;2022-05-16&quot;}, &quot;type&quot;: &quot;Feature&quot;}, {&quot;bbox&quot;: [22.685768333333332, 36.447345, 22.685768333333332, 36.447345], &quot;geometry&quot;: {&quot;coordinates&quot;: [22.685768333333332, 36.447345], &quot;type&quot;: &quot;Point&quot;}, &quot;id&quot;: &quot;585&quot;, &quot;properties&quot;: {&quot;__folium_color&quot;: &quot;#ff9896&quot;, &quot;index&quot;: 3640, &quot;week&quot;: &quot;2022-05-16&quot;}, &quot;type&quot;: &quot;Feature&quot;}, {&quot;bbox&quot;: [22.671736666666668, 36.447896666666665, 22.671736666666668, 36.447896666666665], &quot;geometry&quot;: {&quot;coordinates&quot;: [22.671736666666668, 36.447896666666665], &quot;type&quot;: &quot;Point&quot;}, &quot;id&quot;: &quot;586&quot;, &quot;properties&quot;: {&quot;__folium_color&quot;: &quot;#ff9896&quot;, &quot;index&quot;: 3641, &quot;week&quot;: &quot;2022-05-16&quot;}, &quot;type&quot;: &quot;Feature&quot;}, {&quot;bbox&quot;: [22.66048333333333, 36.446913333333335, 22.66048333333333, 36.446913333333335], &quot;geometry&quot;: {&quot;coordinates&quot;: [22.66048333333333, 36.446913333333335], &quot;type&quot;: &quot;Point&quot;}, &quot;id&quot;: &quot;587&quot;, &quot;properties&quot;: {&quot;__folium_color&quot;: &quot;#ff9896&quot;, &quot;index&quot;: 3642, &quot;week&quot;: &quot;2022-05-16&quot;}, &quot;type&quot;: &quot;Feature&quot;}, {&quot;bbox&quot;: [22.651878333333332, 36.446815, 22.651878333333332, 36.446815], &quot;geometry&quot;: {&quot;coordinates&quot;: [22.651878333333332, 36.446815], &quot;type&quot;: &quot;Point&quot;}, &quot;id&quot;: &quot;588&quot;, &quot;properties&quot;: {&quot;__folium_color&quot;: &quot;#ff9896&quot;, &quot;index&quot;: 3643, &quot;week&quot;: &quot;2022-05-16&quot;}, &quot;type&quot;: &quot;Feature&quot;}, {&quot;bbox&quot;: [22.645285, 36.44694833333333, 22.645285, 36.44694833333333], &quot;geometry&quot;: {&quot;coordinates&quot;: [22.645285, 36.44694833333333], &quot;type&quot;: &quot;Point&quot;}, &quot;id&quot;: &quot;589&quot;, &quot;properties&quot;: {&quot;__folium_color&quot;: &quot;#ff9896&quot;, &quot;index&quot;: 3644, &quot;week&quot;: &quot;2022-05-16&quot;}, &quot;type&quot;: &quot;Feature&quot;}, {&quot;bbox&quot;: [22.643551666666667, 36.44927, 22.643551666666667, 36.44927], &quot;geometry&quot;: {&quot;coordinates&quot;: [22.643551666666667, 36.44927], &quot;type&quot;: &quot;Point&quot;}, &quot;id&quot;: &quot;590&quot;, &quot;properties&quot;: {&quot;__folium_color&quot;: &quot;#ff9896&quot;, &quot;index&quot;: 3645, &quot;week&quot;: &quot;2022-05-16&quot;}, &quot;type&quot;: &quot;Feature&quot;}, {&quot;bbox&quot;: [22.64329, 36.44996666666667, 22.64329, 36.44996666666667], &quot;geometry&quot;: {&quot;coordinates&quot;: [22.64329, 36.44996666666667], &quot;type&quot;: &quot;Point&quot;}, &quot;id&quot;: &quot;591&quot;, &quot;properties&quot;: {&quot;__folium_color&quot;: &quot;#ff9896&quot;, &quot;index&quot;: 3646, &quot;week&quot;: &quot;2022-05-16&quot;}, &quot;type&quot;: &quot;Feature&quot;}, {&quot;bbox&quot;: [22.637711666666668, 36.45614166666667, 22.637711666666668, 36.45614166666667], &quot;geometry&quot;: {&quot;coordinates&quot;: [22.637711666666668, 36.45614166666667], &quot;type&quot;: &quot;Point&quot;}, &quot;id&quot;: &quot;592&quot;, &quot;properties&quot;: {&quot;__folium_color&quot;: &quot;#ff9896&quot;, &quot;index&quot;: 3647, &quot;week&quot;: &quot;2022-05-16&quot;}, &quot;type&quot;: &quot;Feature&quot;}, {&quot;bbox&quot;: [22.636711666666667, 36.456725, 22.636711666666667, 36.456725], &quot;geometry&quot;: {&quot;coordinates&quot;: [22.636711666666667, 36.456725], &quot;type&quot;: &quot;Point&quot;}, &quot;id&quot;: &quot;593&quot;, &quot;properties&quot;: {&quot;__folium_color&quot;: &quot;#ff9896&quot;, &quot;index&quot;: 3648, &quot;week&quot;: &quot;2022-05-16&quot;}, &quot;type&quot;: &quot;Feature&quot;}, {&quot;bbox&quot;: [22.63585, 36.45748, 22.63585, 36.45748], &quot;geometry&quot;: {&quot;coordinates&quot;: [22.63585, 36.45748], &quot;type&quot;: &quot;Point&quot;}, &quot;id&quot;: &quot;594&quot;, &quot;properties&quot;: {&quot;__folium_color&quot;: &quot;#ff9896&quot;, &quot;index&quot;: 3649, &quot;week&quot;: &quot;2022-05-16&quot;}, &quot;type&quot;: &quot;Feature&quot;}, {&quot;bbox&quot;: [22.63116, 36.46299166666667, 22.63116, 36.46299166666667], &quot;geometry&quot;: {&quot;coordinates&quot;: [22.63116, 36.46299166666667], &quot;type&quot;: &quot;Point&quot;}, &quot;id&quot;: &quot;595&quot;, &quot;properties&quot;: {&quot;__folium_color&quot;: &quot;#ff9896&quot;, &quot;index&quot;: 3650, &quot;week&quot;: &quot;2022-05-16&quot;}, &quot;type&quot;: &quot;Feature&quot;}, {&quot;bbox&quot;: [22.630321666666667, 36.46889, 22.630321666666667, 36.46889], &quot;geometry&quot;: {&quot;coordinates&quot;: [22.630321666666667, 36.46889], &quot;type&quot;: &quot;Point&quot;}, &quot;id&quot;: &quot;596&quot;, &quot;properties&quot;: {&quot;__folium_color&quot;: &quot;#ff9896&quot;, &quot;index&quot;: 3651, &quot;week&quot;: &quot;2022-05-16&quot;}, &quot;type&quot;: &quot;Feature&quot;}, {&quot;bbox&quot;: [22.628263333333333, 36.47268833333333, 22.628263333333333, 36.47268833333333], &quot;geometry&quot;: {&quot;coordinates&quot;: [22.628263333333333, 36.47268833333333], &quot;type&quot;: &quot;Point&quot;}, &quot;id&quot;: &quot;597&quot;, &quot;properties&quot;: {&quot;__folium_color&quot;: &quot;#ff9896&quot;, &quot;index&quot;: 3652, &quot;week&quot;: &quot;2022-05-16&quot;}, &quot;type&quot;: &quot;Feature&quot;}, {&quot;bbox&quot;: [22.624648333333333, 36.471285, 22.624648333333333, 36.471285], &quot;geometry&quot;: {&quot;coordinates&quot;: [22.624648333333333, 36.471285], &quot;type&quot;: &quot;Point&quot;}, &quot;id&quot;: &quot;598&quot;, &quot;properties&quot;: {&quot;__folium_color&quot;: &quot;#ff9896&quot;, &quot;index&quot;: 3653, &quot;week&quot;: &quot;2022-05-16&quot;}, &quot;type&quot;: &quot;Feature&quot;}, {&quot;bbox&quot;: [22.627736666666667, 36.457105, 22.627736666666667, 36.457105], &quot;geometry&quot;: {&quot;coordinates&quot;: [22.627736666666667, 36.457105], &quot;type&quot;: &quot;Point&quot;}, &quot;id&quot;: &quot;599&quot;, &quot;properties&quot;: {&quot;__folium_color&quot;: &quot;#ff9896&quot;, &quot;index&quot;: 3654, &quot;week&quot;: &quot;2022-05-16&quot;}, &quot;type&quot;: &quot;Feature&quot;}, {&quot;bbox&quot;: [22.628925, 36.447826666666664, 22.628925, 36.447826666666664], &quot;geometry&quot;: {&quot;coordinates&quot;: [22.628925, 36.447826666666664], &quot;type&quot;: &quot;Point&quot;}, &quot;id&quot;: &quot;600&quot;, &quot;properties&quot;: {&quot;__folium_color&quot;: &quot;#ff9896&quot;, &quot;index&quot;: 3655, &quot;week&quot;: &quot;2022-05-16&quot;}, &quot;type&quot;: &quot;Feature&quot;}, {&quot;bbox&quot;: [22.633026666666662, 36.438815, 22.633026666666662, 36.438815], &quot;geometry&quot;: {&quot;coordinates&quot;: [22.633026666666662, 36.438815], &quot;type&quot;: &quot;Point&quot;}, &quot;id&quot;: &quot;601&quot;, &quot;properties&quot;: {&quot;__folium_color&quot;: &quot;#ff9896&quot;, &quot;index&quot;: 3656, &quot;week&quot;: &quot;2022-05-16&quot;}, &quot;type&quot;: &quot;Feature&quot;}, {&quot;bbox&quot;: [22.63846, 36.43595333333333, 22.63846, 36.43595333333333], &quot;geometry&quot;: {&quot;coordinates&quot;: [22.63846, 36.43595333333333], &quot;type&quot;: &quot;Point&quot;}, &quot;id&quot;: &quot;602&quot;, &quot;properties&quot;: {&quot;__folium_color&quot;: &quot;#ff9896&quot;, &quot;index&quot;: 3657, &quot;week&quot;: &quot;2022-05-16&quot;}, &quot;type&quot;: &quot;Feature&quot;}, {&quot;bbox&quot;: [22.633436666666668, 36.441361666666666, 22.633436666666668, 36.441361666666666], &quot;geometry&quot;: {&quot;coordinates&quot;: [22.633436666666668, 36.441361666666666], &quot;type&quot;: &quot;Point&quot;}, &quot;id&quot;: &quot;603&quot;, &quot;properties&quot;: {&quot;__folium_color&quot;: &quot;#ff9896&quot;, &quot;index&quot;: 3658, &quot;week&quot;: &quot;2022-05-16&quot;}, &quot;type&quot;: &quot;Feature&quot;}, {&quot;bbox&quot;: [22.629338333333333, 36.44904833333333, 22.629338333333333, 36.44904833333333], &quot;geometry&quot;: {&quot;coordinates&quot;: [22.629338333333333, 36.44904833333333], &quot;type&quot;: &quot;Point&quot;}, &quot;id&quot;: &quot;604&quot;, &quot;properties&quot;: {&quot;__folium_color&quot;: &quot;#ff9896&quot;, &quot;index&quot;: 3659, &quot;week&quot;: &quot;2022-05-16&quot;}, &quot;type&quot;: &quot;Feature&quot;}, {&quot;bbox&quot;: [22.63282, 36.459995, 22.63282, 36.459995], &quot;geometry&quot;: {&quot;coordinates&quot;: [22.63282, 36.459995], &quot;type&quot;: &quot;Point&quot;}, &quot;id&quot;: &quot;605&quot;, &quot;properties&quot;: {&quot;__folium_color&quot;: &quot;#ff9896&quot;, &quot;index&quot;: 3660, &quot;week&quot;: &quot;2022-05-16&quot;}, &quot;type&quot;: &quot;Feature&quot;}, {&quot;bbox&quot;: [22.637133333333335, 36.46930166666667, 22.637133333333335, 36.46930166666667], &quot;geometry&quot;: {&quot;coordinates&quot;: [22.637133333333335, 36.46930166666667], &quot;type&quot;: &quot;Point&quot;}, &quot;id&quot;: &quot;606&quot;, &quot;properties&quot;: {&quot;__folium_color&quot;: &quot;#ff9896&quot;, &quot;index&quot;: 3661, &quot;week&quot;: &quot;2022-05-16&quot;}, &quot;type&quot;: &quot;Feature&quot;}, {&quot;bbox&quot;: [22.64469, 36.478851666666664, 22.64469, 36.478851666666664], &quot;geometry&quot;: {&quot;coordinates&quot;: [22.64469, 36.478851666666664], &quot;type&quot;: &quot;Point&quot;}, &quot;id&quot;: &quot;607&quot;, &quot;properties&quot;: {&quot;__folium_color&quot;: &quot;#ff9896&quot;, &quot;index&quot;: 3662, &quot;week&quot;: &quot;2022-05-16&quot;}, &quot;type&quot;: &quot;Feature&quot;}, {&quot;bbox&quot;: [22.64817, 36.48849666666667, 22.64817, 36.48849666666667], &quot;geometry&quot;: {&quot;coordinates&quot;: [22.64817, 36.48849666666667], &quot;type&quot;: &quot;Point&quot;}, &quot;id&quot;: &quot;608&quot;, &quot;properties&quot;: {&quot;__folium_color&quot;: &quot;#ff9896&quot;, &quot;index&quot;: 3663, &quot;week&quot;: &quot;2022-05-16&quot;}, &quot;type&quot;: &quot;Feature&quot;}, {&quot;bbox&quot;: [22.653581666666668, 36.497946666666664, 22.653581666666668, 36.497946666666664], &quot;geometry&quot;: {&quot;coordinates&quot;: [22.653581666666668, 36.497946666666664], &quot;type&quot;: &quot;Point&quot;}, &quot;id&quot;: &quot;609&quot;, &quot;properties&quot;: {&quot;__folium_color&quot;: &quot;#ff9896&quot;, &quot;index&quot;: 3664, &quot;week&quot;: &quot;2022-05-16&quot;}, &quot;type&quot;: &quot;Feature&quot;}, {&quot;bbox&quot;: [22.651326666666662, 36.500508333333336, 22.651326666666662, 36.500508333333336], &quot;geometry&quot;: {&quot;coordinates&quot;: [22.651326666666662, 36.500508333333336], &quot;type&quot;: &quot;Point&quot;}, &quot;id&quot;: &quot;610&quot;, &quot;properties&quot;: {&quot;__folium_color&quot;: &quot;#ff9896&quot;, &quot;index&quot;: 3665, &quot;week&quot;: &quot;2022-05-16&quot;}, &quot;type&quot;: &quot;Feature&quot;}, {&quot;bbox&quot;: [22.65206, 36.497775, 22.65206, 36.497775], &quot;geometry&quot;: {&quot;coordinates&quot;: [22.65206, 36.497775], &quot;type&quot;: &quot;Point&quot;}, &quot;id&quot;: &quot;611&quot;, &quot;properties&quot;: {&quot;__folium_color&quot;: &quot;#ff9896&quot;, &quot;index&quot;: 3666, &quot;week&quot;: &quot;2022-05-16&quot;}, &quot;type&quot;: &quot;Feature&quot;}, {&quot;bbox&quot;: [22.67315, 36.468938333333334, 22.67315, 36.468938333333334], &quot;geometry&quot;: {&quot;coordinates&quot;: [22.67315, 36.468938333333334], &quot;type&quot;: &quot;Point&quot;}, &quot;id&quot;: &quot;612&quot;, &quot;properties&quot;: {&quot;__folium_color&quot;: &quot;#ff9896&quot;, &quot;index&quot;: 3667, &quot;week&quot;: &quot;2022-05-16&quot;}, &quot;type&quot;: &quot;Feature&quot;}, {&quot;bbox&quot;: [22.678586666666668, 36.44600833333333, 22.678586666666668, 36.44600833333333], &quot;geometry&quot;: {&quot;coordinates&quot;: [22.678586666666668, 36.44600833333333], &quot;type&quot;: &quot;Point&quot;}, &quot;id&quot;: &quot;613&quot;, &quot;properties&quot;: {&quot;__folium_color&quot;: &quot;#ff9896&quot;, &quot;index&quot;: 3668, &quot;week&quot;: &quot;2022-05-16&quot;}, &quot;type&quot;: &quot;Feature&quot;}, {&quot;bbox&quot;: [22.674721666666667, 36.418171666666666, 22.674721666666667, 36.418171666666666], &quot;geometry&quot;: {&quot;coordinates&quot;: [22.674721666666667, 36.418171666666666], &quot;type&quot;: &quot;Point&quot;}, &quot;id&quot;: &quot;614&quot;, &quot;properties&quot;: {&quot;__folium_color&quot;: &quot;#ff9896&quot;, &quot;index&quot;: 3669, &quot;week&quot;: &quot;2022-05-16&quot;}, &quot;type&quot;: &quot;Feature&quot;}, {&quot;bbox&quot;: [22.656501666666667, 36.40933166666667, 22.656501666666667, 36.40933166666667], &quot;geometry&quot;: {&quot;coordinates&quot;: [22.656501666666667, 36.40933166666667], &quot;type&quot;: &quot;Point&quot;}, &quot;id&quot;: &quot;615&quot;, &quot;properties&quot;: {&quot;__folium_color&quot;: &quot;#ff9896&quot;, &quot;index&quot;: 3670, &quot;week&quot;: &quot;2022-05-16&quot;}, &quot;type&quot;: &quot;Feature&quot;}, {&quot;bbox&quot;: [22.639043333333333, 36.41112666666667, 22.639043333333333, 36.41112666666667], &quot;geometry&quot;: {&quot;coordinates&quot;: [22.639043333333333, 36.41112666666667], &quot;type&quot;: &quot;Point&quot;}, &quot;id&quot;: &quot;616&quot;, &quot;properties&quot;: {&quot;__folium_color&quot;: &quot;#ff9896&quot;, &quot;index&quot;: 3671, &quot;week&quot;: &quot;2022-05-16&quot;}, &quot;type&quot;: &quot;Feature&quot;}, {&quot;bbox&quot;: [22.62939, 36.410201666666666, 22.62939, 36.410201666666666], &quot;geometry&quot;: {&quot;coordinates&quot;: [22.62939, 36.410201666666666], &quot;type&quot;: &quot;Point&quot;}, &quot;id&quot;: &quot;617&quot;, &quot;properties&quot;: {&quot;__folium_color&quot;: &quot;#ff9896&quot;, &quot;index&quot;: 3672, &quot;week&quot;: &quot;2022-05-16&quot;}, &quot;type&quot;: &quot;Feature&quot;}, {&quot;bbox&quot;: [22.624268333333333, 36.407846666666664, 22.624268333333333, 36.407846666666664], &quot;geometry&quot;: {&quot;coordinates&quot;: [22.624268333333333, 36.407846666666664], &quot;type&quot;: &quot;Point&quot;}, &quot;id&quot;: &quot;618&quot;, &quot;properties&quot;: {&quot;__folium_color&quot;: &quot;#ff9896&quot;, &quot;index&quot;: 3673, &quot;week&quot;: &quot;2022-05-16&quot;}, &quot;type&quot;: &quot;Feature&quot;}, {&quot;bbox&quot;: [22.620306666666668, 36.41104833333333, 22.620306666666668, 36.41104833333333], &quot;geometry&quot;: {&quot;coordinates&quot;: [22.620306666666668, 36.41104833333333], &quot;type&quot;: &quot;Point&quot;}, &quot;id&quot;: &quot;619&quot;, &quot;properties&quot;: {&quot;__folium_color&quot;: &quot;#ff9896&quot;, &quot;index&quot;: 3674, &quot;week&quot;: &quot;2022-05-16&quot;}, &quot;type&quot;: &quot;Feature&quot;}, {&quot;bbox&quot;: [22.62513, 36.415775, 22.62513, 36.415775], &quot;geometry&quot;: {&quot;coordinates&quot;: [22.62513, 36.415775], &quot;type&quot;: &quot;Point&quot;}, &quot;id&quot;: &quot;620&quot;, &quot;properties&quot;: {&quot;__folium_color&quot;: &quot;#ff9896&quot;, &quot;index&quot;: 3675, &quot;week&quot;: &quot;2022-05-16&quot;}, &quot;type&quot;: &quot;Feature&quot;}, {&quot;bbox&quot;: [22.62481, 36.41672333333333, 22.62481, 36.41672333333333], &quot;geometry&quot;: {&quot;coordinates&quot;: [22.62481, 36.41672333333333], &quot;type&quot;: &quot;Point&quot;}, &quot;id&quot;: &quot;621&quot;, &quot;properties&quot;: {&quot;__folium_color&quot;: &quot;#ff9896&quot;, &quot;index&quot;: 3676, &quot;week&quot;: &quot;2022-05-16&quot;}, &quot;type&quot;: &quot;Feature&quot;}, {&quot;bbox&quot;: [22.624055, 36.41748, 22.624055, 36.41748], &quot;geometry&quot;: {&quot;coordinates&quot;: [22.624055, 36.41748], &quot;type&quot;: &quot;Point&quot;}, &quot;id&quot;: &quot;622&quot;, &quot;properties&quot;: {&quot;__folium_color&quot;: &quot;#ff9896&quot;, &quot;index&quot;: 3677, &quot;week&quot;: &quot;2022-05-16&quot;}, &quot;type&quot;: &quot;Feature&quot;}, {&quot;bbox&quot;: [22.623276666666666, 36.42156833333333, 22.623276666666666, 36.42156833333333], &quot;geometry&quot;: {&quot;coordinates&quot;: [22.623276666666666, 36.42156833333333], &quot;type&quot;: &quot;Point&quot;}, &quot;id&quot;: &quot;623&quot;, &quot;properties&quot;: {&quot;__folium_color&quot;: &quot;#ff9896&quot;, &quot;index&quot;: 3678, &quot;week&quot;: &quot;2022-05-16&quot;}, &quot;type&quot;: &quot;Feature&quot;}, {&quot;bbox&quot;: [22.626943333333333, 36.42025, 22.626943333333333, 36.42025], &quot;geometry&quot;: {&quot;coordinates&quot;: [22.626943333333333, 36.42025], &quot;type&quot;: &quot;Point&quot;}, &quot;id&quot;: &quot;624&quot;, &quot;properties&quot;: {&quot;__folium_color&quot;: &quot;#ff9896&quot;, &quot;index&quot;: 3679, &quot;week&quot;: &quot;2022-05-16&quot;}, &quot;type&quot;: &quot;Feature&quot;}, {&quot;bbox&quot;: [22.625561666666663, 36.420206666666665, 22.625561666666663, 36.420206666666665], &quot;geometry&quot;: {&quot;coordinates&quot;: [22.625561666666663, 36.420206666666665], &quot;type&quot;: &quot;Point&quot;}, &quot;id&quot;: &quot;625&quot;, &quot;properties&quot;: {&quot;__folium_color&quot;: &quot;#ff9896&quot;, &quot;index&quot;: 3680, &quot;week&quot;: &quot;2022-05-16&quot;}, &quot;type&quot;: &quot;Feature&quot;}, {&quot;bbox&quot;: [22.624876666666665, 36.42045, 22.624876666666665, 36.42045], &quot;geometry&quot;: {&quot;coordinates&quot;: [22.624876666666665, 36.42045], &quot;type&quot;: &quot;Point&quot;}, &quot;id&quot;: &quot;626&quot;, &quot;properties&quot;: {&quot;__folium_color&quot;: &quot;#ff9896&quot;, &quot;index&quot;: 3681, &quot;week&quot;: &quot;2022-05-16&quot;}, &quot;type&quot;: &quot;Feature&quot;}, {&quot;bbox&quot;: [22.623371666666667, 36.420205, 22.623371666666667, 36.420205], &quot;geometry&quot;: {&quot;coordinates&quot;: [22.623371666666667, 36.420205], &quot;type&quot;: &quot;Point&quot;}, &quot;id&quot;: &quot;627&quot;, &quot;properties&quot;: {&quot;__folium_color&quot;: &quot;#ff9896&quot;, &quot;index&quot;: 3682, &quot;week&quot;: &quot;2022-05-16&quot;}, &quot;type&quot;: &quot;Feature&quot;}, {&quot;bbox&quot;: [22.623615, 36.41806666666667, 22.623615, 36.41806666666667], &quot;geometry&quot;: {&quot;coordinates&quot;: [22.623615, 36.41806666666667], &quot;type&quot;: &quot;Point&quot;}, &quot;id&quot;: &quot;628&quot;, &quot;properties&quot;: {&quot;__folium_color&quot;: &quot;#ff9896&quot;, &quot;index&quot;: 3683, &quot;week&quot;: &quot;2022-05-16&quot;}, &quot;type&quot;: &quot;Feature&quot;}, {&quot;bbox&quot;: [22.622565, 36.416535, 22.622565, 36.416535], &quot;geometry&quot;: {&quot;coordinates&quot;: [22.622565, 36.416535], &quot;type&quot;: &quot;Point&quot;}, &quot;id&quot;: &quot;629&quot;, &quot;properties&quot;: {&quot;__folium_color&quot;: &quot;#ff9896&quot;, &quot;index&quot;: 3684, &quot;week&quot;: &quot;2022-05-16&quot;}, &quot;type&quot;: &quot;Feature&quot;}, {&quot;bbox&quot;: [22.62232, 36.415441666666666, 22.62232, 36.415441666666666], &quot;geometry&quot;: {&quot;coordinates&quot;: [22.62232, 36.415441666666666], &quot;type&quot;: &quot;Point&quot;}, &quot;id&quot;: &quot;630&quot;, &quot;properties&quot;: {&quot;__folium_color&quot;: &quot;#ff9896&quot;, &quot;index&quot;: 3685, &quot;week&quot;: &quot;2022-05-16&quot;}, &quot;type&quot;: &quot;Feature&quot;}, {&quot;bbox&quot;: [22.621143333333332, 36.414921666666665, 22.621143333333332, 36.414921666666665], &quot;geometry&quot;: {&quot;coordinates&quot;: [22.621143333333332, 36.414921666666665], &quot;type&quot;: &quot;Point&quot;}, &quot;id&quot;: &quot;631&quot;, &quot;properties&quot;: {&quot;__folium_color&quot;: &quot;#ff9896&quot;, &quot;index&quot;: 3686, &quot;week&quot;: &quot;2022-05-16&quot;}, &quot;type&quot;: &quot;Feature&quot;}, {&quot;bbox&quot;: [22.617448333333332, 36.41540666666667, 22.617448333333332, 36.41540666666667], &quot;geometry&quot;: {&quot;coordinates&quot;: [22.617448333333332, 36.41540666666667], &quot;type&quot;: &quot;Point&quot;}, &quot;id&quot;: &quot;632&quot;, &quot;properties&quot;: {&quot;__folium_color&quot;: &quot;#ff9896&quot;, &quot;index&quot;: 3687, &quot;week&quot;: &quot;2022-05-16&quot;}, &quot;type&quot;: &quot;Feature&quot;}, {&quot;bbox&quot;: [22.626308333333338, 36.415821666666666, 22.626308333333338, 36.415821666666666], &quot;geometry&quot;: {&quot;coordinates&quot;: [22.626308333333338, 36.415821666666666], &quot;type&quot;: &quot;Point&quot;}, &quot;id&quot;: &quot;633&quot;, &quot;properties&quot;: {&quot;__folium_color&quot;: &quot;#ff9896&quot;, &quot;index&quot;: 3688, &quot;week&quot;: &quot;2022-05-16&quot;}, &quot;type&quot;: &quot;Feature&quot;}, {&quot;bbox&quot;: [22.669731666666667, 36.42928833333333, 22.669731666666667, 36.42928833333333], &quot;geometry&quot;: {&quot;coordinates&quot;: [22.669731666666667, 36.42928833333333], &quot;type&quot;: &quot;Point&quot;}, &quot;id&quot;: &quot;634&quot;, &quot;properties&quot;: {&quot;__folium_color&quot;: &quot;#ff9896&quot;, &quot;index&quot;: 3689, &quot;week&quot;: &quot;2022-05-16&quot;}, &quot;type&quot;: &quot;Feature&quot;}, {&quot;bbox&quot;: [22.688858333333332, 36.43906333333333, 22.688858333333332, 36.43906333333333], &quot;geometry&quot;: {&quot;coordinates&quot;: [22.688858333333332, 36.43906333333333], &quot;type&quot;: &quot;Point&quot;}, &quot;id&quot;: &quot;635&quot;, &quot;properties&quot;: {&quot;__folium_color&quot;: &quot;#ff9896&quot;, &quot;index&quot;: 3690, &quot;week&quot;: &quot;2022-05-16&quot;}, &quot;type&quot;: &quot;Feature&quot;}, {&quot;bbox&quot;: [22.687253333333334, 36.448211666666666, 22.687253333333334, 36.448211666666666], &quot;geometry&quot;: {&quot;coordinates&quot;: [22.687253333333334, 36.448211666666666], &quot;type&quot;: &quot;Point&quot;}, &quot;id&quot;: &quot;636&quot;, &quot;properties&quot;: {&quot;__folium_color&quot;: &quot;#ff9896&quot;, &quot;index&quot;: 3691, &quot;week&quot;: &quot;2022-05-16&quot;}, &quot;type&quot;: &quot;Feature&quot;}, {&quot;bbox&quot;: [22.692006666666668, 36.450265, 22.692006666666668, 36.450265], &quot;geometry&quot;: {&quot;coordinates&quot;: [22.692006666666668, 36.450265], &quot;type&quot;: &quot;Point&quot;}, &quot;id&quot;: &quot;637&quot;, &quot;properties&quot;: {&quot;__folium_color&quot;: &quot;#ff9896&quot;, &quot;index&quot;: 3692, &quot;week&quot;: &quot;2022-05-16&quot;}, &quot;type&quot;: &quot;Feature&quot;}, {&quot;bbox&quot;: [22.701433333333338, 36.45516833333333, 22.701433333333338, 36.45516833333333], &quot;geometry&quot;: {&quot;coordinates&quot;: [22.701433333333338, 36.45516833333333], &quot;type&quot;: &quot;Point&quot;}, &quot;id&quot;: &quot;638&quot;, &quot;properties&quot;: {&quot;__folium_color&quot;: &quot;#ff9896&quot;, &quot;index&quot;: 3693, &quot;week&quot;: &quot;2022-05-16&quot;}, &quot;type&quot;: &quot;Feature&quot;}, {&quot;bbox&quot;: [22.708371666666668, 36.46451833333333, 22.708371666666668, 36.46451833333333], &quot;geometry&quot;: {&quot;coordinates&quot;: [22.708371666666668, 36.46451833333333], &quot;type&quot;: &quot;Point&quot;}, &quot;id&quot;: &quot;639&quot;, &quot;properties&quot;: {&quot;__folium_color&quot;: &quot;#ff9896&quot;, &quot;index&quot;: 3694, &quot;week&quot;: &quot;2022-05-16&quot;}, &quot;type&quot;: &quot;Feature&quot;}, {&quot;bbox&quot;: [22.709373333333332, 36.47450166666667, 22.709373333333332, 36.47450166666667], &quot;geometry&quot;: {&quot;coordinates&quot;: [22.709373333333332, 36.47450166666667], &quot;type&quot;: &quot;Point&quot;}, &quot;id&quot;: &quot;640&quot;, &quot;properties&quot;: {&quot;__folium_color&quot;: &quot;#ff9896&quot;, &quot;index&quot;: 3695, &quot;week&quot;: &quot;2022-05-16&quot;}, &quot;type&quot;: &quot;Feature&quot;}, {&quot;bbox&quot;: [22.706995, 36.486531666666664, 22.706995, 36.486531666666664], &quot;geometry&quot;: {&quot;coordinates&quot;: [22.706995, 36.486531666666664], &quot;type&quot;: &quot;Point&quot;}, &quot;id&quot;: &quot;641&quot;, &quot;properties&quot;: {&quot;__folium_color&quot;: &quot;#ff9896&quot;, &quot;index&quot;: 3696, &quot;week&quot;: &quot;2022-05-16&quot;}, &quot;type&quot;: &quot;Feature&quot;}, {&quot;bbox&quot;: [22.66505, 36.47168333333333, 22.66505, 36.47168333333333], &quot;geometry&quot;: {&quot;coordinates&quot;: [22.66505, 36.47168333333333], &quot;type&quot;: &quot;Point&quot;}, &quot;id&quot;: &quot;642&quot;, &quot;properties&quot;: {&quot;__folium_color&quot;: &quot;#ff9896&quot;, &quot;index&quot;: 3697, &quot;week&quot;: &quot;2022-05-16&quot;}, &quot;type&quot;: &quot;Feature&quot;}, {&quot;bbox&quot;: [22.615476666666662, 36.438143333333336, 22.615476666666662, 36.438143333333336], &quot;geometry&quot;: {&quot;coordinates&quot;: [22.615476666666662, 36.438143333333336], &quot;type&quot;: &quot;Point&quot;}, &quot;id&quot;: &quot;643&quot;, &quot;properties&quot;: {&quot;__folium_color&quot;: &quot;#ff9896&quot;, &quot;index&quot;: 3698, &quot;week&quot;: &quot;2022-05-16&quot;}, &quot;type&quot;: &quot;Feature&quot;}, {&quot;bbox&quot;: [22.601976666666665, 36.43868, 22.601976666666665, 36.43868], &quot;geometry&quot;: {&quot;coordinates&quot;: [22.601976666666665, 36.43868], &quot;type&quot;: &quot;Point&quot;}, &quot;id&quot;: &quot;644&quot;, &quot;properties&quot;: {&quot;__folium_color&quot;: &quot;#ff9896&quot;, &quot;index&quot;: 3699, &quot;week&quot;: &quot;2022-05-16&quot;}, &quot;type&quot;: &quot;Feature&quot;}, {&quot;bbox&quot;: [22.607528333333335, 36.43866, 22.607528333333335, 36.43866], &quot;geometry&quot;: {&quot;coordinates&quot;: [22.607528333333335, 36.43866], &quot;type&quot;: &quot;Point&quot;}, &quot;id&quot;: &quot;645&quot;, &quot;properties&quot;: {&quot;__folium_color&quot;: &quot;#ff9896&quot;, &quot;index&quot;: 3700, &quot;week&quot;: &quot;2022-05-16&quot;}, &quot;type&quot;: &quot;Feature&quot;}, {&quot;bbox&quot;: [22.614066666666663, 36.439123333333335, 22.614066666666663, 36.439123333333335], &quot;geometry&quot;: {&quot;coordinates&quot;: [22.614066666666663, 36.439123333333335], &quot;type&quot;: &quot;Point&quot;}, &quot;id&quot;: &quot;646&quot;, &quot;properties&quot;: {&quot;__folium_color&quot;: &quot;#ff9896&quot;, &quot;index&quot;: 3701, &quot;week&quot;: &quot;2022-05-16&quot;}, &quot;type&quot;: &quot;Feature&quot;}, {&quot;bbox&quot;: [22.626308333333338, 36.44088833333333, 22.626308333333338, 36.44088833333333], &quot;geometry&quot;: {&quot;coordinates&quot;: [22.626308333333338, 36.44088833333333], &quot;type&quot;: &quot;Point&quot;}, &quot;id&quot;: &quot;647&quot;, &quot;properties&quot;: {&quot;__folium_color&quot;: &quot;#ff9896&quot;, &quot;index&quot;: 3702, &quot;week&quot;: &quot;2022-05-16&quot;}, &quot;type&quot;: &quot;Feature&quot;}, {&quot;bbox&quot;: [22.639723333333333, 36.44104, 22.639723333333333, 36.44104], &quot;geometry&quot;: {&quot;coordinates&quot;: [22.639723333333333, 36.44104], &quot;type&quot;: &quot;Point&quot;}, &quot;id&quot;: &quot;648&quot;, &quot;properties&quot;: {&quot;__folium_color&quot;: &quot;#ff9896&quot;, &quot;index&quot;: 3703, &quot;week&quot;: &quot;2022-05-16&quot;}, &quot;type&quot;: &quot;Feature&quot;}, {&quot;bbox&quot;: [22.6484, 36.438703333333336, 22.6484, 36.438703333333336], &quot;geometry&quot;: {&quot;coordinates&quot;: [22.6484, 36.438703333333336], &quot;type&quot;: &quot;Point&quot;}, &quot;id&quot;: &quot;649&quot;, &quot;properties&quot;: {&quot;__folium_color&quot;: &quot;#ff9896&quot;, &quot;index&quot;: 3704, &quot;week&quot;: &quot;2022-05-16&quot;}, &quot;type&quot;: &quot;Feature&quot;}, {&quot;bbox&quot;: [22.650041666666667, 36.4403, 22.650041666666667, 36.4403], &quot;geometry&quot;: {&quot;coordinates&quot;: [22.650041666666667, 36.4403], &quot;type&quot;: &quot;Point&quot;}, &quot;id&quot;: &quot;650&quot;, &quot;properties&quot;: {&quot;__folium_color&quot;: &quot;#ff9896&quot;, &quot;index&quot;: 3705, &quot;week&quot;: &quot;2022-05-16&quot;}, &quot;type&quot;: &quot;Feature&quot;}, {&quot;bbox&quot;: [22.657965, 36.44380833333334, 22.657965, 36.44380833333334], &quot;geometry&quot;: {&quot;coordinates&quot;: [22.657965, 36.44380833333334], &quot;type&quot;: &quot;Point&quot;}, &quot;id&quot;: &quot;651&quot;, &quot;properties&quot;: {&quot;__folium_color&quot;: &quot;#ff9896&quot;, &quot;index&quot;: 3706, &quot;week&quot;: &quot;2022-05-16&quot;}, &quot;type&quot;: &quot;Feature&quot;}, {&quot;bbox&quot;: [22.663668333333337, 36.44692666666667, 22.663668333333337, 36.44692666666667], &quot;geometry&quot;: {&quot;coordinates&quot;: [22.663668333333337, 36.44692666666667], &quot;type&quot;: &quot;Point&quot;}, &quot;id&quot;: &quot;652&quot;, &quot;properties&quot;: {&quot;__folium_color&quot;: &quot;#ff9896&quot;, &quot;index&quot;: 3707, &quot;week&quot;: &quot;2022-05-16&quot;}, &quot;type&quot;: &quot;Feature&quot;}, {&quot;bbox&quot;: [22.666566666666668, 36.44911, 22.666566666666668, 36.44911], &quot;geometry&quot;: {&quot;coordinates&quot;: [22.666566666666668, 36.44911], &quot;type&quot;: &quot;Point&quot;}, &quot;id&quot;: &quot;653&quot;, &quot;properties&quot;: {&quot;__folium_color&quot;: &quot;#c5b0d5&quot;, &quot;index&quot;: 3708, &quot;week&quot;: &quot;2022-05-23&quot;}, &quot;type&quot;: &quot;Feature&quot;}, {&quot;bbox&quot;: [22.662921666666666, 36.45253666666667, 22.662921666666666, 36.45253666666667], &quot;geometry&quot;: {&quot;coordinates&quot;: [22.662921666666666, 36.45253666666667], &quot;type&quot;: &quot;Point&quot;}, &quot;id&quot;: &quot;654&quot;, &quot;properties&quot;: {&quot;__folium_color&quot;: &quot;#c5b0d5&quot;, &quot;index&quot;: 3709, &quot;week&quot;: &quot;2022-05-23&quot;}, &quot;type&quot;: &quot;Feature&quot;}, {&quot;bbox&quot;: [22.658156666666667, 36.456615, 22.658156666666667, 36.456615], &quot;geometry&quot;: {&quot;coordinates&quot;: [22.658156666666667, 36.456615], &quot;type&quot;: &quot;Point&quot;}, &quot;id&quot;: &quot;655&quot;, &quot;properties&quot;: {&quot;__folium_color&quot;: &quot;#c5b0d5&quot;, &quot;index&quot;: 3710, &quot;week&quot;: &quot;2022-05-23&quot;}, &quot;type&quot;: &quot;Feature&quot;}, {&quot;bbox&quot;: [22.654206666666667, 36.459015, 22.654206666666667, 36.459015], &quot;geometry&quot;: {&quot;coordinates&quot;: [22.654206666666667, 36.459015], &quot;type&quot;: &quot;Point&quot;}, &quot;id&quot;: &quot;656&quot;, &quot;properties&quot;: {&quot;__folium_color&quot;: &quot;#c5b0d5&quot;, &quot;index&quot;: 3711, &quot;week&quot;: &quot;2022-05-23&quot;}, &quot;type&quot;: &quot;Feature&quot;}, {&quot;bbox&quot;: [22.652573333333333, 36.459361666666666, 22.652573333333333, 36.459361666666666], &quot;geometry&quot;: {&quot;coordinates&quot;: [22.652573333333333, 36.459361666666666], &quot;type&quot;: &quot;Point&quot;}, &quot;id&quot;: &quot;657&quot;, &quot;properties&quot;: {&quot;__folium_color&quot;: &quot;#c5b0d5&quot;, &quot;index&quot;: 3712, &quot;week&quot;: &quot;2022-05-23&quot;}, &quot;type&quot;: &quot;Feature&quot;}, {&quot;bbox&quot;: [22.641208333333335, 36.46534833333333, 22.641208333333335, 36.46534833333333], &quot;geometry&quot;: {&quot;coordinates&quot;: [22.641208333333335, 36.46534833333333], &quot;type&quot;: &quot;Point&quot;}, &quot;id&quot;: &quot;658&quot;, &quot;properties&quot;: {&quot;__folium_color&quot;: &quot;#c5b0d5&quot;, &quot;index&quot;: 3713, &quot;week&quot;: &quot;2022-05-23&quot;}, &quot;type&quot;: &quot;Feature&quot;}, {&quot;bbox&quot;: [22.630881666666667, 36.466633333333334, 22.630881666666667, 36.466633333333334], &quot;geometry&quot;: {&quot;coordinates&quot;: [22.630881666666667, 36.466633333333334], &quot;type&quot;: &quot;Point&quot;}, &quot;id&quot;: &quot;659&quot;, &quot;properties&quot;: {&quot;__folium_color&quot;: &quot;#c5b0d5&quot;, &quot;index&quot;: 3714, &quot;week&quot;: &quot;2022-05-23&quot;}, &quot;type&quot;: &quot;Feature&quot;}, {&quot;bbox&quot;: [22.62673, 36.47067333333333, 22.62673, 36.47067333333333], &quot;geometry&quot;: {&quot;coordinates&quot;: [22.62673, 36.47067333333333], &quot;type&quot;: &quot;Point&quot;}, &quot;id&quot;: &quot;660&quot;, &quot;properties&quot;: {&quot;__folium_color&quot;: &quot;#c5b0d5&quot;, &quot;index&quot;: 3715, &quot;week&quot;: &quot;2022-05-23&quot;}, &quot;type&quot;: &quot;Feature&quot;}, {&quot;bbox&quot;: [22.62374833333333, 36.473083333333335, 22.62374833333333, 36.473083333333335], &quot;geometry&quot;: {&quot;coordinates&quot;: [22.62374833333333, 36.473083333333335], &quot;type&quot;: &quot;Point&quot;}, &quot;id&quot;: &quot;661&quot;, &quot;properties&quot;: {&quot;__folium_color&quot;: &quot;#c5b0d5&quot;, &quot;index&quot;: 3716, &quot;week&quot;: &quot;2022-05-23&quot;}, &quot;type&quot;: &quot;Feature&quot;}, {&quot;bbox&quot;: [22.628535, 36.477165, 22.628535, 36.477165], &quot;geometry&quot;: {&quot;coordinates&quot;: [22.628535, 36.477165], &quot;type&quot;: &quot;Point&quot;}, &quot;id&quot;: &quot;662&quot;, &quot;properties&quot;: {&quot;__folium_color&quot;: &quot;#c5b0d5&quot;, &quot;index&quot;: 3717, &quot;week&quot;: &quot;2022-05-23&quot;}, &quot;type&quot;: &quot;Feature&quot;}, {&quot;bbox&quot;: [22.64202166666667, 36.488335, 22.64202166666667, 36.488335], &quot;geometry&quot;: {&quot;coordinates&quot;: [22.64202166666667, 36.488335], &quot;type&quot;: &quot;Point&quot;}, &quot;id&quot;: &quot;663&quot;, &quot;properties&quot;: {&quot;__folium_color&quot;: &quot;#c5b0d5&quot;, &quot;index&quot;: 3718, &quot;week&quot;: &quot;2022-05-23&quot;}, &quot;type&quot;: &quot;Feature&quot;}, {&quot;bbox&quot;: [22.667345, 36.512141666666665, 22.667345, 36.512141666666665], &quot;geometry&quot;: {&quot;coordinates&quot;: [22.667345, 36.512141666666665], &quot;type&quot;: &quot;Point&quot;}, &quot;id&quot;: &quot;664&quot;, &quot;properties&quot;: {&quot;__folium_color&quot;: &quot;#c5b0d5&quot;, &quot;index&quot;: 3719, &quot;week&quot;: &quot;2022-05-23&quot;}, &quot;type&quot;: &quot;Feature&quot;}, {&quot;bbox&quot;: [22.685101666666668, 36.531695, 22.685101666666668, 36.531695], &quot;geometry&quot;: {&quot;coordinates&quot;: [22.685101666666668, 36.531695], &quot;type&quot;: &quot;Point&quot;}, &quot;id&quot;: &quot;665&quot;, &quot;properties&quot;: {&quot;__folium_color&quot;: &quot;#c5b0d5&quot;, &quot;index&quot;: 3720, &quot;week&quot;: &quot;2022-05-23&quot;}, &quot;type&quot;: &quot;Feature&quot;}, {&quot;bbox&quot;: [22.70402, 36.563685, 22.70402, 36.563685], &quot;geometry&quot;: {&quot;coordinates&quot;: [22.70402, 36.563685], &quot;type&quot;: &quot;Point&quot;}, &quot;id&quot;: &quot;666&quot;, &quot;properties&quot;: {&quot;__folium_color&quot;: &quot;#c5b0d5&quot;, &quot;index&quot;: 3721, &quot;week&quot;: &quot;2022-05-23&quot;}, &quot;type&quot;: &quot;Feature&quot;}, {&quot;bbox&quot;: [22.703521666666667, 36.57581833333333, 22.703521666666667, 36.57581833333333], &quot;geometry&quot;: {&quot;coordinates&quot;: [22.703521666666667, 36.57581833333333], &quot;type&quot;: &quot;Point&quot;}, &quot;id&quot;: &quot;667&quot;, &quot;properties&quot;: {&quot;__folium_color&quot;: &quot;#c5b0d5&quot;, &quot;index&quot;: 3722, &quot;week&quot;: &quot;2022-05-23&quot;}, &quot;type&quot;: &quot;Feature&quot;}, {&quot;bbox&quot;: [22.702738333333333, 36.588445, 22.702738333333333, 36.588445], &quot;geometry&quot;: {&quot;coordinates&quot;: [22.702738333333333, 36.588445], &quot;type&quot;: &quot;Point&quot;}, &quot;id&quot;: &quot;668&quot;, &quot;properties&quot;: {&quot;__folium_color&quot;: &quot;#c5b0d5&quot;, &quot;index&quot;: 3723, &quot;week&quot;: &quot;2022-05-23&quot;}, &quot;type&quot;: &quot;Feature&quot;}, {&quot;bbox&quot;: [22.708155, 36.59889166666667, 22.708155, 36.59889166666667], &quot;geometry&quot;: {&quot;coordinates&quot;: [22.708155, 36.59889166666667], &quot;type&quot;: &quot;Point&quot;}, &quot;id&quot;: &quot;669&quot;, &quot;properties&quot;: {&quot;__folium_color&quot;: &quot;#c5b0d5&quot;, &quot;index&quot;: 3724, &quot;week&quot;: &quot;2022-05-23&quot;}, &quot;type&quot;: &quot;Feature&quot;}, {&quot;bbox&quot;: [22.714646666666667, 36.590133333333334, 22.714646666666667, 36.590133333333334], &quot;geometry&quot;: {&quot;coordinates&quot;: [22.714646666666667, 36.590133333333334], &quot;type&quot;: &quot;Point&quot;}, &quot;id&quot;: &quot;670&quot;, &quot;properties&quot;: {&quot;__folium_color&quot;: &quot;#c5b0d5&quot;, &quot;index&quot;: 3725, &quot;week&quot;: &quot;2022-05-23&quot;}, &quot;type&quot;: &quot;Feature&quot;}, {&quot;bbox&quot;: [22.716353333333338, 36.575055, 22.716353333333338, 36.575055], &quot;geometry&quot;: {&quot;coordinates&quot;: [22.716353333333338, 36.575055], &quot;type&quot;: &quot;Point&quot;}, &quot;id&quot;: &quot;671&quot;, &quot;properties&quot;: {&quot;__folium_color&quot;: &quot;#c5b0d5&quot;, &quot;index&quot;: 3726, &quot;week&quot;: &quot;2022-05-23&quot;}, &quot;type&quot;: &quot;Feature&quot;}, {&quot;bbox&quot;: [22.718235, 36.54890666666667, 22.718235, 36.54890666666667], &quot;geometry&quot;: {&quot;coordinates&quot;: [22.718235, 36.54890666666667], &quot;type&quot;: &quot;Point&quot;}, &quot;id&quot;: &quot;672&quot;, &quot;properties&quot;: {&quot;__folium_color&quot;: &quot;#c5b0d5&quot;, &quot;index&quot;: 3727, &quot;week&quot;: &quot;2022-05-23&quot;}, &quot;type&quot;: &quot;Feature&quot;}, {&quot;bbox&quot;: [22.717195, 36.53225333333334, 22.717195, 36.53225333333334], &quot;geometry&quot;: {&quot;coordinates&quot;: [22.717195, 36.53225333333334], &quot;type&quot;: &quot;Point&quot;}, &quot;id&quot;: &quot;673&quot;, &quot;properties&quot;: {&quot;__folium_color&quot;: &quot;#c5b0d5&quot;, &quot;index&quot;: 3728, &quot;week&quot;: &quot;2022-05-23&quot;}, &quot;type&quot;: &quot;Feature&quot;}, {&quot;bbox&quot;: [22.705296666666666, 36.53249, 22.705296666666666, 36.53249], &quot;geometry&quot;: {&quot;coordinates&quot;: [22.705296666666666, 36.53249], &quot;type&quot;: &quot;Point&quot;}, &quot;id&quot;: &quot;674&quot;, &quot;properties&quot;: {&quot;__folium_color&quot;: &quot;#c5b0d5&quot;, &quot;index&quot;: 3729, &quot;week&quot;: &quot;2022-05-23&quot;}, &quot;type&quot;: &quot;Feature&quot;}, {&quot;bbox&quot;: [22.70246, 36.54848666666667, 22.70246, 36.54848666666667], &quot;geometry&quot;: {&quot;coordinates&quot;: [22.70246, 36.54848666666667], &quot;type&quot;: &quot;Point&quot;}, &quot;id&quot;: &quot;675&quot;, &quot;properties&quot;: {&quot;__folium_color&quot;: &quot;#c5b0d5&quot;, &quot;index&quot;: 3730, &quot;week&quot;: &quot;2022-05-23&quot;}, &quot;type&quot;: &quot;Feature&quot;}, {&quot;bbox&quot;: [22.703426666666665, 36.561703333333334, 22.703426666666665, 36.561703333333334], &quot;geometry&quot;: {&quot;coordinates&quot;: [22.703426666666665, 36.561703333333334], &quot;type&quot;: &quot;Point&quot;}, &quot;id&quot;: &quot;676&quot;, &quot;properties&quot;: {&quot;__folium_color&quot;: &quot;#c5b0d5&quot;, &quot;index&quot;: 3731, &quot;week&quot;: &quot;2022-05-23&quot;}, &quot;type&quot;: &quot;Feature&quot;}, {&quot;bbox&quot;: [22.700175, 36.57272833333333, 22.700175, 36.57272833333333], &quot;geometry&quot;: {&quot;coordinates&quot;: [22.700175, 36.57272833333333], &quot;type&quot;: &quot;Point&quot;}, &quot;id&quot;: &quot;677&quot;, &quot;properties&quot;: {&quot;__folium_color&quot;: &quot;#c5b0d5&quot;, &quot;index&quot;: 3732, &quot;week&quot;: &quot;2022-05-23&quot;}, &quot;type&quot;: &quot;Feature&quot;}, {&quot;bbox&quot;: [22.692573333333332, 36.587961666666665, 22.692573333333332, 36.587961666666665], &quot;geometry&quot;: {&quot;coordinates&quot;: [22.692573333333332, 36.587961666666665], &quot;type&quot;: &quot;Point&quot;}, &quot;id&quot;: &quot;678&quot;, &quot;properties&quot;: {&quot;__folium_color&quot;: &quot;#c5b0d5&quot;, &quot;index&quot;: 3733, &quot;week&quot;: &quot;2022-05-23&quot;}, &quot;type&quot;: &quot;Feature&quot;}, {&quot;bbox&quot;: [22.68798333333333, 36.597215, 22.68798333333333, 36.597215], &quot;geometry&quot;: {&quot;coordinates&quot;: [22.68798333333333, 36.597215], &quot;type&quot;: &quot;Point&quot;}, &quot;id&quot;: &quot;679&quot;, &quot;properties&quot;: {&quot;__folium_color&quot;: &quot;#c5b0d5&quot;, &quot;index&quot;: 3734, &quot;week&quot;: &quot;2022-05-23&quot;}, &quot;type&quot;: &quot;Feature&quot;}, {&quot;bbox&quot;: [22.691955, 36.602761666666666, 22.691955, 36.602761666666666], &quot;geometry&quot;: {&quot;coordinates&quot;: [22.691955, 36.602761666666666], &quot;type&quot;: &quot;Point&quot;}, &quot;id&quot;: &quot;680&quot;, &quot;properties&quot;: {&quot;__folium_color&quot;: &quot;#c5b0d5&quot;, &quot;index&quot;: 3735, &quot;week&quot;: &quot;2022-05-23&quot;}, &quot;type&quot;: &quot;Feature&quot;}, {&quot;bbox&quot;: [22.691848333333333, 36.60578, 22.691848333333333, 36.60578], &quot;geometry&quot;: {&quot;coordinates&quot;: [22.691848333333333, 36.60578], &quot;type&quot;: &quot;Point&quot;}, &quot;id&quot;: &quot;681&quot;, &quot;properties&quot;: {&quot;__folium_color&quot;: &quot;#c5b0d5&quot;, &quot;index&quot;: 3736, &quot;week&quot;: &quot;2022-05-23&quot;}, &quot;type&quot;: &quot;Feature&quot;}, {&quot;bbox&quot;: [22.691908333333338, 36.60914666666667, 22.691908333333338, 36.60914666666667], &quot;geometry&quot;: {&quot;coordinates&quot;: [22.691908333333338, 36.60914666666667], &quot;type&quot;: &quot;Point&quot;}, &quot;id&quot;: &quot;682&quot;, &quot;properties&quot;: {&quot;__folium_color&quot;: &quot;#c5b0d5&quot;, &quot;index&quot;: 3737, &quot;week&quot;: &quot;2022-05-23&quot;}, &quot;type&quot;: &quot;Feature&quot;}, {&quot;bbox&quot;: [22.692333333333337, 36.61060666666667, 22.692333333333337, 36.61060666666667], &quot;geometry&quot;: {&quot;coordinates&quot;: [22.692333333333337, 36.61060666666667], &quot;type&quot;: &quot;Point&quot;}, &quot;id&quot;: &quot;683&quot;, &quot;properties&quot;: {&quot;__folium_color&quot;: &quot;#c5b0d5&quot;, &quot;index&quot;: 3738, &quot;week&quot;: &quot;2022-05-23&quot;}, &quot;type&quot;: &quot;Feature&quot;}, {&quot;bbox&quot;: [22.691348333333337, 36.61362833333333, 22.691348333333337, 36.61362833333333], &quot;geometry&quot;: {&quot;coordinates&quot;: [22.691348333333337, 36.61362833333333], &quot;type&quot;: &quot;Point&quot;}, &quot;id&quot;: &quot;684&quot;, &quot;properties&quot;: {&quot;__folium_color&quot;: &quot;#c5b0d5&quot;, &quot;index&quot;: 3739, &quot;week&quot;: &quot;2022-05-23&quot;}, &quot;type&quot;: &quot;Feature&quot;}, {&quot;bbox&quot;: [22.690743333333337, 36.617685, 22.690743333333337, 36.617685], &quot;geometry&quot;: {&quot;coordinates&quot;: [22.690743333333337, 36.617685], &quot;type&quot;: &quot;Point&quot;}, &quot;id&quot;: &quot;685&quot;, &quot;properties&quot;: {&quot;__folium_color&quot;: &quot;#c5b0d5&quot;, &quot;index&quot;: 3740, &quot;week&quot;: &quot;2022-05-23&quot;}, &quot;type&quot;: &quot;Feature&quot;}, {&quot;bbox&quot;: [22.69261, 36.624361666666665, 22.69261, 36.624361666666665], &quot;geometry&quot;: {&quot;coordinates&quot;: [22.69261, 36.624361666666665], &quot;type&quot;: &quot;Point&quot;}, &quot;id&quot;: &quot;686&quot;, &quot;properties&quot;: {&quot;__folium_color&quot;: &quot;#c5b0d5&quot;, &quot;index&quot;: 3741, &quot;week&quot;: &quot;2022-05-23&quot;}, &quot;type&quot;: &quot;Feature&quot;}, {&quot;bbox&quot;: [22.697256666666668, 36.630493333333334, 22.697256666666668, 36.630493333333334], &quot;geometry&quot;: {&quot;coordinates&quot;: [22.697256666666668, 36.630493333333334], &quot;type&quot;: &quot;Point&quot;}, &quot;id&quot;: &quot;687&quot;, &quot;properties&quot;: {&quot;__folium_color&quot;: &quot;#c5b0d5&quot;, &quot;index&quot;: 3742, &quot;week&quot;: &quot;2022-05-23&quot;}, &quot;type&quot;: &quot;Feature&quot;}, {&quot;bbox&quot;: [22.69704, 36.62095166666667, 22.69704, 36.62095166666667], &quot;geometry&quot;: {&quot;coordinates&quot;: [22.69704, 36.62095166666667], &quot;type&quot;: &quot;Point&quot;}, &quot;id&quot;: &quot;688&quot;, &quot;properties&quot;: {&quot;__folium_color&quot;: &quot;#c5b0d5&quot;, &quot;index&quot;: 3743, &quot;week&quot;: &quot;2022-05-23&quot;}, &quot;type&quot;: &quot;Feature&quot;}, {&quot;bbox&quot;: [22.69208, 36.62866666666667, 22.69208, 36.62866666666667], &quot;geometry&quot;: {&quot;coordinates&quot;: [22.69208, 36.62866666666667], &quot;type&quot;: &quot;Point&quot;}, &quot;id&quot;: &quot;689&quot;, &quot;properties&quot;: {&quot;__folium_color&quot;: &quot;#c5b0d5&quot;, &quot;index&quot;: 3744, &quot;week&quot;: &quot;2022-05-23&quot;}, &quot;type&quot;: &quot;Feature&quot;}, {&quot;bbox&quot;: [22.695828333333335, 36.63469, 22.695828333333335, 36.63469], &quot;geometry&quot;: {&quot;coordinates&quot;: [22.695828333333335, 36.63469], &quot;type&quot;: &quot;Point&quot;}, &quot;id&quot;: &quot;690&quot;, &quot;properties&quot;: {&quot;__folium_color&quot;: &quot;#c5b0d5&quot;, &quot;index&quot;: 3745, &quot;week&quot;: &quot;2022-05-23&quot;}, &quot;type&quot;: &quot;Feature&quot;}, {&quot;bbox&quot;: [22.695641666666667, 36.63823333333333, 22.695641666666667, 36.63823333333333], &quot;geometry&quot;: {&quot;coordinates&quot;: [22.695641666666667, 36.63823333333333], &quot;type&quot;: &quot;Point&quot;}, &quot;id&quot;: &quot;691&quot;, &quot;properties&quot;: {&quot;__folium_color&quot;: &quot;#c5b0d5&quot;, &quot;index&quot;: 3746, &quot;week&quot;: &quot;2022-05-23&quot;}, &quot;type&quot;: &quot;Feature&quot;}, {&quot;bbox&quot;: [22.7025, 36.62461166666667, 22.7025, 36.62461166666667], &quot;geometry&quot;: {&quot;coordinates&quot;: [22.7025, 36.62461166666667], &quot;type&quot;: &quot;Point&quot;}, &quot;id&quot;: &quot;692&quot;, &quot;properties&quot;: {&quot;__folium_color&quot;: &quot;#c5b0d5&quot;, &quot;index&quot;: 3747, &quot;week&quot;: &quot;2022-05-23&quot;}, &quot;type&quot;: &quot;Feature&quot;}, {&quot;bbox&quot;: [22.688736666666667, 36.61921, 22.688736666666667, 36.61921], &quot;geometry&quot;: {&quot;coordinates&quot;: [22.688736666666667, 36.61921], &quot;type&quot;: &quot;Point&quot;}, &quot;id&quot;: &quot;693&quot;, &quot;properties&quot;: {&quot;__folium_color&quot;: &quot;#c5b0d5&quot;, &quot;index&quot;: 3748, &quot;week&quot;: &quot;2022-05-23&quot;}, &quot;type&quot;: &quot;Feature&quot;}, {&quot;bbox&quot;: [22.687301666666663, 36.621651666666665, 22.687301666666663, 36.621651666666665], &quot;geometry&quot;: {&quot;coordinates&quot;: [22.687301666666663, 36.621651666666665], &quot;type&quot;: &quot;Point&quot;}, &quot;id&quot;: &quot;694&quot;, &quot;properties&quot;: {&quot;__folium_color&quot;: &quot;#c5b0d5&quot;, &quot;index&quot;: 3749, &quot;week&quot;: &quot;2022-05-23&quot;}, &quot;type&quot;: &quot;Feature&quot;}, {&quot;bbox&quot;: [22.693735, 36.63027, 22.693735, 36.63027], &quot;geometry&quot;: {&quot;coordinates&quot;: [22.693735, 36.63027], &quot;type&quot;: &quot;Point&quot;}, &quot;id&quot;: &quot;695&quot;, &quot;properties&quot;: {&quot;__folium_color&quot;: &quot;#c5b0d5&quot;, &quot;index&quot;: 3750, &quot;week&quot;: &quot;2022-05-23&quot;}, &quot;type&quot;: &quot;Feature&quot;}, {&quot;bbox&quot;: [22.69474, 36.630341666666666, 22.69474, 36.630341666666666], &quot;geometry&quot;: {&quot;coordinates&quot;: [22.69474, 36.630341666666666], &quot;type&quot;: &quot;Point&quot;}, &quot;id&quot;: &quot;696&quot;, &quot;properties&quot;: {&quot;__folium_color&quot;: &quot;#c5b0d5&quot;, &quot;index&quot;: 3751, &quot;week&quot;: &quot;2022-05-23&quot;}, &quot;type&quot;: &quot;Feature&quot;}, {&quot;bbox&quot;: [22.67954, 36.62042, 22.67954, 36.62042], &quot;geometry&quot;: {&quot;coordinates&quot;: [22.67954, 36.62042], &quot;type&quot;: &quot;Point&quot;}, &quot;id&quot;: &quot;697&quot;, &quot;properties&quot;: {&quot;__folium_color&quot;: &quot;#c5b0d5&quot;, &quot;index&quot;: 3752, &quot;week&quot;: &quot;2022-05-23&quot;}, &quot;type&quot;: &quot;Feature&quot;}, {&quot;bbox&quot;: [22.657526666666666, 36.573825, 22.657526666666666, 36.573825], &quot;geometry&quot;: {&quot;coordinates&quot;: [22.657526666666666, 36.573825], &quot;type&quot;: &quot;Point&quot;}, &quot;id&quot;: &quot;698&quot;, &quot;properties&quot;: {&quot;__folium_color&quot;: &quot;#c5b0d5&quot;, &quot;index&quot;: 3753, &quot;week&quot;: &quot;2022-05-23&quot;}, &quot;type&quot;: &quot;Feature&quot;}, {&quot;bbox&quot;: [22.643336666666663, 36.522533333333335, 22.643336666666663, 36.522533333333335], &quot;geometry&quot;: {&quot;coordinates&quot;: [22.643336666666663, 36.522533333333335], &quot;type&quot;: &quot;Point&quot;}, &quot;id&quot;: &quot;699&quot;, &quot;properties&quot;: {&quot;__folium_color&quot;: &quot;#c5b0d5&quot;, &quot;index&quot;: 3754, &quot;week&quot;: &quot;2022-05-23&quot;}, &quot;type&quot;: &quot;Feature&quot;}, {&quot;bbox&quot;: [22.638196666666666, 36.491566666666664, 22.638196666666666, 36.491566666666664], &quot;geometry&quot;: {&quot;coordinates&quot;: [22.638196666666666, 36.491566666666664], &quot;type&quot;: &quot;Point&quot;}, &quot;id&quot;: &quot;700&quot;, &quot;properties&quot;: {&quot;__folium_color&quot;: &quot;#c5b0d5&quot;, &quot;index&quot;: 3755, &quot;week&quot;: &quot;2022-05-23&quot;}, &quot;type&quot;: &quot;Feature&quot;}, {&quot;bbox&quot;: [22.626168333333332, 36.488985, 22.626168333333332, 36.488985], &quot;geometry&quot;: {&quot;coordinates&quot;: [22.626168333333332, 36.488985], &quot;type&quot;: &quot;Point&quot;}, &quot;id&quot;: &quot;701&quot;, &quot;properties&quot;: {&quot;__folium_color&quot;: &quot;#c5b0d5&quot;, &quot;index&quot;: 3756, &quot;week&quot;: &quot;2022-05-23&quot;}, &quot;type&quot;: &quot;Feature&quot;}, {&quot;bbox&quot;: [22.622745, 36.491215, 22.622745, 36.491215], &quot;geometry&quot;: {&quot;coordinates&quot;: [22.622745, 36.491215], &quot;type&quot;: &quot;Point&quot;}, &quot;id&quot;: &quot;702&quot;, &quot;properties&quot;: {&quot;__folium_color&quot;: &quot;#c5b0d5&quot;, &quot;index&quot;: 3757, &quot;week&quot;: &quot;2022-05-23&quot;}, &quot;type&quot;: &quot;Feature&quot;}, {&quot;bbox&quot;: [22.622646666666668, 36.49118, 22.622646666666668, 36.49118], &quot;geometry&quot;: {&quot;coordinates&quot;: [22.622646666666668, 36.49118], &quot;type&quot;: &quot;Point&quot;}, &quot;id&quot;: &quot;703&quot;, &quot;properties&quot;: {&quot;__folium_color&quot;: &quot;#c5b0d5&quot;, &quot;index&quot;: 3758, &quot;week&quot;: &quot;2022-05-23&quot;}, &quot;type&quot;: &quot;Feature&quot;}, {&quot;bbox&quot;: [22.62251, 36.49111, 22.62251, 36.49111], &quot;geometry&quot;: {&quot;coordinates&quot;: [22.62251, 36.49111], &quot;type&quot;: &quot;Point&quot;}, &quot;id&quot;: &quot;704&quot;, &quot;properties&quot;: {&quot;__folium_color&quot;: &quot;#c5b0d5&quot;, &quot;index&quot;: 3759, &quot;week&quot;: &quot;2022-05-23&quot;}, &quot;type&quot;: &quot;Feature&quot;}, {&quot;bbox&quot;: [22.62061, 36.490435, 22.62061, 36.490435], &quot;geometry&quot;: {&quot;coordinates&quot;: [22.62061, 36.490435], &quot;type&quot;: &quot;Point&quot;}, &quot;id&quot;: &quot;705&quot;, &quot;properties&quot;: {&quot;__folium_color&quot;: &quot;#c5b0d5&quot;, &quot;index&quot;: 3760, &quot;week&quot;: &quot;2022-05-23&quot;}, &quot;type&quot;: &quot;Feature&quot;}, {&quot;bbox&quot;: [22.620561666666667, 36.490968333333335, 22.620561666666667, 36.490968333333335], &quot;geometry&quot;: {&quot;coordinates&quot;: [22.620561666666667, 36.490968333333335], &quot;type&quot;: &quot;Point&quot;}, &quot;id&quot;: &quot;706&quot;, &quot;properties&quot;: {&quot;__folium_color&quot;: &quot;#c5b0d5&quot;, &quot;index&quot;: 3761, &quot;week&quot;: &quot;2022-05-23&quot;}, &quot;type&quot;: &quot;Feature&quot;}, {&quot;bbox&quot;: [22.622136666666663, 36.49434333333333, 22.622136666666663, 36.49434333333333], &quot;geometry&quot;: {&quot;coordinates&quot;: [22.622136666666663, 36.49434333333333], &quot;type&quot;: &quot;Point&quot;}, &quot;id&quot;: &quot;707&quot;, &quot;properties&quot;: {&quot;__folium_color&quot;: &quot;#c5b0d5&quot;, &quot;index&quot;: 3762, &quot;week&quot;: &quot;2022-05-23&quot;}, &quot;type&quot;: &quot;Feature&quot;}, {&quot;bbox&quot;: [22.625973333333334, 36.497276666666664, 22.625973333333334, 36.497276666666664], &quot;geometry&quot;: {&quot;coordinates&quot;: [22.625973333333334, 36.497276666666664], &quot;type&quot;: &quot;Point&quot;}, &quot;id&quot;: &quot;708&quot;, &quot;properties&quot;: {&quot;__folium_color&quot;: &quot;#c5b0d5&quot;, &quot;index&quot;: 3763, &quot;week&quot;: &quot;2022-05-23&quot;}, &quot;type&quot;: &quot;Feature&quot;}, {&quot;bbox&quot;: [22.623035, 36.497703333333334, 22.623035, 36.497703333333334], &quot;geometry&quot;: {&quot;coordinates&quot;: [22.623035, 36.497703333333334], &quot;type&quot;: &quot;Point&quot;}, &quot;id&quot;: &quot;709&quot;, &quot;properties&quot;: {&quot;__folium_color&quot;: &quot;#c5b0d5&quot;, &quot;index&quot;: 3764, &quot;week&quot;: &quot;2022-05-23&quot;}, &quot;type&quot;: &quot;Feature&quot;}, {&quot;bbox&quot;: [22.619828333333334, 36.49971, 22.619828333333334, 36.49971], &quot;geometry&quot;: {&quot;coordinates&quot;: [22.619828333333334, 36.49971], &quot;type&quot;: &quot;Point&quot;}, &quot;id&quot;: &quot;710&quot;, &quot;properties&quot;: {&quot;__folium_color&quot;: &quot;#c5b0d5&quot;, &quot;index&quot;: 3765, &quot;week&quot;: &quot;2022-05-23&quot;}, &quot;type&quot;: &quot;Feature&quot;}, {&quot;bbox&quot;: [22.615275, 36.49810333333333, 22.615275, 36.49810333333333], &quot;geometry&quot;: {&quot;coordinates&quot;: [22.615275, 36.49810333333333], &quot;type&quot;: &quot;Point&quot;}, &quot;id&quot;: &quot;711&quot;, &quot;properties&quot;: {&quot;__folium_color&quot;: &quot;#c5b0d5&quot;, &quot;index&quot;: 3766, &quot;week&quot;: &quot;2022-05-23&quot;}, &quot;type&quot;: &quot;Feature&quot;}, {&quot;bbox&quot;: [22.61085, 36.496658333333336, 22.61085, 36.496658333333336], &quot;geometry&quot;: {&quot;coordinates&quot;: [22.61085, 36.496658333333336], &quot;type&quot;: &quot;Point&quot;}, &quot;id&quot;: &quot;712&quot;, &quot;properties&quot;: {&quot;__folium_color&quot;: &quot;#c5b0d5&quot;, &quot;index&quot;: 3767, &quot;week&quot;: &quot;2022-05-23&quot;}, &quot;type&quot;: &quot;Feature&quot;}, {&quot;bbox&quot;: [22.60843, 36.496915, 22.60843, 36.496915], &quot;geometry&quot;: {&quot;coordinates&quot;: [22.60843, 36.496915], &quot;type&quot;: &quot;Point&quot;}, &quot;id&quot;: &quot;713&quot;, &quot;properties&quot;: {&quot;__folium_color&quot;: &quot;#c5b0d5&quot;, &quot;index&quot;: 3768, &quot;week&quot;: &quot;2022-05-23&quot;}, &quot;type&quot;: &quot;Feature&quot;}, {&quot;bbox&quot;: [22.607515, 36.49904166666666, 22.607515, 36.49904166666666], &quot;geometry&quot;: {&quot;coordinates&quot;: [22.607515, 36.49904166666666], &quot;type&quot;: &quot;Point&quot;}, &quot;id&quot;: &quot;714&quot;, &quot;properties&quot;: {&quot;__folium_color&quot;: &quot;#c5b0d5&quot;, &quot;index&quot;: 3769, &quot;week&quot;: &quot;2022-05-23&quot;}, &quot;type&quot;: &quot;Feature&quot;}, {&quot;bbox&quot;: [22.606753333333337, 36.49912666666667, 22.606753333333337, 36.49912666666667], &quot;geometry&quot;: {&quot;coordinates&quot;: [22.606753333333337, 36.49912666666667], &quot;type&quot;: &quot;Point&quot;}, &quot;id&quot;: &quot;715&quot;, &quot;properties&quot;: {&quot;__folium_color&quot;: &quot;#c5b0d5&quot;, &quot;index&quot;: 3770, &quot;week&quot;: &quot;2022-05-23&quot;}, &quot;type&quot;: &quot;Feature&quot;}, {&quot;bbox&quot;: [22.605323333333335, 36.499158333333334, 22.605323333333335, 36.499158333333334], &quot;geometry&quot;: {&quot;coordinates&quot;: [22.605323333333335, 36.499158333333334], &quot;type&quot;: &quot;Point&quot;}, &quot;id&quot;: &quot;716&quot;, &quot;properties&quot;: {&quot;__folium_color&quot;: &quot;#c5b0d5&quot;, &quot;index&quot;: 3771, &quot;week&quot;: &quot;2022-05-23&quot;}, &quot;type&quot;: &quot;Feature&quot;}, {&quot;bbox&quot;: [22.601033333333337, 36.499008333333336, 22.601033333333337, 36.499008333333336], &quot;geometry&quot;: {&quot;coordinates&quot;: [22.601033333333337, 36.499008333333336], &quot;type&quot;: &quot;Point&quot;}, &quot;id&quot;: &quot;717&quot;, &quot;properties&quot;: {&quot;__folium_color&quot;: &quot;#c5b0d5&quot;, &quot;index&quot;: 3772, &quot;week&quot;: &quot;2022-05-23&quot;}, &quot;type&quot;: &quot;Feature&quot;}, {&quot;bbox&quot;: [22.600696666666668, 36.49876, 22.600696666666668, 36.49876], &quot;geometry&quot;: {&quot;coordinates&quot;: [22.600696666666668, 36.49876], &quot;type&quot;: &quot;Point&quot;}, &quot;id&quot;: &quot;718&quot;, &quot;properties&quot;: {&quot;__folium_color&quot;: &quot;#c5b0d5&quot;, &quot;index&quot;: 3773, &quot;week&quot;: &quot;2022-05-23&quot;}, &quot;type&quot;: &quot;Feature&quot;}, {&quot;bbox&quot;: [22.623505, 36.49111333333333, 22.623505, 36.49111333333333], &quot;geometry&quot;: {&quot;coordinates&quot;: [22.623505, 36.49111333333333], &quot;type&quot;: &quot;Point&quot;}, &quot;id&quot;: &quot;719&quot;, &quot;properties&quot;: {&quot;__folium_color&quot;: &quot;#c5b0d5&quot;, &quot;index&quot;: 3774, &quot;week&quot;: &quot;2022-05-23&quot;}, &quot;type&quot;: &quot;Feature&quot;}, {&quot;bbox&quot;: [22.691478333333333, 36.47764, 22.691478333333333, 36.47764], &quot;geometry&quot;: {&quot;coordinates&quot;: [22.691478333333333, 36.47764], &quot;type&quot;: &quot;Point&quot;}, &quot;id&quot;: &quot;720&quot;, &quot;properties&quot;: {&quot;__folium_color&quot;: &quot;#c5b0d5&quot;, &quot;index&quot;: 3775, &quot;week&quot;: &quot;2022-05-23&quot;}, &quot;type&quot;: &quot;Feature&quot;}, {&quot;bbox&quot;: [22.703618333333335, 36.47561833333334, 22.703618333333335, 36.47561833333334], &quot;geometry&quot;: {&quot;coordinates&quot;: [22.703618333333335, 36.47561833333334], &quot;type&quot;: &quot;Point&quot;}, &quot;id&quot;: &quot;721&quot;, &quot;properties&quot;: {&quot;__folium_color&quot;: &quot;#c5b0d5&quot;, &quot;index&quot;: 3776, &quot;week&quot;: &quot;2022-05-23&quot;}, &quot;type&quot;: &quot;Feature&quot;}, {&quot;bbox&quot;: [22.70459, 36.47684666666667, 22.70459, 36.47684666666667], &quot;geometry&quot;: {&quot;coordinates&quot;: [22.70459, 36.47684666666667], &quot;type&quot;: &quot;Point&quot;}, &quot;id&quot;: &quot;722&quot;, &quot;properties&quot;: {&quot;__folium_color&quot;: &quot;#c5b0d5&quot;, &quot;index&quot;: 3777, &quot;week&quot;: &quot;2022-05-23&quot;}, &quot;type&quot;: &quot;Feature&quot;}, {&quot;bbox&quot;: [22.704588333333337, 36.476996666666665, 22.704588333333337, 36.476996666666665], &quot;geometry&quot;: {&quot;coordinates&quot;: [22.704588333333337, 36.476996666666665], &quot;type&quot;: &quot;Point&quot;}, &quot;id&quot;: &quot;723&quot;, &quot;properties&quot;: {&quot;__folium_color&quot;: &quot;#c5b0d5&quot;, &quot;index&quot;: 3778, &quot;week&quot;: &quot;2022-05-23&quot;}, &quot;type&quot;: &quot;Feature&quot;}, {&quot;bbox&quot;: [22.704588333333337, 36.477043333333334, 22.704588333333337, 36.477043333333334], &quot;geometry&quot;: {&quot;coordinates&quot;: [22.704588333333337, 36.477043333333334], &quot;type&quot;: &quot;Point&quot;}, &quot;id&quot;: &quot;724&quot;, &quot;properties&quot;: {&quot;__folium_color&quot;: &quot;#c5b0d5&quot;, &quot;index&quot;: 3779, &quot;week&quot;: &quot;2022-05-23&quot;}, &quot;type&quot;: &quot;Feature&quot;}, {&quot;bbox&quot;: [22.704351666666668, 36.47805, 22.704351666666668, 36.47805], &quot;geometry&quot;: {&quot;coordinates&quot;: [22.704351666666668, 36.47805], &quot;type&quot;: &quot;Point&quot;}, &quot;id&quot;: &quot;725&quot;, &quot;properties&quot;: {&quot;__folium_color&quot;: &quot;#c5b0d5&quot;, &quot;index&quot;: 3780, &quot;week&quot;: &quot;2022-05-23&quot;}, &quot;type&quot;: &quot;Feature&quot;}, {&quot;bbox&quot;: [22.704325, 36.478096666666666, 22.704325, 36.478096666666666], &quot;geometry&quot;: {&quot;coordinates&quot;: [22.704325, 36.478096666666666], &quot;type&quot;: &quot;Point&quot;}, &quot;id&quot;: &quot;726&quot;, &quot;properties&quot;: {&quot;__folium_color&quot;: &quot;#c5b0d5&quot;, &quot;index&quot;: 3781, &quot;week&quot;: &quot;2022-05-23&quot;}, &quot;type&quot;: &quot;Feature&quot;}, {&quot;bbox&quot;: [22.69802333333333, 36.48639166666667, 22.69802333333333, 36.48639166666667], &quot;geometry&quot;: {&quot;coordinates&quot;: [22.69802333333333, 36.48639166666667], &quot;type&quot;: &quot;Point&quot;}, &quot;id&quot;: &quot;727&quot;, &quot;properties&quot;: {&quot;__folium_color&quot;: &quot;#c5b0d5&quot;, &quot;index&quot;: 3782, &quot;week&quot;: &quot;2022-05-23&quot;}, &quot;type&quot;: &quot;Feature&quot;}, {&quot;bbox&quot;: [22.702505, 36.49431666666667, 22.702505, 36.49431666666667], &quot;geometry&quot;: {&quot;coordinates&quot;: [22.702505, 36.49431666666667], &quot;type&quot;: &quot;Point&quot;}, &quot;id&quot;: &quot;728&quot;, &quot;properties&quot;: {&quot;__folium_color&quot;: &quot;#c5b0d5&quot;, &quot;index&quot;: 3783, &quot;week&quot;: &quot;2022-05-23&quot;}, &quot;type&quot;: &quot;Feature&quot;}, {&quot;bbox&quot;: [22.712181666666662, 36.49019333333333, 22.712181666666662, 36.49019333333333], &quot;geometry&quot;: {&quot;coordinates&quot;: [22.712181666666662, 36.49019333333333], &quot;type&quot;: &quot;Point&quot;}, &quot;id&quot;: &quot;729&quot;, &quot;properties&quot;: {&quot;__folium_color&quot;: &quot;#c5b0d5&quot;, &quot;index&quot;: 3784, &quot;week&quot;: &quot;2022-05-23&quot;}, &quot;type&quot;: &quot;Feature&quot;}, {&quot;bbox&quot;: [22.719656666666666, 36.476045, 22.719656666666666, 36.476045], &quot;geometry&quot;: {&quot;coordinates&quot;: [22.719656666666666, 36.476045], &quot;type&quot;: &quot;Point&quot;}, &quot;id&quot;: &quot;730&quot;, &quot;properties&quot;: {&quot;__folium_color&quot;: &quot;#c5b0d5&quot;, &quot;index&quot;: 3785, &quot;week&quot;: &quot;2022-05-23&quot;}, &quot;type&quot;: &quot;Feature&quot;}, {&quot;bbox&quot;: [22.725843333333337, 36.46688833333333, 22.725843333333337, 36.46688833333333], &quot;geometry&quot;: {&quot;coordinates&quot;: [22.725843333333337, 36.46688833333333], &quot;type&quot;: &quot;Point&quot;}, &quot;id&quot;: &quot;731&quot;, &quot;properties&quot;: {&quot;__folium_color&quot;: &quot;#c5b0d5&quot;, &quot;index&quot;: 3786, &quot;week&quot;: &quot;2022-05-23&quot;}, &quot;type&quot;: &quot;Feature&quot;}, {&quot;bbox&quot;: [22.7349, 36.473645, 22.7349, 36.473645], &quot;geometry&quot;: {&quot;coordinates&quot;: [22.7349, 36.473645], &quot;type&quot;: &quot;Point&quot;}, &quot;id&quot;: &quot;732&quot;, &quot;properties&quot;: {&quot;__folium_color&quot;: &quot;#c5b0d5&quot;, &quot;index&quot;: 3787, &quot;week&quot;: &quot;2022-05-23&quot;}, &quot;type&quot;: &quot;Feature&quot;}, {&quot;bbox&quot;: [22.746183333333335, 36.481095, 22.746183333333335, 36.481095], &quot;geometry&quot;: {&quot;coordinates&quot;: [22.746183333333335, 36.481095], &quot;type&quot;: &quot;Point&quot;}, &quot;id&quot;: &quot;733&quot;, &quot;properties&quot;: {&quot;__folium_color&quot;: &quot;#c5b0d5&quot;, &quot;index&quot;: 3788, &quot;week&quot;: &quot;2022-05-23&quot;}, &quot;type&quot;: &quot;Feature&quot;}, {&quot;bbox&quot;: [22.758315, 36.48883333333333, 22.758315, 36.48883333333333], &quot;geometry&quot;: {&quot;coordinates&quot;: [22.758315, 36.48883333333333], &quot;type&quot;: &quot;Point&quot;}, &quot;id&quot;: &quot;734&quot;, &quot;properties&quot;: {&quot;__folium_color&quot;: &quot;#c5b0d5&quot;, &quot;index&quot;: 3789, &quot;week&quot;: &quot;2022-05-23&quot;}, &quot;type&quot;: &quot;Feature&quot;}, {&quot;bbox&quot;: [22.770188333333333, 36.491488333333336, 22.770188333333333, 36.491488333333336], &quot;geometry&quot;: {&quot;coordinates&quot;: [22.770188333333333, 36.491488333333336], &quot;type&quot;: &quot;Point&quot;}, &quot;id&quot;: &quot;735&quot;, &quot;properties&quot;: {&quot;__folium_color&quot;: &quot;#c5b0d5&quot;, &quot;index&quot;: 3790, &quot;week&quot;: &quot;2022-05-23&quot;}, &quot;type&quot;: &quot;Feature&quot;}, {&quot;bbox&quot;: [22.774563333333333, 36.491596666666666, 22.774563333333333, 36.491596666666666], &quot;geometry&quot;: {&quot;coordinates&quot;: [22.774563333333333, 36.491596666666666], &quot;type&quot;: &quot;Point&quot;}, &quot;id&quot;: &quot;736&quot;, &quot;properties&quot;: {&quot;__folium_color&quot;: &quot;#c5b0d5&quot;, &quot;index&quot;: 3791, &quot;week&quot;: &quot;2022-05-23&quot;}, &quot;type&quot;: &quot;Feature&quot;}, {&quot;bbox&quot;: [22.771628333333332, 36.49091333333333, 22.771628333333332, 36.49091333333333], &quot;geometry&quot;: {&quot;coordinates&quot;: [22.771628333333332, 36.49091333333333], &quot;type&quot;: &quot;Point&quot;}, &quot;id&quot;: &quot;737&quot;, &quot;properties&quot;: {&quot;__folium_color&quot;: &quot;#c5b0d5&quot;, &quot;index&quot;: 3792, &quot;week&quot;: &quot;2022-05-23&quot;}, &quot;type&quot;: &quot;Feature&quot;}, {&quot;bbox&quot;: [22.662668333333333, 36.46167333333333, 22.662668333333333, 36.46167333333333], &quot;geometry&quot;: {&quot;coordinates&quot;: [22.662668333333333, 36.46167333333333], &quot;type&quot;: &quot;Point&quot;}, &quot;id&quot;: &quot;738&quot;, &quot;properties&quot;: {&quot;__folium_color&quot;: &quot;#c5b0d5&quot;, &quot;index&quot;: 3793, &quot;week&quot;: &quot;2022-05-23&quot;}, &quot;type&quot;: &quot;Feature&quot;}, {&quot;bbox&quot;: [22.660251666666667, 36.464513333333336, 22.660251666666667, 36.464513333333336], &quot;geometry&quot;: {&quot;coordinates&quot;: [22.660251666666667, 36.464513333333336], &quot;type&quot;: &quot;Point&quot;}, &quot;id&quot;: &quot;739&quot;, &quot;properties&quot;: {&quot;__folium_color&quot;: &quot;#c5b0d5&quot;, &quot;index&quot;: 3794, &quot;week&quot;: &quot;2022-05-23&quot;}, &quot;type&quot;: &quot;Feature&quot;}, {&quot;bbox&quot;: [22.659416666666665, 36.46075333333334, 22.659416666666665, 36.46075333333334], &quot;geometry&quot;: {&quot;coordinates&quot;: [22.659416666666665, 36.46075333333334], &quot;type&quot;: &quot;Point&quot;}, &quot;id&quot;: &quot;740&quot;, &quot;properties&quot;: {&quot;__folium_color&quot;: &quot;#c5b0d5&quot;, &quot;index&quot;: 3795, &quot;week&quot;: &quot;2022-05-23&quot;}, &quot;type&quot;: &quot;Feature&quot;}, {&quot;bbox&quot;: [22.658, 36.453786666666666, 22.658, 36.453786666666666], &quot;geometry&quot;: {&quot;coordinates&quot;: [22.658, 36.453786666666666], &quot;type&quot;: &quot;Point&quot;}, &quot;id&quot;: &quot;741&quot;, &quot;properties&quot;: {&quot;__folium_color&quot;: &quot;#c5b0d5&quot;, &quot;index&quot;: 3796, &quot;week&quot;: &quot;2022-05-23&quot;}, &quot;type&quot;: &quot;Feature&quot;}, {&quot;bbox&quot;: [22.649688333333337, 36.44677166666666, 22.649688333333337, 36.44677166666666], &quot;geometry&quot;: {&quot;coordinates&quot;: [22.649688333333337, 36.44677166666666], &quot;type&quot;: &quot;Point&quot;}, &quot;id&quot;: &quot;742&quot;, &quot;properties&quot;: {&quot;__folium_color&quot;: &quot;#c5b0d5&quot;, &quot;index&quot;: 3797, &quot;week&quot;: &quot;2022-05-23&quot;}, &quot;type&quot;: &quot;Feature&quot;}, {&quot;bbox&quot;: [22.64602, 36.44877833333334, 22.64602, 36.44877833333334], &quot;geometry&quot;: {&quot;coordinates&quot;: [22.64602, 36.44877833333334], &quot;type&quot;: &quot;Point&quot;}, &quot;id&quot;: &quot;743&quot;, &quot;properties&quot;: {&quot;__folium_color&quot;: &quot;#c5b0d5&quot;, &quot;index&quot;: 3798, &quot;week&quot;: &quot;2022-05-23&quot;}, &quot;type&quot;: &quot;Feature&quot;}, {&quot;bbox&quot;: [22.645526666666665, 36.44904666666667, 22.645526666666665, 36.44904666666667], &quot;geometry&quot;: {&quot;coordinates&quot;: [22.645526666666665, 36.44904666666667], &quot;type&quot;: &quot;Point&quot;}, &quot;id&quot;: &quot;744&quot;, &quot;properties&quot;: {&quot;__folium_color&quot;: &quot;#c5b0d5&quot;, &quot;index&quot;: 3799, &quot;week&quot;: &quot;2022-05-23&quot;}, &quot;type&quot;: &quot;Feature&quot;}, {&quot;bbox&quot;: [22.634581666666666, 36.45307833333333, 22.634581666666666, 36.45307833333333], &quot;geometry&quot;: {&quot;coordinates&quot;: [22.634581666666666, 36.45307833333333], &quot;type&quot;: &quot;Point&quot;}, &quot;id&quot;: &quot;745&quot;, &quot;properties&quot;: {&quot;__folium_color&quot;: &quot;#c5b0d5&quot;, &quot;index&quot;: 3800, &quot;week&quot;: &quot;2022-05-23&quot;}, &quot;type&quot;: &quot;Feature&quot;}, {&quot;bbox&quot;: [22.623181666666667, 36.45253, 22.623181666666667, 36.45253], &quot;geometry&quot;: {&quot;coordinates&quot;: [22.623181666666667, 36.45253], &quot;type&quot;: &quot;Point&quot;}, &quot;id&quot;: &quot;746&quot;, &quot;properties&quot;: {&quot;__folium_color&quot;: &quot;#c5b0d5&quot;, &quot;index&quot;: 3801, &quot;week&quot;: &quot;2022-05-23&quot;}, &quot;type&quot;: &quot;Feature&quot;}, {&quot;bbox&quot;: [22.614141666666665, 36.455396666666665, 22.614141666666665, 36.455396666666665], &quot;geometry&quot;: {&quot;coordinates&quot;: [22.614141666666665, 36.455396666666665], &quot;type&quot;: &quot;Point&quot;}, &quot;id&quot;: &quot;747&quot;, &quot;properties&quot;: {&quot;__folium_color&quot;: &quot;#c5b0d5&quot;, &quot;index&quot;: 3802, &quot;week&quot;: &quot;2022-05-23&quot;}, &quot;type&quot;: &quot;Feature&quot;}, {&quot;bbox&quot;: [22.609745, 36.45771, 22.609745, 36.45771], &quot;geometry&quot;: {&quot;coordinates&quot;: [22.609745, 36.45771], &quot;type&quot;: &quot;Point&quot;}, &quot;id&quot;: &quot;748&quot;, &quot;properties&quot;: {&quot;__folium_color&quot;: &quot;#c5b0d5&quot;, &quot;index&quot;: 3803, &quot;week&quot;: &quot;2022-05-23&quot;}, &quot;type&quot;: &quot;Feature&quot;}, {&quot;bbox&quot;: [22.608881666666665, 36.463966666666664, 22.608881666666665, 36.463966666666664], &quot;geometry&quot;: {&quot;coordinates&quot;: [22.608881666666665, 36.463966666666664], &quot;type&quot;: &quot;Point&quot;}, &quot;id&quot;: &quot;749&quot;, &quot;properties&quot;: {&quot;__folium_color&quot;: &quot;#c5b0d5&quot;, &quot;index&quot;: 3804, &quot;week&quot;: &quot;2022-05-23&quot;}, &quot;type&quot;: &quot;Feature&quot;}, {&quot;bbox&quot;: [22.61013833333333, 36.46805166666667, 22.61013833333333, 36.46805166666667], &quot;geometry&quot;: {&quot;coordinates&quot;: [22.61013833333333, 36.46805166666667], &quot;type&quot;: &quot;Point&quot;}, &quot;id&quot;: &quot;750&quot;, &quot;properties&quot;: {&quot;__folium_color&quot;: &quot;#c5b0d5&quot;, &quot;index&quot;: 3805, &quot;week&quot;: &quot;2022-05-23&quot;}, &quot;type&quot;: &quot;Feature&quot;}, {&quot;bbox&quot;: [22.64380166666667, 36.478568333333335, 22.64380166666667, 36.478568333333335], &quot;geometry&quot;: {&quot;coordinates&quot;: [22.64380166666667, 36.478568333333335], &quot;type&quot;: &quot;Point&quot;}, &quot;id&quot;: &quot;751&quot;, &quot;properties&quot;: {&quot;__folium_color&quot;: &quot;#c5b0d5&quot;, &quot;index&quot;: 3806, &quot;week&quot;: &quot;2022-05-23&quot;}, &quot;type&quot;: &quot;Feature&quot;}, {&quot;bbox&quot;: [22.682311666666667, 36.47613833333333, 22.682311666666667, 36.47613833333333], &quot;geometry&quot;: {&quot;coordinates&quot;: [22.682311666666667, 36.47613833333333], &quot;type&quot;: &quot;Point&quot;}, &quot;id&quot;: &quot;752&quot;, &quot;properties&quot;: {&quot;__folium_color&quot;: &quot;#c5b0d5&quot;, &quot;index&quot;: 3807, &quot;week&quot;: &quot;2022-05-23&quot;}, &quot;type&quot;: &quot;Feature&quot;}, {&quot;bbox&quot;: [22.70428, 36.47345333333333, 22.70428, 36.47345333333333], &quot;geometry&quot;: {&quot;coordinates&quot;: [22.70428, 36.47345333333333], &quot;type&quot;: &quot;Point&quot;}, &quot;id&quot;: &quot;753&quot;, &quot;properties&quot;: {&quot;__folium_color&quot;: &quot;#c5b0d5&quot;, &quot;index&quot;: 3808, &quot;week&quot;: &quot;2022-05-23&quot;}, &quot;type&quot;: &quot;Feature&quot;}, {&quot;bbox&quot;: [22.70572, 36.478336666666664, 22.70572, 36.478336666666664], &quot;geometry&quot;: {&quot;coordinates&quot;: [22.70572, 36.478336666666664], &quot;type&quot;: &quot;Point&quot;}, &quot;id&quot;: &quot;754&quot;, &quot;properties&quot;: {&quot;__folium_color&quot;: &quot;#c5b0d5&quot;, &quot;index&quot;: 3809, &quot;week&quot;: &quot;2022-05-23&quot;}, &quot;type&quot;: &quot;Feature&quot;}, {&quot;bbox&quot;: [22.704788333333333, 36.477743333333336, 22.704788333333333, 36.477743333333336], &quot;geometry&quot;: {&quot;coordinates&quot;: [22.704788333333333, 36.477743333333336], &quot;type&quot;: &quot;Point&quot;}, &quot;id&quot;: &quot;755&quot;, &quot;properties&quot;: {&quot;__folium_color&quot;: &quot;#c5b0d5&quot;, &quot;index&quot;: 3810, &quot;week&quot;: &quot;2022-05-23&quot;}, &quot;type&quot;: &quot;Feature&quot;}, {&quot;bbox&quot;: [22.702931666666668, 36.478535, 22.702931666666668, 36.478535], &quot;geometry&quot;: {&quot;coordinates&quot;: [22.702931666666668, 36.478535], &quot;type&quot;: &quot;Point&quot;}, &quot;id&quot;: &quot;756&quot;, &quot;properties&quot;: {&quot;__folium_color&quot;: &quot;#c5b0d5&quot;, &quot;index&quot;: 3811, &quot;week&quot;: &quot;2022-05-23&quot;}, &quot;type&quot;: &quot;Feature&quot;}, {&quot;bbox&quot;: [22.694676666666663, 36.48225166666667, 22.694676666666663, 36.48225166666667], &quot;geometry&quot;: {&quot;coordinates&quot;: [22.694676666666663, 36.48225166666667], &quot;type&quot;: &quot;Point&quot;}, &quot;id&quot;: &quot;757&quot;, &quot;properties&quot;: {&quot;__folium_color&quot;: &quot;#c5b0d5&quot;, &quot;index&quot;: 3812, &quot;week&quot;: &quot;2022-05-23&quot;}, &quot;type&quot;: &quot;Feature&quot;}, {&quot;bbox&quot;: [22.687951666666667, 36.48997, 22.687951666666667, 36.48997], &quot;geometry&quot;: {&quot;coordinates&quot;: [22.687951666666667, 36.48997], &quot;type&quot;: &quot;Point&quot;}, &quot;id&quot;: &quot;758&quot;, &quot;properties&quot;: {&quot;__folium_color&quot;: &quot;#c5b0d5&quot;, &quot;index&quot;: 3813, &quot;week&quot;: &quot;2022-05-23&quot;}, &quot;type&quot;: &quot;Feature&quot;}, {&quot;bbox&quot;: [22.688813333333332, 36.500413333333334, 22.688813333333332, 36.500413333333334], &quot;geometry&quot;: {&quot;coordinates&quot;: [22.688813333333332, 36.500413333333334], &quot;type&quot;: &quot;Point&quot;}, &quot;id&quot;: &quot;759&quot;, &quot;properties&quot;: {&quot;__folium_color&quot;: &quot;#c5b0d5&quot;, &quot;index&quot;: 3814, &quot;week&quot;: &quot;2022-05-23&quot;}, &quot;type&quot;: &quot;Feature&quot;}, {&quot;bbox&quot;: [22.688528333333338, 36.50181333333333, 22.688528333333338, 36.50181333333333], &quot;geometry&quot;: {&quot;coordinates&quot;: [22.688528333333338, 36.50181333333333], &quot;type&quot;: &quot;Point&quot;}, &quot;id&quot;: &quot;760&quot;, &quot;properties&quot;: {&quot;__folium_color&quot;: &quot;#c5b0d5&quot;, &quot;index&quot;: 3815, &quot;week&quot;: &quot;2022-05-23&quot;}, &quot;type&quot;: &quot;Feature&quot;}, {&quot;bbox&quot;: [22.683345, 36.59603666666667, 22.683345, 36.59603666666667], &quot;geometry&quot;: {&quot;coordinates&quot;: [22.683345, 36.59603666666667], &quot;type&quot;: &quot;Point&quot;}, &quot;id&quot;: &quot;761&quot;, &quot;properties&quot;: {&quot;__folium_color&quot;: &quot;#c5b0d5&quot;, &quot;index&quot;: 3816, &quot;week&quot;: &quot;2022-05-23&quot;}, &quot;type&quot;: &quot;Feature&quot;}, {&quot;bbox&quot;: [22.678138333333333, 36.60563166666667, 22.678138333333333, 36.60563166666667], &quot;geometry&quot;: {&quot;coordinates&quot;: [22.678138333333333, 36.60563166666667], &quot;type&quot;: &quot;Point&quot;}, &quot;id&quot;: &quot;762&quot;, &quot;properties&quot;: {&quot;__folium_color&quot;: &quot;#c5b0d5&quot;, &quot;index&quot;: 3817, &quot;week&quot;: &quot;2022-05-23&quot;}, &quot;type&quot;: &quot;Feature&quot;}, {&quot;bbox&quot;: [22.676448333333333, 36.616551666666666, 22.676448333333333, 36.616551666666666], &quot;geometry&quot;: {&quot;coordinates&quot;: [22.676448333333333, 36.616551666666666], &quot;type&quot;: &quot;Point&quot;}, &quot;id&quot;: &quot;763&quot;, &quot;properties&quot;: {&quot;__folium_color&quot;: &quot;#c5b0d5&quot;, &quot;index&quot;: 3818, &quot;week&quot;: &quot;2022-05-23&quot;}, &quot;type&quot;: &quot;Feature&quot;}, {&quot;bbox&quot;: [22.676355, 36.619036666666666, 22.676355, 36.619036666666666], &quot;geometry&quot;: {&quot;coordinates&quot;: [22.676355, 36.619036666666666], &quot;type&quot;: &quot;Point&quot;}, &quot;id&quot;: &quot;764&quot;, &quot;properties&quot;: {&quot;__folium_color&quot;: &quot;#c5b0d5&quot;, &quot;index&quot;: 3819, &quot;week&quot;: &quot;2022-05-23&quot;}, &quot;type&quot;: &quot;Feature&quot;}, {&quot;bbox&quot;: [22.676225, 36.61764, 22.676225, 36.61764], &quot;geometry&quot;: {&quot;coordinates&quot;: [22.676225, 36.61764], &quot;type&quot;: &quot;Point&quot;}, &quot;id&quot;: &quot;765&quot;, &quot;properties&quot;: {&quot;__folium_color&quot;: &quot;#c5b0d5&quot;, &quot;index&quot;: 3820, &quot;week&quot;: &quot;2022-05-23&quot;}, &quot;type&quot;: &quot;Feature&quot;}, {&quot;bbox&quot;: [22.674551666666662, 36.60413333333333, 22.674551666666662, 36.60413333333333], &quot;geometry&quot;: {&quot;coordinates&quot;: [22.674551666666662, 36.60413333333333], &quot;type&quot;: &quot;Point&quot;}, &quot;id&quot;: &quot;766&quot;, &quot;properties&quot;: {&quot;__folium_color&quot;: &quot;#c5b0d5&quot;, &quot;index&quot;: 3821, &quot;week&quot;: &quot;2022-05-23&quot;}, &quot;type&quot;: &quot;Feature&quot;}, {&quot;bbox&quot;: [22.650911666666666, 36.56639, 22.650911666666666, 36.56639], &quot;geometry&quot;: {&quot;coordinates&quot;: [22.650911666666666, 36.56639], &quot;type&quot;: &quot;Point&quot;}, &quot;id&quot;: &quot;767&quot;, &quot;properties&quot;: {&quot;__folium_color&quot;: &quot;#c5b0d5&quot;, &quot;index&quot;: 3822, &quot;week&quot;: &quot;2022-05-23&quot;}, &quot;type&quot;: &quot;Feature&quot;}, {&quot;bbox&quot;: [22.642228333333332, 36.55959333333333, 22.642228333333332, 36.55959333333333], &quot;geometry&quot;: {&quot;coordinates&quot;: [22.642228333333332, 36.55959333333333], &quot;type&quot;: &quot;Point&quot;}, &quot;id&quot;: &quot;768&quot;, &quot;properties&quot;: {&quot;__folium_color&quot;: &quot;#c5b0d5&quot;, &quot;index&quot;: 3823, &quot;week&quot;: &quot;2022-05-23&quot;}, &quot;type&quot;: &quot;Feature&quot;}, {&quot;bbox&quot;: [22.635175, 36.56875333333333, 22.635175, 36.56875333333333], &quot;geometry&quot;: {&quot;coordinates&quot;: [22.635175, 36.56875333333333], &quot;type&quot;: &quot;Point&quot;}, &quot;id&quot;: &quot;769&quot;, &quot;properties&quot;: {&quot;__folium_color&quot;: &quot;#c5b0d5&quot;, &quot;index&quot;: 3824, &quot;week&quot;: &quot;2022-05-23&quot;}, &quot;type&quot;: &quot;Feature&quot;}, {&quot;bbox&quot;: [22.645936666666667, 36.59323333333333, 22.645936666666667, 36.59323333333333], &quot;geometry&quot;: {&quot;coordinates&quot;: [22.645936666666667, 36.59323333333333], &quot;type&quot;: &quot;Point&quot;}, &quot;id&quot;: &quot;770&quot;, &quot;properties&quot;: {&quot;__folium_color&quot;: &quot;#c5b0d5&quot;, &quot;index&quot;: 3825, &quot;week&quot;: &quot;2022-05-23&quot;}, &quot;type&quot;: &quot;Feature&quot;}, {&quot;bbox&quot;: [22.653861666666668, 36.603078333333336, 22.653861666666668, 36.603078333333336], &quot;geometry&quot;: {&quot;coordinates&quot;: [22.653861666666668, 36.603078333333336], &quot;type&quot;: &quot;Point&quot;}, &quot;id&quot;: &quot;771&quot;, &quot;properties&quot;: {&quot;__folium_color&quot;: &quot;#c5b0d5&quot;, &quot;index&quot;: 3826, &quot;week&quot;: &quot;2022-05-23&quot;}, &quot;type&quot;: &quot;Feature&quot;}, {&quot;bbox&quot;: [22.6623, 36.61018833333333, 22.6623, 36.61018833333333], &quot;geometry&quot;: {&quot;coordinates&quot;: [22.6623, 36.61018833333333], &quot;type&quot;: &quot;Point&quot;}, &quot;id&quot;: &quot;772&quot;, &quot;properties&quot;: {&quot;__folium_color&quot;: &quot;#c5b0d5&quot;, &quot;index&quot;: 3827, &quot;week&quot;: &quot;2022-05-23&quot;}, &quot;type&quot;: &quot;Feature&quot;}, {&quot;bbox&quot;: [22.66304166666667, 36.61205, 22.66304166666667, 36.61205], &quot;geometry&quot;: {&quot;coordinates&quot;: [22.66304166666667, 36.61205], &quot;type&quot;: &quot;Point&quot;}, &quot;id&quot;: &quot;773&quot;, &quot;properties&quot;: {&quot;__folium_color&quot;: &quot;#c5b0d5&quot;, &quot;index&quot;: 3828, &quot;week&quot;: &quot;2022-05-23&quot;}, &quot;type&quot;: &quot;Feature&quot;}, {&quot;bbox&quot;: [22.664453333333334, 36.612593333333336, 22.664453333333334, 36.612593333333336], &quot;geometry&quot;: {&quot;coordinates&quot;: [22.664453333333334, 36.612593333333336], &quot;type&quot;: &quot;Point&quot;}, &quot;id&quot;: &quot;774&quot;, &quot;properties&quot;: {&quot;__folium_color&quot;: &quot;#c5b0d5&quot;, &quot;index&quot;: 3829, &quot;week&quot;: &quot;2022-05-23&quot;}, &quot;type&quot;: &quot;Feature&quot;}, {&quot;bbox&quot;: [22.683858333333333, 36.59650333333333, 22.683858333333333, 36.59650333333333], &quot;geometry&quot;: {&quot;coordinates&quot;: [22.683858333333333, 36.59650333333333], &quot;type&quot;: &quot;Point&quot;}, &quot;id&quot;: &quot;775&quot;, &quot;properties&quot;: {&quot;__folium_color&quot;: &quot;#c5b0d5&quot;, &quot;index&quot;: 3830, &quot;week&quot;: &quot;2022-05-23&quot;}, &quot;type&quot;: &quot;Feature&quot;}, {&quot;bbox&quot;: [22.693915, 36.590795, 22.693915, 36.590795], &quot;geometry&quot;: {&quot;coordinates&quot;: [22.693915, 36.590795], &quot;type&quot;: &quot;Point&quot;}, &quot;id&quot;: &quot;776&quot;, &quot;properties&quot;: {&quot;__folium_color&quot;: &quot;#c5b0d5&quot;, &quot;index&quot;: 3831, &quot;week&quot;: &quot;2022-05-23&quot;}, &quot;type&quot;: &quot;Feature&quot;}, {&quot;bbox&quot;: [22.70034666666667, 36.59088833333333, 22.70034666666667, 36.59088833333333], &quot;geometry&quot;: {&quot;coordinates&quot;: [22.70034666666667, 36.59088833333333], &quot;type&quot;: &quot;Point&quot;}, &quot;id&quot;: &quot;777&quot;, &quot;properties&quot;: {&quot;__folium_color&quot;: &quot;#c5b0d5&quot;, &quot;index&quot;: 3832, &quot;week&quot;: &quot;2022-05-23&quot;}, &quot;type&quot;: &quot;Feature&quot;}, {&quot;bbox&quot;: [22.70045, 36.59401166666667, 22.70045, 36.59401166666667], &quot;geometry&quot;: {&quot;coordinates&quot;: [22.70045, 36.59401166666667], &quot;type&quot;: &quot;Point&quot;}, &quot;id&quot;: &quot;778&quot;, &quot;properties&quot;: {&quot;__folium_color&quot;: &quot;#c5b0d5&quot;, &quot;index&quot;: 3833, &quot;week&quot;: &quot;2022-05-23&quot;}, &quot;type&quot;: &quot;Feature&quot;}, {&quot;bbox&quot;: [22.704401666666666, 36.594025, 22.704401666666666, 36.594025], &quot;geometry&quot;: {&quot;coordinates&quot;: [22.704401666666666, 36.594025], &quot;type&quot;: &quot;Point&quot;}, &quot;id&quot;: &quot;779&quot;, &quot;properties&quot;: {&quot;__folium_color&quot;: &quot;#c5b0d5&quot;, &quot;index&quot;: 3834, &quot;week&quot;: &quot;2022-05-23&quot;}, &quot;type&quot;: &quot;Feature&quot;}, {&quot;bbox&quot;: [22.711626666666668, 36.589443333333335, 22.711626666666668, 36.589443333333335], &quot;geometry&quot;: {&quot;coordinates&quot;: [22.711626666666668, 36.589443333333335], &quot;type&quot;: &quot;Point&quot;}, &quot;id&quot;: &quot;780&quot;, &quot;properties&quot;: {&quot;__folium_color&quot;: &quot;#c5b0d5&quot;, &quot;index&quot;: 3835, &quot;week&quot;: &quot;2022-05-23&quot;}, &quot;type&quot;: &quot;Feature&quot;}, {&quot;bbox&quot;: [22.714746666666667, 36.581183333333335, 22.714746666666667, 36.581183333333335], &quot;geometry&quot;: {&quot;coordinates&quot;: [22.714746666666667, 36.581183333333335], &quot;type&quot;: &quot;Point&quot;}, &quot;id&quot;: &quot;781&quot;, &quot;properties&quot;: {&quot;__folium_color&quot;: &quot;#c5b0d5&quot;, &quot;index&quot;: 3836, &quot;week&quot;: &quot;2022-05-23&quot;}, &quot;type&quot;: &quot;Feature&quot;}, {&quot;bbox&quot;: [22.711281666666668, 36.59364166666667, 22.711281666666668, 36.59364166666667], &quot;geometry&quot;: {&quot;coordinates&quot;: [22.711281666666668, 36.59364166666667], &quot;type&quot;: &quot;Point&quot;}, &quot;id&quot;: &quot;782&quot;, &quot;properties&quot;: {&quot;__folium_color&quot;: &quot;#c5b0d5&quot;, &quot;index&quot;: 3837, &quot;week&quot;: &quot;2022-05-23&quot;}, &quot;type&quot;: &quot;Feature&quot;}, {&quot;bbox&quot;: [22.707635, 36.613525, 22.707635, 36.613525], &quot;geometry&quot;: {&quot;coordinates&quot;: [22.707635, 36.613525], &quot;type&quot;: &quot;Point&quot;}, &quot;id&quot;: &quot;783&quot;, &quot;properties&quot;: {&quot;__folium_color&quot;: &quot;#c5b0d5&quot;, &quot;index&quot;: 3838, &quot;week&quot;: &quot;2022-05-23&quot;}, &quot;type&quot;: &quot;Feature&quot;}, {&quot;bbox&quot;: [22.695738333333335, 36.622283333333336, 22.695738333333335, 36.622283333333336], &quot;geometry&quot;: {&quot;coordinates&quot;: [22.695738333333335, 36.622283333333336], &quot;type&quot;: &quot;Point&quot;}, &quot;id&quot;: &quot;784&quot;, &quot;properties&quot;: {&quot;__folium_color&quot;: &quot;#c5b0d5&quot;, &quot;index&quot;: 3839, &quot;week&quot;: &quot;2022-05-23&quot;}, &quot;type&quot;: &quot;Feature&quot;}, {&quot;bbox&quot;: [22.695938333333338, 36.617688333333334, 22.695938333333338, 36.617688333333334], &quot;geometry&quot;: {&quot;coordinates&quot;: [22.695938333333338, 36.617688333333334], &quot;type&quot;: &quot;Point&quot;}, &quot;id&quot;: &quot;785&quot;, &quot;properties&quot;: {&quot;__folium_color&quot;: &quot;#c5b0d5&quot;, &quot;index&quot;: 3840, &quot;week&quot;: &quot;2022-05-23&quot;}, &quot;type&quot;: &quot;Feature&quot;}, {&quot;bbox&quot;: [22.721868333333333, 36.58433333333333, 22.721868333333333, 36.58433333333333], &quot;geometry&quot;: {&quot;coordinates&quot;: [22.721868333333333, 36.58433333333333], &quot;type&quot;: &quot;Point&quot;}, &quot;id&quot;: &quot;786&quot;, &quot;properties&quot;: {&quot;__folium_color&quot;: &quot;#c5b0d5&quot;, &quot;index&quot;: 3841, &quot;week&quot;: &quot;2022-05-23&quot;}, &quot;type&quot;: &quot;Feature&quot;}, {&quot;bbox&quot;: [22.738108333333333, 36.532471666666666, 22.738108333333333, 36.532471666666666], &quot;geometry&quot;: {&quot;coordinates&quot;: [22.738108333333333, 36.532471666666666], &quot;type&quot;: &quot;Point&quot;}, &quot;id&quot;: &quot;787&quot;, &quot;properties&quot;: {&quot;__folium_color&quot;: &quot;#c5b0d5&quot;, &quot;index&quot;: 3842, &quot;week&quot;: &quot;2022-05-23&quot;}, &quot;type&quot;: &quot;Feature&quot;}, {&quot;bbox&quot;: [22.770356666666668, 36.48625, 22.770356666666668, 36.48625], &quot;geometry&quot;: {&quot;coordinates&quot;: [22.770356666666668, 36.48625], &quot;type&quot;: &quot;Point&quot;}, &quot;id&quot;: &quot;788&quot;, &quot;properties&quot;: {&quot;__folium_color&quot;: &quot;#c5b0d5&quot;, &quot;index&quot;: 3843, &quot;week&quot;: &quot;2022-05-23&quot;}, &quot;type&quot;: &quot;Feature&quot;}, {&quot;bbox&quot;: [22.894135, 36.43566833333333, 22.894135, 36.43566833333333], &quot;geometry&quot;: {&quot;coordinates&quot;: [22.894135, 36.43566833333333], &quot;type&quot;: &quot;Point&quot;}, &quot;id&quot;: &quot;789&quot;, &quot;properties&quot;: {&quot;__folium_color&quot;: &quot;#c5b0d5&quot;, &quot;index&quot;: 3844, &quot;week&quot;: &quot;2022-05-23&quot;}, &quot;type&quot;: &quot;Feature&quot;}, {&quot;bbox&quot;: [22.956986666666666, 36.425555, 22.956986666666666, 36.425555], &quot;geometry&quot;: {&quot;coordinates&quot;: [22.956986666666666, 36.425555], &quot;type&quot;: &quot;Point&quot;}, &quot;id&quot;: &quot;790&quot;, &quot;properties&quot;: {&quot;__folium_color&quot;: &quot;#c5b0d5&quot;, &quot;index&quot;: 3845, &quot;week&quot;: &quot;2022-05-23&quot;}, &quot;type&quot;: &quot;Feature&quot;}, {&quot;bbox&quot;: [23.011633333333332, 36.44404333333333, 23.011633333333332, 36.44404333333333], &quot;geometry&quot;: {&quot;coordinates&quot;: [23.011633333333332, 36.44404333333333], &quot;type&quot;: &quot;Point&quot;}, &quot;id&quot;: &quot;791&quot;, &quot;properties&quot;: {&quot;__folium_color&quot;: &quot;#c5b0d5&quot;, &quot;index&quot;: 3846, &quot;week&quot;: &quot;2022-05-23&quot;}, &quot;type&quot;: &quot;Feature&quot;}, {&quot;bbox&quot;: [23.026083333333332, 36.461715, 23.026083333333332, 36.461715], &quot;geometry&quot;: {&quot;coordinates&quot;: [23.026083333333332, 36.461715], &quot;type&quot;: &quot;Point&quot;}, &quot;id&quot;: &quot;792&quot;, &quot;properties&quot;: {&quot;__folium_color&quot;: &quot;#c5b0d5&quot;, &quot;index&quot;: 3847, &quot;week&quot;: &quot;2022-05-23&quot;}, &quot;type&quot;: &quot;Feature&quot;}, {&quot;bbox&quot;: [23.030931666666667, 36.46358166666667, 23.030931666666667, 36.46358166666667], &quot;geometry&quot;: {&quot;coordinates&quot;: [23.030931666666667, 36.46358166666667], &quot;type&quot;: &quot;Point&quot;}, &quot;id&quot;: &quot;793&quot;, &quot;properties&quot;: {&quot;__folium_color&quot;: &quot;#c5b0d5&quot;, &quot;index&quot;: 3848, &quot;week&quot;: &quot;2022-05-23&quot;}, &quot;type&quot;: &quot;Feature&quot;}, {&quot;bbox&quot;: [23.041133333333335, 36.45448666666667, 23.041133333333335, 36.45448666666667], &quot;geometry&quot;: {&quot;coordinates&quot;: [23.041133333333335, 36.45448666666667], &quot;type&quot;: &quot;Point&quot;}, &quot;id&quot;: &quot;794&quot;, &quot;properties&quot;: {&quot;__folium_color&quot;: &quot;#c5b0d5&quot;, &quot;index&quot;: 3849, &quot;week&quot;: &quot;2022-05-23&quot;}, &quot;type&quot;: &quot;Feature&quot;}, {&quot;bbox&quot;: [23.108581666666662, 36.39331, 23.108581666666662, 36.39331], &quot;geometry&quot;: {&quot;coordinates&quot;: [23.108581666666662, 36.39331], &quot;type&quot;: &quot;Point&quot;}, &quot;id&quot;: &quot;795&quot;, &quot;properties&quot;: {&quot;__folium_color&quot;: &quot;#c5b0d5&quot;, &quot;index&quot;: 3850, &quot;week&quot;: &quot;2022-05-23&quot;}, &quot;type&quot;: &quot;Feature&quot;}, {&quot;bbox&quot;: [23.129466666666666, 36.38439833333333, 23.129466666666666, 36.38439833333333], &quot;geometry&quot;: {&quot;coordinates&quot;: [23.129466666666666, 36.38439833333333], &quot;type&quot;: &quot;Point&quot;}, &quot;id&quot;: &quot;796&quot;, &quot;properties&quot;: {&quot;__folium_color&quot;: &quot;#c5b0d5&quot;, &quot;index&quot;: 3851, &quot;week&quot;: &quot;2022-05-23&quot;}, &quot;type&quot;: &quot;Feature&quot;}, {&quot;bbox&quot;: [23.139715, 36.38059833333333, 23.139715, 36.38059833333333], &quot;geometry&quot;: {&quot;coordinates&quot;: [23.139715, 36.38059833333333], &quot;type&quot;: &quot;Point&quot;}, &quot;id&quot;: &quot;797&quot;, &quot;properties&quot;: {&quot;__folium_color&quot;: &quot;#c5b0d5&quot;, &quot;index&quot;: 3852, &quot;week&quot;: &quot;2022-05-23&quot;}, &quot;type&quot;: &quot;Feature&quot;}, {&quot;bbox&quot;: [23.156395, 36.37540333333333, 23.156395, 36.37540333333333], &quot;geometry&quot;: {&quot;coordinates&quot;: [23.156395, 36.37540333333333], &quot;type&quot;: &quot;Point&quot;}, &quot;id&quot;: &quot;798&quot;, &quot;properties&quot;: {&quot;__folium_color&quot;: &quot;#c5b0d5&quot;, &quot;index&quot;: 3853, &quot;week&quot;: &quot;2022-05-23&quot;}, &quot;type&quot;: &quot;Feature&quot;}, {&quot;bbox&quot;: [14.190185, 35.817825, 14.190185, 35.817825], &quot;geometry&quot;: {&quot;coordinates&quot;: [14.190185, 35.817825], &quot;type&quot;: &quot;Point&quot;}, &quot;id&quot;: &quot;799&quot;, &quot;properties&quot;: {&quot;__folium_color&quot;: &quot;#8c564b&quot;, &quot;index&quot;: 4416, &quot;week&quot;: &quot;2022-06-13&quot;}, &quot;type&quot;: &quot;Feature&quot;}, {&quot;bbox&quot;: [14.230963333333332, 35.794315, 14.230963333333332, 35.794315], &quot;geometry&quot;: {&quot;coordinates&quot;: [14.230963333333332, 35.794315], &quot;type&quot;: &quot;Point&quot;}, &quot;id&quot;: &quot;800&quot;, &quot;properties&quot;: {&quot;__folium_color&quot;: &quot;#8c564b&quot;, &quot;index&quot;: 4417, &quot;week&quot;: &quot;2022-06-13&quot;}, &quot;type&quot;: &quot;Feature&quot;}, {&quot;bbox&quot;: [14.247428333333334, 35.78722, 14.247428333333334, 35.78722], &quot;geometry&quot;: {&quot;coordinates&quot;: [14.247428333333334, 35.78722], &quot;type&quot;: &quot;Point&quot;}, &quot;id&quot;: &quot;801&quot;, &quot;properties&quot;: {&quot;__folium_color&quot;: &quot;#8c564b&quot;, &quot;index&quot;: 4418, &quot;week&quot;: &quot;2022-06-13&quot;}, &quot;type&quot;: &quot;Feature&quot;}, {&quot;bbox&quot;: [14.268126666666667, 35.780076666666666, 14.268126666666667, 35.780076666666666], &quot;geometry&quot;: {&quot;coordinates&quot;: [14.268126666666667, 35.780076666666666], &quot;type&quot;: &quot;Point&quot;}, &quot;id&quot;: &quot;802&quot;, &quot;properties&quot;: {&quot;__folium_color&quot;: &quot;#8c564b&quot;, &quot;index&quot;: 4419, &quot;week&quot;: &quot;2022-06-13&quot;}, &quot;type&quot;: &quot;Feature&quot;}, {&quot;bbox&quot;: [14.312461666666668, 35.771155, 14.312461666666668, 35.771155], &quot;geometry&quot;: {&quot;coordinates&quot;: [14.312461666666668, 35.771155], &quot;type&quot;: &quot;Point&quot;}, &quot;id&quot;: &quot;803&quot;, &quot;properties&quot;: {&quot;__folium_color&quot;: &quot;#8c564b&quot;, &quot;index&quot;: 4420, &quot;week&quot;: &quot;2022-06-13&quot;}, &quot;type&quot;: &quot;Feature&quot;}, {&quot;bbox&quot;: [14.488723333333333, 35.72888, 14.488723333333333, 35.72888], &quot;geometry&quot;: {&quot;coordinates&quot;: [14.488723333333333, 35.72888], &quot;type&quot;: &quot;Point&quot;}, &quot;id&quot;: &quot;804&quot;, &quot;properties&quot;: {&quot;__folium_color&quot;: &quot;#8c564b&quot;, &quot;index&quot;: 4421, &quot;week&quot;: &quot;2022-06-13&quot;}, &quot;type&quot;: &quot;Feature&quot;}, {&quot;bbox&quot;: [14.514468333333332, 35.721131666666665, 14.514468333333332, 35.721131666666665], &quot;geometry&quot;: {&quot;coordinates&quot;: [14.514468333333332, 35.721131666666665], &quot;type&quot;: &quot;Point&quot;}, &quot;id&quot;: &quot;805&quot;, &quot;properties&quot;: {&quot;__folium_color&quot;: &quot;#8c564b&quot;, &quot;index&quot;: 4422, &quot;week&quot;: &quot;2022-06-13&quot;}, &quot;type&quot;: &quot;Feature&quot;}, {&quot;bbox&quot;: [14.524523333333333, 35.725138333333334, 14.524523333333333, 35.725138333333334], &quot;geometry&quot;: {&quot;coordinates&quot;: [14.524523333333333, 35.725138333333334], &quot;type&quot;: &quot;Point&quot;}, &quot;id&quot;: &quot;806&quot;, &quot;properties&quot;: {&quot;__folium_color&quot;: &quot;#8c564b&quot;, &quot;index&quot;: 4423, &quot;week&quot;: &quot;2022-06-13&quot;}, &quot;type&quot;: &quot;Feature&quot;}, {&quot;bbox&quot;: [14.562378333333331, 35.751396666666665, 14.562378333333331, 35.751396666666665], &quot;geometry&quot;: {&quot;coordinates&quot;: [14.562378333333331, 35.751396666666665], &quot;type&quot;: &quot;Point&quot;}, &quot;id&quot;: &quot;807&quot;, &quot;properties&quot;: {&quot;__folium_color&quot;: &quot;#8c564b&quot;, &quot;index&quot;: 4424, &quot;week&quot;: &quot;2022-06-13&quot;}, &quot;type&quot;: &quot;Feature&quot;}, {&quot;bbox&quot;: [14.578863333333333, 35.765438333333336, 14.578863333333333, 35.765438333333336], &quot;geometry&quot;: {&quot;coordinates&quot;: [14.578863333333333, 35.765438333333336], &quot;type&quot;: &quot;Point&quot;}, &quot;id&quot;: &quot;808&quot;, &quot;properties&quot;: {&quot;__folium_color&quot;: &quot;#8c564b&quot;, &quot;index&quot;: 4425, &quot;week&quot;: &quot;2022-06-13&quot;}, &quot;type&quot;: &quot;Feature&quot;}, {&quot;bbox&quot;: [14.584375, 35.775283333333334, 14.584375, 35.775283333333334], &quot;geometry&quot;: {&quot;coordinates&quot;: [14.584375, 35.775283333333334], &quot;type&quot;: &quot;Point&quot;}, &quot;id&quot;: &quot;809&quot;, &quot;properties&quot;: {&quot;__folium_color&quot;: &quot;#8c564b&quot;, &quot;index&quot;: 4426, &quot;week&quot;: &quot;2022-06-13&quot;}, &quot;type&quot;: &quot;Feature&quot;}, {&quot;bbox&quot;: [14.581766666666669, 35.788713333333334, 14.581766666666669, 35.788713333333334], &quot;geometry&quot;: {&quot;coordinates&quot;: [14.581766666666669, 35.788713333333334], &quot;type&quot;: &quot;Point&quot;}, &quot;id&quot;: &quot;810&quot;, &quot;properties&quot;: {&quot;__folium_color&quot;: &quot;#8c564b&quot;, &quot;index&quot;: 4427, &quot;week&quot;: &quot;2022-06-13&quot;}, &quot;type&quot;: &quot;Feature&quot;}, {&quot;bbox&quot;: [14.576311666666667, 35.7979, 14.576311666666667, 35.7979], &quot;geometry&quot;: {&quot;coordinates&quot;: [14.576311666666667, 35.7979], &quot;type&quot;: &quot;Point&quot;}, &quot;id&quot;: &quot;811&quot;, &quot;properties&quot;: {&quot;__folium_color&quot;: &quot;#8c564b&quot;, &quot;index&quot;: 4428, &quot;week&quot;: &quot;2022-06-13&quot;}, &quot;type&quot;: &quot;Feature&quot;}, {&quot;bbox&quot;: [14.56157, 35.80994, 14.56157, 35.80994], &quot;geometry&quot;: {&quot;coordinates&quot;: [14.56157, 35.80994], &quot;type&quot;: &quot;Point&quot;}, &quot;id&quot;: &quot;812&quot;, &quot;properties&quot;: {&quot;__folium_color&quot;: &quot;#8c564b&quot;, &quot;index&quot;: 4429, &quot;week&quot;: &quot;2022-06-13&quot;}, &quot;type&quot;: &quot;Feature&quot;}, {&quot;bbox&quot;: [14.552701666666668, 35.82251333333333, 14.552701666666668, 35.82251333333333], &quot;geometry&quot;: {&quot;coordinates&quot;: [14.552701666666668, 35.82251333333333], &quot;type&quot;: &quot;Point&quot;}, &quot;id&quot;: &quot;813&quot;, &quot;properties&quot;: {&quot;__folium_color&quot;: &quot;#8c564b&quot;, &quot;index&quot;: 4430, &quot;week&quot;: &quot;2022-06-13&quot;}, &quot;type&quot;: &quot;Feature&quot;}, {&quot;bbox&quot;: [14.550301666666666, 35.82818, 14.550301666666666, 35.82818], &quot;geometry&quot;: {&quot;coordinates&quot;: [14.550301666666666, 35.82818], &quot;type&quot;: &quot;Point&quot;}, &quot;id&quot;: &quot;814&quot;, &quot;properties&quot;: {&quot;__folium_color&quot;: &quot;#8c564b&quot;, &quot;index&quot;: 4431, &quot;week&quot;: &quot;2022-06-13&quot;}, &quot;type&quot;: &quot;Feature&quot;}, {&quot;bbox&quot;: [14.550331666666668, 35.82817166666667, 14.550331666666668, 35.82817166666667], &quot;geometry&quot;: {&quot;coordinates&quot;: [14.550331666666668, 35.82817166666667], &quot;type&quot;: &quot;Point&quot;}, &quot;id&quot;: &quot;815&quot;, &quot;properties&quot;: {&quot;__folium_color&quot;: &quot;#8c564b&quot;, &quot;index&quot;: 4432, &quot;week&quot;: &quot;2022-06-13&quot;}, &quot;type&quot;: &quot;Feature&quot;}, {&quot;bbox&quot;: [14.550306666666666, 35.828178333333334, 14.550306666666666, 35.828178333333334], &quot;geometry&quot;: {&quot;coordinates&quot;: [14.550306666666666, 35.828178333333334], &quot;type&quot;: &quot;Point&quot;}, &quot;id&quot;: &quot;816&quot;, &quot;properties&quot;: {&quot;__folium_color&quot;: &quot;#8c564b&quot;, &quot;index&quot;: 4433, &quot;week&quot;: &quot;2022-06-13&quot;}, &quot;type&quot;: &quot;Feature&quot;}, {&quot;bbox&quot;: [14.550285, 35.82815166666666, 14.550285, 35.82815166666666], &quot;geometry&quot;: {&quot;coordinates&quot;: [14.550285, 35.82815166666666], &quot;type&quot;: &quot;Point&quot;}, &quot;id&quot;: &quot;817&quot;, &quot;properties&quot;: {&quot;__folium_color&quot;: &quot;#8c564b&quot;, &quot;index&quot;: 4434, &quot;week&quot;: &quot;2022-06-13&quot;}, &quot;type&quot;: &quot;Feature&quot;}, {&quot;bbox&quot;: [14.55028, 35.82817, 14.55028, 35.82817], &quot;geometry&quot;: {&quot;coordinates&quot;: [14.55028, 35.82817], &quot;type&quot;: &quot;Point&quot;}, &quot;id&quot;: &quot;818&quot;, &quot;properties&quot;: {&quot;__folium_color&quot;: &quot;#8c564b&quot;, &quot;index&quot;: 4435, &quot;week&quot;: &quot;2022-06-13&quot;}, &quot;type&quot;: &quot;Feature&quot;}, {&quot;bbox&quot;: [14.550278333333331, 35.82816166666667, 14.550278333333331, 35.82816166666667], &quot;geometry&quot;: {&quot;coordinates&quot;: [14.550278333333331, 35.82816166666667], &quot;type&quot;: &quot;Point&quot;}, &quot;id&quot;: &quot;819&quot;, &quot;properties&quot;: {&quot;__folium_color&quot;: &quot;#8c564b&quot;, &quot;index&quot;: 4436, &quot;week&quot;: &quot;2022-06-13&quot;}, &quot;type&quot;: &quot;Feature&quot;}, {&quot;bbox&quot;: [14.550313333333332, 35.82819, 14.550313333333332, 35.82819], &quot;geometry&quot;: {&quot;coordinates&quot;: [14.550313333333332, 35.82819], &quot;type&quot;: &quot;Point&quot;}, &quot;id&quot;: &quot;820&quot;, &quot;properties&quot;: {&quot;__folium_color&quot;: &quot;#8c564b&quot;, &quot;index&quot;: 4437, &quot;week&quot;: &quot;2022-06-13&quot;}, &quot;type&quot;: &quot;Feature&quot;}, {&quot;bbox&quot;: [14.550276666666669, 35.828203333333335, 14.550276666666669, 35.828203333333335], &quot;geometry&quot;: {&quot;coordinates&quot;: [14.550276666666669, 35.828203333333335], &quot;type&quot;: &quot;Point&quot;}, &quot;id&quot;: &quot;821&quot;, &quot;properties&quot;: {&quot;__folium_color&quot;: &quot;#8c564b&quot;, &quot;index&quot;: 4438, &quot;week&quot;: &quot;2022-06-13&quot;}, &quot;type&quot;: &quot;Feature&quot;}, {&quot;bbox&quot;: [14.550306666666666, 35.828178333333334, 14.550306666666666, 35.828178333333334], &quot;geometry&quot;: {&quot;coordinates&quot;: [14.550306666666666, 35.828178333333334], &quot;type&quot;: &quot;Point&quot;}, &quot;id&quot;: &quot;822&quot;, &quot;properties&quot;: {&quot;__folium_color&quot;: &quot;#8c564b&quot;, &quot;index&quot;: 4439, &quot;week&quot;: &quot;2022-06-13&quot;}, &quot;type&quot;: &quot;Feature&quot;}, {&quot;bbox&quot;: [14.550296666666666, 35.828176666666664, 14.550296666666666, 35.828176666666664], &quot;geometry&quot;: {&quot;coordinates&quot;: [14.550296666666666, 35.828176666666664], &quot;type&quot;: &quot;Point&quot;}, &quot;id&quot;: &quot;823&quot;, &quot;properties&quot;: {&quot;__folium_color&quot;: &quot;#8c564b&quot;, &quot;index&quot;: 4440, &quot;week&quot;: &quot;2022-06-13&quot;}, &quot;type&quot;: &quot;Feature&quot;}, {&quot;bbox&quot;: [14.550278333333331, 35.82818, 14.550278333333331, 35.82818], &quot;geometry&quot;: {&quot;coordinates&quot;: [14.550278333333331, 35.82818], &quot;type&quot;: &quot;Point&quot;}, &quot;id&quot;: &quot;824&quot;, &quot;properties&quot;: {&quot;__folium_color&quot;: &quot;#8c564b&quot;, &quot;index&quot;: 4441, &quot;week&quot;: &quot;2022-06-13&quot;}, &quot;type&quot;: &quot;Feature&quot;}, {&quot;bbox&quot;: [14.550288333333333, 35.828118333333336, 14.550288333333333, 35.828118333333336], &quot;geometry&quot;: {&quot;coordinates&quot;: [14.550288333333333, 35.828118333333336], &quot;type&quot;: &quot;Point&quot;}, &quot;id&quot;: &quot;825&quot;, &quot;properties&quot;: {&quot;__folium_color&quot;: &quot;#8c564b&quot;, &quot;index&quot;: 4442, &quot;week&quot;: &quot;2022-06-13&quot;}, &quot;type&quot;: &quot;Feature&quot;}, {&quot;bbox&quot;: [14.550281666666669, 35.82812666666667, 14.550281666666669, 35.82812666666667], &quot;geometry&quot;: {&quot;coordinates&quot;: [14.550281666666669, 35.82812666666667], &quot;type&quot;: &quot;Point&quot;}, &quot;id&quot;: &quot;826&quot;, &quot;properties&quot;: {&quot;__folium_color&quot;: &quot;#8c564b&quot;, &quot;index&quot;: 4443, &quot;week&quot;: &quot;2022-06-13&quot;}, &quot;type&quot;: &quot;Feature&quot;}, {&quot;bbox&quot;: [14.550316666666667, 35.828133333333334, 14.550316666666667, 35.828133333333334], &quot;geometry&quot;: {&quot;coordinates&quot;: [14.550316666666667, 35.828133333333334], &quot;type&quot;: &quot;Point&quot;}, &quot;id&quot;: &quot;827&quot;, &quot;properties&quot;: {&quot;__folium_color&quot;: &quot;#8c564b&quot;, &quot;index&quot;: 4444, &quot;week&quot;: &quot;2022-06-13&quot;}, &quot;type&quot;: &quot;Feature&quot;}, {&quot;bbox&quot;: [14.550251666666666, 35.82816666666667, 14.550251666666666, 35.82816666666667], &quot;geometry&quot;: {&quot;coordinates&quot;: [14.550251666666666, 35.82816666666667], &quot;type&quot;: &quot;Point&quot;}, &quot;id&quot;: &quot;828&quot;, &quot;properties&quot;: {&quot;__folium_color&quot;: &quot;#8c564b&quot;, &quot;index&quot;: 4445, &quot;week&quot;: &quot;2022-06-13&quot;}, &quot;type&quot;: &quot;Feature&quot;}, {&quot;bbox&quot;: [14.550273333333331, 35.82816833333333, 14.550273333333331, 35.82816833333333], &quot;geometry&quot;: {&quot;coordinates&quot;: [14.550273333333331, 35.82816833333333], &quot;type&quot;: &quot;Point&quot;}, &quot;id&quot;: &quot;829&quot;, &quot;properties&quot;: {&quot;__folium_color&quot;: &quot;#8c564b&quot;, &quot;index&quot;: 4446, &quot;week&quot;: &quot;2022-06-13&quot;}, &quot;type&quot;: &quot;Feature&quot;}, {&quot;bbox&quot;: [14.550273333333331, 35.828183333333335, 14.550273333333331, 35.828183333333335], &quot;geometry&quot;: {&quot;coordinates&quot;: [14.550273333333331, 35.828183333333335], &quot;type&quot;: &quot;Point&quot;}, &quot;id&quot;: &quot;830&quot;, &quot;properties&quot;: {&quot;__folium_color&quot;: &quot;#8c564b&quot;, &quot;index&quot;: 4447, &quot;week&quot;: &quot;2022-06-13&quot;}, &quot;type&quot;: &quot;Feature&quot;}, {&quot;bbox&quot;: [14.550265, 35.828163333333336, 14.550265, 35.828163333333336], &quot;geometry&quot;: {&quot;coordinates&quot;: [14.550265, 35.828163333333336], &quot;type&quot;: &quot;Point&quot;}, &quot;id&quot;: &quot;831&quot;, &quot;properties&quot;: {&quot;__folium_color&quot;: &quot;#8c564b&quot;, &quot;index&quot;: 4448, &quot;week&quot;: &quot;2022-06-13&quot;}, &quot;type&quot;: &quot;Feature&quot;}, {&quot;bbox&quot;: [14.55029, 35.82818666666667, 14.55029, 35.82818666666667], &quot;geometry&quot;: {&quot;coordinates&quot;: [14.55029, 35.82818666666667], &quot;type&quot;: &quot;Point&quot;}, &quot;id&quot;: &quot;832&quot;, &quot;properties&quot;: {&quot;__folium_color&quot;: &quot;#8c564b&quot;, &quot;index&quot;: 4449, &quot;week&quot;: &quot;2022-06-13&quot;}, &quot;type&quot;: &quot;Feature&quot;}, {&quot;bbox&quot;: [14.550293333333334, 35.82819166666667, 14.550293333333334, 35.82819166666667], &quot;geometry&quot;: {&quot;coordinates&quot;: [14.550293333333334, 35.82819166666667], &quot;type&quot;: &quot;Point&quot;}, &quot;id&quot;: &quot;833&quot;, &quot;properties&quot;: {&quot;__folium_color&quot;: &quot;#8c564b&quot;, &quot;index&quot;: 4450, &quot;week&quot;: &quot;2022-06-13&quot;}, &quot;type&quot;: &quot;Feature&quot;}, {&quot;bbox&quot;: [14.550261666666668, 35.82814833333333, 14.550261666666668, 35.82814833333333], &quot;geometry&quot;: {&quot;coordinates&quot;: [14.550261666666668, 35.82814833333333], &quot;type&quot;: &quot;Point&quot;}, &quot;id&quot;: &quot;834&quot;, &quot;properties&quot;: {&quot;__folium_color&quot;: &quot;#8c564b&quot;, &quot;index&quot;: 4451, &quot;week&quot;: &quot;2022-06-13&quot;}, &quot;type&quot;: &quot;Feature&quot;}, {&quot;bbox&quot;: [14.550298333333334, 35.82817333333333, 14.550298333333334, 35.82817333333333], &quot;geometry&quot;: {&quot;coordinates&quot;: [14.550298333333334, 35.82817333333333], &quot;type&quot;: &quot;Point&quot;}, &quot;id&quot;: &quot;835&quot;, &quot;properties&quot;: {&quot;__folium_color&quot;: &quot;#8c564b&quot;, &quot;index&quot;: 4452, &quot;week&quot;: &quot;2022-06-13&quot;}, &quot;type&quot;: &quot;Feature&quot;}, {&quot;bbox&quot;: [14.550266666666667, 35.828183333333335, 14.550266666666667, 35.828183333333335], &quot;geometry&quot;: {&quot;coordinates&quot;: [14.550266666666667, 35.828183333333335], &quot;type&quot;: &quot;Point&quot;}, &quot;id&quot;: &quot;836&quot;, &quot;properties&quot;: {&quot;__folium_color&quot;: &quot;#8c564b&quot;, &quot;index&quot;: 4453, &quot;week&quot;: &quot;2022-06-13&quot;}, &quot;type&quot;: &quot;Feature&quot;}, {&quot;bbox&quot;: [14.550276666666669, 35.82816833333333, 14.550276666666669, 35.82816833333333], &quot;geometry&quot;: {&quot;coordinates&quot;: [14.550276666666669, 35.82816833333333], &quot;type&quot;: &quot;Point&quot;}, &quot;id&quot;: &quot;837&quot;, &quot;properties&quot;: {&quot;__folium_color&quot;: &quot;#8c564b&quot;, &quot;index&quot;: 4454, &quot;week&quot;: &quot;2022-06-13&quot;}, &quot;type&quot;: &quot;Feature&quot;}, {&quot;bbox&quot;: [14.550278333333331, 35.82816, 14.550278333333331, 35.82816], &quot;geometry&quot;: {&quot;coordinates&quot;: [14.550278333333331, 35.82816], &quot;type&quot;: &quot;Point&quot;}, &quot;id&quot;: &quot;838&quot;, &quot;properties&quot;: {&quot;__folium_color&quot;: &quot;#8c564b&quot;, &quot;index&quot;: 4455, &quot;week&quot;: &quot;2022-06-13&quot;}, &quot;type&quot;: &quot;Feature&quot;}, {&quot;bbox&quot;: [14.550273333333331, 35.82815166666666, 14.550273333333331, 35.82815166666666], &quot;geometry&quot;: {&quot;coordinates&quot;: [14.550273333333331, 35.82815166666666], &quot;type&quot;: &quot;Point&quot;}, &quot;id&quot;: &quot;839&quot;, &quot;properties&quot;: {&quot;__folium_color&quot;: &quot;#8c564b&quot;, &quot;index&quot;: 4456, &quot;week&quot;: &quot;2022-06-13&quot;}, &quot;type&quot;: &quot;Feature&quot;}, {&quot;bbox&quot;: [14.550286666666668, 35.828176666666664, 14.550286666666668, 35.828176666666664], &quot;geometry&quot;: {&quot;coordinates&quot;: [14.550286666666668, 35.828176666666664], &quot;type&quot;: &quot;Point&quot;}, &quot;id&quot;: &quot;840&quot;, &quot;properties&quot;: {&quot;__folium_color&quot;: &quot;#8c564b&quot;, &quot;index&quot;: 4457, &quot;week&quot;: &quot;2022-06-13&quot;}, &quot;type&quot;: &quot;Feature&quot;}, {&quot;bbox&quot;: [14.550283333333333, 35.82816, 14.550283333333333, 35.82816], &quot;geometry&quot;: {&quot;coordinates&quot;: [14.550283333333333, 35.82816], &quot;type&quot;: &quot;Point&quot;}, &quot;id&quot;: &quot;841&quot;, &quot;properties&quot;: {&quot;__folium_color&quot;: &quot;#8c564b&quot;, &quot;index&quot;: 4458, &quot;week&quot;: &quot;2022-06-13&quot;}, &quot;type&quot;: &quot;Feature&quot;}, {&quot;bbox&quot;: [14.550295, 35.82814833333333, 14.550295, 35.82814833333333], &quot;geometry&quot;: {&quot;coordinates&quot;: [14.550295, 35.82814833333333], &quot;type&quot;: &quot;Point&quot;}, &quot;id&quot;: &quot;842&quot;, &quot;properties&quot;: {&quot;__folium_color&quot;: &quot;#8c564b&quot;, &quot;index&quot;: 4459, &quot;week&quot;: &quot;2022-06-13&quot;}, &quot;type&quot;: &quot;Feature&quot;}, {&quot;bbox&quot;: [14.550276666666669, 35.82814833333333, 14.550276666666669, 35.82814833333333], &quot;geometry&quot;: {&quot;coordinates&quot;: [14.550276666666669, 35.82814833333333], &quot;type&quot;: &quot;Point&quot;}, &quot;id&quot;: &quot;843&quot;, &quot;properties&quot;: {&quot;__folium_color&quot;: &quot;#8c564b&quot;, &quot;index&quot;: 4460, &quot;week&quot;: &quot;2022-06-13&quot;}, &quot;type&quot;: &quot;Feature&quot;}, {&quot;bbox&quot;: [14.550303333333334, 35.82816833333333, 14.550303333333334, 35.82816833333333], &quot;geometry&quot;: {&quot;coordinates&quot;: [14.550303333333334, 35.82816833333333], &quot;type&quot;: &quot;Point&quot;}, &quot;id&quot;: &quot;844&quot;, &quot;properties&quot;: {&quot;__folium_color&quot;: &quot;#8c564b&quot;, &quot;index&quot;: 4461, &quot;week&quot;: &quot;2022-06-13&quot;}, &quot;type&quot;: &quot;Feature&quot;}, {&quot;bbox&quot;: [14.550268333333332, 35.82815, 14.550268333333332, 35.82815], &quot;geometry&quot;: {&quot;coordinates&quot;: [14.550268333333332, 35.82815], &quot;type&quot;: &quot;Point&quot;}, &quot;id&quot;: &quot;845&quot;, &quot;properties&quot;: {&quot;__folium_color&quot;: &quot;#8c564b&quot;, &quot;index&quot;: 4462, &quot;week&quot;: &quot;2022-06-13&quot;}, &quot;type&quot;: &quot;Feature&quot;}, {&quot;bbox&quot;: [14.550281666666669, 35.828163333333336, 14.550281666666669, 35.828163333333336], &quot;geometry&quot;: {&quot;coordinates&quot;: [14.550281666666669, 35.828163333333336], &quot;type&quot;: &quot;Point&quot;}, &quot;id&quot;: &quot;846&quot;, &quot;properties&quot;: {&quot;__folium_color&quot;: &quot;#8c564b&quot;, &quot;index&quot;: 4463, &quot;week&quot;: &quot;2022-06-13&quot;}, &quot;type&quot;: &quot;Feature&quot;}, {&quot;bbox&quot;: [14.55031, 35.82821, 14.55031, 35.82821], &quot;geometry&quot;: {&quot;coordinates&quot;: [14.55031, 35.82821], &quot;type&quot;: &quot;Point&quot;}, &quot;id&quot;: &quot;847&quot;, &quot;properties&quot;: {&quot;__folium_color&quot;: &quot;#8c564b&quot;, &quot;index&quot;: 4464, &quot;week&quot;: &quot;2022-06-13&quot;}, &quot;type&quot;: &quot;Feature&quot;}, {&quot;bbox&quot;: [14.550285, 35.82819, 14.550285, 35.82819], &quot;geometry&quot;: {&quot;coordinates&quot;: [14.550285, 35.82819], &quot;type&quot;: &quot;Point&quot;}, &quot;id&quot;: &quot;848&quot;, &quot;properties&quot;: {&quot;__folium_color&quot;: &quot;#8c564b&quot;, &quot;index&quot;: 4465, &quot;week&quot;: &quot;2022-06-13&quot;}, &quot;type&quot;: &quot;Feature&quot;}, {&quot;bbox&quot;: [14.550268333333332, 35.828195, 14.550268333333332, 35.828195], &quot;geometry&quot;: {&quot;coordinates&quot;: [14.550268333333332, 35.828195], &quot;type&quot;: &quot;Point&quot;}, &quot;id&quot;: &quot;849&quot;, &quot;properties&quot;: {&quot;__folium_color&quot;: &quot;#8c564b&quot;, &quot;index&quot;: 4466, &quot;week&quot;: &quot;2022-06-13&quot;}, &quot;type&quot;: &quot;Feature&quot;}, {&quot;bbox&quot;: [14.55027, 35.82818666666667, 14.55027, 35.82818666666667], &quot;geometry&quot;: {&quot;coordinates&quot;: [14.55027, 35.82818666666667], &quot;type&quot;: &quot;Point&quot;}, &quot;id&quot;: &quot;850&quot;, &quot;properties&quot;: {&quot;__folium_color&quot;: &quot;#8c564b&quot;, &quot;index&quot;: 4467, &quot;week&quot;: &quot;2022-06-13&quot;}, &quot;type&quot;: &quot;Feature&quot;}, {&quot;bbox&quot;: [14.550281666666669, 35.82816666666667, 14.550281666666669, 35.82816666666667], &quot;geometry&quot;: {&quot;coordinates&quot;: [14.550281666666669, 35.82816666666667], &quot;type&quot;: &quot;Point&quot;}, &quot;id&quot;: &quot;851&quot;, &quot;properties&quot;: {&quot;__folium_color&quot;: &quot;#8c564b&quot;, &quot;index&quot;: 4468, &quot;week&quot;: &quot;2022-06-13&quot;}, &quot;type&quot;: &quot;Feature&quot;}, {&quot;bbox&quot;: [14.550291666666666, 35.82814833333333, 14.550291666666666, 35.82814833333333], &quot;geometry&quot;: {&quot;coordinates&quot;: [14.550291666666666, 35.82814833333333], &quot;type&quot;: &quot;Point&quot;}, &quot;id&quot;: &quot;852&quot;, &quot;properties&quot;: {&quot;__folium_color&quot;: &quot;#8c564b&quot;, &quot;index&quot;: 4469, &quot;week&quot;: &quot;2022-06-13&quot;}, &quot;type&quot;: &quot;Feature&quot;}, {&quot;bbox&quot;: [14.550308333333334, 35.828163333333336, 14.550308333333334, 35.828163333333336], &quot;geometry&quot;: {&quot;coordinates&quot;: [14.550308333333334, 35.828163333333336], &quot;type&quot;: &quot;Point&quot;}, &quot;id&quot;: &quot;853&quot;, &quot;properties&quot;: {&quot;__folium_color&quot;: &quot;#8c564b&quot;, &quot;index&quot;: 4470, &quot;week&quot;: &quot;2022-06-13&quot;}, &quot;type&quot;: &quot;Feature&quot;}, {&quot;bbox&quot;: [14.5503, 35.82817, 14.5503, 35.82817], &quot;geometry&quot;: {&quot;coordinates&quot;: [14.5503, 35.82817], &quot;type&quot;: &quot;Point&quot;}, &quot;id&quot;: &quot;854&quot;, &quot;properties&quot;: {&quot;__folium_color&quot;: &quot;#8c564b&quot;, &quot;index&quot;: 4471, &quot;week&quot;: &quot;2022-06-13&quot;}, &quot;type&quot;: &quot;Feature&quot;}, {&quot;bbox&quot;: [14.550285, 35.828165, 14.550285, 35.828165], &quot;geometry&quot;: {&quot;coordinates&quot;: [14.550285, 35.828165], &quot;type&quot;: &quot;Point&quot;}, &quot;id&quot;: &quot;855&quot;, &quot;properties&quot;: {&quot;__folium_color&quot;: &quot;#8c564b&quot;, &quot;index&quot;: 4472, &quot;week&quot;: &quot;2022-06-13&quot;}, &quot;type&quot;: &quot;Feature&quot;}, {&quot;bbox&quot;: [14.55027, 35.828181666666666, 14.55027, 35.828181666666666], &quot;geometry&quot;: {&quot;coordinates&quot;: [14.55027, 35.828181666666666], &quot;type&quot;: &quot;Point&quot;}, &quot;id&quot;: &quot;856&quot;, &quot;properties&quot;: {&quot;__folium_color&quot;: &quot;#8c564b&quot;, &quot;index&quot;: 4473, &quot;week&quot;: &quot;2022-06-13&quot;}, &quot;type&quot;: &quot;Feature&quot;}, {&quot;bbox&quot;: [14.550286666666668, 35.828185, 14.550286666666668, 35.828185], &quot;geometry&quot;: {&quot;coordinates&quot;: [14.550286666666668, 35.828185], &quot;type&quot;: &quot;Point&quot;}, &quot;id&quot;: &quot;857&quot;, &quot;properties&quot;: {&quot;__folium_color&quot;: &quot;#8c564b&quot;, &quot;index&quot;: 4474, &quot;week&quot;: &quot;2022-06-13&quot;}, &quot;type&quot;: &quot;Feature&quot;}, {&quot;bbox&quot;: [14.550248333333334, 35.828155, 14.550248333333334, 35.828155], &quot;geometry&quot;: {&quot;coordinates&quot;: [14.550248333333334, 35.828155], &quot;type&quot;: &quot;Point&quot;}, &quot;id&quot;: &quot;858&quot;, &quot;properties&quot;: {&quot;__folium_color&quot;: &quot;#8c564b&quot;, &quot;index&quot;: 4475, &quot;week&quot;: &quot;2022-06-13&quot;}, &quot;type&quot;: &quot;Feature&quot;}, {&quot;bbox&quot;: [14.550283333333333, 35.82814666666667, 14.550283333333333, 35.82814666666667], &quot;geometry&quot;: {&quot;coordinates&quot;: [14.550283333333333, 35.82814666666667], &quot;type&quot;: &quot;Point&quot;}, &quot;id&quot;: &quot;859&quot;, &quot;properties&quot;: {&quot;__folium_color&quot;: &quot;#8c564b&quot;, &quot;index&quot;: 4476, &quot;week&quot;: &quot;2022-06-13&quot;}, &quot;type&quot;: &quot;Feature&quot;}, {&quot;bbox&quot;: [14.550295, 35.828156666666665, 14.550295, 35.828156666666665], &quot;geometry&quot;: {&quot;coordinates&quot;: [14.550295, 35.828156666666665], &quot;type&quot;: &quot;Point&quot;}, &quot;id&quot;: &quot;860&quot;, &quot;properties&quot;: {&quot;__folium_color&quot;: &quot;#8c564b&quot;, &quot;index&quot;: 4477, &quot;week&quot;: &quot;2022-06-13&quot;}, &quot;type&quot;: &quot;Feature&quot;}, {&quot;bbox&quot;: [14.5503, 35.828158333333334, 14.5503, 35.828158333333334], &quot;geometry&quot;: {&quot;coordinates&quot;: [14.5503, 35.828158333333334], &quot;type&quot;: &quot;Point&quot;}, &quot;id&quot;: &quot;861&quot;, &quot;properties&quot;: {&quot;__folium_color&quot;: &quot;#8c564b&quot;, &quot;index&quot;: 4478, &quot;week&quot;: &quot;2022-06-13&quot;}, &quot;type&quot;: &quot;Feature&quot;}, {&quot;bbox&quot;: [14.55028, 35.828155, 14.55028, 35.828155], &quot;geometry&quot;: {&quot;coordinates&quot;: [14.55028, 35.828155], &quot;type&quot;: &quot;Point&quot;}, &quot;id&quot;: &quot;862&quot;, &quot;properties&quot;: {&quot;__folium_color&quot;: &quot;#8c564b&quot;, &quot;index&quot;: 4479, &quot;week&quot;: &quot;2022-06-13&quot;}, &quot;type&quot;: &quot;Feature&quot;}, {&quot;bbox&quot;: [14.550271666666667, 35.82814333333334, 14.550271666666667, 35.82814333333334], &quot;geometry&quot;: {&quot;coordinates&quot;: [14.550271666666667, 35.82814333333334], &quot;type&quot;: &quot;Point&quot;}, &quot;id&quot;: &quot;863&quot;, &quot;properties&quot;: {&quot;__folium_color&quot;: &quot;#8c564b&quot;, &quot;index&quot;: 4480, &quot;week&quot;: &quot;2022-06-13&quot;}, &quot;type&quot;: &quot;Feature&quot;}, {&quot;bbox&quot;: [14.550291666666666, 35.828178333333334, 14.550291666666666, 35.828178333333334], &quot;geometry&quot;: {&quot;coordinates&quot;: [14.550291666666666, 35.828178333333334], &quot;type&quot;: &quot;Point&quot;}, &quot;id&quot;: &quot;864&quot;, &quot;properties&quot;: {&quot;__folium_color&quot;: &quot;#8c564b&quot;, &quot;index&quot;: 4481, &quot;week&quot;: &quot;2022-06-13&quot;}, &quot;type&quot;: &quot;Feature&quot;}, {&quot;bbox&quot;: [14.550275, 35.82816166666667, 14.550275, 35.82816166666667], &quot;geometry&quot;: {&quot;coordinates&quot;: [14.550275, 35.82816166666667], &quot;type&quot;: &quot;Point&quot;}, &quot;id&quot;: &quot;865&quot;, &quot;properties&quot;: {&quot;__folium_color&quot;: &quot;#8c564b&quot;, &quot;index&quot;: 4482, &quot;week&quot;: &quot;2022-06-13&quot;}, &quot;type&quot;: &quot;Feature&quot;}, {&quot;bbox&quot;: [14.550296666666666, 35.82816166666667, 14.550296666666666, 35.82816166666667], &quot;geometry&quot;: {&quot;coordinates&quot;: [14.550296666666666, 35.82816166666667], &quot;type&quot;: &quot;Point&quot;}, &quot;id&quot;: &quot;866&quot;, &quot;properties&quot;: {&quot;__folium_color&quot;: &quot;#8c564b&quot;, &quot;index&quot;: 4483, &quot;week&quot;: &quot;2022-06-13&quot;}, &quot;type&quot;: &quot;Feature&quot;}, {&quot;bbox&quot;: [14.550278333333331, 35.82816666666667, 14.550278333333331, 35.82816666666667], &quot;geometry&quot;: {&quot;coordinates&quot;: [14.550278333333331, 35.82816666666667], &quot;type&quot;: &quot;Point&quot;}, &quot;id&quot;: &quot;867&quot;, &quot;properties&quot;: {&quot;__folium_color&quot;: &quot;#8c564b&quot;, &quot;index&quot;: 4484, &quot;week&quot;: &quot;2022-06-13&quot;}, &quot;type&quot;: &quot;Feature&quot;}, {&quot;bbox&quot;: [14.55029, 35.82816166666667, 14.55029, 35.82816166666667], &quot;geometry&quot;: {&quot;coordinates&quot;: [14.55029, 35.82816166666667], &quot;type&quot;: &quot;Point&quot;}, &quot;id&quot;: &quot;868&quot;, &quot;properties&quot;: {&quot;__folium_color&quot;: &quot;#8c564b&quot;, &quot;index&quot;: 4485, &quot;week&quot;: &quot;2022-06-13&quot;}, &quot;type&quot;: &quot;Feature&quot;}, {&quot;bbox&quot;: [14.550261666666668, 35.82818, 14.550261666666668, 35.82818], &quot;geometry&quot;: {&quot;coordinates&quot;: [14.550261666666668, 35.82818], &quot;type&quot;: &quot;Point&quot;}, &quot;id&quot;: &quot;869&quot;, &quot;properties&quot;: {&quot;__folium_color&quot;: &quot;#8c564b&quot;, &quot;index&quot;: 4486, &quot;week&quot;: &quot;2022-06-13&quot;}, &quot;type&quot;: &quot;Feature&quot;}, {&quot;bbox&quot;: [14.550291666666666, 35.82814833333333, 14.550291666666666, 35.82814833333333], &quot;geometry&quot;: {&quot;coordinates&quot;: [14.550291666666666, 35.82814833333333], &quot;type&quot;: &quot;Point&quot;}, &quot;id&quot;: &quot;870&quot;, &quot;properties&quot;: {&quot;__folium_color&quot;: &quot;#8c564b&quot;, &quot;index&quot;: 4487, &quot;week&quot;: &quot;2022-06-13&quot;}, &quot;type&quot;: &quot;Feature&quot;}, {&quot;bbox&quot;: [14.55027, 35.82816833333333, 14.55027, 35.82816833333333], &quot;geometry&quot;: {&quot;coordinates&quot;: [14.55027, 35.82816833333333], &quot;type&quot;: &quot;Point&quot;}, &quot;id&quot;: &quot;871&quot;, &quot;properties&quot;: {&quot;__folium_color&quot;: &quot;#8c564b&quot;, &quot;index&quot;: 4488, &quot;week&quot;: &quot;2022-06-13&quot;}, &quot;type&quot;: &quot;Feature&quot;}, {&quot;bbox&quot;: [14.550275, 35.828176666666664, 14.550275, 35.828176666666664], &quot;geometry&quot;: {&quot;coordinates&quot;: [14.550275, 35.828176666666664], &quot;type&quot;: &quot;Point&quot;}, &quot;id&quot;: &quot;872&quot;, &quot;properties&quot;: {&quot;__folium_color&quot;: &quot;#8c564b&quot;, &quot;index&quot;: 4489, &quot;week&quot;: &quot;2022-06-13&quot;}, &quot;type&quot;: &quot;Feature&quot;}, {&quot;bbox&quot;: [14.550271666666667, 35.82830666666667, 14.550271666666667, 35.82830666666667], &quot;geometry&quot;: {&quot;coordinates&quot;: [14.550271666666667, 35.82830666666667], &quot;type&quot;: &quot;Point&quot;}, &quot;id&quot;: &quot;873&quot;, &quot;properties&quot;: {&quot;__folium_color&quot;: &quot;#8c564b&quot;, &quot;index&quot;: 4490, &quot;week&quot;: &quot;2022-06-13&quot;}, &quot;type&quot;: &quot;Feature&quot;}, {&quot;bbox&quot;: [14.550285, 35.82823, 14.550285, 35.82823], &quot;geometry&quot;: {&quot;coordinates&quot;: [14.550285, 35.82823], &quot;type&quot;: &quot;Point&quot;}, &quot;id&quot;: &quot;874&quot;, &quot;properties&quot;: {&quot;__folium_color&quot;: &quot;#8c564b&quot;, &quot;index&quot;: 4491, &quot;week&quot;: &quot;2022-06-13&quot;}, &quot;type&quot;: &quot;Feature&quot;}, {&quot;bbox&quot;: [14.55029, 35.82817, 14.55029, 35.82817], &quot;geometry&quot;: {&quot;coordinates&quot;: [14.55029, 35.82817], &quot;type&quot;: &quot;Point&quot;}, &quot;id&quot;: &quot;875&quot;, &quot;properties&quot;: {&quot;__folium_color&quot;: &quot;#8c564b&quot;, &quot;index&quot;: 4492, &quot;week&quot;: &quot;2022-06-13&quot;}, &quot;type&quot;: &quot;Feature&quot;}, {&quot;bbox&quot;: [14.550266666666667, 35.828176666666664, 14.550266666666667, 35.828176666666664], &quot;geometry&quot;: {&quot;coordinates&quot;: [14.550266666666667, 35.828176666666664], &quot;type&quot;: &quot;Point&quot;}, &quot;id&quot;: &quot;876&quot;, &quot;properties&quot;: {&quot;__folium_color&quot;: &quot;#8c564b&quot;, &quot;index&quot;: 4493, &quot;week&quot;: &quot;2022-06-13&quot;}, &quot;type&quot;: &quot;Feature&quot;}, {&quot;bbox&quot;: [14.55028, 35.82815166666666, 14.55028, 35.82815166666666], &quot;geometry&quot;: {&quot;coordinates&quot;: [14.55028, 35.82815166666666], &quot;type&quot;: &quot;Point&quot;}, &quot;id&quot;: &quot;877&quot;, &quot;properties&quot;: {&quot;__folium_color&quot;: &quot;#8c564b&quot;, &quot;index&quot;: 4494, &quot;week&quot;: &quot;2022-06-13&quot;}, &quot;type&quot;: &quot;Feature&quot;}, {&quot;bbox&quot;: [14.55031, 35.82815333333333, 14.55031, 35.82815333333333], &quot;geometry&quot;: {&quot;coordinates&quot;: [14.55031, 35.82815333333333], &quot;type&quot;: &quot;Point&quot;}, &quot;id&quot;: &quot;878&quot;, &quot;properties&quot;: {&quot;__folium_color&quot;: &quot;#8c564b&quot;, &quot;index&quot;: 4495, &quot;week&quot;: &quot;2022-06-13&quot;}, &quot;type&quot;: &quot;Feature&quot;}, {&quot;bbox&quot;: [14.550281666666669, 35.82816, 14.550281666666669, 35.82816], &quot;geometry&quot;: {&quot;coordinates&quot;: [14.550281666666669, 35.82816], &quot;type&quot;: &quot;Point&quot;}, &quot;id&quot;: &quot;879&quot;, &quot;properties&quot;: {&quot;__folium_color&quot;: &quot;#8c564b&quot;, &quot;index&quot;: 4496, &quot;week&quot;: &quot;2022-06-13&quot;}, &quot;type&quot;: &quot;Feature&quot;}, {&quot;bbox&quot;: [14.550288333333333, 35.82816666666667, 14.550288333333333, 35.82816666666667], &quot;geometry&quot;: {&quot;coordinates&quot;: [14.550288333333333, 35.82816666666667], &quot;type&quot;: &quot;Point&quot;}, &quot;id&quot;: &quot;880&quot;, &quot;properties&quot;: {&quot;__folium_color&quot;: &quot;#8c564b&quot;, &quot;index&quot;: 4497, &quot;week&quot;: &quot;2022-06-13&quot;}, &quot;type&quot;: &quot;Feature&quot;}, {&quot;bbox&quot;: [14.550305, 35.828176666666664, 14.550305, 35.828176666666664], &quot;geometry&quot;: {&quot;coordinates&quot;: [14.550305, 35.828176666666664], &quot;type&quot;: &quot;Point&quot;}, &quot;id&quot;: &quot;881&quot;, &quot;properties&quot;: {&quot;__folium_color&quot;: &quot;#8c564b&quot;, &quot;index&quot;: 4498, &quot;week&quot;: &quot;2022-06-13&quot;}, &quot;type&quot;: &quot;Feature&quot;}, {&quot;bbox&quot;: [14.550308333333334, 35.828156666666665, 14.550308333333334, 35.828156666666665], &quot;geometry&quot;: {&quot;coordinates&quot;: [14.550308333333334, 35.828156666666665], &quot;type&quot;: &quot;Point&quot;}, &quot;id&quot;: &quot;882&quot;, &quot;properties&quot;: {&quot;__folium_color&quot;: &quot;#8c564b&quot;, &quot;index&quot;: 4499, &quot;week&quot;: &quot;2022-06-13&quot;}, &quot;type&quot;: &quot;Feature&quot;}, {&quot;bbox&quot;: [14.550308333333334, 35.82817166666667, 14.550308333333334, 35.82817166666667], &quot;geometry&quot;: {&quot;coordinates&quot;: [14.550308333333334, 35.82817166666667], &quot;type&quot;: &quot;Point&quot;}, &quot;id&quot;: &quot;883&quot;, &quot;properties&quot;: {&quot;__folium_color&quot;: &quot;#8c564b&quot;, &quot;index&quot;: 4500, &quot;week&quot;: &quot;2022-06-13&quot;}, &quot;type&quot;: &quot;Feature&quot;}, {&quot;bbox&quot;: [14.550283333333333, 35.82817333333333, 14.550283333333333, 35.82817333333333], &quot;geometry&quot;: {&quot;coordinates&quot;: [14.550283333333333, 35.82817333333333], &quot;type&quot;: &quot;Point&quot;}, &quot;id&quot;: &quot;884&quot;, &quot;properties&quot;: {&quot;__folium_color&quot;: &quot;#8c564b&quot;, &quot;index&quot;: 4501, &quot;week&quot;: &quot;2022-06-13&quot;}, &quot;type&quot;: &quot;Feature&quot;}, {&quot;bbox&quot;: [14.550285, 35.82816666666667, 14.550285, 35.82816666666667], &quot;geometry&quot;: {&quot;coordinates&quot;: [14.550285, 35.82816666666667], &quot;type&quot;: &quot;Point&quot;}, &quot;id&quot;: &quot;885&quot;, &quot;properties&quot;: {&quot;__folium_color&quot;: &quot;#8c564b&quot;, &quot;index&quot;: 4502, &quot;week&quot;: &quot;2022-06-13&quot;}, &quot;type&quot;: &quot;Feature&quot;}, {&quot;bbox&quot;: [14.550283333333333, 35.828175, 14.550283333333333, 35.828175], &quot;geometry&quot;: {&quot;coordinates&quot;: [14.550283333333333, 35.828175], &quot;type&quot;: &quot;Point&quot;}, &quot;id&quot;: &quot;886&quot;, &quot;properties&quot;: {&quot;__folium_color&quot;: &quot;#8c564b&quot;, &quot;index&quot;: 4503, &quot;week&quot;: &quot;2022-06-13&quot;}, &quot;type&quot;: &quot;Feature&quot;}, {&quot;bbox&quot;: [14.550251666666666, 35.82814166666667, 14.550251666666666, 35.82814166666667], &quot;geometry&quot;: {&quot;coordinates&quot;: [14.550251666666666, 35.82814166666667], &quot;type&quot;: &quot;Point&quot;}, &quot;id&quot;: &quot;887&quot;, &quot;properties&quot;: {&quot;__folium_color&quot;: &quot;#8c564b&quot;, &quot;index&quot;: 4504, &quot;week&quot;: &quot;2022-06-13&quot;}, &quot;type&quot;: &quot;Feature&quot;}, {&quot;bbox&quot;: [14.550276666666669, 35.828145, 14.550276666666669, 35.828145], &quot;geometry&quot;: {&quot;coordinates&quot;: [14.550276666666669, 35.828145], &quot;type&quot;: &quot;Point&quot;}, &quot;id&quot;: &quot;888&quot;, &quot;properties&quot;: {&quot;__folium_color&quot;: &quot;#8c564b&quot;, &quot;index&quot;: 4505, &quot;week&quot;: &quot;2022-06-13&quot;}, &quot;type&quot;: &quot;Feature&quot;}, {&quot;bbox&quot;: [14.55022, 35.828091666666666, 14.55022, 35.828091666666666], &quot;geometry&quot;: {&quot;coordinates&quot;: [14.55022, 35.828091666666666], &quot;type&quot;: &quot;Point&quot;}, &quot;id&quot;: &quot;889&quot;, &quot;properties&quot;: {&quot;__folium_color&quot;: &quot;#8c564b&quot;, &quot;index&quot;: 4506, &quot;week&quot;: &quot;2022-06-13&quot;}, &quot;type&quot;: &quot;Feature&quot;}, {&quot;bbox&quot;: [14.550198333333332, 35.82805666666667, 14.550198333333332, 35.82805666666667], &quot;geometry&quot;: {&quot;coordinates&quot;: [14.550198333333332, 35.82805666666667], &quot;type&quot;: &quot;Point&quot;}, &quot;id&quot;: &quot;890&quot;, &quot;properties&quot;: {&quot;__folium_color&quot;: &quot;#8c564b&quot;, &quot;index&quot;: 4507, &quot;week&quot;: &quot;2022-06-13&quot;}, &quot;type&quot;: &quot;Feature&quot;}, {&quot;bbox&quot;: [14.550276666666669, 35.82741333333333, 14.550276666666669, 35.82741333333333], &quot;geometry&quot;: {&quot;coordinates&quot;: [14.550276666666669, 35.82741333333333], &quot;type&quot;: &quot;Point&quot;}, &quot;id&quot;: &quot;891&quot;, &quot;properties&quot;: {&quot;__folium_color&quot;: &quot;#8c564b&quot;, &quot;index&quot;: 4508, &quot;week&quot;: &quot;2022-06-13&quot;}, &quot;type&quot;: &quot;Feature&quot;}, {&quot;bbox&quot;: [14.550536666666666, 35.82605, 14.550536666666666, 35.82605], &quot;geometry&quot;: {&quot;coordinates&quot;: [14.550536666666666, 35.82605], &quot;type&quot;: &quot;Point&quot;}, &quot;id&quot;: &quot;892&quot;, &quot;properties&quot;: {&quot;__folium_color&quot;: &quot;#8c564b&quot;, &quot;index&quot;: 4509, &quot;week&quot;: &quot;2022-06-13&quot;}, &quot;type&quot;: &quot;Feature&quot;}, {&quot;bbox&quot;: [14.559331666666669, 35.81050333333334, 14.559331666666669, 35.81050333333334], &quot;geometry&quot;: {&quot;coordinates&quot;: [14.559331666666669, 35.81050333333334], &quot;type&quot;: &quot;Point&quot;}, &quot;id&quot;: &quot;893&quot;, &quot;properties&quot;: {&quot;__folium_color&quot;: &quot;#8c564b&quot;, &quot;index&quot;: 4510, &quot;week&quot;: &quot;2022-06-13&quot;}, &quot;type&quot;: &quot;Feature&quot;}, {&quot;bbox&quot;: [14.57364, 35.800505, 14.57364, 35.800505], &quot;geometry&quot;: {&quot;coordinates&quot;: [14.57364, 35.800505], &quot;type&quot;: &quot;Point&quot;}, &quot;id&quot;: &quot;894&quot;, &quot;properties&quot;: {&quot;__folium_color&quot;: &quot;#8c564b&quot;, &quot;index&quot;: 4511, &quot;week&quot;: &quot;2022-06-13&quot;}, &quot;type&quot;: &quot;Feature&quot;}, {&quot;bbox&quot;: [14.592676666666666, 35.79913333333333, 14.592676666666666, 35.79913333333333], &quot;geometry&quot;: {&quot;coordinates&quot;: [14.592676666666666, 35.79913333333333], &quot;type&quot;: &quot;Point&quot;}, &quot;id&quot;: &quot;895&quot;, &quot;properties&quot;: {&quot;__folium_color&quot;: &quot;#8c564b&quot;, &quot;index&quot;: 4512, &quot;week&quot;: &quot;2022-06-13&quot;}, &quot;type&quot;: &quot;Feature&quot;}, {&quot;bbox&quot;: [14.612608333333334, 35.79962333333334, 14.612608333333334, 35.79962333333334], &quot;geometry&quot;: {&quot;coordinates&quot;: [14.612608333333334, 35.79962333333334], &quot;type&quot;: &quot;Point&quot;}, &quot;id&quot;: &quot;896&quot;, &quot;properties&quot;: {&quot;__folium_color&quot;: &quot;#8c564b&quot;, &quot;index&quot;: 4513, &quot;week&quot;: &quot;2022-06-13&quot;}, &quot;type&quot;: &quot;Feature&quot;}, {&quot;bbox&quot;: [14.677471666666667, 35.80480333333333, 14.677471666666667, 35.80480333333333], &quot;geometry&quot;: {&quot;coordinates&quot;: [14.677471666666667, 35.80480333333333], &quot;type&quot;: &quot;Point&quot;}, &quot;id&quot;: &quot;897&quot;, &quot;properties&quot;: {&quot;__folium_color&quot;: &quot;#8c564b&quot;, &quot;index&quot;: 4514, &quot;week&quot;: &quot;2022-06-13&quot;}, &quot;type&quot;: &quot;Feature&quot;}, {&quot;bbox&quot;: [14.69443, 35.80874333333333, 14.69443, 35.80874333333333], &quot;geometry&quot;: {&quot;coordinates&quot;: [14.69443, 35.80874333333333], &quot;type&quot;: &quot;Point&quot;}, &quot;id&quot;: &quot;898&quot;, &quot;properties&quot;: {&quot;__folium_color&quot;: &quot;#8c564b&quot;, &quot;index&quot;: 4515, &quot;week&quot;: &quot;2022-06-13&quot;}, &quot;type&quot;: &quot;Feature&quot;}, {&quot;bbox&quot;: [14.715286666666668, 35.81829166666667, 14.715286666666668, 35.81829166666667], &quot;geometry&quot;: {&quot;coordinates&quot;: [14.715286666666668, 35.81829166666667], &quot;type&quot;: &quot;Point&quot;}, &quot;id&quot;: &quot;899&quot;, &quot;properties&quot;: {&quot;__folium_color&quot;: &quot;#8c564b&quot;, &quot;index&quot;: 4516, &quot;week&quot;: &quot;2022-06-13&quot;}, &quot;type&quot;: &quot;Feature&quot;}, {&quot;bbox&quot;: [14.728763333333331, 35.83046, 14.728763333333331, 35.83046], &quot;geometry&quot;: {&quot;coordinates&quot;: [14.728763333333331, 35.83046], &quot;type&quot;: &quot;Point&quot;}, &quot;id&quot;: &quot;900&quot;, &quot;properties&quot;: {&quot;__folium_color&quot;: &quot;#8c564b&quot;, &quot;index&quot;: 4517, &quot;week&quot;: &quot;2022-06-13&quot;}, &quot;type&quot;: &quot;Feature&quot;}, {&quot;bbox&quot;: [14.738711666666669, 35.845045, 14.738711666666669, 35.845045], &quot;geometry&quot;: {&quot;coordinates&quot;: [14.738711666666669, 35.845045], &quot;type&quot;: &quot;Point&quot;}, &quot;id&quot;: &quot;901&quot;, &quot;properties&quot;: {&quot;__folium_color&quot;: &quot;#8c564b&quot;, &quot;index&quot;: 4518, &quot;week&quot;: &quot;2022-06-13&quot;}, &quot;type&quot;: &quot;Feature&quot;}, {&quot;bbox&quot;: [14.752085, 35.869225, 14.752085, 35.869225], &quot;geometry&quot;: {&quot;coordinates&quot;: [14.752085, 35.869225], &quot;type&quot;: &quot;Point&quot;}, &quot;id&quot;: &quot;902&quot;, &quot;properties&quot;: {&quot;__folium_color&quot;: &quot;#8c564b&quot;, &quot;index&quot;: 4519, &quot;week&quot;: &quot;2022-06-13&quot;}, &quot;type&quot;: &quot;Feature&quot;}, {&quot;bbox&quot;: [14.762825, 35.88269666666667, 14.762825, 35.88269666666667], &quot;geometry&quot;: {&quot;coordinates&quot;: [14.762825, 35.88269666666667], &quot;type&quot;: &quot;Point&quot;}, &quot;id&quot;: &quot;903&quot;, &quot;properties&quot;: {&quot;__folium_color&quot;: &quot;#8c564b&quot;, &quot;index&quot;: 4520, &quot;week&quot;: &quot;2022-06-13&quot;}, &quot;type&quot;: &quot;Feature&quot;}, {&quot;bbox&quot;: [14.763316666666666, 35.88236166666667, 14.763316666666666, 35.88236166666667], &quot;geometry&quot;: {&quot;coordinates&quot;: [14.763316666666666, 35.88236166666667], &quot;type&quot;: &quot;Point&quot;}, &quot;id&quot;: &quot;904&quot;, &quot;properties&quot;: {&quot;__folium_color&quot;: &quot;#8c564b&quot;, &quot;index&quot;: 4521, &quot;week&quot;: &quot;2022-06-13&quot;}, &quot;type&quot;: &quot;Feature&quot;}, {&quot;bbox&quot;: [14.763051666666666, 35.882416666666664, 14.763051666666666, 35.882416666666664], &quot;geometry&quot;: {&quot;coordinates&quot;: [14.763051666666666, 35.882416666666664], &quot;type&quot;: &quot;Point&quot;}, &quot;id&quot;: &quot;905&quot;, &quot;properties&quot;: {&quot;__folium_color&quot;: &quot;#8c564b&quot;, &quot;index&quot;: 4522, &quot;week&quot;: &quot;2022-06-13&quot;}, &quot;type&quot;: &quot;Feature&quot;}, {&quot;bbox&quot;: [14.762253333333334, 35.883026666666666, 14.762253333333334, 35.883026666666666], &quot;geometry&quot;: {&quot;coordinates&quot;: [14.762253333333334, 35.883026666666666], &quot;type&quot;: &quot;Point&quot;}, &quot;id&quot;: &quot;906&quot;, &quot;properties&quot;: {&quot;__folium_color&quot;: &quot;#8c564b&quot;, &quot;index&quot;: 4523, &quot;week&quot;: &quot;2022-06-13&quot;}, &quot;type&quot;: &quot;Feature&quot;}, {&quot;bbox&quot;: [14.761668333333333, 35.88409333333333, 14.761668333333333, 35.88409333333333], &quot;geometry&quot;: {&quot;coordinates&quot;: [14.761668333333333, 35.88409333333333], &quot;type&quot;: &quot;Point&quot;}, &quot;id&quot;: &quot;907&quot;, &quot;properties&quot;: {&quot;__folium_color&quot;: &quot;#8c564b&quot;, &quot;index&quot;: 4524, &quot;week&quot;: &quot;2022-06-13&quot;}, &quot;type&quot;: &quot;Feature&quot;}, {&quot;bbox&quot;: [14.76184, 35.884585, 14.76184, 35.884585], &quot;geometry&quot;: {&quot;coordinates&quot;: [14.76184, 35.884585], &quot;type&quot;: &quot;Point&quot;}, &quot;id&quot;: &quot;908&quot;, &quot;properties&quot;: {&quot;__folium_color&quot;: &quot;#8c564b&quot;, &quot;index&quot;: 4525, &quot;week&quot;: &quot;2022-06-13&quot;}, &quot;type&quot;: &quot;Feature&quot;}, {&quot;bbox&quot;: [14.761888333333332, 35.884815, 14.761888333333332, 35.884815], &quot;geometry&quot;: {&quot;coordinates&quot;: [14.761888333333332, 35.884815], &quot;type&quot;: &quot;Point&quot;}, &quot;id&quot;: &quot;909&quot;, &quot;properties&quot;: {&quot;__folium_color&quot;: &quot;#8c564b&quot;, &quot;index&quot;: 4526, &quot;week&quot;: &quot;2022-06-13&quot;}, &quot;type&quot;: &quot;Feature&quot;}, {&quot;bbox&quot;: [14.762106666666666, 35.88500333333333, 14.762106666666666, 35.88500333333333], &quot;geometry&quot;: {&quot;coordinates&quot;: [14.762106666666666, 35.88500333333333], &quot;type&quot;: &quot;Point&quot;}, &quot;id&quot;: &quot;910&quot;, &quot;properties&quot;: {&quot;__folium_color&quot;: &quot;#8c564b&quot;, &quot;index&quot;: 4527, &quot;week&quot;: &quot;2022-06-13&quot;}, &quot;type&quot;: &quot;Feature&quot;}, {&quot;bbox&quot;: [14.762145, 35.88505166666667, 14.762145, 35.88505166666667], &quot;geometry&quot;: {&quot;coordinates&quot;: [14.762145, 35.88505166666667], &quot;type&quot;: &quot;Point&quot;}, &quot;id&quot;: &quot;911&quot;, &quot;properties&quot;: {&quot;__folium_color&quot;: &quot;#8c564b&quot;, &quot;index&quot;: 4528, &quot;week&quot;: &quot;2022-06-13&quot;}, &quot;type&quot;: &quot;Feature&quot;}, {&quot;bbox&quot;: [14.761795, 35.88459, 14.761795, 35.88459], &quot;geometry&quot;: {&quot;coordinates&quot;: [14.761795, 35.88459], &quot;type&quot;: &quot;Point&quot;}, &quot;id&quot;: &quot;912&quot;, &quot;properties&quot;: {&quot;__folium_color&quot;: &quot;#8c564b&quot;, &quot;index&quot;: 4529, &quot;week&quot;: &quot;2022-06-13&quot;}, &quot;type&quot;: &quot;Feature&quot;}, {&quot;bbox&quot;: [14.762435, 35.88412833333334, 14.762435, 35.88412833333334], &quot;geometry&quot;: {&quot;coordinates&quot;: [14.762435, 35.88412833333334], &quot;type&quot;: &quot;Point&quot;}, &quot;id&quot;: &quot;913&quot;, &quot;properties&quot;: {&quot;__folium_color&quot;: &quot;#8c564b&quot;, &quot;index&quot;: 4530, &quot;week&quot;: &quot;2022-06-13&quot;}, &quot;type&quot;: &quot;Feature&quot;}, {&quot;bbox&quot;: [14.763081666666666, 35.88455833333333, 14.763081666666666, 35.88455833333333], &quot;geometry&quot;: {&quot;coordinates&quot;: [14.763081666666666, 35.88455833333333], &quot;type&quot;: &quot;Point&quot;}, &quot;id&quot;: &quot;914&quot;, &quot;properties&quot;: {&quot;__folium_color&quot;: &quot;#8c564b&quot;, &quot;index&quot;: 4531, &quot;week&quot;: &quot;2022-06-13&quot;}, &quot;type&quot;: &quot;Feature&quot;}, {&quot;bbox&quot;: [14.763586666666669, 35.88527333333333, 14.763586666666669, 35.88527333333333], &quot;geometry&quot;: {&quot;coordinates&quot;: [14.763586666666669, 35.88527333333333], &quot;type&quot;: &quot;Point&quot;}, &quot;id&quot;: &quot;915&quot;, &quot;properties&quot;: {&quot;__folium_color&quot;: &quot;#8c564b&quot;, &quot;index&quot;: 4532, &quot;week&quot;: &quot;2022-06-13&quot;}, &quot;type&quot;: &quot;Feature&quot;}, {&quot;bbox&quot;: [14.76406, 35.885405, 14.76406, 35.885405], &quot;geometry&quot;: {&quot;coordinates&quot;: [14.76406, 35.885405], &quot;type&quot;: &quot;Point&quot;}, &quot;id&quot;: &quot;916&quot;, &quot;properties&quot;: {&quot;__folium_color&quot;: &quot;#8c564b&quot;, &quot;index&quot;: 4533, &quot;week&quot;: &quot;2022-06-13&quot;}, &quot;type&quot;: &quot;Feature&quot;}, {&quot;bbox&quot;: [14.77016, 35.884315, 14.77016, 35.884315], &quot;geometry&quot;: {&quot;coordinates&quot;: [14.77016, 35.884315], &quot;type&quot;: &quot;Point&quot;}, &quot;id&quot;: &quot;917&quot;, &quot;properties&quot;: {&quot;__folium_color&quot;: &quot;#8c564b&quot;, &quot;index&quot;: 4534, &quot;week&quot;: &quot;2022-06-13&quot;}, &quot;type&quot;: &quot;Feature&quot;}, {&quot;bbox&quot;: [14.782193333333334, 35.881611666666664, 14.782193333333334, 35.881611666666664], &quot;geometry&quot;: {&quot;coordinates&quot;: [14.782193333333334, 35.881611666666664], &quot;type&quot;: &quot;Point&quot;}, &quot;id&quot;: &quot;918&quot;, &quot;properties&quot;: {&quot;__folium_color&quot;: &quot;#8c564b&quot;, &quot;index&quot;: 4535, &quot;week&quot;: &quot;2022-06-13&quot;}, &quot;type&quot;: &quot;Feature&quot;}, {&quot;bbox&quot;: [14.866891666666668, 35.863776666666666, 14.866891666666668, 35.863776666666666], &quot;geometry&quot;: {&quot;coordinates&quot;: [14.866891666666668, 35.863776666666666], &quot;type&quot;: &quot;Point&quot;}, &quot;id&quot;: &quot;919&quot;, &quot;properties&quot;: {&quot;__folium_color&quot;: &quot;#8c564b&quot;, &quot;index&quot;: 4536, &quot;week&quot;: &quot;2022-06-13&quot;}, &quot;type&quot;: &quot;Feature&quot;}, {&quot;bbox&quot;: [14.868115, 35.86653833333333, 14.868115, 35.86653833333333], &quot;geometry&quot;: {&quot;coordinates&quot;: [14.868115, 35.86653833333333], &quot;type&quot;: &quot;Point&quot;}, &quot;id&quot;: &quot;920&quot;, &quot;properties&quot;: {&quot;__folium_color&quot;: &quot;#8c564b&quot;, &quot;index&quot;: 4537, &quot;week&quot;: &quot;2022-06-13&quot;}, &quot;type&quot;: &quot;Feature&quot;}, {&quot;bbox&quot;: [14.867913333333334, 35.866385, 14.867913333333334, 35.866385], &quot;geometry&quot;: {&quot;coordinates&quot;: [14.867913333333334, 35.866385], &quot;type&quot;: &quot;Point&quot;}, &quot;id&quot;: &quot;921&quot;, &quot;properties&quot;: {&quot;__folium_color&quot;: &quot;#8c564b&quot;, &quot;index&quot;: 4538, &quot;week&quot;: &quot;2022-06-13&quot;}, &quot;type&quot;: &quot;Feature&quot;}, {&quot;bbox&quot;: [14.86816, 35.866715, 14.86816, 35.866715], &quot;geometry&quot;: {&quot;coordinates&quot;: [14.86816, 35.866715], &quot;type&quot;: &quot;Point&quot;}, &quot;id&quot;: &quot;922&quot;, &quot;properties&quot;: {&quot;__folium_color&quot;: &quot;#8c564b&quot;, &quot;index&quot;: 4539, &quot;week&quot;: &quot;2022-06-13&quot;}, &quot;type&quot;: &quot;Feature&quot;}, {&quot;bbox&quot;: [14.868788333333333, 35.86673, 14.868788333333333, 35.86673], &quot;geometry&quot;: {&quot;coordinates&quot;: [14.868788333333333, 35.86673], &quot;type&quot;: &quot;Point&quot;}, &quot;id&quot;: &quot;923&quot;, &quot;properties&quot;: {&quot;__folium_color&quot;: &quot;#8c564b&quot;, &quot;index&quot;: 4540, &quot;week&quot;: &quot;2022-06-13&quot;}, &quot;type&quot;: &quot;Feature&quot;}, {&quot;bbox&quot;: [14.869413333333334, 35.86687833333333, 14.869413333333334, 35.86687833333333], &quot;geometry&quot;: {&quot;coordinates&quot;: [14.869413333333334, 35.86687833333333], &quot;type&quot;: &quot;Point&quot;}, &quot;id&quot;: &quot;924&quot;, &quot;properties&quot;: {&quot;__folium_color&quot;: &quot;#8c564b&quot;, &quot;index&quot;: 4541, &quot;week&quot;: &quot;2022-06-13&quot;}, &quot;type&quot;: &quot;Feature&quot;}, {&quot;bbox&quot;: [14.869488333333331, 35.866888333333335, 14.869488333333331, 35.866888333333335], &quot;geometry&quot;: {&quot;coordinates&quot;: [14.869488333333331, 35.866888333333335], &quot;type&quot;: &quot;Point&quot;}, &quot;id&quot;: &quot;925&quot;, &quot;properties&quot;: {&quot;__folium_color&quot;: &quot;#8c564b&quot;, &quot;index&quot;: 4542, &quot;week&quot;: &quot;2022-06-13&quot;}, &quot;type&quot;: &quot;Feature&quot;}, {&quot;bbox&quot;: [14.869568333333332, 35.86677666666667, 14.869568333333332, 35.86677666666667], &quot;geometry&quot;: {&quot;coordinates&quot;: [14.869568333333332, 35.86677666666667], &quot;type&quot;: &quot;Point&quot;}, &quot;id&quot;: &quot;926&quot;, &quot;properties&quot;: {&quot;__folium_color&quot;: &quot;#8c564b&quot;, &quot;index&quot;: 4543, &quot;week&quot;: &quot;2022-06-13&quot;}, &quot;type&quot;: &quot;Feature&quot;}, {&quot;bbox&quot;: [14.86964, 35.866775, 14.86964, 35.866775], &quot;geometry&quot;: {&quot;coordinates&quot;: [14.86964, 35.866775], &quot;type&quot;: &quot;Point&quot;}, &quot;id&quot;: &quot;927&quot;, &quot;properties&quot;: {&quot;__folium_color&quot;: &quot;#8c564b&quot;, &quot;index&quot;: 4544, &quot;week&quot;: &quot;2022-06-13&quot;}, &quot;type&quot;: &quot;Feature&quot;}, {&quot;bbox&quot;: [14.869801666666667, 35.86673833333333, 14.869801666666667, 35.86673833333333], &quot;geometry&quot;: {&quot;coordinates&quot;: [14.869801666666667, 35.86673833333333], &quot;type&quot;: &quot;Point&quot;}, &quot;id&quot;: &quot;928&quot;, &quot;properties&quot;: {&quot;__folium_color&quot;: &quot;#8c564b&quot;, &quot;index&quot;: 4545, &quot;week&quot;: &quot;2022-06-13&quot;}, &quot;type&quot;: &quot;Feature&quot;}, {&quot;bbox&quot;: [14.868335, 35.86598333333333, 14.868335, 35.86598333333333], &quot;geometry&quot;: {&quot;coordinates&quot;: [14.868335, 35.86598333333333], &quot;type&quot;: &quot;Point&quot;}, &quot;id&quot;: &quot;929&quot;, &quot;properties&quot;: {&quot;__folium_color&quot;: &quot;#8c564b&quot;, &quot;index&quot;: 4546, &quot;week&quot;: &quot;2022-06-13&quot;}, &quot;type&quot;: &quot;Feature&quot;}, {&quot;bbox&quot;: [14.868256666666667, 35.8663, 14.868256666666667, 35.8663], &quot;geometry&quot;: {&quot;coordinates&quot;: [14.868256666666667, 35.8663], &quot;type&quot;: &quot;Point&quot;}, &quot;id&quot;: &quot;930&quot;, &quot;properties&quot;: {&quot;__folium_color&quot;: &quot;#8c564b&quot;, &quot;index&quot;: 4547, &quot;week&quot;: &quot;2022-06-13&quot;}, &quot;type&quot;: &quot;Feature&quot;}, {&quot;bbox&quot;: [14.869786666666666, 35.86664833333333, 14.869786666666666, 35.86664833333333], &quot;geometry&quot;: {&quot;coordinates&quot;: [14.869786666666666, 35.86664833333333], &quot;type&quot;: &quot;Point&quot;}, &quot;id&quot;: &quot;931&quot;, &quot;properties&quot;: {&quot;__folium_color&quot;: &quot;#8c564b&quot;, &quot;index&quot;: 4548, &quot;week&quot;: &quot;2022-06-13&quot;}, &quot;type&quot;: &quot;Feature&quot;}, {&quot;bbox&quot;: [14.87089, 35.86363, 14.87089, 35.86363], &quot;geometry&quot;: {&quot;coordinates&quot;: [14.87089, 35.86363], &quot;type&quot;: &quot;Point&quot;}, &quot;id&quot;: &quot;932&quot;, &quot;properties&quot;: {&quot;__folium_color&quot;: &quot;#8c564b&quot;, &quot;index&quot;: 4549, &quot;week&quot;: &quot;2022-06-13&quot;}, &quot;type&quot;: &quot;Feature&quot;}, {&quot;bbox&quot;: [14.869475, 35.863265, 14.869475, 35.863265], &quot;geometry&quot;: {&quot;coordinates&quot;: [14.869475, 35.863265], &quot;type&quot;: &quot;Point&quot;}, &quot;id&quot;: &quot;933&quot;, &quot;properties&quot;: {&quot;__folium_color&quot;: &quot;#8c564b&quot;, &quot;index&quot;: 4550, &quot;week&quot;: &quot;2022-06-13&quot;}, &quot;type&quot;: &quot;Feature&quot;}, {&quot;bbox&quot;: [14.86871, 35.86318166666667, 14.86871, 35.86318166666667], &quot;geometry&quot;: {&quot;coordinates&quot;: [14.86871, 35.86318166666667], &quot;type&quot;: &quot;Point&quot;}, &quot;id&quot;: &quot;934&quot;, &quot;properties&quot;: {&quot;__folium_color&quot;: &quot;#8c564b&quot;, &quot;index&quot;: 4551, &quot;week&quot;: &quot;2022-06-13&quot;}, &quot;type&quot;: &quot;Feature&quot;}, {&quot;bbox&quot;: [14.867678333333334, 35.86387166666667, 14.867678333333334, 35.86387166666667], &quot;geometry&quot;: {&quot;coordinates&quot;: [14.867678333333334, 35.86387166666667], &quot;type&quot;: &quot;Point&quot;}, &quot;id&quot;: &quot;935&quot;, &quot;properties&quot;: {&quot;__folium_color&quot;: &quot;#8c564b&quot;, &quot;index&quot;: 4552, &quot;week&quot;: &quot;2022-06-13&quot;}, &quot;type&quot;: &quot;Feature&quot;}, {&quot;bbox&quot;: [14.867336666666668, 35.864376666666665, 14.867336666666668, 35.864376666666665], &quot;geometry&quot;: {&quot;coordinates&quot;: [14.867336666666668, 35.864376666666665], &quot;type&quot;: &quot;Point&quot;}, &quot;id&quot;: &quot;936&quot;, &quot;properties&quot;: {&quot;__folium_color&quot;: &quot;#8c564b&quot;, &quot;index&quot;: 4553, &quot;week&quot;: &quot;2022-06-13&quot;}, &quot;type&quot;: &quot;Feature&quot;}, {&quot;bbox&quot;: [14.86715, 35.86465, 14.86715, 35.86465], &quot;geometry&quot;: {&quot;coordinates&quot;: [14.86715, 35.86465], &quot;type&quot;: &quot;Point&quot;}, &quot;id&quot;: &quot;937&quot;, &quot;properties&quot;: {&quot;__folium_color&quot;: &quot;#8c564b&quot;, &quot;index&quot;: 4554, &quot;week&quot;: &quot;2022-06-13&quot;}, &quot;type&quot;: &quot;Feature&quot;}, {&quot;bbox&quot;: [14.867031666666668, 35.86483333333333, 14.867031666666668, 35.86483333333333], &quot;geometry&quot;: {&quot;coordinates&quot;: [14.867031666666668, 35.86483333333333], &quot;type&quot;: &quot;Point&quot;}, &quot;id&quot;: &quot;938&quot;, &quot;properties&quot;: {&quot;__folium_color&quot;: &quot;#8c564b&quot;, &quot;index&quot;: 4555, &quot;week&quot;: &quot;2022-06-13&quot;}, &quot;type&quot;: &quot;Feature&quot;}, {&quot;bbox&quot;: [14.86714, 35.86472, 14.86714, 35.86472], &quot;geometry&quot;: {&quot;coordinates&quot;: [14.86714, 35.86472], &quot;type&quot;: &quot;Point&quot;}, &quot;id&quot;: &quot;939&quot;, &quot;properties&quot;: {&quot;__folium_color&quot;: &quot;#8c564b&quot;, &quot;index&quot;: 4556, &quot;week&quot;: &quot;2022-06-13&quot;}, &quot;type&quot;: &quot;Feature&quot;}, {&quot;bbox&quot;: [14.867085, 35.864576666666665, 14.867085, 35.864576666666665], &quot;geometry&quot;: {&quot;coordinates&quot;: [14.867085, 35.864576666666665], &quot;type&quot;: &quot;Point&quot;}, &quot;id&quot;: &quot;940&quot;, &quot;properties&quot;: {&quot;__folium_color&quot;: &quot;#8c564b&quot;, &quot;index&quot;: 4557, &quot;week&quot;: &quot;2022-06-13&quot;}, &quot;type&quot;: &quot;Feature&quot;}, {&quot;bbox&quot;: [14.867106666666666, 35.86469833333334, 14.867106666666666, 35.86469833333334], &quot;geometry&quot;: {&quot;coordinates&quot;: [14.867106666666666, 35.86469833333334], &quot;type&quot;: &quot;Point&quot;}, &quot;id&quot;: &quot;941&quot;, &quot;properties&quot;: {&quot;__folium_color&quot;: &quot;#8c564b&quot;, &quot;index&quot;: 4558, &quot;week&quot;: &quot;2022-06-13&quot;}, &quot;type&quot;: &quot;Feature&quot;}, {&quot;bbox&quot;: [14.867278333333331, 35.865048333333334, 14.867278333333331, 35.865048333333334], &quot;geometry&quot;: {&quot;coordinates&quot;: [14.867278333333331, 35.865048333333334], &quot;type&quot;: &quot;Point&quot;}, &quot;id&quot;: &quot;942&quot;, &quot;properties&quot;: {&quot;__folium_color&quot;: &quot;#8c564b&quot;, &quot;index&quot;: 4559, &quot;week&quot;: &quot;2022-06-13&quot;}, &quot;type&quot;: &quot;Feature&quot;}, {&quot;bbox&quot;: [14.86725, 35.865046666666665, 14.86725, 35.865046666666665], &quot;geometry&quot;: {&quot;coordinates&quot;: [14.86725, 35.865046666666665], &quot;type&quot;: &quot;Point&quot;}, &quot;id&quot;: &quot;943&quot;, &quot;properties&quot;: {&quot;__folium_color&quot;: &quot;#8c564b&quot;, &quot;index&quot;: 4560, &quot;week&quot;: &quot;2022-06-13&quot;}, &quot;type&quot;: &quot;Feature&quot;}, {&quot;bbox&quot;: [14.867155, 35.86503166666667, 14.867155, 35.86503166666667], &quot;geometry&quot;: {&quot;coordinates&quot;: [14.867155, 35.86503166666667], &quot;type&quot;: &quot;Point&quot;}, &quot;id&quot;: &quot;944&quot;, &quot;properties&quot;: {&quot;__folium_color&quot;: &quot;#8c564b&quot;, &quot;index&quot;: 4561, &quot;week&quot;: &quot;2022-06-13&quot;}, &quot;type&quot;: &quot;Feature&quot;}, {&quot;bbox&quot;: [14.867395, 35.865608333333334, 14.867395, 35.865608333333334], &quot;geometry&quot;: {&quot;coordinates&quot;: [14.867395, 35.865608333333334], &quot;type&quot;: &quot;Point&quot;}, &quot;id&quot;: &quot;945&quot;, &quot;properties&quot;: {&quot;__folium_color&quot;: &quot;#8c564b&quot;, &quot;index&quot;: 4562, &quot;week&quot;: &quot;2022-06-13&quot;}, &quot;type&quot;: &quot;Feature&quot;}, {&quot;bbox&quot;: [14.867346666666666, 35.86566166666667, 14.867346666666666, 35.86566166666667], &quot;geometry&quot;: {&quot;coordinates&quot;: [14.867346666666666, 35.86566166666667], &quot;type&quot;: &quot;Point&quot;}, &quot;id&quot;: &quot;946&quot;, &quot;properties&quot;: {&quot;__folium_color&quot;: &quot;#8c564b&quot;, &quot;index&quot;: 4563, &quot;week&quot;: &quot;2022-06-13&quot;}, &quot;type&quot;: &quot;Feature&quot;}, {&quot;bbox&quot;: [14.867355, 35.865725, 14.867355, 35.865725], &quot;geometry&quot;: {&quot;coordinates&quot;: [14.867355, 35.865725], &quot;type&quot;: &quot;Point&quot;}, &quot;id&quot;: &quot;947&quot;, &quot;properties&quot;: {&quot;__folium_color&quot;: &quot;#8c564b&quot;, &quot;index&quot;: 4564, &quot;week&quot;: &quot;2022-06-13&quot;}, &quot;type&quot;: &quot;Feature&quot;}, {&quot;bbox&quot;: [14.867741666666667, 35.86616, 14.867741666666667, 35.86616], &quot;geometry&quot;: {&quot;coordinates&quot;: [14.867741666666667, 35.86616], &quot;type&quot;: &quot;Point&quot;}, &quot;id&quot;: &quot;948&quot;, &quot;properties&quot;: {&quot;__folium_color&quot;: &quot;#8c564b&quot;, &quot;index&quot;: 4565, &quot;week&quot;: &quot;2022-06-13&quot;}, &quot;type&quot;: &quot;Feature&quot;}, {&quot;bbox&quot;: [14.8681, 35.866395, 14.8681, 35.866395], &quot;geometry&quot;: {&quot;coordinates&quot;: [14.8681, 35.866395], &quot;type&quot;: &quot;Point&quot;}, &quot;id&quot;: &quot;949&quot;, &quot;properties&quot;: {&quot;__folium_color&quot;: &quot;#8c564b&quot;, &quot;index&quot;: 4566, &quot;week&quot;: &quot;2022-06-13&quot;}, &quot;type&quot;: &quot;Feature&quot;}, {&quot;bbox&quot;: [14.868095, 35.866365, 14.868095, 35.866365], &quot;geometry&quot;: {&quot;coordinates&quot;: [14.868095, 35.866365], &quot;type&quot;: &quot;Point&quot;}, &quot;id&quot;: &quot;950&quot;, &quot;properties&quot;: {&quot;__folium_color&quot;: &quot;#8c564b&quot;, &quot;index&quot;: 4567, &quot;week&quot;: &quot;2022-06-13&quot;}, &quot;type&quot;: &quot;Feature&quot;}, {&quot;bbox&quot;: [14.868023333333332, 35.86630666666667, 14.868023333333332, 35.86630666666667], &quot;geometry&quot;: {&quot;coordinates&quot;: [14.868023333333332, 35.86630666666667], &quot;type&quot;: &quot;Point&quot;}, &quot;id&quot;: &quot;951&quot;, &quot;properties&quot;: {&quot;__folium_color&quot;: &quot;#8c564b&quot;, &quot;index&quot;: 4568, &quot;week&quot;: &quot;2022-06-13&quot;}, &quot;type&quot;: &quot;Feature&quot;}, {&quot;bbox&quot;: [14.868191666666666, 35.866375, 14.868191666666666, 35.866375], &quot;geometry&quot;: {&quot;coordinates&quot;: [14.868191666666666, 35.866375], &quot;type&quot;: &quot;Point&quot;}, &quot;id&quot;: &quot;952&quot;, &quot;properties&quot;: {&quot;__folium_color&quot;: &quot;#8c564b&quot;, &quot;index&quot;: 4569, &quot;week&quot;: &quot;2022-06-13&quot;}, &quot;type&quot;: &quot;Feature&quot;}, {&quot;bbox&quot;: [14.868506666666669, 35.86640166666667, 14.868506666666669, 35.86640166666667], &quot;geometry&quot;: {&quot;coordinates&quot;: [14.868506666666669, 35.86640166666667], &quot;type&quot;: &quot;Point&quot;}, &quot;id&quot;: &quot;953&quot;, &quot;properties&quot;: {&quot;__folium_color&quot;: &quot;#8c564b&quot;, &quot;index&quot;: 4570, &quot;week&quot;: &quot;2022-06-13&quot;}, &quot;type&quot;: &quot;Feature&quot;}, {&quot;bbox&quot;: [14.86885, 35.86617666666667, 14.86885, 35.86617666666667], &quot;geometry&quot;: {&quot;coordinates&quot;: [14.86885, 35.86617666666667], &quot;type&quot;: &quot;Point&quot;}, &quot;id&quot;: &quot;954&quot;, &quot;properties&quot;: {&quot;__folium_color&quot;: &quot;#8c564b&quot;, &quot;index&quot;: 4571, &quot;week&quot;: &quot;2022-06-13&quot;}, &quot;type&quot;: &quot;Feature&quot;}, {&quot;bbox&quot;: [14.869238333333334, 35.866011666666665, 14.869238333333334, 35.866011666666665], &quot;geometry&quot;: {&quot;coordinates&quot;: [14.869238333333334, 35.866011666666665], &quot;type&quot;: &quot;Point&quot;}, &quot;id&quot;: &quot;955&quot;, &quot;properties&quot;: {&quot;__folium_color&quot;: &quot;#8c564b&quot;, &quot;index&quot;: 4572, &quot;week&quot;: &quot;2022-06-13&quot;}, &quot;type&quot;: &quot;Feature&quot;}, {&quot;bbox&quot;: [14.869781666666666, 35.86566833333333, 14.869781666666666, 35.86566833333333], &quot;geometry&quot;: {&quot;coordinates&quot;: [14.869781666666666, 35.86566833333333], &quot;type&quot;: &quot;Point&quot;}, &quot;id&quot;: &quot;956&quot;, &quot;properties&quot;: {&quot;__folium_color&quot;: &quot;#8c564b&quot;, &quot;index&quot;: 4573, &quot;week&quot;: &quot;2022-06-13&quot;}, &quot;type&quot;: &quot;Feature&quot;}, {&quot;bbox&quot;: [14.872231666666666, 35.864395, 14.872231666666666, 35.864395], &quot;geometry&quot;: {&quot;coordinates&quot;: [14.872231666666666, 35.864395], &quot;type&quot;: &quot;Point&quot;}, &quot;id&quot;: &quot;957&quot;, &quot;properties&quot;: {&quot;__folium_color&quot;: &quot;#8c564b&quot;, &quot;index&quot;: 4574, &quot;week&quot;: &quot;2022-06-13&quot;}, &quot;type&quot;: &quot;Feature&quot;}, {&quot;bbox&quot;: [14.873328333333331, 35.86441666666666, 14.873328333333331, 35.86441666666666], &quot;geometry&quot;: {&quot;coordinates&quot;: [14.873328333333331, 35.86441666666666], &quot;type&quot;: &quot;Point&quot;}, &quot;id&quot;: &quot;958&quot;, &quot;properties&quot;: {&quot;__folium_color&quot;: &quot;#8c564b&quot;, &quot;index&quot;: 4575, &quot;week&quot;: &quot;2022-06-13&quot;}, &quot;type&quot;: &quot;Feature&quot;}, {&quot;bbox&quot;: [15.076343333333334, 35.87606, 15.076343333333334, 35.87606], &quot;geometry&quot;: {&quot;coordinates&quot;: [15.076343333333334, 35.87606], &quot;type&quot;: &quot;Point&quot;}, &quot;id&quot;: &quot;959&quot;, &quot;properties&quot;: {&quot;__folium_color&quot;: &quot;#8c564b&quot;, &quot;index&quot;: 4576, &quot;week&quot;: &quot;2022-06-13&quot;}, &quot;type&quot;: &quot;Feature&quot;}, {&quot;bbox&quot;: [15.005876666666667, 35.84457, 15.005876666666667, 35.84457], &quot;geometry&quot;: {&quot;coordinates&quot;: [15.005876666666667, 35.84457], &quot;type&quot;: &quot;Point&quot;}, &quot;id&quot;: &quot;960&quot;, &quot;properties&quot;: {&quot;__folium_color&quot;: &quot;#e377c2&quot;, &quot;index&quot;: 4794, &quot;week&quot;: &quot;2022-06-27&quot;}, &quot;type&quot;: &quot;Feature&quot;}, {&quot;bbox&quot;: [14.914588333333333, 35.860585, 14.914588333333333, 35.860585], &quot;geometry&quot;: {&quot;coordinates&quot;: [14.914588333333333, 35.860585], &quot;type&quot;: &quot;Point&quot;}, &quot;id&quot;: &quot;961&quot;, &quot;properties&quot;: {&quot;__folium_color&quot;: &quot;#e377c2&quot;, &quot;index&quot;: 4795, &quot;week&quot;: &quot;2022-06-27&quot;}, &quot;type&quot;: &quot;Feature&quot;}, {&quot;bbox&quot;: [14.90224, 35.863643333333336, 14.90224, 35.863643333333336], &quot;geometry&quot;: {&quot;coordinates&quot;: [14.90224, 35.863643333333336], &quot;type&quot;: &quot;Point&quot;}, &quot;id&quot;: &quot;962&quot;, &quot;properties&quot;: {&quot;__folium_color&quot;: &quot;#e377c2&quot;, &quot;index&quot;: 4796, &quot;week&quot;: &quot;2022-06-27&quot;}, &quot;type&quot;: &quot;Feature&quot;}, {&quot;bbox&quot;: [14.904096666666666, 35.86327333333333, 14.904096666666666, 35.86327333333333], &quot;geometry&quot;: {&quot;coordinates&quot;: [14.904096666666666, 35.86327333333333], &quot;type&quot;: &quot;Point&quot;}, &quot;id&quot;: &quot;963&quot;, &quot;properties&quot;: {&quot;__folium_color&quot;: &quot;#e377c2&quot;, &quot;index&quot;: 4797, &quot;week&quot;: &quot;2022-06-27&quot;}, &quot;type&quot;: &quot;Feature&quot;}, {&quot;bbox&quot;: [14.903016666666666, 35.86274, 14.903016666666666, 35.86274], &quot;geometry&quot;: {&quot;coordinates&quot;: [14.903016666666666, 35.86274], &quot;type&quot;: &quot;Point&quot;}, &quot;id&quot;: &quot;964&quot;, &quot;properties&quot;: {&quot;__folium_color&quot;: &quot;#e377c2&quot;, &quot;index&quot;: 4798, &quot;week&quot;: &quot;2022-06-27&quot;}, &quot;type&quot;: &quot;Feature&quot;}, {&quot;bbox&quot;: [14.902346666666666, 35.862541666666665, 14.902346666666666, 35.862541666666665], &quot;geometry&quot;: {&quot;coordinates&quot;: [14.902346666666666, 35.862541666666665], &quot;type&quot;: &quot;Point&quot;}, &quot;id&quot;: &quot;965&quot;, &quot;properties&quot;: {&quot;__folium_color&quot;: &quot;#e377c2&quot;, &quot;index&quot;: 4799, &quot;week&quot;: &quot;2022-06-27&quot;}, &quot;type&quot;: &quot;Feature&quot;}, {&quot;bbox&quot;: [14.90157, 35.86232833333333, 14.90157, 35.86232833333333], &quot;geometry&quot;: {&quot;coordinates&quot;: [14.90157, 35.86232833333333], &quot;type&quot;: &quot;Point&quot;}, &quot;id&quot;: &quot;966&quot;, &quot;properties&quot;: {&quot;__folium_color&quot;: &quot;#e377c2&quot;, &quot;index&quot;: 4800, &quot;week&quot;: &quot;2022-06-27&quot;}, &quot;type&quot;: &quot;Feature&quot;}, {&quot;bbox&quot;: [14.901576666666667, 35.862363333333334, 14.901576666666667, 35.862363333333334], &quot;geometry&quot;: {&quot;coordinates&quot;: [14.901576666666667, 35.862363333333334], &quot;type&quot;: &quot;Point&quot;}, &quot;id&quot;: &quot;967&quot;, &quot;properties&quot;: {&quot;__folium_color&quot;: &quot;#e377c2&quot;, &quot;index&quot;: 4801, &quot;week&quot;: &quot;2022-06-27&quot;}, &quot;type&quot;: &quot;Feature&quot;}, {&quot;bbox&quot;: [14.901593333333333, 35.86244833333333, 14.901593333333333, 35.86244833333333], &quot;geometry&quot;: {&quot;coordinates&quot;: [14.901593333333333, 35.86244833333333], &quot;type&quot;: &quot;Point&quot;}, &quot;id&quot;: &quot;968&quot;, &quot;properties&quot;: {&quot;__folium_color&quot;: &quot;#e377c2&quot;, &quot;index&quot;: 4802, &quot;week&quot;: &quot;2022-06-27&quot;}, &quot;type&quot;: &quot;Feature&quot;}, {&quot;bbox&quot;: [14.901535, 35.86246166666667, 14.901535, 35.86246166666667], &quot;geometry&quot;: {&quot;coordinates&quot;: [14.901535, 35.86246166666667], &quot;type&quot;: &quot;Point&quot;}, &quot;id&quot;: &quot;969&quot;, &quot;properties&quot;: {&quot;__folium_color&quot;: &quot;#e377c2&quot;, &quot;index&quot;: 4803, &quot;week&quot;: &quot;2022-06-27&quot;}, &quot;type&quot;: &quot;Feature&quot;}, {&quot;bbox&quot;: [14.901508333333334, 35.86243666666667, 14.901508333333334, 35.86243666666667], &quot;geometry&quot;: {&quot;coordinates&quot;: [14.901508333333334, 35.86243666666667], &quot;type&quot;: &quot;Point&quot;}, &quot;id&quot;: &quot;970&quot;, &quot;properties&quot;: {&quot;__folium_color&quot;: &quot;#e377c2&quot;, &quot;index&quot;: 4804, &quot;week&quot;: &quot;2022-06-27&quot;}, &quot;type&quot;: &quot;Feature&quot;}, {&quot;bbox&quot;: [14.900966666666667, 35.862746666666666, 14.900966666666667, 35.862746666666666], &quot;geometry&quot;: {&quot;coordinates&quot;: [14.900966666666667, 35.862746666666666], &quot;type&quot;: &quot;Point&quot;}, &quot;id&quot;: &quot;971&quot;, &quot;properties&quot;: {&quot;__folium_color&quot;: &quot;#e377c2&quot;, &quot;index&quot;: 4805, &quot;week&quot;: &quot;2022-06-27&quot;}, &quot;type&quot;: &quot;Feature&quot;}, {&quot;bbox&quot;: [14.900908333333334, 35.86271166666667, 14.900908333333334, 35.86271166666667], &quot;geometry&quot;: {&quot;coordinates&quot;: [14.900908333333334, 35.86271166666667], &quot;type&quot;: &quot;Point&quot;}, &quot;id&quot;: &quot;972&quot;, &quot;properties&quot;: {&quot;__folium_color&quot;: &quot;#e377c2&quot;, &quot;index&quot;: 4806, &quot;week&quot;: &quot;2022-06-27&quot;}, &quot;type&quot;: &quot;Feature&quot;}, {&quot;bbox&quot;: [14.901011666666667, 35.86270666666667, 14.901011666666667, 35.86270666666667], &quot;geometry&quot;: {&quot;coordinates&quot;: [14.901011666666667, 35.86270666666667], &quot;type&quot;: &quot;Point&quot;}, &quot;id&quot;: &quot;973&quot;, &quot;properties&quot;: {&quot;__folium_color&quot;: &quot;#e377c2&quot;, &quot;index&quot;: 4807, &quot;week&quot;: &quot;2022-06-27&quot;}, &quot;type&quot;: &quot;Feature&quot;}, {&quot;bbox&quot;: [14.901136666666666, 35.862833333333334, 14.901136666666666, 35.862833333333334], &quot;geometry&quot;: {&quot;coordinates&quot;: [14.901136666666666, 35.862833333333334], &quot;type&quot;: &quot;Point&quot;}, &quot;id&quot;: &quot;974&quot;, &quot;properties&quot;: {&quot;__folium_color&quot;: &quot;#e377c2&quot;, &quot;index&quot;: 4808, &quot;week&quot;: &quot;2022-06-27&quot;}, &quot;type&quot;: &quot;Feature&quot;}, {&quot;bbox&quot;: [14.901921666666668, 35.864916666666666, 14.901921666666668, 35.864916666666666], &quot;geometry&quot;: {&quot;coordinates&quot;: [14.901921666666668, 35.864916666666666], &quot;type&quot;: &quot;Point&quot;}, &quot;id&quot;: &quot;975&quot;, &quot;properties&quot;: {&quot;__folium_color&quot;: &quot;#e377c2&quot;, &quot;index&quot;: 4809, &quot;week&quot;: &quot;2022-06-27&quot;}, &quot;type&quot;: &quot;Feature&quot;}, {&quot;bbox&quot;: [14.901966666666668, 35.865136666666665, 14.901966666666668, 35.865136666666665], &quot;geometry&quot;: {&quot;coordinates&quot;: [14.901966666666668, 35.865136666666665], &quot;type&quot;: &quot;Point&quot;}, &quot;id&quot;: &quot;976&quot;, &quot;properties&quot;: {&quot;__folium_color&quot;: &quot;#e377c2&quot;, &quot;index&quot;: 4810, &quot;week&quot;: &quot;2022-06-27&quot;}, &quot;type&quot;: &quot;Feature&quot;}, {&quot;bbox&quot;: [14.891125, 35.86249166666666, 14.891125, 35.86249166666666], &quot;geometry&quot;: {&quot;coordinates&quot;: [14.891125, 35.86249166666666], &quot;type&quot;: &quot;Point&quot;}, &quot;id&quot;: &quot;977&quot;, &quot;properties&quot;: {&quot;__folium_color&quot;: &quot;#e377c2&quot;, &quot;index&quot;: 4811, &quot;week&quot;: &quot;2022-06-27&quot;}, &quot;type&quot;: &quot;Feature&quot;}, {&quot;bbox&quot;: [14.884558333333333, 35.859548333333336, 14.884558333333333, 35.859548333333336], &quot;geometry&quot;: {&quot;coordinates&quot;: [14.884558333333333, 35.859548333333336], &quot;type&quot;: &quot;Point&quot;}, &quot;id&quot;: &quot;978&quot;, &quot;properties&quot;: {&quot;__folium_color&quot;: &quot;#e377c2&quot;, &quot;index&quot;: 4812, &quot;week&quot;: &quot;2022-06-27&quot;}, &quot;type&quot;: &quot;Feature&quot;}, {&quot;bbox&quot;: [14.819053333333333, 35.83284166666667, 14.819053333333333, 35.83284166666667], &quot;geometry&quot;: {&quot;coordinates&quot;: [14.819053333333333, 35.83284166666667], &quot;type&quot;: &quot;Point&quot;}, &quot;id&quot;: &quot;979&quot;, &quot;properties&quot;: {&quot;__folium_color&quot;: &quot;#e377c2&quot;, &quot;index&quot;: 4813, &quot;week&quot;: &quot;2022-06-27&quot;}, &quot;type&quot;: &quot;Feature&quot;}, {&quot;bbox&quot;: [14.777726666666666, 35.82084166666667, 14.777726666666666, 35.82084166666667], &quot;geometry&quot;: {&quot;coordinates&quot;: [14.777726666666666, 35.82084166666667], &quot;type&quot;: &quot;Point&quot;}, &quot;id&quot;: &quot;980&quot;, &quot;properties&quot;: {&quot;__folium_color&quot;: &quot;#e377c2&quot;, &quot;index&quot;: 4814, &quot;week&quot;: &quot;2022-06-27&quot;}, &quot;type&quot;: &quot;Feature&quot;}, {&quot;bbox&quot;: [14.748726666666666, 35.81495833333334, 14.748726666666666, 35.81495833333334], &quot;geometry&quot;: {&quot;coordinates&quot;: [14.748726666666666, 35.81495833333334], &quot;type&quot;: &quot;Point&quot;}, &quot;id&quot;: &quot;981&quot;, &quot;properties&quot;: {&quot;__folium_color&quot;: &quot;#e377c2&quot;, &quot;index&quot;: 4815, &quot;week&quot;: &quot;2022-06-27&quot;}, &quot;type&quot;: &quot;Feature&quot;}, {&quot;bbox&quot;: [14.597551666666666, 35.800003333333336, 14.597551666666666, 35.800003333333336], &quot;geometry&quot;: {&quot;coordinates&quot;: [14.597551666666666, 35.800003333333336], &quot;type&quot;: &quot;Point&quot;}, &quot;id&quot;: &quot;982&quot;, &quot;properties&quot;: {&quot;__folium_color&quot;: &quot;#e377c2&quot;, &quot;index&quot;: 4816, &quot;week&quot;: &quot;2022-06-27&quot;}, &quot;type&quot;: &quot;Feature&quot;}, {&quot;bbox&quot;: [14.583876666666669, 35.79690166666666, 14.583876666666669, 35.79690166666666], &quot;geometry&quot;: {&quot;coordinates&quot;: [14.583876666666669, 35.79690166666666], &quot;type&quot;: &quot;Point&quot;}, &quot;id&quot;: &quot;983&quot;, &quot;properties&quot;: {&quot;__folium_color&quot;: &quot;#e377c2&quot;, &quot;index&quot;: 4817, &quot;week&quot;: &quot;2022-06-27&quot;}, &quot;type&quot;: &quot;Feature&quot;}, {&quot;bbox&quot;: [14.581773333333333, 35.796015, 14.581773333333333, 35.796015], &quot;geometry&quot;: {&quot;coordinates&quot;: [14.581773333333333, 35.796015], &quot;type&quot;: &quot;Point&quot;}, &quot;id&quot;: &quot;984&quot;, &quot;properties&quot;: {&quot;__folium_color&quot;: &quot;#e377c2&quot;, &quot;index&quot;: 4818, &quot;week&quot;: &quot;2022-06-27&quot;}, &quot;type&quot;: &quot;Feature&quot;}, {&quot;bbox&quot;: [14.577816666666669, 35.79808833333333, 14.577816666666669, 35.79808833333333], &quot;geometry&quot;: {&quot;coordinates&quot;: [14.577816666666669, 35.79808833333333], &quot;type&quot;: &quot;Point&quot;}, &quot;id&quot;: &quot;985&quot;, &quot;properties&quot;: {&quot;__folium_color&quot;: &quot;#e377c2&quot;, &quot;index&quot;: 4819, &quot;week&quot;: &quot;2022-06-27&quot;}, &quot;type&quot;: &quot;Feature&quot;}, {&quot;bbox&quot;: [14.553268333333332, 35.816431666666666, 14.553268333333332, 35.816431666666666], &quot;geometry&quot;: {&quot;coordinates&quot;: [14.553268333333332, 35.816431666666666], &quot;type&quot;: &quot;Point&quot;}, &quot;id&quot;: &quot;986&quot;, &quot;properties&quot;: {&quot;__folium_color&quot;: &quot;#e377c2&quot;, &quot;index&quot;: 4820, &quot;week&quot;: &quot;2022-06-27&quot;}, &quot;type&quot;: &quot;Feature&quot;}, {&quot;bbox&quot;: [14.54525, 35.815126666666664, 14.54525, 35.815126666666664], &quot;geometry&quot;: {&quot;coordinates&quot;: [14.54525, 35.815126666666664], &quot;type&quot;: &quot;Point&quot;}, &quot;id&quot;: &quot;987&quot;, &quot;properties&quot;: {&quot;__folium_color&quot;: &quot;#e377c2&quot;, &quot;index&quot;: 4821, &quot;week&quot;: &quot;2022-06-27&quot;}, &quot;type&quot;: &quot;Feature&quot;}, {&quot;bbox&quot;: [14.54524, 35.815126666666664, 14.54524, 35.815126666666664], &quot;geometry&quot;: {&quot;coordinates&quot;: [14.54524, 35.815126666666664], &quot;type&quot;: &quot;Point&quot;}, &quot;id&quot;: &quot;988&quot;, &quot;properties&quot;: {&quot;__folium_color&quot;: &quot;#e377c2&quot;, &quot;index&quot;: 4822, &quot;week&quot;: &quot;2022-06-27&quot;}, &quot;type&quot;: &quot;Feature&quot;}, {&quot;bbox&quot;: [14.545226666666666, 35.815108333333335, 14.545226666666666, 35.815108333333335], &quot;geometry&quot;: {&quot;coordinates&quot;: [14.545226666666666, 35.815108333333335], &quot;type&quot;: &quot;Point&quot;}, &quot;id&quot;: &quot;989&quot;, &quot;properties&quot;: {&quot;__folium_color&quot;: &quot;#e377c2&quot;, &quot;index&quot;: 4823, &quot;week&quot;: &quot;2022-06-27&quot;}, &quot;type&quot;: &quot;Feature&quot;}, {&quot;bbox&quot;: [14.545231666666666, 35.81512333333333, 14.545231666666666, 35.81512333333333], &quot;geometry&quot;: {&quot;coordinates&quot;: [14.545231666666666, 35.81512333333333], &quot;type&quot;: &quot;Point&quot;}, &quot;id&quot;: &quot;990&quot;, &quot;properties&quot;: {&quot;__folium_color&quot;: &quot;#e377c2&quot;, &quot;index&quot;: 4824, &quot;week&quot;: &quot;2022-06-27&quot;}, &quot;type&quot;: &quot;Feature&quot;}, {&quot;bbox&quot;: [14.545245, 35.815135, 14.545245, 35.815135], &quot;geometry&quot;: {&quot;coordinates&quot;: [14.545245, 35.815135], &quot;type&quot;: &quot;Point&quot;}, &quot;id&quot;: &quot;991&quot;, &quot;properties&quot;: {&quot;__folium_color&quot;: &quot;#e377c2&quot;, &quot;index&quot;: 4825, &quot;week&quot;: &quot;2022-06-27&quot;}, &quot;type&quot;: &quot;Feature&quot;}, {&quot;bbox&quot;: [14.545251666666667, 35.815126666666664, 14.545251666666667, 35.815126666666664], &quot;geometry&quot;: {&quot;coordinates&quot;: [14.545251666666667, 35.815126666666664], &quot;type&quot;: &quot;Point&quot;}, &quot;id&quot;: &quot;992&quot;, &quot;properties&quot;: {&quot;__folium_color&quot;: &quot;#e377c2&quot;, &quot;index&quot;: 4826, &quot;week&quot;: &quot;2022-06-27&quot;}, &quot;type&quot;: &quot;Feature&quot;}, {&quot;bbox&quot;: [14.545281666666666, 35.81514333333333, 14.545281666666666, 35.81514333333333], &quot;geometry&quot;: {&quot;coordinates&quot;: [14.545281666666666, 35.81514333333333], &quot;type&quot;: &quot;Point&quot;}, &quot;id&quot;: &quot;993&quot;, &quot;properties&quot;: {&quot;__folium_color&quot;: &quot;#e377c2&quot;, &quot;index&quot;: 4827, &quot;week&quot;: &quot;2022-06-27&quot;}, &quot;type&quot;: &quot;Feature&quot;}, {&quot;bbox&quot;: [14.54527, 35.81511, 14.54527, 35.81511], &quot;geometry&quot;: {&quot;coordinates&quot;: [14.54527, 35.81511], &quot;type&quot;: &quot;Point&quot;}, &quot;id&quot;: &quot;994&quot;, &quot;properties&quot;: {&quot;__folium_color&quot;: &quot;#e377c2&quot;, &quot;index&quot;: 4828, &quot;week&quot;: &quot;2022-06-27&quot;}, &quot;type&quot;: &quot;Feature&quot;}, {&quot;bbox&quot;: [14.545296666666667, 35.81514, 14.545296666666667, 35.81514], &quot;geometry&quot;: {&quot;coordinates&quot;: [14.545296666666667, 35.81514], &quot;type&quot;: &quot;Point&quot;}, &quot;id&quot;: &quot;995&quot;, &quot;properties&quot;: {&quot;__folium_color&quot;: &quot;#e377c2&quot;, &quot;index&quot;: 4829, &quot;week&quot;: &quot;2022-06-27&quot;}, &quot;type&quot;: &quot;Feature&quot;}, {&quot;bbox&quot;: [14.54526, 35.81510166666666, 14.54526, 35.81510166666666], &quot;geometry&quot;: {&quot;coordinates&quot;: [14.54526, 35.81510166666666], &quot;type&quot;: &quot;Point&quot;}, &quot;id&quot;: &quot;996&quot;, &quot;properties&quot;: {&quot;__folium_color&quot;: &quot;#e377c2&quot;, &quot;index&quot;: 4830, &quot;week&quot;: &quot;2022-06-27&quot;}, &quot;type&quot;: &quot;Feature&quot;}, {&quot;bbox&quot;: [14.545266666666668, 35.815125, 14.545266666666668, 35.815125], &quot;geometry&quot;: {&quot;coordinates&quot;: [14.545266666666668, 35.815125], &quot;type&quot;: &quot;Point&quot;}, &quot;id&quot;: &quot;997&quot;, &quot;properties&quot;: {&quot;__folium_color&quot;: &quot;#e377c2&quot;, &quot;index&quot;: 4831, &quot;week&quot;: &quot;2022-06-27&quot;}, &quot;type&quot;: &quot;Feature&quot;}, {&quot;bbox&quot;: [14.545253333333331, 35.81509333333333, 14.545253333333331, 35.81509333333333], &quot;geometry&quot;: {&quot;coordinates&quot;: [14.545253333333331, 35.81509333333333], &quot;type&quot;: &quot;Point&quot;}, &quot;id&quot;: &quot;998&quot;, &quot;properties&quot;: {&quot;__folium_color&quot;: &quot;#e377c2&quot;, &quot;index&quot;: 4832, &quot;week&quot;: &quot;2022-06-27&quot;}, &quot;type&quot;: &quot;Feature&quot;}, {&quot;bbox&quot;: [14.545261666666669, 35.815095, 14.545261666666669, 35.815095], &quot;geometry&quot;: {&quot;coordinates&quot;: [14.545261666666669, 35.815095], &quot;type&quot;: &quot;Point&quot;}, &quot;id&quot;: &quot;999&quot;, &quot;properties&quot;: {&quot;__folium_color&quot;: &quot;#e377c2&quot;, &quot;index&quot;: 4833, &quot;week&quot;: &quot;2022-06-27&quot;}, &quot;type&quot;: &quot;Feature&quot;}, {&quot;bbox&quot;: [14.545275, 35.815131666666666, 14.545275, 35.815131666666666], &quot;geometry&quot;: {&quot;coordinates&quot;: [14.545275, 35.815131666666666], &quot;type&quot;: &quot;Point&quot;}, &quot;id&quot;: &quot;1000&quot;, &quot;properties&quot;: {&quot;__folium_color&quot;: &quot;#e377c2&quot;, &quot;index&quot;: 4834, &quot;week&quot;: &quot;2022-06-27&quot;}, &quot;type&quot;: &quot;Feature&quot;}, {&quot;bbox&quot;: [14.545273333333334, 35.815133333333335, 14.545273333333334, 35.815133333333335], &quot;geometry&quot;: {&quot;coordinates&quot;: [14.545273333333334, 35.815133333333335], &quot;type&quot;: &quot;Point&quot;}, &quot;id&quot;: &quot;1001&quot;, &quot;properties&quot;: {&quot;__folium_color&quot;: &quot;#e377c2&quot;, &quot;index&quot;: 4835, &quot;week&quot;: &quot;2022-06-27&quot;}, &quot;type&quot;: &quot;Feature&quot;}, {&quot;bbox&quot;: [14.545275, 35.815113333333336, 14.545275, 35.815113333333336], &quot;geometry&quot;: {&quot;coordinates&quot;: [14.545275, 35.815113333333336], &quot;type&quot;: &quot;Point&quot;}, &quot;id&quot;: &quot;1002&quot;, &quot;properties&quot;: {&quot;__folium_color&quot;: &quot;#e377c2&quot;, &quot;index&quot;: 4836, &quot;week&quot;: &quot;2022-06-27&quot;}, &quot;type&quot;: &quot;Feature&quot;}, {&quot;bbox&quot;: [14.545285, 35.81515666666667, 14.545285, 35.81515666666667], &quot;geometry&quot;: {&quot;coordinates&quot;: [14.545285, 35.81515666666667], &quot;type&quot;: &quot;Point&quot;}, &quot;id&quot;: &quot;1003&quot;, &quot;properties&quot;: {&quot;__folium_color&quot;: &quot;#e377c2&quot;, &quot;index&quot;: 4837, &quot;week&quot;: &quot;2022-06-27&quot;}, &quot;type&quot;: &quot;Feature&quot;}, {&quot;bbox&quot;: [14.545273333333334, 35.8151, 14.545273333333334, 35.8151], &quot;geometry&quot;: {&quot;coordinates&quot;: [14.545273333333334, 35.8151], &quot;type&quot;: &quot;Point&quot;}, &quot;id&quot;: &quot;1004&quot;, &quot;properties&quot;: {&quot;__folium_color&quot;: &quot;#e377c2&quot;, &quot;index&quot;: 4838, &quot;week&quot;: &quot;2022-06-27&quot;}, &quot;type&quot;: &quot;Feature&quot;}, {&quot;bbox&quot;: [14.545271666666666, 35.815131666666666, 14.545271666666666, 35.815131666666666], &quot;geometry&quot;: {&quot;coordinates&quot;: [14.545271666666666, 35.815131666666666], &quot;type&quot;: &quot;Point&quot;}, &quot;id&quot;: &quot;1005&quot;, &quot;properties&quot;: {&quot;__folium_color&quot;: &quot;#e377c2&quot;, &quot;index&quot;: 4839, &quot;week&quot;: &quot;2022-06-27&quot;}, &quot;type&quot;: &quot;Feature&quot;}, {&quot;bbox&quot;: [14.545271666666666, 35.81510166666666, 14.545271666666666, 35.81510166666666], &quot;geometry&quot;: {&quot;coordinates&quot;: [14.545271666666666, 35.81510166666666], &quot;type&quot;: &quot;Point&quot;}, &quot;id&quot;: &quot;1006&quot;, &quot;properties&quot;: {&quot;__folium_color&quot;: &quot;#e377c2&quot;, &quot;index&quot;: 4840, &quot;week&quot;: &quot;2022-06-27&quot;}, &quot;type&quot;: &quot;Feature&quot;}, {&quot;bbox&quot;: [14.545263333333333, 35.815106666666665, 14.545263333333333, 35.815106666666665], &quot;geometry&quot;: {&quot;coordinates&quot;: [14.545263333333333, 35.815106666666665], &quot;type&quot;: &quot;Point&quot;}, &quot;id&quot;: &quot;1007&quot;, &quot;properties&quot;: {&quot;__folium_color&quot;: &quot;#e377c2&quot;, &quot;index&quot;: 4841, &quot;week&quot;: &quot;2022-06-27&quot;}, &quot;type&quot;: &quot;Feature&quot;}, {&quot;bbox&quot;: [14.545258333333331, 35.815086666666666, 14.545258333333331, 35.815086666666666], &quot;geometry&quot;: {&quot;coordinates&quot;: [14.545258333333331, 35.815086666666666], &quot;type&quot;: &quot;Point&quot;}, &quot;id&quot;: &quot;1008&quot;, &quot;properties&quot;: {&quot;__folium_color&quot;: &quot;#e377c2&quot;, &quot;index&quot;: 4842, &quot;week&quot;: &quot;2022-06-27&quot;}, &quot;type&quot;: &quot;Feature&quot;}, {&quot;bbox&quot;: [14.545261666666669, 35.81511666666667, 14.545261666666669, 35.81511666666667], &quot;geometry&quot;: {&quot;coordinates&quot;: [14.545261666666669, 35.81511666666667], &quot;type&quot;: &quot;Point&quot;}, &quot;id&quot;: &quot;1009&quot;, &quot;properties&quot;: {&quot;__folium_color&quot;: &quot;#e377c2&quot;, &quot;index&quot;: 4843, &quot;week&quot;: &quot;2022-06-27&quot;}, &quot;type&quot;: &quot;Feature&quot;}, {&quot;bbox&quot;: [14.545253333333331, 35.81514166666667, 14.545253333333331, 35.81514166666667], &quot;geometry&quot;: {&quot;coordinates&quot;: [14.545253333333331, 35.81514166666667], &quot;type&quot;: &quot;Point&quot;}, &quot;id&quot;: &quot;1010&quot;, &quot;properties&quot;: {&quot;__folium_color&quot;: &quot;#e377c2&quot;, &quot;index&quot;: 4844, &quot;week&quot;: &quot;2022-06-27&quot;}, &quot;type&quot;: &quot;Feature&quot;}, {&quot;bbox&quot;: [14.545265, 35.815128333333334, 14.545265, 35.815128333333334], &quot;geometry&quot;: {&quot;coordinates&quot;: [14.545265, 35.815128333333334], &quot;type&quot;: &quot;Point&quot;}, &quot;id&quot;: &quot;1011&quot;, &quot;properties&quot;: {&quot;__folium_color&quot;: &quot;#e377c2&quot;, &quot;index&quot;: 4845, &quot;week&quot;: &quot;2022-06-27&quot;}, &quot;type&quot;: &quot;Feature&quot;}, {&quot;bbox&quot;: [14.545263333333333, 35.815113333333336, 14.545263333333333, 35.815113333333336], &quot;geometry&quot;: {&quot;coordinates&quot;: [14.545263333333333, 35.815113333333336], &quot;type&quot;: &quot;Point&quot;}, &quot;id&quot;: &quot;1012&quot;, &quot;properties&quot;: {&quot;__folium_color&quot;: &quot;#e377c2&quot;, &quot;index&quot;: 4846, &quot;week&quot;: &quot;2022-06-27&quot;}, &quot;type&quot;: &quot;Feature&quot;}, {&quot;bbox&quot;: [14.54524, 35.815135, 14.54524, 35.815135], &quot;geometry&quot;: {&quot;coordinates&quot;: [14.54524, 35.815135], &quot;type&quot;: &quot;Point&quot;}, &quot;id&quot;: &quot;1013&quot;, &quot;properties&quot;: {&quot;__folium_color&quot;: &quot;#e377c2&quot;, &quot;index&quot;: 4847, &quot;week&quot;: &quot;2022-06-27&quot;}, &quot;type&quot;: &quot;Feature&quot;}, {&quot;bbox&quot;: [14.545253333333331, 35.81514166666667, 14.545253333333331, 35.81514166666667], &quot;geometry&quot;: {&quot;coordinates&quot;: [14.545253333333331, 35.81514166666667], &quot;type&quot;: &quot;Point&quot;}, &quot;id&quot;: &quot;1014&quot;, &quot;properties&quot;: {&quot;__folium_color&quot;: &quot;#e377c2&quot;, &quot;index&quot;: 4848, &quot;week&quot;: &quot;2022-06-27&quot;}, &quot;type&quot;: &quot;Feature&quot;}, {&quot;bbox&quot;: [14.545251666666667, 35.81514, 14.545251666666667, 35.81514], &quot;geometry&quot;: {&quot;coordinates&quot;: [14.545251666666667, 35.81514], &quot;type&quot;: &quot;Point&quot;}, &quot;id&quot;: &quot;1015&quot;, &quot;properties&quot;: {&quot;__folium_color&quot;: &quot;#e377c2&quot;, &quot;index&quot;: 4849, &quot;week&quot;: &quot;2022-06-27&quot;}, &quot;type&quot;: &quot;Feature&quot;}, {&quot;bbox&quot;: [14.545306666666669, 35.815128333333334, 14.545306666666669, 35.815128333333334], &quot;geometry&quot;: {&quot;coordinates&quot;: [14.545306666666669, 35.815128333333334], &quot;type&quot;: &quot;Point&quot;}, &quot;id&quot;: &quot;1016&quot;, &quot;properties&quot;: {&quot;__folium_color&quot;: &quot;#e377c2&quot;, &quot;index&quot;: 4850, &quot;week&quot;: &quot;2022-06-27&quot;}, &quot;type&quot;: &quot;Feature&quot;}, {&quot;bbox&quot;: [14.545266666666668, 35.81510333333333, 14.545266666666668, 35.81510333333333], &quot;geometry&quot;: {&quot;coordinates&quot;: [14.545266666666668, 35.81510333333333], &quot;type&quot;: &quot;Point&quot;}, &quot;id&quot;: &quot;1017&quot;, &quot;properties&quot;: {&quot;__folium_color&quot;: &quot;#e377c2&quot;, &quot;index&quot;: 4851, &quot;week&quot;: &quot;2022-06-27&quot;}, &quot;type&quot;: &quot;Feature&quot;}, {&quot;bbox&quot;: [14.545263333333333, 35.81514333333333, 14.545263333333333, 35.81514333333333], &quot;geometry&quot;: {&quot;coordinates&quot;: [14.545263333333333, 35.81514333333333], &quot;type&quot;: &quot;Point&quot;}, &quot;id&quot;: &quot;1018&quot;, &quot;properties&quot;: {&quot;__folium_color&quot;: &quot;#e377c2&quot;, &quot;index&quot;: 4852, &quot;week&quot;: &quot;2022-06-27&quot;}, &quot;type&quot;: &quot;Feature&quot;}, {&quot;bbox&quot;: [14.545638333333333, 35.815868333333334, 14.545638333333333, 35.815868333333334], &quot;geometry&quot;: {&quot;coordinates&quot;: [14.545638333333333, 35.815868333333334], &quot;type&quot;: &quot;Point&quot;}, &quot;id&quot;: &quot;1019&quot;, &quot;properties&quot;: {&quot;__folium_color&quot;: &quot;#e377c2&quot;, &quot;index&quot;: 4853, &quot;week&quot;: &quot;2022-06-27&quot;}, &quot;type&quot;: &quot;Feature&quot;}, {&quot;bbox&quot;: [14.545806666666667, 35.81611, 14.545806666666667, 35.81611], &quot;geometry&quot;: {&quot;coordinates&quot;: [14.545806666666667, 35.81611], &quot;type&quot;: &quot;Point&quot;}, &quot;id&quot;: &quot;1020&quot;, &quot;properties&quot;: {&quot;__folium_color&quot;: &quot;#e377c2&quot;, &quot;index&quot;: 4854, &quot;week&quot;: &quot;2022-06-27&quot;}, &quot;type&quot;: &quot;Feature&quot;}, {&quot;bbox&quot;: [14.557195, 35.81499, 14.557195, 35.81499], &quot;geometry&quot;: {&quot;coordinates&quot;: [14.557195, 35.81499], &quot;type&quot;: &quot;Point&quot;}, &quot;id&quot;: &quot;1021&quot;, &quot;properties&quot;: {&quot;__folium_color&quot;: &quot;#e377c2&quot;, &quot;index&quot;: 4855, &quot;week&quot;: &quot;2022-06-27&quot;}, &quot;type&quot;: &quot;Feature&quot;}, {&quot;bbox&quot;: [14.586653333333333, 35.797805, 14.586653333333333, 35.797805], &quot;geometry&quot;: {&quot;coordinates&quot;: [14.586653333333333, 35.797805], &quot;type&quot;: &quot;Point&quot;}, &quot;id&quot;: &quot;1022&quot;, &quot;properties&quot;: {&quot;__folium_color&quot;: &quot;#e377c2&quot;, &quot;index&quot;: 4856, &quot;week&quot;: &quot;2022-06-27&quot;}, &quot;type&quot;: &quot;Feature&quot;}, {&quot;bbox&quot;: [14.603556666666666, 35.79819333333333, 14.603556666666666, 35.79819333333333], &quot;geometry&quot;: {&quot;coordinates&quot;: [14.603556666666666, 35.79819333333333], &quot;type&quot;: &quot;Point&quot;}, &quot;id&quot;: &quot;1023&quot;, &quot;properties&quot;: {&quot;__folium_color&quot;: &quot;#e377c2&quot;, &quot;index&quot;: 4857, &quot;week&quot;: &quot;2022-06-27&quot;}, &quot;type&quot;: &quot;Feature&quot;}, {&quot;bbox&quot;: [14.642971666666666, 35.80173666666666, 14.642971666666666, 35.80173666666666], &quot;geometry&quot;: {&quot;coordinates&quot;: [14.642971666666666, 35.80173666666666], &quot;type&quot;: &quot;Point&quot;}, &quot;id&quot;: &quot;1024&quot;, &quot;properties&quot;: {&quot;__folium_color&quot;: &quot;#e377c2&quot;, &quot;index&quot;: 4858, &quot;week&quot;: &quot;2022-06-27&quot;}, &quot;type&quot;: &quot;Feature&quot;}, {&quot;bbox&quot;: [14.703128333333334, 35.80967666666667, 14.703128333333334, 35.80967666666667], &quot;geometry&quot;: {&quot;coordinates&quot;: [14.703128333333334, 35.80967666666667], &quot;type&quot;: &quot;Point&quot;}, &quot;id&quot;: &quot;1025&quot;, &quot;properties&quot;: {&quot;__folium_color&quot;: &quot;#e377c2&quot;, &quot;index&quot;: 4859, &quot;week&quot;: &quot;2022-06-27&quot;}, &quot;type&quot;: &quot;Feature&quot;}, {&quot;bbox&quot;: [14.720853333333332, 35.81798833333333, 14.720853333333332, 35.81798833333333], &quot;geometry&quot;: {&quot;coordinates&quot;: [14.720853333333332, 35.81798833333333], &quot;type&quot;: &quot;Point&quot;}, &quot;id&quot;: &quot;1026&quot;, &quot;properties&quot;: {&quot;__folium_color&quot;: &quot;#e377c2&quot;, &quot;index&quot;: 4860, &quot;week&quot;: &quot;2022-06-27&quot;}, &quot;type&quot;: &quot;Feature&quot;}, {&quot;bbox&quot;: [14.755501666666667, 35.83768333333333, 14.755501666666667, 35.83768333333333], &quot;geometry&quot;: {&quot;coordinates&quot;: [14.755501666666667, 35.83768333333333], &quot;type&quot;: &quot;Point&quot;}, &quot;id&quot;: &quot;1027&quot;, &quot;properties&quot;: {&quot;__folium_color&quot;: &quot;#e377c2&quot;, &quot;index&quot;: 4861, &quot;week&quot;: &quot;2022-06-27&quot;}, &quot;type&quot;: &quot;Feature&quot;}, {&quot;bbox&quot;: [14.775881666666669, 35.841766666666665, 14.775881666666669, 35.841766666666665], &quot;geometry&quot;: {&quot;coordinates&quot;: [14.775881666666669, 35.841766666666665], &quot;type&quot;: &quot;Point&quot;}, &quot;id&quot;: &quot;1028&quot;, &quot;properties&quot;: {&quot;__folium_color&quot;: &quot;#e377c2&quot;, &quot;index&quot;: 4862, &quot;week&quot;: &quot;2022-06-27&quot;}, &quot;type&quot;: &quot;Feature&quot;}, {&quot;bbox&quot;: [14.78369, 35.834505, 14.78369, 35.834505], &quot;geometry&quot;: {&quot;coordinates&quot;: [14.78369, 35.834505], &quot;type&quot;: &quot;Point&quot;}, &quot;id&quot;: &quot;1029&quot;, &quot;properties&quot;: {&quot;__folium_color&quot;: &quot;#e377c2&quot;, &quot;index&quot;: 4863, &quot;week&quot;: &quot;2022-06-27&quot;}, &quot;type&quot;: &quot;Feature&quot;}, {&quot;bbox&quot;: [14.871026666666667, 35.69743833333333, 14.871026666666667, 35.69743833333333], &quot;geometry&quot;: {&quot;coordinates&quot;: [14.871026666666667, 35.69743833333333], &quot;type&quot;: &quot;Point&quot;}, &quot;id&quot;: &quot;1030&quot;, &quot;properties&quot;: {&quot;__folium_color&quot;: &quot;#e377c2&quot;, &quot;index&quot;: 4864, &quot;week&quot;: &quot;2022-06-27&quot;}, &quot;type&quot;: &quot;Feature&quot;}, {&quot;bbox&quot;: [15.287906666666666, 37.19417, 15.287906666666666, 37.19417], &quot;geometry&quot;: {&quot;coordinates&quot;: [15.287906666666666, 37.19417], &quot;type&quot;: &quot;Point&quot;}, &quot;id&quot;: &quot;1031&quot;, &quot;properties&quot;: {&quot;__folium_color&quot;: &quot;#f7b6d2&quot;, &quot;index&quot;: 5086, &quot;week&quot;: &quot;2022-07-04&quot;}, &quot;type&quot;: &quot;Feature&quot;}, {&quot;bbox&quot;: [15.224693333333333, 37.19974333333333, 15.224693333333333, 37.19974333333333], &quot;geometry&quot;: {&quot;coordinates&quot;: [15.224693333333333, 37.19974333333333], &quot;type&quot;: &quot;Point&quot;}, &quot;id&quot;: &quot;1032&quot;, &quot;properties&quot;: {&quot;__folium_color&quot;: &quot;#f7b6d2&quot;, &quot;index&quot;: 5087, &quot;week&quot;: &quot;2022-07-04&quot;}, &quot;type&quot;: &quot;Feature&quot;}, {&quot;bbox&quot;: [15.204616666666666, 37.226985, 15.204616666666666, 37.226985], &quot;geometry&quot;: {&quot;coordinates&quot;: [15.204616666666666, 37.226985], &quot;type&quot;: &quot;Point&quot;}, &quot;id&quot;: &quot;1033&quot;, &quot;properties&quot;: {&quot;__folium_color&quot;: &quot;#f7b6d2&quot;, &quot;index&quot;: 5088, &quot;week&quot;: &quot;2022-07-04&quot;}, &quot;type&quot;: &quot;Feature&quot;}, {&quot;bbox&quot;: [15.201923333333331, 37.228588333333335, 15.201923333333331, 37.228588333333335], &quot;geometry&quot;: {&quot;coordinates&quot;: [15.201923333333331, 37.228588333333335], &quot;type&quot;: &quot;Point&quot;}, &quot;id&quot;: &quot;1034&quot;, &quot;properties&quot;: {&quot;__folium_color&quot;: &quot;#f7b6d2&quot;, &quot;index&quot;: 5089, &quot;week&quot;: &quot;2022-07-04&quot;}, &quot;type&quot;: &quot;Feature&quot;}, {&quot;bbox&quot;: [15.202011666666667, 37.22992, 15.202011666666667, 37.22992], &quot;geometry&quot;: {&quot;coordinates&quot;: [15.202011666666667, 37.22992], &quot;type&quot;: &quot;Point&quot;}, &quot;id&quot;: &quot;1035&quot;, &quot;properties&quot;: {&quot;__folium_color&quot;: &quot;#f7b6d2&quot;, &quot;index&quot;: 5090, &quot;week&quot;: &quot;2022-07-04&quot;}, &quot;type&quot;: &quot;Feature&quot;}, {&quot;bbox&quot;: [15.201841666666668, 37.229596666666666, 15.201841666666668, 37.229596666666666], &quot;geometry&quot;: {&quot;coordinates&quot;: [15.201841666666668, 37.229596666666666], &quot;type&quot;: &quot;Point&quot;}, &quot;id&quot;: &quot;1036&quot;, &quot;properties&quot;: {&quot;__folium_color&quot;: &quot;#f7b6d2&quot;, &quot;index&quot;: 5091, &quot;week&quot;: &quot;2022-07-04&quot;}, &quot;type&quot;: &quot;Feature&quot;}, {&quot;bbox&quot;: [15.201818333333334, 37.229461666666666, 15.201818333333334, 37.229461666666666], &quot;geometry&quot;: {&quot;coordinates&quot;: [15.201818333333334, 37.229461666666666], &quot;type&quot;: &quot;Point&quot;}, &quot;id&quot;: &quot;1037&quot;, &quot;properties&quot;: {&quot;__folium_color&quot;: &quot;#f7b6d2&quot;, &quot;index&quot;: 5092, &quot;week&quot;: &quot;2022-07-04&quot;}, &quot;type&quot;: &quot;Feature&quot;}, {&quot;bbox&quot;: [15.202028333333333, 37.2299, 15.202028333333333, 37.2299], &quot;geometry&quot;: {&quot;coordinates&quot;: [15.202028333333333, 37.2299], &quot;type&quot;: &quot;Point&quot;}, &quot;id&quot;: &quot;1038&quot;, &quot;properties&quot;: {&quot;__folium_color&quot;: &quot;#f7b6d2&quot;, &quot;index&quot;: 5093, &quot;week&quot;: &quot;2022-07-04&quot;}, &quot;type&quot;: &quot;Feature&quot;}, {&quot;bbox&quot;: [15.202346666666667, 37.230203333333336, 15.202346666666667, 37.230203333333336], &quot;geometry&quot;: {&quot;coordinates&quot;: [15.202346666666667, 37.230203333333336], &quot;type&quot;: &quot;Point&quot;}, &quot;id&quot;: &quot;1039&quot;, &quot;properties&quot;: {&quot;__folium_color&quot;: &quot;#f7b6d2&quot;, &quot;index&quot;: 5094, &quot;week&quot;: &quot;2022-07-04&quot;}, &quot;type&quot;: &quot;Feature&quot;}, {&quot;bbox&quot;: [15.202141666666666, 37.22996666666667, 15.202141666666666, 37.22996666666667], &quot;geometry&quot;: {&quot;coordinates&quot;: [15.202141666666666, 37.22996666666667], &quot;type&quot;: &quot;Point&quot;}, &quot;id&quot;: &quot;1040&quot;, &quot;properties&quot;: {&quot;__folium_color&quot;: &quot;#f7b6d2&quot;, &quot;index&quot;: 5095, &quot;week&quot;: &quot;2022-07-04&quot;}, &quot;type&quot;: &quot;Feature&quot;}, {&quot;bbox&quot;: [15.202046666666666, 37.22980666666667, 15.202046666666666, 37.22980666666667], &quot;geometry&quot;: {&quot;coordinates&quot;: [15.202046666666666, 37.22980666666667], &quot;type&quot;: &quot;Point&quot;}, &quot;id&quot;: &quot;1041&quot;, &quot;properties&quot;: {&quot;__folium_color&quot;: &quot;#f7b6d2&quot;, &quot;index&quot;: 5096, &quot;week&quot;: &quot;2022-07-04&quot;}, &quot;type&quot;: &quot;Feature&quot;}, {&quot;bbox&quot;: [15.202076666666668, 37.229705, 15.202076666666668, 37.229705], &quot;geometry&quot;: {&quot;coordinates&quot;: [15.202076666666668, 37.229705], &quot;type&quot;: &quot;Point&quot;}, &quot;id&quot;: &quot;1042&quot;, &quot;properties&quot;: {&quot;__folium_color&quot;: &quot;#f7b6d2&quot;, &quot;index&quot;: 5097, &quot;week&quot;: &quot;2022-07-04&quot;}, &quot;type&quot;: &quot;Feature&quot;}, {&quot;bbox&quot;: [15.201885, 37.229255, 15.201885, 37.229255], &quot;geometry&quot;: {&quot;coordinates&quot;: [15.201885, 37.229255], &quot;type&quot;: &quot;Point&quot;}, &quot;id&quot;: &quot;1043&quot;, &quot;properties&quot;: {&quot;__folium_color&quot;: &quot;#f7b6d2&quot;, &quot;index&quot;: 5098, &quot;week&quot;: &quot;2022-07-04&quot;}, &quot;type&quot;: &quot;Feature&quot;}, {&quot;bbox&quot;: [15.202926666666666, 37.22746333333333, 15.202926666666666, 37.22746333333333], &quot;geometry&quot;: {&quot;coordinates&quot;: [15.202926666666666, 37.22746333333333], &quot;type&quot;: &quot;Point&quot;}, &quot;id&quot;: &quot;1044&quot;, &quot;properties&quot;: {&quot;__folium_color&quot;: &quot;#f7b6d2&quot;, &quot;index&quot;: 5099, &quot;week&quot;: &quot;2022-07-04&quot;}, &quot;type&quot;: &quot;Feature&quot;}, {&quot;bbox&quot;: [15.20293, 37.227466666666665, 15.20293, 37.227466666666665], &quot;geometry&quot;: {&quot;coordinates&quot;: [15.20293, 37.227466666666665], &quot;type&quot;: &quot;Point&quot;}, &quot;id&quot;: &quot;1045&quot;, &quot;properties&quot;: {&quot;__folium_color&quot;: &quot;#f7b6d2&quot;, &quot;index&quot;: 5100, &quot;week&quot;: &quot;2022-07-04&quot;}, &quot;type&quot;: &quot;Feature&quot;}, {&quot;bbox&quot;: [15.204281666666668, 37.2274, 15.204281666666668, 37.2274], &quot;geometry&quot;: {&quot;coordinates&quot;: [15.204281666666668, 37.2274], &quot;type&quot;: &quot;Point&quot;}, &quot;id&quot;: &quot;1046&quot;, &quot;properties&quot;: {&quot;__folium_color&quot;: &quot;#f7b6d2&quot;, &quot;index&quot;: 5101, &quot;week&quot;: &quot;2022-07-04&quot;}, &quot;type&quot;: &quot;Feature&quot;}, {&quot;bbox&quot;: [15.20441, 37.227485, 15.20441, 37.227485], &quot;geometry&quot;: {&quot;coordinates&quot;: [15.20441, 37.227485], &quot;type&quot;: &quot;Point&quot;}, &quot;id&quot;: &quot;1047&quot;, &quot;properties&quot;: {&quot;__folium_color&quot;: &quot;#f7b6d2&quot;, &quot;index&quot;: 5102, &quot;week&quot;: &quot;2022-07-04&quot;}, &quot;type&quot;: &quot;Feature&quot;}, {&quot;bbox&quot;: [15.204786666666667, 37.22757166666667, 15.204786666666667, 37.22757166666667], &quot;geometry&quot;: {&quot;coordinates&quot;: [15.204786666666667, 37.22757166666667], &quot;type&quot;: &quot;Point&quot;}, &quot;id&quot;: &quot;1048&quot;, &quot;properties&quot;: {&quot;__folium_color&quot;: &quot;#f7b6d2&quot;, &quot;index&quot;: 5103, &quot;week&quot;: &quot;2022-07-04&quot;}, &quot;type&quot;: &quot;Feature&quot;}, {&quot;bbox&quot;: [15.204988333333333, 37.22770166666667, 15.204988333333333, 37.22770166666667], &quot;geometry&quot;: {&quot;coordinates&quot;: [15.204988333333333, 37.22770166666667], &quot;type&quot;: &quot;Point&quot;}, &quot;id&quot;: &quot;1049&quot;, &quot;properties&quot;: {&quot;__folium_color&quot;: &quot;#f7b6d2&quot;, &quot;index&quot;: 5104, &quot;week&quot;: &quot;2022-07-04&quot;}, &quot;type&quot;: &quot;Feature&quot;}, {&quot;bbox&quot;: [15.205155, 37.22779333333333, 15.205155, 37.22779333333333], &quot;geometry&quot;: {&quot;coordinates&quot;: [15.205155, 37.22779333333333], &quot;type&quot;: &quot;Point&quot;}, &quot;id&quot;: &quot;1050&quot;, &quot;properties&quot;: {&quot;__folium_color&quot;: &quot;#f7b6d2&quot;, &quot;index&quot;: 5105, &quot;week&quot;: &quot;2022-07-04&quot;}, &quot;type&quot;: &quot;Feature&quot;}, {&quot;bbox&quot;: [15.20366, 37.227335, 15.20366, 37.227335], &quot;geometry&quot;: {&quot;coordinates&quot;: [15.20366, 37.227335], &quot;type&quot;: &quot;Point&quot;}, &quot;id&quot;: &quot;1051&quot;, &quot;properties&quot;: {&quot;__folium_color&quot;: &quot;#f7b6d2&quot;, &quot;index&quot;: 5106, &quot;week&quot;: &quot;2022-07-04&quot;}, &quot;type&quot;: &quot;Feature&quot;}, {&quot;bbox&quot;: [15.202523333333334, 37.22787666666667, 15.202523333333334, 37.22787666666667], &quot;geometry&quot;: {&quot;coordinates&quot;: [15.202523333333334, 37.22787666666667], &quot;type&quot;: &quot;Point&quot;}, &quot;id&quot;: &quot;1052&quot;, &quot;properties&quot;: {&quot;__folium_color&quot;: &quot;#f7b6d2&quot;, &quot;index&quot;: 5107, &quot;week&quot;: &quot;2022-07-04&quot;}, &quot;type&quot;: &quot;Feature&quot;}, {&quot;bbox&quot;: [15.202086666666666, 37.22819833333333, 15.202086666666666, 37.22819833333333], &quot;geometry&quot;: {&quot;coordinates&quot;: [15.202086666666666, 37.22819833333333], &quot;type&quot;: &quot;Point&quot;}, &quot;id&quot;: &quot;1053&quot;, &quot;properties&quot;: {&quot;__folium_color&quot;: &quot;#f7b6d2&quot;, &quot;index&quot;: 5108, &quot;week&quot;: &quot;2022-07-04&quot;}, &quot;type&quot;: &quot;Feature&quot;}, {&quot;bbox&quot;: [15.202641666666668, 37.22817166666667, 15.202641666666668, 37.22817166666667], &quot;geometry&quot;: {&quot;coordinates&quot;: [15.202641666666668, 37.22817166666667], &quot;type&quot;: &quot;Point&quot;}, &quot;id&quot;: &quot;1054&quot;, &quot;properties&quot;: {&quot;__folium_color&quot;: &quot;#f7b6d2&quot;, &quot;index&quot;: 5109, &quot;week&quot;: &quot;2022-07-04&quot;}, &quot;type&quot;: &quot;Feature&quot;}, {&quot;bbox&quot;: [15.204098333333333, 37.227485, 15.204098333333333, 37.227485], &quot;geometry&quot;: {&quot;coordinates&quot;: [15.204098333333333, 37.227485], &quot;type&quot;: &quot;Point&quot;}, &quot;id&quot;: &quot;1055&quot;, &quot;properties&quot;: {&quot;__folium_color&quot;: &quot;#f7b6d2&quot;, &quot;index&quot;: 5110, &quot;week&quot;: &quot;2022-07-04&quot;}, &quot;type&quot;: &quot;Feature&quot;}, {&quot;bbox&quot;: [15.203035, 37.227515, 15.203035, 37.227515], &quot;geometry&quot;: {&quot;coordinates&quot;: [15.203035, 37.227515], &quot;type&quot;: &quot;Point&quot;}, &quot;id&quot;: &quot;1056&quot;, &quot;properties&quot;: {&quot;__folium_color&quot;: &quot;#f7b6d2&quot;, &quot;index&quot;: 5111, &quot;week&quot;: &quot;2022-07-04&quot;}, &quot;type&quot;: &quot;Feature&quot;}, {&quot;bbox&quot;: [15.202441666666669, 37.22777333333333, 15.202441666666669, 37.22777333333333], &quot;geometry&quot;: {&quot;coordinates&quot;: [15.202441666666669, 37.22777333333333], &quot;type&quot;: &quot;Point&quot;}, &quot;id&quot;: &quot;1057&quot;, &quot;properties&quot;: {&quot;__folium_color&quot;: &quot;#f7b6d2&quot;, &quot;index&quot;: 5112, &quot;week&quot;: &quot;2022-07-04&quot;}, &quot;type&quot;: &quot;Feature&quot;}, {&quot;bbox&quot;: [15.202223333333333, 37.22799333333333, 15.202223333333333, 37.22799333333333], &quot;geometry&quot;: {&quot;coordinates&quot;: [15.202223333333333, 37.22799333333333], &quot;type&quot;: &quot;Point&quot;}, &quot;id&quot;: &quot;1058&quot;, &quot;properties&quot;: {&quot;__folium_color&quot;: &quot;#f7b6d2&quot;, &quot;index&quot;: 5113, &quot;week&quot;: &quot;2022-07-04&quot;}, &quot;type&quot;: &quot;Feature&quot;}, {&quot;bbox&quot;: [15.202015, 37.228303333333336, 15.202015, 37.228303333333336], &quot;geometry&quot;: {&quot;coordinates&quot;: [15.202015, 37.228303333333336], &quot;type&quot;: &quot;Point&quot;}, &quot;id&quot;: &quot;1059&quot;, &quot;properties&quot;: {&quot;__folium_color&quot;: &quot;#f7b6d2&quot;, &quot;index&quot;: 5114, &quot;week&quot;: &quot;2022-07-04&quot;}, &quot;type&quot;: &quot;Feature&quot;}, {&quot;bbox&quot;: [15.201925, 37.22844666666666, 15.201925, 37.22844666666666], &quot;geometry&quot;: {&quot;coordinates&quot;: [15.201925, 37.22844666666666], &quot;type&quot;: &quot;Point&quot;}, &quot;id&quot;: &quot;1060&quot;, &quot;properties&quot;: {&quot;__folium_color&quot;: &quot;#f7b6d2&quot;, &quot;index&quot;: 5115, &quot;week&quot;: &quot;2022-07-04&quot;}, &quot;type&quot;: &quot;Feature&quot;}, {&quot;bbox&quot;: [15.201833333333331, 37.228685, 15.201833333333331, 37.228685], &quot;geometry&quot;: {&quot;coordinates&quot;: [15.201833333333331, 37.228685], &quot;type&quot;: &quot;Point&quot;}, &quot;id&quot;: &quot;1061&quot;, &quot;properties&quot;: {&quot;__folium_color&quot;: &quot;#f7b6d2&quot;, &quot;index&quot;: 5116, &quot;week&quot;: &quot;2022-07-04&quot;}, &quot;type&quot;: &quot;Feature&quot;}, {&quot;bbox&quot;: [15.201873333333332, 37.22870666666667, 15.201873333333332, 37.22870666666667], &quot;geometry&quot;: {&quot;coordinates&quot;: [15.201873333333332, 37.22870666666667], &quot;type&quot;: &quot;Point&quot;}, &quot;id&quot;: &quot;1062&quot;, &quot;properties&quot;: {&quot;__folium_color&quot;: &quot;#f7b6d2&quot;, &quot;index&quot;: 5117, &quot;week&quot;: &quot;2022-07-04&quot;}, &quot;type&quot;: &quot;Feature&quot;}, {&quot;bbox&quot;: [15.201876666666667, 37.228431666666665, 15.201876666666667, 37.228431666666665], &quot;geometry&quot;: {&quot;coordinates&quot;: [15.201876666666667, 37.228431666666665], &quot;type&quot;: &quot;Point&quot;}, &quot;id&quot;: &quot;1063&quot;, &quot;properties&quot;: {&quot;__folium_color&quot;: &quot;#f7b6d2&quot;, &quot;index&quot;: 5118, &quot;week&quot;: &quot;2022-07-04&quot;}, &quot;type&quot;: &quot;Feature&quot;}, {&quot;bbox&quot;: [15.201955, 37.22835833333333, 15.201955, 37.22835833333333], &quot;geometry&quot;: {&quot;coordinates&quot;: [15.201955, 37.22835833333333], &quot;type&quot;: &quot;Point&quot;}, &quot;id&quot;: &quot;1064&quot;, &quot;properties&quot;: {&quot;__folium_color&quot;: &quot;#f7b6d2&quot;, &quot;index&quot;: 5119, &quot;week&quot;: &quot;2022-07-04&quot;}, &quot;type&quot;: &quot;Feature&quot;}, {&quot;bbox&quot;: [15.201993333333334, 37.229005, 15.201993333333334, 37.229005], &quot;geometry&quot;: {&quot;coordinates&quot;: [15.201993333333334, 37.229005], &quot;type&quot;: &quot;Point&quot;}, &quot;id&quot;: &quot;1065&quot;, &quot;properties&quot;: {&quot;__folium_color&quot;: &quot;#f7b6d2&quot;, &quot;index&quot;: 5120, &quot;week&quot;: &quot;2022-07-04&quot;}, &quot;type&quot;: &quot;Feature&quot;}, {&quot;bbox&quot;: [15.202451666666668, 37.230055, 15.202451666666668, 37.230055], &quot;geometry&quot;: {&quot;coordinates&quot;: [15.202451666666668, 37.230055], &quot;type&quot;: &quot;Point&quot;}, &quot;id&quot;: &quot;1066&quot;, &quot;properties&quot;: {&quot;__folium_color&quot;: &quot;#f7b6d2&quot;, &quot;index&quot;: 5121, &quot;week&quot;: &quot;2022-07-04&quot;}, &quot;type&quot;: &quot;Feature&quot;}, {&quot;bbox&quot;: [15.20324, 37.230385, 15.20324, 37.230385], &quot;geometry&quot;: {&quot;coordinates&quot;: [15.20324, 37.230385], &quot;type&quot;: &quot;Point&quot;}, &quot;id&quot;: &quot;1067&quot;, &quot;properties&quot;: {&quot;__folium_color&quot;: &quot;#f7b6d2&quot;, &quot;index&quot;: 5122, &quot;week&quot;: &quot;2022-07-04&quot;}, &quot;type&quot;: &quot;Feature&quot;}, {&quot;bbox&quot;: [15.202705, 37.23019333333333, 15.202705, 37.23019333333333], &quot;geometry&quot;: {&quot;coordinates&quot;: [15.202705, 37.23019333333333], &quot;type&quot;: &quot;Point&quot;}, &quot;id&quot;: &quot;1068&quot;, &quot;properties&quot;: {&quot;__folium_color&quot;: &quot;#f7b6d2&quot;, &quot;index&quot;: 5123, &quot;week&quot;: &quot;2022-07-04&quot;}, &quot;type&quot;: &quot;Feature&quot;}, {&quot;bbox&quot;: [15.202428333333334, 37.22994666666666, 15.202428333333334, 37.22994666666666], &quot;geometry&quot;: {&quot;coordinates&quot;: [15.202428333333334, 37.22994666666666], &quot;type&quot;: &quot;Point&quot;}, &quot;id&quot;: &quot;1069&quot;, &quot;properties&quot;: {&quot;__folium_color&quot;: &quot;#f7b6d2&quot;, &quot;index&quot;: 5124, &quot;week&quot;: &quot;2022-07-04&quot;}, &quot;type&quot;: &quot;Feature&quot;}, {&quot;bbox&quot;: [15.20334, 37.22893, 15.20334, 37.22893], &quot;geometry&quot;: {&quot;coordinates&quot;: [15.20334, 37.22893], &quot;type&quot;: &quot;Point&quot;}, &quot;id&quot;: &quot;1070&quot;, &quot;properties&quot;: {&quot;__folium_color&quot;: &quot;#f7b6d2&quot;, &quot;index&quot;: 5125, &quot;week&quot;: &quot;2022-07-04&quot;}, &quot;type&quot;: &quot;Feature&quot;}, {&quot;bbox&quot;: [15.203128333333334, 37.229, 15.203128333333334, 37.229], &quot;geometry&quot;: {&quot;coordinates&quot;: [15.203128333333334, 37.229], &quot;type&quot;: &quot;Point&quot;}, &quot;id&quot;: &quot;1071&quot;, &quot;properties&quot;: {&quot;__folium_color&quot;: &quot;#f7b6d2&quot;, &quot;index&quot;: 5126, &quot;week&quot;: &quot;2022-07-04&quot;}, &quot;type&quot;: &quot;Feature&quot;}, {&quot;bbox&quot;: [15.202778333333333, 37.22915166666667, 15.202778333333333, 37.22915166666667], &quot;geometry&quot;: {&quot;coordinates&quot;: [15.202778333333333, 37.22915166666667], &quot;type&quot;: &quot;Point&quot;}, &quot;id&quot;: &quot;1072&quot;, &quot;properties&quot;: {&quot;__folium_color&quot;: &quot;#f7b6d2&quot;, &quot;index&quot;: 5127, &quot;week&quot;: &quot;2022-07-04&quot;}, &quot;type&quot;: &quot;Feature&quot;}, {&quot;bbox&quot;: [15.195658333333334, 37.229005, 15.195658333333334, 37.229005], &quot;geometry&quot;: {&quot;coordinates&quot;: [15.195658333333334, 37.229005], &quot;type&quot;: &quot;Point&quot;}, &quot;id&quot;: &quot;1073&quot;, &quot;properties&quot;: {&quot;__folium_color&quot;: &quot;#f7b6d2&quot;, &quot;index&quot;: 5128, &quot;week&quot;: &quot;2022-07-04&quot;}, &quot;type&quot;: &quot;Feature&quot;}, {&quot;bbox&quot;: [15.195655, 37.229018333333336, 15.195655, 37.229018333333336], &quot;geometry&quot;: {&quot;coordinates&quot;: [15.195655, 37.229018333333336], &quot;type&quot;: &quot;Point&quot;}, &quot;id&quot;: &quot;1074&quot;, &quot;properties&quot;: {&quot;__folium_color&quot;: &quot;#f7b6d2&quot;, &quot;index&quot;: 5129, &quot;week&quot;: &quot;2022-07-04&quot;}, &quot;type&quot;: &quot;Feature&quot;}, {&quot;bbox&quot;: [15.195635, 37.22901, 15.195635, 37.22901], &quot;geometry&quot;: {&quot;coordinates&quot;: [15.195635, 37.22901], &quot;type&quot;: &quot;Point&quot;}, &quot;id&quot;: &quot;1075&quot;, &quot;properties&quot;: {&quot;__folium_color&quot;: &quot;#f7b6d2&quot;, &quot;index&quot;: 5130, &quot;week&quot;: &quot;2022-07-04&quot;}, &quot;type&quot;: &quot;Feature&quot;}, {&quot;bbox&quot;: [15.195653333333333, 37.229035, 15.195653333333333, 37.229035], &quot;geometry&quot;: {&quot;coordinates&quot;: [15.195653333333333, 37.229035], &quot;type&quot;: &quot;Point&quot;}, &quot;id&quot;: &quot;1076&quot;, &quot;properties&quot;: {&quot;__folium_color&quot;: &quot;#f7b6d2&quot;, &quot;index&quot;: 5131, &quot;week&quot;: &quot;2022-07-04&quot;}, &quot;type&quot;: &quot;Feature&quot;}, {&quot;bbox&quot;: [15.19566, 37.229036666666666, 15.19566, 37.229036666666666], &quot;geometry&quot;: {&quot;coordinates&quot;: [15.19566, 37.229036666666666], &quot;type&quot;: &quot;Point&quot;}, &quot;id&quot;: &quot;1077&quot;, &quot;properties&quot;: {&quot;__folium_color&quot;: &quot;#f7b6d2&quot;, &quot;index&quot;: 5132, &quot;week&quot;: &quot;2022-07-04&quot;}, &quot;type&quot;: &quot;Feature&quot;}, {&quot;bbox&quot;: [15.195651666666668, 37.229, 15.195651666666668, 37.229], &quot;geometry&quot;: {&quot;coordinates&quot;: [15.195651666666668, 37.229], &quot;type&quot;: &quot;Point&quot;}, &quot;id&quot;: &quot;1078&quot;, &quot;properties&quot;: {&quot;__folium_color&quot;: &quot;#f7b6d2&quot;, &quot;index&quot;: 5133, &quot;week&quot;: &quot;2022-07-04&quot;}, &quot;type&quot;: &quot;Feature&quot;}, {&quot;bbox&quot;: [15.195663333333334, 37.229015, 15.195663333333334, 37.229015], &quot;geometry&quot;: {&quot;coordinates&quot;: [15.195663333333334, 37.229015], &quot;type&quot;: &quot;Point&quot;}, &quot;id&quot;: &quot;1079&quot;, &quot;properties&quot;: {&quot;__folium_color&quot;: &quot;#f7b6d2&quot;, &quot;index&quot;: 5134, &quot;week&quot;: &quot;2022-07-04&quot;}, &quot;type&quot;: &quot;Feature&quot;}, {&quot;bbox&quot;: [15.195648333333333, 37.22900166666667, 15.195648333333333, 37.22900166666667], &quot;geometry&quot;: {&quot;coordinates&quot;: [15.195648333333333, 37.22900166666667], &quot;type&quot;: &quot;Point&quot;}, &quot;id&quot;: &quot;1080&quot;, &quot;properties&quot;: {&quot;__folium_color&quot;: &quot;#f7b6d2&quot;, &quot;index&quot;: 5135, &quot;week&quot;: &quot;2022-07-04&quot;}, &quot;type&quot;: &quot;Feature&quot;}, {&quot;bbox&quot;: [15.195668333333334, 37.229013333333334, 15.195668333333334, 37.229013333333334], &quot;geometry&quot;: {&quot;coordinates&quot;: [15.195668333333334, 37.229013333333334], &quot;type&quot;: &quot;Point&quot;}, &quot;id&quot;: &quot;1081&quot;, &quot;properties&quot;: {&quot;__folium_color&quot;: &quot;#f7b6d2&quot;, &quot;index&quot;: 5136, &quot;week&quot;: &quot;2022-07-04&quot;}, &quot;type&quot;: &quot;Feature&quot;}, {&quot;bbox&quot;: [15.195645, 37.22902833333333, 15.195645, 37.22902833333333], &quot;geometry&quot;: {&quot;coordinates&quot;: [15.195645, 37.22902833333333], &quot;type&quot;: &quot;Point&quot;}, &quot;id&quot;: &quot;1082&quot;, &quot;properties&quot;: {&quot;__folium_color&quot;: &quot;#f7b6d2&quot;, &quot;index&quot;: 5137, &quot;week&quot;: &quot;2022-07-04&quot;}, &quot;type&quot;: &quot;Feature&quot;}, {&quot;bbox&quot;: [15.195653333333333, 37.229033333333334, 15.195653333333333, 37.229033333333334], &quot;geometry&quot;: {&quot;coordinates&quot;: [15.195653333333333, 37.229033333333334], &quot;type&quot;: &quot;Point&quot;}, &quot;id&quot;: &quot;1083&quot;, &quot;properties&quot;: {&quot;__folium_color&quot;: &quot;#f7b6d2&quot;, &quot;index&quot;: 5138, &quot;week&quot;: &quot;2022-07-04&quot;}, &quot;type&quot;: &quot;Feature&quot;}, {&quot;bbox&quot;: [15.195635, 37.22897, 15.195635, 37.22897], &quot;geometry&quot;: {&quot;coordinates&quot;: [15.195635, 37.22897], &quot;type&quot;: &quot;Point&quot;}, &quot;id&quot;: &quot;1084&quot;, &quot;properties&quot;: {&quot;__folium_color&quot;: &quot;#f7b6d2&quot;, &quot;index&quot;: 5139, &quot;week&quot;: &quot;2022-07-04&quot;}, &quot;type&quot;: &quot;Feature&quot;}, {&quot;bbox&quot;: [15.195655, 37.22897833333333, 15.195655, 37.22897833333333], &quot;geometry&quot;: {&quot;coordinates&quot;: [15.195655, 37.22897833333333], &quot;type&quot;: &quot;Point&quot;}, &quot;id&quot;: &quot;1085&quot;, &quot;properties&quot;: {&quot;__folium_color&quot;: &quot;#f7b6d2&quot;, &quot;index&quot;: 5140, &quot;week&quot;: &quot;2022-07-04&quot;}, &quot;type&quot;: &quot;Feature&quot;}, {&quot;bbox&quot;: [15.19567, 37.22906166666667, 15.19567, 37.22906166666667], &quot;geometry&quot;: {&quot;coordinates&quot;: [15.19567, 37.22906166666667], &quot;type&quot;: &quot;Point&quot;}, &quot;id&quot;: &quot;1086&quot;, &quot;properties&quot;: {&quot;__folium_color&quot;: &quot;#f7b6d2&quot;, &quot;index&quot;: 5141, &quot;week&quot;: &quot;2022-07-04&quot;}, &quot;type&quot;: &quot;Feature&quot;}, {&quot;bbox&quot;: [15.19567, 37.22904666666667, 15.19567, 37.22904666666667], &quot;geometry&quot;: {&quot;coordinates&quot;: [15.19567, 37.22904666666667], &quot;type&quot;: &quot;Point&quot;}, &quot;id&quot;: &quot;1087&quot;, &quot;properties&quot;: {&quot;__folium_color&quot;: &quot;#f7b6d2&quot;, &quot;index&quot;: 5142, &quot;week&quot;: &quot;2022-07-04&quot;}, &quot;type&quot;: &quot;Feature&quot;}, {&quot;bbox&quot;: [15.195661666666666, 37.22902666666667, 15.195661666666666, 37.22902666666667], &quot;geometry&quot;: {&quot;coordinates&quot;: [15.195661666666666, 37.22902666666667], &quot;type&quot;: &quot;Point&quot;}, &quot;id&quot;: &quot;1088&quot;, &quot;properties&quot;: {&quot;__folium_color&quot;: &quot;#f7b6d2&quot;, &quot;index&quot;: 5143, &quot;week&quot;: &quot;2022-07-04&quot;}, &quot;type&quot;: &quot;Feature&quot;}, {&quot;bbox&quot;: [15.195648333333333, 37.229025, 15.195648333333333, 37.229025], &quot;geometry&quot;: {&quot;coordinates&quot;: [15.195648333333333, 37.229025], &quot;type&quot;: &quot;Point&quot;}, &quot;id&quot;: &quot;1089&quot;, &quot;properties&quot;: {&quot;__folium_color&quot;: &quot;#f7b6d2&quot;, &quot;index&quot;: 5144, &quot;week&quot;: &quot;2022-07-04&quot;}, &quot;type&quot;: &quot;Feature&quot;}, {&quot;bbox&quot;: [15.195641666666669, 37.229013333333334, 15.195641666666669, 37.229013333333334], &quot;geometry&quot;: {&quot;coordinates&quot;: [15.195641666666669, 37.229013333333334], &quot;type&quot;: &quot;Point&quot;}, &quot;id&quot;: &quot;1090&quot;, &quot;properties&quot;: {&quot;__folium_color&quot;: &quot;#f7b6d2&quot;, &quot;index&quot;: 5145, &quot;week&quot;: &quot;2022-07-04&quot;}, &quot;type&quot;: &quot;Feature&quot;}, {&quot;bbox&quot;: [15.195635, 37.22898166666667, 15.195635, 37.22898166666667], &quot;geometry&quot;: {&quot;coordinates&quot;: [15.195635, 37.22898166666667], &quot;type&quot;: &quot;Point&quot;}, &quot;id&quot;: &quot;1091&quot;, &quot;properties&quot;: {&quot;__folium_color&quot;: &quot;#f7b6d2&quot;, &quot;index&quot;: 5146, &quot;week&quot;: &quot;2022-07-04&quot;}, &quot;type&quot;: &quot;Feature&quot;}, {&quot;bbox&quot;: [15.195646666666669, 37.229036666666666, 15.195646666666669, 37.229036666666666], &quot;geometry&quot;: {&quot;coordinates&quot;: [15.195646666666669, 37.229036666666666], &quot;type&quot;: &quot;Point&quot;}, &quot;id&quot;: &quot;1092&quot;, &quot;properties&quot;: {&quot;__folium_color&quot;: &quot;#f7b6d2&quot;, &quot;index&quot;: 5147, &quot;week&quot;: &quot;2022-07-04&quot;}, &quot;type&quot;: &quot;Feature&quot;}, {&quot;bbox&quot;: [15.195626666666668, 37.229025, 15.195626666666668, 37.229025], &quot;geometry&quot;: {&quot;coordinates&quot;: [15.195626666666668, 37.229025], &quot;type&quot;: &quot;Point&quot;}, &quot;id&quot;: &quot;1093&quot;, &quot;properties&quot;: {&quot;__folium_color&quot;: &quot;#f7b6d2&quot;, &quot;index&quot;: 5148, &quot;week&quot;: &quot;2022-07-04&quot;}, &quot;type&quot;: &quot;Feature&quot;}, {&quot;bbox&quot;: [15.195646666666669, 37.22902166666667, 15.195646666666669, 37.22902166666667], &quot;geometry&quot;: {&quot;coordinates&quot;: [15.195646666666669, 37.22902166666667], &quot;type&quot;: &quot;Point&quot;}, &quot;id&quot;: &quot;1094&quot;, &quot;properties&quot;: {&quot;__folium_color&quot;: &quot;#f7b6d2&quot;, &quot;index&quot;: 5149, &quot;week&quot;: &quot;2022-07-04&quot;}, &quot;type&quot;: &quot;Feature&quot;}, {&quot;bbox&quot;: [15.19565, 37.22907333333333, 15.19565, 37.22907333333333], &quot;geometry&quot;: {&quot;coordinates&quot;: [15.19565, 37.22907333333333], &quot;type&quot;: &quot;Point&quot;}, &quot;id&quot;: &quot;1095&quot;, &quot;properties&quot;: {&quot;__folium_color&quot;: &quot;#c7c7c7&quot;, &quot;index&quot;: 5150, &quot;week&quot;: &quot;2022-07-11&quot;}, &quot;type&quot;: &quot;Feature&quot;}, {&quot;bbox&quot;: [15.195645, 37.229036666666666, 15.195645, 37.229036666666666], &quot;geometry&quot;: {&quot;coordinates&quot;: [15.195645, 37.229036666666666], &quot;type&quot;: &quot;Point&quot;}, &quot;id&quot;: &quot;1096&quot;, &quot;properties&quot;: {&quot;__folium_color&quot;: &quot;#c7c7c7&quot;, &quot;index&quot;: 5151, &quot;week&quot;: &quot;2022-07-11&quot;}, &quot;type&quot;: &quot;Feature&quot;}, {&quot;bbox&quot;: [15.195636666666667, 37.22898166666667, 15.195636666666667, 37.22898166666667], &quot;geometry&quot;: {&quot;coordinates&quot;: [15.195636666666667, 37.22898166666667], &quot;type&quot;: &quot;Point&quot;}, &quot;id&quot;: &quot;1097&quot;, &quot;properties&quot;: {&quot;__folium_color&quot;: &quot;#c7c7c7&quot;, &quot;index&quot;: 5152, &quot;week&quot;: &quot;2022-07-11&quot;}, &quot;type&quot;: &quot;Feature&quot;}, {&quot;bbox&quot;: [15.195646666666669, 37.228988333333334, 15.195646666666669, 37.228988333333334], &quot;geometry&quot;: {&quot;coordinates&quot;: [15.195646666666669, 37.228988333333334], &quot;type&quot;: &quot;Point&quot;}, &quot;id&quot;: &quot;1098&quot;, &quot;properties&quot;: {&quot;__folium_color&quot;: &quot;#c7c7c7&quot;, &quot;index&quot;: 5153, &quot;week&quot;: &quot;2022-07-11&quot;}, &quot;type&quot;: &quot;Feature&quot;}, {&quot;bbox&quot;: [15.195685, 37.22899833333334, 15.195685, 37.22899833333334], &quot;geometry&quot;: {&quot;coordinates&quot;: [15.195685, 37.22899833333334], &quot;type&quot;: &quot;Point&quot;}, &quot;id&quot;: &quot;1099&quot;, &quot;properties&quot;: {&quot;__folium_color&quot;: &quot;#c7c7c7&quot;, &quot;index&quot;: 5154, &quot;week&quot;: &quot;2022-07-11&quot;}, &quot;type&quot;: &quot;Feature&quot;}, {&quot;bbox&quot;: [15.195641666666669, 37.229, 15.195641666666669, 37.229], &quot;geometry&quot;: {&quot;coordinates&quot;: [15.195641666666669, 37.229], &quot;type&quot;: &quot;Point&quot;}, &quot;id&quot;: &quot;1100&quot;, &quot;properties&quot;: {&quot;__folium_color&quot;: &quot;#c7c7c7&quot;, &quot;index&quot;: 5155, &quot;week&quot;: &quot;2022-07-11&quot;}, &quot;type&quot;: &quot;Feature&quot;}, {&quot;bbox&quot;: [15.195671666666666, 37.22900833333333, 15.195671666666666, 37.22900833333333], &quot;geometry&quot;: {&quot;coordinates&quot;: [15.195671666666666, 37.22900833333333], &quot;type&quot;: &quot;Point&quot;}, &quot;id&quot;: &quot;1101&quot;, &quot;properties&quot;: {&quot;__folium_color&quot;: &quot;#c7c7c7&quot;, &quot;index&quot;: 5156, &quot;week&quot;: &quot;2022-07-11&quot;}, &quot;type&quot;: &quot;Feature&quot;}, {&quot;bbox&quot;: [15.195611666666666, 37.228988333333334, 15.195611666666666, 37.228988333333334], &quot;geometry&quot;: {&quot;coordinates&quot;: [15.195611666666666, 37.228988333333334], &quot;type&quot;: &quot;Point&quot;}, &quot;id&quot;: &quot;1102&quot;, &quot;properties&quot;: {&quot;__folium_color&quot;: &quot;#c7c7c7&quot;, &quot;index&quot;: 5157, &quot;week&quot;: &quot;2022-07-11&quot;}, &quot;type&quot;: &quot;Feature&quot;}, {&quot;bbox&quot;: [15.195645, 37.22900666666666, 15.195645, 37.22900666666666], &quot;geometry&quot;: {&quot;coordinates&quot;: [15.195645, 37.22900666666666], &quot;type&quot;: &quot;Point&quot;}, &quot;id&quot;: &quot;1103&quot;, &quot;properties&quot;: {&quot;__folium_color&quot;: &quot;#c7c7c7&quot;, &quot;index&quot;: 5158, &quot;week&quot;: &quot;2022-07-11&quot;}, &quot;type&quot;: &quot;Feature&quot;}, {&quot;bbox&quot;: [15.195656666666666, 37.229, 15.195656666666666, 37.229], &quot;geometry&quot;: {&quot;coordinates&quot;: [15.195656666666666, 37.229], &quot;type&quot;: &quot;Point&quot;}, &quot;id&quot;: &quot;1104&quot;, &quot;properties&quot;: {&quot;__folium_color&quot;: &quot;#c7c7c7&quot;, &quot;index&quot;: 5159, &quot;week&quot;: &quot;2022-07-11&quot;}, &quot;type&quot;: &quot;Feature&quot;}, {&quot;bbox&quot;: [15.195625, 37.22902833333333, 15.195625, 37.22902833333333], &quot;geometry&quot;: {&quot;coordinates&quot;: [15.195625, 37.22902833333333], &quot;type&quot;: &quot;Point&quot;}, &quot;id&quot;: &quot;1105&quot;, &quot;properties&quot;: {&quot;__folium_color&quot;: &quot;#c7c7c7&quot;, &quot;index&quot;: 5160, &quot;week&quot;: &quot;2022-07-11&quot;}, &quot;type&quot;: &quot;Feature&quot;}, {&quot;bbox&quot;: [15.195648333333333, 37.22900333333333, 15.195648333333333, 37.22900333333333], &quot;geometry&quot;: {&quot;coordinates&quot;: [15.195648333333333, 37.22900333333333], &quot;type&quot;: &quot;Point&quot;}, &quot;id&quot;: &quot;1106&quot;, &quot;properties&quot;: {&quot;__folium_color&quot;: &quot;#c7c7c7&quot;, &quot;index&quot;: 5161, &quot;week&quot;: &quot;2022-07-11&quot;}, &quot;type&quot;: &quot;Feature&quot;}, {&quot;bbox&quot;: [15.19564, 37.22902, 15.19564, 37.22902], &quot;geometry&quot;: {&quot;coordinates&quot;: [15.19564, 37.22902], &quot;type&quot;: &quot;Point&quot;}, &quot;id&quot;: &quot;1107&quot;, &quot;properties&quot;: {&quot;__folium_color&quot;: &quot;#c7c7c7&quot;, &quot;index&quot;: 5162, &quot;week&quot;: &quot;2022-07-11&quot;}, &quot;type&quot;: &quot;Feature&quot;}, {&quot;bbox&quot;: [15.195656666666666, 37.22906, 15.195656666666666, 37.22906], &quot;geometry&quot;: {&quot;coordinates&quot;: [15.195656666666666, 37.22906], &quot;type&quot;: &quot;Point&quot;}, &quot;id&quot;: &quot;1108&quot;, &quot;properties&quot;: {&quot;__folium_color&quot;: &quot;#c7c7c7&quot;, &quot;index&quot;: 5163, &quot;week&quot;: &quot;2022-07-11&quot;}, &quot;type&quot;: &quot;Feature&quot;}, {&quot;bbox&quot;: [15.195656666666666, 37.22900833333333, 15.195656666666666, 37.22900833333333], &quot;geometry&quot;: {&quot;coordinates&quot;: [15.195656666666666, 37.22900833333333], &quot;type&quot;: &quot;Point&quot;}, &quot;id&quot;: &quot;1109&quot;, &quot;properties&quot;: {&quot;__folium_color&quot;: &quot;#c7c7c7&quot;, &quot;index&quot;: 5164, &quot;week&quot;: &quot;2022-07-11&quot;}, &quot;type&quot;: &quot;Feature&quot;}, {&quot;bbox&quot;: [15.19567, 37.22900666666666, 15.19567, 37.22900666666666], &quot;geometry&quot;: {&quot;coordinates&quot;: [15.19567, 37.22900666666666], &quot;type&quot;: &quot;Point&quot;}, &quot;id&quot;: &quot;1110&quot;, &quot;properties&quot;: {&quot;__folium_color&quot;: &quot;#c7c7c7&quot;, &quot;index&quot;: 5165, &quot;week&quot;: &quot;2022-07-11&quot;}, &quot;type&quot;: &quot;Feature&quot;}, {&quot;bbox&quot;: [15.195651666666668, 37.22902166666667, 15.195651666666668, 37.22902166666667], &quot;geometry&quot;: {&quot;coordinates&quot;: [15.195651666666668, 37.22902166666667], &quot;type&quot;: &quot;Point&quot;}, &quot;id&quot;: &quot;1111&quot;, &quot;properties&quot;: {&quot;__folium_color&quot;: &quot;#c7c7c7&quot;, &quot;index&quot;: 5166, &quot;week&quot;: &quot;2022-07-11&quot;}, &quot;type&quot;: &quot;Feature&quot;}, {&quot;bbox&quot;: [15.195651666666668, 37.229015, 15.195651666666668, 37.229015], &quot;geometry&quot;: {&quot;coordinates&quot;: [15.195651666666668, 37.229015], &quot;type&quot;: &quot;Point&quot;}, &quot;id&quot;: &quot;1112&quot;, &quot;properties&quot;: {&quot;__folium_color&quot;: &quot;#c7c7c7&quot;, &quot;index&quot;: 5167, &quot;week&quot;: &quot;2022-07-11&quot;}, &quot;type&quot;: &quot;Feature&quot;}, {&quot;bbox&quot;: [15.195643333333331, 37.22902, 15.195643333333331, 37.22902], &quot;geometry&quot;: {&quot;coordinates&quot;: [15.195643333333331, 37.22902], &quot;type&quot;: &quot;Point&quot;}, &quot;id&quot;: &quot;1113&quot;, &quot;properties&quot;: {&quot;__folium_color&quot;: &quot;#c7c7c7&quot;, &quot;index&quot;: 5168, &quot;week&quot;: &quot;2022-07-11&quot;}, &quot;type&quot;: &quot;Feature&quot;}, {&quot;bbox&quot;: [15.195635, 37.22902, 15.195635, 37.22902], &quot;geometry&quot;: {&quot;coordinates&quot;: [15.195635, 37.22902], &quot;type&quot;: &quot;Point&quot;}, &quot;id&quot;: &quot;1114&quot;, &quot;properties&quot;: {&quot;__folium_color&quot;: &quot;#c7c7c7&quot;, &quot;index&quot;: 5169, &quot;week&quot;: &quot;2022-07-11&quot;}, &quot;type&quot;: &quot;Feature&quot;}, {&quot;bbox&quot;: [15.195646666666669, 37.229015, 15.195646666666669, 37.229015], &quot;geometry&quot;: {&quot;coordinates&quot;: [15.195646666666669, 37.229015], &quot;type&quot;: &quot;Point&quot;}, &quot;id&quot;: &quot;1115&quot;, &quot;properties&quot;: {&quot;__folium_color&quot;: &quot;#c7c7c7&quot;, &quot;index&quot;: 5170, &quot;week&quot;: &quot;2022-07-11&quot;}, &quot;type&quot;: &quot;Feature&quot;}, {&quot;bbox&quot;: [15.195668333333334, 37.229025, 15.195668333333334, 37.229025], &quot;geometry&quot;: {&quot;coordinates&quot;: [15.195668333333334, 37.229025], &quot;type&quot;: &quot;Point&quot;}, &quot;id&quot;: &quot;1116&quot;, &quot;properties&quot;: {&quot;__folium_color&quot;: &quot;#c7c7c7&quot;, &quot;index&quot;: 5171, &quot;week&quot;: &quot;2022-07-11&quot;}, &quot;type&quot;: &quot;Feature&quot;}, {&quot;bbox&quot;: [15.195648333333333, 37.22900833333333, 15.195648333333333, 37.22900833333333], &quot;geometry&quot;: {&quot;coordinates&quot;: [15.195648333333333, 37.22900833333333], &quot;type&quot;: &quot;Point&quot;}, &quot;id&quot;: &quot;1117&quot;, &quot;properties&quot;: {&quot;__folium_color&quot;: &quot;#c7c7c7&quot;, &quot;index&quot;: 5172, &quot;week&quot;: &quot;2022-07-11&quot;}, &quot;type&quot;: &quot;Feature&quot;}, {&quot;bbox&quot;: [15.195648333333333, 37.22905166666666, 15.195648333333333, 37.22905166666666], &quot;geometry&quot;: {&quot;coordinates&quot;: [15.195648333333333, 37.22905166666666], &quot;type&quot;: &quot;Point&quot;}, &quot;id&quot;: &quot;1118&quot;, &quot;properties&quot;: {&quot;__folium_color&quot;: &quot;#c7c7c7&quot;, &quot;index&quot;: 5173, &quot;week&quot;: &quot;2022-07-11&quot;}, &quot;type&quot;: &quot;Feature&quot;}, {&quot;bbox&quot;: [15.195658333333334, 37.22902833333333, 15.195658333333334, 37.22902833333333], &quot;geometry&quot;: {&quot;coordinates&quot;: [15.195658333333334, 37.22902833333333], &quot;type&quot;: &quot;Point&quot;}, &quot;id&quot;: &quot;1119&quot;, &quot;properties&quot;: {&quot;__folium_color&quot;: &quot;#c7c7c7&quot;, &quot;index&quot;: 5174, &quot;week&quot;: &quot;2022-07-11&quot;}, &quot;type&quot;: &quot;Feature&quot;}, {&quot;bbox&quot;: [15.195636666666667, 37.22901, 15.195636666666667, 37.22901], &quot;geometry&quot;: {&quot;coordinates&quot;: [15.195636666666667, 37.22901], &quot;type&quot;: &quot;Point&quot;}, &quot;id&quot;: &quot;1120&quot;, &quot;properties&quot;: {&quot;__folium_color&quot;: &quot;#c7c7c7&quot;, &quot;index&quot;: 5175, &quot;week&quot;: &quot;2022-07-11&quot;}, &quot;type&quot;: &quot;Feature&quot;}, {&quot;bbox&quot;: [15.19819, 37.23052666666667, 15.19819, 37.23052666666667], &quot;geometry&quot;: {&quot;coordinates&quot;: [15.19819, 37.23052666666667], &quot;type&quot;: &quot;Point&quot;}, &quot;id&quot;: &quot;1121&quot;, &quot;properties&quot;: {&quot;__folium_color&quot;: &quot;#c7c7c7&quot;, &quot;index&quot;: 5176, &quot;week&quot;: &quot;2022-07-11&quot;}, &quot;type&quot;: &quot;Feature&quot;}, {&quot;bbox&quot;: [15.217753333333333, 37.20731166666667, 15.217753333333333, 37.20731166666667], &quot;geometry&quot;: {&quot;coordinates&quot;: [15.217753333333333, 37.20731166666667], &quot;type&quot;: &quot;Point&quot;}, &quot;id&quot;: &quot;1122&quot;, &quot;properties&quot;: {&quot;__folium_color&quot;: &quot;#c7c7c7&quot;, &quot;index&quot;: 5177, &quot;week&quot;: &quot;2022-07-11&quot;}, &quot;type&quot;: &quot;Feature&quot;}, {&quot;bbox&quot;: [15.256258333333331, 37.19278333333333, 15.256258333333331, 37.19278333333333], &quot;geometry&quot;: {&quot;coordinates&quot;: [15.256258333333331, 37.19278333333333], &quot;type&quot;: &quot;Point&quot;}, &quot;id&quot;: &quot;1123&quot;, &quot;properties&quot;: {&quot;__folium_color&quot;: &quot;#c7c7c7&quot;, &quot;index&quot;: 5178, &quot;week&quot;: &quot;2022-07-11&quot;}, &quot;type&quot;: &quot;Feature&quot;}, {&quot;bbox&quot;: [15.271545, 37.188875, 15.271545, 37.188875], &quot;geometry&quot;: {&quot;coordinates&quot;: [15.271545, 37.188875], &quot;type&quot;: &quot;Point&quot;}, &quot;id&quot;: &quot;1124&quot;, &quot;properties&quot;: {&quot;__folium_color&quot;: &quot;#c7c7c7&quot;, &quot;index&quot;: 5179, &quot;week&quot;: &quot;2022-07-11&quot;}, &quot;type&quot;: &quot;Feature&quot;}, {&quot;bbox&quot;: [15.306615, 37.17066, 15.306615, 37.17066], &quot;geometry&quot;: {&quot;coordinates&quot;: [15.306615, 37.17066], &quot;type&quot;: &quot;Point&quot;}, &quot;id&quot;: &quot;1125&quot;, &quot;properties&quot;: {&quot;__folium_color&quot;: &quot;#c7c7c7&quot;, &quot;index&quot;: 5180, &quot;week&quot;: &quot;2022-07-11&quot;}, &quot;type&quot;: &quot;Feature&quot;}, {&quot;bbox&quot;: [15.091931666666667, 35.80792666666667, 15.091931666666667, 35.80792666666667], &quot;geometry&quot;: {&quot;coordinates&quot;: [15.091931666666667, 35.80792666666667], &quot;type&quot;: &quot;Point&quot;}, &quot;id&quot;: &quot;1126&quot;, &quot;properties&quot;: {&quot;__folium_color&quot;: &quot;#bcbd22&quot;, &quot;index&quot;: 6158, &quot;week&quot;: &quot;2022-08-15&quot;}, &quot;type&quot;: &quot;Feature&quot;}, {&quot;bbox&quot;: [14.99619, 35.81425333333333, 14.99619, 35.81425333333333], &quot;geometry&quot;: {&quot;coordinates&quot;: [14.99619, 35.81425333333333], &quot;type&quot;: &quot;Point&quot;}, &quot;id&quot;: &quot;1127&quot;, &quot;properties&quot;: {&quot;__folium_color&quot;: &quot;#bcbd22&quot;, &quot;index&quot;: 6159, &quot;week&quot;: &quot;2022-08-15&quot;}, &quot;type&quot;: &quot;Feature&quot;}, {&quot;bbox&quot;: [14.797886666666669, 35.81754, 14.797886666666669, 35.81754], &quot;geometry&quot;: {&quot;coordinates&quot;: [14.797886666666669, 35.81754], &quot;type&quot;: &quot;Point&quot;}, &quot;id&quot;: &quot;1128&quot;, &quot;properties&quot;: {&quot;__folium_color&quot;: &quot;#bcbd22&quot;, &quot;index&quot;: 6160, &quot;week&quot;: &quot;2022-08-15&quot;}, &quot;type&quot;: &quot;Feature&quot;}, {&quot;bbox&quot;: [14.783661666666667, 35.81713, 14.783661666666667, 35.81713], &quot;geometry&quot;: {&quot;coordinates&quot;: [14.783661666666667, 35.81713], &quot;type&quot;: &quot;Point&quot;}, &quot;id&quot;: &quot;1129&quot;, &quot;properties&quot;: {&quot;__folium_color&quot;: &quot;#bcbd22&quot;, &quot;index&quot;: 6161, &quot;week&quot;: &quot;2022-08-15&quot;}, &quot;type&quot;: &quot;Feature&quot;}, {&quot;bbox&quot;: [14.772505, 35.81489, 14.772505, 35.81489], &quot;geometry&quot;: {&quot;coordinates&quot;: [14.772505, 35.81489], &quot;type&quot;: &quot;Point&quot;}, &quot;id&quot;: &quot;1130&quot;, &quot;properties&quot;: {&quot;__folium_color&quot;: &quot;#bcbd22&quot;, &quot;index&quot;: 6162, &quot;week&quot;: &quot;2022-08-15&quot;}, &quot;type&quot;: &quot;Feature&quot;}, {&quot;bbox&quot;: [14.780931666666667, 35.80719, 14.780931666666667, 35.80719], &quot;geometry&quot;: {&quot;coordinates&quot;: [14.780931666666667, 35.80719], &quot;type&quot;: &quot;Point&quot;}, &quot;id&quot;: &quot;1131&quot;, &quot;properties&quot;: {&quot;__folium_color&quot;: &quot;#bcbd22&quot;, &quot;index&quot;: 6163, &quot;week&quot;: &quot;2022-08-15&quot;}, &quot;type&quot;: &quot;Feature&quot;}, {&quot;bbox&quot;: [14.687581666666668, 35.78077, 14.687581666666668, 35.78077], &quot;geometry&quot;: {&quot;coordinates&quot;: [14.687581666666668, 35.78077], &quot;type&quot;: &quot;Point&quot;}, &quot;id&quot;: &quot;1132&quot;, &quot;properties&quot;: {&quot;__folium_color&quot;: &quot;#bcbd22&quot;, &quot;index&quot;: 6164, &quot;week&quot;: &quot;2022-08-15&quot;}, &quot;type&quot;: &quot;Feature&quot;}, {&quot;bbox&quot;: [14.675455, 35.78205, 14.675455, 35.78205], &quot;geometry&quot;: {&quot;coordinates&quot;: [14.675455, 35.78205], &quot;type&quot;: &quot;Point&quot;}, &quot;id&quot;: &quot;1133&quot;, &quot;properties&quot;: {&quot;__folium_color&quot;: &quot;#bcbd22&quot;, &quot;index&quot;: 6165, &quot;week&quot;: &quot;2022-08-15&quot;}, &quot;type&quot;: &quot;Feature&quot;}, {&quot;bbox&quot;: [14.65521, 35.78006166666667, 14.65521, 35.78006166666667], &quot;geometry&quot;: {&quot;coordinates&quot;: [14.65521, 35.78006166666667], &quot;type&quot;: &quot;Point&quot;}, &quot;id&quot;: &quot;1134&quot;, &quot;properties&quot;: {&quot;__folium_color&quot;: &quot;#bcbd22&quot;, &quot;index&quot;: 6166, &quot;week&quot;: &quot;2022-08-15&quot;}, &quot;type&quot;: &quot;Feature&quot;}, {&quot;bbox&quot;: [14.643875, 35.77820666666667, 14.643875, 35.77820666666667], &quot;geometry&quot;: {&quot;coordinates&quot;: [14.643875, 35.77820666666667], &quot;type&quot;: &quot;Point&quot;}, &quot;id&quot;: &quot;1135&quot;, &quot;properties&quot;: {&quot;__folium_color&quot;: &quot;#bcbd22&quot;, &quot;index&quot;: 6167, &quot;week&quot;: &quot;2022-08-15&quot;}, &quot;type&quot;: &quot;Feature&quot;}, {&quot;bbox&quot;: [14.632283333333334, 35.78217333333333, 14.632283333333334, 35.78217333333333], &quot;geometry&quot;: {&quot;coordinates&quot;: [14.632283333333334, 35.78217333333333], &quot;type&quot;: &quot;Point&quot;}, &quot;id&quot;: &quot;1136&quot;, &quot;properties&quot;: {&quot;__folium_color&quot;: &quot;#bcbd22&quot;, &quot;index&quot;: 6168, &quot;week&quot;: &quot;2022-08-15&quot;}, &quot;type&quot;: &quot;Feature&quot;}, {&quot;bbox&quot;: [14.628295, 35.783225, 14.628295, 35.783225], &quot;geometry&quot;: {&quot;coordinates&quot;: [14.628295, 35.783225], &quot;type&quot;: &quot;Point&quot;}, &quot;id&quot;: &quot;1137&quot;, &quot;properties&quot;: {&quot;__folium_color&quot;: &quot;#bcbd22&quot;, &quot;index&quot;: 6169, &quot;week&quot;: &quot;2022-08-15&quot;}, &quot;type&quot;: &quot;Feature&quot;}, {&quot;bbox&quot;: [14.624286666666666, 35.78487833333333, 14.624286666666666, 35.78487833333333], &quot;geometry&quot;: {&quot;coordinates&quot;: [14.624286666666666, 35.78487833333333], &quot;type&quot;: &quot;Point&quot;}, &quot;id&quot;: &quot;1138&quot;, &quot;properties&quot;: {&quot;__folium_color&quot;: &quot;#bcbd22&quot;, &quot;index&quot;: 6170, &quot;week&quot;: &quot;2022-08-15&quot;}, &quot;type&quot;: &quot;Feature&quot;}, {&quot;bbox&quot;: [14.574065, 35.80408333333333, 14.574065, 35.80408333333333], &quot;geometry&quot;: {&quot;coordinates&quot;: [14.574065, 35.80408333333333], &quot;type&quot;: &quot;Point&quot;}, &quot;id&quot;: &quot;1139&quot;, &quot;properties&quot;: {&quot;__folium_color&quot;: &quot;#bcbd22&quot;, &quot;index&quot;: 6171, &quot;week&quot;: &quot;2022-08-15&quot;}, &quot;type&quot;: &quot;Feature&quot;}, {&quot;bbox&quot;: [14.55957, 35.81324333333333, 14.55957, 35.81324333333333], &quot;geometry&quot;: {&quot;coordinates&quot;: [14.55957, 35.81324333333333], &quot;type&quot;: &quot;Point&quot;}, &quot;id&quot;: &quot;1140&quot;, &quot;properties&quot;: {&quot;__folium_color&quot;: &quot;#bcbd22&quot;, &quot;index&quot;: 6172, &quot;week&quot;: &quot;2022-08-15&quot;}, &quot;type&quot;: &quot;Feature&quot;}, {&quot;bbox&quot;: [14.552053333333332, 35.82512, 14.552053333333332, 35.82512], &quot;geometry&quot;: {&quot;coordinates&quot;: [14.552053333333332, 35.82512], &quot;type&quot;: &quot;Point&quot;}, &quot;id&quot;: &quot;1141&quot;, &quot;properties&quot;: {&quot;__folium_color&quot;: &quot;#bcbd22&quot;, &quot;index&quot;: 6173, &quot;week&quot;: &quot;2022-08-15&quot;}, &quot;type&quot;: &quot;Feature&quot;}, {&quot;bbox&quot;: [14.550293333333334, 35.82819166666667, 14.550293333333334, 35.82819166666667], &quot;geometry&quot;: {&quot;coordinates&quot;: [14.550293333333334, 35.82819166666667], &quot;type&quot;: &quot;Point&quot;}, &quot;id&quot;: &quot;1142&quot;, &quot;properties&quot;: {&quot;__folium_color&quot;: &quot;#bcbd22&quot;, &quot;index&quot;: 6174, &quot;week&quot;: &quot;2022-08-15&quot;}, &quot;type&quot;: &quot;Feature&quot;}, {&quot;bbox&quot;: [14.550293333333334, 35.828245, 14.550293333333334, 35.828245], &quot;geometry&quot;: {&quot;coordinates&quot;: [14.550293333333334, 35.828245], &quot;type&quot;: &quot;Point&quot;}, &quot;id&quot;: &quot;1143&quot;, &quot;properties&quot;: {&quot;__folium_color&quot;: &quot;#bcbd22&quot;, &quot;index&quot;: 6175, &quot;week&quot;: &quot;2022-08-15&quot;}, &quot;type&quot;: &quot;Feature&quot;}, {&quot;bbox&quot;: [14.550306666666666, 35.82823833333333, 14.550306666666666, 35.82823833333333], &quot;geometry&quot;: {&quot;coordinates&quot;: [14.550306666666666, 35.82823833333333], &quot;type&quot;: &quot;Point&quot;}, &quot;id&quot;: &quot;1144&quot;, &quot;properties&quot;: {&quot;__folium_color&quot;: &quot;#bcbd22&quot;, &quot;index&quot;: 6176, &quot;week&quot;: &quot;2022-08-15&quot;}, &quot;type&quot;: &quot;Feature&quot;}, {&quot;bbox&quot;: [14.550281666666669, 35.828235, 14.550281666666669, 35.828235], &quot;geometry&quot;: {&quot;coordinates&quot;: [14.550281666666669, 35.828235], &quot;type&quot;: &quot;Point&quot;}, &quot;id&quot;: &quot;1145&quot;, &quot;properties&quot;: {&quot;__folium_color&quot;: &quot;#bcbd22&quot;, &quot;index&quot;: 6177, &quot;week&quot;: &quot;2022-08-15&quot;}, &quot;type&quot;: &quot;Feature&quot;}, {&quot;bbox&quot;: [14.550316666666667, 35.828265, 14.550316666666667, 35.828265], &quot;geometry&quot;: {&quot;coordinates&quot;: [14.550316666666667, 35.828265], &quot;type&quot;: &quot;Point&quot;}, &quot;id&quot;: &quot;1146&quot;, &quot;properties&quot;: {&quot;__folium_color&quot;: &quot;#bcbd22&quot;, &quot;index&quot;: 6178, &quot;week&quot;: &quot;2022-08-15&quot;}, &quot;type&quot;: &quot;Feature&quot;}, {&quot;bbox&quot;: [14.550335, 35.82826, 14.550335, 35.82826], &quot;geometry&quot;: {&quot;coordinates&quot;: [14.550335, 35.82826], &quot;type&quot;: &quot;Point&quot;}, &quot;id&quot;: &quot;1147&quot;, &quot;properties&quot;: {&quot;__folium_color&quot;: &quot;#bcbd22&quot;, &quot;index&quot;: 6179, &quot;week&quot;: &quot;2022-08-15&quot;}, &quot;type&quot;: &quot;Feature&quot;}, {&quot;bbox&quot;: [14.550288333333333, 35.82819333333333, 14.550288333333333, 35.82819333333333], &quot;geometry&quot;: {&quot;coordinates&quot;: [14.550288333333333, 35.82819333333333], &quot;type&quot;: &quot;Point&quot;}, &quot;id&quot;: &quot;1148&quot;, &quot;properties&quot;: {&quot;__folium_color&quot;: &quot;#bcbd22&quot;, &quot;index&quot;: 6180, &quot;week&quot;: &quot;2022-08-15&quot;}, &quot;type&quot;: &quot;Feature&quot;}, {&quot;bbox&quot;: [14.550313333333332, 35.828221666666664, 14.550313333333332, 35.828221666666664], &quot;geometry&quot;: {&quot;coordinates&quot;: [14.550313333333332, 35.828221666666664], &quot;type&quot;: &quot;Point&quot;}, &quot;id&quot;: &quot;1149&quot;, &quot;properties&quot;: {&quot;__folium_color&quot;: &quot;#bcbd22&quot;, &quot;index&quot;: 6181, &quot;week&quot;: &quot;2022-08-15&quot;}, &quot;type&quot;: &quot;Feature&quot;}, {&quot;bbox&quot;: [14.55031, 35.82824333333333, 14.55031, 35.82824333333333], &quot;geometry&quot;: {&quot;coordinates&quot;: [14.55031, 35.82824333333333], &quot;type&quot;: &quot;Point&quot;}, &quot;id&quot;: &quot;1150&quot;, &quot;properties&quot;: {&quot;__folium_color&quot;: &quot;#bcbd22&quot;, &quot;index&quot;: 6182, &quot;week&quot;: &quot;2022-08-15&quot;}, &quot;type&quot;: &quot;Feature&quot;}, {&quot;bbox&quot;: [14.550313333333332, 35.82825166666667, 14.550313333333332, 35.82825166666667], &quot;geometry&quot;: {&quot;coordinates&quot;: [14.550313333333332, 35.82825166666667], &quot;type&quot;: &quot;Point&quot;}, &quot;id&quot;: &quot;1151&quot;, &quot;properties&quot;: {&quot;__folium_color&quot;: &quot;#bcbd22&quot;, &quot;index&quot;: 6183, &quot;week&quot;: &quot;2022-08-15&quot;}, &quot;type&quot;: &quot;Feature&quot;}, {&quot;bbox&quot;: [14.550291666666666, 35.82823666666667, 14.550291666666666, 35.82823666666667], &quot;geometry&quot;: {&quot;coordinates&quot;: [14.550291666666666, 35.82823666666667], &quot;type&quot;: &quot;Point&quot;}, &quot;id&quot;: &quot;1152&quot;, &quot;properties&quot;: {&quot;__folium_color&quot;: &quot;#bcbd22&quot;, &quot;index&quot;: 6184, &quot;week&quot;: &quot;2022-08-15&quot;}, &quot;type&quot;: &quot;Feature&quot;}, {&quot;bbox&quot;: [14.550326666666669, 35.82823666666667, 14.550326666666669, 35.82823666666667], &quot;geometry&quot;: {&quot;coordinates&quot;: [14.550326666666669, 35.82823666666667], &quot;type&quot;: &quot;Point&quot;}, &quot;id&quot;: &quot;1153&quot;, &quot;properties&quot;: {&quot;__folium_color&quot;: &quot;#bcbd22&quot;, &quot;index&quot;: 6185, &quot;week&quot;: &quot;2022-08-15&quot;}, &quot;type&quot;: &quot;Feature&quot;}, {&quot;bbox&quot;: [14.550305, 35.82821166666667, 14.550305, 35.82821166666667], &quot;geometry&quot;: {&quot;coordinates&quot;: [14.550305, 35.82821166666667], &quot;type&quot;: &quot;Point&quot;}, &quot;id&quot;: &quot;1154&quot;, &quot;properties&quot;: {&quot;__folium_color&quot;: &quot;#bcbd22&quot;, &quot;index&quot;: 6186, &quot;week&quot;: &quot;2022-08-15&quot;}, &quot;type&quot;: &quot;Feature&quot;}, {&quot;bbox&quot;: [14.550313333333332, 35.828223333333334, 14.550313333333332, 35.828223333333334], &quot;geometry&quot;: {&quot;coordinates&quot;: [14.550313333333332, 35.828223333333334], &quot;type&quot;: &quot;Point&quot;}, &quot;id&quot;: &quot;1155&quot;, &quot;properties&quot;: {&quot;__folium_color&quot;: &quot;#bcbd22&quot;, &quot;index&quot;: 6187, &quot;week&quot;: &quot;2022-08-15&quot;}, &quot;type&quot;: &quot;Feature&quot;}, {&quot;bbox&quot;: [14.550321666666669, 35.828265, 14.550321666666669, 35.828265], &quot;geometry&quot;: {&quot;coordinates&quot;: [14.550321666666669, 35.828265], &quot;type&quot;: &quot;Point&quot;}, &quot;id&quot;: &quot;1156&quot;, &quot;properties&quot;: {&quot;__folium_color&quot;: &quot;#bcbd22&quot;, &quot;index&quot;: 6188, &quot;week&quot;: &quot;2022-08-15&quot;}, &quot;type&quot;: &quot;Feature&quot;}, {&quot;bbox&quot;: [14.550315, 35.828221666666664, 14.550315, 35.828221666666664], &quot;geometry&quot;: {&quot;coordinates&quot;: [14.550315, 35.828221666666664], &quot;type&quot;: &quot;Point&quot;}, &quot;id&quot;: &quot;1157&quot;, &quot;properties&quot;: {&quot;__folium_color&quot;: &quot;#bcbd22&quot;, &quot;index&quot;: 6189, &quot;week&quot;: &quot;2022-08-15&quot;}, &quot;type&quot;: &quot;Feature&quot;}, {&quot;bbox&quot;: [14.5503, 35.828205, 14.5503, 35.828205], &quot;geometry&quot;: {&quot;coordinates&quot;: [14.5503, 35.828205], &quot;type&quot;: &quot;Point&quot;}, &quot;id&quot;: &quot;1158&quot;, &quot;properties&quot;: {&quot;__folium_color&quot;: &quot;#bcbd22&quot;, &quot;index&quot;: 6190, &quot;week&quot;: &quot;2022-08-15&quot;}, &quot;type&quot;: &quot;Feature&quot;}, {&quot;bbox&quot;: [14.550346666666666, 35.828266666666664, 14.550346666666666, 35.828266666666664], &quot;geometry&quot;: {&quot;coordinates&quot;: [14.550346666666666, 35.828266666666664], &quot;type&quot;: &quot;Point&quot;}, &quot;id&quot;: &quot;1159&quot;, &quot;properties&quot;: {&quot;__folium_color&quot;: &quot;#bcbd22&quot;, &quot;index&quot;: 6191, &quot;week&quot;: &quot;2022-08-15&quot;}, &quot;type&quot;: &quot;Feature&quot;}, {&quot;bbox&quot;: [14.550336666666666, 35.828215, 14.550336666666666, 35.828215], &quot;geometry&quot;: {&quot;coordinates&quot;: [14.550336666666666, 35.828215], &quot;type&quot;: &quot;Point&quot;}, &quot;id&quot;: &quot;1160&quot;, &quot;properties&quot;: {&quot;__folium_color&quot;: &quot;#bcbd22&quot;, &quot;index&quot;: 6192, &quot;week&quot;: &quot;2022-08-15&quot;}, &quot;type&quot;: &quot;Feature&quot;}, {&quot;bbox&quot;: [14.550316666666667, 35.828125, 14.550316666666667, 35.828125], &quot;geometry&quot;: {&quot;coordinates&quot;: [14.550316666666667, 35.828125], &quot;type&quot;: &quot;Point&quot;}, &quot;id&quot;: &quot;1161&quot;, &quot;properties&quot;: {&quot;__folium_color&quot;: &quot;#bcbd22&quot;, &quot;index&quot;: 6193, &quot;week&quot;: &quot;2022-08-15&quot;}, &quot;type&quot;: &quot;Feature&quot;}, {&quot;bbox&quot;: [14.550323333333331, 35.828205, 14.550323333333331, 35.828205], &quot;geometry&quot;: {&quot;coordinates&quot;: [14.550323333333331, 35.828205], &quot;type&quot;: &quot;Point&quot;}, &quot;id&quot;: &quot;1162&quot;, &quot;properties&quot;: {&quot;__folium_color&quot;: &quot;#bcbd22&quot;, &quot;index&quot;: 6194, &quot;week&quot;: &quot;2022-08-15&quot;}, &quot;type&quot;: &quot;Feature&quot;}, {&quot;bbox&quot;: [14.550483333333334, 35.828015, 14.550483333333334, 35.828015], &quot;geometry&quot;: {&quot;coordinates&quot;: [14.550483333333334, 35.828015], &quot;type&quot;: &quot;Point&quot;}, &quot;id&quot;: &quot;1163&quot;, &quot;properties&quot;: {&quot;__folium_color&quot;: &quot;#bcbd22&quot;, &quot;index&quot;: 6195, &quot;week&quot;: &quot;2022-08-15&quot;}, &quot;type&quot;: &quot;Feature&quot;}, {&quot;bbox&quot;: [14.550621666666666, 35.827641666666665, 14.550621666666666, 35.827641666666665], &quot;geometry&quot;: {&quot;coordinates&quot;: [14.550621666666666, 35.827641666666665], &quot;type&quot;: &quot;Point&quot;}, &quot;id&quot;: &quot;1164&quot;, &quot;properties&quot;: {&quot;__folium_color&quot;: &quot;#bcbd22&quot;, &quot;index&quot;: 6196, &quot;week&quot;: &quot;2022-08-15&quot;}, &quot;type&quot;: &quot;Feature&quot;}, {&quot;bbox&quot;: [14.550283333333333, 35.828178333333334, 14.550283333333333, 35.828178333333334], &quot;geometry&quot;: {&quot;coordinates&quot;: [14.550283333333333, 35.828178333333334], &quot;type&quot;: &quot;Point&quot;}, &quot;id&quot;: &quot;1165&quot;, &quot;properties&quot;: {&quot;__folium_color&quot;: &quot;#bcbd22&quot;, &quot;index&quot;: 6197, &quot;week&quot;: &quot;2022-08-15&quot;}, &quot;type&quot;: &quot;Feature&quot;}, {&quot;bbox&quot;: [14.55028, 35.82823333333333, 14.55028, 35.82823333333333], &quot;geometry&quot;: {&quot;coordinates&quot;: [14.55028, 35.82823333333333], &quot;type&quot;: &quot;Point&quot;}, &quot;id&quot;: &quot;1166&quot;, &quot;properties&quot;: {&quot;__folium_color&quot;: &quot;#bcbd22&quot;, &quot;index&quot;: 6198, &quot;week&quot;: &quot;2022-08-15&quot;}, &quot;type&quot;: &quot;Feature&quot;}, {&quot;bbox&quot;: [14.550291666666666, 35.82819166666667, 14.550291666666666, 35.82819166666667], &quot;geometry&quot;: {&quot;coordinates&quot;: [14.550291666666666, 35.82819166666667], &quot;type&quot;: &quot;Point&quot;}, &quot;id&quot;: &quot;1167&quot;, &quot;properties&quot;: {&quot;__folium_color&quot;: &quot;#bcbd22&quot;, &quot;index&quot;: 6199, &quot;week&quot;: &quot;2022-08-15&quot;}, &quot;type&quot;: &quot;Feature&quot;}, {&quot;bbox&quot;: [14.550301666666666, 35.828215, 14.550301666666666, 35.828215], &quot;geometry&quot;: {&quot;coordinates&quot;: [14.550301666666666, 35.828215], &quot;type&quot;: &quot;Point&quot;}, &quot;id&quot;: &quot;1168&quot;, &quot;properties&quot;: {&quot;__folium_color&quot;: &quot;#bcbd22&quot;, &quot;index&quot;: 6200, &quot;week&quot;: &quot;2022-08-15&quot;}, &quot;type&quot;: &quot;Feature&quot;}, {&quot;bbox&quot;: [14.550311666666667, 35.828223333333334, 14.550311666666667, 35.828223333333334], &quot;geometry&quot;: {&quot;coordinates&quot;: [14.550311666666667, 35.828223333333334], &quot;type&quot;: &quot;Point&quot;}, &quot;id&quot;: &quot;1169&quot;, &quot;properties&quot;: {&quot;__folium_color&quot;: &quot;#bcbd22&quot;, &quot;index&quot;: 6201, &quot;week&quot;: &quot;2022-08-15&quot;}, &quot;type&quot;: &quot;Feature&quot;}, {&quot;bbox&quot;: [14.550306666666666, 35.828208333333336, 14.550306666666666, 35.828208333333336], &quot;geometry&quot;: {&quot;coordinates&quot;: [14.550306666666666, 35.828208333333336], &quot;type&quot;: &quot;Point&quot;}, &quot;id&quot;: &quot;1170&quot;, &quot;properties&quot;: {&quot;__folium_color&quot;: &quot;#bcbd22&quot;, &quot;index&quot;: 6202, &quot;week&quot;: &quot;2022-08-15&quot;}, &quot;type&quot;: &quot;Feature&quot;}, {&quot;bbox&quot;: [14.550308333333334, 35.828176666666664, 14.550308333333334, 35.828176666666664], &quot;geometry&quot;: {&quot;coordinates&quot;: [14.550308333333334, 35.828176666666664], &quot;type&quot;: &quot;Point&quot;}, &quot;id&quot;: &quot;1171&quot;, &quot;properties&quot;: {&quot;__folium_color&quot;: &quot;#bcbd22&quot;, &quot;index&quot;: 6203, &quot;week&quot;: &quot;2022-08-15&quot;}, &quot;type&quot;: &quot;Feature&quot;}, {&quot;bbox&quot;: [14.55033, 35.82820666666667, 14.55033, 35.82820666666667], &quot;geometry&quot;: {&quot;coordinates&quot;: [14.55033, 35.82820666666667], &quot;type&quot;: &quot;Point&quot;}, &quot;id&quot;: &quot;1172&quot;, &quot;properties&quot;: {&quot;__folium_color&quot;: &quot;#bcbd22&quot;, &quot;index&quot;: 6204, &quot;week&quot;: &quot;2022-08-15&quot;}, &quot;type&quot;: &quot;Feature&quot;}, {&quot;bbox&quot;: [14.550311666666667, 35.828226666666666, 14.550311666666667, 35.828226666666666], &quot;geometry&quot;: {&quot;coordinates&quot;: [14.550311666666667, 35.828226666666666], &quot;type&quot;: &quot;Point&quot;}, &quot;id&quot;: &quot;1173&quot;, &quot;properties&quot;: {&quot;__folium_color&quot;: &quot;#bcbd22&quot;, &quot;index&quot;: 6205, &quot;week&quot;: &quot;2022-08-15&quot;}, &quot;type&quot;: &quot;Feature&quot;}, {&quot;bbox&quot;: [14.550225, 35.828138333333335, 14.550225, 35.828138333333335], &quot;geometry&quot;: {&quot;coordinates&quot;: [14.550225, 35.828138333333335], &quot;type&quot;: &quot;Point&quot;}, &quot;id&quot;: &quot;1174&quot;, &quot;properties&quot;: {&quot;__folium_color&quot;: &quot;#bcbd22&quot;, &quot;index&quot;: 6206, &quot;week&quot;: &quot;2022-08-15&quot;}, &quot;type&quot;: &quot;Feature&quot;}, {&quot;bbox&quot;: [14.550176666666667, 35.82809666666667, 14.550176666666667, 35.82809666666667], &quot;geometry&quot;: {&quot;coordinates&quot;: [14.550176666666667, 35.82809666666667], &quot;type&quot;: &quot;Point&quot;}, &quot;id&quot;: &quot;1175&quot;, &quot;properties&quot;: {&quot;__folium_color&quot;: &quot;#bcbd22&quot;, &quot;index&quot;: 6207, &quot;week&quot;: &quot;2022-08-15&quot;}, &quot;type&quot;: &quot;Feature&quot;}, {&quot;bbox&quot;: [14.550315, 35.82818666666667, 14.550315, 35.82818666666667], &quot;geometry&quot;: {&quot;coordinates&quot;: [14.550315, 35.82818666666667], &quot;type&quot;: &quot;Point&quot;}, &quot;id&quot;: &quot;1176&quot;, &quot;properties&quot;: {&quot;__folium_color&quot;: &quot;#bcbd22&quot;, &quot;index&quot;: 6208, &quot;week&quot;: &quot;2022-08-15&quot;}, &quot;type&quot;: &quot;Feature&quot;}, {&quot;bbox&quot;: [14.550295, 35.82814, 14.550295, 35.82814], &quot;geometry&quot;: {&quot;coordinates&quot;: [14.550295, 35.82814], &quot;type&quot;: &quot;Point&quot;}, &quot;id&quot;: &quot;1177&quot;, &quot;properties&quot;: {&quot;__folium_color&quot;: &quot;#bcbd22&quot;, &quot;index&quot;: 6209, &quot;week&quot;: &quot;2022-08-15&quot;}, &quot;type&quot;: &quot;Feature&quot;}, {&quot;bbox&quot;: [14.550296666666666, 35.82819166666667, 14.550296666666666, 35.82819166666667], &quot;geometry&quot;: {&quot;coordinates&quot;: [14.550296666666666, 35.82819166666667], &quot;type&quot;: &quot;Point&quot;}, &quot;id&quot;: &quot;1178&quot;, &quot;properties&quot;: {&quot;__folium_color&quot;: &quot;#bcbd22&quot;, &quot;index&quot;: 6210, &quot;week&quot;: &quot;2022-08-15&quot;}, &quot;type&quot;: &quot;Feature&quot;}, {&quot;bbox&quot;: [14.550291666666666, 35.828208333333336, 14.550291666666666, 35.828208333333336], &quot;geometry&quot;: {&quot;coordinates&quot;: [14.550291666666666, 35.828208333333336], &quot;type&quot;: &quot;Point&quot;}, &quot;id&quot;: &quot;1179&quot;, &quot;properties&quot;: {&quot;__folium_color&quot;: &quot;#bcbd22&quot;, &quot;index&quot;: 6211, &quot;week&quot;: &quot;2022-08-15&quot;}, &quot;type&quot;: &quot;Feature&quot;}, {&quot;bbox&quot;: [14.55029, 35.828205, 14.55029, 35.828205], &quot;geometry&quot;: {&quot;coordinates&quot;: [14.55029, 35.828205], &quot;type&quot;: &quot;Point&quot;}, &quot;id&quot;: &quot;1180&quot;, &quot;properties&quot;: {&quot;__folium_color&quot;: &quot;#bcbd22&quot;, &quot;index&quot;: 6212, &quot;week&quot;: &quot;2022-08-15&quot;}, &quot;type&quot;: &quot;Feature&quot;}, {&quot;bbox&quot;: [14.5503, 35.82823, 14.5503, 35.82823], &quot;geometry&quot;: {&quot;coordinates&quot;: [14.5503, 35.82823], &quot;type&quot;: &quot;Point&quot;}, &quot;id&quot;: &quot;1181&quot;, &quot;properties&quot;: {&quot;__folium_color&quot;: &quot;#bcbd22&quot;, &quot;index&quot;: 6213, &quot;week&quot;: &quot;2022-08-15&quot;}, &quot;type&quot;: &quot;Feature&quot;}, {&quot;bbox&quot;: [14.550283333333333, 35.828253333333336, 14.550283333333333, 35.828253333333336], &quot;geometry&quot;: {&quot;coordinates&quot;: [14.550283333333333, 35.828253333333336], &quot;type&quot;: &quot;Point&quot;}, &quot;id&quot;: &quot;1182&quot;, &quot;properties&quot;: {&quot;__folium_color&quot;: &quot;#bcbd22&quot;, &quot;index&quot;: 6214, &quot;week&quot;: &quot;2022-08-15&quot;}, &quot;type&quot;: &quot;Feature&quot;}, {&quot;bbox&quot;: [14.550321666666669, 35.82824166666666, 14.550321666666669, 35.82824166666666], &quot;geometry&quot;: {&quot;coordinates&quot;: [14.550321666666669, 35.82824166666666], &quot;type&quot;: &quot;Point&quot;}, &quot;id&quot;: &quot;1183&quot;, &quot;properties&quot;: {&quot;__folium_color&quot;: &quot;#bcbd22&quot;, &quot;index&quot;: 6215, &quot;week&quot;: &quot;2022-08-15&quot;}, &quot;type&quot;: &quot;Feature&quot;}, {&quot;bbox&quot;: [14.550291666666666, 35.828225, 14.550291666666666, 35.828225], &quot;geometry&quot;: {&quot;coordinates&quot;: [14.550291666666666, 35.828225], &quot;type&quot;: &quot;Point&quot;}, &quot;id&quot;: &quot;1184&quot;, &quot;properties&quot;: {&quot;__folium_color&quot;: &quot;#bcbd22&quot;, &quot;index&quot;: 6216, &quot;week&quot;: &quot;2022-08-15&quot;}, &quot;type&quot;: &quot;Feature&quot;}, {&quot;bbox&quot;: [14.550273333333331, 35.82824, 14.550273333333331, 35.82824], &quot;geometry&quot;: {&quot;coordinates&quot;: [14.550273333333331, 35.82824], &quot;type&quot;: &quot;Point&quot;}, &quot;id&quot;: &quot;1185&quot;, &quot;properties&quot;: {&quot;__folium_color&quot;: &quot;#bcbd22&quot;, &quot;index&quot;: 6217, &quot;week&quot;: &quot;2022-08-15&quot;}, &quot;type&quot;: &quot;Feature&quot;}, {&quot;bbox&quot;: [14.550303333333334, 35.82821333333333, 14.550303333333334, 35.82821333333333], &quot;geometry&quot;: {&quot;coordinates&quot;: [14.550303333333334, 35.82821333333333], &quot;type&quot;: &quot;Point&quot;}, &quot;id&quot;: &quot;1186&quot;, &quot;properties&quot;: {&quot;__folium_color&quot;: &quot;#bcbd22&quot;, &quot;index&quot;: 6218, &quot;week&quot;: &quot;2022-08-15&quot;}, &quot;type&quot;: &quot;Feature&quot;}, {&quot;bbox&quot;: [14.550291666666666, 35.82823, 14.550291666666666, 35.82823], &quot;geometry&quot;: {&quot;coordinates&quot;: [14.550291666666666, 35.82823], &quot;type&quot;: &quot;Point&quot;}, &quot;id&quot;: &quot;1187&quot;, &quot;properties&quot;: {&quot;__folium_color&quot;: &quot;#bcbd22&quot;, &quot;index&quot;: 6219, &quot;week&quot;: &quot;2022-08-15&quot;}, &quot;type&quot;: &quot;Feature&quot;}, {&quot;bbox&quot;: [14.550323333333331, 35.828226666666666, 14.550323333333331, 35.828226666666666], &quot;geometry&quot;: {&quot;coordinates&quot;: [14.550323333333331, 35.828226666666666], &quot;type&quot;: &quot;Point&quot;}, &quot;id&quot;: &quot;1188&quot;, &quot;properties&quot;: {&quot;__folium_color&quot;: &quot;#bcbd22&quot;, &quot;index&quot;: 6220, &quot;week&quot;: &quot;2022-08-15&quot;}, &quot;type&quot;: &quot;Feature&quot;}, {&quot;bbox&quot;: [14.550291666666666, 35.82825666666667, 14.550291666666666, 35.82825666666667], &quot;geometry&quot;: {&quot;coordinates&quot;: [14.550291666666666, 35.82825666666667], &quot;type&quot;: &quot;Point&quot;}, &quot;id&quot;: &quot;1189&quot;, &quot;properties&quot;: {&quot;__folium_color&quot;: &quot;#bcbd22&quot;, &quot;index&quot;: 6221, &quot;week&quot;: &quot;2022-08-15&quot;}, &quot;type&quot;: &quot;Feature&quot;}, {&quot;bbox&quot;: [14.550301666666666, 35.82822, 14.550301666666666, 35.82822], &quot;geometry&quot;: {&quot;coordinates&quot;: [14.550301666666666, 35.82822], &quot;type&quot;: &quot;Point&quot;}, &quot;id&quot;: &quot;1190&quot;, &quot;properties&quot;: {&quot;__folium_color&quot;: &quot;#bcbd22&quot;, &quot;index&quot;: 6222, &quot;week&quot;: &quot;2022-08-15&quot;}, &quot;type&quot;: &quot;Feature&quot;}, {&quot;bbox&quot;: [14.550276666666669, 35.82820666666667, 14.550276666666669, 35.82820666666667], &quot;geometry&quot;: {&quot;coordinates&quot;: [14.550276666666669, 35.82820666666667], &quot;type&quot;: &quot;Point&quot;}, &quot;id&quot;: &quot;1191&quot;, &quot;properties&quot;: {&quot;__folium_color&quot;: &quot;#bcbd22&quot;, &quot;index&quot;: 6223, &quot;week&quot;: &quot;2022-08-15&quot;}, &quot;type&quot;: &quot;Feature&quot;}, {&quot;bbox&quot;: [14.55029, 35.82819833333333, 14.55029, 35.82819833333333], &quot;geometry&quot;: {&quot;coordinates&quot;: [14.55029, 35.82819833333333], &quot;type&quot;: &quot;Point&quot;}, &quot;id&quot;: &quot;1192&quot;, &quot;properties&quot;: {&quot;__folium_color&quot;: &quot;#bcbd22&quot;, &quot;index&quot;: 6224, &quot;week&quot;: &quot;2022-08-15&quot;}, &quot;type&quot;: &quot;Feature&quot;}, {&quot;bbox&quot;: [14.550291666666666, 35.828201666666665, 14.550291666666666, 35.828201666666665], &quot;geometry&quot;: {&quot;coordinates&quot;: [14.550291666666666, 35.828201666666665], &quot;type&quot;: &quot;Point&quot;}, &quot;id&quot;: &quot;1193&quot;, &quot;properties&quot;: {&quot;__folium_color&quot;: &quot;#bcbd22&quot;, &quot;index&quot;: 6225, &quot;week&quot;: &quot;2022-08-15&quot;}, &quot;type&quot;: &quot;Feature&quot;}, {&quot;bbox&quot;: [14.550273333333331, 35.82819166666667, 14.550273333333331, 35.82819166666667], &quot;geometry&quot;: {&quot;coordinates&quot;: [14.550273333333331, 35.82819166666667], &quot;type&quot;: &quot;Point&quot;}, &quot;id&quot;: &quot;1194&quot;, &quot;properties&quot;: {&quot;__folium_color&quot;: &quot;#bcbd22&quot;, &quot;index&quot;: 6226, &quot;week&quot;: &quot;2022-08-15&quot;}, &quot;type&quot;: &quot;Feature&quot;}, {&quot;bbox&quot;: [14.550263333333334, 35.82826166666667, 14.550263333333334, 35.82826166666667], &quot;geometry&quot;: {&quot;coordinates&quot;: [14.550263333333334, 35.82826166666667], &quot;type&quot;: &quot;Point&quot;}, &quot;id&quot;: &quot;1195&quot;, &quot;properties&quot;: {&quot;__folium_color&quot;: &quot;#bcbd22&quot;, &quot;index&quot;: 6227, &quot;week&quot;: &quot;2022-08-15&quot;}, &quot;type&quot;: &quot;Feature&quot;}, {&quot;bbox&quot;: [14.550288333333333, 35.828248333333335, 14.550288333333333, 35.828248333333335], &quot;geometry&quot;: {&quot;coordinates&quot;: [14.550288333333333, 35.828248333333335], &quot;type&quot;: &quot;Point&quot;}, &quot;id&quot;: &quot;1196&quot;, &quot;properties&quot;: {&quot;__folium_color&quot;: &quot;#bcbd22&quot;, &quot;index&quot;: 6228, &quot;week&quot;: &quot;2022-08-15&quot;}, &quot;type&quot;: &quot;Feature&quot;}, {&quot;bbox&quot;: [14.550293333333334, 35.82821333333333, 14.550293333333334, 35.82821333333333], &quot;geometry&quot;: {&quot;coordinates&quot;: [14.550293333333334, 35.82821333333333], &quot;type&quot;: &quot;Point&quot;}, &quot;id&quot;: &quot;1197&quot;, &quot;properties&quot;: {&quot;__folium_color&quot;: &quot;#bcbd22&quot;, &quot;index&quot;: 6229, &quot;week&quot;: &quot;2022-08-15&quot;}, &quot;type&quot;: &quot;Feature&quot;}, {&quot;bbox&quot;: [14.550295, 35.82819333333333, 14.550295, 35.82819333333333], &quot;geometry&quot;: {&quot;coordinates&quot;: [14.550295, 35.82819333333333], &quot;type&quot;: &quot;Point&quot;}, &quot;id&quot;: &quot;1198&quot;, &quot;properties&quot;: {&quot;__folium_color&quot;: &quot;#bcbd22&quot;, &quot;index&quot;: 6230, &quot;week&quot;: &quot;2022-08-15&quot;}, &quot;type&quot;: &quot;Feature&quot;}, {&quot;bbox&quot;: [14.550363333333332, 35.82824, 14.550363333333332, 35.82824], &quot;geometry&quot;: {&quot;coordinates&quot;: [14.550363333333332, 35.82824], &quot;type&quot;: &quot;Point&quot;}, &quot;id&quot;: &quot;1199&quot;, &quot;properties&quot;: {&quot;__folium_color&quot;: &quot;#bcbd22&quot;, &quot;index&quot;: 6231, &quot;week&quot;: &quot;2022-08-15&quot;}, &quot;type&quot;: &quot;Feature&quot;}, {&quot;bbox&quot;: [14.550291666666666, 35.828215, 14.550291666666666, 35.828215], &quot;geometry&quot;: {&quot;coordinates&quot;: [14.550291666666666, 35.828215], &quot;type&quot;: &quot;Point&quot;}, &quot;id&quot;: &quot;1200&quot;, &quot;properties&quot;: {&quot;__folium_color&quot;: &quot;#bcbd22&quot;, &quot;index&quot;: 6232, &quot;week&quot;: &quot;2022-08-15&quot;}, &quot;type&quot;: &quot;Feature&quot;}, {&quot;bbox&quot;: [14.550283333333333, 35.82819166666667, 14.550283333333333, 35.82819166666667], &quot;geometry&quot;: {&quot;coordinates&quot;: [14.550283333333333, 35.82819166666667], &quot;type&quot;: &quot;Point&quot;}, &quot;id&quot;: &quot;1201&quot;, &quot;properties&quot;: {&quot;__folium_color&quot;: &quot;#bcbd22&quot;, &quot;index&quot;: 6233, &quot;week&quot;: &quot;2022-08-15&quot;}, &quot;type&quot;: &quot;Feature&quot;}, {&quot;bbox&quot;: [14.550288333333333, 35.82819333333333, 14.550288333333333, 35.82819333333333], &quot;geometry&quot;: {&quot;coordinates&quot;: [14.550288333333333, 35.82819333333333], &quot;type&quot;: &quot;Point&quot;}, &quot;id&quot;: &quot;1202&quot;, &quot;properties&quot;: {&quot;__folium_color&quot;: &quot;#bcbd22&quot;, &quot;index&quot;: 6234, &quot;week&quot;: &quot;2022-08-15&quot;}, &quot;type&quot;: &quot;Feature&quot;}, {&quot;bbox&quot;: [14.550301666666666, 35.82819666666666, 14.550301666666666, 35.82819666666666], &quot;geometry&quot;: {&quot;coordinates&quot;: [14.550301666666666, 35.82819666666666], &quot;type&quot;: &quot;Point&quot;}, &quot;id&quot;: &quot;1203&quot;, &quot;properties&quot;: {&quot;__folium_color&quot;: &quot;#bcbd22&quot;, &quot;index&quot;: 6235, &quot;week&quot;: &quot;2022-08-15&quot;}, &quot;type&quot;: &quot;Feature&quot;}, {&quot;bbox&quot;: [14.550283333333333, 35.82816666666667, 14.550283333333333, 35.82816666666667], &quot;geometry&quot;: {&quot;coordinates&quot;: [14.550283333333333, 35.82816666666667], &quot;type&quot;: &quot;Point&quot;}, &quot;id&quot;: &quot;1204&quot;, &quot;properties&quot;: {&quot;__folium_color&quot;: &quot;#bcbd22&quot;, &quot;index&quot;: 6236, &quot;week&quot;: &quot;2022-08-15&quot;}, &quot;type&quot;: &quot;Feature&quot;}, {&quot;bbox&quot;: [14.55027, 35.82820666666667, 14.55027, 35.82820666666667], &quot;geometry&quot;: {&quot;coordinates&quot;: [14.55027, 35.82820666666667], &quot;type&quot;: &quot;Point&quot;}, &quot;id&quot;: &quot;1205&quot;, &quot;properties&quot;: {&quot;__folium_color&quot;: &quot;#bcbd22&quot;, &quot;index&quot;: 6237, &quot;week&quot;: &quot;2022-08-15&quot;}, &quot;type&quot;: &quot;Feature&quot;}, {&quot;bbox&quot;: [14.550305, 35.82823166666667, 14.550305, 35.82823166666667], &quot;geometry&quot;: {&quot;coordinates&quot;: [14.550305, 35.82823166666667], &quot;type&quot;: &quot;Point&quot;}, &quot;id&quot;: &quot;1206&quot;, &quot;properties&quot;: {&quot;__folium_color&quot;: &quot;#bcbd22&quot;, &quot;index&quot;: 6238, &quot;week&quot;: &quot;2022-08-15&quot;}, &quot;type&quot;: &quot;Feature&quot;}, {&quot;bbox&quot;: [14.550268333333332, 35.82824, 14.550268333333332, 35.82824], &quot;geometry&quot;: {&quot;coordinates&quot;: [14.550268333333332, 35.82824], &quot;type&quot;: &quot;Point&quot;}, &quot;id&quot;: &quot;1207&quot;, &quot;properties&quot;: {&quot;__folium_color&quot;: &quot;#bcbd22&quot;, &quot;index&quot;: 6239, &quot;week&quot;: &quot;2022-08-15&quot;}, &quot;type&quot;: &quot;Feature&quot;}, {&quot;bbox&quot;: [14.55028, 35.828246666666665, 14.55028, 35.828246666666665], &quot;geometry&quot;: {&quot;coordinates&quot;: [14.55028, 35.828246666666665], &quot;type&quot;: &quot;Point&quot;}, &quot;id&quot;: &quot;1208&quot;, &quot;properties&quot;: {&quot;__folium_color&quot;: &quot;#bcbd22&quot;, &quot;index&quot;: 6240, &quot;week&quot;: &quot;2022-08-15&quot;}, &quot;type&quot;: &quot;Feature&quot;}, {&quot;bbox&quot;: [14.550285, 35.828228333333335, 14.550285, 35.828228333333335], &quot;geometry&quot;: {&quot;coordinates&quot;: [14.550285, 35.828228333333335], &quot;type&quot;: &quot;Point&quot;}, &quot;id&quot;: &quot;1209&quot;, &quot;properties&quot;: {&quot;__folium_color&quot;: &quot;#bcbd22&quot;, &quot;index&quot;: 6241, &quot;week&quot;: &quot;2022-08-15&quot;}, &quot;type&quot;: &quot;Feature&quot;}, {&quot;bbox&quot;: [14.550291666666666, 35.82821833333333, 14.550291666666666, 35.82821833333333], &quot;geometry&quot;: {&quot;coordinates&quot;: [14.550291666666666, 35.82821833333333], &quot;type&quot;: &quot;Point&quot;}, &quot;id&quot;: &quot;1210&quot;, &quot;properties&quot;: {&quot;__folium_color&quot;: &quot;#bcbd22&quot;, &quot;index&quot;: 6242, &quot;week&quot;: &quot;2022-08-15&quot;}, &quot;type&quot;: &quot;Feature&quot;}, {&quot;bbox&quot;: [14.55028, 35.82819166666667, 14.55028, 35.82819166666667], &quot;geometry&quot;: {&quot;coordinates&quot;: [14.55028, 35.82819166666667], &quot;type&quot;: &quot;Point&quot;}, &quot;id&quot;: &quot;1211&quot;, &quot;properties&quot;: {&quot;__folium_color&quot;: &quot;#bcbd22&quot;, &quot;index&quot;: 6243, &quot;week&quot;: &quot;2022-08-15&quot;}, &quot;type&quot;: &quot;Feature&quot;}, {&quot;bbox&quot;: [14.550336666666666, 35.828185, 14.550336666666666, 35.828185], &quot;geometry&quot;: {&quot;coordinates&quot;: [14.550336666666666, 35.828185], &quot;type&quot;: &quot;Point&quot;}, &quot;id&quot;: &quot;1212&quot;, &quot;properties&quot;: {&quot;__folium_color&quot;: &quot;#bcbd22&quot;, &quot;index&quot;: 6244, &quot;week&quot;: &quot;2022-08-15&quot;}, &quot;type&quot;: &quot;Feature&quot;}, {&quot;bbox&quot;: [14.550278333333331, 35.82819, 14.550278333333331, 35.82819], &quot;geometry&quot;: {&quot;coordinates&quot;: [14.550278333333331, 35.82819], &quot;type&quot;: &quot;Point&quot;}, &quot;id&quot;: &quot;1213&quot;, &quot;properties&quot;: {&quot;__folium_color&quot;: &quot;#bcbd22&quot;, &quot;index&quot;: 6245, &quot;week&quot;: &quot;2022-08-15&quot;}, &quot;type&quot;: &quot;Feature&quot;}, {&quot;bbox&quot;: [14.550291666666666, 35.828158333333334, 14.550291666666666, 35.828158333333334], &quot;geometry&quot;: {&quot;coordinates&quot;: [14.550291666666666, 35.828158333333334], &quot;type&quot;: &quot;Point&quot;}, &quot;id&quot;: &quot;1214&quot;, &quot;properties&quot;: {&quot;__folium_color&quot;: &quot;#bcbd22&quot;, &quot;index&quot;: 6246, &quot;week&quot;: &quot;2022-08-15&quot;}, &quot;type&quot;: &quot;Feature&quot;}, {&quot;bbox&quot;: [14.550291666666666, 35.828201666666665, 14.550291666666666, 35.828201666666665], &quot;geometry&quot;: {&quot;coordinates&quot;: [14.550291666666666, 35.828201666666665], &quot;type&quot;: &quot;Point&quot;}, &quot;id&quot;: &quot;1215&quot;, &quot;properties&quot;: {&quot;__folium_color&quot;: &quot;#bcbd22&quot;, &quot;index&quot;: 6247, &quot;week&quot;: &quot;2022-08-15&quot;}, &quot;type&quot;: &quot;Feature&quot;}, {&quot;bbox&quot;: [14.550286666666668, 35.8282, 14.550286666666668, 35.8282], &quot;geometry&quot;: {&quot;coordinates&quot;: [14.550286666666668, 35.8282], &quot;type&quot;: &quot;Point&quot;}, &quot;id&quot;: &quot;1216&quot;, &quot;properties&quot;: {&quot;__folium_color&quot;: &quot;#bcbd22&quot;, &quot;index&quot;: 6248, &quot;week&quot;: &quot;2022-08-15&quot;}, &quot;type&quot;: &quot;Feature&quot;}, {&quot;bbox&quot;: [14.5503, 35.82819833333333, 14.5503, 35.82819833333333], &quot;geometry&quot;: {&quot;coordinates&quot;: [14.5503, 35.82819833333333], &quot;type&quot;: &quot;Point&quot;}, &quot;id&quot;: &quot;1217&quot;, &quot;properties&quot;: {&quot;__folium_color&quot;: &quot;#bcbd22&quot;, &quot;index&quot;: 6249, &quot;week&quot;: &quot;2022-08-15&quot;}, &quot;type&quot;: &quot;Feature&quot;}, {&quot;bbox&quot;: [14.550278333333331, 35.82816833333333, 14.550278333333331, 35.82816833333333], &quot;geometry&quot;: {&quot;coordinates&quot;: [14.550278333333331, 35.82816833333333], &quot;type&quot;: &quot;Point&quot;}, &quot;id&quot;: &quot;1218&quot;, &quot;properties&quot;: {&quot;__folium_color&quot;: &quot;#bcbd22&quot;, &quot;index&quot;: 6250, &quot;week&quot;: &quot;2022-08-15&quot;}, &quot;type&quot;: &quot;Feature&quot;}, {&quot;bbox&quot;: [14.550305, 35.828225, 14.550305, 35.828225], &quot;geometry&quot;: {&quot;coordinates&quot;: [14.550305, 35.828225], &quot;type&quot;: &quot;Point&quot;}, &quot;id&quot;: &quot;1219&quot;, &quot;properties&quot;: {&quot;__folium_color&quot;: &quot;#bcbd22&quot;, &quot;index&quot;: 6251, &quot;week&quot;: &quot;2022-08-15&quot;}, &quot;type&quot;: &quot;Feature&quot;}, {&quot;bbox&quot;: [14.55031, 35.82821333333333, 14.55031, 35.82821333333333], &quot;geometry&quot;: {&quot;coordinates&quot;: [14.55031, 35.82821333333333], &quot;type&quot;: &quot;Point&quot;}, &quot;id&quot;: &quot;1220&quot;, &quot;properties&quot;: {&quot;__folium_color&quot;: &quot;#bcbd22&quot;, &quot;index&quot;: 6252, &quot;week&quot;: &quot;2022-08-15&quot;}, &quot;type&quot;: &quot;Feature&quot;}, {&quot;bbox&quot;: [14.55031, 35.828203333333335, 14.55031, 35.828203333333335], &quot;geometry&quot;: {&quot;coordinates&quot;: [14.55031, 35.828203333333335], &quot;type&quot;: &quot;Point&quot;}, &quot;id&quot;: &quot;1221&quot;, &quot;properties&quot;: {&quot;__folium_color&quot;: &quot;#bcbd22&quot;, &quot;index&quot;: 6253, &quot;week&quot;: &quot;2022-08-15&quot;}, &quot;type&quot;: &quot;Feature&quot;}, {&quot;bbox&quot;: [14.5503, 35.828205, 14.5503, 35.828205], &quot;geometry&quot;: {&quot;coordinates&quot;: [14.5503, 35.828205], &quot;type&quot;: &quot;Point&quot;}, &quot;id&quot;: &quot;1222&quot;, &quot;properties&quot;: {&quot;__folium_color&quot;: &quot;#bcbd22&quot;, &quot;index&quot;: 6254, &quot;week&quot;: &quot;2022-08-15&quot;}, &quot;type&quot;: &quot;Feature&quot;}, {&quot;bbox&quot;: [14.550313333333332, 35.82821, 14.550313333333332, 35.82821], &quot;geometry&quot;: {&quot;coordinates&quot;: [14.550313333333332, 35.82821], &quot;type&quot;: &quot;Point&quot;}, &quot;id&quot;: &quot;1223&quot;, &quot;properties&quot;: {&quot;__folium_color&quot;: &quot;#bcbd22&quot;, &quot;index&quot;: 6255, &quot;week&quot;: &quot;2022-08-15&quot;}, &quot;type&quot;: &quot;Feature&quot;}, {&quot;bbox&quot;: [14.55031, 35.82819666666666, 14.55031, 35.82819666666666], &quot;geometry&quot;: {&quot;coordinates&quot;: [14.55031, 35.82819666666666], &quot;type&quot;: &quot;Point&quot;}, &quot;id&quot;: &quot;1224&quot;, &quot;properties&quot;: {&quot;__folium_color&quot;: &quot;#bcbd22&quot;, &quot;index&quot;: 6256, &quot;week&quot;: &quot;2022-08-15&quot;}, &quot;type&quot;: &quot;Feature&quot;}, {&quot;bbox&quot;: [14.55028, 35.82823833333333, 14.55028, 35.82823833333333], &quot;geometry&quot;: {&quot;coordinates&quot;: [14.55028, 35.82823833333333], &quot;type&quot;: &quot;Point&quot;}, &quot;id&quot;: &quot;1225&quot;, &quot;properties&quot;: {&quot;__folium_color&quot;: &quot;#bcbd22&quot;, &quot;index&quot;: 6257, &quot;week&quot;: &quot;2022-08-15&quot;}, &quot;type&quot;: &quot;Feature&quot;}, {&quot;bbox&quot;: [14.550316666666667, 35.828223333333334, 14.550316666666667, 35.828223333333334], &quot;geometry&quot;: {&quot;coordinates&quot;: [14.550316666666667, 35.828223333333334], &quot;type&quot;: &quot;Point&quot;}, &quot;id&quot;: &quot;1226&quot;, &quot;properties&quot;: {&quot;__folium_color&quot;: &quot;#bcbd22&quot;, &quot;index&quot;: 6258, &quot;week&quot;: &quot;2022-08-15&quot;}, &quot;type&quot;: &quot;Feature&quot;}, {&quot;bbox&quot;: [14.55031, 35.82823833333333, 14.55031, 35.82823833333333], &quot;geometry&quot;: {&quot;coordinates&quot;: [14.55031, 35.82823833333333], &quot;type&quot;: &quot;Point&quot;}, &quot;id&quot;: &quot;1227&quot;, &quot;properties&quot;: {&quot;__folium_color&quot;: &quot;#bcbd22&quot;, &quot;index&quot;: 6259, &quot;week&quot;: &quot;2022-08-15&quot;}, &quot;type&quot;: &quot;Feature&quot;}, {&quot;bbox&quot;: [14.550341666666666, 35.828246666666665, 14.550341666666666, 35.828246666666665], &quot;geometry&quot;: {&quot;coordinates&quot;: [14.550341666666666, 35.828246666666665], &quot;type&quot;: &quot;Point&quot;}, &quot;id&quot;: &quot;1228&quot;, &quot;properties&quot;: {&quot;__folium_color&quot;: &quot;#bcbd22&quot;, &quot;index&quot;: 6260, &quot;week&quot;: &quot;2022-08-15&quot;}, &quot;type&quot;: &quot;Feature&quot;}, {&quot;bbox&quot;: [14.550301666666666, 35.82819833333333, 14.550301666666666, 35.82819833333333], &quot;geometry&quot;: {&quot;coordinates&quot;: [14.550301666666666, 35.82819833333333], &quot;type&quot;: &quot;Point&quot;}, &quot;id&quot;: &quot;1229&quot;, &quot;properties&quot;: {&quot;__folium_color&quot;: &quot;#bcbd22&quot;, &quot;index&quot;: 6261, &quot;week&quot;: &quot;2022-08-15&quot;}, &quot;type&quot;: &quot;Feature&quot;}, {&quot;bbox&quot;: [14.550291666666666, 35.82821166666667, 14.550291666666666, 35.82821166666667], &quot;geometry&quot;: {&quot;coordinates&quot;: [14.550291666666666, 35.82821166666667], &quot;type&quot;: &quot;Point&quot;}, &quot;id&quot;: &quot;1230&quot;, &quot;properties&quot;: {&quot;__folium_color&quot;: &quot;#bcbd22&quot;, &quot;index&quot;: 6262, &quot;week&quot;: &quot;2022-08-15&quot;}, &quot;type&quot;: &quot;Feature&quot;}, {&quot;bbox&quot;: [14.550301666666666, 35.828221666666664, 14.550301666666666, 35.828221666666664], &quot;geometry&quot;: {&quot;coordinates&quot;: [14.550301666666666, 35.828221666666664], &quot;type&quot;: &quot;Point&quot;}, &quot;id&quot;: &quot;1231&quot;, &quot;properties&quot;: {&quot;__folium_color&quot;: &quot;#bcbd22&quot;, &quot;index&quot;: 6263, &quot;week&quot;: &quot;2022-08-15&quot;}, &quot;type&quot;: &quot;Feature&quot;}, {&quot;bbox&quot;: [14.550298333333334, 35.82822, 14.550298333333334, 35.82822], &quot;geometry&quot;: {&quot;coordinates&quot;: [14.550298333333334, 35.82822], &quot;type&quot;: &quot;Point&quot;}, &quot;id&quot;: &quot;1232&quot;, &quot;properties&quot;: {&quot;__folium_color&quot;: &quot;#bcbd22&quot;, &quot;index&quot;: 6264, &quot;week&quot;: &quot;2022-08-15&quot;}, &quot;type&quot;: &quot;Feature&quot;}, {&quot;bbox&quot;: [14.550316666666667, 35.828225, 14.550316666666667, 35.828225], &quot;geometry&quot;: {&quot;coordinates&quot;: [14.550316666666667, 35.828225], &quot;type&quot;: &quot;Point&quot;}, &quot;id&quot;: &quot;1233&quot;, &quot;properties&quot;: {&quot;__folium_color&quot;: &quot;#bcbd22&quot;, &quot;index&quot;: 6265, &quot;week&quot;: &quot;2022-08-15&quot;}, &quot;type&quot;: &quot;Feature&quot;}, {&quot;bbox&quot;: [14.55032, 35.82821333333333, 14.55032, 35.82821333333333], &quot;geometry&quot;: {&quot;coordinates&quot;: [14.55032, 35.82821333333333], &quot;type&quot;: &quot;Point&quot;}, &quot;id&quot;: &quot;1234&quot;, &quot;properties&quot;: {&quot;__folium_color&quot;: &quot;#bcbd22&quot;, &quot;index&quot;: 6266, &quot;week&quot;: &quot;2022-08-15&quot;}, &quot;type&quot;: &quot;Feature&quot;}, {&quot;bbox&quot;: [14.550213333333334, 35.828305, 14.550213333333334, 35.828305], &quot;geometry&quot;: {&quot;coordinates&quot;: [14.550213333333334, 35.828305], &quot;type&quot;: &quot;Point&quot;}, &quot;id&quot;: &quot;1235&quot;, &quot;properties&quot;: {&quot;__folium_color&quot;: &quot;#bcbd22&quot;, &quot;index&quot;: 6267, &quot;week&quot;: &quot;2022-08-15&quot;}, &quot;type&quot;: &quot;Feature&quot;}, {&quot;bbox&quot;: [14.550301666666666, 35.82823, 14.550301666666666, 35.82823], &quot;geometry&quot;: {&quot;coordinates&quot;: [14.550301666666666, 35.82823], &quot;type&quot;: &quot;Point&quot;}, &quot;id&quot;: &quot;1236&quot;, &quot;properties&quot;: {&quot;__folium_color&quot;: &quot;#bcbd22&quot;, &quot;index&quot;: 6268, &quot;week&quot;: &quot;2022-08-15&quot;}, &quot;type&quot;: &quot;Feature&quot;}, {&quot;bbox&quot;: [14.550243333333333, 35.82825166666667, 14.550243333333333, 35.82825166666667], &quot;geometry&quot;: {&quot;coordinates&quot;: [14.550243333333333, 35.82825166666667], &quot;type&quot;: &quot;Point&quot;}, &quot;id&quot;: &quot;1237&quot;, &quot;properties&quot;: {&quot;__folium_color&quot;: &quot;#bcbd22&quot;, &quot;index&quot;: 6269, &quot;week&quot;: &quot;2022-08-15&quot;}, &quot;type&quot;: &quot;Feature&quot;}, {&quot;bbox&quot;: [14.550285, 35.82820666666667, 14.550285, 35.82820666666667], &quot;geometry&quot;: {&quot;coordinates&quot;: [14.550285, 35.82820666666667], &quot;type&quot;: &quot;Point&quot;}, &quot;id&quot;: &quot;1238&quot;, &quot;properties&quot;: {&quot;__folium_color&quot;: &quot;#bcbd22&quot;, &quot;index&quot;: 6270, &quot;week&quot;: &quot;2022-08-15&quot;}, &quot;type&quot;: &quot;Feature&quot;}, {&quot;bbox&quot;: [14.550258333333334, 35.828253333333336, 14.550258333333334, 35.828253333333336], &quot;geometry&quot;: {&quot;coordinates&quot;: [14.550258333333334, 35.828253333333336], &quot;type&quot;: &quot;Point&quot;}, &quot;id&quot;: &quot;1239&quot;, &quot;properties&quot;: {&quot;__folium_color&quot;: &quot;#bcbd22&quot;, &quot;index&quot;: 6271, &quot;week&quot;: &quot;2022-08-15&quot;}, &quot;type&quot;: &quot;Feature&quot;}, {&quot;bbox&quot;: [14.550295, 35.82823666666667, 14.550295, 35.82823666666667], &quot;geometry&quot;: {&quot;coordinates&quot;: [14.550295, 35.82823666666667], &quot;type&quot;: &quot;Point&quot;}, &quot;id&quot;: &quot;1240&quot;, &quot;properties&quot;: {&quot;__folium_color&quot;: &quot;#bcbd22&quot;, &quot;index&quot;: 6272, &quot;week&quot;: &quot;2022-08-15&quot;}, &quot;type&quot;: &quot;Feature&quot;}, {&quot;bbox&quot;: [14.550331666666668, 35.82825166666667, 14.550331666666668, 35.82825166666667], &quot;geometry&quot;: {&quot;coordinates&quot;: [14.550331666666668, 35.82825166666667], &quot;type&quot;: &quot;Point&quot;}, &quot;id&quot;: &quot;1241&quot;, &quot;properties&quot;: {&quot;__folium_color&quot;: &quot;#bcbd22&quot;, &quot;index&quot;: 6273, &quot;week&quot;: &quot;2022-08-15&quot;}, &quot;type&quot;: &quot;Feature&quot;}, {&quot;bbox&quot;: [14.550331666666668, 35.82825666666667, 14.550331666666668, 35.82825666666667], &quot;geometry&quot;: {&quot;coordinates&quot;: [14.550331666666668, 35.82825666666667], &quot;type&quot;: &quot;Point&quot;}, &quot;id&quot;: &quot;1242&quot;, &quot;properties&quot;: {&quot;__folium_color&quot;: &quot;#bcbd22&quot;, &quot;index&quot;: 6274, &quot;week&quot;: &quot;2022-08-15&quot;}, &quot;type&quot;: &quot;Feature&quot;}, {&quot;bbox&quot;: [14.55033, 35.82819833333333, 14.55033, 35.82819833333333], &quot;geometry&quot;: {&quot;coordinates&quot;: [14.55033, 35.82819833333333], &quot;type&quot;: &quot;Point&quot;}, &quot;id&quot;: &quot;1243&quot;, &quot;properties&quot;: {&quot;__folium_color&quot;: &quot;#bcbd22&quot;, &quot;index&quot;: 6275, &quot;week&quot;: &quot;2022-08-15&quot;}, &quot;type&quot;: &quot;Feature&quot;}, {&quot;bbox&quot;: [14.550311666666667, 35.82817333333333, 14.550311666666667, 35.82817333333333], &quot;geometry&quot;: {&quot;coordinates&quot;: [14.550311666666667, 35.82817333333333], &quot;type&quot;: &quot;Point&quot;}, &quot;id&quot;: &quot;1244&quot;, &quot;properties&quot;: {&quot;__folium_color&quot;: &quot;#bcbd22&quot;, &quot;index&quot;: 6276, &quot;week&quot;: &quot;2022-08-15&quot;}, &quot;type&quot;: &quot;Feature&quot;}, {&quot;bbox&quot;: [14.55028, 35.828223333333334, 14.55028, 35.828223333333334], &quot;geometry&quot;: {&quot;coordinates&quot;: [14.55028, 35.828223333333334], &quot;type&quot;: &quot;Point&quot;}, &quot;id&quot;: &quot;1245&quot;, &quot;properties&quot;: {&quot;__folium_color&quot;: &quot;#bcbd22&quot;, &quot;index&quot;: 6277, &quot;week&quot;: &quot;2022-08-15&quot;}, &quot;type&quot;: &quot;Feature&quot;}, {&quot;bbox&quot;: [14.550323333333331, 35.82823, 14.550323333333331, 35.82823], &quot;geometry&quot;: {&quot;coordinates&quot;: [14.550323333333331, 35.82823], &quot;type&quot;: &quot;Point&quot;}, &quot;id&quot;: &quot;1246&quot;, &quot;properties&quot;: {&quot;__folium_color&quot;: &quot;#bcbd22&quot;, &quot;index&quot;: 6278, &quot;week&quot;: &quot;2022-08-15&quot;}, &quot;type&quot;: &quot;Feature&quot;}, {&quot;bbox&quot;: [14.5503, 35.828221666666664, 14.5503, 35.828221666666664], &quot;geometry&quot;: {&quot;coordinates&quot;: [14.5503, 35.828221666666664], &quot;type&quot;: &quot;Point&quot;}, &quot;id&quot;: &quot;1247&quot;, &quot;properties&quot;: {&quot;__folium_color&quot;: &quot;#bcbd22&quot;, &quot;index&quot;: 6279, &quot;week&quot;: &quot;2022-08-15&quot;}, &quot;type&quot;: &quot;Feature&quot;}, {&quot;bbox&quot;: [14.550205, 35.828208333333336, 14.550205, 35.828208333333336], &quot;geometry&quot;: {&quot;coordinates&quot;: [14.550205, 35.828208333333336], &quot;type&quot;: &quot;Point&quot;}, &quot;id&quot;: &quot;1248&quot;, &quot;properties&quot;: {&quot;__folium_color&quot;: &quot;#bcbd22&quot;, &quot;index&quot;: 6280, &quot;week&quot;: &quot;2022-08-15&quot;}, &quot;type&quot;: &quot;Feature&quot;}, {&quot;bbox&quot;: [14.55021, 35.828285, 14.55021, 35.828285], &quot;geometry&quot;: {&quot;coordinates&quot;: [14.55021, 35.828285], &quot;type&quot;: &quot;Point&quot;}, &quot;id&quot;: &quot;1249&quot;, &quot;properties&quot;: {&quot;__folium_color&quot;: &quot;#bcbd22&quot;, &quot;index&quot;: 6281, &quot;week&quot;: &quot;2022-08-15&quot;}, &quot;type&quot;: &quot;Feature&quot;}, {&quot;bbox&quot;: [14.550341666666666, 35.828331666666664, 14.550341666666666, 35.828331666666664], &quot;geometry&quot;: {&quot;coordinates&quot;: [14.550341666666666, 35.828331666666664], &quot;type&quot;: &quot;Point&quot;}, &quot;id&quot;: &quot;1250&quot;, &quot;properties&quot;: {&quot;__folium_color&quot;: &quot;#bcbd22&quot;, &quot;index&quot;: 6282, &quot;week&quot;: &quot;2022-08-15&quot;}, &quot;type&quot;: &quot;Feature&quot;}, {&quot;bbox&quot;: [14.54989, 35.82798666666667, 14.54989, 35.82798666666667], &quot;geometry&quot;: {&quot;coordinates&quot;: [14.54989, 35.82798666666667], &quot;type&quot;: &quot;Point&quot;}, &quot;id&quot;: &quot;1251&quot;, &quot;properties&quot;: {&quot;__folium_color&quot;: &quot;#bcbd22&quot;, &quot;index&quot;: 6283, &quot;week&quot;: &quot;2022-08-15&quot;}, &quot;type&quot;: &quot;Feature&quot;}, {&quot;bbox&quot;: [14.550336666666666, 35.82820666666667, 14.550336666666666, 35.82820666666667], &quot;geometry&quot;: {&quot;coordinates&quot;: [14.550336666666666, 35.82820666666667], &quot;type&quot;: &quot;Point&quot;}, &quot;id&quot;: &quot;1252&quot;, &quot;properties&quot;: {&quot;__folium_color&quot;: &quot;#bcbd22&quot;, &quot;index&quot;: 6284, &quot;week&quot;: &quot;2022-08-15&quot;}, &quot;type&quot;: &quot;Feature&quot;}, {&quot;bbox&quot;: [14.550288333333333, 35.82824166666666, 14.550288333333333, 35.82824166666666], &quot;geometry&quot;: {&quot;coordinates&quot;: [14.550288333333333, 35.82824166666666], &quot;type&quot;: &quot;Point&quot;}, &quot;id&quot;: &quot;1253&quot;, &quot;properties&quot;: {&quot;__folium_color&quot;: &quot;#bcbd22&quot;, &quot;index&quot;: 6285, &quot;week&quot;: &quot;2022-08-15&quot;}, &quot;type&quot;: &quot;Feature&quot;}, {&quot;bbox&quot;: [14.550276666666669, 35.828185, 14.550276666666669, 35.828185], &quot;geometry&quot;: {&quot;coordinates&quot;: [14.550276666666669, 35.828185], &quot;type&quot;: &quot;Point&quot;}, &quot;id&quot;: &quot;1254&quot;, &quot;properties&quot;: {&quot;__folium_color&quot;: &quot;#bcbd22&quot;, &quot;index&quot;: 6286, &quot;week&quot;: &quot;2022-08-15&quot;}, &quot;type&quot;: &quot;Feature&quot;}, {&quot;bbox&quot;: [14.550301666666666, 35.82821333333333, 14.550301666666666, 35.82821333333333], &quot;geometry&quot;: {&quot;coordinates&quot;: [14.550301666666666, 35.82821333333333], &quot;type&quot;: &quot;Point&quot;}, &quot;id&quot;: &quot;1255&quot;, &quot;properties&quot;: {&quot;__folium_color&quot;: &quot;#bcbd22&quot;, &quot;index&quot;: 6287, &quot;week&quot;: &quot;2022-08-15&quot;}, &quot;type&quot;: &quot;Feature&quot;}, {&quot;bbox&quot;: [14.55034, 35.82823166666667, 14.55034, 35.82823166666667], &quot;geometry&quot;: {&quot;coordinates&quot;: [14.55034, 35.82823166666667], &quot;type&quot;: &quot;Point&quot;}, &quot;id&quot;: &quot;1256&quot;, &quot;properties&quot;: {&quot;__folium_color&quot;: &quot;#bcbd22&quot;, &quot;index&quot;: 6288, &quot;week&quot;: &quot;2022-08-15&quot;}, &quot;type&quot;: &quot;Feature&quot;}, {&quot;bbox&quot;: [14.550291666666666, 35.82819833333333, 14.550291666666666, 35.82819833333333], &quot;geometry&quot;: {&quot;coordinates&quot;: [14.550291666666666, 35.82819833333333], &quot;type&quot;: &quot;Point&quot;}, &quot;id&quot;: &quot;1257&quot;, &quot;properties&quot;: {&quot;__folium_color&quot;: &quot;#bcbd22&quot;, &quot;index&quot;: 6289, &quot;week&quot;: &quot;2022-08-15&quot;}, &quot;type&quot;: &quot;Feature&quot;}, {&quot;bbox&quot;: [14.550305, 35.82819166666667, 14.550305, 35.82819166666667], &quot;geometry&quot;: {&quot;coordinates&quot;: [14.550305, 35.82819166666667], &quot;type&quot;: &quot;Point&quot;}, &quot;id&quot;: &quot;1258&quot;, &quot;properties&quot;: {&quot;__folium_color&quot;: &quot;#bcbd22&quot;, &quot;index&quot;: 6290, &quot;week&quot;: &quot;2022-08-15&quot;}, &quot;type&quot;: &quot;Feature&quot;}, {&quot;bbox&quot;: [14.550336666666666, 35.82821666666667, 14.550336666666666, 35.82821666666667], &quot;geometry&quot;: {&quot;coordinates&quot;: [14.550336666666666, 35.82821666666667], &quot;type&quot;: &quot;Point&quot;}, &quot;id&quot;: &quot;1259&quot;, &quot;properties&quot;: {&quot;__folium_color&quot;: &quot;#bcbd22&quot;, &quot;index&quot;: 6291, &quot;week&quot;: &quot;2022-08-15&quot;}, &quot;type&quot;: &quot;Feature&quot;}, {&quot;bbox&quot;: [14.550306666666666, 35.82819666666666, 14.550306666666666, 35.82819666666666], &quot;geometry&quot;: {&quot;coordinates&quot;: [14.550306666666666, 35.82819666666666], &quot;type&quot;: &quot;Point&quot;}, &quot;id&quot;: &quot;1260&quot;, &quot;properties&quot;: {&quot;__folium_color&quot;: &quot;#bcbd22&quot;, &quot;index&quot;: 6292, &quot;week&quot;: &quot;2022-08-15&quot;}, &quot;type&quot;: &quot;Feature&quot;}, {&quot;bbox&quot;: [14.55028, 35.82817333333333, 14.55028, 35.82817333333333], &quot;geometry&quot;: {&quot;coordinates&quot;: [14.55028, 35.82817333333333], &quot;type&quot;: &quot;Point&quot;}, &quot;id&quot;: &quot;1261&quot;, &quot;properties&quot;: {&quot;__folium_color&quot;: &quot;#bcbd22&quot;, &quot;index&quot;: 6293, &quot;week&quot;: &quot;2022-08-15&quot;}, &quot;type&quot;: &quot;Feature&quot;}, {&quot;bbox&quot;: [14.5503, 35.82818666666667, 14.5503, 35.82818666666667], &quot;geometry&quot;: {&quot;coordinates&quot;: [14.5503, 35.82818666666667], &quot;type&quot;: &quot;Point&quot;}, &quot;id&quot;: &quot;1262&quot;, &quot;properties&quot;: {&quot;__folium_color&quot;: &quot;#bcbd22&quot;, &quot;index&quot;: 6294, &quot;week&quot;: &quot;2022-08-15&quot;}, &quot;type&quot;: &quot;Feature&quot;}, {&quot;bbox&quot;: [14.550316666666667, 35.82816666666667, 14.550316666666667, 35.82816666666667], &quot;geometry&quot;: {&quot;coordinates&quot;: [14.550316666666667, 35.82816666666667], &quot;type&quot;: &quot;Point&quot;}, &quot;id&quot;: &quot;1263&quot;, &quot;properties&quot;: {&quot;__folium_color&quot;: &quot;#bcbd22&quot;, &quot;index&quot;: 6295, &quot;week&quot;: &quot;2022-08-15&quot;}, &quot;type&quot;: &quot;Feature&quot;}, {&quot;bbox&quot;: [14.55029, 35.82824, 14.55029, 35.82824], &quot;geometry&quot;: {&quot;coordinates&quot;: [14.55029, 35.82824], &quot;type&quot;: &quot;Point&quot;}, &quot;id&quot;: &quot;1264&quot;, &quot;properties&quot;: {&quot;__folium_color&quot;: &quot;#bcbd22&quot;, &quot;index&quot;: 6296, &quot;week&quot;: &quot;2022-08-15&quot;}, &quot;type&quot;: &quot;Feature&quot;}, {&quot;bbox&quot;: [14.550328333333333, 35.82823833333333, 14.550328333333333, 35.82823833333333], &quot;geometry&quot;: {&quot;coordinates&quot;: [14.550328333333333, 35.82823833333333], &quot;type&quot;: &quot;Point&quot;}, &quot;id&quot;: &quot;1265&quot;, &quot;properties&quot;: {&quot;__folium_color&quot;: &quot;#bcbd22&quot;, &quot;index&quot;: 6297, &quot;week&quot;: &quot;2022-08-15&quot;}, &quot;type&quot;: &quot;Feature&quot;}, {&quot;bbox&quot;: [14.550303333333334, 35.828176666666664, 14.550303333333334, 35.828176666666664], &quot;geometry&quot;: {&quot;coordinates&quot;: [14.550303333333334, 35.828176666666664], &quot;type&quot;: &quot;Point&quot;}, &quot;id&quot;: &quot;1266&quot;, &quot;properties&quot;: {&quot;__folium_color&quot;: &quot;#bcbd22&quot;, &quot;index&quot;: 6298, &quot;week&quot;: &quot;2022-08-15&quot;}, &quot;type&quot;: &quot;Feature&quot;}, {&quot;bbox&quot;: [14.550293333333334, 35.828201666666665, 14.550293333333334, 35.828201666666665], &quot;geometry&quot;: {&quot;coordinates&quot;: [14.550293333333334, 35.828201666666665], &quot;type&quot;: &quot;Point&quot;}, &quot;id&quot;: &quot;1267&quot;, &quot;properties&quot;: {&quot;__folium_color&quot;: &quot;#bcbd22&quot;, &quot;index&quot;: 6299, &quot;week&quot;: &quot;2022-08-15&quot;}, &quot;type&quot;: &quot;Feature&quot;}, {&quot;bbox&quot;: [14.550265, 35.828203333333335, 14.550265, 35.828203333333335], &quot;geometry&quot;: {&quot;coordinates&quot;: [14.550265, 35.828203333333335], &quot;type&quot;: &quot;Point&quot;}, &quot;id&quot;: &quot;1268&quot;, &quot;properties&quot;: {&quot;__folium_color&quot;: &quot;#bcbd22&quot;, &quot;index&quot;: 6300, &quot;week&quot;: &quot;2022-08-15&quot;}, &quot;type&quot;: &quot;Feature&quot;}, {&quot;bbox&quot;: [14.550313333333332, 35.82820666666667, 14.550313333333332, 35.82820666666667], &quot;geometry&quot;: {&quot;coordinates&quot;: [14.550313333333332, 35.82820666666667], &quot;type&quot;: &quot;Point&quot;}, &quot;id&quot;: &quot;1269&quot;, &quot;properties&quot;: {&quot;__folium_color&quot;: &quot;#bcbd22&quot;, &quot;index&quot;: 6301, &quot;week&quot;: &quot;2022-08-15&quot;}, &quot;type&quot;: &quot;Feature&quot;}, {&quot;bbox&quot;: [14.550288333333333, 35.827685, 14.550288333333333, 35.827685], &quot;geometry&quot;: {&quot;coordinates&quot;: [14.550288333333333, 35.827685], &quot;type&quot;: &quot;Point&quot;}, &quot;id&quot;: &quot;1270&quot;, &quot;properties&quot;: {&quot;__folium_color&quot;: &quot;#bcbd22&quot;, &quot;index&quot;: 6302, &quot;week&quot;: &quot;2022-08-15&quot;}, &quot;type&quot;: &quot;Feature&quot;}, {&quot;bbox&quot;: [14.55032, 35.825545, 14.55032, 35.825545], &quot;geometry&quot;: {&quot;coordinates&quot;: [14.55032, 35.825545], &quot;type&quot;: &quot;Point&quot;}, &quot;id&quot;: &quot;1271&quot;, &quot;properties&quot;: {&quot;__folium_color&quot;: &quot;#bcbd22&quot;, &quot;index&quot;: 6303, &quot;week&quot;: &quot;2022-08-15&quot;}, &quot;type&quot;: &quot;Feature&quot;}, {&quot;bbox&quot;: [14.555555, 35.817056666666666, 14.555555, 35.817056666666666], &quot;geometry&quot;: {&quot;coordinates&quot;: [14.555555, 35.817056666666666], &quot;type&quot;: &quot;Point&quot;}, &quot;id&quot;: &quot;1272&quot;, &quot;properties&quot;: {&quot;__folium_color&quot;: &quot;#bcbd22&quot;, &quot;index&quot;: 6304, &quot;week&quot;: &quot;2022-08-15&quot;}, &quot;type&quot;: &quot;Feature&quot;}, {&quot;bbox&quot;: [14.56548, 35.80954333333333, 14.56548, 35.80954333333333], &quot;geometry&quot;: {&quot;coordinates&quot;: [14.56548, 35.80954333333333], &quot;type&quot;: &quot;Point&quot;}, &quot;id&quot;: &quot;1273&quot;, &quot;properties&quot;: {&quot;__folium_color&quot;: &quot;#bcbd22&quot;, &quot;index&quot;: 6305, &quot;week&quot;: &quot;2022-08-15&quot;}, &quot;type&quot;: &quot;Feature&quot;}, {&quot;bbox&quot;: [14.577281666666666, 35.80206333333334, 14.577281666666666, 35.80206333333334], &quot;geometry&quot;: {&quot;coordinates&quot;: [14.577281666666666, 35.80206333333334], &quot;type&quot;: &quot;Point&quot;}, &quot;id&quot;: &quot;1274&quot;, &quot;properties&quot;: {&quot;__folium_color&quot;: &quot;#bcbd22&quot;, &quot;index&quot;: 6306, &quot;week&quot;: &quot;2022-08-15&quot;}, &quot;type&quot;: &quot;Feature&quot;}, {&quot;bbox&quot;: [14.587926666666666, 35.796683333333334, 14.587926666666666, 35.796683333333334], &quot;geometry&quot;: {&quot;coordinates&quot;: [14.587926666666666, 35.796683333333334], &quot;type&quot;: &quot;Point&quot;}, &quot;id&quot;: &quot;1275&quot;, &quot;properties&quot;: {&quot;__folium_color&quot;: &quot;#bcbd22&quot;, &quot;index&quot;: 6307, &quot;week&quot;: &quot;2022-08-15&quot;}, &quot;type&quot;: &quot;Feature&quot;}, {&quot;bbox&quot;: [14.739233333333331, 35.80972833333333, 14.739233333333331, 35.80972833333333], &quot;geometry&quot;: {&quot;coordinates&quot;: [14.739233333333331, 35.80972833333333], &quot;type&quot;: &quot;Point&quot;}, &quot;id&quot;: &quot;1276&quot;, &quot;properties&quot;: {&quot;__folium_color&quot;: &quot;#bcbd22&quot;, &quot;index&quot;: 6308, &quot;week&quot;: &quot;2022-08-15&quot;}, &quot;type&quot;: &quot;Feature&quot;}, {&quot;bbox&quot;: [14.751298333333333, 35.81330833333333, 14.751298333333333, 35.81330833333333], &quot;geometry&quot;: {&quot;coordinates&quot;: [14.751298333333333, 35.81330833333333], &quot;type&quot;: &quot;Point&quot;}, &quot;id&quot;: &quot;1277&quot;, &quot;properties&quot;: {&quot;__folium_color&quot;: &quot;#bcbd22&quot;, &quot;index&quot;: 6309, &quot;week&quot;: &quot;2022-08-15&quot;}, &quot;type&quot;: &quot;Feature&quot;}, {&quot;bbox&quot;: [14.802223333333334, 35.83197166666667, 14.802223333333334, 35.83197166666667], &quot;geometry&quot;: {&quot;coordinates&quot;: [14.802223333333334, 35.83197166666667], &quot;type&quot;: &quot;Point&quot;}, &quot;id&quot;: &quot;1278&quot;, &quot;properties&quot;: {&quot;__folium_color&quot;: &quot;#bcbd22&quot;, &quot;index&quot;: 6310, &quot;week&quot;: &quot;2022-08-15&quot;}, &quot;type&quot;: &quot;Feature&quot;}, {&quot;bbox&quot;: [14.836278333333333, 35.84064166666667, 14.836278333333333, 35.84064166666667], &quot;geometry&quot;: {&quot;coordinates&quot;: [14.836278333333333, 35.84064166666667], &quot;type&quot;: &quot;Point&quot;}, &quot;id&quot;: &quot;1279&quot;, &quot;properties&quot;: {&quot;__folium_color&quot;: &quot;#bcbd22&quot;, &quot;index&quot;: 6311, &quot;week&quot;: &quot;2022-08-15&quot;}, &quot;type&quot;: &quot;Feature&quot;}, {&quot;bbox&quot;: [14.849643333333333, 35.84986166666667, 14.849643333333333, 35.84986166666667], &quot;geometry&quot;: {&quot;coordinates&quot;: [14.849643333333333, 35.84986166666667], &quot;type&quot;: &quot;Point&quot;}, &quot;id&quot;: &quot;1280&quot;, &quot;properties&quot;: {&quot;__folium_color&quot;: &quot;#bcbd22&quot;, &quot;index&quot;: 6312, &quot;week&quot;: &quot;2022-08-15&quot;}, &quot;type&quot;: &quot;Feature&quot;}, {&quot;bbox&quot;: [14.85476, 35.85845833333333, 14.85476, 35.85845833333333], &quot;geometry&quot;: {&quot;coordinates&quot;: [14.85476, 35.85845833333333], &quot;type&quot;: &quot;Point&quot;}, &quot;id&quot;: &quot;1281&quot;, &quot;properties&quot;: {&quot;__folium_color&quot;: &quot;#bcbd22&quot;, &quot;index&quot;: 6313, &quot;week&quot;: &quot;2022-08-15&quot;}, &quot;type&quot;: &quot;Feature&quot;}, {&quot;bbox&quot;: [14.861255, 35.884845, 14.861255, 35.884845], &quot;geometry&quot;: {&quot;coordinates&quot;: [14.861255, 35.884845], &quot;type&quot;: &quot;Point&quot;}, &quot;id&quot;: &quot;1282&quot;, &quot;properties&quot;: {&quot;__folium_color&quot;: &quot;#bcbd22&quot;, &quot;index&quot;: 6314, &quot;week&quot;: &quot;2022-08-15&quot;}, &quot;type&quot;: &quot;Feature&quot;}, {&quot;bbox&quot;: [14.861735, 35.89297333333333, 14.861735, 35.89297333333333], &quot;geometry&quot;: {&quot;coordinates&quot;: [14.861735, 35.89297333333333], &quot;type&quot;: &quot;Point&quot;}, &quot;id&quot;: &quot;1283&quot;, &quot;properties&quot;: {&quot;__folium_color&quot;: &quot;#bcbd22&quot;, &quot;index&quot;: 6315, &quot;week&quot;: &quot;2022-08-15&quot;}, &quot;type&quot;: &quot;Feature&quot;}, {&quot;bbox&quot;: [14.862268333333333, 35.893435, 14.862268333333333, 35.893435], &quot;geometry&quot;: {&quot;coordinates&quot;: [14.862268333333333, 35.893435], &quot;type&quot;: &quot;Point&quot;}, &quot;id&quot;: &quot;1284&quot;, &quot;properties&quot;: {&quot;__folium_color&quot;: &quot;#bcbd22&quot;, &quot;index&quot;: 6316, &quot;week&quot;: &quot;2022-08-15&quot;}, &quot;type&quot;: &quot;Feature&quot;}, {&quot;bbox&quot;: [14.86229, 35.8935, 14.86229, 35.8935], &quot;geometry&quot;: {&quot;coordinates&quot;: [14.86229, 35.8935], &quot;type&quot;: &quot;Point&quot;}, &quot;id&quot;: &quot;1285&quot;, &quot;properties&quot;: {&quot;__folium_color&quot;: &quot;#bcbd22&quot;, &quot;index&quot;: 6317, &quot;week&quot;: &quot;2022-08-15&quot;}, &quot;type&quot;: &quot;Feature&quot;}, {&quot;bbox&quot;: [14.8624, 35.89356333333333, 14.8624, 35.89356333333333], &quot;geometry&quot;: {&quot;coordinates&quot;: [14.8624, 35.89356333333333], &quot;type&quot;: &quot;Point&quot;}, &quot;id&quot;: &quot;1286&quot;, &quot;properties&quot;: {&quot;__folium_color&quot;: &quot;#bcbd22&quot;, &quot;index&quot;: 6318, &quot;week&quot;: &quot;2022-08-15&quot;}, &quot;type&quot;: &quot;Feature&quot;}, {&quot;bbox&quot;: [14.862778333333331, 35.893723333333334, 14.862778333333331, 35.893723333333334], &quot;geometry&quot;: {&quot;coordinates&quot;: [14.862778333333331, 35.893723333333334], &quot;type&quot;: &quot;Point&quot;}, &quot;id&quot;: &quot;1287&quot;, &quot;properties&quot;: {&quot;__folium_color&quot;: &quot;#bcbd22&quot;, &quot;index&quot;: 6319, &quot;week&quot;: &quot;2022-08-15&quot;}, &quot;type&quot;: &quot;Feature&quot;}, {&quot;bbox&quot;: [14.862703333333334, 35.89375833333333, 14.862703333333334, 35.89375833333333], &quot;geometry&quot;: {&quot;coordinates&quot;: [14.862703333333334, 35.89375833333333], &quot;type&quot;: &quot;Point&quot;}, &quot;id&quot;: &quot;1288&quot;, &quot;properties&quot;: {&quot;__folium_color&quot;: &quot;#bcbd22&quot;, &quot;index&quot;: 6320, &quot;week&quot;: &quot;2022-08-15&quot;}, &quot;type&quot;: &quot;Feature&quot;}, {&quot;bbox&quot;: [14.86264, 35.893775, 14.86264, 35.893775], &quot;geometry&quot;: {&quot;coordinates&quot;: [14.86264, 35.893775], &quot;type&quot;: &quot;Point&quot;}, &quot;id&quot;: &quot;1289&quot;, &quot;properties&quot;: {&quot;__folium_color&quot;: &quot;#bcbd22&quot;, &quot;index&quot;: 6321, &quot;week&quot;: &quot;2022-08-15&quot;}, &quot;type&quot;: &quot;Feature&quot;}, {&quot;bbox&quot;: [14.862638333333331, 35.893735, 14.862638333333331, 35.893735], &quot;geometry&quot;: {&quot;coordinates&quot;: [14.862638333333331, 35.893735], &quot;type&quot;: &quot;Point&quot;}, &quot;id&quot;: &quot;1290&quot;, &quot;properties&quot;: {&quot;__folium_color&quot;: &quot;#bcbd22&quot;, &quot;index&quot;: 6322, &quot;week&quot;: &quot;2022-08-15&quot;}, &quot;type&quot;: &quot;Feature&quot;}, {&quot;bbox&quot;: [14.862618333333334, 35.893678333333334, 14.862618333333334, 35.893678333333334], &quot;geometry&quot;: {&quot;coordinates&quot;: [14.862618333333334, 35.893678333333334], &quot;type&quot;: &quot;Point&quot;}, &quot;id&quot;: &quot;1291&quot;, &quot;properties&quot;: {&quot;__folium_color&quot;: &quot;#bcbd22&quot;, &quot;index&quot;: 6323, &quot;week&quot;: &quot;2022-08-15&quot;}, &quot;type&quot;: &quot;Feature&quot;}, {&quot;bbox&quot;: [14.863035, 35.893813333333334, 14.863035, 35.893813333333334], &quot;geometry&quot;: {&quot;coordinates&quot;: [14.863035, 35.893813333333334], &quot;type&quot;: &quot;Point&quot;}, &quot;id&quot;: &quot;1292&quot;, &quot;properties&quot;: {&quot;__folium_color&quot;: &quot;#bcbd22&quot;, &quot;index&quot;: 6324, &quot;week&quot;: &quot;2022-08-15&quot;}, &quot;type&quot;: &quot;Feature&quot;}, {&quot;bbox&quot;: [14.863163333333333, 35.89378, 14.863163333333333, 35.89378], &quot;geometry&quot;: {&quot;coordinates&quot;: [14.863163333333333, 35.89378], &quot;type&quot;: &quot;Point&quot;}, &quot;id&quot;: &quot;1293&quot;, &quot;properties&quot;: {&quot;__folium_color&quot;: &quot;#bcbd22&quot;, &quot;index&quot;: 6325, &quot;week&quot;: &quot;2022-08-15&quot;}, &quot;type&quot;: &quot;Feature&quot;}, {&quot;bbox&quot;: [14.863226666666666, 35.89393666666667, 14.863226666666666, 35.89393666666667], &quot;geometry&quot;: {&quot;coordinates&quot;: [14.863226666666666, 35.89393666666667], &quot;type&quot;: &quot;Point&quot;}, &quot;id&quot;: &quot;1294&quot;, &quot;properties&quot;: {&quot;__folium_color&quot;: &quot;#bcbd22&quot;, &quot;index&quot;: 6326, &quot;week&quot;: &quot;2022-08-15&quot;}, &quot;type&quot;: &quot;Feature&quot;}, {&quot;bbox&quot;: [14.863281666666667, 35.89391333333333, 14.863281666666667, 35.89391333333333], &quot;geometry&quot;: {&quot;coordinates&quot;: [14.863281666666667, 35.89391333333333], &quot;type&quot;: &quot;Point&quot;}, &quot;id&quot;: &quot;1295&quot;, &quot;properties&quot;: {&quot;__folium_color&quot;: &quot;#bcbd22&quot;, &quot;index&quot;: 6327, &quot;week&quot;: &quot;2022-08-15&quot;}, &quot;type&quot;: &quot;Feature&quot;}, {&quot;bbox&quot;: [14.863273333333334, 35.893831666666664, 14.863273333333334, 35.893831666666664], &quot;geometry&quot;: {&quot;coordinates&quot;: [14.863273333333334, 35.893831666666664], &quot;type&quot;: &quot;Point&quot;}, &quot;id&quot;: &quot;1296&quot;, &quot;properties&quot;: {&quot;__folium_color&quot;: &quot;#bcbd22&quot;, &quot;index&quot;: 6328, &quot;week&quot;: &quot;2022-08-15&quot;}, &quot;type&quot;: &quot;Feature&quot;}, {&quot;bbox&quot;: [14.863155, 35.893813333333334, 14.863155, 35.893813333333334], &quot;geometry&quot;: {&quot;coordinates&quot;: [14.863155, 35.893813333333334], &quot;type&quot;: &quot;Point&quot;}, &quot;id&quot;: &quot;1297&quot;, &quot;properties&quot;: {&quot;__folium_color&quot;: &quot;#bcbd22&quot;, &quot;index&quot;: 6329, &quot;week&quot;: &quot;2022-08-15&quot;}, &quot;type&quot;: &quot;Feature&quot;}, {&quot;bbox&quot;: [14.863366666666666, 35.893921666666664, 14.863366666666666, 35.893921666666664], &quot;geometry&quot;: {&quot;coordinates&quot;: [14.863366666666666, 35.893921666666664], &quot;type&quot;: &quot;Point&quot;}, &quot;id&quot;: &quot;1298&quot;, &quot;properties&quot;: {&quot;__folium_color&quot;: &quot;#bcbd22&quot;, &quot;index&quot;: 6330, &quot;week&quot;: &quot;2022-08-15&quot;}, &quot;type&quot;: &quot;Feature&quot;}, {&quot;bbox&quot;: [14.863308333333332, 35.893885, 14.863308333333332, 35.893885], &quot;geometry&quot;: {&quot;coordinates&quot;: [14.863308333333332, 35.893885], &quot;type&quot;: &quot;Point&quot;}, &quot;id&quot;: &quot;1299&quot;, &quot;properties&quot;: {&quot;__folium_color&quot;: &quot;#bcbd22&quot;, &quot;index&quot;: 6331, &quot;week&quot;: &quot;2022-08-15&quot;}, &quot;type&quot;: &quot;Feature&quot;}, {&quot;bbox&quot;: [14.863261666666666, 35.89388666666667, 14.863261666666666, 35.89388666666667], &quot;geometry&quot;: {&quot;coordinates&quot;: [14.863261666666666, 35.89388666666667], &quot;type&quot;: &quot;Point&quot;}, &quot;id&quot;: &quot;1300&quot;, &quot;properties&quot;: {&quot;__folium_color&quot;: &quot;#bcbd22&quot;, &quot;index&quot;: 6332, &quot;week&quot;: &quot;2022-08-15&quot;}, &quot;type&quot;: &quot;Feature&quot;}, {&quot;bbox&quot;: [14.863268333333334, 35.89366833333333, 14.863268333333334, 35.89366833333333], &quot;geometry&quot;: {&quot;coordinates&quot;: [14.863268333333334, 35.89366833333333], &quot;type&quot;: &quot;Point&quot;}, &quot;id&quot;: &quot;1301&quot;, &quot;properties&quot;: {&quot;__folium_color&quot;: &quot;#bcbd22&quot;, &quot;index&quot;: 6333, &quot;week&quot;: &quot;2022-08-15&quot;}, &quot;type&quot;: &quot;Feature&quot;}, {&quot;bbox&quot;: [14.863643333333334, 35.89315166666667, 14.863643333333334, 35.89315166666667], &quot;geometry&quot;: {&quot;coordinates&quot;: [14.863643333333334, 35.89315166666667], &quot;type&quot;: &quot;Point&quot;}, &quot;id&quot;: &quot;1302&quot;, &quot;properties&quot;: {&quot;__folium_color&quot;: &quot;#bcbd22&quot;, &quot;index&quot;: 6334, &quot;week&quot;: &quot;2022-08-15&quot;}, &quot;type&quot;: &quot;Feature&quot;}, {&quot;bbox&quot;: [14.865666666666666, 35.890726666666666, 14.865666666666666, 35.890726666666666], &quot;geometry&quot;: {&quot;coordinates&quot;: [14.865666666666666, 35.890726666666666], &quot;type&quot;: &quot;Point&quot;}, &quot;id&quot;: &quot;1303&quot;, &quot;properties&quot;: {&quot;__folium_color&quot;: &quot;#bcbd22&quot;, &quot;index&quot;: 6335, &quot;week&quot;: &quot;2022-08-15&quot;}, &quot;type&quot;: &quot;Feature&quot;}, {&quot;bbox&quot;: [14.864008333333333, 35.888268333333336, 14.864008333333333, 35.888268333333336], &quot;geometry&quot;: {&quot;coordinates&quot;: [14.864008333333333, 35.888268333333336], &quot;type&quot;: &quot;Point&quot;}, &quot;id&quot;: &quot;1304&quot;, &quot;properties&quot;: {&quot;__folium_color&quot;: &quot;#bcbd22&quot;, &quot;index&quot;: 6336, &quot;week&quot;: &quot;2022-08-15&quot;}, &quot;type&quot;: &quot;Feature&quot;}, {&quot;bbox&quot;: [14.856575, 35.877626666666664, 14.856575, 35.877626666666664], &quot;geometry&quot;: {&quot;coordinates&quot;: [14.856575, 35.877626666666664], &quot;type&quot;: &quot;Point&quot;}, &quot;id&quot;: &quot;1305&quot;, &quot;properties&quot;: {&quot;__folium_color&quot;: &quot;#bcbd22&quot;, &quot;index&quot;: 6337, &quot;week&quot;: &quot;2022-08-15&quot;}, &quot;type&quot;: &quot;Feature&quot;}, {&quot;bbox&quot;: [14.84643, 35.866596666666666, 14.84643, 35.866596666666666], &quot;geometry&quot;: {&quot;coordinates&quot;: [14.84643, 35.866596666666666], &quot;type&quot;: &quot;Point&quot;}, &quot;id&quot;: &quot;1306&quot;, &quot;properties&quot;: {&quot;__folium_color&quot;: &quot;#bcbd22&quot;, &quot;index&quot;: 6338, &quot;week&quot;: &quot;2022-08-15&quot;}, &quot;type&quot;: &quot;Feature&quot;}, {&quot;bbox&quot;: [14.833971666666669, 35.859595, 14.833971666666669, 35.859595], &quot;geometry&quot;: {&quot;coordinates&quot;: [14.833971666666669, 35.859595], &quot;type&quot;: &quot;Point&quot;}, &quot;id&quot;: &quot;1307&quot;, &quot;properties&quot;: {&quot;__folium_color&quot;: &quot;#bcbd22&quot;, &quot;index&quot;: 6339, &quot;week&quot;: &quot;2022-08-15&quot;}, &quot;type&quot;: &quot;Feature&quot;}, {&quot;bbox&quot;: [14.821103333333332, 35.86617666666667, 14.821103333333332, 35.86617666666667], &quot;geometry&quot;: {&quot;coordinates&quot;: [14.821103333333332, 35.86617666666667], &quot;type&quot;: &quot;Point&quot;}, &quot;id&quot;: &quot;1308&quot;, &quot;properties&quot;: {&quot;__folium_color&quot;: &quot;#bcbd22&quot;, &quot;index&quot;: 6340, &quot;week&quot;: &quot;2022-08-15&quot;}, &quot;type&quot;: &quot;Feature&quot;}, {&quot;bbox&quot;: [14.811578333333332, 35.87303333333333, 14.811578333333332, 35.87303333333333], &quot;geometry&quot;: {&quot;coordinates&quot;: [14.811578333333332, 35.87303333333333], &quot;type&quot;: &quot;Point&quot;}, &quot;id&quot;: &quot;1309&quot;, &quot;properties&quot;: {&quot;__folium_color&quot;: &quot;#bcbd22&quot;, &quot;index&quot;: 6341, &quot;week&quot;: &quot;2022-08-15&quot;}, &quot;type&quot;: &quot;Feature&quot;}, {&quot;bbox&quot;: [14.82291, 35.88409166666667, 14.82291, 35.88409166666667], &quot;geometry&quot;: {&quot;coordinates&quot;: [14.82291, 35.88409166666667], &quot;type&quot;: &quot;Point&quot;}, &quot;id&quot;: &quot;1310&quot;, &quot;properties&quot;: {&quot;__folium_color&quot;: &quot;#bcbd22&quot;, &quot;index&quot;: 6342, &quot;week&quot;: &quot;2022-08-15&quot;}, &quot;type&quot;: &quot;Feature&quot;}, {&quot;bbox&quot;: [14.840686666666668, 35.898985, 14.840686666666668, 35.898985], &quot;geometry&quot;: {&quot;coordinates&quot;: [14.840686666666668, 35.898985], &quot;type&quot;: &quot;Point&quot;}, &quot;id&quot;: &quot;1311&quot;, &quot;properties&quot;: {&quot;__folium_color&quot;: &quot;#bcbd22&quot;, &quot;index&quot;: 6343, &quot;week&quot;: &quot;2022-08-15&quot;}, &quot;type&quot;: &quot;Feature&quot;}, {&quot;bbox&quot;: [14.847703333333332, 35.90137166666667, 14.847703333333332, 35.90137166666667], &quot;geometry&quot;: {&quot;coordinates&quot;: [14.847703333333332, 35.90137166666667], &quot;type&quot;: &quot;Point&quot;}, &quot;id&quot;: &quot;1312&quot;, &quot;properties&quot;: {&quot;__folium_color&quot;: &quot;#bcbd22&quot;, &quot;index&quot;: 6344, &quot;week&quot;: &quot;2022-08-15&quot;}, &quot;type&quot;: &quot;Feature&quot;}, {&quot;bbox&quot;: [14.847761666666669, 35.90107833333333, 14.847761666666669, 35.90107833333333], &quot;geometry&quot;: {&quot;coordinates&quot;: [14.847761666666669, 35.90107833333333], &quot;type&quot;: &quot;Point&quot;}, &quot;id&quot;: &quot;1313&quot;, &quot;properties&quot;: {&quot;__folium_color&quot;: &quot;#bcbd22&quot;, &quot;index&quot;: 6345, &quot;week&quot;: &quot;2022-08-15&quot;}, &quot;type&quot;: &quot;Feature&quot;}, {&quot;bbox&quot;: [14.847836666666666, 35.899883333333335, 14.847836666666666, 35.899883333333335], &quot;geometry&quot;: {&quot;coordinates&quot;: [14.847836666666666, 35.899883333333335], &quot;type&quot;: &quot;Point&quot;}, &quot;id&quot;: &quot;1314&quot;, &quot;properties&quot;: {&quot;__folium_color&quot;: &quot;#bcbd22&quot;, &quot;index&quot;: 6346, &quot;week&quot;: &quot;2022-08-15&quot;}, &quot;type&quot;: &quot;Feature&quot;}, {&quot;bbox&quot;: [14.848448333333334, 35.898225, 14.848448333333334, 35.898225], &quot;geometry&quot;: {&quot;coordinates&quot;: [14.848448333333334, 35.898225], &quot;type&quot;: &quot;Point&quot;}, &quot;id&quot;: &quot;1315&quot;, &quot;properties&quot;: {&quot;__folium_color&quot;: &quot;#bcbd22&quot;, &quot;index&quot;: 6347, &quot;week&quot;: &quot;2022-08-15&quot;}, &quot;type&quot;: &quot;Feature&quot;}, {&quot;bbox&quot;: [14.862441666666667, 35.8945, 14.862441666666667, 35.8945], &quot;geometry&quot;: {&quot;coordinates&quot;: [14.862441666666667, 35.8945], &quot;type&quot;: &quot;Point&quot;}, &quot;id&quot;: &quot;1316&quot;, &quot;properties&quot;: {&quot;__folium_color&quot;: &quot;#bcbd22&quot;, &quot;index&quot;: 6348, &quot;week&quot;: &quot;2022-08-15&quot;}, &quot;type&quot;: &quot;Feature&quot;}, {&quot;bbox&quot;: [14.864078333333334, 35.89398166666667, 14.864078333333334, 35.89398166666667], &quot;geometry&quot;: {&quot;coordinates&quot;: [14.864078333333334, 35.89398166666667], &quot;type&quot;: &quot;Point&quot;}, &quot;id&quot;: &quot;1317&quot;, &quot;properties&quot;: {&quot;__folium_color&quot;: &quot;#bcbd22&quot;, &quot;index&quot;: 6349, &quot;week&quot;: &quot;2022-08-15&quot;}, &quot;type&quot;: &quot;Feature&quot;}, {&quot;bbox&quot;: [14.879646666666666, 35.889968333333336, 14.879646666666666, 35.889968333333336], &quot;geometry&quot;: {&quot;coordinates&quot;: [14.879646666666666, 35.889968333333336], &quot;type&quot;: &quot;Point&quot;}, &quot;id&quot;: &quot;1318&quot;, &quot;properties&quot;: {&quot;__folium_color&quot;: &quot;#bcbd22&quot;, &quot;index&quot;: 6350, &quot;week&quot;: &quot;2022-08-15&quot;}, &quot;type&quot;: &quot;Feature&quot;}, {&quot;bbox&quot;: [14.898973333333334, 35.88917166666667, 14.898973333333334, 35.88917166666667], &quot;geometry&quot;: {&quot;coordinates&quot;: [14.898973333333334, 35.88917166666667], &quot;type&quot;: &quot;Point&quot;}, &quot;id&quot;: &quot;1319&quot;, &quot;properties&quot;: {&quot;__folium_color&quot;: &quot;#bcbd22&quot;, &quot;index&quot;: 6351, &quot;week&quot;: &quot;2022-08-15&quot;}, &quot;type&quot;: &quot;Feature&quot;}, {&quot;bbox&quot;: [15.010535, 35.893973333333335, 15.010535, 35.893973333333335], &quot;geometry&quot;: {&quot;coordinates&quot;: [15.010535, 35.893973333333335], &quot;type&quot;: &quot;Point&quot;}, &quot;id&quot;: &quot;1320&quot;, &quot;properties&quot;: {&quot;__folium_color&quot;: &quot;#bcbd22&quot;, &quot;index&quot;: 6352, &quot;week&quot;: &quot;2022-08-15&quot;}, &quot;type&quot;: &quot;Feature&quot;}, {&quot;bbox&quot;: [-17.566588333333335, 14.54238, -17.566588333333335, 14.54238], &quot;geometry&quot;: {&quot;coordinates&quot;: [-17.566588333333335, 14.54238], &quot;type&quot;: &quot;Point&quot;}, &quot;id&quot;: &quot;1321&quot;, &quot;properties&quot;: {&quot;__folium_color&quot;: &quot;#17becf&quot;, &quot;index&quot;: 10111, &quot;week&quot;: &quot;2022-11-28&quot;}, &quot;type&quot;: &quot;Feature&quot;}, {&quot;bbox&quot;: [-17.447543333333332, 14.578545, -17.447543333333332, 14.578545], &quot;geometry&quot;: {&quot;coordinates&quot;: [-17.447543333333332, 14.578545], &quot;type&quot;: &quot;Point&quot;}, &quot;id&quot;: &quot;1322&quot;, &quot;properties&quot;: {&quot;__folium_color&quot;: &quot;#17becf&quot;, &quot;index&quot;: 10112, &quot;week&quot;: &quot;2022-11-28&quot;}, &quot;type&quot;: &quot;Feature&quot;}, {&quot;bbox&quot;: [-17.396343333333334, 14.590733333333333, -17.396343333333334, 14.590733333333333], &quot;geometry&quot;: {&quot;coordinates&quot;: [-17.396343333333334, 14.590733333333333], &quot;type&quot;: &quot;Point&quot;}, &quot;id&quot;: &quot;1323&quot;, &quot;properties&quot;: {&quot;__folium_color&quot;: &quot;#17becf&quot;, &quot;index&quot;: 10113, &quot;week&quot;: &quot;2022-11-28&quot;}, &quot;type&quot;: &quot;Feature&quot;}, {&quot;bbox&quot;: [-17.380670000000002, 14.595845, -17.380670000000002, 14.595845], &quot;geometry&quot;: {&quot;coordinates&quot;: [-17.380670000000002, 14.595845], &quot;type&quot;: &quot;Point&quot;}, &quot;id&quot;: &quot;1324&quot;, &quot;properties&quot;: {&quot;__folium_color&quot;: &quot;#17becf&quot;, &quot;index&quot;: 10114, &quot;week&quot;: &quot;2022-11-28&quot;}, &quot;type&quot;: &quot;Feature&quot;}, {&quot;bbox&quot;: [-17.359066666666667, 14.605976666666669, -17.359066666666667, 14.605976666666669], &quot;geometry&quot;: {&quot;coordinates&quot;: [-17.359066666666667, 14.605976666666669], &quot;type&quot;: &quot;Point&quot;}, &quot;id&quot;: &quot;1325&quot;, &quot;properties&quot;: {&quot;__folium_color&quot;: &quot;#17becf&quot;, &quot;index&quot;: 10115, &quot;week&quot;: &quot;2022-11-28&quot;}, &quot;type&quot;: &quot;Feature&quot;}, {&quot;bbox&quot;: [-17.3197, 14.620725, -17.3197, 14.620725], &quot;geometry&quot;: {&quot;coordinates&quot;: [-17.3197, 14.620725], &quot;type&quot;: &quot;Point&quot;}, &quot;id&quot;: &quot;1326&quot;, &quot;properties&quot;: {&quot;__folium_color&quot;: &quot;#17becf&quot;, &quot;index&quot;: 10116, &quot;week&quot;: &quot;2022-11-28&quot;}, &quot;type&quot;: &quot;Feature&quot;}, {&quot;bbox&quot;: [-17.316, 14.62914, -17.316, 14.62914], &quot;geometry&quot;: {&quot;coordinates&quot;: [-17.316, 14.62914], &quot;type&quot;: &quot;Point&quot;}, &quot;id&quot;: &quot;1327&quot;, &quot;properties&quot;: {&quot;__folium_color&quot;: &quot;#17becf&quot;, &quot;index&quot;: 10117, &quot;week&quot;: &quot;2022-11-28&quot;}, &quot;type&quot;: &quot;Feature&quot;}, {&quot;bbox&quot;: [-17.322338333333335, 14.639448333333332, -17.322338333333335, 14.639448333333332], &quot;geometry&quot;: {&quot;coordinates&quot;: [-17.322338333333335, 14.639448333333332], &quot;type&quot;: &quot;Point&quot;}, &quot;id&quot;: &quot;1328&quot;, &quot;properties&quot;: {&quot;__folium_color&quot;: &quot;#17becf&quot;, &quot;index&quot;: 10118, &quot;week&quot;: &quot;2022-11-28&quot;}, &quot;type&quot;: &quot;Feature&quot;}, {&quot;bbox&quot;: [-17.323311666666665, 14.639693333333334, -17.323311666666665, 14.639693333333334], &quot;geometry&quot;: {&quot;coordinates&quot;: [-17.323311666666665, 14.639693333333334], &quot;type&quot;: &quot;Point&quot;}, &quot;id&quot;: &quot;1329&quot;, &quot;properties&quot;: {&quot;__folium_color&quot;: &quot;#17becf&quot;, &quot;index&quot;: 10119, &quot;week&quot;: &quot;2022-11-28&quot;}, &quot;type&quot;: &quot;Feature&quot;}, {&quot;bbox&quot;: [-17.323451666666664, 14.639736666666666, -17.323451666666664, 14.639736666666666], &quot;geometry&quot;: {&quot;coordinates&quot;: [-17.323451666666664, 14.639736666666666], &quot;type&quot;: &quot;Point&quot;}, &quot;id&quot;: &quot;1330&quot;, &quot;properties&quot;: {&quot;__folium_color&quot;: &quot;#17becf&quot;, &quot;index&quot;: 10120, &quot;week&quot;: &quot;2022-11-28&quot;}, &quot;type&quot;: &quot;Feature&quot;}, {&quot;bbox&quot;: [-17.32355, 14.639746666666667, -17.32355, 14.639746666666667], &quot;geometry&quot;: {&quot;coordinates&quot;: [-17.32355, 14.639746666666667], &quot;type&quot;: &quot;Point&quot;}, &quot;id&quot;: &quot;1331&quot;, &quot;properties&quot;: {&quot;__folium_color&quot;: &quot;#17becf&quot;, &quot;index&quot;: 10121, &quot;week&quot;: &quot;2022-11-28&quot;}, &quot;type&quot;: &quot;Feature&quot;}, {&quot;bbox&quot;: [-17.323590000000003, 14.639731666666668, -17.323590000000003, 14.639731666666668], &quot;geometry&quot;: {&quot;coordinates&quot;: [-17.323590000000003, 14.639731666666668], &quot;type&quot;: &quot;Point&quot;}, &quot;id&quot;: &quot;1332&quot;, &quot;properties&quot;: {&quot;__folium_color&quot;: &quot;#17becf&quot;, &quot;index&quot;: 10122, &quot;week&quot;: &quot;2022-11-28&quot;}, &quot;type&quot;: &quot;Feature&quot;}, {&quot;bbox&quot;: [-17.323658333333334, 14.639713333333331, -17.323658333333334, 14.639713333333331], &quot;geometry&quot;: {&quot;coordinates&quot;: [-17.323658333333334, 14.639713333333331], &quot;type&quot;: &quot;Point&quot;}, &quot;id&quot;: &quot;1333&quot;, &quot;properties&quot;: {&quot;__folium_color&quot;: &quot;#17becf&quot;, &quot;index&quot;: 10123, &quot;week&quot;: &quot;2022-11-28&quot;}, &quot;type&quot;: &quot;Feature&quot;}, {&quot;bbox&quot;: [-17.32365666666667, 14.639735, -17.32365666666667, 14.639735], &quot;geometry&quot;: {&quot;coordinates&quot;: [-17.32365666666667, 14.639735], &quot;type&quot;: &quot;Point&quot;}, &quot;id&quot;: &quot;1334&quot;, &quot;properties&quot;: {&quot;__folium_color&quot;: &quot;#17becf&quot;, &quot;index&quot;: 10124, &quot;week&quot;: &quot;2022-11-28&quot;}, &quot;type&quot;: &quot;Feature&quot;}, {&quot;bbox&quot;: [-17.323663333333332, 14.639776666666668, -17.323663333333332, 14.639776666666668], &quot;geometry&quot;: {&quot;coordinates&quot;: [-17.323663333333332, 14.639776666666668], &quot;type&quot;: &quot;Point&quot;}, &quot;id&quot;: &quot;1335&quot;, &quot;properties&quot;: {&quot;__folium_color&quot;: &quot;#17becf&quot;, &quot;index&quot;: 10125, &quot;week&quot;: &quot;2022-11-28&quot;}, &quot;type&quot;: &quot;Feature&quot;}, {&quot;bbox&quot;: [-17.32390666666667, 14.63977, -17.32390666666667, 14.63977], &quot;geometry&quot;: {&quot;coordinates&quot;: [-17.32390666666667, 14.63977], &quot;type&quot;: &quot;Point&quot;}, &quot;id&quot;: &quot;1336&quot;, &quot;properties&quot;: {&quot;__folium_color&quot;: &quot;#17becf&quot;, &quot;index&quot;: 10126, &quot;week&quot;: &quot;2022-11-28&quot;}, &quot;type&quot;: &quot;Feature&quot;}, {&quot;bbox&quot;: [-17.323976666666667, 14.639808333333333, -17.323976666666667, 14.639808333333333], &quot;geometry&quot;: {&quot;coordinates&quot;: [-17.323976666666667, 14.639808333333333], &quot;type&quot;: &quot;Point&quot;}, &quot;id&quot;: &quot;1337&quot;, &quot;properties&quot;: {&quot;__folium_color&quot;: &quot;#17becf&quot;, &quot;index&quot;: 10127, &quot;week&quot;: &quot;2022-11-28&quot;}, &quot;type&quot;: &quot;Feature&quot;}, {&quot;bbox&quot;: [-17.32405, 14.639745, -17.32405, 14.639745], &quot;geometry&quot;: {&quot;coordinates&quot;: [-17.32405, 14.639745], &quot;type&quot;: &quot;Point&quot;}, &quot;id&quot;: &quot;1338&quot;, &quot;properties&quot;: {&quot;__folium_color&quot;: &quot;#17becf&quot;, &quot;index&quot;: 10128, &quot;week&quot;: &quot;2022-11-28&quot;}, &quot;type&quot;: &quot;Feature&quot;}, {&quot;bbox&quot;: [-17.323766666666664, 14.63997, -17.323766666666664, 14.63997], &quot;geometry&quot;: {&quot;coordinates&quot;: [-17.323766666666664, 14.63997], &quot;type&quot;: &quot;Point&quot;}, &quot;id&quot;: &quot;1339&quot;, &quot;properties&quot;: {&quot;__folium_color&quot;: &quot;#17becf&quot;, &quot;index&quot;: 10129, &quot;week&quot;: &quot;2022-11-28&quot;}, &quot;type&quot;: &quot;Feature&quot;}, {&quot;bbox&quot;: [-17.323306666666667, 14.639741666666668, -17.323306666666667, 14.639741666666668], &quot;geometry&quot;: {&quot;coordinates&quot;: [-17.323306666666667, 14.639741666666668], &quot;type&quot;: &quot;Point&quot;}, &quot;id&quot;: &quot;1340&quot;, &quot;properties&quot;: {&quot;__folium_color&quot;: &quot;#17becf&quot;, &quot;index&quot;: 10130, &quot;week&quot;: &quot;2022-11-28&quot;}, &quot;type&quot;: &quot;Feature&quot;}, {&quot;bbox&quot;: [-17.323326666666667, 14.639715, -17.323326666666667, 14.639715], &quot;geometry&quot;: {&quot;coordinates&quot;: [-17.323326666666667, 14.639715], &quot;type&quot;: &quot;Point&quot;}, &quot;id&quot;: &quot;1341&quot;, &quot;properties&quot;: {&quot;__folium_color&quot;: &quot;#17becf&quot;, &quot;index&quot;: 10131, &quot;week&quot;: &quot;2022-11-28&quot;}, &quot;type&quot;: &quot;Feature&quot;}, {&quot;bbox&quot;: [-17.323346666666666, 14.639695, -17.323346666666666, 14.639695], &quot;geometry&quot;: {&quot;coordinates&quot;: [-17.323346666666666, 14.639695], &quot;type&quot;: &quot;Point&quot;}, &quot;id&quot;: &quot;1342&quot;, &quot;properties&quot;: {&quot;__folium_color&quot;: &quot;#17becf&quot;, &quot;index&quot;: 10132, &quot;week&quot;: &quot;2022-11-28&quot;}, &quot;type&quot;: &quot;Feature&quot;}, {&quot;bbox&quot;: [-17.32279, 14.63989, -17.32279, 14.63989], &quot;geometry&quot;: {&quot;coordinates&quot;: [-17.32279, 14.63989], &quot;type&quot;: &quot;Point&quot;}, &quot;id&quot;: &quot;1343&quot;, &quot;properties&quot;: {&quot;__folium_color&quot;: &quot;#17becf&quot;, &quot;index&quot;: 10133, &quot;week&quot;: &quot;2022-11-28&quot;}, &quot;type&quot;: &quot;Feature&quot;}, {&quot;bbox&quot;: [-17.322681666666664, 14.639915, -17.322681666666664, 14.639915], &quot;geometry&quot;: {&quot;coordinates&quot;: [-17.322681666666664, 14.639915], &quot;type&quot;: &quot;Point&quot;}, &quot;id&quot;: &quot;1344&quot;, &quot;properties&quot;: {&quot;__folium_color&quot;: &quot;#17becf&quot;, &quot;index&quot;: 10134, &quot;week&quot;: &quot;2022-11-28&quot;}, &quot;type&quot;: &quot;Feature&quot;}, {&quot;bbox&quot;: [-17.322641666666666, 14.639968333333334, -17.322641666666666, 14.639968333333334], &quot;geometry&quot;: {&quot;coordinates&quot;: [-17.322641666666666, 14.639968333333334], &quot;type&quot;: &quot;Point&quot;}, &quot;id&quot;: &quot;1345&quot;, &quot;properties&quot;: {&quot;__folium_color&quot;: &quot;#17becf&quot;, &quot;index&quot;: 10135, &quot;week&quot;: &quot;2022-11-28&quot;}, &quot;type&quot;: &quot;Feature&quot;}, {&quot;bbox&quot;: [-17.322656666666667, 14.63992, -17.322656666666667, 14.63992], &quot;geometry&quot;: {&quot;coordinates&quot;: [-17.322656666666667, 14.63992], &quot;type&quot;: &quot;Point&quot;}, &quot;id&quot;: &quot;1346&quot;, &quot;properties&quot;: {&quot;__folium_color&quot;: &quot;#17becf&quot;, &quot;index&quot;: 10136, &quot;week&quot;: &quot;2022-11-28&quot;}, &quot;type&quot;: &quot;Feature&quot;}, {&quot;bbox&quot;: [-17.322626666666668, 14.639925, -17.322626666666668, 14.639925], &quot;geometry&quot;: {&quot;coordinates&quot;: [-17.322626666666668, 14.639925], &quot;type&quot;: &quot;Point&quot;}, &quot;id&quot;: &quot;1347&quot;, &quot;properties&quot;: {&quot;__folium_color&quot;: &quot;#17becf&quot;, &quot;index&quot;: 10137, &quot;week&quot;: &quot;2022-11-28&quot;}, &quot;type&quot;: &quot;Feature&quot;}, {&quot;bbox&quot;: [-17.322641666666666, 14.639936666666667, -17.322641666666666, 14.639936666666667], &quot;geometry&quot;: {&quot;coordinates&quot;: [-17.322641666666666, 14.639936666666667], &quot;type&quot;: &quot;Point&quot;}, &quot;id&quot;: &quot;1348&quot;, &quot;properties&quot;: {&quot;__folium_color&quot;: &quot;#17becf&quot;, &quot;index&quot;: 10138, &quot;week&quot;: &quot;2022-11-28&quot;}, &quot;type&quot;: &quot;Feature&quot;}, {&quot;bbox&quot;: [-17.322619999999997, 14.639925, -17.322619999999997, 14.639925], &quot;geometry&quot;: {&quot;coordinates&quot;: [-17.322619999999997, 14.639925], &quot;type&quot;: &quot;Point&quot;}, &quot;id&quot;: &quot;1349&quot;, &quot;properties&quot;: {&quot;__folium_color&quot;: &quot;#17becf&quot;, &quot;index&quot;: 10139, &quot;week&quot;: &quot;2022-11-28&quot;}, &quot;type&quot;: &quot;Feature&quot;}, {&quot;bbox&quot;: [-17.322623333333336, 14.63994, -17.322623333333336, 14.63994], &quot;geometry&quot;: {&quot;coordinates&quot;: [-17.322623333333336, 14.63994], &quot;type&quot;: &quot;Point&quot;}, &quot;id&quot;: &quot;1350&quot;, &quot;properties&quot;: {&quot;__folium_color&quot;: &quot;#17becf&quot;, &quot;index&quot;: 10140, &quot;week&quot;: &quot;2022-11-28&quot;}, &quot;type&quot;: &quot;Feature&quot;}, {&quot;bbox&quot;: [-17.322648333333333, 14.639941666666664, -17.322648333333333, 14.639941666666664], &quot;geometry&quot;: {&quot;coordinates&quot;: [-17.322648333333333, 14.639941666666664], &quot;type&quot;: &quot;Point&quot;}, &quot;id&quot;: &quot;1351&quot;, &quot;properties&quot;: {&quot;__folium_color&quot;: &quot;#17becf&quot;, &quot;index&quot;: 10141, &quot;week&quot;: &quot;2022-11-28&quot;}, &quot;type&quot;: &quot;Feature&quot;}, {&quot;bbox&quot;: [-17.322636666666664, 14.63994, -17.322636666666664, 14.63994], &quot;geometry&quot;: {&quot;coordinates&quot;: [-17.322636666666664, 14.63994], &quot;type&quot;: &quot;Point&quot;}, &quot;id&quot;: &quot;1352&quot;, &quot;properties&quot;: {&quot;__folium_color&quot;: &quot;#17becf&quot;, &quot;index&quot;: 10142, &quot;week&quot;: &quot;2022-11-28&quot;}, &quot;type&quot;: &quot;Feature&quot;}, {&quot;bbox&quot;: [-17.32266333333333, 14.63994, -17.32266333333333, 14.63994], &quot;geometry&quot;: {&quot;coordinates&quot;: [-17.32266333333333, 14.63994], &quot;type&quot;: &quot;Point&quot;}, &quot;id&quot;: &quot;1353&quot;, &quot;properties&quot;: {&quot;__folium_color&quot;: &quot;#17becf&quot;, &quot;index&quot;: 10143, &quot;week&quot;: &quot;2022-11-28&quot;}, &quot;type&quot;: &quot;Feature&quot;}, {&quot;bbox&quot;: [-17.322523333333333, 14.63996, -17.322523333333333, 14.63996], &quot;geometry&quot;: {&quot;coordinates&quot;: [-17.322523333333333, 14.63996], &quot;type&quot;: &quot;Point&quot;}, &quot;id&quot;: &quot;1354&quot;, &quot;properties&quot;: {&quot;__folium_color&quot;: &quot;#17becf&quot;, &quot;index&quot;: 10144, &quot;week&quot;: &quot;2022-11-28&quot;}, &quot;type&quot;: &quot;Feature&quot;}, {&quot;bbox&quot;: [-17.322963333333334, 14.64002, -17.322963333333334, 14.64002], &quot;geometry&quot;: {&quot;coordinates&quot;: [-17.322963333333334, 14.64002], &quot;type&quot;: &quot;Point&quot;}, &quot;id&quot;: &quot;1355&quot;, &quot;properties&quot;: {&quot;__folium_color&quot;: &quot;#17becf&quot;, &quot;index&quot;: 10145, &quot;week&quot;: &quot;2022-11-28&quot;}, &quot;type&quot;: &quot;Feature&quot;}, {&quot;bbox&quot;: [-17.32313, 14.639778333333334, -17.32313, 14.639778333333334], &quot;geometry&quot;: {&quot;coordinates&quot;: [-17.32313, 14.639778333333334], &quot;type&quot;: &quot;Point&quot;}, &quot;id&quot;: &quot;1356&quot;, &quot;properties&quot;: {&quot;__folium_color&quot;: &quot;#17becf&quot;, &quot;index&quot;: 10146, &quot;week&quot;: &quot;2022-11-28&quot;}, &quot;type&quot;: &quot;Feature&quot;}, {&quot;bbox&quot;: [-17.323359999999997, 14.639733333333334, -17.323359999999997, 14.639733333333334], &quot;geometry&quot;: {&quot;coordinates&quot;: [-17.323359999999997, 14.639733333333334], &quot;type&quot;: &quot;Point&quot;}, &quot;id&quot;: &quot;1357&quot;, &quot;properties&quot;: {&quot;__folium_color&quot;: &quot;#17becf&quot;, &quot;index&quot;: 10147, &quot;week&quot;: &quot;2022-11-28&quot;}, &quot;type&quot;: &quot;Feature&quot;}, {&quot;bbox&quot;: [-17.323483333333336, 14.639733333333334, -17.323483333333336, 14.639733333333334], &quot;geometry&quot;: {&quot;coordinates&quot;: [-17.323483333333336, 14.639733333333334], &quot;type&quot;: &quot;Point&quot;}, &quot;id&quot;: &quot;1358&quot;, &quot;properties&quot;: {&quot;__folium_color&quot;: &quot;#17becf&quot;, &quot;index&quot;: 10148, &quot;week&quot;: &quot;2022-11-28&quot;}, &quot;type&quot;: &quot;Feature&quot;}, {&quot;bbox&quot;: [-17.323526666666666, 14.639731666666668, -17.323526666666666, 14.639731666666668], &quot;geometry&quot;: {&quot;coordinates&quot;: [-17.323526666666666, 14.639731666666668], &quot;type&quot;: &quot;Point&quot;}, &quot;id&quot;: &quot;1359&quot;, &quot;properties&quot;: {&quot;__folium_color&quot;: &quot;#17becf&quot;, &quot;index&quot;: 10149, &quot;week&quot;: &quot;2022-11-28&quot;}, &quot;type&quot;: &quot;Feature&quot;}, {&quot;bbox&quot;: [-17.3236, 14.6397, -17.3236, 14.6397], &quot;geometry&quot;: {&quot;coordinates&quot;: [-17.3236, 14.6397], &quot;type&quot;: &quot;Point&quot;}, &quot;id&quot;: &quot;1360&quot;, &quot;properties&quot;: {&quot;__folium_color&quot;: &quot;#17becf&quot;, &quot;index&quot;: 10150, &quot;week&quot;: &quot;2022-11-28&quot;}, &quot;type&quot;: &quot;Feature&quot;}, {&quot;bbox&quot;: [-17.32358833333333, 14.63972, -17.32358833333333, 14.63972], &quot;geometry&quot;: {&quot;coordinates&quot;: [-17.32358833333333, 14.63972], &quot;type&quot;: &quot;Point&quot;}, &quot;id&quot;: &quot;1361&quot;, &quot;properties&quot;: {&quot;__folium_color&quot;: &quot;#17becf&quot;, &quot;index&quot;: 10151, &quot;week&quot;: &quot;2022-11-28&quot;}, &quot;type&quot;: &quot;Feature&quot;}, {&quot;bbox&quot;: [-17.323756666666668, 14.639746666666667, -17.323756666666668, 14.639746666666667], &quot;geometry&quot;: {&quot;coordinates&quot;: [-17.323756666666668, 14.639746666666667], &quot;type&quot;: &quot;Point&quot;}, &quot;id&quot;: &quot;1362&quot;, &quot;properties&quot;: {&quot;__folium_color&quot;: &quot;#17becf&quot;, &quot;index&quot;: 10152, &quot;week&quot;: &quot;2022-11-28&quot;}, &quot;type&quot;: &quot;Feature&quot;}, {&quot;bbox&quot;: [-17.323646666666665, 14.639756666666669, -17.323646666666665, 14.639756666666669], &quot;geometry&quot;: {&quot;coordinates&quot;: [-17.323646666666665, 14.639756666666669], &quot;type&quot;: &quot;Point&quot;}, &quot;id&quot;: &quot;1363&quot;, &quot;properties&quot;: {&quot;__folium_color&quot;: &quot;#17becf&quot;, &quot;index&quot;: 10153, &quot;week&quot;: &quot;2022-11-28&quot;}, &quot;type&quot;: &quot;Feature&quot;}, {&quot;bbox&quot;: [-17.323333333333334, 14.639738333333334, -17.323333333333334, 14.639738333333334], &quot;geometry&quot;: {&quot;coordinates&quot;: [-17.323333333333334, 14.639738333333334], &quot;type&quot;: &quot;Point&quot;}, &quot;id&quot;: &quot;1364&quot;, &quot;properties&quot;: {&quot;__folium_color&quot;: &quot;#17becf&quot;, &quot;index&quot;: 10154, &quot;week&quot;: &quot;2022-11-28&quot;}, &quot;type&quot;: &quot;Feature&quot;}, {&quot;bbox&quot;: [-17.322945, 14.63985, -17.322945, 14.63985], &quot;geometry&quot;: {&quot;coordinates&quot;: [-17.322945, 14.63985], &quot;type&quot;: &quot;Point&quot;}, &quot;id&quot;: &quot;1365&quot;, &quot;properties&quot;: {&quot;__folium_color&quot;: &quot;#17becf&quot;, &quot;index&quot;: 10155, &quot;week&quot;: &quot;2022-11-28&quot;}, &quot;type&quot;: &quot;Feature&quot;}, {&quot;bbox&quot;: [-17.322361666666666, 14.640066666666666, -17.322361666666666, 14.640066666666666], &quot;geometry&quot;: {&quot;coordinates&quot;: [-17.322361666666666, 14.640066666666666], &quot;type&quot;: &quot;Point&quot;}, &quot;id&quot;: &quot;1366&quot;, &quot;properties&quot;: {&quot;__folium_color&quot;: &quot;#17becf&quot;, &quot;index&quot;: 10156, &quot;week&quot;: &quot;2022-11-28&quot;}, &quot;type&quot;: &quot;Feature&quot;}, {&quot;bbox&quot;: [-17.322363333333332, 14.640056666666668, -17.322363333333332, 14.640056666666668], &quot;geometry&quot;: {&quot;coordinates&quot;: [-17.322363333333332, 14.640056666666668], &quot;type&quot;: &quot;Point&quot;}, &quot;id&quot;: &quot;1367&quot;, &quot;properties&quot;: {&quot;__folium_color&quot;: &quot;#17becf&quot;, &quot;index&quot;: 10157, &quot;week&quot;: &quot;2022-11-28&quot;}, &quot;type&quot;: &quot;Feature&quot;}, {&quot;bbox&quot;: [-17.32233666666667, 14.640091666666669, -17.32233666666667, 14.640091666666669], &quot;geometry&quot;: {&quot;coordinates&quot;: [-17.32233666666667, 14.640091666666669], &quot;type&quot;: &quot;Point&quot;}, &quot;id&quot;: &quot;1368&quot;, &quot;properties&quot;: {&quot;__folium_color&quot;: &quot;#17becf&quot;, &quot;index&quot;: 10158, &quot;week&quot;: &quot;2022-11-28&quot;}, &quot;type&quot;: &quot;Feature&quot;}, {&quot;bbox&quot;: [-17.32229, 14.640128333333331, -17.32229, 14.640128333333331], &quot;geometry&quot;: {&quot;coordinates&quot;: [-17.32229, 14.640128333333331], &quot;type&quot;: &quot;Point&quot;}, &quot;id&quot;: &quot;1369&quot;, &quot;properties&quot;: {&quot;__folium_color&quot;: &quot;#17becf&quot;, &quot;index&quot;: 10159, &quot;week&quot;: &quot;2022-11-28&quot;}, &quot;type&quot;: &quot;Feature&quot;}, {&quot;bbox&quot;: [-17.322235, 14.640118333333334, -17.322235, 14.640118333333334], &quot;geometry&quot;: {&quot;coordinates&quot;: [-17.322235, 14.640118333333334], &quot;type&quot;: &quot;Point&quot;}, &quot;id&quot;: &quot;1370&quot;, &quot;properties&quot;: {&quot;__folium_color&quot;: &quot;#17becf&quot;, &quot;index&quot;: 10160, &quot;week&quot;: &quot;2022-11-28&quot;}, &quot;type&quot;: &quot;Feature&quot;}, {&quot;bbox&quot;: [-17.32224, 14.64016, -17.32224, 14.64016], &quot;geometry&quot;: {&quot;coordinates&quot;: [-17.32224, 14.64016], &quot;type&quot;: &quot;Point&quot;}, &quot;id&quot;: &quot;1371&quot;, &quot;properties&quot;: {&quot;__folium_color&quot;: &quot;#17becf&quot;, &quot;index&quot;: 10161, &quot;week&quot;: &quot;2022-11-28&quot;}, &quot;type&quot;: &quot;Feature&quot;}, {&quot;bbox&quot;: [-17.322276666666667, 14.640161666666668, -17.322276666666667, 14.640161666666668], &quot;geometry&quot;: {&quot;coordinates&quot;: [-17.322276666666667, 14.640161666666668], &quot;type&quot;: &quot;Point&quot;}, &quot;id&quot;: &quot;1372&quot;, &quot;properties&quot;: {&quot;__folium_color&quot;: &quot;#17becf&quot;, &quot;index&quot;: 10162, &quot;week&quot;: &quot;2022-11-28&quot;}, &quot;type&quot;: &quot;Feature&quot;}, {&quot;bbox&quot;: [-17.32289, 14.639793333333332, -17.32289, 14.639793333333332], &quot;geometry&quot;: {&quot;coordinates&quot;: [-17.32289, 14.639793333333332], &quot;type&quot;: &quot;Point&quot;}, &quot;id&quot;: &quot;1373&quot;, &quot;properties&quot;: {&quot;__folium_color&quot;: &quot;#17becf&quot;, &quot;index&quot;: 10163, &quot;week&quot;: &quot;2022-11-28&quot;}, &quot;type&quot;: &quot;Feature&quot;}, {&quot;bbox&quot;: [-17.322951666666665, 14.639808333333333, -17.322951666666665, 14.639808333333333], &quot;geometry&quot;: {&quot;coordinates&quot;: [-17.322951666666665, 14.639808333333333], &quot;type&quot;: &quot;Point&quot;}, &quot;id&quot;: &quot;1374&quot;, &quot;properties&quot;: {&quot;__folium_color&quot;: &quot;#17becf&quot;, &quot;index&quot;: 10164, &quot;week&quot;: &quot;2022-11-28&quot;}, &quot;type&quot;: &quot;Feature&quot;}, {&quot;bbox&quot;: [-17.322951666666665, 14.639816666666666, -17.322951666666665, 14.639816666666666], &quot;geometry&quot;: {&quot;coordinates&quot;: [-17.322951666666665, 14.639816666666666], &quot;type&quot;: &quot;Point&quot;}, &quot;id&quot;: &quot;1375&quot;, &quot;properties&quot;: {&quot;__folium_color&quot;: &quot;#17becf&quot;, &quot;index&quot;: 10165, &quot;week&quot;: &quot;2022-11-28&quot;}, &quot;type&quot;: &quot;Feature&quot;}, {&quot;bbox&quot;: [-17.32341166666667, 14.639796666666664, -17.32341166666667, 14.639796666666664], &quot;geometry&quot;: {&quot;coordinates&quot;: [-17.32341166666667, 14.639796666666664], &quot;type&quot;: &quot;Point&quot;}, &quot;id&quot;: &quot;1376&quot;, &quot;properties&quot;: {&quot;__folium_color&quot;: &quot;#17becf&quot;, &quot;index&quot;: 10166, &quot;week&quot;: &quot;2022-11-28&quot;}, &quot;type&quot;: &quot;Feature&quot;}, {&quot;bbox&quot;: [-17.323046666666666, 14.639865, -17.323046666666666, 14.639865], &quot;geometry&quot;: {&quot;coordinates&quot;: [-17.323046666666666, 14.639865], &quot;type&quot;: &quot;Point&quot;}, &quot;id&quot;: &quot;1377&quot;, &quot;properties&quot;: {&quot;__folium_color&quot;: &quot;#17becf&quot;, &quot;index&quot;: 10167, &quot;week&quot;: &quot;2022-11-28&quot;}, &quot;type&quot;: &quot;Feature&quot;}, {&quot;bbox&quot;: [-17.322960000000002, 14.639708333333337, -17.322960000000002, 14.639708333333337], &quot;geometry&quot;: {&quot;coordinates&quot;: [-17.322960000000002, 14.639708333333337], &quot;type&quot;: &quot;Point&quot;}, &quot;id&quot;: &quot;1378&quot;, &quot;properties&quot;: {&quot;__folium_color&quot;: &quot;#17becf&quot;, &quot;index&quot;: 10168, &quot;week&quot;: &quot;2022-11-28&quot;}, &quot;type&quot;: &quot;Feature&quot;}, {&quot;bbox&quot;: [-17.323030000000003, 14.639811666666668, -17.323030000000003, 14.639811666666668], &quot;geometry&quot;: {&quot;coordinates&quot;: [-17.323030000000003, 14.639811666666668], &quot;type&quot;: &quot;Point&quot;}, &quot;id&quot;: &quot;1379&quot;, &quot;properties&quot;: {&quot;__folium_color&quot;: &quot;#17becf&quot;, &quot;index&quot;: 10169, &quot;week&quot;: &quot;2022-11-28&quot;}, &quot;type&quot;: &quot;Feature&quot;}, {&quot;bbox&quot;: [-17.323015, 14.639918333333334, -17.323015, 14.639918333333334], &quot;geometry&quot;: {&quot;coordinates&quot;: [-17.323015, 14.639918333333334], &quot;type&quot;: &quot;Point&quot;}, &quot;id&quot;: &quot;1380&quot;, &quot;properties&quot;: {&quot;__folium_color&quot;: &quot;#17becf&quot;, &quot;index&quot;: 10170, &quot;week&quot;: &quot;2022-11-28&quot;}, &quot;type&quot;: &quot;Feature&quot;}, {&quot;bbox&quot;: [-17.323323333333335, 14.639761666666669, -17.323323333333335, 14.639761666666669], &quot;geometry&quot;: {&quot;coordinates&quot;: [-17.323323333333335, 14.639761666666669], &quot;type&quot;: &quot;Point&quot;}, &quot;id&quot;: &quot;1381&quot;, &quot;properties&quot;: {&quot;__folium_color&quot;: &quot;#17becf&quot;, &quot;index&quot;: 10171, &quot;week&quot;: &quot;2022-11-28&quot;}, &quot;type&quot;: &quot;Feature&quot;}, {&quot;bbox&quot;: [-17.323375, 14.639626666666668, -17.323375, 14.639626666666668], &quot;geometry&quot;: {&quot;coordinates&quot;: [-17.323375, 14.639626666666668], &quot;type&quot;: &quot;Point&quot;}, &quot;id&quot;: &quot;1382&quot;, &quot;properties&quot;: {&quot;__folium_color&quot;: &quot;#17becf&quot;, &quot;index&quot;: 10172, &quot;week&quot;: &quot;2022-11-28&quot;}, &quot;type&quot;: &quot;Feature&quot;}, {&quot;bbox&quot;: [-17.322848333333333, 14.639798333333331, -17.322848333333333, 14.639798333333331], &quot;geometry&quot;: {&quot;coordinates&quot;: [-17.322848333333333, 14.639798333333331], &quot;type&quot;: &quot;Point&quot;}, &quot;id&quot;: &quot;1383&quot;, &quot;properties&quot;: {&quot;__folium_color&quot;: &quot;#17becf&quot;, &quot;index&quot;: 10173, &quot;week&quot;: &quot;2022-11-28&quot;}, &quot;type&quot;: &quot;Feature&quot;}, {&quot;bbox&quot;: [-17.32252, 14.639946666666669, -17.32252, 14.639946666666669], &quot;geometry&quot;: {&quot;coordinates&quot;: [-17.32252, 14.639946666666669], &quot;type&quot;: &quot;Point&quot;}, &quot;id&quot;: &quot;1384&quot;, &quot;properties&quot;: {&quot;__folium_color&quot;: &quot;#17becf&quot;, &quot;index&quot;: 10174, &quot;week&quot;: &quot;2022-11-28&quot;}, &quot;type&quot;: &quot;Feature&quot;}, {&quot;bbox&quot;: [-17.322454999999998, 14.640013333333334, -17.322454999999998, 14.640013333333334], &quot;geometry&quot;: {&quot;coordinates&quot;: [-17.322454999999998, 14.640013333333334], &quot;type&quot;: &quot;Point&quot;}, &quot;id&quot;: &quot;1385&quot;, &quot;properties&quot;: {&quot;__folium_color&quot;: &quot;#17becf&quot;, &quot;index&quot;: 10175, &quot;week&quot;: &quot;2022-11-28&quot;}, &quot;type&quot;: &quot;Feature&quot;}, {&quot;bbox&quot;: [-17.322435, 14.640035, -17.322435, 14.640035], &quot;geometry&quot;: {&quot;coordinates&quot;: [-17.322435, 14.640035], &quot;type&quot;: &quot;Point&quot;}, &quot;id&quot;: &quot;1386&quot;, &quot;properties&quot;: {&quot;__folium_color&quot;: &quot;#17becf&quot;, &quot;index&quot;: 10176, &quot;week&quot;: &quot;2022-11-28&quot;}, &quot;type&quot;: &quot;Feature&quot;}, {&quot;bbox&quot;: [-17.32243, 14.640041666666669, -17.32243, 14.640041666666669], &quot;geometry&quot;: {&quot;coordinates&quot;: [-17.32243, 14.640041666666669], &quot;type&quot;: &quot;Point&quot;}, &quot;id&quot;: &quot;1387&quot;, &quot;properties&quot;: {&quot;__folium_color&quot;: &quot;#17becf&quot;, &quot;index&quot;: 10177, &quot;week&quot;: &quot;2022-11-28&quot;}, &quot;type&quot;: &quot;Feature&quot;}, {&quot;bbox&quot;: [-17.322405, 14.640063333333334, -17.322405, 14.640063333333334], &quot;geometry&quot;: {&quot;coordinates&quot;: [-17.322405, 14.640063333333334], &quot;type&quot;: &quot;Point&quot;}, &quot;id&quot;: &quot;1388&quot;, &quot;properties&quot;: {&quot;__folium_color&quot;: &quot;#17becf&quot;, &quot;index&quot;: 10178, &quot;week&quot;: &quot;2022-11-28&quot;}, &quot;type&quot;: &quot;Feature&quot;}, {&quot;bbox&quot;: [-17.322415, 14.640075, -17.322415, 14.640075], &quot;geometry&quot;: {&quot;coordinates&quot;: [-17.322415, 14.640075], &quot;type&quot;: &quot;Point&quot;}, &quot;id&quot;: &quot;1389&quot;, &quot;properties&quot;: {&quot;__folium_color&quot;: &quot;#17becf&quot;, &quot;index&quot;: 10179, &quot;week&quot;: &quot;2022-11-28&quot;}, &quot;type&quot;: &quot;Feature&quot;}, {&quot;bbox&quot;: [-17.322458333333334, 14.640015, -17.322458333333334, 14.640015], &quot;geometry&quot;: {&quot;coordinates&quot;: [-17.322458333333334, 14.640015], &quot;type&quot;: &quot;Point&quot;}, &quot;id&quot;: &quot;1390&quot;, &quot;properties&quot;: {&quot;__folium_color&quot;: &quot;#17becf&quot;, &quot;index&quot;: 10180, &quot;week&quot;: &quot;2022-11-28&quot;}, &quot;type&quot;: &quot;Feature&quot;}, {&quot;bbox&quot;: [-17.322481666666665, 14.640025, -17.322481666666665, 14.640025], &quot;geometry&quot;: {&quot;coordinates&quot;: [-17.322481666666665, 14.640025], &quot;type&quot;: &quot;Point&quot;}, &quot;id&quot;: &quot;1391&quot;, &quot;properties&quot;: {&quot;__folium_color&quot;: &quot;#17becf&quot;, &quot;index&quot;: 10181, &quot;week&quot;: &quot;2022-11-28&quot;}, &quot;type&quot;: &quot;Feature&quot;}, {&quot;bbox&quot;: [-17.322499999999998, 14.640005, -17.322499999999998, 14.640005], &quot;geometry&quot;: {&quot;coordinates&quot;: [-17.322499999999998, 14.640005], &quot;type&quot;: &quot;Point&quot;}, &quot;id&quot;: &quot;1392&quot;, &quot;properties&quot;: {&quot;__folium_color&quot;: &quot;#17becf&quot;, &quot;index&quot;: 10182, &quot;week&quot;: &quot;2022-11-28&quot;}, &quot;type&quot;: &quot;Feature&quot;}, {&quot;bbox&quot;: [-17.32248666666667, 14.640005, -17.32248666666667, 14.640005], &quot;geometry&quot;: {&quot;coordinates&quot;: [-17.32248666666667, 14.640005], &quot;type&quot;: &quot;Point&quot;}, &quot;id&quot;: &quot;1393&quot;, &quot;properties&quot;: {&quot;__folium_color&quot;: &quot;#17becf&quot;, &quot;index&quot;: 10183, &quot;week&quot;: &quot;2022-11-28&quot;}, &quot;type&quot;: &quot;Feature&quot;}, {&quot;bbox&quot;: [-17.322454999999998, 14.64008, -17.322454999999998, 14.64008], &quot;geometry&quot;: {&quot;coordinates&quot;: [-17.322454999999998, 14.64008], &quot;type&quot;: &quot;Point&quot;}, &quot;id&quot;: &quot;1394&quot;, &quot;properties&quot;: {&quot;__folium_color&quot;: &quot;#17becf&quot;, &quot;index&quot;: 10184, &quot;week&quot;: &quot;2022-11-28&quot;}, &quot;type&quot;: &quot;Feature&quot;}, {&quot;bbox&quot;: [-17.322403333333334, 14.640058333333334, -17.322403333333334, 14.640058333333334], &quot;geometry&quot;: {&quot;coordinates&quot;: [-17.322403333333334, 14.640058333333334], &quot;type&quot;: &quot;Point&quot;}, &quot;id&quot;: &quot;1395&quot;, &quot;properties&quot;: {&quot;__folium_color&quot;: &quot;#17becf&quot;, &quot;index&quot;: 10185, &quot;week&quot;: &quot;2022-11-28&quot;}, &quot;type&quot;: &quot;Feature&quot;}, {&quot;bbox&quot;: [-17.322333333333333, 14.640048333333334, -17.322333333333333, 14.640048333333334], &quot;geometry&quot;: {&quot;coordinates&quot;: [-17.322333333333333, 14.640048333333334], &quot;type&quot;: &quot;Point&quot;}, &quot;id&quot;: &quot;1396&quot;, &quot;properties&quot;: {&quot;__folium_color&quot;: &quot;#17becf&quot;, &quot;index&quot;: 10186, &quot;week&quot;: &quot;2022-11-28&quot;}, &quot;type&quot;: &quot;Feature&quot;}, {&quot;bbox&quot;: [-17.322468333333333, 14.63998, -17.322468333333333, 14.63998], &quot;geometry&quot;: {&quot;coordinates&quot;: [-17.322468333333333, 14.63998], &quot;type&quot;: &quot;Point&quot;}, &quot;id&quot;: &quot;1397&quot;, &quot;properties&quot;: {&quot;__folium_color&quot;: &quot;#17becf&quot;, &quot;index&quot;: 10187, &quot;week&quot;: &quot;2022-11-28&quot;}, &quot;type&quot;: &quot;Feature&quot;}, {&quot;bbox&quot;: [-17.32257, 14.63994, -17.32257, 14.63994], &quot;geometry&quot;: {&quot;coordinates&quot;: [-17.32257, 14.63994], &quot;type&quot;: &quot;Point&quot;}, &quot;id&quot;: &quot;1398&quot;, &quot;properties&quot;: {&quot;__folium_color&quot;: &quot;#17becf&quot;, &quot;index&quot;: 10188, &quot;week&quot;: &quot;2022-11-28&quot;}, &quot;type&quot;: &quot;Feature&quot;}, {&quot;bbox&quot;: [-17.322593333333334, 14.639923333333334, -17.322593333333334, 14.639923333333334], &quot;geometry&quot;: {&quot;coordinates&quot;: [-17.322593333333334, 14.639923333333334], &quot;type&quot;: &quot;Point&quot;}, &quot;id&quot;: &quot;1399&quot;, &quot;properties&quot;: {&quot;__folium_color&quot;: &quot;#17becf&quot;, &quot;index&quot;: 10189, &quot;week&quot;: &quot;2022-11-28&quot;}, &quot;type&quot;: &quot;Feature&quot;}, {&quot;bbox&quot;: [-17.322675, 14.639868333333334, -17.322675, 14.639868333333334], &quot;geometry&quot;: {&quot;coordinates&quot;: [-17.322675, 14.639868333333334], &quot;type&quot;: &quot;Point&quot;}, &quot;id&quot;: &quot;1400&quot;, &quot;properties&quot;: {&quot;__folium_color&quot;: &quot;#17becf&quot;, &quot;index&quot;: 10190, &quot;week&quot;: &quot;2022-11-28&quot;}, &quot;type&quot;: &quot;Feature&quot;}, {&quot;bbox&quot;: [-17.322853333333335, 14.639845, -17.322853333333335, 14.639845], &quot;geometry&quot;: {&quot;coordinates&quot;: [-17.322853333333335, 14.639845], &quot;type&quot;: &quot;Point&quot;}, &quot;id&quot;: &quot;1401&quot;, &quot;properties&quot;: {&quot;__folium_color&quot;: &quot;#17becf&quot;, &quot;index&quot;: 10191, &quot;week&quot;: &quot;2022-11-28&quot;}, &quot;type&quot;: &quot;Feature&quot;}, {&quot;bbox&quot;: [-17.323308333333333, 14.639743333333334, -17.323308333333333, 14.639743333333334], &quot;geometry&quot;: {&quot;coordinates&quot;: [-17.323308333333333, 14.639743333333334], &quot;type&quot;: &quot;Point&quot;}, &quot;id&quot;: &quot;1402&quot;, &quot;properties&quot;: {&quot;__folium_color&quot;: &quot;#17becf&quot;, &quot;index&quot;: 10192, &quot;week&quot;: &quot;2022-11-28&quot;}, &quot;type&quot;: &quot;Feature&quot;}, {&quot;bbox&quot;: [-17.324018333333335, 14.639858333333333, -17.324018333333335, 14.639858333333333], &quot;geometry&quot;: {&quot;coordinates&quot;: [-17.324018333333335, 14.639858333333333], &quot;type&quot;: &quot;Point&quot;}, &quot;id&quot;: &quot;1403&quot;, &quot;properties&quot;: {&quot;__folium_color&quot;: &quot;#17becf&quot;, &quot;index&quot;: 10193, &quot;week&quot;: &quot;2022-11-28&quot;}, &quot;type&quot;: &quot;Feature&quot;}, {&quot;bbox&quot;: [-17.324268333333336, 14.639908333333333, -17.324268333333336, 14.639908333333333], &quot;geometry&quot;: {&quot;coordinates&quot;: [-17.324268333333336, 14.639908333333333], &quot;type&quot;: &quot;Point&quot;}, &quot;id&quot;: &quot;1404&quot;, &quot;properties&quot;: {&quot;__folium_color&quot;: &quot;#17becf&quot;, &quot;index&quot;: 10194, &quot;week&quot;: &quot;2022-11-28&quot;}, &quot;type&quot;: &quot;Feature&quot;}, {&quot;bbox&quot;: [-17.324126666666665, 14.63984, -17.324126666666665, 14.63984], &quot;geometry&quot;: {&quot;coordinates&quot;: [-17.324126666666665, 14.63984], &quot;type&quot;: &quot;Point&quot;}, &quot;id&quot;: &quot;1405&quot;, &quot;properties&quot;: {&quot;__folium_color&quot;: &quot;#17becf&quot;, &quot;index&quot;: 10195, &quot;week&quot;: &quot;2022-11-28&quot;}, &quot;type&quot;: &quot;Feature&quot;}, {&quot;bbox&quot;: [-17.32388166666667, 14.639786666666668, -17.32388166666667, 14.639786666666668], &quot;geometry&quot;: {&quot;coordinates&quot;: [-17.32388166666667, 14.639786666666668], &quot;type&quot;: &quot;Point&quot;}, &quot;id&quot;: &quot;1406&quot;, &quot;properties&quot;: {&quot;__folium_color&quot;: &quot;#17becf&quot;, &quot;index&quot;: 10196, &quot;week&quot;: &quot;2022-11-28&quot;}, &quot;type&quot;: &quot;Feature&quot;}, {&quot;bbox&quot;: [-17.32385, 14.639748333333332, -17.32385, 14.639748333333332], &quot;geometry&quot;: {&quot;coordinates&quot;: [-17.32385, 14.639748333333332], &quot;type&quot;: &quot;Point&quot;}, &quot;id&quot;: &quot;1407&quot;, &quot;properties&quot;: {&quot;__folium_color&quot;: &quot;#17becf&quot;, &quot;index&quot;: 10197, &quot;week&quot;: &quot;2022-11-28&quot;}, &quot;type&quot;: &quot;Feature&quot;}, {&quot;bbox&quot;: [-17.323829999999997, 14.639768333333334, -17.323829999999997, 14.639768333333334], &quot;geometry&quot;: {&quot;coordinates&quot;: [-17.323829999999997, 14.639768333333334], &quot;type&quot;: &quot;Point&quot;}, &quot;id&quot;: &quot;1408&quot;, &quot;properties&quot;: {&quot;__folium_color&quot;: &quot;#17becf&quot;, &quot;index&quot;: 10198, &quot;week&quot;: &quot;2022-11-28&quot;}, &quot;type&quot;: &quot;Feature&quot;}, {&quot;bbox&quot;: [-17.323298333333334, 14.63974, -17.323298333333334, 14.63974], &quot;geometry&quot;: {&quot;coordinates&quot;: [-17.323298333333334, 14.63974], &quot;type&quot;: &quot;Point&quot;}, &quot;id&quot;: &quot;1409&quot;, &quot;properties&quot;: {&quot;__folium_color&quot;: &quot;#17becf&quot;, &quot;index&quot;: 10199, &quot;week&quot;: &quot;2022-11-28&quot;}, &quot;type&quot;: &quot;Feature&quot;}, {&quot;bbox&quot;: [-17.323595, 14.639655, -17.323595, 14.639655], &quot;geometry&quot;: {&quot;coordinates&quot;: [-17.323595, 14.639655], &quot;type&quot;: &quot;Point&quot;}, &quot;id&quot;: &quot;1410&quot;, &quot;properties&quot;: {&quot;__folium_color&quot;: &quot;#17becf&quot;, &quot;index&quot;: 10200, &quot;week&quot;: &quot;2022-11-28&quot;}, &quot;type&quot;: &quot;Feature&quot;}, {&quot;bbox&quot;: [-17.323483333333336, 14.639848333333331, -17.323483333333336, 14.639848333333331], &quot;geometry&quot;: {&quot;coordinates&quot;: [-17.323483333333336, 14.639848333333331], &quot;type&quot;: &quot;Point&quot;}, &quot;id&quot;: &quot;1411&quot;, &quot;properties&quot;: {&quot;__folium_color&quot;: &quot;#17becf&quot;, &quot;index&quot;: 10201, &quot;week&quot;: &quot;2022-11-28&quot;}, &quot;type&quot;: &quot;Feature&quot;}, {&quot;bbox&quot;: [-17.323933333333333, 14.639795, -17.323933333333333, 14.639795], &quot;geometry&quot;: {&quot;coordinates&quot;: [-17.323933333333333, 14.639795], &quot;type&quot;: &quot;Point&quot;}, &quot;id&quot;: &quot;1412&quot;, &quot;properties&quot;: {&quot;__folium_color&quot;: &quot;#17becf&quot;, &quot;index&quot;: 10202, &quot;week&quot;: &quot;2022-11-28&quot;}, &quot;type&quot;: &quot;Feature&quot;}, {&quot;bbox&quot;: [-17.323680000000003, 14.639723333333334, -17.323680000000003, 14.639723333333334], &quot;geometry&quot;: {&quot;coordinates&quot;: [-17.323680000000003, 14.639723333333334], &quot;type&quot;: &quot;Point&quot;}, &quot;id&quot;: &quot;1413&quot;, &quot;properties&quot;: {&quot;__folium_color&quot;: &quot;#17becf&quot;, &quot;index&quot;: 10203, &quot;week&quot;: &quot;2022-11-28&quot;}, &quot;type&quot;: &quot;Feature&quot;}, {&quot;bbox&quot;: [-17.32388, 14.639766666666668, -17.32388, 14.639766666666668], &quot;geometry&quot;: {&quot;coordinates&quot;: [-17.32388, 14.639766666666668], &quot;type&quot;: &quot;Point&quot;}, &quot;id&quot;: &quot;1414&quot;, &quot;properties&quot;: {&quot;__folium_color&quot;: &quot;#17becf&quot;, &quot;index&quot;: 10204, &quot;week&quot;: &quot;2022-11-28&quot;}, &quot;type&quot;: &quot;Feature&quot;}, {&quot;bbox&quot;: [-17.323901666666664, 14.63975, -17.323901666666664, 14.63975], &quot;geometry&quot;: {&quot;coordinates&quot;: [-17.323901666666664, 14.63975], &quot;type&quot;: &quot;Point&quot;}, &quot;id&quot;: &quot;1415&quot;, &quot;properties&quot;: {&quot;__folium_color&quot;: &quot;#17becf&quot;, &quot;index&quot;: 10205, &quot;week&quot;: &quot;2022-11-28&quot;}, &quot;type&quot;: &quot;Feature&quot;}, {&quot;bbox&quot;: [-17.32390333333333, 14.6397, -17.32390333333333, 14.6397], &quot;geometry&quot;: {&quot;coordinates&quot;: [-17.32390333333333, 14.6397], &quot;type&quot;: &quot;Point&quot;}, &quot;id&quot;: &quot;1416&quot;, &quot;properties&quot;: {&quot;__folium_color&quot;: &quot;#17becf&quot;, &quot;index&quot;: 10206, &quot;week&quot;: &quot;2022-11-28&quot;}, &quot;type&quot;: &quot;Feature&quot;}, {&quot;bbox&quot;: [-17.323868333333333, 14.639738333333334, -17.323868333333333, 14.639738333333334], &quot;geometry&quot;: {&quot;coordinates&quot;: [-17.323868333333333, 14.639738333333334], &quot;type&quot;: &quot;Point&quot;}, &quot;id&quot;: &quot;1417&quot;, &quot;properties&quot;: {&quot;__folium_color&quot;: &quot;#17becf&quot;, &quot;index&quot;: 10207, &quot;week&quot;: &quot;2022-11-28&quot;}, &quot;type&quot;: &quot;Feature&quot;}, {&quot;bbox&quot;: [-17.323823333333333, 14.639778333333334, -17.323823333333333, 14.639778333333334], &quot;geometry&quot;: {&quot;coordinates&quot;: [-17.323823333333333, 14.639778333333334], &quot;type&quot;: &quot;Point&quot;}, &quot;id&quot;: &quot;1418&quot;, &quot;properties&quot;: {&quot;__folium_color&quot;: &quot;#17becf&quot;, &quot;index&quot;: 10208, &quot;week&quot;: &quot;2022-11-28&quot;}, &quot;type&quot;: &quot;Feature&quot;}, {&quot;bbox&quot;: [-17.323843333333333, 14.639748333333332, -17.323843333333333, 14.639748333333332], &quot;geometry&quot;: {&quot;coordinates&quot;: [-17.323843333333333, 14.639748333333332], &quot;type&quot;: &quot;Point&quot;}, &quot;id&quot;: &quot;1419&quot;, &quot;properties&quot;: {&quot;__folium_color&quot;: &quot;#17becf&quot;, &quot;index&quot;: 10209, &quot;week&quot;: &quot;2022-11-28&quot;}, &quot;type&quot;: &quot;Feature&quot;}, {&quot;bbox&quot;: [-17.323838333333335, 14.639773333333332, -17.323838333333335, 14.639773333333332], &quot;geometry&quot;: {&quot;coordinates&quot;: [-17.323838333333335, 14.639773333333332], &quot;type&quot;: &quot;Point&quot;}, &quot;id&quot;: &quot;1420&quot;, &quot;properties&quot;: {&quot;__folium_color&quot;: &quot;#17becf&quot;, &quot;index&quot;: 10210, &quot;week&quot;: &quot;2022-11-28&quot;}, &quot;type&quot;: &quot;Feature&quot;}, {&quot;bbox&quot;: [-17.323775, 14.639753333333337, -17.323775, 14.639753333333337], &quot;geometry&quot;: {&quot;coordinates&quot;: [-17.323775, 14.639753333333337], &quot;type&quot;: &quot;Point&quot;}, &quot;id&quot;: &quot;1421&quot;, &quot;properties&quot;: {&quot;__folium_color&quot;: &quot;#17becf&quot;, &quot;index&quot;: 10211, &quot;week&quot;: &quot;2022-11-28&quot;}, &quot;type&quot;: &quot;Feature&quot;}, {&quot;bbox&quot;: [-17.323711666666668, 14.639671666666668, -17.323711666666668, 14.639671666666668], &quot;geometry&quot;: {&quot;coordinates&quot;: [-17.323711666666668, 14.639671666666668], &quot;type&quot;: &quot;Point&quot;}, &quot;id&quot;: &quot;1422&quot;, &quot;properties&quot;: {&quot;__folium_color&quot;: &quot;#17becf&quot;, &quot;index&quot;: 10212, &quot;week&quot;: &quot;2022-11-28&quot;}, &quot;type&quot;: &quot;Feature&quot;}, {&quot;bbox&quot;: [-17.323718333333332, 14.639698333333332, -17.323718333333332, 14.639698333333332], &quot;geometry&quot;: {&quot;coordinates&quot;: [-17.323718333333332, 14.639698333333332], &quot;type&quot;: &quot;Point&quot;}, &quot;id&quot;: &quot;1423&quot;, &quot;properties&quot;: {&quot;__folium_color&quot;: &quot;#17becf&quot;, &quot;index&quot;: 10213, &quot;week&quot;: &quot;2022-11-28&quot;}, &quot;type&quot;: &quot;Feature&quot;}, {&quot;bbox&quot;: [-17.323753333333332, 14.639833333333334, -17.323753333333332, 14.639833333333334], &quot;geometry&quot;: {&quot;coordinates&quot;: [-17.323753333333332, 14.639833333333334], &quot;type&quot;: &quot;Point&quot;}, &quot;id&quot;: &quot;1424&quot;, &quot;properties&quot;: {&quot;__folium_color&quot;: &quot;#17becf&quot;, &quot;index&quot;: 10214, &quot;week&quot;: &quot;2022-11-28&quot;}, &quot;type&quot;: &quot;Feature&quot;}, {&quot;bbox&quot;: [-17.323800000000002, 14.63981, -17.323800000000002, 14.63981], &quot;geometry&quot;: {&quot;coordinates&quot;: [-17.323800000000002, 14.63981], &quot;type&quot;: &quot;Point&quot;}, &quot;id&quot;: &quot;1425&quot;, &quot;properties&quot;: {&quot;__folium_color&quot;: &quot;#17becf&quot;, &quot;index&quot;: 10215, &quot;week&quot;: &quot;2022-11-28&quot;}, &quot;type&quot;: &quot;Feature&quot;}, {&quot;bbox&quot;: [-17.323826666666665, 14.639796666666664, -17.323826666666665, 14.639796666666664], &quot;geometry&quot;: {&quot;coordinates&quot;: [-17.323826666666665, 14.639796666666664], &quot;type&quot;: &quot;Point&quot;}, &quot;id&quot;: &quot;1426&quot;, &quot;properties&quot;: {&quot;__folium_color&quot;: &quot;#17becf&quot;, &quot;index&quot;: 10216, &quot;week&quot;: &quot;2022-11-28&quot;}, &quot;type&quot;: &quot;Feature&quot;}, {&quot;bbox&quot;: [-17.3237, 14.6397, -17.3237, 14.6397], &quot;geometry&quot;: {&quot;coordinates&quot;: [-17.3237, 14.6397], &quot;type&quot;: &quot;Point&quot;}, &quot;id&quot;: &quot;1427&quot;, &quot;properties&quot;: {&quot;__folium_color&quot;: &quot;#17becf&quot;, &quot;index&quot;: 10217, &quot;week&quot;: &quot;2022-11-28&quot;}, &quot;type&quot;: &quot;Feature&quot;}, {&quot;bbox&quot;: [-17.322563333333335, 14.639995, -17.322563333333335, 14.639995], &quot;geometry&quot;: {&quot;coordinates&quot;: [-17.322563333333335, 14.639995], &quot;type&quot;: &quot;Point&quot;}, &quot;id&quot;: &quot;1428&quot;, &quot;properties&quot;: {&quot;__folium_color&quot;: &quot;#17becf&quot;, &quot;index&quot;: 10218, &quot;week&quot;: &quot;2022-11-28&quot;}, &quot;type&quot;: &quot;Feature&quot;}, {&quot;bbox&quot;: [-17.321963333333333, 14.640793333333333, -17.321963333333333, 14.640793333333333], &quot;geometry&quot;: {&quot;coordinates&quot;: [-17.321963333333333, 14.640793333333333], &quot;type&quot;: &quot;Point&quot;}, &quot;id&quot;: &quot;1429&quot;, &quot;properties&quot;: {&quot;__folium_color&quot;: &quot;#17becf&quot;, &quot;index&quot;: 10219, &quot;week&quot;: &quot;2022-11-28&quot;}, &quot;type&quot;: &quot;Feature&quot;}, {&quot;bbox&quot;: [-17.321925, 14.640875, -17.321925, 14.640875], &quot;geometry&quot;: {&quot;coordinates&quot;: [-17.321925, 14.640875], &quot;type&quot;: &quot;Point&quot;}, &quot;id&quot;: &quot;1430&quot;, &quot;properties&quot;: {&quot;__folium_color&quot;: &quot;#17becf&quot;, &quot;index&quot;: 10220, &quot;week&quot;: &quot;2022-11-28&quot;}, &quot;type&quot;: &quot;Feature&quot;}, {&quot;bbox&quot;: [-17.32194, 14.640781666666667, -17.32194, 14.640781666666667], &quot;geometry&quot;: {&quot;coordinates&quot;: [-17.32194, 14.640781666666667], &quot;type&quot;: &quot;Point&quot;}, &quot;id&quot;: &quot;1431&quot;, &quot;properties&quot;: {&quot;__folium_color&quot;: &quot;#17becf&quot;, &quot;index&quot;: 10221, &quot;week&quot;: &quot;2022-11-28&quot;}, &quot;type&quot;: &quot;Feature&quot;}, {&quot;bbox&quot;: [-17.321921666666665, 14.640801666666666, -17.321921666666665, 14.640801666666666], &quot;geometry&quot;: {&quot;coordinates&quot;: [-17.321921666666665, 14.640801666666666], &quot;type&quot;: &quot;Point&quot;}, &quot;id&quot;: &quot;1432&quot;, &quot;properties&quot;: {&quot;__folium_color&quot;: &quot;#17becf&quot;, &quot;index&quot;: 10222, &quot;week&quot;: &quot;2022-11-28&quot;}, &quot;type&quot;: &quot;Feature&quot;}, {&quot;bbox&quot;: [-17.321935, 14.64082, -17.321935, 14.64082], &quot;geometry&quot;: {&quot;coordinates&quot;: [-17.321935, 14.64082], &quot;type&quot;: &quot;Point&quot;}, &quot;id&quot;: &quot;1433&quot;, &quot;properties&quot;: {&quot;__folium_color&quot;: &quot;#17becf&quot;, &quot;index&quot;: 10223, &quot;week&quot;: &quot;2022-11-28&quot;}, &quot;type&quot;: &quot;Feature&quot;}, {&quot;bbox&quot;: [-17.321933333333334, 14.640746666666669, -17.321933333333334, 14.640746666666669], &quot;geometry&quot;: {&quot;coordinates&quot;: [-17.321933333333334, 14.640746666666669], &quot;type&quot;: &quot;Point&quot;}, &quot;id&quot;: &quot;1434&quot;, &quot;properties&quot;: {&quot;__folium_color&quot;: &quot;#17becf&quot;, &quot;index&quot;: 10224, &quot;week&quot;: &quot;2022-11-28&quot;}, &quot;type&quot;: &quot;Feature&quot;}, {&quot;bbox&quot;: [-17.322336666666665, 14.640136666666669, -17.322336666666665, 14.640136666666669], &quot;geometry&quot;: {&quot;coordinates&quot;: [-17.322336666666665, 14.640136666666669], &quot;type&quot;: &quot;Point&quot;}, &quot;id&quot;: &quot;1435&quot;, &quot;properties&quot;: {&quot;__folium_color&quot;: &quot;#17becf&quot;, &quot;index&quot;: 10225, &quot;week&quot;: &quot;2022-11-28&quot;}, &quot;type&quot;: &quot;Feature&quot;}, {&quot;bbox&quot;: [-17.322341666666667, 14.64021, -17.322341666666667, 14.64021], &quot;geometry&quot;: {&quot;coordinates&quot;: [-17.322341666666667, 14.64021], &quot;type&quot;: &quot;Point&quot;}, &quot;id&quot;: &quot;1436&quot;, &quot;properties&quot;: {&quot;__folium_color&quot;: &quot;#17becf&quot;, &quot;index&quot;: 10226, &quot;week&quot;: &quot;2022-11-28&quot;}, &quot;type&quot;: &quot;Feature&quot;}, {&quot;bbox&quot;: [-17.32274, 14.639961666666666, -17.32274, 14.639961666666666], &quot;geometry&quot;: {&quot;coordinates&quot;: [-17.32274, 14.639961666666666], &quot;type&quot;: &quot;Point&quot;}, &quot;id&quot;: &quot;1437&quot;, &quot;properties&quot;: {&quot;__folium_color&quot;: &quot;#17becf&quot;, &quot;index&quot;: 10227, &quot;week&quot;: &quot;2022-11-28&quot;}, &quot;type&quot;: &quot;Feature&quot;}, {&quot;bbox&quot;: [-17.322741666666666, 14.640045, -17.322741666666666, 14.640045], &quot;geometry&quot;: {&quot;coordinates&quot;: [-17.322741666666666, 14.640045], &quot;type&quot;: &quot;Point&quot;}, &quot;id&quot;: &quot;1438&quot;, &quot;properties&quot;: {&quot;__folium_color&quot;: &quot;#17becf&quot;, &quot;index&quot;: 10228, &quot;week&quot;: &quot;2022-11-28&quot;}, &quot;type&quot;: &quot;Feature&quot;}, {&quot;bbox&quot;: [-17.322763333333334, 14.640005, -17.322763333333334, 14.640005], &quot;geometry&quot;: {&quot;coordinates&quot;: [-17.322763333333334, 14.640005], &quot;type&quot;: &quot;Point&quot;}, &quot;id&quot;: &quot;1439&quot;, &quot;properties&quot;: {&quot;__folium_color&quot;: &quot;#17becf&quot;, &quot;index&quot;: 10229, &quot;week&quot;: &quot;2022-11-28&quot;}, &quot;type&quot;: &quot;Feature&quot;}, {&quot;bbox&quot;: [-17.322741666666666, 14.63994, -17.322741666666666, 14.63994], &quot;geometry&quot;: {&quot;coordinates&quot;: [-17.322741666666666, 14.63994], &quot;type&quot;: &quot;Point&quot;}, &quot;id&quot;: &quot;1440&quot;, &quot;properties&quot;: {&quot;__folium_color&quot;: &quot;#17becf&quot;, &quot;index&quot;: 10230, &quot;week&quot;: &quot;2022-11-28&quot;}, &quot;type&quot;: &quot;Feature&quot;}, {&quot;bbox&quot;: [-17.32397, 14.639856666666669, -17.32397, 14.639856666666669], &quot;geometry&quot;: {&quot;coordinates&quot;: [-17.32397, 14.639856666666669], &quot;type&quot;: &quot;Point&quot;}, &quot;id&quot;: &quot;1441&quot;, &quot;properties&quot;: {&quot;__folium_color&quot;: &quot;#17becf&quot;, &quot;index&quot;: 10231, &quot;week&quot;: &quot;2022-11-28&quot;}, &quot;type&quot;: &quot;Feature&quot;}, {&quot;bbox&quot;: [-17.323985, 14.63987, -17.323985, 14.63987], &quot;geometry&quot;: {&quot;coordinates&quot;: [-17.323985, 14.63987], &quot;type&quot;: &quot;Point&quot;}, &quot;id&quot;: &quot;1442&quot;, &quot;properties&quot;: {&quot;__folium_color&quot;: &quot;#17becf&quot;, &quot;index&quot;: 10232, &quot;week&quot;: &quot;2022-11-28&quot;}, &quot;type&quot;: &quot;Feature&quot;}, {&quot;bbox&quot;: [-17.323973333333335, 14.639866666666668, -17.323973333333335, 14.639866666666668], &quot;geometry&quot;: {&quot;coordinates&quot;: [-17.323973333333335, 14.639866666666668], &quot;type&quot;: &quot;Point&quot;}, &quot;id&quot;: &quot;1443&quot;, &quot;properties&quot;: {&quot;__folium_color&quot;: &quot;#17becf&quot;, &quot;index&quot;: 10233, &quot;week&quot;: &quot;2022-11-28&quot;}, &quot;type&quot;: &quot;Feature&quot;}, {&quot;bbox&quot;: [-17.323928333333335, 14.639828333333332, -17.323928333333335, 14.639828333333332], &quot;geometry&quot;: {&quot;coordinates&quot;: [-17.323928333333335, 14.639828333333332], &quot;type&quot;: &quot;Point&quot;}, &quot;id&quot;: &quot;1444&quot;, &quot;properties&quot;: {&quot;__folium_color&quot;: &quot;#17becf&quot;, &quot;index&quot;: 10234, &quot;week&quot;: &quot;2022-11-28&quot;}, &quot;type&quot;: &quot;Feature&quot;}, {&quot;bbox&quot;: [-17.323916666666666, 14.6398, -17.323916666666666, 14.6398], &quot;geometry&quot;: {&quot;coordinates&quot;: [-17.323916666666666, 14.6398], &quot;type&quot;: &quot;Point&quot;}, &quot;id&quot;: &quot;1445&quot;, &quot;properties&quot;: {&quot;__folium_color&quot;: &quot;#17becf&quot;, &quot;index&quot;: 10235, &quot;week&quot;: &quot;2022-11-28&quot;}, &quot;type&quot;: &quot;Feature&quot;}, {&quot;bbox&quot;: [-17.323898333333332, 14.6398, -17.323898333333332, 14.6398], &quot;geometry&quot;: {&quot;coordinates&quot;: [-17.323898333333332, 14.6398], &quot;type&quot;: &quot;Point&quot;}, &quot;id&quot;: &quot;1446&quot;, &quot;properties&quot;: {&quot;__folium_color&quot;: &quot;#17becf&quot;, &quot;index&quot;: 10236, &quot;week&quot;: &quot;2022-11-28&quot;}, &quot;type&quot;: &quot;Feature&quot;}, {&quot;bbox&quot;: [-17.323773333333335, 14.639774999999998, -17.323773333333335, 14.639774999999998], &quot;geometry&quot;: {&quot;coordinates&quot;: [-17.323773333333335, 14.639774999999998], &quot;type&quot;: &quot;Point&quot;}, &quot;id&quot;: &quot;1447&quot;, &quot;properties&quot;: {&quot;__folium_color&quot;: &quot;#17becf&quot;, &quot;index&quot;: 10237, &quot;week&quot;: &quot;2022-11-28&quot;}, &quot;type&quot;: &quot;Feature&quot;}, {&quot;bbox&quot;: [-17.323721666666668, 14.639761666666669, -17.323721666666668, 14.639761666666669], &quot;geometry&quot;: {&quot;coordinates&quot;: [-17.323721666666668, 14.639761666666669], &quot;type&quot;: &quot;Point&quot;}, &quot;id&quot;: &quot;1448&quot;, &quot;properties&quot;: {&quot;__folium_color&quot;: &quot;#17becf&quot;, &quot;index&quot;: 10238, &quot;week&quot;: &quot;2022-11-28&quot;}, &quot;type&quot;: &quot;Feature&quot;}, {&quot;bbox&quot;: [-17.323668333333334, 14.639823333333334, -17.323668333333334, 14.639823333333334], &quot;geometry&quot;: {&quot;coordinates&quot;: [-17.323668333333334, 14.639823333333334], &quot;type&quot;: &quot;Point&quot;}, &quot;id&quot;: &quot;1449&quot;, &quot;properties&quot;: {&quot;__folium_color&quot;: &quot;#17becf&quot;, &quot;index&quot;: 10239, &quot;week&quot;: &quot;2022-11-28&quot;}, &quot;type&quot;: &quot;Feature&quot;}, {&quot;bbox&quot;: [-17.323683333333335, 14.639795, -17.323683333333335, 14.639795], &quot;geometry&quot;: {&quot;coordinates&quot;: [-17.323683333333335, 14.639795], &quot;type&quot;: &quot;Point&quot;}, &quot;id&quot;: &quot;1450&quot;, &quot;properties&quot;: {&quot;__folium_color&quot;: &quot;#17becf&quot;, &quot;index&quot;: 10240, &quot;week&quot;: &quot;2022-11-28&quot;}, &quot;type&quot;: &quot;Feature&quot;}, {&quot;bbox&quot;: [-17.323703333333334, 14.639766666666668, -17.323703333333334, 14.639766666666668], &quot;geometry&quot;: {&quot;coordinates&quot;: [-17.323703333333334, 14.639766666666668], &quot;type&quot;: &quot;Point&quot;}, &quot;id&quot;: &quot;1451&quot;, &quot;properties&quot;: {&quot;__folium_color&quot;: &quot;#17becf&quot;, &quot;index&quot;: 10241, &quot;week&quot;: &quot;2022-11-28&quot;}, &quot;type&quot;: &quot;Feature&quot;}, {&quot;bbox&quot;: [-17.32367833333333, 14.63976, -17.32367833333333, 14.63976], &quot;geometry&quot;: {&quot;coordinates&quot;: [-17.32367833333333, 14.63976], &quot;type&quot;: &quot;Point&quot;}, &quot;id&quot;: &quot;1452&quot;, &quot;properties&quot;: {&quot;__folium_color&quot;: &quot;#17becf&quot;, &quot;index&quot;: 10242, &quot;week&quot;: &quot;2022-11-28&quot;}, &quot;type&quot;: &quot;Feature&quot;}, {&quot;bbox&quot;: [-17.323668333333334, 14.639725, -17.323668333333334, 14.639725], &quot;geometry&quot;: {&quot;coordinates&quot;: [-17.323668333333334, 14.639725], &quot;type&quot;: &quot;Point&quot;}, &quot;id&quot;: &quot;1453&quot;, &quot;properties&quot;: {&quot;__folium_color&quot;: &quot;#17becf&quot;, &quot;index&quot;: 10243, &quot;week&quot;: &quot;2022-11-28&quot;}, &quot;type&quot;: &quot;Feature&quot;}, {&quot;bbox&quot;: [-17.323563333333333, 14.639678333333334, -17.323563333333333, 14.639678333333334], &quot;geometry&quot;: {&quot;coordinates&quot;: [-17.323563333333333, 14.639678333333334], &quot;type&quot;: &quot;Point&quot;}, &quot;id&quot;: &quot;1454&quot;, &quot;properties&quot;: {&quot;__folium_color&quot;: &quot;#17becf&quot;, &quot;index&quot;: 10244, &quot;week&quot;: &quot;2022-11-28&quot;}, &quot;type&quot;: &quot;Feature&quot;}, {&quot;bbox&quot;: [-17.323585, 14.63971, -17.323585, 14.63971], &quot;geometry&quot;: {&quot;coordinates&quot;: [-17.323585, 14.63971], &quot;type&quot;: &quot;Point&quot;}, &quot;id&quot;: &quot;1455&quot;, &quot;properties&quot;: {&quot;__folium_color&quot;: &quot;#17becf&quot;, &quot;index&quot;: 10245, &quot;week&quot;: &quot;2022-11-28&quot;}, &quot;type&quot;: &quot;Feature&quot;}, {&quot;bbox&quot;: [-17.32359166666667, 14.639733333333334, -17.32359166666667, 14.639733333333334], &quot;geometry&quot;: {&quot;coordinates&quot;: [-17.32359166666667, 14.639733333333334], &quot;type&quot;: &quot;Point&quot;}, &quot;id&quot;: &quot;1456&quot;, &quot;properties&quot;: {&quot;__folium_color&quot;: &quot;#17becf&quot;, &quot;index&quot;: 10246, &quot;week&quot;: &quot;2022-11-28&quot;}, &quot;type&quot;: &quot;Feature&quot;}, {&quot;bbox&quot;: [-17.323595, 14.639696666666667, -17.323595, 14.639696666666667], &quot;geometry&quot;: {&quot;coordinates&quot;: [-17.323595, 14.639696666666667], &quot;type&quot;: &quot;Point&quot;}, &quot;id&quot;: &quot;1457&quot;, &quot;properties&quot;: {&quot;__folium_color&quot;: &quot;#17becf&quot;, &quot;index&quot;: 10247, &quot;week&quot;: &quot;2022-11-28&quot;}, &quot;type&quot;: &quot;Feature&quot;}, {&quot;bbox&quot;: [-17.323626666666666, 14.639676666666666, -17.323626666666666, 14.639676666666666], &quot;geometry&quot;: {&quot;coordinates&quot;: [-17.323626666666666, 14.639676666666666], &quot;type&quot;: &quot;Point&quot;}, &quot;id&quot;: &quot;1458&quot;, &quot;properties&quot;: {&quot;__folium_color&quot;: &quot;#17becf&quot;, &quot;index&quot;: 10248, &quot;week&quot;: &quot;2022-11-28&quot;}, &quot;type&quot;: &quot;Feature&quot;}, {&quot;bbox&quot;: [-17.323118333333333, 14.639821666666668, -17.323118333333333, 14.639821666666668], &quot;geometry&quot;: {&quot;coordinates&quot;: [-17.323118333333333, 14.639821666666668], &quot;type&quot;: &quot;Point&quot;}, &quot;id&quot;: &quot;1459&quot;, &quot;properties&quot;: {&quot;__folium_color&quot;: &quot;#17becf&quot;, &quot;index&quot;: 10249, &quot;week&quot;: &quot;2022-11-28&quot;}, &quot;type&quot;: &quot;Feature&quot;}, {&quot;bbox&quot;: [-17.322721666666666, 14.639886666666666, -17.322721666666666, 14.639886666666666], &quot;geometry&quot;: {&quot;coordinates&quot;: [-17.322721666666666, 14.639886666666666], &quot;type&quot;: &quot;Point&quot;}, &quot;id&quot;: &quot;1460&quot;, &quot;properties&quot;: {&quot;__folium_color&quot;: &quot;#17becf&quot;, &quot;index&quot;: 10250, &quot;week&quot;: &quot;2022-11-28&quot;}, &quot;type&quot;: &quot;Feature&quot;}, {&quot;bbox&quot;: [-17.32269, 14.639913333333334, -17.32269, 14.639913333333334], &quot;geometry&quot;: {&quot;coordinates&quot;: [-17.32269, 14.639913333333334], &quot;type&quot;: &quot;Point&quot;}, &quot;id&quot;: &quot;1461&quot;, &quot;properties&quot;: {&quot;__folium_color&quot;: &quot;#17becf&quot;, &quot;index&quot;: 10251, &quot;week&quot;: &quot;2022-11-28&quot;}, &quot;type&quot;: &quot;Feature&quot;}, {&quot;bbox&quot;: [-17.322648333333333, 14.639935, -17.322648333333333, 14.639935], &quot;geometry&quot;: {&quot;coordinates&quot;: [-17.322648333333333, 14.639935], &quot;type&quot;: &quot;Point&quot;}, &quot;id&quot;: &quot;1462&quot;, &quot;properties&quot;: {&quot;__folium_color&quot;: &quot;#17becf&quot;, &quot;index&quot;: 10252, &quot;week&quot;: &quot;2022-11-28&quot;}, &quot;type&quot;: &quot;Feature&quot;}, {&quot;bbox&quot;: [-17.322566666666667, 14.639975, -17.322566666666667, 14.639975], &quot;geometry&quot;: {&quot;coordinates&quot;: [-17.322566666666667, 14.639975], &quot;type&quot;: &quot;Point&quot;}, &quot;id&quot;: &quot;1463&quot;, &quot;properties&quot;: {&quot;__folium_color&quot;: &quot;#17becf&quot;, &quot;index&quot;: 10253, &quot;week&quot;: &quot;2022-11-28&quot;}, &quot;type&quot;: &quot;Feature&quot;}, {&quot;bbox&quot;: [-17.32255333333333, 14.639976666666668, -17.32255333333333, 14.639976666666668], &quot;geometry&quot;: {&quot;coordinates&quot;: [-17.32255333333333, 14.639976666666668], &quot;type&quot;: &quot;Point&quot;}, &quot;id&quot;: &quot;1464&quot;, &quot;properties&quot;: {&quot;__folium_color&quot;: &quot;#17becf&quot;, &quot;index&quot;: 10254, &quot;week&quot;: &quot;2022-11-28&quot;}, &quot;type&quot;: &quot;Feature&quot;}, {&quot;bbox&quot;: [-17.322401666666668, 14.640123333333332, -17.322401666666668, 14.640123333333332], &quot;geometry&quot;: {&quot;coordinates&quot;: [-17.322401666666668, 14.640123333333332], &quot;type&quot;: &quot;Point&quot;}, &quot;id&quot;: &quot;1465&quot;, &quot;properties&quot;: {&quot;__folium_color&quot;: &quot;#17becf&quot;, &quot;index&quot;: 10255, &quot;week&quot;: &quot;2022-11-28&quot;}, &quot;type&quot;: &quot;Feature&quot;}, {&quot;bbox&quot;: [-17.32227, 14.640195, -17.32227, 14.640195], &quot;geometry&quot;: {&quot;coordinates&quot;: [-17.32227, 14.640195], &quot;type&quot;: &quot;Point&quot;}, &quot;id&quot;: &quot;1466&quot;, &quot;properties&quot;: {&quot;__folium_color&quot;: &quot;#17becf&quot;, &quot;index&quot;: 10256, &quot;week&quot;: &quot;2022-11-28&quot;}, &quot;type&quot;: &quot;Feature&quot;}, {&quot;bbox&quot;: [-17.322531666666666, 14.640026666666667, -17.322531666666666, 14.640026666666667], &quot;geometry&quot;: {&quot;coordinates&quot;: [-17.322531666666666, 14.640026666666667], &quot;type&quot;: &quot;Point&quot;}, &quot;id&quot;: &quot;1467&quot;, &quot;properties&quot;: {&quot;__folium_color&quot;: &quot;#17becf&quot;, &quot;index&quot;: 10257, &quot;week&quot;: &quot;2022-11-28&quot;}, &quot;type&quot;: &quot;Feature&quot;}, {&quot;bbox&quot;: [-17.322293333333334, 14.640106666666666, -17.322293333333334, 14.640106666666666], &quot;geometry&quot;: {&quot;coordinates&quot;: [-17.322293333333334, 14.640106666666666], &quot;type&quot;: &quot;Point&quot;}, &quot;id&quot;: &quot;1468&quot;, &quot;properties&quot;: {&quot;__folium_color&quot;: &quot;#17becf&quot;, &quot;index&quot;: 10258, &quot;week&quot;: &quot;2022-11-28&quot;}, &quot;type&quot;: &quot;Feature&quot;}, {&quot;bbox&quot;: [-17.323155, 14.639793333333332, -17.323155, 14.639793333333332], &quot;geometry&quot;: {&quot;coordinates&quot;: [-17.323155, 14.639793333333332], &quot;type&quot;: &quot;Point&quot;}, &quot;id&quot;: &quot;1469&quot;, &quot;properties&quot;: {&quot;__folium_color&quot;: &quot;#17becf&quot;, &quot;index&quot;: 10259, &quot;week&quot;: &quot;2022-11-28&quot;}, &quot;type&quot;: &quot;Feature&quot;}, {&quot;bbox&quot;: [-17.323188333333334, 14.639795, -17.323188333333334, 14.639795], &quot;geometry&quot;: {&quot;coordinates&quot;: [-17.323188333333334, 14.639795], &quot;type&quot;: &quot;Point&quot;}, &quot;id&quot;: &quot;1470&quot;, &quot;properties&quot;: {&quot;__folium_color&quot;: &quot;#17becf&quot;, &quot;index&quot;: 10260, &quot;week&quot;: &quot;2022-11-28&quot;}, &quot;type&quot;: &quot;Feature&quot;}, {&quot;bbox&quot;: [-17.323185000000002, 14.639785, -17.323185000000002, 14.639785], &quot;geometry&quot;: {&quot;coordinates&quot;: [-17.323185000000002, 14.639785], &quot;type&quot;: &quot;Point&quot;}, &quot;id&quot;: &quot;1471&quot;, &quot;properties&quot;: {&quot;__folium_color&quot;: &quot;#17becf&quot;, &quot;index&quot;: 10261, &quot;week&quot;: &quot;2022-11-28&quot;}, &quot;type&quot;: &quot;Feature&quot;}, {&quot;bbox&quot;: [-17.323566666666668, 14.639848333333331, -17.323566666666668, 14.639848333333331], &quot;geometry&quot;: {&quot;coordinates&quot;: [-17.323566666666668, 14.639848333333331], &quot;type&quot;: &quot;Point&quot;}, &quot;id&quot;: &quot;1472&quot;, &quot;properties&quot;: {&quot;__folium_color&quot;: &quot;#17becf&quot;, &quot;index&quot;: 10262, &quot;week&quot;: &quot;2022-11-28&quot;}, &quot;type&quot;: &quot;Feature&quot;}, {&quot;bbox&quot;: [-17.323653333333333, 14.639793333333332, -17.323653333333333, 14.639793333333332], &quot;geometry&quot;: {&quot;coordinates&quot;: [-17.323653333333333, 14.639793333333332], &quot;type&quot;: &quot;Point&quot;}, &quot;id&quot;: &quot;1473&quot;, &quot;properties&quot;: {&quot;__folium_color&quot;: &quot;#17becf&quot;, &quot;index&quot;: 10263, &quot;week&quot;: &quot;2022-11-28&quot;}, &quot;type&quot;: &quot;Feature&quot;}, {&quot;bbox&quot;: [-17.323345, 14.639695, -17.323345, 14.639695], &quot;geometry&quot;: {&quot;coordinates&quot;: [-17.323345, 14.639695], &quot;type&quot;: &quot;Point&quot;}, &quot;id&quot;: &quot;1474&quot;, &quot;properties&quot;: {&quot;__folium_color&quot;: &quot;#17becf&quot;, &quot;index&quot;: 10264, &quot;week&quot;: &quot;2022-11-28&quot;}, &quot;type&quot;: &quot;Feature&quot;}, {&quot;bbox&quot;: [-17.323216666666667, 14.639821666666668, -17.323216666666667, 14.639821666666668], &quot;geometry&quot;: {&quot;coordinates&quot;: [-17.323216666666667, 14.639821666666668], &quot;type&quot;: &quot;Point&quot;}, &quot;id&quot;: &quot;1475&quot;, &quot;properties&quot;: {&quot;__folium_color&quot;: &quot;#17becf&quot;, &quot;index&quot;: 10265, &quot;week&quot;: &quot;2022-11-28&quot;}, &quot;type&quot;: &quot;Feature&quot;}, {&quot;bbox&quot;: [-17.322946666666667, 14.639853333333331, -17.322946666666667, 14.639853333333331], &quot;geometry&quot;: {&quot;coordinates&quot;: [-17.322946666666667, 14.639853333333331], &quot;type&quot;: &quot;Point&quot;}, &quot;id&quot;: &quot;1476&quot;, &quot;properties&quot;: {&quot;__folium_color&quot;: &quot;#17becf&quot;, &quot;index&quot;: 10266, &quot;week&quot;: &quot;2022-11-28&quot;}, &quot;type&quot;: &quot;Feature&quot;}, {&quot;bbox&quot;: [-17.322411666666667, 14.640168333333332, -17.322411666666667, 14.640168333333332], &quot;geometry&quot;: {&quot;coordinates&quot;: [-17.322411666666667, 14.640168333333332], &quot;type&quot;: &quot;Point&quot;}, &quot;id&quot;: &quot;1477&quot;, &quot;properties&quot;: {&quot;__folium_color&quot;: &quot;#9edae5&quot;, &quot;index&quot;: 10267, &quot;week&quot;: &quot;2022-12-05&quot;}, &quot;type&quot;: &quot;Feature&quot;}, {&quot;bbox&quot;: [-17.32196, 14.640675, -17.32196, 14.640675], &quot;geometry&quot;: {&quot;coordinates&quot;: [-17.32196, 14.640675], &quot;type&quot;: &quot;Point&quot;}, &quot;id&quot;: &quot;1478&quot;, &quot;properties&quot;: {&quot;__folium_color&quot;: &quot;#9edae5&quot;, &quot;index&quot;: 10268, &quot;week&quot;: &quot;2022-12-05&quot;}, &quot;type&quot;: &quot;Feature&quot;}, {&quot;bbox&quot;: [-17.322608333333335, 14.639993333333331, -17.322608333333335, 14.639993333333331], &quot;geometry&quot;: {&quot;coordinates&quot;: [-17.322608333333335, 14.639993333333331], &quot;type&quot;: &quot;Point&quot;}, &quot;id&quot;: &quot;1479&quot;, &quot;properties&quot;: {&quot;__folium_color&quot;: &quot;#9edae5&quot;, &quot;index&quot;: 10269, &quot;week&quot;: &quot;2022-12-05&quot;}, &quot;type&quot;: &quot;Feature&quot;}, {&quot;bbox&quot;: [-17.322743333333335, 14.63995, -17.322743333333335, 14.63995], &quot;geometry&quot;: {&quot;coordinates&quot;: [-17.322743333333335, 14.63995], &quot;type&quot;: &quot;Point&quot;}, &quot;id&quot;: &quot;1480&quot;, &quot;properties&quot;: {&quot;__folium_color&quot;: &quot;#9edae5&quot;, &quot;index&quot;: 10270, &quot;week&quot;: &quot;2022-12-05&quot;}, &quot;type&quot;: &quot;Feature&quot;}, {&quot;bbox&quot;: [-17.322736666666668, 14.639983333333332, -17.322736666666668, 14.639983333333332], &quot;geometry&quot;: {&quot;coordinates&quot;: [-17.322736666666668, 14.639983333333332], &quot;type&quot;: &quot;Point&quot;}, &quot;id&quot;: &quot;1481&quot;, &quot;properties&quot;: {&quot;__folium_color&quot;: &quot;#9edae5&quot;, &quot;index&quot;: 10271, &quot;week&quot;: &quot;2022-12-05&quot;}, &quot;type&quot;: &quot;Feature&quot;}, {&quot;bbox&quot;: [-17.322781666666668, 14.640008333333332, -17.322781666666668, 14.640008333333332], &quot;geometry&quot;: {&quot;coordinates&quot;: [-17.322781666666668, 14.640008333333332], &quot;type&quot;: &quot;Point&quot;}, &quot;id&quot;: &quot;1482&quot;, &quot;properties&quot;: {&quot;__folium_color&quot;: &quot;#9edae5&quot;, &quot;index&quot;: 10272, &quot;week&quot;: &quot;2022-12-05&quot;}, &quot;type&quot;: &quot;Feature&quot;}, {&quot;bbox&quot;: [-17.322971666666668, 14.64, -17.322971666666668, 14.64], &quot;geometry&quot;: {&quot;coordinates&quot;: [-17.322971666666668, 14.64], &quot;type&quot;: &quot;Point&quot;}, &quot;id&quot;: &quot;1483&quot;, &quot;properties&quot;: {&quot;__folium_color&quot;: &quot;#9edae5&quot;, &quot;index&quot;: 10273, &quot;week&quot;: &quot;2022-12-05&quot;}, &quot;type&quot;: &quot;Feature&quot;}, {&quot;bbox&quot;: [-17.323001666666666, 14.639981666666667, -17.323001666666666, 14.639981666666667], &quot;geometry&quot;: {&quot;coordinates&quot;: [-17.323001666666666, 14.639981666666667], &quot;type&quot;: &quot;Point&quot;}, &quot;id&quot;: &quot;1484&quot;, &quot;properties&quot;: {&quot;__folium_color&quot;: &quot;#9edae5&quot;, &quot;index&quot;: 10274, &quot;week&quot;: &quot;2022-12-05&quot;}, &quot;type&quot;: &quot;Feature&quot;}, {&quot;bbox&quot;: [-17.32388, 14.639878333333334, -17.32388, 14.639878333333334], &quot;geometry&quot;: {&quot;coordinates&quot;: [-17.32388, 14.639878333333334], &quot;type&quot;: &quot;Point&quot;}, &quot;id&quot;: &quot;1485&quot;, &quot;properties&quot;: {&quot;__folium_color&quot;: &quot;#9edae5&quot;, &quot;index&quot;: 10275, &quot;week&quot;: &quot;2022-12-05&quot;}, &quot;type&quot;: &quot;Feature&quot;}, {&quot;bbox&quot;: [-17.324606666666668, 14.640098333333333, -17.324606666666668, 14.640098333333333], &quot;geometry&quot;: {&quot;coordinates&quot;: [-17.324606666666668, 14.640098333333333], &quot;type&quot;: &quot;Point&quot;}, &quot;id&quot;: &quot;1486&quot;, &quot;properties&quot;: {&quot;__folium_color&quot;: &quot;#9edae5&quot;, &quot;index&quot;: 10276, &quot;week&quot;: &quot;2022-12-05&quot;}, &quot;type&quot;: &quot;Feature&quot;}, {&quot;bbox&quot;: [-17.324585000000003, 14.640111666666666, -17.324585000000003, 14.640111666666666], &quot;geometry&quot;: {&quot;coordinates&quot;: [-17.324585000000003, 14.640111666666666], &quot;type&quot;: &quot;Point&quot;}, &quot;id&quot;: &quot;1487&quot;, &quot;properties&quot;: {&quot;__folium_color&quot;: &quot;#9edae5&quot;, &quot;index&quot;: 10277, &quot;week&quot;: &quot;2022-12-05&quot;}, &quot;type&quot;: &quot;Feature&quot;}, {&quot;bbox&quot;: [-17.324445, 14.640135, -17.324445, 14.640135], &quot;geometry&quot;: {&quot;coordinates&quot;: [-17.324445, 14.640135], &quot;type&quot;: &quot;Point&quot;}, &quot;id&quot;: &quot;1488&quot;, &quot;properties&quot;: {&quot;__folium_color&quot;: &quot;#9edae5&quot;, &quot;index&quot;: 10278, &quot;week&quot;: &quot;2022-12-05&quot;}, &quot;type&quot;: &quot;Feature&quot;}, {&quot;bbox&quot;: [-17.324838333333332, 14.640346666666666, -17.324838333333332, 14.640346666666666], &quot;geometry&quot;: {&quot;coordinates&quot;: [-17.324838333333332, 14.640346666666666], &quot;type&quot;: &quot;Point&quot;}, &quot;id&quot;: &quot;1489&quot;, &quot;properties&quot;: {&quot;__folium_color&quot;: &quot;#9edae5&quot;, &quot;index&quot;: 10279, &quot;week&quot;: &quot;2022-12-05&quot;}, &quot;type&quot;: &quot;Feature&quot;}, {&quot;bbox&quot;: [-17.324955, 14.6404, -17.324955, 14.6404], &quot;geometry&quot;: {&quot;coordinates&quot;: [-17.324955, 14.6404], &quot;type&quot;: &quot;Point&quot;}, &quot;id&quot;: &quot;1490&quot;, &quot;properties&quot;: {&quot;__folium_color&quot;: &quot;#9edae5&quot;, &quot;index&quot;: 10280, &quot;week&quot;: &quot;2022-12-05&quot;}, &quot;type&quot;: &quot;Feature&quot;}, {&quot;bbox&quot;: [-17.324768333333335, 14.640186666666668, -17.324768333333335, 14.640186666666668], &quot;geometry&quot;: {&quot;coordinates&quot;: [-17.324768333333335, 14.640186666666668], &quot;type&quot;: &quot;Point&quot;}, &quot;id&quot;: &quot;1491&quot;, &quot;properties&quot;: {&quot;__folium_color&quot;: &quot;#9edae5&quot;, &quot;index&quot;: 10281, &quot;week&quot;: &quot;2022-12-05&quot;}, &quot;type&quot;: &quot;Feature&quot;}, {&quot;bbox&quot;: [-17.324785000000002, 14.640188333333333, -17.324785000000002, 14.640188333333333], &quot;geometry&quot;: {&quot;coordinates&quot;: [-17.324785000000002, 14.640188333333333], &quot;type&quot;: &quot;Point&quot;}, &quot;id&quot;: &quot;1492&quot;, &quot;properties&quot;: {&quot;__folium_color&quot;: &quot;#9edae5&quot;, &quot;index&quot;: 10282, &quot;week&quot;: &quot;2022-12-05&quot;}, &quot;type&quot;: &quot;Feature&quot;}, {&quot;bbox&quot;: [-17.32485, 14.640251666666668, -17.32485, 14.640251666666668], &quot;geometry&quot;: {&quot;coordinates&quot;: [-17.32485, 14.640251666666668], &quot;type&quot;: &quot;Point&quot;}, &quot;id&quot;: &quot;1493&quot;, &quot;properties&quot;: {&quot;__folium_color&quot;: &quot;#9edae5&quot;, &quot;index&quot;: 10283, &quot;week&quot;: &quot;2022-12-05&quot;}, &quot;type&quot;: &quot;Feature&quot;}, {&quot;bbox&quot;: [-17.324706666666668, 14.6404, -17.324706666666668, 14.6404], &quot;geometry&quot;: {&quot;coordinates&quot;: [-17.324706666666668, 14.6404], &quot;type&quot;: &quot;Point&quot;}, &quot;id&quot;: &quot;1494&quot;, &quot;properties&quot;: {&quot;__folium_color&quot;: &quot;#9edae5&quot;, &quot;index&quot;: 10284, &quot;week&quot;: &quot;2022-12-05&quot;}, &quot;type&quot;: &quot;Feature&quot;}, {&quot;bbox&quot;: [-17.323471666666666, 14.642298333333336, -17.323471666666666, 14.642298333333336], &quot;geometry&quot;: {&quot;coordinates&quot;: [-17.323471666666666, 14.642298333333336], &quot;type&quot;: &quot;Point&quot;}, &quot;id&quot;: &quot;1495&quot;, &quot;properties&quot;: {&quot;__folium_color&quot;: &quot;#9edae5&quot;, &quot;index&quot;: 10285, &quot;week&quot;: &quot;2022-12-05&quot;}, &quot;type&quot;: &quot;Feature&quot;}, {&quot;bbox&quot;: [-17.323505, 14.642525, -17.323505, 14.642525], &quot;geometry&quot;: {&quot;coordinates&quot;: [-17.323505, 14.642525], &quot;type&quot;: &quot;Point&quot;}, &quot;id&quot;: &quot;1496&quot;, &quot;properties&quot;: {&quot;__folium_color&quot;: &quot;#9edae5&quot;, &quot;index&quot;: 10286, &quot;week&quot;: &quot;2022-12-05&quot;}, &quot;type&quot;: &quot;Feature&quot;}, {&quot;bbox&quot;: [-17.326758333333334, 14.65232, -17.326758333333334, 14.65232], &quot;geometry&quot;: {&quot;coordinates&quot;: [-17.326758333333334, 14.65232], &quot;type&quot;: &quot;Point&quot;}, &quot;id&quot;: &quot;1497&quot;, &quot;properties&quot;: {&quot;__folium_color&quot;: &quot;#9edae5&quot;, &quot;index&quot;: 10287, &quot;week&quot;: &quot;2022-12-05&quot;}, &quot;type&quot;: &quot;Feature&quot;}, {&quot;bbox&quot;: [-17.378725, 14.677591666666666, -17.378725, 14.677591666666666], &quot;geometry&quot;: {&quot;coordinates&quot;: [-17.378725, 14.677591666666666], &quot;type&quot;: &quot;Point&quot;}, &quot;id&quot;: &quot;1498&quot;, &quot;properties&quot;: {&quot;__folium_color&quot;: &quot;#9edae5&quot;, &quot;index&quot;: 10288, &quot;week&quot;: &quot;2022-12-05&quot;}, &quot;type&quot;: &quot;Feature&quot;}, {&quot;bbox&quot;: [-17.389521666666667, 14.678333333333336, -17.389521666666667, 14.678333333333336], &quot;geometry&quot;: {&quot;coordinates&quot;: [-17.389521666666667, 14.678333333333336], &quot;type&quot;: &quot;Point&quot;}, &quot;id&quot;: &quot;1499&quot;, &quot;properties&quot;: {&quot;__folium_color&quot;: &quot;#9edae5&quot;, &quot;index&quot;: 10289, &quot;week&quot;: &quot;2022-12-05&quot;}, &quot;type&quot;: &quot;Feature&quot;}, {&quot;bbox&quot;: [-17.410851666666666, 14.677896666666667, -17.410851666666666, 14.677896666666667], &quot;geometry&quot;: {&quot;coordinates&quot;: [-17.410851666666666, 14.677896666666667], &quot;type&quot;: &quot;Point&quot;}, &quot;id&quot;: &quot;1500&quot;, &quot;properties&quot;: {&quot;__folium_color&quot;: &quot;#9edae5&quot;, &quot;index&quot;: 10290, &quot;week&quot;: &quot;2022-12-05&quot;}, &quot;type&quot;: &quot;Feature&quot;}, {&quot;bbox&quot;: [-17.421333333333333, 14.677815, -17.421333333333333, 14.677815], &quot;geometry&quot;: {&quot;coordinates&quot;: [-17.421333333333333, 14.677815], &quot;type&quot;: &quot;Point&quot;}, &quot;id&quot;: &quot;1501&quot;, &quot;properties&quot;: {&quot;__folium_color&quot;: &quot;#9edae5&quot;, &quot;index&quot;: 10291, &quot;week&quot;: &quot;2022-12-05&quot;}, &quot;type&quot;: &quot;Feature&quot;}, {&quot;bbox&quot;: [-17.424586666666666, 14.68299, -17.424586666666666, 14.68299], &quot;geometry&quot;: {&quot;coordinates&quot;: [-17.424586666666666, 14.68299], &quot;type&quot;: &quot;Point&quot;}, &quot;id&quot;: &quot;1502&quot;, &quot;properties&quot;: {&quot;__folium_color&quot;: &quot;#9edae5&quot;, &quot;index&quot;: 10292, &quot;week&quot;: &quot;2022-12-05&quot;}, &quot;type&quot;: &quot;Feature&quot;}, {&quot;bbox&quot;: [-17.424613333333333, 14.682991666666668, -17.424613333333333, 14.682991666666668], &quot;geometry&quot;: {&quot;coordinates&quot;: [-17.424613333333333, 14.682991666666668], &quot;type&quot;: &quot;Point&quot;}, &quot;id&quot;: &quot;1503&quot;, &quot;properties&quot;: {&quot;__folium_color&quot;: &quot;#9edae5&quot;, &quot;index&quot;: 10293, &quot;week&quot;: &quot;2022-12-05&quot;}, &quot;type&quot;: &quot;Feature&quot;}, {&quot;bbox&quot;: [-17.424581666666665, 14.683005, -17.424581666666665, 14.683005], &quot;geometry&quot;: {&quot;coordinates&quot;: [-17.424581666666665, 14.683005], &quot;type&quot;: &quot;Point&quot;}, &quot;id&quot;: &quot;1504&quot;, &quot;properties&quot;: {&quot;__folium_color&quot;: &quot;#9edae5&quot;, &quot;index&quot;: 10294, &quot;week&quot;: &quot;2022-12-05&quot;}, &quot;type&quot;: &quot;Feature&quot;}, {&quot;bbox&quot;: [-17.424590000000002, 14.682975, -17.424590000000002, 14.682975], &quot;geometry&quot;: {&quot;coordinates&quot;: [-17.424590000000002, 14.682975], &quot;type&quot;: &quot;Point&quot;}, &quot;id&quot;: &quot;1505&quot;, &quot;properties&quot;: {&quot;__folium_color&quot;: &quot;#9edae5&quot;, &quot;index&quot;: 10295, &quot;week&quot;: &quot;2022-12-05&quot;}, &quot;type&quot;: &quot;Feature&quot;}, {&quot;bbox&quot;: [-17.424606666666666, 14.682993333333334, -17.424606666666666, 14.682993333333334], &quot;geometry&quot;: {&quot;coordinates&quot;: [-17.424606666666666, 14.682993333333334], &quot;type&quot;: &quot;Point&quot;}, &quot;id&quot;: &quot;1506&quot;, &quot;properties&quot;: {&quot;__folium_color&quot;: &quot;#9edae5&quot;, &quot;index&quot;: 10296, &quot;week&quot;: &quot;2022-12-05&quot;}, &quot;type&quot;: &quot;Feature&quot;}, {&quot;bbox&quot;: [-17.424586666666666, 14.682981666666668, -17.424586666666666, 14.682981666666668], &quot;geometry&quot;: {&quot;coordinates&quot;: [-17.424586666666666, 14.682981666666668], &quot;type&quot;: &quot;Point&quot;}, &quot;id&quot;: &quot;1507&quot;, &quot;properties&quot;: {&quot;__folium_color&quot;: &quot;#9edae5&quot;, &quot;index&quot;: 10297, &quot;week&quot;: &quot;2022-12-05&quot;}, &quot;type&quot;: &quot;Feature&quot;}, {&quot;bbox&quot;: [-17.424629999999997, 14.682965, -17.424629999999997, 14.682965], &quot;geometry&quot;: {&quot;coordinates&quot;: [-17.424629999999997, 14.682965], &quot;type&quot;: &quot;Point&quot;}, &quot;id&quot;: &quot;1508&quot;, &quot;properties&quot;: {&quot;__folium_color&quot;: &quot;#9edae5&quot;, &quot;index&quot;: 10298, &quot;week&quot;: &quot;2022-12-05&quot;}, &quot;type&quot;: &quot;Feature&quot;}, {&quot;bbox&quot;: [-17.424606666666666, 14.682963333333332, -17.424606666666666, 14.682963333333332], &quot;geometry&quot;: {&quot;coordinates&quot;: [-17.424606666666666, 14.682963333333332], &quot;type&quot;: &quot;Point&quot;}, &quot;id&quot;: &quot;1509&quot;, &quot;properties&quot;: {&quot;__folium_color&quot;: &quot;#9edae5&quot;, &quot;index&quot;: 10299, &quot;week&quot;: &quot;2022-12-05&quot;}, &quot;type&quot;: &quot;Feature&quot;}, {&quot;bbox&quot;: [-17.424596666666666, 14.682975, -17.424596666666666, 14.682975], &quot;geometry&quot;: {&quot;coordinates&quot;: [-17.424596666666666, 14.682975], &quot;type&quot;: &quot;Point&quot;}, &quot;id&quot;: &quot;1510&quot;, &quot;properties&quot;: {&quot;__folium_color&quot;: &quot;#9edae5&quot;, &quot;index&quot;: 10300, &quot;week&quot;: &quot;2022-12-05&quot;}, &quot;type&quot;: &quot;Feature&quot;}, {&quot;bbox&quot;: [-17.424606666666666, 14.682995, -17.424606666666666, 14.682995], &quot;geometry&quot;: {&quot;coordinates&quot;: [-17.424606666666666, 14.682995], &quot;type&quot;: &quot;Point&quot;}, &quot;id&quot;: &quot;1511&quot;, &quot;properties&quot;: {&quot;__folium_color&quot;: &quot;#9edae5&quot;, &quot;index&quot;: 10301, &quot;week&quot;: &quot;2022-12-05&quot;}, &quot;type&quot;: &quot;Feature&quot;}, {&quot;bbox&quot;: [-17.424588333333336, 14.682985, -17.424588333333336, 14.682985], &quot;geometry&quot;: {&quot;coordinates&quot;: [-17.424588333333336, 14.682985], &quot;type&quot;: &quot;Point&quot;}, &quot;id&quot;: &quot;1512&quot;, &quot;properties&quot;: {&quot;__folium_color&quot;: &quot;#9edae5&quot;, &quot;index&quot;: 10302, &quot;week&quot;: &quot;2022-12-05&quot;}, &quot;type&quot;: &quot;Feature&quot;}, {&quot;bbox&quot;: [-17.424605, 14.683013333333331, -17.424605, 14.683013333333331], &quot;geometry&quot;: {&quot;coordinates&quot;: [-17.424605, 14.683013333333331], &quot;type&quot;: &quot;Point&quot;}, &quot;id&quot;: &quot;1513&quot;, &quot;properties&quot;: {&quot;__folium_color&quot;: &quot;#9edae5&quot;, &quot;index&quot;: 10303, &quot;week&quot;: &quot;2022-12-05&quot;}, &quot;type&quot;: &quot;Feature&quot;}, {&quot;bbox&quot;: [-17.424598333333332, 14.682993333333334, -17.424598333333332, 14.682993333333334], &quot;geometry&quot;: {&quot;coordinates&quot;: [-17.424598333333332, 14.682993333333334], &quot;type&quot;: &quot;Point&quot;}, &quot;id&quot;: &quot;1514&quot;, &quot;properties&quot;: {&quot;__folium_color&quot;: &quot;#9edae5&quot;, &quot;index&quot;: 10304, &quot;week&quot;: &quot;2022-12-05&quot;}, &quot;type&quot;: &quot;Feature&quot;}, {&quot;bbox&quot;: [-17.424588333333336, 14.682993333333334, -17.424588333333336, 14.682993333333334], &quot;geometry&quot;: {&quot;coordinates&quot;: [-17.424588333333336, 14.682993333333334], &quot;type&quot;: &quot;Point&quot;}, &quot;id&quot;: &quot;1515&quot;, &quot;properties&quot;: {&quot;__folium_color&quot;: &quot;#9edae5&quot;, &quot;index&quot;: 10305, &quot;week&quot;: &quot;2022-12-05&quot;}, &quot;type&quot;: &quot;Feature&quot;}, {&quot;bbox&quot;: [-17.424601666666668, 14.682991666666668, -17.424601666666668, 14.682991666666668], &quot;geometry&quot;: {&quot;coordinates&quot;: [-17.424601666666668, 14.682991666666668], &quot;type&quot;: &quot;Point&quot;}, &quot;id&quot;: &quot;1516&quot;, &quot;properties&quot;: {&quot;__folium_color&quot;: &quot;#9edae5&quot;, &quot;index&quot;: 10306, &quot;week&quot;: &quot;2022-12-05&quot;}, &quot;type&quot;: &quot;Feature&quot;}, {&quot;bbox&quot;: [-17.424588333333336, 14.682988333333332, -17.424588333333336, 14.682988333333332], &quot;geometry&quot;: {&quot;coordinates&quot;: [-17.424588333333336, 14.682988333333332], &quot;type&quot;: &quot;Point&quot;}, &quot;id&quot;: &quot;1517&quot;, &quot;properties&quot;: {&quot;__folium_color&quot;: &quot;#9edae5&quot;, &quot;index&quot;: 10307, &quot;week&quot;: &quot;2022-12-05&quot;}, &quot;type&quot;: &quot;Feature&quot;}, {&quot;bbox&quot;: [-17.424581666666665, 14.68298, -17.424581666666665, 14.68298], &quot;geometry&quot;: {&quot;coordinates&quot;: [-17.424581666666665, 14.68298], &quot;type&quot;: &quot;Point&quot;}, &quot;id&quot;: &quot;1518&quot;, &quot;properties&quot;: {&quot;__folium_color&quot;: &quot;#9edae5&quot;, &quot;index&quot;: 10308, &quot;week&quot;: &quot;2022-12-05&quot;}, &quot;type&quot;: &quot;Feature&quot;}, {&quot;bbox&quot;: [-17.424598333333332, 14.682998333333334, -17.424598333333332, 14.682998333333334], &quot;geometry&quot;: {&quot;coordinates&quot;: [-17.424598333333332, 14.682998333333334], &quot;type&quot;: &quot;Point&quot;}, &quot;id&quot;: &quot;1519&quot;, &quot;properties&quot;: {&quot;__folium_color&quot;: &quot;#9edae5&quot;, &quot;index&quot;: 10309, &quot;week&quot;: &quot;2022-12-05&quot;}, &quot;type&quot;: &quot;Feature&quot;}, {&quot;bbox&quot;: [-17.424603333333334, 14.682978333333333, -17.424603333333334, 14.682978333333333], &quot;geometry&quot;: {&quot;coordinates&quot;: [-17.424603333333334, 14.682978333333333], &quot;type&quot;: &quot;Point&quot;}, &quot;id&quot;: &quot;1520&quot;, &quot;properties&quot;: {&quot;__folium_color&quot;: &quot;#9edae5&quot;, &quot;index&quot;: 10310, &quot;week&quot;: &quot;2022-12-05&quot;}, &quot;type&quot;: &quot;Feature&quot;}, {&quot;bbox&quot;: [-17.424586666666666, 14.682975, -17.424586666666666, 14.682975], &quot;geometry&quot;: {&quot;coordinates&quot;: [-17.424586666666666, 14.682975], &quot;type&quot;: &quot;Point&quot;}, &quot;id&quot;: &quot;1521&quot;, &quot;properties&quot;: {&quot;__folium_color&quot;: &quot;#9edae5&quot;, &quot;index&quot;: 10311, &quot;week&quot;: &quot;2022-12-05&quot;}, &quot;type&quot;: &quot;Feature&quot;}, {&quot;bbox&quot;: [-17.42461666666667, 14.682908333333334, -17.42461666666667, 14.682908333333334], &quot;geometry&quot;: {&quot;coordinates&quot;: [-17.42461666666667, 14.682908333333334], &quot;type&quot;: &quot;Point&quot;}, &quot;id&quot;: &quot;1522&quot;, &quot;properties&quot;: {&quot;__folium_color&quot;: &quot;#9edae5&quot;, &quot;index&quot;: 10312, &quot;week&quot;: &quot;2022-12-05&quot;}, &quot;type&quot;: &quot;Feature&quot;}, {&quot;bbox&quot;: [-17.424173333333332, 14.68235, -17.424173333333332, 14.68235], &quot;geometry&quot;: {&quot;coordinates&quot;: [-17.424173333333332, 14.68235], &quot;type&quot;: &quot;Point&quot;}, &quot;id&quot;: &quot;1523&quot;, &quot;properties&quot;: {&quot;__folium_color&quot;: &quot;#9edae5&quot;, &quot;index&quot;: 10313, &quot;week&quot;: &quot;2022-12-05&quot;}, &quot;type&quot;: &quot;Feature&quot;}, {&quot;bbox&quot;: [-17.42379, 14.682113333333332, -17.42379, 14.682113333333332], &quot;geometry&quot;: {&quot;coordinates&quot;: [-17.42379, 14.682113333333332], &quot;type&quot;: &quot;Point&quot;}, &quot;id&quot;: &quot;1524&quot;, &quot;properties&quot;: {&quot;__folium_color&quot;: &quot;#9edae5&quot;, &quot;index&quot;: 10314, &quot;week&quot;: &quot;2022-12-05&quot;}, &quot;type&quot;: &quot;Feature&quot;}, {&quot;bbox&quot;: [-17.423698333333334, 14.679423333333334, -17.423698333333334, 14.679423333333334], &quot;geometry&quot;: {&quot;coordinates&quot;: [-17.423698333333334, 14.679423333333334], &quot;type&quot;: &quot;Point&quot;}, &quot;id&quot;: &quot;1525&quot;, &quot;properties&quot;: {&quot;__folium_color&quot;: &quot;#9edae5&quot;, &quot;index&quot;: 10315, &quot;week&quot;: &quot;2022-12-05&quot;}, &quot;type&quot;: &quot;Feature&quot;}, {&quot;bbox&quot;: [-17.422976666666667, 14.679006666666668, -17.422976666666667, 14.679006666666668], &quot;geometry&quot;: {&quot;coordinates&quot;: [-17.422976666666667, 14.679006666666668], &quot;type&quot;: &quot;Point&quot;}, &quot;id&quot;: &quot;1526&quot;, &quot;properties&quot;: {&quot;__folium_color&quot;: &quot;#9edae5&quot;, &quot;index&quot;: 10316, &quot;week&quot;: &quot;2022-12-05&quot;}, &quot;type&quot;: &quot;Feature&quot;}, {&quot;bbox&quot;: [-17.411416666666664, 14.677628333333333, -17.411416666666664, 14.677628333333333], &quot;geometry&quot;: {&quot;coordinates&quot;: [-17.411416666666664, 14.677628333333333], &quot;type&quot;: &quot;Point&quot;}, &quot;id&quot;: &quot;1527&quot;, &quot;properties&quot;: {&quot;__folium_color&quot;: &quot;#9edae5&quot;, &quot;index&quot;: 10317, &quot;week&quot;: &quot;2022-12-05&quot;}, &quot;type&quot;: &quot;Feature&quot;}, {&quot;bbox&quot;: [-17.394136666666668, 14.678046666666669, -17.394136666666668, 14.678046666666669], &quot;geometry&quot;: {&quot;coordinates&quot;: [-17.394136666666668, 14.678046666666669], &quot;type&quot;: &quot;Point&quot;}, &quot;id&quot;: &quot;1528&quot;, &quot;properties&quot;: {&quot;__folium_color&quot;: &quot;#9edae5&quot;, &quot;index&quot;: 10318, &quot;week&quot;: &quot;2022-12-05&quot;}, &quot;type&quot;: &quot;Feature&quot;}, {&quot;bbox&quot;: [-17.38232833333333, 14.678933333333331, -17.38232833333333, 14.678933333333331], &quot;geometry&quot;: {&quot;coordinates&quot;: [-17.38232833333333, 14.678933333333331], &quot;type&quot;: &quot;Point&quot;}, &quot;id&quot;: &quot;1529&quot;, &quot;properties&quot;: {&quot;__folium_color&quot;: &quot;#9edae5&quot;, &quot;index&quot;: 10319, &quot;week&quot;: &quot;2022-12-05&quot;}, &quot;type&quot;: &quot;Feature&quot;}, {&quot;bbox&quot;: [-17.377845, 14.663733333333331, -17.377845, 14.663733333333331], &quot;geometry&quot;: {&quot;coordinates&quot;: [-17.377845, 14.663733333333331], &quot;type&quot;: &quot;Point&quot;}, &quot;id&quot;: &quot;1530&quot;, &quot;properties&quot;: {&quot;__folium_color&quot;: &quot;#9edae5&quot;, &quot;index&quot;: 10320, &quot;week&quot;: &quot;2022-12-05&quot;}, &quot;type&quot;: &quot;Feature&quot;}, {&quot;bbox&quot;: [-17.382451666666668, 14.628166666666669, -17.382451666666668, 14.628166666666669], &quot;geometry&quot;: {&quot;coordinates&quot;: [-17.382451666666668, 14.628166666666669], &quot;type&quot;: &quot;Point&quot;}, &quot;id&quot;: &quot;1531&quot;, &quot;properties&quot;: {&quot;__folium_color&quot;: &quot;#9edae5&quot;, &quot;index&quot;: 10321, &quot;week&quot;: &quot;2022-12-05&quot;}, &quot;type&quot;: &quot;Feature&quot;}, {&quot;bbox&quot;: [-17.386986666666665, 14.614143333333336, -17.386986666666665, 14.614143333333336], &quot;geometry&quot;: {&quot;coordinates&quot;: [-17.386986666666665, 14.614143333333336], &quot;type&quot;: &quot;Point&quot;}, &quot;id&quot;: &quot;1532&quot;, &quot;properties&quot;: {&quot;__folium_color&quot;: &quot;#9edae5&quot;, &quot;index&quot;: 10322, &quot;week&quot;: &quot;2022-12-05&quot;}, &quot;type&quot;: &quot;Feature&quot;}, {&quot;bbox&quot;: [-17.39759666666667, 14.606635, -17.39759666666667, 14.606635], &quot;geometry&quot;: {&quot;coordinates&quot;: [-17.39759666666667, 14.606635], &quot;type&quot;: &quot;Point&quot;}, &quot;id&quot;: &quot;1533&quot;, &quot;properties&quot;: {&quot;__folium_color&quot;: &quot;#9edae5&quot;, &quot;index&quot;: 10323, &quot;week&quot;: &quot;2022-12-05&quot;}, &quot;type&quot;: &quot;Feature&quot;}, {&quot;bbox&quot;: [-17.44682, 14.592735, -17.44682, 14.592735], &quot;geometry&quot;: {&quot;coordinates&quot;: [-17.44682, 14.592735], &quot;type&quot;: &quot;Point&quot;}, &quot;id&quot;: &quot;1534&quot;, &quot;properties&quot;: {&quot;__folium_color&quot;: &quot;#9edae5&quot;, &quot;index&quot;: 10324, &quot;week&quot;: &quot;2022-12-05&quot;}, &quot;type&quot;: &quot;Feature&quot;}, {&quot;bbox&quot;: [-17.463925, 14.592466666666668, -17.463925, 14.592466666666668], &quot;geometry&quot;: {&quot;coordinates&quot;: [-17.463925, 14.592466666666668], &quot;type&quot;: &quot;Point&quot;}, &quot;id&quot;: &quot;1535&quot;, &quot;properties&quot;: {&quot;__folium_color&quot;: &quot;#9edae5&quot;, &quot;index&quot;: 10325, &quot;week&quot;: &quot;2022-12-05&quot;}, &quot;type&quot;: &quot;Feature&quot;}, {&quot;bbox&quot;: [-17.476261666666666, 14.594605, -17.476261666666666, 14.594605], &quot;geometry&quot;: {&quot;coordinates&quot;: [-17.476261666666666, 14.594605], &quot;type&quot;: &quot;Point&quot;}, &quot;id&quot;: &quot;1536&quot;, &quot;properties&quot;: {&quot;__folium_color&quot;: &quot;#9edae5&quot;, &quot;index&quot;: 10326, &quot;week&quot;: &quot;2022-12-05&quot;}, &quot;type&quot;: &quot;Feature&quot;}, {&quot;bbox&quot;: [-17.501266666666666, 14.60792, -17.501266666666666, 14.60792], &quot;geometry&quot;: {&quot;coordinates&quot;: [-17.501266666666666, 14.60792], &quot;type&quot;: &quot;Point&quot;}, &quot;id&quot;: &quot;1537&quot;, &quot;properties&quot;: {&quot;__folium_color&quot;: &quot;#9edae5&quot;, &quot;index&quot;: 10327, &quot;week&quot;: &quot;2022-12-05&quot;}, &quot;type&quot;: &quot;Feature&quot;}, {&quot;bbox&quot;: [-17.541913333333333, 14.627946666666666, -17.541913333333333, 14.627946666666666], &quot;geometry&quot;: {&quot;coordinates&quot;: [-17.541913333333333, 14.627946666666666], &quot;type&quot;: &quot;Point&quot;}, &quot;id&quot;: &quot;1538&quot;, &quot;properties&quot;: {&quot;__folium_color&quot;: &quot;#9edae5&quot;, &quot;index&quot;: 10328, &quot;week&quot;: &quot;2022-12-05&quot;}, &quot;type&quot;: &quot;Feature&quot;}, {&quot;bbox&quot;: [-17.553888333333337, 14.633611666666669, -17.553888333333337, 14.633611666666669], &quot;geometry&quot;: {&quot;coordinates&quot;: [-17.553888333333337, 14.633611666666669], &quot;type&quot;: &quot;Point&quot;}, &quot;id&quot;: &quot;1539&quot;, &quot;properties&quot;: {&quot;__folium_color&quot;: &quot;#9edae5&quot;, &quot;index&quot;: 10329, &quot;week&quot;: &quot;2022-12-05&quot;}, &quot;type&quot;: &quot;Feature&quot;}, {&quot;bbox&quot;: [-17.58143833333333, 14.649123333333334, -17.58143833333333, 14.649123333333334], &quot;geometry&quot;: {&quot;coordinates&quot;: [-17.58143833333333, 14.649123333333334], &quot;type&quot;: &quot;Point&quot;}, &quot;id&quot;: &quot;1540&quot;, &quot;properties&quot;: {&quot;__folium_color&quot;: &quot;#9edae5&quot;, &quot;index&quot;: 10330, &quot;week&quot;: &quot;2022-12-05&quot;}, &quot;type&quot;: &quot;Feature&quot;}, {&quot;bbox&quot;: [-17.61251, 14.666518333333332, -17.61251, 14.666518333333332], &quot;geometry&quot;: {&quot;coordinates&quot;: [-17.61251, 14.666518333333332], &quot;type&quot;: &quot;Point&quot;}, &quot;id&quot;: &quot;1541&quot;, &quot;properties&quot;: {&quot;__folium_color&quot;: &quot;#9edae5&quot;, &quot;index&quot;: 10331, &quot;week&quot;: &quot;2022-12-05&quot;}, &quot;type&quot;: &quot;Feature&quot;}, {&quot;bbox&quot;: [-17.621618333333334, 14.681156666666668, -17.621618333333334, 14.681156666666668], &quot;geometry&quot;: {&quot;coordinates&quot;: [-17.621618333333334, 14.681156666666668], &quot;type&quot;: &quot;Point&quot;}, &quot;id&quot;: &quot;1542&quot;, &quot;properties&quot;: {&quot;__folium_color&quot;: &quot;#9edae5&quot;, &quot;index&quot;: 10332, &quot;week&quot;: &quot;2022-12-05&quot;}, &quot;type&quot;: &quot;Feature&quot;}, {&quot;bbox&quot;: [-17.62987, 14.71808, -17.62987, 14.71808], &quot;geometry&quot;: {&quot;coordinates&quot;: [-17.62987, 14.71808], &quot;type&quot;: &quot;Point&quot;}, &quot;id&quot;: &quot;1543&quot;, &quot;properties&quot;: {&quot;__folium_color&quot;: &quot;#9edae5&quot;, &quot;index&quot;: 10333, &quot;week&quot;: &quot;2022-12-05&quot;}, &quot;type&quot;: &quot;Feature&quot;}], &quot;type&quot;: &quot;FeatureCollection&quot;});\n",
       "\n",
       "        \n",
       "    \n",
       "    geo_json_97ce47e4249a784d48421a0cc6055aec.bindTooltip(\n",
       "    function(layer){\n",
       "    let div = L.DomUtil.create(&#x27;div&#x27;);\n",
       "    \n",
       "    let handleObject = feature=&gt;typeof(feature)==&#x27;object&#x27; ? JSON.stringify(feature) : feature;\n",
       "    let fields = [&quot;index&quot;, &quot;week&quot;];\n",
       "    let aliases = [&quot;index&quot;, &quot;week&quot;];\n",
       "    let table = &#x27;&lt;table&gt;&#x27; +\n",
       "        String(\n",
       "        fields.map(\n",
       "        (v,i)=&gt;\n",
       "        `&lt;tr&gt;\n",
       "            &lt;th&gt;${aliases[i]}&lt;/th&gt;\n",
       "            \n",
       "            &lt;td&gt;${handleObject(layer.feature.properties[v])}&lt;/td&gt;\n",
       "        &lt;/tr&gt;`).join(&#x27;&#x27;))\n",
       "    +&#x27;&lt;/table&gt;&#x27;;\n",
       "    div.innerHTML=table;\n",
       "    \n",
       "    return div\n",
       "    }\n",
       "    ,{&quot;className&quot;: &quot;foliumtooltip&quot;, &quot;sticky&quot;: true});\n",
       "                     \n",
       "&lt;/script&gt;\n",
       "&lt;/html&gt;\" style=\"position:absolute;width:100%;height:100%;left:0;top:0;border:none !important;\" allowfullscreen webkitallowfullscreen mozallowfullscreen></iframe></div></div>"
      ],
      "text/plain": [
       "<folium.folium.Map at 0x358a1aaf0>"
      ]
     },
     "execution_count": 162,
     "metadata": {},
     "output_type": "execute_result"
    }
   ],
   "source": [
    "sts.query('name==\"AIDA\"')[['geometry', 'week']].explore(column='week')"
   ]
  },
  {
   "cell_type": "markdown",
   "metadata": {},
   "source": []
  },
  {
   "cell_type": "code",
   "execution_count": null,
   "metadata": {},
   "outputs": [],
   "source": []
  },
  {
   "cell_type": "code",
   "execution_count": null,
   "metadata": {},
   "outputs": [],
   "source": []
  },
  {
   "cell_type": "code",
   "execution_count": null,
   "metadata": {},
   "outputs": [],
   "source": []
  },
  {
   "cell_type": "code",
   "execution_count": null,
   "metadata": {},
   "outputs": [],
   "source": []
  }
 ],
 "metadata": {
  "kernelspec": {
   "display_name": "geo",
   "language": "python",
   "name": "python3"
  },
  "language_info": {
   "codemirror_mode": {
    "name": "ipython",
    "version": 3
   },
   "file_extension": ".py",
   "mimetype": "text/x-python",
   "name": "python",
   "nbconvert_exporter": "python",
   "pygments_lexer": "ipython3",
   "version": "3.9.18"
  }
 },
 "nbformat": 4,
 "nbformat_minor": 2
}

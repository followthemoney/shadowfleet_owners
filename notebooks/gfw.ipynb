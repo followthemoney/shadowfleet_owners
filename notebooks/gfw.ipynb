{
 "cells": [
  {
   "cell_type": "code",
   "execution_count": 1,
   "metadata": {},
   "outputs": [],
   "source": [
    "import sys\n",
    "sys.path.append('../src/')"
   ]
  },
  {
   "cell_type": "code",
   "execution_count": 3,
   "metadata": {},
   "outputs": [],
   "source": [
    "import pandas as pd\n",
    "import shadowfleet as sf\n",
    "from pathlib import Path\n",
    "\n",
    "PATH = Path('../data')"
   ]
  },
  {
   "cell_type": "code",
   "execution_count": 71,
   "metadata": {},
   "outputs": [],
   "source": [
    "lloyds = pd.read_csv(PATH / 'gfw/shadowfleet_lloyds.csv')"
   ]
  },
  {
   "cell_type": "code",
   "execution_count": 74,
   "metadata": {},
   "outputs": [],
   "source": [
    "lloyds.dropna(subset=['IMO'], inplace=True)\n",
    "lloyds.IMO = lloyds.IMO.astype(int)\n"
   ]
  },
  {
   "cell_type": "code",
   "execution_count": 75,
   "metadata": {},
   "outputs": [
    {
     "data": {
      "text/plain": [
       "667"
      ]
     },
     "execution_count": 75,
     "metadata": {},
     "output_type": "execute_result"
    }
   ],
   "source": [
    "imos = lloyds.IMO.unique()\n",
    "len(imos)"
   ]
  },
  {
   "cell_type": "code",
   "execution_count": 76,
   "metadata": {},
   "outputs": [],
   "source": [
    "lloyds_vessels, lloyds_owners = sf.get_vessels(query=imos,\n",
    "                                filename=PATH / 'gfw/gfw_lloyds.json',\n",
    "                                field='imo',\n",
    "                                limit=5)"
   ]
  },
  {
   "cell_type": "code",
   "execution_count": 56,
   "metadata": {},
   "outputs": [],
   "source": []
  },
  {
   "cell_type": "code",
   "execution_count": 83,
   "metadata": {},
   "outputs": [
    {
     "data": {
      "text/plain": [
       "1106"
      ]
     },
     "execution_count": 83,
     "metadata": {},
     "output_type": "execute_result"
    }
   ],
   "source": [
    "vessels = lloyds_vessels.copy()\n",
    "vessels['transmissionDateTo'] = pd.to_datetime(vessels['transmissionDateTo'], errors='coerce')\n",
    "filtered_vessels = vessels[vessels['transmissionDateTo'] >= '2022-12-01'].copy()\n",
    "filtered_vessels.dropna(subset='positionsCounter', inplace=True)\n",
    "filtered_vessels.query('positionsCounter > 1000', inplace=True)\n",
    "len(filtered_vessels)"
   ]
  },
  {
   "cell_type": "code",
   "execution_count": 89,
   "metadata": {},
   "outputs": [
    {
     "data": {
      "text/plain": [
       "imo\n",
       "9257814    4\n",
       "9233222    4\n",
       "9281011    4\n",
       "9371608    4\n",
       "9297319    4\n",
       "          ..\n",
       "9256913    1\n",
       "9256236    1\n",
       "9255945    1\n",
       "9255842    1\n",
       "9832559    1\n",
       "Name: count, Length: 605, dtype: int64"
      ]
     },
     "execution_count": 89,
     "metadata": {},
     "output_type": "execute_result"
    }
   ],
   "source": [
    "filtered_vessels.imo.value_counts()"
   ]
  },
  {
   "cell_type": "code",
   "execution_count": 91,
   "metadata": {},
   "outputs": [
    {
     "data": {
      "text/html": [
       "<div>\n",
       "<style scoped>\n",
       "    .dataframe tbody tr th:only-of-type {\n",
       "        vertical-align: middle;\n",
       "    }\n",
       "\n",
       "    .dataframe tbody tr th {\n",
       "        vertical-align: top;\n",
       "    }\n",
       "\n",
       "    .dataframe thead th {\n",
       "        text-align: right;\n",
       "    }\n",
       "</style>\n",
       "<table border=\"1\" class=\"dataframe\">\n",
       "  <thead>\n",
       "    <tr style=\"text-align: right;\">\n",
       "      <th></th>\n",
       "      <th>id</th>\n",
       "      <th>sourceCode</th>\n",
       "      <th>MMSI</th>\n",
       "      <th>flag</th>\n",
       "      <th>shipname</th>\n",
       "      <th>nShipname</th>\n",
       "      <th>callsign</th>\n",
       "      <th>imo</th>\n",
       "      <th>latestVesselInfo</th>\n",
       "      <th>transmissionDateFrom</th>\n",
       "      <th>transmissionDateTo</th>\n",
       "      <th>geartypes</th>\n",
       "      <th>lengthM</th>\n",
       "      <th>tonnageGt</th>\n",
       "      <th>vesselInfoReference</th>\n",
       "      <th>extraFields</th>\n",
       "      <th>query</th>\n",
       "      <th>messagesCounter</th>\n",
       "      <th>positionsCounter</th>\n",
       "      <th>matchFields</th>\n",
       "    </tr>\n",
       "  </thead>\n",
       "  <tbody>\n",
       "    <tr>\n",
       "      <th>886</th>\n",
       "      <td>578b7053d-d898-1683-bc21-72f6cc1f3a45</td>\n",
       "      <td>[AIS]</td>\n",
       "      <td>314981000</td>\n",
       "      <td>BRB</td>\n",
       "      <td>TOREX</td>\n",
       "      <td>TOREX</td>\n",
       "      <td>8P2487</td>\n",
       "      <td>9257814</td>\n",
       "      <td>NaN</td>\n",
       "      <td>2024-10-16T05:47:18Z</td>\n",
       "      <td>2025-01-14 23:57:56+00:00</td>\n",
       "      <td>NaN</td>\n",
       "      <td>NaN</td>\n",
       "      <td>NaN</td>\n",
       "      <td>NaN</td>\n",
       "      <td>NaN</td>\n",
       "      <td>None</td>\n",
       "      <td>271757.0</td>\n",
       "      <td>79817.0</td>\n",
       "      <td>NO_MATCH</td>\n",
       "    </tr>\n",
       "    <tr>\n",
       "      <th>887</th>\n",
       "      <td>c925f2f5b-bd74-f700-ce7e-ca582ec01ff2</td>\n",
       "      <td>[AIS]</td>\n",
       "      <td>518999188</td>\n",
       "      <td>COK</td>\n",
       "      <td>TOREX</td>\n",
       "      <td>TOREX</td>\n",
       "      <td>E5U5169</td>\n",
       "      <td>9257814</td>\n",
       "      <td>NaN</td>\n",
       "      <td>2024-04-30T09:47:30Z</td>\n",
       "      <td>2024-10-16 05:44:23+00:00</td>\n",
       "      <td>NaN</td>\n",
       "      <td>NaN</td>\n",
       "      <td>NaN</td>\n",
       "      <td>NaN</td>\n",
       "      <td>NaN</td>\n",
       "      <td>None</td>\n",
       "      <td>907313.0</td>\n",
       "      <td>241798.0</td>\n",
       "      <td>NO_MATCH</td>\n",
       "    </tr>\n",
       "    <tr>\n",
       "      <th>888</th>\n",
       "      <td>41afed42f-f004-9846-47ce-ecfce71ad02c</td>\n",
       "      <td>[AIS]</td>\n",
       "      <td>352002318</td>\n",
       "      <td>PAN</td>\n",
       "      <td>TOREX</td>\n",
       "      <td>TOREX</td>\n",
       "      <td>3E2252</td>\n",
       "      <td>9257814</td>\n",
       "      <td>NaN</td>\n",
       "      <td>2023-01-04T08:34:53Z</td>\n",
       "      <td>2023-07-12 17:49:04+00:00</td>\n",
       "      <td>NaN</td>\n",
       "      <td>NaN</td>\n",
       "      <td>NaN</td>\n",
       "      <td>NaN</td>\n",
       "      <td>NaN</td>\n",
       "      <td>None</td>\n",
       "      <td>424794.0</td>\n",
       "      <td>128471.0</td>\n",
       "      <td>NO_MATCH</td>\n",
       "    </tr>\n",
       "    <tr>\n",
       "      <th>889</th>\n",
       "      <td>8015e7e76-6f3d-9d7e-7666-bfa420d69937</td>\n",
       "      <td>[AIS]</td>\n",
       "      <td>511101054</td>\n",
       "      <td>PLW</td>\n",
       "      <td>TOREX</td>\n",
       "      <td>TOREX</td>\n",
       "      <td>T8A4287</td>\n",
       "      <td>9257814</td>\n",
       "      <td>NaN</td>\n",
       "      <td>2023-06-21T08:11:25Z</td>\n",
       "      <td>2024-04-30 09:26:30+00:00</td>\n",
       "      <td>NaN</td>\n",
       "      <td>NaN</td>\n",
       "      <td>NaN</td>\n",
       "      <td>NaN</td>\n",
       "      <td>NaN</td>\n",
       "      <td>None</td>\n",
       "      <td>780218.0</td>\n",
       "      <td>276819.0</td>\n",
       "      <td>NO_MATCH</td>\n",
       "    </tr>\n",
       "  </tbody>\n",
       "</table>\n",
       "</div>"
      ],
      "text/plain": [
       "                                        id sourceCode       MMSI flag  \\\n",
       "886  578b7053d-d898-1683-bc21-72f6cc1f3a45      [AIS]  314981000  BRB   \n",
       "887  c925f2f5b-bd74-f700-ce7e-ca582ec01ff2      [AIS]  518999188  COK   \n",
       "888  41afed42f-f004-9846-47ce-ecfce71ad02c      [AIS]  352002318  PAN   \n",
       "889  8015e7e76-6f3d-9d7e-7666-bfa420d69937      [AIS]  511101054  PLW   \n",
       "\n",
       "    shipname nShipname callsign      imo latestVesselInfo  \\\n",
       "886    TOREX     TOREX   8P2487  9257814              NaN   \n",
       "887    TOREX     TOREX  E5U5169  9257814              NaN   \n",
       "888    TOREX     TOREX   3E2252  9257814              NaN   \n",
       "889    TOREX     TOREX  T8A4287  9257814              NaN   \n",
       "\n",
       "     transmissionDateFrom        transmissionDateTo geartypes  lengthM  \\\n",
       "886  2024-10-16T05:47:18Z 2025-01-14 23:57:56+00:00       NaN      NaN   \n",
       "887  2024-04-30T09:47:30Z 2024-10-16 05:44:23+00:00       NaN      NaN   \n",
       "888  2023-01-04T08:34:53Z 2023-07-12 17:49:04+00:00       NaN      NaN   \n",
       "889  2023-06-21T08:11:25Z 2024-04-30 09:26:30+00:00       NaN      NaN   \n",
       "\n",
       "     tonnageGt vesselInfoReference extraFields query  messagesCounter  \\\n",
       "886        NaN                 NaN         NaN  None         271757.0   \n",
       "887        NaN                 NaN         NaN  None         907313.0   \n",
       "888        NaN                 NaN         NaN  None         424794.0   \n",
       "889        NaN                 NaN         NaN  None         780218.0   \n",
       "\n",
       "     positionsCounter matchFields  \n",
       "886           79817.0    NO_MATCH  \n",
       "887          241798.0    NO_MATCH  \n",
       "888          128471.0    NO_MATCH  \n",
       "889          276819.0    NO_MATCH  "
      ]
     },
     "execution_count": 91,
     "metadata": {},
     "output_type": "execute_result"
    }
   ],
   "source": [
    "filtered_vessels.query('imo==\"9257814\"')"
   ]
  },
  {
   "cell_type": "code",
   "execution_count": 84,
   "metadata": {},
   "outputs": [
    {
     "data": {
      "text/plain": [
       "1101"
      ]
     },
     "execution_count": 84,
     "metadata": {},
     "output_type": "execute_result"
    }
   ],
   "source": [
    "filtered_vessels.ssvid.nunique()"
   ]
  },
  {
   "cell_type": "code",
   "execution_count": 85,
   "metadata": {},
   "outputs": [],
   "source": [
    "filtered_vessels.rename(columns={'ssvid': 'MMSI'}, inplace=True)"
   ]
  },
  {
   "cell_type": "code",
   "execution_count": 93,
   "metadata": {},
   "outputs": [],
   "source": [
    "filtered_vessels[500:].to_csv(PATH / 'gfw/shadowfleet_lloyds_for_gfw_second_half.csv', index=False)"
   ]
  },
  {
   "cell_type": "code",
   "execution_count": null,
   "metadata": {},
   "outputs": [],
   "source": []
  }
 ],
 "metadata": {
  "kernelspec": {
   "display_name": ".venv",
   "language": "python",
   "name": "python3"
  },
  "language_info": {
   "codemirror_mode": {
    "name": "ipython",
    "version": 3
   },
   "file_extension": ".py",
   "mimetype": "text/x-python",
   "name": "python",
   "nbconvert_exporter": "python",
   "pygments_lexer": "ipython3",
   "version": "3.9.20"
  }
 },
 "nbformat": 4,
 "nbformat_minor": 2
}

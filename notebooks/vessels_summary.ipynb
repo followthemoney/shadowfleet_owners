{
 "cells": [
  {
   "cell_type": "code",
   "execution_count": 1,
   "metadata": {},
   "outputs": [],
   "source": [
    "import pandas as pd\n",
    "from pathlib import Path\n",
    "\n",
    "PATH = Path.cwd().parent.joinpath('data')"
   ]
  },
  {
   "cell_type": "code",
   "execution_count": 2,
   "metadata": {},
   "outputs": [],
   "source": [
    "# Import cleaned vessel data\n",
    "\n",
    "vessels  = pd.read_excel(PATH.joinpath('processed', 'vessels_summary.xlsx'), sheet_name='vessel_check')\n",
    "\n",
    "# Filter for vessels that have a final check in/out\n",
    "selection = vessels[vessels['final check in/out']==True].copy()\n",
    "selection[['start_date', 'end_date_equasis', 'end_date_checked']] = selection[['start_date', 'end_date_equasis', 'end_date_checked']].apply(pd.to_datetime)"
   ]
  },
  {
   "cell_type": "code",
   "execution_count": 18,
   "metadata": {},
   "outputs": [
    {
     "data": {
      "text/plain": [
       "798"
      ]
     },
     "execution_count": 18,
     "metadata": {},
     "output_type": "execute_result"
    }
   ],
   "source": [
    "# Import latest KSE data\n",
    "\n",
    "kse1 = pd.read_excel(PATH.joinpath('processed', 'kse_shadowfleetv2.xlsx'), skiprows=1)\n",
    "kse1.imo = kse1.imo.astype('int64')\n",
    "kse1['tanker_type'] = 'oil tanker'\n",
    "kse2 = pd.read_excel(PATH.joinpath('processed', 'kse_shadowfleetv2.xlsx'), sheet_name='Oli product.All', skiprows=4)\n",
    "kse2['tanker_type'] = 'oil product tanker'\n",
    "kse2.columns = kse1.columns\n",
    "\n",
    "\n",
    "kse = pd.concat([kse1, kse2])\n",
    "kse.dropna(subset=['imo'], inplace=True)\n",
    "kse.imo = kse.imo.astype('int64')\n",
    "kse.build = kse.build.astype('int64')\n",
    "len(kse)"
   ]
  },
  {
   "cell_type": "code",
   "execution_count": 19,
   "metadata": {},
   "outputs": [],
   "source": [
    "kse.to_csv(PATH.joinpath('processed', 'kse_shadowfleetv2.csv'), index=False)"
   ]
  },
  {
   "cell_type": "markdown",
   "metadata": {},
   "source": [
    "## Get company flow"
   ]
  },
  {
   "cell_type": "code",
   "execution_count": 6,
   "metadata": {},
   "outputs": [
    {
     "data": {
      "text/html": [
       "<div>\n",
       "<style scoped>\n",
       "    .dataframe tbody tr th:only-of-type {\n",
       "        vertical-align: middle;\n",
       "    }\n",
       "\n",
       "    .dataframe tbody tr th {\n",
       "        vertical-align: top;\n",
       "    }\n",
       "\n",
       "    .dataframe thead th {\n",
       "        text-align: right;\n",
       "    }\n",
       "</style>\n",
       "<table border=\"1\" class=\"dataframe\">\n",
       "  <thead>\n",
       "    <tr style=\"text-align: right;\">\n",
       "      <th></th>\n",
       "      <th>imo</th>\n",
       "      <th>company</th>\n",
       "      <th>role</th>\n",
       "      <th>start_date</th>\n",
       "      <th>end_date</th>\n",
       "      <th>company_imo</th>\n",
       "      <th>address</th>\n",
       "      <th>country</th>\n",
       "      <th>last_update</th>\n",
       "      <th>jurisdiction</th>\n",
       "      <th>ubo_jurisdiction</th>\n",
       "      <th>end_date_checked</th>\n",
       "      <th>next_jurisdiction</th>\n",
       "      <th>next_ubo_jurisdiction</th>\n",
       "    </tr>\n",
       "  </thead>\n",
       "  <tbody>\n",
       "    <tr>\n",
       "      <th>0</th>\n",
       "      <td>9224283</td>\n",
       "      <td>STRATEGIC ALLIANCE LTD</td>\n",
       "      <td>Registered owner</td>\n",
       "      <td>2023-05-14</td>\n",
       "      <td>2024-04-11</td>\n",
       "      <td>6390100.0</td>\n",
       "      <td>Trust Company Complex, Ajeltake Road, Ajeltake...</td>\n",
       "      <td>Marshall Islands</td>\n",
       "      <td>2024-10-08</td>\n",
       "      <td>Norway</td>\n",
       "      <td>Bermuda</td>\n",
       "      <td>2022-07-19</td>\n",
       "      <td>Norway</td>\n",
       "      <td>Bermuda</td>\n",
       "    </tr>\n",
       "    <tr>\n",
       "      <th>1</th>\n",
       "      <td>9224283</td>\n",
       "      <td>WORTHALIANCE LTD</td>\n",
       "      <td>Registered owner</td>\n",
       "      <td>2024-04-11</td>\n",
       "      <td>NaT</td>\n",
       "      <td>6478345.0</td>\n",
       "      <td>Trust Company Complex, Ajeltake Road, Ajeltake...</td>\n",
       "      <td>Marshall Islands</td>\n",
       "      <td>2024-10-08</td>\n",
       "      <td>Norway</td>\n",
       "      <td>Bermuda</td>\n",
       "      <td>2022-07-19</td>\n",
       "      <td>Marshall Islands</td>\n",
       "      <td>Marshall Islands</td>\n",
       "    </tr>\n",
       "    <tr>\n",
       "      <th>2</th>\n",
       "      <td>9231468</td>\n",
       "      <td>CRODO LTD</td>\n",
       "      <td>Registered owner</td>\n",
       "      <td>2024-04-17</td>\n",
       "      <td>NaT</td>\n",
       "      <td>6471745.0</td>\n",
       "      <td>Unit 2508A, 25th Floor, Bank of America Tower,...</td>\n",
       "      <td>China</td>\n",
       "      <td>2024-10-08</td>\n",
       "      <td>Liberia</td>\n",
       "      <td>Greece</td>\n",
       "      <td>2023-02-17</td>\n",
       "      <td>China</td>\n",
       "      <td>China</td>\n",
       "    </tr>\n",
       "    <tr>\n",
       "      <th>3</th>\n",
       "      <td>9232888</td>\n",
       "      <td>ALVIDO CHARTERING LTD</td>\n",
       "      <td>Registered owner</td>\n",
       "      <td>2023-02-03</td>\n",
       "      <td>NaT</td>\n",
       "      <td>6376415.0</td>\n",
       "      <td>OST Shipmanagement' Srl Apartment 36, Hincesti...</td>\n",
       "      <td>Moldova</td>\n",
       "      <td>2024-10-01</td>\n",
       "      <td>Liberia</td>\n",
       "      <td>Greece</td>\n",
       "      <td>2023-02-03</td>\n",
       "      <td>Moldova</td>\n",
       "      <td>Moldova</td>\n",
       "    </tr>\n",
       "    <tr>\n",
       "      <th>4</th>\n",
       "      <td>9232931</td>\n",
       "      <td>TAIHONG SHIPPING LTD</td>\n",
       "      <td>Registered owner</td>\n",
       "      <td>2023-05-15</td>\n",
       "      <td>NaT</td>\n",
       "      <td>6399616.0</td>\n",
       "      <td>Room 1602, 16th Floor, Lucky Centre, 165-171, ...</td>\n",
       "      <td>China</td>\n",
       "      <td>2024-10-08</td>\n",
       "      <td>Marshall Islands</td>\n",
       "      <td>Greece</td>\n",
       "      <td>2023-05-15</td>\n",
       "      <td>China</td>\n",
       "      <td>China</td>\n",
       "    </tr>\n",
       "  </tbody>\n",
       "</table>\n",
       "</div>"
      ],
      "text/plain": [
       "       imo                 company              role start_date   end_date  \\\n",
       "0  9224283  STRATEGIC ALLIANCE LTD  Registered owner 2023-05-14 2024-04-11   \n",
       "1  9224283        WORTHALIANCE LTD  Registered owner 2024-04-11        NaT   \n",
       "2  9231468               CRODO LTD  Registered owner 2024-04-17        NaT   \n",
       "3  9232888   ALVIDO CHARTERING LTD  Registered owner 2023-02-03        NaT   \n",
       "4  9232931    TAIHONG SHIPPING LTD  Registered owner 2023-05-15        NaT   \n",
       "\n",
       "   company_imo                                            address  \\\n",
       "0    6390100.0  Trust Company Complex, Ajeltake Road, Ajeltake...   \n",
       "1    6478345.0  Trust Company Complex, Ajeltake Road, Ajeltake...   \n",
       "2    6471745.0  Unit 2508A, 25th Floor, Bank of America Tower,...   \n",
       "3    6376415.0  OST Shipmanagement' Srl Apartment 36, Hincesti...   \n",
       "4    6399616.0  Room 1602, 16th Floor, Lucky Centre, 165-171, ...   \n",
       "\n",
       "            country last_update      jurisdiction ubo_jurisdiction  \\\n",
       "0  Marshall Islands  2024-10-08            Norway          Bermuda   \n",
       "1  Marshall Islands  2024-10-08            Norway          Bermuda   \n",
       "2             China  2024-10-08           Liberia           Greece   \n",
       "3           Moldova  2024-10-01           Liberia           Greece   \n",
       "4             China  2024-10-08  Marshall Islands           Greece   \n",
       "\n",
       "  end_date_checked next_jurisdiction next_ubo_jurisdiction  \n",
       "0       2022-07-19            Norway               Bermuda  \n",
       "1       2022-07-19  Marshall Islands      Marshall Islands  \n",
       "2       2023-02-17             China                 China  \n",
       "3       2023-02-03           Moldova               Moldova  \n",
       "4       2023-05-15             China                 China  "
      ]
     },
     "execution_count": 6,
     "metadata": {},
     "output_type": "execute_result"
    }
   ],
   "source": [
    "# Get imos from checked vessels\n",
    "\n",
    "imos = selection.imo.unique()\n",
    "\n",
    "# Import company data\n",
    "\n",
    "companies = pd.read_excel(PATH.joinpath('processed', 'vessels_summary.xlsx'), sheet_name='companies')\n",
    "\n",
    "# Filter relevant companies\n",
    "companies = companies[(companies.imo.isin(imos)) & (companies.role=='Registered owner') & (companies.start_date > '2022-03-01')].copy()\n",
    "\n",
    "companies.start_date = pd.to_datetime(companies.start_date)\n",
    "\n",
    "# Merge with checked data data\n",
    "\n",
    "df = pd.merge(companies, \n",
    "            selection[['imo', 'jurisdiction', 'ubo_jurisdiction', 'end_date_checked']],\n",
    "            on='imo',\n",
    "            how='left')\n",
    "\n",
    "# Create columns with next jurisdiction\n",
    "\n",
    "# Merge the dataframe with itself to get the next jurisdiction and next ubo_jurisdiction\n",
    "df = pd.merge(df, df[['imo', 'start_date', 'jurisdiction', 'ubo_jurisdiction']], \n",
    "              left_on=['imo', 'end_date'], \n",
    "              right_on=['imo', 'start_date'], \n",
    "              suffixes=('', '_next'), \n",
    "              how='left')\n",
    "\n",
    "# Fill the next_jurisdiction and next_ubo_jurisdiction with the country if there is no end_date match\n",
    "df['next_jurisdiction'] = df['jurisdiction_next'].fillna(df['country'])\n",
    "df['next_ubo_jurisdiction'] = df['ubo_jurisdiction_next'].fillna(df['country'])\n",
    "\n",
    "# Drop the unnecessary columns\n",
    "df.drop(columns=['start_date_next', 'jurisdiction_next', 'ubo_jurisdiction_next'], inplace=True)\n",
    "\n",
    "df.head()"
   ]
  },
  {
   "cell_type": "code",
   "execution_count": 7,
   "metadata": {},
   "outputs": [],
   "source": [
    "df[['ubo_jurisdiction', 'next_ubo_jurisdiction']].value_counts().reset_index().to_csv(PATH.joinpath('processed', 'ubo_jurisdiction_changes.csv'), index=False)"
   ]
  },
  {
   "cell_type": "markdown",
   "metadata": {},
   "source": [
    "## Compare vessels with lloyds list data"
   ]
  },
  {
   "cell_type": "code",
   "execution_count": 8,
   "metadata": {},
   "outputs": [],
   "source": [
    "lloyds = pd.read_csv(PATH.joinpath('processed', 'lloydslist_shadowfleet.csv'))"
   ]
  },
  {
   "cell_type": "code",
   "execution_count": 11,
   "metadata": {},
   "outputs": [
    {
     "data": {
      "text/plain": [
       "325"
      ]
     },
     "execution_count": 11,
     "metadata": {},
     "output_type": "execute_result"
    }
   ],
   "source": [
    "len(set(lloyds.IMO).difference(set(vessels.imo)))"
   ]
  },
  {
   "cell_type": "code",
   "execution_count": 28,
   "metadata": {},
   "outputs": [
    {
     "data": {
      "text/plain": [
       "Index(['earliest_sanction_date', 'imo', 'vessel_name', 'size', 'build',\n",
       "       'flag_01-12-24', 'actual_insurance_01-12-24', 'ship_manager',\n",
       "       'shadow_fleet', '1-2023', '2-2023', '3-2023', '4-2023', '5-2023',\n",
       "       '6-2023', '7-2023', '8-2023', '9-2023', '10-2023', '11-2023', '12-2023',\n",
       "       '1-2024', '2-2024', '3-2024', '4-2024', '5-2024', '6-2024', '7-2024',\n",
       "       '8-2024', '9-2024', '10-2024', 'total_mln_barrels', 'ship_manager_1',\n",
       "       'ship_manager_2', 'ship_manager_3', 'ship_manager_4', 'Sanctions time',\n",
       "       'IMO', 'Vessel's name', 'Tanker's size', 'Build',\n",
       "       'Actual Flag (25.11.2024)', 'Actual 'IG' P&I insurance (03.12.2024)',\n",
       "       'Actual Ship manager (03.12.2024)', 'Shadow Fleet?', 'Jan 23', 'Feb 23',\n",
       "       'Mar 23', 'Apr 23', 'May 23', 'Jun 23', 'Jul 23', 'Aug 23', 'Sep 23',\n",
       "       'Oct 23', 'Nov 23', 'Dec 23', 'Jan 24', 'Feb 24', 'Mar 24', 'Apr 24',\n",
       "       'May 24', 'Jun 24', 'Jul 24', 'Aug 24', 'Sep 24', 'Oct 24',\n",
       "       'Total, mln barrels', 'Ship manager/Commercial manager 1',\n",
       "       'Ship manager/Commercial manager 2',\n",
       "       'Ship manager/Commercial manager 3',\n",
       "       'Ship manager/Commercial manager 4'],\n",
       "      dtype='object')"
      ]
     },
     "execution_count": 28,
     "metadata": {},
     "output_type": "execute_result"
    }
   ],
   "source": [
    "kse.columns"
   ]
  },
  {
   "cell_type": "code",
   "execution_count": 32,
   "metadata": {},
   "outputs": [
    {
     "data": {
      "text/plain": [
       "build\n",
       "2002     1\n",
       "2003     6\n",
       "2004     7\n",
       "2005    15\n",
       "2006    13\n",
       "2007     8\n",
       "2008     7\n",
       "2009    13\n",
       "2010    11\n",
       "2011     2\n",
       "2012     2\n",
       "2013     2\n",
       "2016     1\n",
       "2017     2\n",
       "2018     1\n",
       "2019     3\n",
       "2020     2\n",
       "2022     4\n",
       "2023     2\n",
       "dtype: int64"
      ]
     },
     "execution_count": 32,
     "metadata": {},
     "output_type": "execute_result"
    }
   ],
   "source": [
    "kse[~kse.imo.isin(list(set(lloyds.IMO)))].groupby('build').size()"
   ]
  },
  {
   "cell_type": "code",
   "execution_count": 66,
   "metadata": {},
   "outputs": [],
   "source": [
    "rows = []\n",
    "cols = [col for col in kse1.columns if '202' in col]\n",
    "for i, row in kse1.iterrows():\n",
    "    for col in cols[3:]:\n",
    "        if pd.isnull(row[col]):\n",
    "            continue    \n",
    "        else:\n",
    "            record = {'imo': row.imo,\n",
    "                      'start_date': f'01-{col[:-5]}-{col[-4:]}'}\n",
    "            rows.append(record)\n",
    "\n",
    "uninsured = pd.DataFrame(rows)\n",
    "uninsured.start_date = pd.to_datetime(uninsured.start_date, \n",
    "                                      format='%d-%m-%Y', \n",
    "                                      dayfirst=True)\n",
    "\n",
    "uninsured['end_date'] = pd.to_datetime(uninsured['start_date'], \n",
    "                                       format=\"%Y%m\") + pd.tseries.offsets.MonthEnd(0)\n",
    "\n",
    "# Create date ranges\n",
    "uninsured = uninsured.groupby('imo').agg({'start_date': 'min', \n",
    "                                          'end_date': 'max'}).reset_index()\n",
    "\n",
    "# And add sanction date to the uninsured dataframe\n",
    "\n",
    "uninsured = pd.merge(uninsured, \n",
    "                     kse1[['imo', 'earliest_sanction_date', 'total_mln_barrels']], \n",
    "                     on='imo', \n",
    "                     how='left')\n"
   ]
  },
  {
   "cell_type": "code",
   "execution_count": null,
   "metadata": {
    "vscode": {
     "languageId": "ruby"
    }
   },
   "outputs": [],
   "source": [
    "# Merge the dataframes on 'imo'\n",
    "merged_df = pd.merge(selection[['imo', 'end_date_equasis']], uninsured, on='imo', how='left')\n",
    "\n",
    "# Filter the merged dataframe\n",
    "filtered_selection = merged_df[merged_df['start_date'] > merged_df['end_date_equasis']]\n",
    "\n",
    "# Drop the columns from the uninsured dataframe to get the original structure of selection\n",
    "#filtered_selection = filtered_selection[selection.columns]\n",
    "\n",
    "# Display the filtered dataframe\n",
    "filtered_selection"
   ]
  },
  {
   "cell_type": "code",
   "execution_count": null,
   "metadata": {},
   "outputs": [],
   "source": [
    "len(filtered_selection)"
   ]
  },
  {
   "cell_type": "code",
   "execution_count": null,
   "metadata": {},
   "outputs": [],
   "source": []
  }
 ],
 "metadata": {
  "kernelspec": {
   "display_name": ".venv",
   "language": "python",
   "name": "python3"
  },
  "language_info": {
   "codemirror_mode": {
    "name": "ipython",
    "version": 3
   },
   "file_extension": ".py",
   "mimetype": "text/x-python",
   "name": "python",
   "nbconvert_exporter": "python",
   "pygments_lexer": "ipython3",
   "version": "3.9.20"
  }
 },
 "nbformat": 4,
 "nbformat_minor": 2
}

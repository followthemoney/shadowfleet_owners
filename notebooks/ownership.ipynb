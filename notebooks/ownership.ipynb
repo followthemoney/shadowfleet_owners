{
 "cells": [
  {
   "cell_type": "code",
   "execution_count": 4,
   "metadata": {},
   "outputs": [],
   "source": [
    "import pandas as pd\n",
    "from pathlib import Path\n",
    "import json\n",
    "from ast import literal_eval\n",
    "import plotly.express as px\n",
    "import pdfplumber\n",
    "import numpy as np\n",
    "\n",
    "PATH = Path.cwd().parent.joinpath('data')"
   ]
  },
  {
   "cell_type": "code",
   "execution_count": 32,
   "metadata": {},
   "outputs": [
    {
     "name": "stdout",
     "output_type": "stream",
     "text": [
      "Found 1174 owners and 629 vessels\n"
     ]
    }
   ],
   "source": [
    "owners = []\n",
    "vessels = []\n",
    "\n",
    "with open(PATH.joinpath('raw_gfw', 'api', 'vessels_v3.json'), 'r') as f:\n",
    "    for line in f:\n",
    "        record = literal_eval(line)\n",
    "        for r in record.get('entries'):\n",
    "            for owner in r.get('registryOwners'):\n",
    "                owners.append(owner)\n",
    "            for vessel in r.get('registryInfo'):\n",
    "                vessels.append(vessel)\n",
    "\n",
    "owners = pd.DataFrame(owners)\n",
    "vessels = pd.DataFrame(vessels) \n",
    "\n",
    "owners.ssvid = owners.ssvid.astype(int)\n",
    "owners.dateFrom = pd.to_datetime(owners.dateFrom)\n",
    "owners.dateTo = pd.to_datetime(owners.dateTo)\n",
    "owners.drop('sourceCode', axis=1, inplace=True)\n",
    "owners = owners.drop_duplicates()\n",
    "\n",
    "vessels.ssvid = vessels.ssvid.astype(int)\n",
    "vessels.transmissionDateFrom = pd.to_datetime(vessels.transmissionDateFrom)\n",
    "vessels.transmissionDateTo = pd.to_datetime(vessels.transmissionDateTo)\n",
    "vessels.drop('sourceCode', axis=1, inplace=True)\n",
    "\n",
    "print(f'Found {len(owners)} owners and {len(vessels)} vessels')"
   ]
  },
  {
   "cell_type": "code",
   "execution_count": 53,
   "metadata": {},
   "outputs": [
    {
     "data": {
      "text/html": [
       "<div>\n",
       "<style scoped>\n",
       "    .dataframe tbody tr th:only-of-type {\n",
       "        vertical-align: middle;\n",
       "    }\n",
       "\n",
       "    .dataframe tbody tr th {\n",
       "        vertical-align: top;\n",
       "    }\n",
       "\n",
       "    .dataframe thead th {\n",
       "        text-align: right;\n",
       "    }\n",
       "</style>\n",
       "<table border=\"1\" class=\"dataframe\">\n",
       "  <thead>\n",
       "    <tr style=\"text-align: right;\">\n",
       "      <th></th>\n",
       "      <th>name</th>\n",
       "      <th>flag</th>\n",
       "      <th>ssvid</th>\n",
       "      <th>dateFrom</th>\n",
       "      <th>dateTo</th>\n",
       "    </tr>\n",
       "  </thead>\n",
       "  <tbody>\n",
       "    <tr>\n",
       "      <th>0</th>\n",
       "      <td>CECILSSON S</td>\n",
       "      <td>ISL</td>\n",
       "      <td>251248110</td>\n",
       "      <td>2012-01-15 16:49:02+00:00</td>\n",
       "      <td>2021-02-04 11:27:00+00:00</td>\n",
       "    </tr>\n",
       "    <tr>\n",
       "      <th>1</th>\n",
       "      <td>FRONAPE INTERNATIONAL</td>\n",
       "      <td>NLD</td>\n",
       "      <td>311067800</td>\n",
       "      <td>2012-03-09 01:34:51+00:00</td>\n",
       "      <td>2021-02-13 20:59:49+00:00</td>\n",
       "    </tr>\n",
       "    <tr>\n",
       "      <th>2</th>\n",
       "      <td>MORFLOT</td>\n",
       "      <td>RUS</td>\n",
       "      <td>273344600</td>\n",
       "      <td>2012-10-16 00:19:03+00:00</td>\n",
       "      <td>2024-07-31 21:16:43+00:00</td>\n",
       "    </tr>\n",
       "    <tr>\n",
       "      <th>3</th>\n",
       "      <td>MORFLOT</td>\n",
       "      <td>RUS</td>\n",
       "      <td>273344633</td>\n",
       "      <td>2018-01-04 21:25:34+00:00</td>\n",
       "      <td>2018-01-05 03:37:39+00:00</td>\n",
       "    </tr>\n",
       "    <tr>\n",
       "      <th>4</th>\n",
       "      <td>YARBUNKER</td>\n",
       "      <td>RUS</td>\n",
       "      <td>273343600</td>\n",
       "      <td>2012-06-03 19:25:22+00:00</td>\n",
       "      <td>2024-07-31 23:59:59+00:00</td>\n",
       "    </tr>\n",
       "  </tbody>\n",
       "</table>\n",
       "</div>"
      ],
      "text/plain": [
       "                    name flag      ssvid                  dateFrom  \\\n",
       "0            CECILSSON S  ISL  251248110 2012-01-15 16:49:02+00:00   \n",
       "1  FRONAPE INTERNATIONAL  NLD  311067800 2012-03-09 01:34:51+00:00   \n",
       "2                MORFLOT  RUS  273344600 2012-10-16 00:19:03+00:00   \n",
       "3                MORFLOT  RUS  273344633 2018-01-04 21:25:34+00:00   \n",
       "4              YARBUNKER  RUS  273343600 2012-06-03 19:25:22+00:00   \n",
       "\n",
       "                     dateTo  \n",
       "0 2021-02-04 11:27:00+00:00  \n",
       "1 2021-02-13 20:59:49+00:00  \n",
       "2 2024-07-31 21:16:43+00:00  \n",
       "3 2018-01-05 03:37:39+00:00  \n",
       "4 2024-07-31 23:59:59+00:00  "
      ]
     },
     "execution_count": 53,
     "metadata": {},
     "output_type": "execute_result"
    }
   ],
   "source": [
    "owners.head()"
   ]
  },
  {
   "cell_type": "code",
   "execution_count": 33,
   "metadata": {},
   "outputs": [
    {
     "data": {
      "text/plain": [
       "1177"
      ]
     },
     "execution_count": 33,
     "metadata": {},
     "output_type": "execute_result"
    }
   ],
   "source": [
    "df = pd.merge(owners, vessels, on='ssvid', how='outer')\n",
    "len(df)"
   ]
  },
  {
   "cell_type": "code",
   "execution_count": 38,
   "metadata": {},
   "outputs": [
    {
     "data": {
      "text/plain": [
       "783"
      ]
     },
     "execution_count": 38,
     "metadata": {},
     "output_type": "execute_result"
    }
   ],
   "source": [
    "df = df[df.id.notna()].copy()\n",
    "len(df)"
   ]
  },
  {
   "cell_type": "code",
   "execution_count": 44,
   "metadata": {},
   "outputs": [
    {
     "data": {
      "application/vnd.plotly.v1+json": {
       "config": {
        "plotlyServerURL": "https://plot.ly"
       },
       "data": [
        {
         "alignmentgroup": "True",
         "bingroup": "x",
         "hovertemplate": "variable=ssvid<br>value=%{x}<br>count=%{y}<extra></extra>",
         "legendgroup": "ssvid",
         "marker": {
          "color": "#636efa",
          "pattern": {
           "shape": ""
          }
         },
         "name": "ssvid",
         "offsetgroup": "ssvid",
         "orientation": "v",
         "showlegend": true,
         "type": "histogram",
         "x": [
          1,
          1,
          2,
          1,
          2,
          1,
          1,
          1,
          1,
          1,
          3,
          1,
          1,
          2,
          1,
          1,
          2,
          1,
          1,
          1,
          1,
          1,
          1,
          1,
          1,
          3,
          1,
          4,
          1,
          1,
          1,
          1,
          2,
          1,
          1,
          1,
          2,
          1,
          1,
          1,
          4,
          1,
          1,
          1,
          1,
          1,
          1,
          1,
          2,
          6,
          3,
          1,
          1,
          1,
          1,
          1,
          1,
          1,
          1,
          1,
          1,
          1,
          1,
          2,
          1,
          1,
          1,
          1,
          1,
          1,
          1,
          1,
          1,
          1,
          1,
          1,
          1,
          1,
          2,
          1,
          1,
          1,
          1,
          1,
          1,
          1,
          1,
          2,
          1,
          1,
          1,
          1,
          1,
          1,
          1,
          1,
          1,
          1,
          1,
          1,
          1,
          1,
          1,
          1,
          1,
          1,
          1,
          1,
          1,
          1,
          1,
          1,
          1,
          1,
          1,
          1,
          1,
          1,
          1,
          1,
          1,
          1,
          1,
          1,
          1,
          3,
          1,
          1,
          1,
          1,
          1,
          1,
          1,
          1,
          1,
          1,
          1,
          1,
          1,
          1,
          1,
          1,
          1,
          1,
          1,
          1,
          1,
          1,
          1,
          1,
          1,
          1,
          1,
          1,
          1,
          1,
          1,
          1,
          1,
          1,
          1,
          1,
          1,
          1,
          1,
          1,
          1,
          1,
          1,
          1,
          1,
          1,
          1,
          1,
          1,
          1,
          1,
          1,
          1,
          1,
          1,
          1,
          1,
          1,
          1,
          1,
          1,
          1,
          1,
          1,
          1,
          1,
          1,
          1,
          1,
          1,
          1,
          1,
          1,
          1,
          1,
          1,
          1,
          1,
          1,
          1,
          1,
          2,
          1,
          1,
          1,
          1,
          1,
          2,
          1,
          1,
          1,
          1,
          1,
          1,
          1,
          1,
          1,
          1,
          1,
          1,
          1,
          1,
          1,
          1,
          1,
          1,
          1,
          1,
          1,
          1,
          1,
          1,
          1,
          3,
          1,
          1,
          1,
          1,
          1,
          1,
          1,
          1,
          1,
          1,
          1,
          1,
          1,
          1,
          1,
          1,
          1,
          1,
          1,
          1,
          1,
          1,
          1,
          1,
          1,
          1,
          1,
          1,
          1,
          1,
          1,
          1,
          1,
          1,
          3,
          1,
          1,
          1,
          1,
          2,
          1,
          1,
          1,
          1,
          1,
          1,
          1,
          2,
          1,
          1,
          1,
          1,
          1,
          1,
          1,
          1,
          1,
          1,
          1,
          1,
          1,
          1,
          1,
          1,
          1,
          1,
          1,
          1,
          1,
          1,
          1,
          1,
          1,
          1,
          1,
          1,
          1,
          1,
          1,
          1,
          1,
          1,
          1,
          1,
          1,
          1,
          1,
          1,
          1,
          1,
          1,
          1,
          1,
          1,
          1,
          1,
          1,
          1,
          1,
          2,
          1,
          1,
          2,
          1,
          1,
          1,
          1,
          1,
          1,
          1,
          1,
          1,
          1,
          1,
          1,
          1,
          1,
          1,
          1,
          1,
          1,
          1,
          1,
          1,
          1,
          1,
          1,
          1,
          1,
          1,
          1,
          1,
          1,
          1,
          1,
          1,
          1,
          1,
          1,
          1,
          1,
          1,
          1,
          1,
          1,
          1,
          1,
          1,
          1,
          1,
          1,
          1,
          1,
          1,
          1,
          1,
          1,
          1,
          1,
          1,
          1,
          1,
          2,
          1,
          1,
          1,
          1,
          1,
          1,
          1,
          1,
          1,
          1,
          1,
          1,
          1,
          1,
          1,
          1,
          1,
          1,
          1,
          1,
          1,
          1,
          1,
          1,
          1,
          1,
          1,
          1,
          1,
          1,
          1,
          1,
          1,
          1,
          1,
          1,
          1,
          1,
          1,
          1,
          1,
          1,
          1,
          1,
          1,
          1,
          1,
          3,
          1,
          1,
          1,
          1,
          1,
          1,
          1,
          1,
          1,
          1,
          4,
          1,
          1,
          1,
          1,
          1,
          1,
          1,
          1,
          1,
          1,
          1,
          1,
          1,
          3,
          1,
          1,
          1,
          1,
          1,
          1,
          1,
          1,
          1,
          1,
          1,
          1,
          1,
          1,
          1,
          1,
          1,
          1,
          1,
          1,
          1,
          1,
          1,
          1,
          1,
          1,
          1,
          1,
          1,
          1,
          1,
          1,
          1,
          1,
          1,
          1,
          1,
          1,
          1,
          1,
          1,
          1,
          1,
          1,
          1,
          1,
          1,
          1,
          1,
          1,
          1,
          1,
          1,
          1,
          1,
          1,
          2,
          2,
          3,
          3,
          5,
          1,
          1,
          1,
          1,
          1,
          1,
          1,
          1,
          1,
          1,
          1,
          1,
          1,
          1,
          2,
          1,
          1,
          1,
          1,
          1,
          1,
          1,
          1,
          2,
          1,
          1,
          1,
          1,
          1,
          1,
          1,
          1,
          4,
          4,
          1,
          1,
          1,
          1,
          2,
          1,
          2,
          6,
          3,
          1,
          3,
          2,
          1,
          1,
          1,
          1,
          3,
          2,
          6,
          6,
          4,
          3,
          6,
          5,
          5,
          7,
          4,
          7,
          6,
          4,
          4,
          3,
          2,
          2,
          4,
          4,
          2,
          1,
          1,
          1,
          1,
          1,
          2,
          3,
          1,
          1,
          1,
          1,
          1,
          1,
          1,
          1,
          1,
          1,
          1,
          8,
          1
         ],
         "xaxis": "x",
         "yaxis": "y"
        }
       ],
       "layout": {
        "barmode": "relative",
        "legend": {
         "title": {
          "text": "variable"
         },
         "tracegroupgap": 0
        },
        "margin": {
         "t": 60
        },
        "template": {
         "data": {
          "bar": [
           {
            "error_x": {
             "color": "#2a3f5f"
            },
            "error_y": {
             "color": "#2a3f5f"
            },
            "marker": {
             "line": {
              "color": "#E5ECF6",
              "width": 0.5
             },
             "pattern": {
              "fillmode": "overlay",
              "size": 10,
              "solidity": 0.2
             }
            },
            "type": "bar"
           }
          ],
          "barpolar": [
           {
            "marker": {
             "line": {
              "color": "#E5ECF6",
              "width": 0.5
             },
             "pattern": {
              "fillmode": "overlay",
              "size": 10,
              "solidity": 0.2
             }
            },
            "type": "barpolar"
           }
          ],
          "carpet": [
           {
            "aaxis": {
             "endlinecolor": "#2a3f5f",
             "gridcolor": "white",
             "linecolor": "white",
             "minorgridcolor": "white",
             "startlinecolor": "#2a3f5f"
            },
            "baxis": {
             "endlinecolor": "#2a3f5f",
             "gridcolor": "white",
             "linecolor": "white",
             "minorgridcolor": "white",
             "startlinecolor": "#2a3f5f"
            },
            "type": "carpet"
           }
          ],
          "choropleth": [
           {
            "colorbar": {
             "outlinewidth": 0,
             "ticks": ""
            },
            "type": "choropleth"
           }
          ],
          "contour": [
           {
            "colorbar": {
             "outlinewidth": 0,
             "ticks": ""
            },
            "colorscale": [
             [
              0,
              "#0d0887"
             ],
             [
              0.1111111111111111,
              "#46039f"
             ],
             [
              0.2222222222222222,
              "#7201a8"
             ],
             [
              0.3333333333333333,
              "#9c179e"
             ],
             [
              0.4444444444444444,
              "#bd3786"
             ],
             [
              0.5555555555555556,
              "#d8576b"
             ],
             [
              0.6666666666666666,
              "#ed7953"
             ],
             [
              0.7777777777777778,
              "#fb9f3a"
             ],
             [
              0.8888888888888888,
              "#fdca26"
             ],
             [
              1,
              "#f0f921"
             ]
            ],
            "type": "contour"
           }
          ],
          "contourcarpet": [
           {
            "colorbar": {
             "outlinewidth": 0,
             "ticks": ""
            },
            "type": "contourcarpet"
           }
          ],
          "heatmap": [
           {
            "colorbar": {
             "outlinewidth": 0,
             "ticks": ""
            },
            "colorscale": [
             [
              0,
              "#0d0887"
             ],
             [
              0.1111111111111111,
              "#46039f"
             ],
             [
              0.2222222222222222,
              "#7201a8"
             ],
             [
              0.3333333333333333,
              "#9c179e"
             ],
             [
              0.4444444444444444,
              "#bd3786"
             ],
             [
              0.5555555555555556,
              "#d8576b"
             ],
             [
              0.6666666666666666,
              "#ed7953"
             ],
             [
              0.7777777777777778,
              "#fb9f3a"
             ],
             [
              0.8888888888888888,
              "#fdca26"
             ],
             [
              1,
              "#f0f921"
             ]
            ],
            "type": "heatmap"
           }
          ],
          "heatmapgl": [
           {
            "colorbar": {
             "outlinewidth": 0,
             "ticks": ""
            },
            "colorscale": [
             [
              0,
              "#0d0887"
             ],
             [
              0.1111111111111111,
              "#46039f"
             ],
             [
              0.2222222222222222,
              "#7201a8"
             ],
             [
              0.3333333333333333,
              "#9c179e"
             ],
             [
              0.4444444444444444,
              "#bd3786"
             ],
             [
              0.5555555555555556,
              "#d8576b"
             ],
             [
              0.6666666666666666,
              "#ed7953"
             ],
             [
              0.7777777777777778,
              "#fb9f3a"
             ],
             [
              0.8888888888888888,
              "#fdca26"
             ],
             [
              1,
              "#f0f921"
             ]
            ],
            "type": "heatmapgl"
           }
          ],
          "histogram": [
           {
            "marker": {
             "pattern": {
              "fillmode": "overlay",
              "size": 10,
              "solidity": 0.2
             }
            },
            "type": "histogram"
           }
          ],
          "histogram2d": [
           {
            "colorbar": {
             "outlinewidth": 0,
             "ticks": ""
            },
            "colorscale": [
             [
              0,
              "#0d0887"
             ],
             [
              0.1111111111111111,
              "#46039f"
             ],
             [
              0.2222222222222222,
              "#7201a8"
             ],
             [
              0.3333333333333333,
              "#9c179e"
             ],
             [
              0.4444444444444444,
              "#bd3786"
             ],
             [
              0.5555555555555556,
              "#d8576b"
             ],
             [
              0.6666666666666666,
              "#ed7953"
             ],
             [
              0.7777777777777778,
              "#fb9f3a"
             ],
             [
              0.8888888888888888,
              "#fdca26"
             ],
             [
              1,
              "#f0f921"
             ]
            ],
            "type": "histogram2d"
           }
          ],
          "histogram2dcontour": [
           {
            "colorbar": {
             "outlinewidth": 0,
             "ticks": ""
            },
            "colorscale": [
             [
              0,
              "#0d0887"
             ],
             [
              0.1111111111111111,
              "#46039f"
             ],
             [
              0.2222222222222222,
              "#7201a8"
             ],
             [
              0.3333333333333333,
              "#9c179e"
             ],
             [
              0.4444444444444444,
              "#bd3786"
             ],
             [
              0.5555555555555556,
              "#d8576b"
             ],
             [
              0.6666666666666666,
              "#ed7953"
             ],
             [
              0.7777777777777778,
              "#fb9f3a"
             ],
             [
              0.8888888888888888,
              "#fdca26"
             ],
             [
              1,
              "#f0f921"
             ]
            ],
            "type": "histogram2dcontour"
           }
          ],
          "mesh3d": [
           {
            "colorbar": {
             "outlinewidth": 0,
             "ticks": ""
            },
            "type": "mesh3d"
           }
          ],
          "parcoords": [
           {
            "line": {
             "colorbar": {
              "outlinewidth": 0,
              "ticks": ""
             }
            },
            "type": "parcoords"
           }
          ],
          "pie": [
           {
            "automargin": true,
            "type": "pie"
           }
          ],
          "scatter": [
           {
            "fillpattern": {
             "fillmode": "overlay",
             "size": 10,
             "solidity": 0.2
            },
            "type": "scatter"
           }
          ],
          "scatter3d": [
           {
            "line": {
             "colorbar": {
              "outlinewidth": 0,
              "ticks": ""
             }
            },
            "marker": {
             "colorbar": {
              "outlinewidth": 0,
              "ticks": ""
             }
            },
            "type": "scatter3d"
           }
          ],
          "scattercarpet": [
           {
            "marker": {
             "colorbar": {
              "outlinewidth": 0,
              "ticks": ""
             }
            },
            "type": "scattercarpet"
           }
          ],
          "scattergeo": [
           {
            "marker": {
             "colorbar": {
              "outlinewidth": 0,
              "ticks": ""
             }
            },
            "type": "scattergeo"
           }
          ],
          "scattergl": [
           {
            "marker": {
             "colorbar": {
              "outlinewidth": 0,
              "ticks": ""
             }
            },
            "type": "scattergl"
           }
          ],
          "scattermapbox": [
           {
            "marker": {
             "colorbar": {
              "outlinewidth": 0,
              "ticks": ""
             }
            },
            "type": "scattermapbox"
           }
          ],
          "scatterpolar": [
           {
            "marker": {
             "colorbar": {
              "outlinewidth": 0,
              "ticks": ""
             }
            },
            "type": "scatterpolar"
           }
          ],
          "scatterpolargl": [
           {
            "marker": {
             "colorbar": {
              "outlinewidth": 0,
              "ticks": ""
             }
            },
            "type": "scatterpolargl"
           }
          ],
          "scatterternary": [
           {
            "marker": {
             "colorbar": {
              "outlinewidth": 0,
              "ticks": ""
             }
            },
            "type": "scatterternary"
           }
          ],
          "surface": [
           {
            "colorbar": {
             "outlinewidth": 0,
             "ticks": ""
            },
            "colorscale": [
             [
              0,
              "#0d0887"
             ],
             [
              0.1111111111111111,
              "#46039f"
             ],
             [
              0.2222222222222222,
              "#7201a8"
             ],
             [
              0.3333333333333333,
              "#9c179e"
             ],
             [
              0.4444444444444444,
              "#bd3786"
             ],
             [
              0.5555555555555556,
              "#d8576b"
             ],
             [
              0.6666666666666666,
              "#ed7953"
             ],
             [
              0.7777777777777778,
              "#fb9f3a"
             ],
             [
              0.8888888888888888,
              "#fdca26"
             ],
             [
              1,
              "#f0f921"
             ]
            ],
            "type": "surface"
           }
          ],
          "table": [
           {
            "cells": {
             "fill": {
              "color": "#EBF0F8"
             },
             "line": {
              "color": "white"
             }
            },
            "header": {
             "fill": {
              "color": "#C8D4E3"
             },
             "line": {
              "color": "white"
             }
            },
            "type": "table"
           }
          ]
         },
         "layout": {
          "annotationdefaults": {
           "arrowcolor": "#2a3f5f",
           "arrowhead": 0,
           "arrowwidth": 1
          },
          "autotypenumbers": "strict",
          "coloraxis": {
           "colorbar": {
            "outlinewidth": 0,
            "ticks": ""
           }
          },
          "colorscale": {
           "diverging": [
            [
             0,
             "#8e0152"
            ],
            [
             0.1,
             "#c51b7d"
            ],
            [
             0.2,
             "#de77ae"
            ],
            [
             0.3,
             "#f1b6da"
            ],
            [
             0.4,
             "#fde0ef"
            ],
            [
             0.5,
             "#f7f7f7"
            ],
            [
             0.6,
             "#e6f5d0"
            ],
            [
             0.7,
             "#b8e186"
            ],
            [
             0.8,
             "#7fbc41"
            ],
            [
             0.9,
             "#4d9221"
            ],
            [
             1,
             "#276419"
            ]
           ],
           "sequential": [
            [
             0,
             "#0d0887"
            ],
            [
             0.1111111111111111,
             "#46039f"
            ],
            [
             0.2222222222222222,
             "#7201a8"
            ],
            [
             0.3333333333333333,
             "#9c179e"
            ],
            [
             0.4444444444444444,
             "#bd3786"
            ],
            [
             0.5555555555555556,
             "#d8576b"
            ],
            [
             0.6666666666666666,
             "#ed7953"
            ],
            [
             0.7777777777777778,
             "#fb9f3a"
            ],
            [
             0.8888888888888888,
             "#fdca26"
            ],
            [
             1,
             "#f0f921"
            ]
           ],
           "sequentialminus": [
            [
             0,
             "#0d0887"
            ],
            [
             0.1111111111111111,
             "#46039f"
            ],
            [
             0.2222222222222222,
             "#7201a8"
            ],
            [
             0.3333333333333333,
             "#9c179e"
            ],
            [
             0.4444444444444444,
             "#bd3786"
            ],
            [
             0.5555555555555556,
             "#d8576b"
            ],
            [
             0.6666666666666666,
             "#ed7953"
            ],
            [
             0.7777777777777778,
             "#fb9f3a"
            ],
            [
             0.8888888888888888,
             "#fdca26"
            ],
            [
             1,
             "#f0f921"
            ]
           ]
          },
          "colorway": [
           "#636efa",
           "#EF553B",
           "#00cc96",
           "#ab63fa",
           "#FFA15A",
           "#19d3f3",
           "#FF6692",
           "#B6E880",
           "#FF97FF",
           "#FECB52"
          ],
          "font": {
           "color": "#2a3f5f"
          },
          "geo": {
           "bgcolor": "white",
           "lakecolor": "white",
           "landcolor": "#E5ECF6",
           "showlakes": true,
           "showland": true,
           "subunitcolor": "white"
          },
          "hoverlabel": {
           "align": "left"
          },
          "hovermode": "closest",
          "mapbox": {
           "style": "light"
          },
          "paper_bgcolor": "white",
          "plot_bgcolor": "#E5ECF6",
          "polar": {
           "angularaxis": {
            "gridcolor": "white",
            "linecolor": "white",
            "ticks": ""
           },
           "bgcolor": "#E5ECF6",
           "radialaxis": {
            "gridcolor": "white",
            "linecolor": "white",
            "ticks": ""
           }
          },
          "scene": {
           "xaxis": {
            "backgroundcolor": "#E5ECF6",
            "gridcolor": "white",
            "gridwidth": 2,
            "linecolor": "white",
            "showbackground": true,
            "ticks": "",
            "zerolinecolor": "white"
           },
           "yaxis": {
            "backgroundcolor": "#E5ECF6",
            "gridcolor": "white",
            "gridwidth": 2,
            "linecolor": "white",
            "showbackground": true,
            "ticks": "",
            "zerolinecolor": "white"
           },
           "zaxis": {
            "backgroundcolor": "#E5ECF6",
            "gridcolor": "white",
            "gridwidth": 2,
            "linecolor": "white",
            "showbackground": true,
            "ticks": "",
            "zerolinecolor": "white"
           }
          },
          "shapedefaults": {
           "line": {
            "color": "#2a3f5f"
           }
          },
          "ternary": {
           "aaxis": {
            "gridcolor": "white",
            "linecolor": "white",
            "ticks": ""
           },
           "baxis": {
            "gridcolor": "white",
            "linecolor": "white",
            "ticks": ""
           },
           "bgcolor": "#E5ECF6",
           "caxis": {
            "gridcolor": "white",
            "linecolor": "white",
            "ticks": ""
           }
          },
          "title": {
           "x": 0.05
          },
          "xaxis": {
           "automargin": true,
           "gridcolor": "white",
           "linecolor": "white",
           "ticks": "",
           "title": {
            "standoff": 15
           },
           "zerolinecolor": "white",
           "zerolinewidth": 2
          },
          "yaxis": {
           "automargin": true,
           "gridcolor": "white",
           "linecolor": "white",
           "ticks": "",
           "title": {
            "standoff": 15
           },
           "zerolinecolor": "white",
           "zerolinewidth": 2
          }
         }
        },
        "xaxis": {
         "anchor": "y",
         "domain": [
          0,
          1
         ],
         "title": {
          "text": "value"
         }
        },
        "yaxis": {
         "anchor": "x",
         "domain": [
          0,
          1
         ],
         "title": {
          "text": "count"
         }
        }
       }
      }
     },
     "metadata": {},
     "output_type": "display_data"
    }
   ],
   "source": [
    "px.histogram(df.groupby('imo').ssvid.count())"
   ]
  },
  {
   "cell_type": "code",
   "execution_count": 45,
   "metadata": {},
   "outputs": [
    {
     "data": {
      "text/plain": [
       "imo\n",
       "9283291    1\n",
       "9284130    1\n",
       "9286023    1\n",
       "9284582    1\n",
       "9284594    1\n",
       "9284726    1\n",
       "9285835    1\n",
       "9285847    1\n",
       "9285859    1\n",
       "9866380    1\n",
       "Name: ssvid, dtype: int64"
      ]
     },
     "execution_count": 45,
     "metadata": {},
     "output_type": "execute_result"
    }
   ],
   "source": [
    "df.groupby('imo').ssvid.count().sort_values(ascending=False).tail(10)"
   ]
  },
  {
   "cell_type": "code",
   "execution_count": 51,
   "metadata": {},
   "outputs": [
    {
     "data": {
      "text/html": [
       "<div>\n",
       "<style scoped>\n",
       "    .dataframe tbody tr th:only-of-type {\n",
       "        vertical-align: middle;\n",
       "    }\n",
       "\n",
       "    .dataframe tbody tr th {\n",
       "        vertical-align: top;\n",
       "    }\n",
       "\n",
       "    .dataframe thead th {\n",
       "        text-align: right;\n",
       "    }\n",
       "</style>\n",
       "<table border=\"1\" class=\"dataframe\">\n",
       "  <thead>\n",
       "    <tr style=\"text-align: right;\">\n",
       "      <th></th>\n",
       "      <th>name</th>\n",
       "      <th>flag_x</th>\n",
       "      <th>ssvid</th>\n",
       "      <th>dateFrom</th>\n",
       "      <th>dateTo</th>\n",
       "      <th>id</th>\n",
       "      <th>flag_y</th>\n",
       "      <th>shipname</th>\n",
       "      <th>nShipname</th>\n",
       "      <th>callsign</th>\n",
       "      <th>imo</th>\n",
       "      <th>latestVesselInfo</th>\n",
       "      <th>transmissionDateFrom</th>\n",
       "      <th>transmissionDateTo</th>\n",
       "      <th>geartypes</th>\n",
       "      <th>lengthM</th>\n",
       "      <th>tonnageGt</th>\n",
       "      <th>vesselInfoReference</th>\n",
       "    </tr>\n",
       "  </thead>\n",
       "  <tbody>\n",
       "    <tr>\n",
       "      <th>117</th>\n",
       "      <td>SARAKINO SHIPPING</td>\n",
       "      <td>LBR</td>\n",
       "      <td>241314000</td>\n",
       "      <td>2014-03-25 17:25:01+00:00</td>\n",
       "      <td>2020-02-24 09:58:02+00:00</td>\n",
       "      <td>8482381c834d2e532bea6dcb19b531c7</td>\n",
       "      <td>GRC</td>\n",
       "      <td>MEGANISI</td>\n",
       "      <td>MEGANISI</td>\n",
       "      <td>SVBY5</td>\n",
       "      <td>9286023</td>\n",
       "      <td>True</td>\n",
       "      <td>2014-03-25 17:25:01+00:00</td>\n",
       "      <td>2020-02-24 09:58:02+00:00</td>\n",
       "      <td>[TANKER]</td>\n",
       "      <td>NaN</td>\n",
       "      <td>41526.0</td>\n",
       "      <td>daf73302-48a2-4fd3-be34-e7c580783f94</td>\n",
       "    </tr>\n",
       "  </tbody>\n",
       "</table>\n",
       "</div>"
      ],
      "text/plain": [
       "                  name flag_x      ssvid                  dateFrom  \\\n",
       "117  SARAKINO SHIPPING    LBR  241314000 2014-03-25 17:25:01+00:00   \n",
       "\n",
       "                       dateTo                                id flag_y  \\\n",
       "117 2020-02-24 09:58:02+00:00  8482381c834d2e532bea6dcb19b531c7    GRC   \n",
       "\n",
       "     shipname nShipname callsign      imo latestVesselInfo  \\\n",
       "117  MEGANISI  MEGANISI    SVBY5  9286023             True   \n",
       "\n",
       "         transmissionDateFrom        transmissionDateTo geartypes  lengthM  \\\n",
       "117 2014-03-25 17:25:01+00:00 2020-02-24 09:58:02+00:00  [TANKER]      NaN   \n",
       "\n",
       "     tonnageGt                   vesselInfoReference  \n",
       "117    41526.0  daf73302-48a2-4fd3-be34-e7c580783f94  "
      ]
     },
     "execution_count": 51,
     "metadata": {},
     "output_type": "execute_result"
    }
   ],
   "source": [
    "df[df.imo =='9286023']"
   ]
  },
  {
   "cell_type": "code",
   "execution_count": 54,
   "metadata": {},
   "outputs": [
    {
     "data": {
      "text/html": [
       "<div>\n",
       "<style scoped>\n",
       "    .dataframe tbody tr th:only-of-type {\n",
       "        vertical-align: middle;\n",
       "    }\n",
       "\n",
       "    .dataframe tbody tr th {\n",
       "        vertical-align: top;\n",
       "    }\n",
       "\n",
       "    .dataframe thead th {\n",
       "        text-align: right;\n",
       "    }\n",
       "</style>\n",
       "<table border=\"1\" class=\"dataframe\">\n",
       "  <thead>\n",
       "    <tr style=\"text-align: right;\">\n",
       "      <th></th>\n",
       "      <th>id</th>\n",
       "      <th>ssvid</th>\n",
       "      <th>flag</th>\n",
       "      <th>shipname</th>\n",
       "      <th>nShipname</th>\n",
       "      <th>callsign</th>\n",
       "      <th>imo</th>\n",
       "      <th>latestVesselInfo</th>\n",
       "      <th>transmissionDateFrom</th>\n",
       "      <th>transmissionDateTo</th>\n",
       "      <th>geartypes</th>\n",
       "      <th>lengthM</th>\n",
       "      <th>tonnageGt</th>\n",
       "      <th>vesselInfoReference</th>\n",
       "    </tr>\n",
       "  </thead>\n",
       "  <tbody>\n",
       "    <tr>\n",
       "      <th>415</th>\n",
       "      <td>8482381c834d2e532bea6dcb19b531c7</td>\n",
       "      <td>241314000</td>\n",
       "      <td>GRC</td>\n",
       "      <td>MEGANISI</td>\n",
       "      <td>MEGANISI</td>\n",
       "      <td>SVBY5</td>\n",
       "      <td>9286023</td>\n",
       "      <td>True</td>\n",
       "      <td>2014-03-25 17:25:01+00:00</td>\n",
       "      <td>2020-02-24 09:58:02+00:00</td>\n",
       "      <td>[TANKER]</td>\n",
       "      <td>NaN</td>\n",
       "      <td>41526.0</td>\n",
       "      <td>daf73302-48a2-4fd3-be34-e7c580783f94</td>\n",
       "    </tr>\n",
       "  </tbody>\n",
       "</table>\n",
       "</div>"
      ],
      "text/plain": [
       "                                   id      ssvid flag  shipname nShipname  \\\n",
       "415  8482381c834d2e532bea6dcb19b531c7  241314000  GRC  MEGANISI  MEGANISI   \n",
       "\n",
       "    callsign      imo  latestVesselInfo      transmissionDateFrom  \\\n",
       "415    SVBY5  9286023              True 2014-03-25 17:25:01+00:00   \n",
       "\n",
       "           transmissionDateTo geartypes  lengthM  tonnageGt  \\\n",
       "415 2020-02-24 09:58:02+00:00  [TANKER]      NaN    41526.0   \n",
       "\n",
       "                      vesselInfoReference  \n",
       "415  daf73302-48a2-4fd3-be34-e7c580783f94  "
      ]
     },
     "execution_count": 54,
     "metadata": {},
     "output_type": "execute_result"
    }
   ],
   "source": [
    "vessels[vessels.imo == '9286023']"
   ]
  },
  {
   "cell_type": "markdown",
   "metadata": {},
   "source": [
    "## Using pdf plumber"
   ]
  },
  {
   "cell_type": "code",
   "execution_count": 232,
   "metadata": {},
   "outputs": [],
   "source": [
    "dfs = []\n",
    "for file in PATH.joinpath('equasis').glob('*.pdf'):\n",
    "    pdf = pdfplumber.open(file)    \n",
    "    \n",
    "    # Get imo\n",
    "    for lines in pdf.pages[0].extract_text_lines():\n",
    "        if isinstance(lines, dict):\n",
    "            if 'imo: ' in lines.get('text'):\n",
    "                imo = lines.get('text').replace('imo: ', '')\n",
    "\n",
    "    # Get tables\n",
    "    for page in pdf.pages[1:]:\n",
    "        tables = page.extract_tables()\n",
    "\n",
    "        for table in tables:\n",
    "            tabs = []\n",
    "            keys = table[0]\n",
    "            keys = [x.replace('\\n', ' ') for x in keys]\n",
    "            for tab in table[1:]:\n",
    "                values = [str(x).replace('\\n', ' ') for x in tab]\n",
    "                tab = dict(zip(keys, values))\n",
    "                tabs.append(tab)\n",
    "            df = pd.DataFrame(tabs)\n",
    "            df['imo'] = imo\n",
    "            dfs.append(df)"
   ]
  },
  {
   "cell_type": "code",
   "execution_count": 249,
   "metadata": {},
   "outputs": [],
   "source": [
    "companies = []\n",
    "inspections = []\n",
    "human = []\n",
    "names = []\n",
    "flags = []\n",
    "classifications = []\n",
    "\n",
    "\n",
    "for df in dfs:\n",
    "    if 'Company' in df.columns:\n",
    "        companies.append(df)\n",
    "    if 'Detention' in df.columns:\n",
    "        inspections.append(df)\n",
    "    if 'Human element deficiencies' in df.columns:\n",
    "        human.append(df)\n",
    "    if 'Name of ship' in df.columns:\n",
    "        names.append(df)\n",
    "    if 'Flag' in df.columns and 'Date of effect' in df.columns:\n",
    "        flags.append(df)\n",
    "    if 'Classification society' and 'Date of survey' in df.columns:\n",
    "        classifications.append(df)\n",
    "\n",
    "\n",
    "\n",
    "companies = pd.concat(companies)\n",
    "inspections = pd.concat(inspections)\n",
    "human = pd.concat(human)\n",
    "names = pd.concat(names)\n",
    "flags = pd.concat(flags)\n",
    "classifications = pd.concat(classifications)"
   ]
  },
  {
   "cell_type": "code",
   "execution_count": 234,
   "metadata": {},
   "outputs": [],
   "source": [
    "\n",
    "def clean_dates(df):\n",
    "    cols = [x for x in df.columns if 'date' in x.lower()]\n",
    "    to_replace = {'during ': '', 'since ': '', 'before ': ''}\n",
    "    for col in cols: \n",
    "        df[col] = df[col].replace(to_replace, regex=True)\n",
    "        df[col] = pd.to_datetime(df[col], format='mixed', dayfirst=True, errors='coerce')\n",
    "    return df\n",
    "\n",
    "companies = clean_dates(companies)"
   ]
  },
  {
   "cell_type": "code",
   "execution_count": 235,
   "metadata": {},
   "outputs": [],
   "source": [
    "companies.drop('Sources', axis=1, inplace=True)\n",
    "companies.columns = ['company', 'role', 'start_date', 'imo']\n",
    "companies.role = companies.role.str.replace(' T', '').str.replace('manager/', 'manager /').str.replace('/Com', '/ Com')\n",
    "companies = clean_dates(companies)"
   ]
  },
  {
   "cell_type": "code",
   "execution_count": 236,
   "metadata": {},
   "outputs": [],
   "source": [
    "names = clean_dates(names)\n",
    "names.columns = ['vessel_name', 'start_date', 'source', 'imo']"
   ]
  },
  {
   "cell_type": "code",
   "execution_count": 237,
   "metadata": {},
   "outputs": [],
   "source": [
    "flags = clean_dates(flags)\n",
    "flags.columns = ['flag', 'start_date', 'source', 'imo']"
   ]
  },
  {
   "cell_type": "code",
   "execution_count": 238,
   "metadata": {},
   "outputs": [],
   "source": [
    "classifications = clean_dates(classifications)\n",
    "classifications.columns = ['classification_society', 'date_of_survey', 'source', 'imo']"
   ]
  },
  {
   "cell_type": "code",
   "execution_count": 250,
   "metadata": {},
   "outputs": [],
   "source": [
    "inspections = clean_dates(inspections)\n",
    "inspections.columns = ['authority', 'port', 'date', 'detention', 'PSC_organisation', \n",
    "                       'inspection_type', 'duration', 'number_of_deficiencies', 'imo']\n",
    "inspections = inspections.reset_index().sort_values(['imo', 'index'])\n",
    "inspections.authority = inspections.authority.ffill()\n",
    "inspections['port'] = inspections['port'].ffill()\n",
    "inspections['date'] = inspections['date'].ffill()\n",
    "inspections['detention'] = inspections['detention'].ffill()"
   ]
  },
  {
   "cell_type": "code",
   "execution_count": 252,
   "metadata": {},
   "outputs": [],
   "source": [
    "inspections.drop('index', axis=1, inplace=True)"
   ]
  },
  {
   "cell_type": "code",
   "execution_count": 253,
   "metadata": {},
   "outputs": [
    {
     "data": {
      "text/html": [
       "<div>\n",
       "<style scoped>\n",
       "    .dataframe tbody tr th:only-of-type {\n",
       "        vertical-align: middle;\n",
       "    }\n",
       "\n",
       "    .dataframe tbody tr th {\n",
       "        vertical-align: top;\n",
       "    }\n",
       "\n",
       "    .dataframe thead th {\n",
       "        text-align: right;\n",
       "    }\n",
       "</style>\n",
       "<table border=\"1\" class=\"dataframe\">\n",
       "  <thead>\n",
       "    <tr style=\"text-align: right;\">\n",
       "      <th></th>\n",
       "      <th>authority</th>\n",
       "      <th>port</th>\n",
       "      <th>date</th>\n",
       "      <th>detention</th>\n",
       "      <th>PSC_organisation</th>\n",
       "      <th>inspection_type</th>\n",
       "      <th>duration</th>\n",
       "      <th>number_of_deficiencies</th>\n",
       "      <th>imo</th>\n",
       "    </tr>\n",
       "  </thead>\n",
       "  <tbody>\n",
       "    <tr>\n",
       "      <th>1789</th>\n",
       "      <td>Bulgaria</td>\n",
       "      <td>Varna</td>\n",
       "      <td>2010-08-12</td>\n",
       "      <td>N</td>\n",
       "      <td>Paris MoU</td>\n",
       "      <td>Expanded inspection</td>\n",
       "      <td>0</td>\n",
       "      <td>9</td>\n",
       "      <td>8727941</td>\n",
       "    </tr>\n",
       "    <tr>\n",
       "      <th>1790</th>\n",
       "      <td>Iran</td>\n",
       "      <td>Bandar Neka</td>\n",
       "      <td>2003-09-14</td>\n",
       "      <td>N</td>\n",
       "      <td>Indian Ocean MoU</td>\n",
       "      <td>Initial inspection</td>\n",
       "      <td>0</td>\n",
       "      <td></td>\n",
       "      <td>8727941</td>\n",
       "    </tr>\n",
       "    <tr>\n",
       "      <th>1791</th>\n",
       "      <td>Iran</td>\n",
       "      <td>Bandar Neka</td>\n",
       "      <td>2002-12-25</td>\n",
       "      <td>N</td>\n",
       "      <td>Indian Ocean MoU</td>\n",
       "      <td>Initial inspection</td>\n",
       "      <td>0</td>\n",
       "      <td>1</td>\n",
       "      <td>8727941</td>\n",
       "    </tr>\n",
       "    <tr>\n",
       "      <th>282</th>\n",
       "      <td>Ukraine</td>\n",
       "      <td>Izmail</td>\n",
       "      <td>2021-09-15</td>\n",
       "      <td>N</td>\n",
       "      <td>Black Sea MoU</td>\n",
       "      <td>More detailed inspection</td>\n",
       "      <td>0</td>\n",
       "      <td></td>\n",
       "      <td>8727953</td>\n",
       "    </tr>\n",
       "    <tr>\n",
       "      <th>283</th>\n",
       "      <td>Bulgaria</td>\n",
       "      <td>Burgas</td>\n",
       "      <td>2019-05-09</td>\n",
       "      <td>N</td>\n",
       "      <td>Black Sea MoU</td>\n",
       "      <td>Expanded inspection</td>\n",
       "      <td>0</td>\n",
       "      <td>2</td>\n",
       "      <td>8727953</td>\n",
       "    </tr>\n",
       "  </tbody>\n",
       "</table>\n",
       "</div>"
      ],
      "text/plain": [
       "     authority         port       date detention  PSC_organisation  \\\n",
       "1789  Bulgaria        Varna 2010-08-12         N         Paris MoU   \n",
       "1790      Iran  Bandar Neka 2003-09-14         N  Indian Ocean MoU   \n",
       "1791      Iran  Bandar Neka 2002-12-25         N  Indian Ocean MoU   \n",
       "282    Ukraine       Izmail 2021-09-15         N     Black Sea MoU   \n",
       "283   Bulgaria       Burgas 2019-05-09         N     Black Sea MoU   \n",
       "\n",
       "               inspection_type duration number_of_deficiencies      imo  \n",
       "1789       Expanded inspection        0                      9  8727941  \n",
       "1790        Initial inspection        0                         8727941  \n",
       "1791        Initial inspection        0                      1  8727941  \n",
       "282   More detailed inspection        0                         8727953  \n",
       "283        Expanded inspection        0                      2  8727953  "
      ]
     },
     "execution_count": 253,
     "metadata": {},
     "output_type": "execute_result"
    }
   ],
   "source": [
    "inspections.head()"
   ]
  },
  {
   "cell_type": "code",
   "execution_count": null,
   "metadata": {},
   "outputs": [],
   "source": []
  }
 ],
 "metadata": {
  "kernelspec": {
   "display_name": "geo",
   "language": "python",
   "name": "python3"
  },
  "language_info": {
   "codemirror_mode": {
    "name": "ipython",
    "version": 3
   },
   "file_extension": ".py",
   "mimetype": "text/x-python",
   "name": "python",
   "nbconvert_exporter": "python",
   "pygments_lexer": "ipython3",
   "version": "3.9.18"
  }
 },
 "nbformat": 4,
 "nbformat_minor": 2
}

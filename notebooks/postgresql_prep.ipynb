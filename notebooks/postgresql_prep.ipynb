{
 "cells": [
  {
   "cell_type": "code",
   "execution_count": 1,
   "metadata": {},
   "outputs": [],
   "source": [
    "import pandas as pd\n",
    "from pathlib import Path\n",
    "\n",
    "PATH = Path.cwd().parent.joinpath('data')"
   ]
  },
  {
   "cell_type": "markdown",
   "metadata": {},
   "source": [
    "### Create vessel table"
   ]
  },
  {
   "cell_type": "code",
   "execution_count": 119,
   "metadata": {},
   "outputs": [],
   "source": [
    "vessels = pd.read_csv(PATH.joinpath('processed', 'kse_shadowfleet.csv'))\n",
    "vessels.imo = vessels.imo.astype(int)\n",
    "\n",
    "cols = ['imo', 'vessel_name', 'tanker_size', 'buildyear']\n",
    "\n",
    "vessels = vessels[cols].copy()\n",
    "vessels.drop_duplicates(subset='imo', inplace=True)\n",
    "vessels.rename(columns={'imo': 'vessel_imo'}, inplace=True)\n",
    "vessels.to_csv(PATH.joinpath('db', 'vessels.csv'), index=False)"
   ]
  },
  {
   "cell_type": "code",
   "execution_count": null,
   "metadata": {},
   "outputs": [],
   "source": [
    "vessels.head()"
   ]
  },
  {
   "cell_type": "markdown",
   "metadata": {},
   "source": [
    "### Create vessel-company relationship table"
   ]
  },
  {
   "cell_type": "code",
   "execution_count": 64,
   "metadata": {},
   "outputs": [],
   "source": [
    "com = pd.read_csv(PATH.joinpath('processed', 'company_vessels_final.csv'))\n",
    "\n",
    "cols = ['imo', 'company_imo', 'role', 'start_date', 'end_date']\n",
    "\n",
    "vessel_com = com[cols].copy()\n",
    "\n",
    "vessel_com = vessel_com[vessel_com.company_imo.notna()].copy()\n",
    "vessel_com.company_imo = vessel_com.company_imo.astype(int)\n",
    "vessel_com.rename(columns={'imo': 'vessel_imo'}, inplace=True)\n",
    "\n",
    "vessel_com.to_csv(PATH.joinpath('db', 'vessel_company.csv'), index=False)"
   ]
  },
  {
   "cell_type": "code",
   "execution_count": null,
   "metadata": {},
   "outputs": [],
   "source": [
    "vessel_com.role.value_counts()"
   ]
  },
  {
   "cell_type": "markdown",
   "metadata": {},
   "source": [
    "### Create company table"
   ]
  },
  {
   "cell_type": "code",
   "execution_count": 67,
   "metadata": {},
   "outputs": [],
   "source": [
    "com = pd.read_csv(PATH.joinpath('processed', 'company_vessels_final.csv'))\n",
    "\n",
    "cols = ['company_imo', 'company', 'address', 'country']\n",
    "companies = com[cols].copy()\n",
    "companies = companies.drop_duplicates(subset='company_imo')\n",
    "companies = companies[companies.company_imo.notna()].copy()\n",
    "companies.company_imo = companies.company_imo.astype(int)\n",
    "companies.rename(columns={'company': 'company_name', 'country': 'jurisdiction'}, inplace=True)\n",
    "companies.to_csv(PATH.joinpath('db', 'companies.csv'), index=False)"
   ]
  },
  {
   "cell_type": "markdown",
   "metadata": {},
   "source": [
    "### Create port visits table"
   ]
  },
  {
   "cell_type": "code",
   "execution_count": 72,
   "metadata": {},
   "outputs": [],
   "source": [
    "port_visits = pd.read_csv(PATH.joinpath('processed', 'port_visits_2022.csv'))\n",
    "cols = ['imo', 'port_visit_startAnchorage_id', 'start', 'end', 'port_visit_durationHrs', 'lat', 'lon']\n",
    "port_visits = port_visits[cols].copy()\n",
    "port_visits.rename(columns={'imo': 'vessel_imo', 'port_visit_startAnchorage_id': 'port_id', 'start': 'start_date',\n",
    "                            'end': 'end_date', 'port_visit_durationHrs': 'duration_hrs'}, inplace=True)\n",
    "port_visits.to_csv(PATH.joinpath('db', 'port_visits.csv'), index=False)"
   ]
  },
  {
   "cell_type": "code",
   "execution_count": null,
   "metadata": {},
   "outputs": [],
   "source": [
    "port_visits.columns"
   ]
  },
  {
   "cell_type": "markdown",
   "metadata": {},
   "source": [
    "### Create loitering table"
   ]
  },
  {
   "cell_type": "code",
   "execution_count": 74,
   "metadata": {},
   "outputs": [],
   "source": [
    "loitering = pd.read_csv(PATH.joinpath('processed', 'loitering_2022.csv'))\n",
    "\n",
    "cols = ['imo', 'start', 'end', 'loitering_totalTimeHours', 'lat', 'lon']\n",
    "loitering = loitering[cols].copy()\n",
    "loitering.rename(columns={'imo': 'vessel_imo', 'loitering_totalTimeHours': 'duration_hrs', 'start': 'start_date',\n",
    "                            'end': 'end_date'}, inplace=True)\n",
    "loitering.to_csv(PATH.joinpath('db', 'loitering.csv'), index=False)"
   ]
  },
  {
   "cell_type": "markdown",
   "metadata": {},
   "source": [
    "### Create ais gaps table"
   ]
  },
  {
   "cell_type": "code",
   "execution_count": 90,
   "metadata": {},
   "outputs": [],
   "source": [
    "ais = pd.read_parquet(PATH.joinpath('processed', 'ais.parquet'))\n",
    "ais.start = pd.to_datetime(ais.start).dt.tz_localize(None)\n",
    "ais = ais[ais.start.dt.year >= 2022].copy()\n",
    "ais.end = pd.to_datetime(ais.end).dt.tz_localize(None)\n",
    "\n",
    "cols = ['imo', 'start', 'end', 'gap_durationhours','gap_offposition_lat', 'gap_offposition_lon', 'gap_onposition_lat', 'gap_onposition_lon']\n",
    "ais = ais[cols].copy()\n",
    "ais.rename(columns={'imo': 'vessel_imo', 'gap_durationhours': 'duration_hrs', 'gap_offposition_lat': 'lat_off',\n",
    "                    'gap_offposition_lon': 'lon_off', 'gap_onposition_lat': 'lat_on', 'gap_onposition_lon': 'lon_on'}, inplace=True)\n",
    "ais.to_csv(PATH.joinpath('db', 'ais.csv'), index=False)"
   ]
  },
  {
   "cell_type": "markdown",
   "metadata": {},
   "source": [
    "### Create insurance table"
   ]
  },
  {
   "cell_type": "code",
   "execution_count": 92,
   "metadata": {},
   "outputs": [],
   "source": [
    "ins = pd.read_csv(PATH.joinpath('processed', 'uninsured.csv'))\n",
    "ins.drop('earliest_sanction_date', axis=1, inplace=True)\n",
    "ins.rename(columns={'imo': 'vessel_imo'}, inplace=True)\n",
    "ins.to_csv(PATH.joinpath('db', 'uninsured.csv'), index=False)"
   ]
  },
  {
   "cell_type": "markdown",
   "metadata": {},
   "source": [
    "### Create sanctioned table"
   ]
  },
  {
   "cell_type": "code",
   "execution_count": 130,
   "metadata": {},
   "outputs": [],
   "source": [
    "ins = pd.read_csv(PATH.joinpath('processed', 'kse_shadowfleet.csv'))\n",
    "ins = ins[['imo', 'earliest_sanction_date', 'sanction_country']].copy()\n",
    "ins.dropna(subset=['earliest_sanction_date'], inplace=True)\n",
    "ins.rename(columns={'imo': 'vessel_imo'}, inplace=True)\n",
    "ins.earliest_sanction_date = pd.to_datetime(ins.earliest_sanction_date, format='mixed', dayfirst=True)\n",
    "ins.to_csv(PATH.joinpath('db', 'sanctions.csv'), index=False)"
   ]
  },
  {
   "cell_type": "code",
   "execution_count": 126,
   "metadata": {},
   "outputs": [],
   "source": []
  },
  {
   "cell_type": "code",
   "execution_count": null,
   "metadata": {},
   "outputs": [],
   "source": [
    "ins.head()"
   ]
  },
  {
   "cell_type": "markdown",
   "metadata": {},
   "source": [
    "### Create name changes table"
   ]
  },
  {
   "cell_type": "code",
   "execution_count": 102,
   "metadata": {},
   "outputs": [],
   "source": [
    "names = pd.read_csv(PATH.joinpath('processed', 'owners_names.csv'))\n",
    "cols = ['imo', 'vessel_name', 'start_date', 'end_date']\n",
    "names = names[cols].copy()\n",
    "names.rename(columns={'imo': 'vessel_imo'}, inplace=True)\n",
    "names.to_csv(PATH.joinpath('db', 'vessel_names.csv'), index=False)"
   ]
  },
  {
   "cell_type": "markdown",
   "metadata": {},
   "source": [
    "### Create vessel flag table"
   ]
  },
  {
   "cell_type": "code",
   "execution_count": 106,
   "metadata": {},
   "outputs": [],
   "source": [
    "flags = pd.read_csv(PATH.joinpath('processed', 'owners_flags.csv'))\n",
    "cols = ['imo', 'flag', 'start_date', 'end_date']\n",
    "flags = flags[cols].copy()\n",
    "flags.rename(columns={'imo': 'vessel_imo'}, inplace=True)\n",
    "flags.to_csv(PATH.joinpath('db', 'vessel_flags.csv'), index=False)"
   ]
  },
  {
   "cell_type": "markdown",
   "metadata": {},
   "source": [
    "### Create inspections table"
   ]
  },
  {
   "cell_type": "code",
   "execution_count": 112,
   "metadata": {},
   "outputs": [],
   "source": [
    "inspections = pd.read_csv(PATH.joinpath('processed', 'owners_inspections.csv'))\n",
    "inspections.drop(['duration', 'PSC_organisation'], axis=1, inplace=True)\n",
    "inspections.rename(columns={'imo': 'vessel_imo', 'authority': 'country'}, inplace=True)\n",
    "cols = ['vessel_imo', 'country', 'port', 'date', 'inspection_type', 'number_of_deficiencies', 'detention']\n",
    "inspections = inspections[cols].copy()\n",
    "inspections.number_of_deficiencies = inspections.number_of_deficiencies.fillna(0).astype(int)\n",
    "inspections.to_csv(PATH.joinpath('db', 'vessel_inspections.csv'), index=False)"
   ]
  },
  {
   "cell_type": "markdown",
   "metadata": {},
   "source": [
    "### Create MMSI table"
   ]
  },
  {
   "cell_type": "code",
   "execution_count": 117,
   "metadata": {},
   "outputs": [],
   "source": [
    "mmsi = pd.read_csv(PATH.joinpath('processed', 'shadowfleet_vessels.csv'))\n",
    "cols = ['imo', 'ssvid', 'start_date', 'end_date']\n",
    "mmsi = mmsi[cols].copy()\n",
    "mmsi.rename(columns={'imo': 'vessel_imo', 'ssvid': 'mmsi'}, inplace=True)\n",
    "mmsi.to_csv(PATH.joinpath('db', 'vessel_mmsi.csv'), index=False)"
   ]
  },
  {
   "cell_type": "code",
   "execution_count": null,
   "metadata": {},
   "outputs": [],
   "source": []
  }
 ],
 "metadata": {
  "kernelspec": {
   "display_name": "geo",
   "language": "python",
   "name": "geo"
  },
  "language_info": {
   "codemirror_mode": {
    "name": "ipython",
    "version": 3
   },
   "file_extension": ".py",
   "mimetype": "text/x-python",
   "name": "python",
   "nbconvert_exporter": "python",
   "pygments_lexer": "ipython3",
   "version": "3.9.18"
  }
 },
 "nbformat": 4,
 "nbformat_minor": 2
}

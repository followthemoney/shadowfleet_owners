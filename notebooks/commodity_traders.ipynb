{
 "cells": [
  {
   "cell_type": "code",
   "execution_count": 1,
   "metadata": {},
   "outputs": [],
   "source": [
    "import pandas as pd\n",
    "from pathlib import Path\n",
    "\n",
    "PATH = Path.cwd().parent.joinpath('data')"
   ]
  },
  {
   "cell_type": "markdown",
   "metadata": {},
   "source": [
    "# Goal\n",
    "\n",
    "The goal of this notebook is to explore if we can use commodity trader's data for our analysis of the shadowfleet. Do they use vessels of the shadowfleet and how have they responded to the war in Ukraine? "
   ]
  },
  {
   "cell_type": "code",
   "execution_count": 2,
   "metadata": {},
   "outputs": [
    {
     "data": {
      "text/plain": [
       "15102"
      ]
     },
     "execution_count": 2,
     "metadata": {},
     "output_type": "execute_result"
    }
   ],
   "source": [
    "dfs = []\n",
    "for file in PATH.joinpath('bloomberg', 'charters').glob('*.xlsx'):\n",
    "\n",
    "    file_extension = file.suffix.lower()[1:]\n",
    "\n",
    "    if file_extension == 'xlsx':\n",
    "        df = pd.read_excel(file, engine='openpyxl', skiprows=1)\n",
    "    elif file_extension == 'xls':\n",
    "        df = pd.read_excel(file, skiprows=1)\n",
    "    \n",
    "    dfs.append(df)\n",
    "\n",
    "fixtures = pd.concat(dfs)\n",
    "fixtures.columns = fixtures.columns.str.lower()\n",
    "fixtures.charterer = 'Vitol'\n",
    "\n",
    "fixtures.dropna(subset=['imo_number'], inplace=True)\n",
    "fixtures.drop_duplicates(inplace=True)\n",
    "fixtures.reset_index(drop=True, inplace=True)\n",
    "fixtures[['fixture_date', 'loading_date']] = fixtures[['fixture_date', 'loading_date']].apply(pd.to_datetime, errors='coerce')\n",
    "fixtures.to_csv(PATH.joinpath('bloomberg', 'fixtures.csv'), index=False)\n",
    "\n",
    "len(fixtures)"
   ]
  },
  {
   "cell_type": "code",
   "execution_count": 16,
   "metadata": {},
   "outputs": [
    {
     "name": "stdout",
     "output_type": "stream",
     "text": [
      "<class 'pandas.core.frame.DataFrame'>\n",
      "RangeIndex: 739 entries, 0 to 738\n",
      "Data columns (total 4 columns):\n",
      " #   Column                  Non-Null Count  Dtype         \n",
      "---  ------                  --------------  -----         \n",
      " 0   imo                     739 non-null    int64         \n",
      " 1   start_date              739 non-null    datetime64[ns]\n",
      " 2   end_date                739 non-null    datetime64[ns]\n",
      " 3   earliest_sanction_date  84 non-null     datetime64[ns]\n",
      "dtypes: datetime64[ns](3), int64(1)\n",
      "memory usage: 23.2 KB\n"
     ]
    }
   ],
   "source": [
    "uninsured = pd.read_csv(PATH.joinpath('processed', 'uninsured.csv'))\n",
    "uninsured.start_date = pd.to_datetime(uninsured.start_date, errors='coerce')\n",
    "uninsured.end_date = pd.to_datetime(uninsured.end_date, errors='coerce')\n",
    "uninsured.earliest_sanction_date = pd.to_datetime(uninsured.earliest_sanction_date, errors='coerce')\n",
    "uninsured.info()"
   ]
  },
  {
   "cell_type": "code",
   "execution_count": 22,
   "metadata": {},
   "outputs": [
    {
     "data": {
      "text/plain": [
       "5"
      ]
     },
     "execution_count": 22,
     "metadata": {},
     "output_type": "execute_result"
    }
   ],
   "source": [
    "temp = pd.merge(fixtures, \n",
    "                uninsured, \n",
    "                left_on=['imo_number'],\n",
    "                right_on='imo',\n",
    "                how='left')\n",
    "temp = temp[(temp.imo.notna()) & (temp.fixture_date >= temp.start_date) & (temp.fixture_date <= temp.end_date)].copy().reset_index(drop=True)\n",
    "len(temp)"
   ]
  },
  {
   "cell_type": "code",
   "execution_count": 24,
   "metadata": {},
   "outputs": [
    {
     "data": {
      "text/plain": [
       "36"
      ]
     },
     "execution_count": 24,
     "metadata": {},
     "output_type": "execute_result"
    }
   ],
   "source": [
    "# How many vessels are in both datasets?\n",
    "\n",
    "intersection = set(fixtures[fixtures.fixture_date > '2023-01-01'].imo_number).intersection(kse.imo)\n",
    "len(intersection)"
   ]
  },
  {
   "cell_type": "code",
   "execution_count": 25,
   "metadata": {},
   "outputs": [
    {
     "data": {
      "text/plain": [
       "36"
      ]
     },
     "execution_count": 25,
     "metadata": {},
     "output_type": "execute_result"
    }
   ],
   "source": [
    "fixtures[fixtures.imo_number.isin(list(intersection))].imo_number.nunique()"
   ]
  },
  {
   "cell_type": "markdown",
   "metadata": {},
   "source": [
    "## Berth visits"
   ]
  },
  {
   "cell_type": "code",
   "execution_count": 26,
   "metadata": {},
   "outputs": [],
   "source": [
    "dfs = []\n",
    "for file in PATH.joinpath('bloomberg', 'berth_visits').glob('*.xlsx'):\n",
    "\n",
    "    file_extension = file.suffix.lower()[1:]\n",
    "\n",
    "    if file_extension == 'xlsx':\n",
    "        df = pd.read_excel(file, engine='openpyxl', skiprows=1)\n",
    "    elif file_extension == 'xls':\n",
    "        df = pd.read_excel(file, skiprows=1)\n",
    "    \n",
    "    dfs.append(df)\n",
    "\n",
    "visits = pd.concat(dfs)\n"
   ]
  },
  {
   "cell_type": "code",
   "execution_count": 29,
   "metadata": {},
   "outputs": [],
   "source": [
    "visits.drop_duplicates(inplace=True)\n",
    "visits.columns = visits.columns.str.lower()"
   ]
  },
  {
   "cell_type": "code",
   "execution_count": 51,
   "metadata": {},
   "outputs": [],
   "source": [
    "visits.to_csv(PATH.joinpath('bloomberg', 'berth_visits.csv'), index=False)"
   ]
  },
  {
   "cell_type": "code",
   "execution_count": 36,
   "metadata": {},
   "outputs": [
    {
     "data": {
      "text/plain": [
       "316"
      ]
     },
     "execution_count": 36,
     "metadata": {},
     "output_type": "execute_result"
    }
   ],
   "source": [
    "len(set(visits.vessel_imo).intersection(uninsured.imo))"
   ]
  },
  {
   "cell_type": "code",
   "execution_count": 41,
   "metadata": {},
   "outputs": [],
   "source": [
    "visits.arrival_time = pd.to_datetime(visits.arrival_time, errors='coerce')"
   ]
  },
  {
   "cell_type": "code",
   "execution_count": 42,
   "metadata": {},
   "outputs": [],
   "source": [
    "temp = pd.merge(visits,\n",
    "                uninsured,\n",
    "                left_on=['vessel_imo'],\n",
    "                right_on='imo',\n",
    "                how='left')\n",
    "\n",
    "temp = temp[(temp.imo.notna()) & (temp.arrival_time >= temp.start_date) & (temp.arrival_time <= temp.end_date)].copy().reset_index(drop=True)"
   ]
  },
  {
   "cell_type": "code",
   "execution_count": 43,
   "metadata": {},
   "outputs": [
    {
     "data": {
      "text/plain": [
       "2312"
      ]
     },
     "execution_count": 43,
     "metadata": {},
     "output_type": "execute_result"
    }
   ],
   "source": [
    "len(temp)"
   ]
  },
  {
   "cell_type": "code",
   "execution_count": 45,
   "metadata": {},
   "outputs": [
    {
     "data": {
      "text/plain": [
       "1753"
      ]
     },
     "execution_count": 45,
     "metadata": {},
     "output_type": "execute_result"
    }
   ],
   "source": [
    "temp.drop_duplicates(inplace=True)\n",
    "len(temp)"
   ]
  },
  {
   "cell_type": "code",
   "execution_count": 50,
   "metadata": {},
   "outputs": [
    {
     "data": {
      "text/html": [
       "<div>\n",
       "<style scoped>\n",
       "    .dataframe tbody tr th:only-of-type {\n",
       "        vertical-align: middle;\n",
       "    }\n",
       "\n",
       "    .dataframe tbody tr th {\n",
       "        vertical-align: top;\n",
       "    }\n",
       "\n",
       "    .dataframe thead th {\n",
       "        text-align: right;\n",
       "    }\n",
       "</style>\n",
       "<table border=\"1\" class=\"dataframe\">\n",
       "  <thead>\n",
       "    <tr style=\"text-align: right;\">\n",
       "      <th></th>\n",
       "      <th>berth_type</th>\n",
       "      <th>berth_name</th>\n",
       "      <th>port_country</th>\n",
       "      <th>vessel_class</th>\n",
       "      <th>estimated_quantity</th>\n",
       "      <th>vessel_imo</th>\n",
       "      <th>arrival_time</th>\n",
       "      <th>departure_time</th>\n",
       "      <th>vessel_destination_on_departure</th>\n",
       "      <th>vessel_name</th>\n",
       "      <th>maps_der</th>\n",
       "      <th>vessel_capacity</th>\n",
       "      <th>eta_for_next_destination_change</th>\n",
       "      <th>imo</th>\n",
       "      <th>start_date</th>\n",
       "      <th>end_date</th>\n",
       "      <th>earliest_sanction_date</th>\n",
       "    </tr>\n",
       "  </thead>\n",
       "  <tbody>\n",
       "    <tr>\n",
       "      <th>768</th>\n",
       "      <td>Exports</td>\n",
       "      <td>Ust-Luga crude</td>\n",
       "      <td>Russia</td>\n",
       "      <td>Tanker-Aframax</td>\n",
       "      <td>118845</td>\n",
       "      <td>9258868</td>\n",
       "      <td>2024-02-27</td>\n",
       "      <td>2024-02-28 00:00:00</td>\n",
       "      <td>Ust-Luga</td>\n",
       "      <td>ASHER</td>\n",
       "      <td>IMO 9258868</td>\n",
       "      <td>121270</td>\n",
       "      <td>2024-02-27 00:00:00</td>\n",
       "      <td>9258868.0</td>\n",
       "      <td>2023-03-01</td>\n",
       "      <td>2024-06-30</td>\n",
       "      <td>2024-01-18</td>\n",
       "    </tr>\n",
       "    <tr>\n",
       "      <th>791</th>\n",
       "      <td>Exports</td>\n",
       "      <td>Ust-Luga crude</td>\n",
       "      <td>Russia</td>\n",
       "      <td>Tanker-Aframax</td>\n",
       "      <td>121610</td>\n",
       "      <td>9274800</td>\n",
       "      <td>2024-02-21</td>\n",
       "      <td>2024-02-23 00:00:00</td>\n",
       "      <td>Singapore</td>\n",
       "      <td>YANGTZE</td>\n",
       "      <td>IMO 9274800</td>\n",
       "      <td>124092</td>\n",
       "      <td>2024-03-09 00:00:00</td>\n",
       "      <td>9274800.0</td>\n",
       "      <td>2023-09-01</td>\n",
       "      <td>2024-04-30</td>\n",
       "      <td>2024-01-18</td>\n",
       "    </tr>\n",
       "    <tr>\n",
       "      <th>1347</th>\n",
       "      <td>Exports</td>\n",
       "      <td>Ust-Luga crude</td>\n",
       "      <td>Russia</td>\n",
       "      <td>Tanker-Aframax</td>\n",
       "      <td>118845</td>\n",
       "      <td>9258868</td>\n",
       "      <td>2024-06-20</td>\n",
       "      <td>2024-06-21 00:00:00</td>\n",
       "      <td>UST LUGA0</td>\n",
       "      <td>ASHER</td>\n",
       "      <td>IMO 9258868</td>\n",
       "      <td>121270</td>\n",
       "      <td>2024-09-07 00:00:00</td>\n",
       "      <td>9258868.0</td>\n",
       "      <td>2023-03-01</td>\n",
       "      <td>2024-06-30</td>\n",
       "      <td>2024-01-18</td>\n",
       "    </tr>\n",
       "    <tr>\n",
       "      <th>1569</th>\n",
       "      <td>Exports</td>\n",
       "      <td>Ust-Luga crude</td>\n",
       "      <td>Russia</td>\n",
       "      <td>Tanker-Aframax</td>\n",
       "      <td>121610</td>\n",
       "      <td>9274800</td>\n",
       "      <td>2024-04-26</td>\n",
       "      <td>2024-04-28 00:00:00</td>\n",
       "      <td>Ust-Luga</td>\n",
       "      <td>YANGTZE</td>\n",
       "      <td>IMO 9274800</td>\n",
       "      <td>124092</td>\n",
       "      <td>2024-05-25 00:00:00</td>\n",
       "      <td>9274800.0</td>\n",
       "      <td>2023-09-01</td>\n",
       "      <td>2024-04-30</td>\n",
       "      <td>2024-01-18</td>\n",
       "    </tr>\n",
       "  </tbody>\n",
       "</table>\n",
       "</div>"
      ],
      "text/plain": [
       "     berth_type      berth_name port_country    vessel_class  \\\n",
       "768     Exports  Ust-Luga crude       Russia  Tanker-Aframax   \n",
       "791     Exports  Ust-Luga crude       Russia  Tanker-Aframax   \n",
       "1347    Exports  Ust-Luga crude       Russia  Tanker-Aframax   \n",
       "1569    Exports  Ust-Luga crude       Russia  Tanker-Aframax   \n",
       "\n",
       "      estimated_quantity  vessel_imo arrival_time       departure_time  \\\n",
       "768               118845     9258868   2024-02-27  2024-02-28 00:00:00   \n",
       "791               121610     9274800   2024-02-21  2024-02-23 00:00:00   \n",
       "1347              118845     9258868   2024-06-20  2024-06-21 00:00:00   \n",
       "1569              121610     9274800   2024-04-26  2024-04-28 00:00:00   \n",
       "\n",
       "     vessel_destination_on_departure vessel_name     maps_der  \\\n",
       "768                         Ust-Luga       ASHER  IMO 9258868   \n",
       "791                        Singapore     YANGTZE  IMO 9274800   \n",
       "1347                       UST LUGA0       ASHER  IMO 9258868   \n",
       "1569                        Ust-Luga     YANGTZE  IMO 9274800   \n",
       "\n",
       "      vessel_capacity eta_for_next_destination_change        imo start_date  \\\n",
       "768            121270             2024-02-27 00:00:00  9258868.0 2023-03-01   \n",
       "791            124092             2024-03-09 00:00:00  9274800.0 2023-09-01   \n",
       "1347           121270             2024-09-07 00:00:00  9258868.0 2023-03-01   \n",
       "1569           124092             2024-05-25 00:00:00  9274800.0 2023-09-01   \n",
       "\n",
       "       end_date earliest_sanction_date  \n",
       "768  2024-06-30             2024-01-18  \n",
       "791  2024-04-30             2024-01-18  \n",
       "1347 2024-06-30             2024-01-18  \n",
       "1569 2024-04-30             2024-01-18  "
      ]
     },
     "execution_count": 50,
     "metadata": {},
     "output_type": "execute_result"
    }
   ],
   "source": [
    "temp[temp.earliest_sanction_date.notna() & (temp.arrival_time >= temp.earliest_sanction_date)]"
   ]
  },
  {
   "cell_type": "code",
   "execution_count": null,
   "metadata": {},
   "outputs": [],
   "source": []
  }
 ],
 "metadata": {
  "kernelspec": {
   "display_name": "geo",
   "language": "python",
   "name": "geo"
  },
  "language_info": {
   "codemirror_mode": {
    "name": "ipython",
    "version": 3
   },
   "file_extension": ".py",
   "mimetype": "text/x-python",
   "name": "python",
   "nbconvert_exporter": "python",
   "pygments_lexer": "ipython3",
   "version": "3.9.18"
  }
 },
 "nbformat": 4,
 "nbformat_minor": 2
}

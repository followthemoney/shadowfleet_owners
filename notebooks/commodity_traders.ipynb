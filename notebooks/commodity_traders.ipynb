{
 "cells": [
  {
   "cell_type": "code",
   "execution_count": 1,
   "metadata": {},
   "outputs": [],
   "source": [
    "import pandas as pd\n",
    "from pathlib import Path\n",
    "\n",
    "PATH = Path.cwd().parent.joinpath('data')"
   ]
  },
  {
   "cell_type": "markdown",
   "metadata": {},
   "source": [
    "# Goal\n",
    "\n",
    "The goal of this notebook is to explore if we can use commodity trader's data for our analysis of the shadowfleet. Do they use vessels of the shadowfleet and how have they responded to the war in Ukraine? "
   ]
  },
  {
   "cell_type": "code",
   "execution_count": null,
   "metadata": {},
   "outputs": [],
   "source": []
  },
  {
   "cell_type": "code",
   "execution_count": null,
   "metadata": {},
   "outputs": [],
   "source": [
    "dfs = []\n",
    "for file in PATH.joinpath('bloomberg', 'charters').glob('*.xlsx'):\n",
    "\n",
    "    file_extension = file.suffix.lower()[1:]\n",
    "\n",
    "    if file_extension == 'xlsx':\n",
    "        df = pd.read_excel(file, engine='openpyxl', skiprows=1)\n",
    "    elif file_extension == 'xls':\n",
    "        df = pd.read_excel(file, skiprows=1)\n",
    "    \n",
    "    dfs.append(df)\n",
    "\n",
    "fixtures = pd.concat(dfs)\n",
    "fixtures.columns = fixtures.columns.str.lower()\n",
    "fixtures.charterer = 'Vitol'\n",
    "\n",
    "fixtures.dropna(subset=['imo_number'], inplace=True)\n",
    "fixtures.drop_duplicates(inplace=True)\n",
    "fixtures.reset_index(drop=True, inplace=True)\n",
    "fixtures[['fixture_date', 'loading_date']] = fixtures[['fixture_date', 'loading_date']].apply(pd.to_datetime, errors='coerce')\n",
    "fixtures.to_csv(PATH.joinpath('bloomberg', 'fixtures.csv'), index=False)\n",
    "\n",
    "len(fixtures)"
   ]
  },
  {
   "cell_type": "code",
   "execution_count": null,
   "metadata": {},
   "outputs": [],
   "source": [
    "uninsured = pd.read_csv(PATH.joinpath('processed', 'uninsured.csv'))\n",
    "uninsured.start_date = pd.to_datetime(uninsured.start_date, errors='coerce')\n",
    "uninsured.end_date = pd.to_datetime(uninsured.end_date, errors='coerce')\n",
    "uninsured.earliest_sanction_date = pd.to_datetime(uninsured.earliest_sanction_date, errors='coerce')\n",
    "uninsured.info()"
   ]
  },
  {
   "cell_type": "code",
   "execution_count": null,
   "metadata": {},
   "outputs": [],
   "source": [
    "temp = pd.merge(fixtures, \n",
    "                uninsured, \n",
    "                left_on=['imo_number'],\n",
    "                right_on='imo',\n",
    "                how='left')\n",
    "temp = temp[(temp.imo.notna()) & (temp.fixture_date >= temp.start_date) & (temp.fixture_date <= temp.end_date)].copy().reset_index(drop=True)\n",
    "len(temp)"
   ]
  },
  {
   "cell_type": "code",
   "execution_count": null,
   "metadata": {},
   "outputs": [],
   "source": [
    "# How many vessels are in both datasets?\n",
    "\n",
    "intersection = set(fixtures[fixtures.fixture_date > '2023-01-01'].imo_number).intersection(kse.imo)\n",
    "len(intersection)"
   ]
  },
  {
   "cell_type": "code",
   "execution_count": null,
   "metadata": {},
   "outputs": [],
   "source": [
    "fixtures[fixtures.imo_number.isin(list(intersection))].imo_number.nunique()"
   ]
  },
  {
   "cell_type": "markdown",
   "metadata": {},
   "source": [
    "## Berth visits"
   ]
  },
  {
   "cell_type": "code",
   "execution_count": null,
   "metadata": {},
   "outputs": [],
   "source": [
    "dfs = []\n",
    "for file in PATH.joinpath('bloomberg', 'berth_visits').glob('*.xlsx'):\n",
    "\n",
    "    file_extension = file.suffix.lower()[1:]\n",
    "\n",
    "    if file_extension == 'xlsx':\n",
    "        df = pd.read_excel(file, engine='openpyxl', skiprows=1)\n",
    "    elif file_extension == 'xls':\n",
    "        df = pd.read_excel(file, skiprows=1)\n",
    "    \n",
    "    dfs.append(df)\n",
    "\n",
    "visits = pd.concat(dfs)\n"
   ]
  },
  {
   "cell_type": "code",
   "execution_count": null,
   "metadata": {},
   "outputs": [],
   "source": [
    "visits.drop_duplicates(inplace=True)\n",
    "visits.columns = visits.columns.str.lower()"
   ]
  },
  {
   "cell_type": "code",
   "execution_count": null,
   "metadata": {},
   "outputs": [],
   "source": [
    "visits.to_csv(PATH.joinpath('bloomberg', 'berth_visits.csv'), index=False)"
   ]
  },
  {
   "cell_type": "code",
   "execution_count": null,
   "metadata": {},
   "outputs": [],
   "source": [
    "len(set(visits.vessel_imo).intersection(uninsured.imo))"
   ]
  },
  {
   "cell_type": "code",
   "execution_count": null,
   "metadata": {},
   "outputs": [],
   "source": [
    "visits.arrival_time = pd.to_datetime(visits.arrival_time, errors='coerce')"
   ]
  },
  {
   "cell_type": "code",
   "execution_count": null,
   "metadata": {},
   "outputs": [],
   "source": [
    "temp = pd.merge(visits,\n",
    "                uninsured,\n",
    "                left_on=['vessel_imo'],\n",
    "                right_on='imo',\n",
    "                how='left')\n",
    "\n",
    "temp = temp[(temp.imo.notna()) & (temp.arrival_time >= temp.start_date) & (temp.arrival_time <= temp.end_date)].copy().reset_index(drop=True)"
   ]
  },
  {
   "cell_type": "code",
   "execution_count": null,
   "metadata": {},
   "outputs": [],
   "source": [
    "len(temp)"
   ]
  },
  {
   "cell_type": "code",
   "execution_count": null,
   "metadata": {},
   "outputs": [],
   "source": [
    "temp.drop_duplicates(inplace=True)\n",
    "len(temp)"
   ]
  },
  {
   "cell_type": "code",
   "execution_count": null,
   "metadata": {},
   "outputs": [],
   "source": [
    "temp[temp.earliest_sanction_date.notna() & (temp.arrival_time >= temp.earliest_sanction_date)]"
   ]
  },
  {
   "cell_type": "markdown",
   "metadata": {},
   "source": [
    "## NL vessels"
   ]
  },
  {
   "cell_type": "code",
   "execution_count": null,
   "metadata": {},
   "outputs": [],
   "source": [
    "vessels = [9183271, 9277761, 9277773, 9319870, 9334296, 9387255]"
   ]
  },
  {
   "cell_type": "code",
   "execution_count": null,
   "metadata": {},
   "outputs": [],
   "source": [
    "visits[visits.vessel_imo.isin(vessels)]"
   ]
  },
  {
   "cell_type": "code",
   "execution_count": null,
   "metadata": {},
   "outputs": [],
   "source": []
  }
 ],
 "metadata": {
  "kernelspec": {
   "display_name": ".venv",
   "language": "python",
   "name": "python3"
  },
  "language_info": {
   "codemirror_mode": {
    "name": "ipython",
    "version": 3
   },
   "file_extension": ".py",
   "mimetype": "text/x-python",
   "name": "python",
   "nbconvert_exporter": "python",
   "pygments_lexer": "ipython3",
   "version": "3.9.20"
  }
 },
 "nbformat": 4,
 "nbformat_minor": 2
}
